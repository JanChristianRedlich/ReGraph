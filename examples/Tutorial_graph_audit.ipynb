{
 "cells": [
  {
   "cell_type": "markdown",
   "metadata": {},
   "source": [
    "# Audit trails for graph objects in ReGraph (aka versioning)\n",
    "\n",
    "ReGraph implements a framework for the version control (VC) of graph transformations\n",
    "\n",
    "The data structure `VersionedGraph` allows to store the history of transformations of a graph object and perform the following VC operations:\n",
    "\n",
    "- _Rewrite_: perform a rewriting of the object with a commit to the revision history\n",
    "- _Branch_: create a new branch (with a diverged version of the graph object)\n",
    "- _Merge branches_: merge branches\n",
    "- _Rollback_: rollback to a point in the history of transformations"
   ]
  },
  {
   "cell_type": "code",
   "execution_count": 1,
   "metadata": {
    "collapsed": true
   },
   "outputs": [],
   "source": [
    "from regraph import NXGraph\n",
    "from regraph.audit import VersionedGraph\n",
    "from regraph.rules import Rule\n",
    "from regraph import print_graph, plot_rule, plot_graph"
   ]
  },
  {
   "cell_type": "markdown",
   "metadata": {},
   "source": [
    "Create a graph and pass it to the `VersionedGraph` wrapper that will take care of the version control."
   ]
  },
  {
   "cell_type": "code",
   "execution_count": 2,
   "metadata": {
    "collapsed": true
   },
   "outputs": [],
   "source": [
    "graph_obj = NXGraph()\n",
    "g = VersionedGraph(graph_obj)"
   ]
  },
  {
   "cell_type": "markdown",
   "metadata": {},
   "source": [
    "Now let's create a rule that adds to the graph two nodes connected with an edge and apply it. If we want the changes to be commited to the version control we rewrite through the `rewrite` method of a `VersioneGraph` object."
   ]
  },
  {
   "cell_type": "code",
   "execution_count": 3,
   "metadata": {},
   "outputs": [
    {
     "name": "stderr",
     "output_type": "stream",
     "text": [
      "/home/eugenia/anaconda3/envs/kami/lib/python3.7/site-packages/matplotlib-3.0.3-py3.7-linux-x86_64.egg/matplotlib/cbook/__init__.py:424: MatplotlibDeprecationWarning: \n",
      "Passing one of 'on', 'true', 'off', 'false' as a boolean is deprecated; use an actual boolean (True/False) instead.\n",
      "  warn_deprecated(\"2.2\", \"Passing one of 'on', 'true', 'off', 'false' as a \"\n"
     ]
    },
    {
     "data": {
      "image/png": "[encoded data removed]",
      "text/plain": [
       "<Figure size 432x288 with 1 Axes>"
      ]
     },
     "metadata": {},
     "output_type": "display_data"
    },
    {
     "data": {
      "text/plain": [
       "{'a': array([0.33902285, 1.        ]), 'b': array([-0.33902285, -1.        ])}"
      ]
     },
     "execution_count": 3,
     "metadata": {},
     "output_type": "execute_result"
    }
   ],
   "source": [
    "rule = Rule.from_transform(NXGraph())\n",
    "rule.inject_add_node(\"a\")\n",
    "rule.inject_add_node(\"b\")\n",
    "rule.inject_add_edge(\"a\", \"b\")\n",
    "\n",
    "rhs_instance, _ = g.rewrite(rule, {}, message=\"Add a -> b\")\n",
    "plot_graph(g.graph)"
   ]
  },
  {
   "cell_type": "markdown",
   "metadata": {},
   "source": [
    "We create a new branch called \"branch\""
   ]
  },
  {
   "cell_type": "code",
   "execution_count": 4,
   "metadata": {
    "collapsed": true
   },
   "outputs": [],
   "source": [
    "branch_commit = g.branch(\"branch\")"
   ]
  },
  {
   "cell_type": "code",
   "execution_count": 5,
   "metadata": {},
   "outputs": [
    {
     "name": "stdout",
     "output_type": "stream",
     "text": [
      "Branches:  ['master', 'branch']\n",
      "Current branch 'branch'\n"
     ]
    }
   ],
   "source": [
    "print(\"Branches: \", g.branches())\n",
    "print(\"Current branch '{}'\".format(g.current_branch()))"
   ]
  },
  {
   "cell_type": "markdown",
   "metadata": {},
   "source": [
    "Apply a rule that clones the node 'b' to the current vesion of the graph (branch 'branch')"
   ]
  },
  {
   "cell_type": "code",
   "execution_count": 42,
   "metadata": {},
   "outputs": [
    {
     "name": "stderr",
     "output_type": "stream",
     "text": [
      "/home/eugenia/anaconda3/envs/kami/lib/python3.7/site-packages/matplotlib-3.0.3-py3.7-linux-x86_64.egg/matplotlib/cbook/__init__.py:424: MatplotlibDeprecationWarning: \n",
      "Passing one of 'on', 'true', 'off', 'false' as a boolean is deprecated; use an actual boolean (True/False) instead.\n",
      "  warn_deprecated(\"2.2\", \"Passing one of 'on', 'true', 'off', 'false' as a \"\n"
     ]
    },
    {
     "data": {
      "image/png": "[encoded data removed]",
      "text/plain": [
       "<Figure size 1008x216 with 3 Axes>"
      ]
     },
     "metadata": {},
     "output_type": "display_data"
    },
    {
     "data": {
      "image/png": "[encoded data removed]",
      "text/plain": [
       "<Figure size 432x288 with 1 Axes>"
      ]
     },
     "metadata": {},
     "output_type": "display_data"
    },
    {
     "data": {
      "text/plain": [
       "{'b': array([-0.49684359, -1.        ]),\n",
       " 'c': array([-0.27689119,  0.16339026]),\n",
       " 'a_a1': array([ 0.1433499 , -0.08449514]),\n",
       " 'b1': array([0.63038488, 0.92110488])}"
      ]
     },
     "execution_count": 42,
     "metadata": {},
     "output_type": "execute_result"
    }
   ],
   "source": [
    "pattern = NXGraph()\n",
    "pattern.add_node(\"b\")\n",
    "rule = Rule.from_transform(pattern)\n",
    "rule.inject_clone_node(\"b\")\n",
    "plot_rule(rule)\n",
    "\n",
    "rhs_instance, commit_id = g.rewrite(rule, {\"b\": rhs_instance[\"b\"]}, message=\"Clone b\")\n",
    "plot_graph(g.graph)"
   ]
  },
  {
   "cell_type": "markdown",
   "metadata": {},
   "source": [
    "The `rewrite` method of `VersionedGraph` returns the RHS instance of the applied and the id of the newly created commit corresponding to this rewrite."
   ]
  },
  {
   "cell_type": "code",
   "execution_count": 43,
   "metadata": {},
   "outputs": [
    {
     "name": "stdout",
     "output_type": "stream",
     "text": [
      "RHS instance {'b': 'b1', 'b1': 'b'}\n",
      "Commit ID:  afbab03b-2d7c-4363-a3c6-59c6032b9e5b\n"
     ]
    }
   ],
   "source": [
    "print(\"RHS instance\", rhs_instance)\n",
    "print(\"Commit ID: \", commit_id)"
   ]
  },
  {
   "cell_type": "markdown",
   "metadata": {},
   "source": [
    "Switch back to the 'master' branch"
   ]
  },
  {
   "cell_type": "code",
   "execution_count": 7,
   "metadata": {},
   "outputs": [
    {
     "name": "stdout",
     "output_type": "stream",
     "text": [
      "master\n"
     ]
    }
   ],
   "source": [
    "g.switch_branch(\"master\")\n",
    "print(g.current_branch())"
   ]
  },
  {
   "cell_type": "markdown",
   "metadata": {},
   "source": [
    "Apply a rule that adds a loop form 'a' to itself, a new node 'c' and connects it with 'a'"
   ]
  },
  {
   "cell_type": "code",
   "execution_count": 8,
   "metadata": {},
   "outputs": [
    {
     "data": {
      "image/png": "[encoded data removed]",
      "text/plain": [
       "<Figure size 432x288 with 1 Axes>"
      ]
     },
     "metadata": {},
     "output_type": "display_data"
    },
    {
     "data": {
      "text/plain": [
       "{'a': array([ 0.00064198, -0.27950696]),\n",
       " 'b': array([0.99935802, 0.36401774]),\n",
       " 'c': array([-1.        , -0.08451079])}"
      ]
     },
     "execution_count": 8,
     "metadata": {},
     "output_type": "execute_result"
    }
   ],
   "source": [
    "pattern = NXGraph()\n",
    "pattern.add_node(\"a\")\n",
    "rule = Rule.from_transform(pattern)\n",
    "rule.inject_add_node(\"c\")\n",
    "rule.inject_add_edge(\"c\", \"a\")\n",
    "rule.inject_add_edge(\"a\", \"a\")\n",
    "\n",
    "rhs_instance, _ = g.rewrite(rule, {\"a\": rhs_instance[\"a\"]}, message=\"Add c and c->a\")\n",
    "plot_graph(g.graph)"
   ]
  },
  {
   "cell_type": "markdown",
   "metadata": {},
   "source": [
    "Create a new branch 'dev'"
   ]
  },
  {
   "cell_type": "code",
   "execution_count": 9,
   "metadata": {
    "scrolled": true
   },
   "outputs": [
    {
     "data": {
      "text/plain": [
       "'06ef2284-e360-4733-87c6-dcae7602d3ef'"
      ]
     },
     "execution_count": 9,
     "metadata": {},
     "output_type": "execute_result"
    }
   ],
   "source": [
    "g.branch(\"dev\")"
   ]
  },
  {
   "cell_type": "markdown",
   "metadata": {},
   "source": [
    "In this branch remove an edge from 'c' to 'a' and merge two nodes together"
   ]
  },
  {
   "cell_type": "code",
   "execution_count": 10,
   "metadata": {},
   "outputs": [
    {
     "data": {
      "image/png": "[encoded data removed]",
      "text/plain": [
       "<Figure size 1008x216 with 3 Axes>"
      ]
     },
     "metadata": {},
     "output_type": "display_data"
    },
    {
     "data": {
      "image/png": "[encoded data removed]",
      "text/plain": [
       "<Figure size 432x288 with 1 Axes>"
      ]
     },
     "metadata": {},
     "output_type": "display_data"
    },
    {
     "data": {
      "text/plain": [
       "{'b': array([1.        , 0.26369224]),\n",
       " 'a_c': array([-1.        , -0.26369224])}"
      ]
     },
     "execution_count": 10,
     "metadata": {},
     "output_type": "execute_result"
    }
   ],
   "source": [
    "pattern = NXGraph()\n",
    "pattern.add_node(\"c\")\n",
    "pattern.add_node(\"a\")\n",
    "pattern.add_edge(\"c\", \"a\")\n",
    "rule = Rule.from_transform(pattern)\n",
    "rule.inject_remove_edge(\"c\", \"a\")\n",
    "rule.inject_merge_nodes([\"c\", \"a\"])\n",
    "plot_rule(rule)\n",
    "\n",
    "g.rewrite(rule, {\"a\": rhs_instance[\"a\"], \"c\": rhs_instance[\"c\"]}, message=\"Merge c and a\")\n",
    "plot_graph(g.graph)"
   ]
  },
  {
   "cell_type": "markdown",
   "metadata": {},
   "source": [
    "Switch back to the 'master' branch."
   ]
  },
  {
   "cell_type": "code",
   "execution_count": 11,
   "metadata": {
    "collapsed": true
   },
   "outputs": [],
   "source": [
    "g.switch_branch(\"master\")"
   ]
  },
  {
   "cell_type": "markdown",
   "metadata": {},
   "source": [
    "Apply a rule that clones a node 'a'"
   ]
  },
  {
   "cell_type": "code",
   "execution_count": 12,
   "metadata": {},
   "outputs": [
    {
     "data": {
      "image/png": "[encoded data removed]",
      "text/plain": [
       "<Figure size 432x288 with 1 Axes>"
      ]
     },
     "metadata": {},
     "output_type": "display_data"
    },
    {
     "data": {
      "text/plain": [
       "{'b': array([ 0.12810751, -1.        ]),\n",
       " 'c': array([-0.26627629,  0.79400809]),\n",
       " 'a': array([0.34258847, 0.06158105]),\n",
       " 'a1': array([-0.20441969,  0.14441086])}"
      ]
     },
     "execution_count": 12,
     "metadata": {},
     "output_type": "execute_result"
    }
   ],
   "source": [
    "pattern = NXGraph()\n",
    "pattern.add_node(\"a\")\n",
    "rule = Rule.from_transform(pattern)\n",
    "_, rhs_clone = rule.inject_clone_node(\"a\")\n",
    "rhs_instance, rollback_commit = g.rewrite(rule, {\"a\": rhs_instance[\"a\"]}, message=\"Clone a\")\n",
    "plot_graph(g.graph)"
   ]
  },
  {
   "cell_type": "markdown",
   "metadata": {},
   "source": [
    "Create a new branch 'test'"
   ]
  },
  {
   "cell_type": "code",
   "execution_count": 13,
   "metadata": {},
   "outputs": [
    {
     "data": {
      "text/plain": [
       "'fb18eb3d-e663-4f3a-ad11-2fbd03336f87'"
      ]
     },
     "execution_count": 13,
     "metadata": {},
     "output_type": "execute_result"
    }
   ],
   "source": [
    "g.branch(\"test\")"
   ]
  },
  {
   "cell_type": "markdown",
   "metadata": {},
   "source": [
    "In this branch apply the rule that adds a new node 'd' and connects it with an edge to one of the cloned 'a' nodes"
   ]
  },
  {
   "cell_type": "code",
   "execution_count": 14,
   "metadata": {},
   "outputs": [
    {
     "data": {
      "image/png": "[encoded data removed]",
      "text/plain": [
       "<Figure size 432x288 with 1 Axes>"
      ]
     },
     "metadata": {},
     "output_type": "display_data"
    },
    {
     "data": {
      "text/plain": [
       "{'b': array([0.32183553, 0.59077041]),\n",
       " 'c': array([-0.47327648,  0.15392861]),\n",
       " 'a': array([-0.01921899,  0.40036811]),\n",
       " 'a1': array([ 0.02119972, -0.14506712]),\n",
       " 'd': array([ 0.14946022, -1.        ])}"
      ]
     },
     "execution_count": 14,
     "metadata": {},
     "output_type": "execute_result"
    }
   ],
   "source": [
    "pattern = NXGraph()\n",
    "pattern.add_node(\"a\")\n",
    "rule = Rule.from_transform(pattern)\n",
    "rule.inject_add_node(\"d\")\n",
    "rule.inject_add_edge(\"a\", \"d\")\n",
    "g.rewrite(rule, {\"a\": rhs_instance[rhs_clone]}, message=\"Add d -> clone of a\")\n",
    "plot_graph(g.graph)"
   ]
  },
  {
   "cell_type": "markdown",
   "metadata": {},
   "source": [
    "Switch back to 'master'"
   ]
  },
  {
   "cell_type": "code",
   "execution_count": 15,
   "metadata": {
    "collapsed": true
   },
   "outputs": [],
   "source": [
    "g.switch_branch(\"master\")"
   ]
  },
  {
   "cell_type": "markdown",
   "metadata": {},
   "source": [
    "Remove a node 'a'"
   ]
  },
  {
   "cell_type": "code",
   "execution_count": 16,
   "metadata": {},
   "outputs": [
    {
     "data": {
      "image/png": "[encoded data removed]",
      "text/plain": [
       "<Figure size 432x288 with 1 Axes>"
      ]
     },
     "metadata": {},
     "output_type": "display_data"
    },
    {
     "data": {
      "text/plain": [
       "{'b': array([-0.08485235,  1.        ]),\n",
       " 'c': array([ 0.36208559, -0.8806661 ]),\n",
       " 'a1': array([-0.27723325, -0.1193339 ])}"
      ]
     },
     "execution_count": 16,
     "metadata": {},
     "output_type": "execute_result"
    }
   ],
   "source": [
    "pattern = NXGraph()\n",
    "pattern.add_node(\"a\")\n",
    "rule = Rule.from_transform(pattern)\n",
    "rule.inject_remove_node(\"a\")\n",
    "rhs_instance, _ = g.rewrite(rule, {\"a\": rhs_instance[\"a\"]}, message=\"Remove a\")\n",
    "plot_graph(g.graph)"
   ]
  },
  {
   "cell_type": "markdown",
   "metadata": {},
   "source": [
    "Merge the branch 'dev' into 'master'"
   ]
  },
  {
   "cell_type": "code",
   "execution_count": 17,
   "metadata": {},
   "outputs": [
    {
     "data": {
      "text/plain": [
       "'7787c77f-c44d-4419-9416-155b139b6e9d'"
      ]
     },
     "execution_count": 17,
     "metadata": {},
     "output_type": "execute_result"
    }
   ],
   "source": [
    "g.merge_with(\"dev\")"
   ]
  },
  {
   "cell_type": "code",
   "execution_count": 18,
   "metadata": {},
   "outputs": [
    {
     "data": {
      "image/png": "[encoded data removed]",
      "text/plain": [
       "<Figure size 432x288 with 1 Axes>"
      ]
     },
     "metadata": {},
     "output_type": "display_data"
    },
    {
     "data": {
      "text/plain": [
       "{'b': array([ 1.        , -0.01537886]),\n",
       " 'a1_c': array([-1.        ,  0.01537886])}"
      ]
     },
     "execution_count": 18,
     "metadata": {},
     "output_type": "execute_result"
    }
   ],
   "source": [
    "plot_graph(g.graph)"
   ]
  },
  {
   "cell_type": "markdown",
   "metadata": {},
   "source": [
    "Merge 'test' into 'master'"
   ]
  },
  {
   "cell_type": "code",
   "execution_count": 19,
   "metadata": {},
   "outputs": [
    {
     "data": {
      "text/plain": [
       "'d86ac7e8-8868-435d-a108-805341097170'"
      ]
     },
     "execution_count": 19,
     "metadata": {},
     "output_type": "execute_result"
    }
   ],
   "source": [
    "g.merge_with(\"test\")"
   ]
  },
  {
   "cell_type": "code",
   "execution_count": 20,
   "metadata": {},
   "outputs": [
    {
     "data": {
      "image/png": "[encoded data removed]",
      "text/plain": [
       "<Figure size 432x288 with 1 Axes>"
      ]
     },
     "metadata": {},
     "output_type": "display_data"
    },
    {
     "data": {
      "text/plain": [
       "{'b': array([0.65118029, 0.57589966]),\n",
       " 'a1_c': array([-0.09686575,  0.00985688]),\n",
       " 'd': array([-1.        , -0.37030635]),\n",
       " 'a_1': array([ 0.44568545, -0.21545019])}"
      ]
     },
     "execution_count": 20,
     "metadata": {},
     "output_type": "execute_result"
    }
   ],
   "source": [
    "plot_graph(g.graph)"
   ]
  },
  {
   "cell_type": "markdown",
   "metadata": {},
   "source": [
    "We can inspect the version control object in more details and look at its attribute `_revision_graph`, whose nodes represent the commits and whose edges represent graph deltas between different commits (basically, rewriting rules that constitute commits). Here we can see that on the nodes of the revision graph are stored branch names to which commits belong and user specified commit messages."
   ]
  },
  {
   "cell_type": "code",
   "execution_count": 29,
   "metadata": {
    "scrolled": true
   },
   "outputs": [
    {
     "name": "stdout",
     "output_type": "stream",
     "text": [
      "Node ID:  0f29d379-e76a-4433-bcc2-97082776b4b6\n",
      "Attributes: \n",
      "\t {'branch': 'master', 'message': 'Initial commit', 'time': datetime.datetime(2020, 1, 24, 14, 13, 3, 731569)}\n",
      "Node ID:  499f6881-ce03-4463-9000-8d4ba714599b\n",
      "Attributes: \n",
      "\t {'branch': 'master', 'time': datetime.datetime(2020, 1, 24, 14, 13, 17, 508136), 'message': 'Add a -> b'}\n",
      "Node ID:  a98d7050-be6c-444e-9e1e-c02f40a6efc4\n",
      "Attributes: \n",
      "\t {'branch': 'branch', 'time': datetime.datetime(2020, 1, 24, 14, 13, 21, 678884), 'message': \"Created branch 'branch'\"}\n",
      "Node ID:  ee04e1dd-e276-4023-8fd4-299d698f26a1\n",
      "Attributes: \n",
      "\t {'branch': 'branch', 'time': datetime.datetime(2020, 1, 24, 14, 13, 26, 471732), 'message': 'Clone b'}\n",
      "Node ID:  cf32caf3-9c36-4c3b-9119-0472b06c09fc\n",
      "Attributes: \n",
      "\t {'branch': 'master', 'time': datetime.datetime(2020, 1, 24, 14, 13, 35, 370027), 'message': 'Add c and c->a'}\n",
      "Node ID:  06ef2284-e360-4733-87c6-dcae7602d3ef\n",
      "Attributes: \n",
      "\t {'branch': 'dev', 'time': datetime.datetime(2020, 1, 24, 14, 13, 37, 486220), 'message': \"Created branch 'dev'\"}\n",
      "Node ID:  acd5c76f-98b3-40ab-9df9-8e657483f246\n",
      "Attributes: \n",
      "\t {'branch': 'dev', 'time': datetime.datetime(2020, 1, 24, 14, 13, 39, 841916), 'message': 'Merge c and a'}\n",
      "Node ID:  a7d13243-df91-42c5-a38c-16240fa0ae2c\n",
      "Attributes: \n",
      "\t {'branch': 'master', 'time': datetime.datetime(2020, 1, 24, 14, 13, 42, 991329), 'message': 'Clone a'}\n",
      "Node ID:  fb18eb3d-e663-4f3a-ad11-2fbd03336f87\n",
      "Attributes: \n",
      "\t {'branch': 'test', 'time': datetime.datetime(2020, 1, 24, 14, 13, 44, 766558), 'message': \"Created branch 'test'\"}\n",
      "Node ID:  d79e9972-5d9d-4dc6-9ccb-60a15e34ff64\n",
      "Attributes: \n",
      "\t {'branch': 'test', 'time': datetime.datetime(2020, 1, 24, 14, 13, 46, 703745), 'message': 'Add d -> clone of a'}\n",
      "Node ID:  5fc6208f-03e2-4134-bc36-1daac67a8359\n",
      "Attributes: \n",
      "\t {'branch': 'master', 'time': datetime.datetime(2020, 1, 24, 14, 13, 49, 858790), 'message': 'Remove a'}\n",
      "Node ID:  7787c77f-c44d-4419-9416-155b139b6e9d\n",
      "Attributes: \n",
      "\t {'branch': 'master', 'time': datetime.datetime(2020, 1, 24, 14, 13, 51, 439732), 'message': \"Merged branch 'dev' into 'master'\"}\n",
      "Node ID:  d86ac7e8-8868-435d-a108-805341097170\n",
      "Attributes: \n",
      "\t {'branch': 'master', 'time': datetime.datetime(2020, 1, 24, 14, 13, 53, 726947), 'message': \"Merged branch 'test' into 'master'\"}\n"
     ]
    }
   ],
   "source": [
    "import json\n",
    "for n, attrs in g._revision_graph.nodes(data=True):\n",
    "    print(\"Node ID: \", n)\n",
    "    print(\"Attributes: \")\n",
    "    print(\"\\t\", attrs)"
   ]
  },
  {
   "cell_type": "code",
   "execution_count": 30,
   "metadata": {},
   "outputs": [
    {
     "name": "stdout",
     "output_type": "stream",
     "text": [
      "2020-01-24 14:13:03.731569 0f29d379-e76a-4433-bcc2-97082776b4b6 master Initial commit\n",
      "2020-01-24 14:13:17.508136 499f6881-ce03-4463-9000-8d4ba714599b master Add a -> b\n",
      "2020-01-24 14:13:21.678884 a98d7050-be6c-444e-9e1e-c02f40a6efc4 branch Created branch 'branch'\n",
      "2020-01-24 14:13:26.471732 ee04e1dd-e276-4023-8fd4-299d698f26a1 branch Clone b\n",
      "2020-01-24 14:13:35.370027 cf32caf3-9c36-4c3b-9119-0472b06c09fc master Add c and c->a\n",
      "2020-01-24 14:13:37.486220 06ef2284-e360-4733-87c6-dcae7602d3ef dev Created branch 'dev'\n",
      "2020-01-24 14:13:39.841916 acd5c76f-98b3-40ab-9df9-8e657483f246 dev Merge c and a\n",
      "2020-01-24 14:13:42.991329 a7d13243-df91-42c5-a38c-16240fa0ae2c master Clone a\n",
      "2020-01-24 14:13:44.766558 fb18eb3d-e663-4f3a-ad11-2fbd03336f87 test Created branch 'test'\n",
      "2020-01-24 14:13:46.703745 d79e9972-5d9d-4dc6-9ccb-60a15e34ff64 test Add d -> clone of a\n",
      "2020-01-24 14:13:49.858790 5fc6208f-03e2-4134-bc36-1daac67a8359 master Remove a\n",
      "2020-01-24 14:13:51.439732 7787c77f-c44d-4419-9416-155b139b6e9d master Merged branch 'dev' into 'master'\n",
      "2020-01-24 14:13:53.726947 d86ac7e8-8868-435d-a108-805341097170 master Merged branch 'test' into 'master'\n"
     ]
    }
   ],
   "source": [
    "# Pretty-print the history\n",
    "g.print_history()"
   ]
  },
  {
   "cell_type": "markdown",
   "metadata": {},
   "source": [
    "Now we can rollback to some previous commit (commit where we first cloned the node 'a')"
   ]
  },
  {
   "cell_type": "code",
   "execution_count": 31,
   "metadata": {
    "scrolled": false
   },
   "outputs": [
    {
     "name": "stdout",
     "output_type": "stream",
     "text": [
      "Created the new head for 'dev'\n",
      "Created the new head for 'master'\n"
     ]
    }
   ],
   "source": [
    "g.rollback(rollback_commit)"
   ]
  },
  {
   "cell_type": "code",
   "execution_count": 32,
   "metadata": {},
   "outputs": [
    {
     "name": "stdout",
     "output_type": "stream",
     "text": [
      "Branches:  ['master', 'branch', 'dev']\n",
      "Current branch 'master'\n",
      "Updated revision graph:\n",
      "2020-01-24 14:13:03.731569 0f29d379-e76a-4433-bcc2-97082776b4b6 master Initial commit\n",
      "2020-01-24 14:13:17.508136 499f6881-ce03-4463-9000-8d4ba714599b master Add a -> b\n",
      "2020-01-24 14:13:21.678884 a98d7050-be6c-444e-9e1e-c02f40a6efc4 branch Created branch 'branch'\n",
      "2020-01-24 14:13:26.471732 ee04e1dd-e276-4023-8fd4-299d698f26a1 branch Clone b\n",
      "2020-01-24 14:13:35.370027 cf32caf3-9c36-4c3b-9119-0472b06c09fc master Add c and c->a\n",
      "2020-01-24 14:13:37.486220 06ef2284-e360-4733-87c6-dcae7602d3ef dev Created branch 'dev'\n",
      "2020-01-24 14:13:39.841916 acd5c76f-98b3-40ab-9df9-8e657483f246 dev Merge c and a\n",
      "2020-01-24 14:13:42.991329 a7d13243-df91-42c5-a38c-16240fa0ae2c master Clone a\n",
      "Current graph object\n"
     ]
    },
    {
     "name": "stderr",
     "output_type": "stream",
     "text": [
      "/home/eugenia/anaconda3/envs/kami/lib/python3.7/site-packages/matplotlib-3.0.3-py3.7-linux-x86_64.egg/matplotlib/cbook/__init__.py:424: MatplotlibDeprecationWarning: \n",
      "Passing one of 'on', 'true', 'off', 'false' as a boolean is deprecated; use an actual boolean (True/False) instead.\n",
      "  warn_deprecated(\"2.2\", \"Passing one of 'on', 'true', 'off', 'false' as a \"\n"
     ]
    },
    {
     "data": {
      "image/png": "[encoded data removed]",
      "text/plain": [
       "<Figure size 432x288 with 1 Axes>"
      ]
     },
     "metadata": {},
     "output_type": "display_data"
    },
    {
     "name": "stdout",
     "output_type": "stream",
     "text": [
      "\n",
      "Nodes:\n",
      "\n",
      "b  :  {}\n",
      "a1  :  {}\n",
      "a  :  {}\n",
      "c  :  {}\n",
      "\n",
      "Edges:\n",
      "\n",
      "a1 -> a1  :  {}\n",
      "a1 -> b  :  {}\n",
      "a1 -> a  :  {}\n",
      "a -> a  :  {}\n",
      "a -> a1  :  {}\n",
      "a -> b  :  {}\n",
      "c -> a  :  {}\n",
      "c -> a1  :  {}\n"
     ]
    }
   ],
   "source": [
    "print(\"Branches: \", g.branches())\n",
    "print(\"Current branch '{}'\".format(g.current_branch()))\n",
    "print(\"Updated revision graph:\")\n",
    "g.print_history()\n",
    "print(\"Current graph object\")\n",
    "plot_graph(g.graph)\n",
    "print_graph(g.graph)"
   ]
  },
  {
   "cell_type": "code",
   "execution_count": 33,
   "metadata": {
    "collapsed": true
   },
   "outputs": [],
   "source": [
    "g.switch_branch(\"branch\")"
   ]
  },
  {
   "cell_type": "code",
   "execution_count": 34,
   "metadata": {},
   "outputs": [
    {
     "name": "stdout",
     "output_type": "stream",
     "text": [
      "Created the new head for 'branch'\n"
     ]
    }
   ],
   "source": [
    "g.rollback(branch_commit)"
   ]
  },
  {
   "cell_type": "code",
   "execution_count": 35,
   "metadata": {},
   "outputs": [
    {
     "name": "stdout",
     "output_type": "stream",
     "text": [
      "2020-01-24 14:13:03.731569 0f29d379-e76a-4433-bcc2-97082776b4b6 master Initial commit\n",
      "2020-01-24 14:13:17.508136 499f6881-ce03-4463-9000-8d4ba714599b master Add a -> b\n",
      "2020-01-24 14:13:21.678884 a98d7050-be6c-444e-9e1e-c02f40a6efc4 branch Created branch 'branch'\n",
      "2020-01-24 14:13:35.370027 cf32caf3-9c36-4c3b-9119-0472b06c09fc master Add c and c->a\n",
      "2020-01-24 14:13:37.486220 06ef2284-e360-4733-87c6-dcae7602d3ef dev Created branch 'dev'\n",
      "2020-01-24 14:13:39.841916 acd5c76f-98b3-40ab-9df9-8e657483f246 dev Merge c and a\n",
      "2020-01-24 14:13:42.991329 a7d13243-df91-42c5-a38c-16240fa0ae2c master Clone a\n"
     ]
    }
   ],
   "source": [
    "g.print_history()"
   ]
  },
  {
   "cell_type": "code",
   "execution_count": 36,
   "metadata": {},
   "outputs": [
    {
     "name": "stdout",
     "output_type": "stream",
     "text": [
      "{'master': 'a7d13243-df91-42c5-a38c-16240fa0ae2c', 'branch': 'a98d7050-be6c-444e-9e1e-c02f40a6efc4', 'dev': 'acd5c76f-98b3-40ab-9df9-8e657483f246'}\n"
     ]
    },
    {
     "data": {
      "image/png": "[encoded data removed]",
      "text/plain": [
       "<Figure size 432x288 with 1 Axes>"
      ]
     },
     "metadata": {},
     "output_type": "display_data"
    },
    {
     "data": {
      "text/plain": [
       "{'a': array([ 1.        , -0.18812734]),\n",
       " 'b': array([-1.        ,  0.18812734])}"
      ]
     },
     "execution_count": 36,
     "metadata": {},
     "output_type": "execute_result"
    }
   ],
   "source": [
    "print(g._heads)\n",
    "plot_graph(g.graph)"
   ]
  },
  {
   "cell_type": "code",
   "execution_count": 37,
   "metadata": {
    "collapsed": true
   },
   "outputs": [],
   "source": [
    "g.switch_branch(\"master\")"
   ]
  },
  {
   "cell_type": "code",
   "execution_count": 38,
   "metadata": {},
   "outputs": [
    {
     "data": {
      "image/png": "[encoded data removed]",
      "text/plain": [
       "<Figure size 432x288 with 1 Axes>"
      ]
     },
     "metadata": {},
     "output_type": "display_data"
    },
    {
     "data": {
      "text/plain": [
       "{'a': array([ 0.17794836, -0.25132721]),\n",
       " 'b': array([0.66576723, 1.        ]),\n",
       " 'a1': array([-0.42251654,  0.22978428]),\n",
       " 'c': array([-0.42119906, -0.97845708])}"
      ]
     },
     "execution_count": 38,
     "metadata": {},
     "output_type": "execute_result"
    }
   ],
   "source": [
    "plot_graph(g.graph)"
   ]
  },
  {
   "cell_type": "code",
   "execution_count": 39,
   "metadata": {},
   "outputs": [
    {
     "data": {
      "text/plain": [
       "'54e47a90-bd19-4076-9925-340ec8adddf4'"
      ]
     },
     "execution_count": 39,
     "metadata": {},
     "output_type": "execute_result"
    }
   ],
   "source": [
    "g.merge_with(\"branch\")"
   ]
  },
  {
   "cell_type": "code",
   "execution_count": 40,
   "metadata": {},
   "outputs": [
    {
     "data": {
      "image/png": "[encoded data removed]",
      "text/plain": [
       "<Figure size 432x288 with 1 Axes>"
      ]
     },
     "metadata": {},
     "output_type": "display_data"
    },
    {
     "data": {
      "text/plain": [
       "{'b': array([-0.68410174, -1.        ]),\n",
       " 'c': array([0.95987946, 0.60037515]),\n",
       " 'a_a1': array([-0.27577771,  0.39962485])}"
      ]
     },
     "execution_count": 40,
     "metadata": {},
     "output_type": "execute_result"
    }
   ],
   "source": [
    "plot_graph(g.graph)"
   ]
  }
 ],
 "metadata": {
  "kernelspec": {
   "display_name": "Python (kami)",
   "language": "python",
   "name": "kami"
  },
  "language_info": {
   "codemirror_mode": {
    "name": "ipython",
    "version": 3
   },
   "file_extension": ".py",
   "mimetype": "text/x-python",
   "name": "python",
   "nbconvert_exporter": "python",
   "pygments_lexer": "ipython3",
   "version": "3.7.3"
  }
 },
 "nbformat": 4,
 "nbformat_minor": 2
}
