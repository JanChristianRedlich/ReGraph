{
 "cells": [
  {
   "cell_type": "code",
   "execution_count": 1,
   "metadata": {},
   "outputs": [],
   "source": [
    "import networkx as nx\n",
    "\n",
    "from regraph.audit import VersionedGraph\n",
    "from regraph.rules import Rule\n",
    "from regraph import print_graph, plot_rule, plot_graph"
   ]
  },
  {
   "cell_type": "code",
   "execution_count": 2,
   "metadata": {},
   "outputs": [],
   "source": [
    "g = VersionedGraph(nx.DiGraph())"
   ]
  },
  {
   "cell_type": "code",
   "execution_count": 3,
   "metadata": {
    "collapsed": true
   },
   "outputs": [],
   "source": [
    "rule = Rule.from_transform(nx.DiGraph())\n",
    "rule.inject_add_node(\"a\")\n",
    "rule.inject_add_node(\"b\")\n",
    "rule.inject_add_edge(\"a\", \"b\")"
   ]
  },
  {
   "cell_type": "code",
   "execution_count": 4,
   "metadata": {},
   "outputs": [
    {
     "name": "stderr",
     "output_type": "stream",
     "text": [
      "/home/eugenia/anaconda3/envs/kami/lib/python3.7/site-packages/matplotlib-3.0.3-py3.7-linux-x86_64.egg/matplotlib/cbook/__init__.py:424: MatplotlibDeprecationWarning: \n",
      "Passing one of 'on', 'true', 'off', 'false' as a boolean is deprecated; use an actual boolean (True/False) instead.\n",
      "  warn_deprecated(\"2.2\", \"Passing one of 'on', 'true', 'off', 'false' as a \"\n"
     ]
    },
    {
     "data": {
      "image/png": "[encoded data removed]",
      "text/plain": [
       "<Figure size 432x288 with 1 Axes>"
      ]
     },
     "metadata": {},
     "output_type": "display_data"
    },
    {
     "data": {
      "text/plain": [
       "{'a': array([0.56927227, 1.        ]), 'b': array([-0.56927227, -1.        ])}"
      ]
     },
     "execution_count": 4,
     "metadata": {},
     "output_type": "execute_result"
    }
   ],
   "source": [
    "rhs_instance, _ = g.rewrite(rule, {}, message=\"Add a -> b\")\n",
    "plot_graph(g.graph)"
   ]
  },
  {
   "cell_type": "code",
   "execution_count": 5,
   "metadata": {},
   "outputs": [],
   "source": [
    "g.branch(\"branch\")"
   ]
  },
  {
   "cell_type": "code",
   "execution_count": 6,
   "metadata": {},
   "outputs": [
    {
     "data": {
      "text/plain": [
       "('b1', 'b1')"
      ]
     },
     "execution_count": 6,
     "metadata": {},
     "output_type": "execute_result"
    }
   ],
   "source": [
    "pattern = nx.DiGraph()\n",
    "pattern.add_node(\"b\")\n",
    "rule = Rule.from_transform(pattern)\n",
    "rule.inject_clone_node(\"b\")"
   ]
  },
  {
   "cell_type": "code",
   "execution_count": 7,
   "metadata": {},
   "outputs": [
    {
     "data": {
      "image/png": "[encoded data removed]",
      "text/plain": [
       "<Figure size 432x288 with 1 Axes>"
      ]
     },
     "metadata": {},
     "output_type": "display_data"
    },
    {
     "data": {
      "text/plain": [
       "{'a': array([ 1.08801130e-06, -1.51350221e-06]),\n",
       " 'b': array([0.99999891, 0.71887034]),\n",
       " 'b1': array([-1.        , -0.71886883])}"
      ]
     },
     "execution_count": 7,
     "metadata": {},
     "output_type": "execute_result"
    }
   ],
   "source": [
    "g.rewrite(rule, {\"b\": rhs_instance[\"b\"]}, message=\"Clone b\")\n",
    "plot_graph(g.graph)"
   ]
  },
  {
   "cell_type": "code",
   "execution_count": 8,
   "metadata": {
    "collapsed": true
   },
   "outputs": [],
   "source": [
    "g.switch_branch(\"master\")"
   ]
  },
  {
   "cell_type": "code",
   "execution_count": 9,
   "metadata": {
    "collapsed": true
   },
   "outputs": [],
   "source": [
    "pattern = nx.DiGraph()\n",
    "pattern.add_node(\"a\")\n",
    "rule = Rule.from_transform(pattern)\n",
    "rule.inject_add_node(\"c\")\n",
    "rule.inject_add_edge(\"c\", \"a\")\n",
    "rule.inject_add_edge(\"a\", \"a\")"
   ]
  },
  {
   "cell_type": "code",
   "execution_count": 10,
   "metadata": {},
   "outputs": [
    {
     "data": {
      "image/png": "[encoded data removed]",
      "text/plain": [
       "<Figure size 432x288 with 1 Axes>"
      ]
     },
     "metadata": {},
     "output_type": "display_data"
    },
    {
     "data": {
      "text/plain": [
       "{'a': array([0.52211687, 0.87151422]),\n",
       " 'b': array([-1.        ,  0.08623502]),\n",
       " 'c': array([ 0.47788313, -0.95774923])}"
      ]
     },
     "execution_count": 10,
     "metadata": {},
     "output_type": "execute_result"
    }
   ],
   "source": [
    "rhs_instance, _ = g.rewrite(rule, {\"a\": rhs_instance[\"a\"]}, message=\"Add c and c->a\")\n",
    "plot_graph(g.graph)"
   ]
  },
  {
   "cell_type": "code",
   "execution_count": 11,
   "metadata": {},
   "outputs": [],
   "source": [
    "g.branch(\"dev\")"
   ]
  },
  {
   "cell_type": "code",
   "execution_count": 12,
   "metadata": {},
   "outputs": [
    {
     "data": {
      "text/plain": [
       "'a_c'"
      ]
     },
     "execution_count": 12,
     "metadata": {},
     "output_type": "execute_result"
    }
   ],
   "source": [
    "pattern = nx.DiGraph()\n",
    "pattern.add_node(\"c\")\n",
    "pattern.add_node(\"a\")\n",
    "pattern.add_edge(\"c\", \"a\")\n",
    "rule = Rule.from_transform(pattern)\n",
    "rule.inject_remove_edge(\"c\", \"a\")\n",
    "rule.inject_merge_nodes([\"c\", \"a\"])"
   ]
  },
  {
   "cell_type": "code",
   "execution_count": 13,
   "metadata": {},
   "outputs": [
    {
     "data": {
      "image/png": "[encoded data removed]",
      "text/plain": [
       "<Figure size 432x288 with 1 Axes>"
      ]
     },
     "metadata": {},
     "output_type": "display_data"
    },
    {
     "data": {
      "text/plain": [
       "{'b': array([-1.        , -0.80150673]),\n",
       " 'a_c': array([1.        , 0.80150673])}"
      ]
     },
     "execution_count": 13,
     "metadata": {},
     "output_type": "execute_result"
    }
   ],
   "source": [
    "g.rewrite(rule, {\"a\": rhs_instance[\"a\"], \"c\": rhs_instance[\"c\"]}, message=\"Merge c and a\")\n",
    "plot_graph(g.graph)"
   ]
  },
  {
   "cell_type": "code",
   "execution_count": 14,
   "metadata": {},
   "outputs": [
    {
     "data": {
      "text/plain": [
       "['master', 'branch', 'dev']"
      ]
     },
     "execution_count": 14,
     "metadata": {},
     "output_type": "execute_result"
    }
   ],
   "source": [
    "g.branches()"
   ]
  },
  {
   "cell_type": "code",
   "execution_count": 15,
   "metadata": {},
   "outputs": [],
   "source": [
    "g.switch_branch(\"master\")"
   ]
  },
  {
   "cell_type": "code",
   "execution_count": 16,
   "metadata": {},
   "outputs": [
    {
     "data": {
      "text/plain": [
       "'master'"
      ]
     },
     "execution_count": 16,
     "metadata": {},
     "output_type": "execute_result"
    }
   ],
   "source": [
    "g.current_branch()"
   ]
  },
  {
   "cell_type": "code",
   "execution_count": 17,
   "metadata": {},
   "outputs": [],
   "source": [
    "pattern = nx.DiGraph()\n",
    "pattern.add_node(\"a\")\n",
    "rule = Rule.from_transform(pattern)\n",
    "_, rhs_clone = rule.inject_clone_node(\"a\")"
   ]
  },
  {
   "cell_type": "code",
   "execution_count": 18,
   "metadata": {},
   "outputs": [
    {
     "data": {
      "image/png": "[encoded data removed]",
      "text/plain": [
       "<Figure size 432x288 with 1 Axes>"
      ]
     },
     "metadata": {},
     "output_type": "display_data"
    },
    {
     "data": {
      "text/plain": [
       "{'b': array([-0.92177325,  0.92084113]),\n",
       " 'c': array([ 1.        , -0.97351175]),\n",
       " 'a': array([0.472871  , 0.58553049]),\n",
       " 'a1': array([-0.55109775, -0.53285986])}"
      ]
     },
     "execution_count": 18,
     "metadata": {},
     "output_type": "execute_result"
    }
   ],
   "source": [
    "rhs_instance, rollback_commit = g.rewrite(rule, {\"a\": rhs_instance[\"a\"]}, message=\"Clone a\")\n",
    "plot_graph(g.graph)"
   ]
  },
  {
   "cell_type": "code",
   "execution_count": 19,
   "metadata": {},
   "outputs": [],
   "source": [
    "g.branch(\"test\")"
   ]
  },
  {
   "cell_type": "code",
   "execution_count": 20,
   "metadata": {},
   "outputs": [
    {
     "name": "stdout",
     "output_type": "stream",
     "text": [
      "Preserved part\n",
      "[]\n",
      "[]\n",
      "Left hand side\n",
      "[]\n",
      "[]\n",
      "P->L Homomorphism : {}\n",
      "Right hand side\n",
      "[]\n",
      "[]\n",
      "P->R Homomorphism : {}\n",
      "\n"
     ]
    }
   ],
   "source": [
    "print(g._deltas[\"master\"][\"rule\"])"
   ]
  },
  {
   "cell_type": "code",
   "execution_count": 21,
   "metadata": {},
   "outputs": [],
   "source": [
    "pattern = nx.DiGraph()\n",
    "pattern.add_node(\"a\")\n",
    "rule = Rule.from_transform(pattern)\n",
    "rule.inject_add_node(\"d\")\n",
    "rule.inject_add_edge(\"a\", \"d\")"
   ]
  },
  {
   "cell_type": "code",
   "execution_count": 22,
   "metadata": {},
   "outputs": [
    {
     "data": {
      "image/png": "[encoded data removed]",
      "text/plain": [
       "<Figure size 432x288 with 1 Axes>"
      ]
     },
     "metadata": {},
     "output_type": "display_data"
    },
    {
     "data": {
      "text/plain": [
       "{'b': array([1.        , 0.27409751]),\n",
       " 'c': array([-0.20567315, -0.87889202]),\n",
       " 'a': array([-0.23064971,  0.03578927]),\n",
       " 'a1': array([ 0.07773077, -0.17213524]),\n",
       " 'd': array([-0.64140791,  0.74114048])}"
      ]
     },
     "execution_count": 22,
     "metadata": {},
     "output_type": "execute_result"
    }
   ],
   "source": [
    "g.rewrite(rule, {\"a\": rhs_instance[rhs_clone]}, message=\"Add d -> clone of a\")\n",
    "plot_graph(g.graph)"
   ]
  },
  {
   "cell_type": "code",
   "execution_count": 23,
   "metadata": {},
   "outputs": [
    {
     "name": "stdout",
     "output_type": "stream",
     "text": [
      "Preserved part\n",
      "['a']\n",
      "[]\n",
      "Left hand side\n",
      "['a', 'd']\n",
      "[('a', 'd')]\n",
      "P->L Homomorphism : {'a': 'a'}\n",
      "Right hand side\n",
      "['a']\n",
      "[]\n",
      "P->R Homomorphism : {'a': 'a'}\n",
      "\n"
     ]
    }
   ],
   "source": [
    "print(g._deltas[\"master\"][\"rule\"])"
   ]
  },
  {
   "cell_type": "code",
   "execution_count": 24,
   "metadata": {
    "collapsed": true
   },
   "outputs": [],
   "source": [
    "g.switch_branch(\"master\")"
   ]
  },
  {
   "cell_type": "code",
   "execution_count": 25,
   "metadata": {},
   "outputs": [
    {
     "name": "stdout",
     "output_type": "stream",
     "text": [
      "Preserved part\n",
      "['a']\n",
      "[]\n",
      "Left hand side\n",
      "['a']\n",
      "[]\n",
      "P->L Homomorphism : {'a': 'a'}\n",
      "Right hand side\n",
      "['a', 'd']\n",
      "[('a', 'd')]\n",
      "P->R Homomorphism : {'a': 'a'}\n",
      "\n"
     ]
    }
   ],
   "source": [
    "print(g._deltas[\"test\"][\"rule\"])"
   ]
  },
  {
   "cell_type": "code",
   "execution_count": 26,
   "metadata": {
    "collapsed": true
   },
   "outputs": [],
   "source": [
    "pattern = nx.DiGraph()\n",
    "pattern.add_node(\"a\")\n",
    "rule = Rule.from_transform(pattern)\n",
    "rule.inject_remove_node(\"a\")"
   ]
  },
  {
   "cell_type": "code",
   "execution_count": 27,
   "metadata": {},
   "outputs": [
    {
     "data": {
      "image/png": "[encoded data removed]",
      "text/plain": [
       "<Figure size 432x288 with 1 Axes>"
      ]
     },
     "metadata": {},
     "output_type": "display_data"
    },
    {
     "data": {
      "text/plain": [
       "{'b': array([0.76594122, 0.92457033]),\n",
       " 'c': array([-1.        , -0.57299008]),\n",
       " 'a1': array([ 0.23405878, -0.35158025])}"
      ]
     },
     "execution_count": 27,
     "metadata": {},
     "output_type": "execute_result"
    }
   ],
   "source": [
    "rhs_instance, _ = g.rewrite(rule, {\"a\": rhs_instance[\"a\"]}, message=\"Remove a\")\n",
    "plot_graph(g.graph)"
   ]
  },
  {
   "cell_type": "code",
   "execution_count": 28,
   "metadata": {},
   "outputs": [
    {
     "name": "stdout",
     "output_type": "stream",
     "text": [
      "Preserved part\n",
      "['b', 'a1', 'c']\n",
      "[]\n",
      "Left hand side\n",
      "['b', 'a1', 'c']\n",
      "[]\n",
      "P->L Homomorphism : {'b': 'b', 'a1': 'a1', 'c': 'c'}\n",
      "Right hand side\n",
      "['a', 'd', 'a_1', 'b', 'c']\n",
      "[('a', 'd'), ('a_1', 'b'), ('a_1', 'a_1'), ('a_1', 'a'), ('c', 'a_1')]\n",
      "P->R Homomorphism : {'b': 'b', 'a1': 'a', 'c': 'c'}\n",
      "\n"
     ]
    }
   ],
   "source": [
    "print(g._deltas[\"test\"][\"rule\"])"
   ]
  },
  {
   "cell_type": "code",
   "execution_count": 29,
   "metadata": {},
   "outputs": [
    {
     "data": {
      "text/plain": [
       "['master', 'branch', 'dev', 'test']"
      ]
     },
     "execution_count": 29,
     "metadata": {},
     "output_type": "execute_result"
    }
   ],
   "source": [
    "g.branches()"
   ]
  },
  {
   "cell_type": "code",
   "execution_count": 30,
   "metadata": {},
   "outputs": [
    {
     "name": "stdout",
     "output_type": "stream",
     "text": [
      ">>>\n"
     ]
    },
    {
     "ename": "TypeError",
     "evalue": "tuple indices must be integers or slices, not str",
     "output_type": "error",
     "traceback": [
      "\u001b[0;31m---------------------------------------------------------------------------\u001b[0m",
      "\u001b[0;31mTypeError\u001b[0m                                 Traceback (most recent call last)",
      "\u001b[0;32m<ipython-input-30-ad3f3d57092d>\u001b[0m in \u001b[0;36m<module>\u001b[0;34m\u001b[0m\n\u001b[0;32m----> 1\u001b[0;31m \u001b[0mg\u001b[0m\u001b[0;34m.\u001b[0m\u001b[0mmerge_with\u001b[0m\u001b[0;34m(\u001b[0m\u001b[0;34m\"dev\"\u001b[0m\u001b[0;34m)\u001b[0m\u001b[0;34m\u001b[0m\u001b[0;34m\u001b[0m\u001b[0m\n\u001b[0m",
      "\u001b[0;32m~/anaconda3/envs/kami/lib/python3.7/site-packages/ReGraph-2.0-py3.7.egg/regraph/audit.py\u001b[0m in \u001b[0;36mmerge_with\u001b[0;34m(self, branch, message)\u001b[0m\n\u001b[1;32m    199\u001b[0m         \u001b[0mdelta\u001b[0m \u001b[0;34m=\u001b[0m \u001b[0mself\u001b[0m\u001b[0;34m.\u001b[0m\u001b[0m_deltas\u001b[0m\u001b[0;34m[\u001b[0m\u001b[0mbranch\u001b[0m\u001b[0;34m]\u001b[0m\u001b[0;34m\u001b[0m\u001b[0;34m\u001b[0m\u001b[0m\n\u001b[1;32m    200\u001b[0m         delta_to_current, delta_to_branch = self._merge_into_current_branch(\n\u001b[0;32m--> 201\u001b[0;31m             delta)\n\u001b[0m\u001b[1;32m    202\u001b[0m \u001b[0;34m\u001b[0m\u001b[0m\n\u001b[1;32m    203\u001b[0m         \u001b[0mcommit_id\u001b[0m \u001b[0;34m=\u001b[0m \u001b[0mself\u001b[0m\u001b[0;34m.\u001b[0m\u001b[0mcommit\u001b[0m\u001b[0;34m(\u001b[0m\u001b[0mdelta_to_current\u001b[0m\u001b[0;34m,\u001b[0m \u001b[0mmessage\u001b[0m\u001b[0;34m=\u001b[0m\u001b[0mmessage\u001b[0m\u001b[0;34m)\u001b[0m\u001b[0;34m\u001b[0m\u001b[0;34m\u001b[0m\u001b[0m\n",
      "\u001b[0;32m~/anaconda3/envs/kami/lib/python3.7/site-packages/ReGraph-2.0-py3.7.egg/regraph/audit.py\u001b[0m in \u001b[0;36m_merge_into_current_branch\u001b[0;34m(self, delta)\u001b[0m\n\u001b[1;32m    369\u001b[0m \u001b[0;34m\u001b[0m\u001b[0m\n\u001b[1;32m    370\u001b[0m         \u001b[0mprint\u001b[0m\u001b[0;34m(\u001b[0m\u001b[0;34m\">>>\"\u001b[0m\u001b[0;34m)\u001b[0m\u001b[0;34m\u001b[0m\u001b[0;34m\u001b[0m\u001b[0m\n\u001b[0;32m--> 371\u001b[0;31m         \u001b[0mprint\u001b[0m\u001b[0;34m(\u001b[0m\u001b[0mother_to_merged_delta\u001b[0m\u001b[0;34m[\u001b[0m\u001b[0;34m\"rule\"\u001b[0m\u001b[0;34m]\u001b[0m\u001b[0;34m)\u001b[0m\u001b[0;34m\u001b[0m\u001b[0;34m\u001b[0m\u001b[0m\n\u001b[0m\u001b[1;32m    372\u001b[0m \u001b[0;34m\u001b[0m\u001b[0m\n\u001b[1;32m    373\u001b[0m         \u001b[0;32mreturn\u001b[0m \u001b[0mcurrent_to_merged_delta\u001b[0m\u001b[0;34m,\u001b[0m \u001b[0mother_to_merged_delta\u001b[0m\u001b[0;34m\u001b[0m\u001b[0;34m\u001b[0m\u001b[0m\n",
      "\u001b[0;31mTypeError\u001b[0m: tuple indices must be integers or slices, not str"
     ]
    }
   ],
   "source": [
    "g.merge_with(\"dev\")"
   ]
  },
  {
   "cell_type": "code",
   "execution_count": null,
   "metadata": {},
   "outputs": [],
   "source": [
    "plot_rule(g._deltas[\"test\"][\"rule\"])"
   ]
  },
  {
   "cell_type": "code",
   "execution_count": null,
   "metadata": {},
   "outputs": [],
   "source": [
    "print(g.branches())"
   ]
  },
  {
   "cell_type": "code",
   "execution_count": null,
   "metadata": {},
   "outputs": [],
   "source": [
    "plot_graph(g.graph)"
   ]
  },
  {
   "cell_type": "code",
   "execution_count": null,
   "metadata": {},
   "outputs": [],
   "source": [
    "print(g._deltas[\"test\"][\"rule\"])"
   ]
  },
  {
   "cell_type": "code",
   "execution_count": null,
   "metadata": {},
   "outputs": [],
   "source": [
    "g.merge_with(\"test\")"
   ]
  },
  {
   "cell_type": "code",
   "execution_count": null,
   "metadata": {},
   "outputs": [],
   "source": [
    "plot_graph(g.graph)"
   ]
  },
  {
   "cell_type": "code",
   "execution_count": null,
   "metadata": {},
   "outputs": [],
   "source": [
    "g.graph.edges()"
   ]
  },
  {
   "cell_type": "code",
   "execution_count": null,
   "metadata": {},
   "outputs": [],
   "source": [
    "for n in g._revision_graph.nodes():\n",
    "    print(n, g._revision_graph.node[n][\"branch\"], g._revision_graph.node[n][\"message\"])"
   ]
  },
  {
   "cell_type": "code",
   "execution_count": null,
   "metadata": {},
   "outputs": [],
   "source": [
    "g.rollback(rollback_commit)\n",
    "plot_graph(g._revision_graph)\n",
    "plot_graph(g.graph)"
   ]
  },
  {
   "cell_type": "code",
   "execution_count": null,
   "metadata": {},
   "outputs": [],
   "source": []
  },
  {
   "cell_type": "code",
   "execution_count": null,
   "metadata": {},
   "outputs": [],
   "source": []
  }
 ],
 "metadata": {
  "kernelspec": {
   "display_name": "Python (kami)",
   "language": "python",
   "name": "kami"
  },
  "language_info": {
   "codemirror_mode": {
    "name": "ipython",
    "version": 3
   },
   "file_extension": ".py",
   "mimetype": "text/x-python",
   "name": "python",
   "nbconvert_exporter": "python",
   "pygments_lexer": "ipython3",
   "version": "3.7.3"
  }
 },
 "nbformat": 4,
 "nbformat_minor": 2
}
