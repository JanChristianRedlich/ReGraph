{
 "cells": [
  {
   "cell_type": "code",
   "execution_count": 1,
   "metadata": {},
   "outputs": [],
   "source": [
    "import networkx as nx\n",
    "\n",
    "from regraph.audit import VersionedGraph\n",
    "from regraph.rules import Rule\n",
    "from regraph import print_graph, plot_rule, plot_graph"
   ]
  },
  {
   "cell_type": "code",
   "execution_count": 2,
   "metadata": {
    "collapsed": true
   },
   "outputs": [],
   "source": [
    "g = VersionedGraph(nx.DiGraph())"
   ]
  },
  {
   "cell_type": "code",
   "execution_count": 3,
   "metadata": {
    "collapsed": true
   },
   "outputs": [],
   "source": [
    "rule = Rule.from_transform(nx.DiGraph())\n",
    "rule.inject_add_node(\"a\")\n",
    "rule.inject_add_node(\"b\")\n",
    "rule.inject_add_edge(\"a\", \"b\")"
   ]
  },
  {
   "cell_type": "code",
   "execution_count": 4,
   "metadata": {},
   "outputs": [
    {
     "name": "stderr",
     "output_type": "stream",
     "text": [
      "/home/eugenia/anaconda3/envs/kami/lib/python3.7/site-packages/matplotlib-3.0.3-py3.7-linux-x86_64.egg/matplotlib/cbook/__init__.py:424: MatplotlibDeprecationWarning: \n",
      "Passing one of 'on', 'true', 'off', 'false' as a boolean is deprecated; use an actual boolean (True/False) instead.\n",
      "  warn_deprecated(\"2.2\", \"Passing one of 'on', 'true', 'off', 'false' as a \"\n"
     ]
    },
    {
     "data": {
      "image/png": "[encoded data removed]",
      "text/plain": [
       "<Figure size 432x288 with 1 Axes>"
      ]
     },
     "metadata": {},
     "output_type": "display_data"
    },
    {
     "data": {
      "text/plain": [
       "{'a': array([ 1.        , -0.35761223]),\n",
       " 'b': array([-1.        ,  0.35761223])}"
      ]
     },
     "execution_count": 4,
     "metadata": {},
     "output_type": "execute_result"
    }
   ],
   "source": [
    "rhs_instance, _ = g.rewrite(rule, {}, message=\"Add a -> b\")\n",
    "plot_graph(g.graph)"
   ]
  },
  {
   "cell_type": "code",
   "execution_count": 5,
   "metadata": {},
   "outputs": [
    {
     "name": "stdout",
     "output_type": "stream",
     "text": [
      "Left hand side\n",
      "[]\n",
      "[]\n",
      "Preserved part\n",
      "[]\n",
      "[]\n",
      "Right hand side\n",
      "[]\n",
      "[]\n",
      "P->L Homomorphism : {}\n",
      "P->R Homomorphism : {}\n",
      "\n",
      "Left hand side\n",
      "[]\n",
      "[]\n",
      "Preserved part\n",
      "[]\n",
      "[]\n",
      "Right hand side\n",
      "[]\n",
      "[]\n",
      "P->L Homomorphism : {}\n",
      "P->R Homomorphism : {}\n",
      "\n"
     ]
    }
   ],
   "source": [
    "branch_commit = g.branch(\"branch\")"
   ]
  },
  {
   "cell_type": "code",
   "execution_count": 6,
   "metadata": {},
   "outputs": [
    {
     "data": {
      "text/plain": [
       "('b1', 'b1')"
      ]
     },
     "execution_count": 6,
     "metadata": {},
     "output_type": "execute_result"
    }
   ],
   "source": [
    "pattern = nx.DiGraph()\n",
    "pattern.add_node(\"b\")\n",
    "rule = Rule.from_transform(pattern)\n",
    "rule.inject_clone_node(\"b\")"
   ]
  },
  {
   "cell_type": "code",
   "execution_count": 7,
   "metadata": {},
   "outputs": [
    {
     "name": "stdout",
     "output_type": "stream",
     "text": [
      "Left hand side\n",
      "['b', 'b1']\n",
      "[]\n",
      "Preserved part\n",
      "['b', 'b1']\n",
      "[]\n",
      "Right hand side\n",
      "['b']\n",
      "[]\n",
      "P->L Homomorphism : {'b': 'b', 'b1': 'b1'}\n",
      "P->R Homomorphism : {'b': 'b', 'b1': 'b'}\n",
      "\n",
      "Left hand side\n",
      "['b', 'b1', 'a']\n",
      "[('a', 'b'), ('a', 'b1')]\n",
      "Preserved part\n",
      "['b', 'b1', 'a']\n",
      "[('a', 'b'), ('a', 'b1')]\n",
      "Right hand side\n",
      "['b', 'a']\n",
      "[('a', 'b')]\n",
      "P->L Homomorphism : {'b': 'b', 'b1': 'b1', 'a': 'a'}\n",
      "P->R Homomorphism : {'b': 'b', 'b1': 'b', 'a': 'a'}\n",
      "\n"
     ]
    },
    {
     "data": {
      "image/png": "[encoded data removed]",
      "text/plain": [
       "<Figure size 432x288 with 1 Axes>"
      ]
     },
     "metadata": {},
     "output_type": "display_data"
    },
    {
     "data": {
      "text/plain": [
       "{'a': array([-2.11143180e-09, -6.68887063e-11]),\n",
       " 'b': array([-1.        , -0.03167922]),\n",
       " 'b1': array([1.        , 0.03167922])}"
      ]
     },
     "execution_count": 7,
     "metadata": {},
     "output_type": "execute_result"
    }
   ],
   "source": [
    "g.rewrite(rule, {\"b\": rhs_instance[\"b\"]}, message=\"Clone b\")\n",
    "plot_graph(g.graph)"
   ]
  },
  {
   "cell_type": "code",
   "execution_count": 8,
   "metadata": {},
   "outputs": [
    {
     "name": "stdout",
     "output_type": "stream",
     "text": [
      "Left hand side\n",
      "['b', 'b1', 'a']\n",
      "[('a', 'b'), ('a', 'b1')]\n",
      "Preserved part\n",
      "['b', 'b1', 'a']\n",
      "[('a', 'b'), ('a', 'b1')]\n",
      "Right hand side\n",
      "['b', 'a']\n",
      "[('a', 'b')]\n",
      "P->L Homomorphism : {'b': 'b', 'b1': 'b1', 'a': 'a'}\n",
      "P->R Homomorphism : {'b': 'b', 'b1': 'b', 'a': 'a'}\n",
      "\n",
      "{'b': 'b', 'b1': 'b1', 'a': 'a'}\n"
     ]
    }
   ],
   "source": [
    "print(g._deltas[\"master\"][\"rule\"])\n",
    "print(g._deltas[\"master\"][\"lhs_instance\"])"
   ]
  },
  {
   "cell_type": "code",
   "execution_count": 9,
   "metadata": {},
   "outputs": [
    {
     "name": "stdout",
     "output_type": "stream",
     "text": [
      "!!!Found clone and merge b {'b', 'b1'} {'b'}\n"
     ]
    }
   ],
   "source": [
    "g.switch_branch(\"master\")"
   ]
  },
  {
   "cell_type": "code",
   "execution_count": 10,
   "metadata": {
    "collapsed": true
   },
   "outputs": [],
   "source": [
    "pattern = nx.DiGraph()\n",
    "pattern.add_node(\"a\")\n",
    "rule = Rule.from_transform(pattern)\n",
    "rule.inject_add_node(\"c\")\n",
    "rule.inject_add_edge(\"c\", \"a\")\n",
    "rule.inject_add_edge(\"a\", \"a\")"
   ]
  },
  {
   "cell_type": "code",
   "execution_count": 11,
   "metadata": {},
   "outputs": [
    {
     "name": "stdout",
     "output_type": "stream",
     "text": [
      "Left hand side\n",
      "['a', 'c', 'b']\n",
      "[('a', 'a'), ('a', 'b'), ('c', 'a')]\n",
      "Preserved part\n",
      "['a', 'b', 'b1']\n",
      "[('a', 'b'), ('a', 'b1')]\n",
      "Right hand side\n",
      "['b', 'b1', 'a']\n",
      "[('a', 'b'), ('a', 'b1')]\n",
      "P->L Homomorphism : {'a': 'a', 'b': 'b', 'b1': 'b'}\n",
      "P->R Homomorphism : {'a': 'a', 'b': 'b', 'b1': 'b1'}\n",
      "\n",
      "Left hand side\n",
      "['a', 'c', 'b']\n",
      "[('a', 'a'), ('a', 'b'), ('c', 'a')]\n",
      "Preserved part\n",
      "['a', 'b', 'b1']\n",
      "[('a', 'b'), ('a', 'b1')]\n",
      "Right hand side\n",
      "['b', 'b1', 'a']\n",
      "[('a', 'b'), ('a', 'b1')]\n",
      "P->L Homomorphism : {'a': 'a', 'b': 'b', 'b1': 'b'}\n",
      "P->R Homomorphism : {'a': 'a', 'b': 'b', 'b1': 'b1'}\n",
      "\n"
     ]
    },
    {
     "data": {
      "image/png": "[encoded data removed]",
      "text/plain": [
       "<Figure size 432x288 with 1 Axes>"
      ]
     },
     "metadata": {},
     "output_type": "display_data"
    },
    {
     "data": {
      "text/plain": [
       "{'a': array([ 0.18217396, -0.62757666]),\n",
       " 'b': array([0.81782604, 0.74993746]),\n",
       " 'c': array([-1.       , -0.1223608])}"
      ]
     },
     "execution_count": 11,
     "metadata": {},
     "output_type": "execute_result"
    }
   ],
   "source": [
    "rhs_instance, _ = g.rewrite(rule, {\"a\": rhs_instance[\"a\"]}, message=\"Add c and c->a\")\n",
    "plot_graph(g.graph)"
   ]
  },
  {
   "cell_type": "code",
   "execution_count": 12,
   "metadata": {},
   "outputs": [
    {
     "name": "stdout",
     "output_type": "stream",
     "text": [
      "Left hand side\n",
      "['a', 'c', 'b']\n",
      "[('a', 'a'), ('a', 'b'), ('c', 'a')]\n",
      "Preserved part\n",
      "['a', 'b', 'b1']\n",
      "[('a', 'b'), ('a', 'b1')]\n",
      "Right hand side\n",
      "['b', 'b1', 'a']\n",
      "[('a', 'b'), ('a', 'b1')]\n",
      "P->L Homomorphism : {'a': 'a', 'b': 'b', 'b1': 'b'}\n",
      "P->R Homomorphism : {'a': 'a', 'b': 'b', 'b1': 'b1'}\n",
      "\n",
      "Left hand side\n",
      "['a', 'c', 'b']\n",
      "[('a', 'a'), ('a', 'b'), ('c', 'a')]\n",
      "Preserved part\n",
      "['a', 'b', 'b1']\n",
      "[('a', 'b'), ('a', 'b1')]\n",
      "Right hand side\n",
      "['b', 'b1', 'a']\n",
      "[('a', 'b'), ('a', 'b1')]\n",
      "P->L Homomorphism : {'a': 'a', 'b': 'b', 'b1': 'b'}\n",
      "P->R Homomorphism : {'a': 'a', 'b': 'b', 'b1': 'b1'}\n",
      "\n",
      "Left hand side\n",
      "[]\n",
      "[]\n",
      "Preserved part\n",
      "[]\n",
      "[]\n",
      "Right hand side\n",
      "[]\n",
      "[]\n",
      "P->L Homomorphism : {}\n",
      "P->R Homomorphism : {}\n",
      "\n",
      "Left hand side\n",
      "[]\n",
      "[]\n",
      "Preserved part\n",
      "[]\n",
      "[]\n",
      "Right hand side\n",
      "[]\n",
      "[]\n",
      "P->L Homomorphism : {}\n",
      "P->R Homomorphism : {}\n",
      "\n"
     ]
    },
    {
     "data": {
      "text/plain": [
       "'e444f5cf-d97a-4914-93f9-eab1659fc581'"
      ]
     },
     "execution_count": 12,
     "metadata": {},
     "output_type": "execute_result"
    }
   ],
   "source": [
    "g.branch(\"dev\")"
   ]
  },
  {
   "cell_type": "code",
   "execution_count": 13,
   "metadata": {},
   "outputs": [
    {
     "data": {
      "text/plain": [
       "'a_c'"
      ]
     },
     "execution_count": 13,
     "metadata": {},
     "output_type": "execute_result"
    }
   ],
   "source": [
    "pattern = nx.DiGraph()\n",
    "pattern.add_node(\"c\")\n",
    "pattern.add_node(\"a\")\n",
    "pattern.add_edge(\"c\", \"a\")\n",
    "rule = Rule.from_transform(pattern)\n",
    "rule.inject_remove_edge(\"c\", \"a\")\n",
    "rule.inject_merge_nodes([\"c\", \"a\"])"
   ]
  },
  {
   "cell_type": "code",
   "execution_count": 14,
   "metadata": {},
   "outputs": [
    {
     "name": "stdout",
     "output_type": "stream",
     "text": [
      "Left hand side\n",
      "['a_c', 'b']\n",
      "[('a_c', 'b'), ('a_c', 'a_c')]\n",
      "Preserved part\n",
      "['a', 'b', 'b1']\n",
      "[('a', 'b'), ('a', 'b1')]\n",
      "Right hand side\n",
      "['b', 'b1', 'a']\n",
      "[('a', 'b'), ('a', 'b1')]\n",
      "P->L Homomorphism : {'a': 'a_c', 'b': 'b', 'b1': 'b'}\n",
      "P->R Homomorphism : {'a': 'a', 'b': 'b', 'b1': 'b1'}\n",
      "\n",
      "Left hand side\n",
      "['a_c', 'b']\n",
      "[('a_c', 'b'), ('a_c', 'a_c')]\n",
      "Preserved part\n",
      "['a', 'b', 'b1']\n",
      "[('a', 'b'), ('a', 'b1')]\n",
      "Right hand side\n",
      "['b', 'b1', 'a']\n",
      "[('a', 'b'), ('a', 'b1')]\n",
      "P->L Homomorphism : {'a': 'a_c', 'b': 'b', 'b1': 'b'}\n",
      "P->R Homomorphism : {'a': 'a', 'b': 'b', 'b1': 'b1'}\n",
      "\n",
      "Left hand side\n",
      "['a_c', 'b']\n",
      "[('a_c', 'b'), ('a_c', 'a_c')]\n",
      "Preserved part\n",
      "['c', 'a', 'b']\n",
      "[('a', 'a'), ('a', 'b')]\n",
      "Right hand side\n",
      "['c', 'a', 'b']\n",
      "[('c', 'a'), ('a', 'b'), ('a', 'a')]\n",
      "P->L Homomorphism : {'c': 'a_c', 'a': 'a_c', 'b': 'b'}\n",
      "P->R Homomorphism : {'c': 'c', 'a': 'a', 'b': 'b'}\n",
      "\n",
      "Left hand side\n",
      "['a_c', 'b']\n",
      "[('a_c', 'b'), ('a_c', 'a_c')]\n",
      "Preserved part\n",
      "['c', 'a', 'b']\n",
      "[('a', 'a'), ('a', 'b')]\n",
      "Right hand side\n",
      "['c', 'a', 'b']\n",
      "[('c', 'a'), ('a', 'b'), ('a', 'a')]\n",
      "P->L Homomorphism : {'c': 'a_c', 'a': 'a_c', 'b': 'b'}\n",
      "P->R Homomorphism : {'c': 'c', 'a': 'a', 'b': 'b'}\n",
      "\n"
     ]
    },
    {
     "data": {
      "image/png": "[encoded data removed]",
      "text/plain": [
       "<Figure size 432x288 with 1 Axes>"
      ]
     },
     "metadata": {},
     "output_type": "display_data"
    },
    {
     "data": {
      "text/plain": [
       "{'b': array([-0.23560335, -1.        ]),\n",
       " 'a_c': array([0.23560335, 1.        ])}"
      ]
     },
     "execution_count": 14,
     "metadata": {},
     "output_type": "execute_result"
    }
   ],
   "source": [
    "g.rewrite(rule, {\"a\": rhs_instance[\"a\"], \"c\": rhs_instance[\"c\"]}, message=\"Merge c and a\")\n",
    "plot_graph(g.graph)"
   ]
  },
  {
   "cell_type": "code",
   "execution_count": 15,
   "metadata": {},
   "outputs": [
    {
     "data": {
      "text/plain": [
       "['master', 'branch', 'dev']"
      ]
     },
     "execution_count": 15,
     "metadata": {},
     "output_type": "execute_result"
    }
   ],
   "source": [
    "g.branches()"
   ]
  },
  {
   "cell_type": "code",
   "execution_count": 16,
   "metadata": {},
   "outputs": [],
   "source": [
    "g.switch_branch(\"master\")"
   ]
  },
  {
   "cell_type": "code",
   "execution_count": 17,
   "metadata": {},
   "outputs": [
    {
     "data": {
      "text/plain": [
       "'master'"
      ]
     },
     "execution_count": 17,
     "metadata": {},
     "output_type": "execute_result"
    }
   ],
   "source": [
    "g.current_branch()"
   ]
  },
  {
   "cell_type": "code",
   "execution_count": 18,
   "metadata": {
    "collapsed": true
   },
   "outputs": [],
   "source": [
    "pattern = nx.DiGraph()\n",
    "pattern.add_node(\"a\")\n",
    "rule = Rule.from_transform(pattern)\n",
    "_, rhs_clone = rule.inject_clone_node(\"a\")"
   ]
  },
  {
   "cell_type": "code",
   "execution_count": 19,
   "metadata": {},
   "outputs": [
    {
     "name": "stdout",
     "output_type": "stream",
     "text": [
      "Left hand side\n",
      "['a', 'a1', 'c', 'b']\n",
      "[('a', 'b'), ('a', 'a'), ('a', 'a1'), ('a1', 'a'), ('a1', 'b'), ('a1', 'a1'), ('c', 'a'), ('c', 'a1')]\n",
      "Preserved part\n",
      "['a', 'c', 'b', 'b1', 'a1']\n",
      "[('a', 'b'), ('a', 'b1'), ('a1', 'b'), ('a1', 'b1')]\n",
      "Right hand side\n",
      "['b', 'b1', 'a']\n",
      "[('a', 'b'), ('a', 'b1')]\n",
      "P->L Homomorphism : {'a': 'a', 'c': 'c', 'b': 'b', 'b1': 'b', 'a1': 'a1'}\n",
      "P->R Homomorphism : {'a': 'a', 'c': 'a', 'b': 'b', 'b1': 'b1', 'a1': 'a'}\n",
      "\n",
      "Left hand side\n",
      "['a', 'a1', 'c', 'b']\n",
      "[('a', 'b'), ('a', 'a'), ('a', 'a1'), ('a1', 'a'), ('a1', 'b'), ('a1', 'a1'), ('c', 'a'), ('c', 'a1')]\n",
      "Preserved part\n",
      "['a', 'c', 'b', 'b1', 'a1']\n",
      "[('a', 'b'), ('a', 'b1'), ('a1', 'b'), ('a1', 'b1')]\n",
      "Right hand side\n",
      "['b', 'b1', 'a']\n",
      "[('a', 'b'), ('a', 'b1')]\n",
      "P->L Homomorphism : {'a': 'a', 'c': 'c', 'b': 'b', 'b1': 'b', 'a1': 'a1'}\n",
      "P->R Homomorphism : {'a': 'a', 'c': 'a', 'b': 'b', 'b1': 'b1', 'a1': 'a'}\n",
      "\n",
      "Left hand side\n",
      "['a', 'a1', 'c', 'b']\n",
      "[('a', 'b'), ('a', 'a'), ('a', 'a1'), ('a1', 'a'), ('a1', 'b'), ('a1', 'a1'), ('c', 'a'), ('c', 'a1')]\n",
      "Preserved part\n",
      "['a', 'c', 'b', 'a1']\n",
      "[('a', 'a'), ('a', 'b'), ('a', 'a1'), ('a1', 'a'), ('a1', 'b'), ('a1', 'a1')]\n",
      "Right hand side\n",
      "['a_c', 'b']\n",
      "[('a_c', 'b'), ('a_c', 'a_c')]\n",
      "P->L Homomorphism : {'a': 'a', 'c': 'c', 'b': 'b', 'a1': 'a1'}\n",
      "P->R Homomorphism : {'a': 'a_c', 'c': 'a_c', 'b': 'b', 'a1': 'a_c'}\n",
      "\n",
      "Left hand side\n",
      "['a', 'a1', 'c', 'b']\n",
      "[('a', 'b'), ('a', 'a'), ('a', 'a1'), ('a1', 'a'), ('a1', 'b'), ('a1', 'a1'), ('c', 'a'), ('c', 'a1')]\n",
      "Preserved part\n",
      "['a', 'c', 'b', 'a1']\n",
      "[('a', 'a'), ('a', 'b'), ('a', 'a1'), ('a1', 'a'), ('a1', 'b'), ('a1', 'a1')]\n",
      "Right hand side\n",
      "['a_c', 'b']\n",
      "[('a_c', 'b'), ('a_c', 'a_c')]\n",
      "P->L Homomorphism : {'a': 'a', 'c': 'c', 'b': 'b', 'a1': 'a1'}\n",
      "P->R Homomorphism : {'a': 'a_c', 'c': 'a_c', 'b': 'b', 'a1': 'a_c'}\n",
      "\n"
     ]
    },
    {
     "data": {
      "image/png": "[encoded data removed]",
      "text/plain": [
       "<Figure size 432x288 with 1 Axes>"
      ]
     },
     "metadata": {},
     "output_type": "display_data"
    },
    {
     "data": {
      "text/plain": [
       "{'b': array([1.        , 0.45876017]),\n",
       " 'c': array([-0.76714765,  0.4135809 ]),\n",
       " 'a': array([-0.42621343, -0.1941933 ]),\n",
       " 'a1': array([ 0.19336108, -0.67814778])}"
      ]
     },
     "execution_count": 19,
     "metadata": {},
     "output_type": "execute_result"
    }
   ],
   "source": [
    "rhs_instance, rollback_commit = g.rewrite(rule, {\"a\": rhs_instance[\"a\"]}, message=\"Clone a\")\n",
    "plot_graph(g.graph)"
   ]
  },
  {
   "cell_type": "code",
   "execution_count": 20,
   "metadata": {},
   "outputs": [
    {
     "name": "stdout",
     "output_type": "stream",
     "text": [
      "DELTA TO BRANCH\n",
      "\n",
      "\n",
      "Left hand side\n",
      "['a', 'a1', 'c', 'b']\n",
      "[('a', 'b'), ('a', 'a'), ('a', 'a1'), ('a1', 'a'), ('a1', 'b'), ('a1', 'a1'), ('c', 'a'), ('c', 'a1')]\n",
      "Preserved part\n",
      "['a', 'c', 'b', 'b1', 'a1']\n",
      "[('a', 'b'), ('a', 'b1'), ('a1', 'b'), ('a1', 'b1')]\n",
      "Right hand side\n",
      "['b', 'b1', 'a']\n",
      "[('a', 'b'), ('a', 'b1')]\n",
      "P->L Homomorphism : {'a': 'a', 'c': 'c', 'b': 'b', 'b1': 'b', 'a1': 'a1'}\n",
      "P->R Homomorphism : {'a': 'a', 'c': 'a', 'b': 'b', 'b1': 'b1', 'a1': 'a'}\n",
      "\n",
      "{'a': 'a', 'a1': 'a1', 'c': 'c', 'b': 'b'}\n"
     ]
    }
   ],
   "source": [
    "print(\"DELTA TO BRANCH\\n\\n\")\n",
    "print(g._deltas[\"branch\"][\"rule\"])\n",
    "print(g._deltas[\"branch\"][\"lhs_instance\"])"
   ]
  },
  {
   "cell_type": "code",
   "execution_count": 21,
   "metadata": {},
   "outputs": [
    {
     "name": "stdout",
     "output_type": "stream",
     "text": [
      "Left hand side\n",
      "['a', 'a1', 'c', 'b']\n",
      "[('a', 'b'), ('a', 'a'), ('a', 'a1'), ('a1', 'a'), ('a1', 'b'), ('a1', 'a1'), ('c', 'a'), ('c', 'a1')]\n",
      "Preserved part\n",
      "['a', 'a1', 'c', 'b', 'b1']\n",
      "[('a', 'b'), ('a', 'b1'), ('a1', 'b'), ('a1', 'b1')]\n",
      "Right hand side\n",
      "['b', 'b1', 'a']\n",
      "[('a', 'b'), ('a', 'b1')]\n",
      "P->L Homomorphism : {'a': 'a', 'a1': 'a1', 'c': 'c', 'b': 'b', 'b1': 'b'}\n",
      "P->R Homomorphism : {'a': 'a', 'a1': 'a', 'c': 'a', 'b': 'b', 'b1': 'b1'}\n",
      "\n",
      "Left hand side\n",
      "['a', 'a1', 'c', 'b']\n",
      "[('a', 'b'), ('a', 'a'), ('a', 'a1'), ('a1', 'a'), ('a1', 'b'), ('a1', 'a1'), ('c', 'a'), ('c', 'a1')]\n",
      "Preserved part\n",
      "['a', 'a1', 'c', 'b', 'b1']\n",
      "[('a', 'b'), ('a', 'b1'), ('a1', 'b'), ('a1', 'b1')]\n",
      "Right hand side\n",
      "['b', 'b1', 'a']\n",
      "[('a', 'b'), ('a', 'b1')]\n",
      "P->L Homomorphism : {'a': 'a', 'a1': 'a1', 'c': 'c', 'b': 'b', 'b1': 'b'}\n",
      "P->R Homomorphism : {'a': 'a', 'a1': 'a', 'c': 'a', 'b': 'b', 'b1': 'b1'}\n",
      "\n",
      "Left hand side\n",
      "['a', 'a1', 'c', 'b']\n",
      "[('a', 'b'), ('a', 'a'), ('a', 'a1'), ('a1', 'a'), ('a1', 'b'), ('a1', 'a1'), ('c', 'a'), ('c', 'a1')]\n",
      "Preserved part\n",
      "['a', 'a1', 'c', 'b']\n",
      "[('a', 'a'), ('a', 'a1'), ('a', 'b'), ('a1', 'a'), ('a1', 'a1'), ('a1', 'b')]\n",
      "Right hand side\n",
      "['a_c', 'b']\n",
      "[('a_c', 'b'), ('a_c', 'a_c')]\n",
      "P->L Homomorphism : {'a': 'a', 'a1': 'a1', 'c': 'c', 'b': 'b'}\n",
      "P->R Homomorphism : {'a': 'a_c', 'a1': 'a_c', 'c': 'a_c', 'b': 'b'}\n",
      "\n",
      "Left hand side\n",
      "['a', 'a1', 'c', 'b']\n",
      "[('a', 'b'), ('a', 'a'), ('a', 'a1'), ('a1', 'a'), ('a1', 'b'), ('a1', 'a1'), ('c', 'a'), ('c', 'a1')]\n",
      "Preserved part\n",
      "['a', 'a1', 'c', 'b']\n",
      "[('a', 'a'), ('a', 'a1'), ('a', 'b'), ('a1', 'a'), ('a1', 'a1'), ('a1', 'b')]\n",
      "Right hand side\n",
      "['a_c', 'b']\n",
      "[('a_c', 'b'), ('a_c', 'a_c')]\n",
      "P->L Homomorphism : {'a': 'a', 'a1': 'a1', 'c': 'c', 'b': 'b'}\n",
      "P->R Homomorphism : {'a': 'a_c', 'a1': 'a_c', 'c': 'a_c', 'b': 'b'}\n",
      "\n",
      "Left hand side\n",
      "[]\n",
      "[]\n",
      "Preserved part\n",
      "[]\n",
      "[]\n",
      "Right hand side\n",
      "[]\n",
      "[]\n",
      "P->L Homomorphism : {}\n",
      "P->R Homomorphism : {}\n",
      "\n",
      "Left hand side\n",
      "[]\n",
      "[]\n",
      "Preserved part\n",
      "[]\n",
      "[]\n",
      "Right hand side\n",
      "[]\n",
      "[]\n",
      "P->L Homomorphism : {}\n",
      "P->R Homomorphism : {}\n",
      "\n"
     ]
    },
    {
     "data": {
      "text/plain": [
       "'9fc853f9-a839-4fc4-b0b3-71b40f1c4947'"
      ]
     },
     "execution_count": 21,
     "metadata": {},
     "output_type": "execute_result"
    }
   ],
   "source": [
    "g.branch(\"test\")"
   ]
  },
  {
   "cell_type": "code",
   "execution_count": 22,
   "metadata": {},
   "outputs": [
    {
     "name": "stdout",
     "output_type": "stream",
     "text": [
      "Left hand side\n",
      "[]\n",
      "[]\n",
      "Preserved part\n",
      "[]\n",
      "[]\n",
      "Right hand side\n",
      "[]\n",
      "[]\n",
      "P->L Homomorphism : {}\n",
      "P->R Homomorphism : {}\n",
      "\n"
     ]
    }
   ],
   "source": [
    "print(g._deltas[\"master\"][\"rule\"])"
   ]
  },
  {
   "cell_type": "code",
   "execution_count": 23,
   "metadata": {
    "collapsed": true
   },
   "outputs": [],
   "source": [
    "pattern = nx.DiGraph()\n",
    "pattern.add_node(\"a\")\n",
    "rule = Rule.from_transform(pattern)\n",
    "rule.inject_add_node(\"d\")\n",
    "rule.inject_add_edge(\"a\", \"d\")"
   ]
  },
  {
   "cell_type": "code",
   "execution_count": 24,
   "metadata": {},
   "outputs": [
    {
     "name": "stdout",
     "output_type": "stream",
     "text": [
      "Left hand side\n",
      "['a', 'd', 'a_1', 'c', 'b']\n",
      "[('a', 'd'), ('a', 'a_1'), ('a', 'b'), ('a', 'a'), ('a_1', 'b'), ('a_1', 'a_1'), ('a_1', 'a'), ('c', 'a_1'), ('c', 'a')]\n",
      "Preserved part\n",
      "['a', 'a_1', 'c', 'b', 'b1']\n",
      "[('a', 'b'), ('a', 'b1'), ('a_1', 'b'), ('a_1', 'b1')]\n",
      "Right hand side\n",
      "['b', 'b1', 'a']\n",
      "[('a', 'b'), ('a', 'b1')]\n",
      "P->L Homomorphism : {'a': 'a', 'a_1': 'a_1', 'c': 'c', 'b': 'b', 'b1': 'b'}\n",
      "P->R Homomorphism : {'a': 'a', 'a_1': 'a', 'c': 'a', 'b': 'b', 'b1': 'b1'}\n",
      "\n",
      "Left hand side\n",
      "['a', 'd', 'a_1', 'c', 'b']\n",
      "[('a', 'd'), ('a', 'a_1'), ('a', 'b'), ('a', 'a'), ('a_1', 'b'), ('a_1', 'a_1'), ('a_1', 'a'), ('c', 'a_1'), ('c', 'a')]\n",
      "Preserved part\n",
      "['a', 'a_1', 'c', 'b', 'b1']\n",
      "[('a', 'b'), ('a', 'b1'), ('a_1', 'b'), ('a_1', 'b1')]\n",
      "Right hand side\n",
      "['b', 'b1', 'a']\n",
      "[('a', 'b'), ('a', 'b1')]\n",
      "P->L Homomorphism : {'a': 'a', 'a_1': 'a_1', 'c': 'c', 'b': 'b', 'b1': 'b'}\n",
      "P->R Homomorphism : {'a': 'a', 'a_1': 'a', 'c': 'a', 'b': 'b', 'b1': 'b1'}\n",
      "\n",
      "Left hand side\n",
      "['a', 'd', 'a_1', 'c', 'b']\n",
      "[('a', 'd'), ('a', 'a_1'), ('a', 'b'), ('a', 'a'), ('a_1', 'b'), ('a_1', 'a_1'), ('a_1', 'a'), ('c', 'a_1'), ('c', 'a')]\n",
      "Preserved part\n",
      "['a', 'a_1', 'c', 'b']\n",
      "[('a', 'a'), ('a', 'a_1'), ('a', 'b'), ('a_1', 'a'), ('a_1', 'a_1'), ('a_1', 'b')]\n",
      "Right hand side\n",
      "['a_c', 'b']\n",
      "[('a_c', 'b'), ('a_c', 'a_c')]\n",
      "P->L Homomorphism : {'a': 'a', 'a_1': 'a_1', 'c': 'c', 'b': 'b'}\n",
      "P->R Homomorphism : {'a': 'a_c', 'a_1': 'a_c', 'c': 'a_c', 'b': 'b'}\n",
      "\n",
      "Left hand side\n",
      "['a', 'd', 'a_1', 'c', 'b']\n",
      "[('a', 'd'), ('a', 'a_1'), ('a', 'b'), ('a', 'a'), ('a_1', 'b'), ('a_1', 'a_1'), ('a_1', 'a'), ('c', 'a_1'), ('c', 'a')]\n",
      "Preserved part\n",
      "['a', 'a_1', 'c', 'b']\n",
      "[('a', 'a'), ('a', 'a_1'), ('a', 'b'), ('a_1', 'a'), ('a_1', 'a_1'), ('a_1', 'b')]\n",
      "Right hand side\n",
      "['a_c', 'b']\n",
      "[('a_c', 'b'), ('a_c', 'a_c')]\n",
      "P->L Homomorphism : {'a': 'a', 'a_1': 'a_1', 'c': 'c', 'b': 'b'}\n",
      "P->R Homomorphism : {'a': 'a_c', 'a_1': 'a_c', 'c': 'a_c', 'b': 'b'}\n",
      "\n",
      "Left hand side\n",
      "['a', 'd']\n",
      "[('a', 'd')]\n",
      "Preserved part\n",
      "['a']\n",
      "[]\n",
      "Right hand side\n",
      "['a']\n",
      "[]\n",
      "P->L Homomorphism : {'a': 'a'}\n",
      "P->R Homomorphism : {'a': 'a'}\n",
      "\n",
      "Left hand side\n",
      "['a', 'd']\n",
      "[('a', 'd')]\n",
      "Preserved part\n",
      "['a']\n",
      "[]\n",
      "Right hand side\n",
      "['a']\n",
      "[]\n",
      "P->L Homomorphism : {'a': 'a'}\n",
      "P->R Homomorphism : {'a': 'a'}\n",
      "\n"
     ]
    },
    {
     "data": {
      "image/png": "[encoded data removed]",
      "text/plain": [
       "<Figure size 432x288 with 1 Axes>"
      ]
     },
     "metadata": {},
     "output_type": "display_data"
    },
    {
     "data": {
      "text/plain": [
       "{'b': array([0.70417133, 0.10915195]),\n",
       " 'c': array([ 0.14705316, -0.09415682]),\n",
       " 'a': array([0.29657653, 0.24114495]),\n",
       " 'a1': array([-0.14780102, -0.00089992]),\n",
       " 'd': array([-1.        , -0.25524016])}"
      ]
     },
     "execution_count": 24,
     "metadata": {},
     "output_type": "execute_result"
    }
   ],
   "source": [
    "g.rewrite(rule, {\"a\": rhs_instance[rhs_clone]}, message=\"Add d -> clone of a\")\n",
    "plot_graph(g.graph)"
   ]
  },
  {
   "cell_type": "code",
   "execution_count": 25,
   "metadata": {},
   "outputs": [
    {
     "name": "stdout",
     "output_type": "stream",
     "text": [
      "Left hand side\n",
      "['a', 'd']\n",
      "[('a', 'd')]\n",
      "Preserved part\n",
      "['a']\n",
      "[]\n",
      "Right hand side\n",
      "['a']\n",
      "[]\n",
      "P->L Homomorphism : {'a': 'a'}\n",
      "P->R Homomorphism : {'a': 'a'}\n",
      "\n"
     ]
    }
   ],
   "source": [
    "print(g._deltas[\"master\"][\"rule\"])"
   ]
  },
  {
   "cell_type": "code",
   "execution_count": 26,
   "metadata": {},
   "outputs": [],
   "source": [
    "g.switch_branch(\"master\")"
   ]
  },
  {
   "cell_type": "code",
   "execution_count": 27,
   "metadata": {},
   "outputs": [
    {
     "name": "stdout",
     "output_type": "stream",
     "text": [
      "Left hand side\n",
      "['a']\n",
      "[]\n",
      "Preserved part\n",
      "['a']\n",
      "[]\n",
      "Right hand side\n",
      "['a', 'd']\n",
      "[('a', 'd')]\n",
      "P->L Homomorphism : {'a': 'a'}\n",
      "P->R Homomorphism : {'a': 'a'}\n",
      "\n"
     ]
    }
   ],
   "source": [
    "print(g._deltas[\"test\"][\"rule\"])"
   ]
  },
  {
   "cell_type": "code",
   "execution_count": 28,
   "metadata": {
    "collapsed": true
   },
   "outputs": [],
   "source": [
    "pattern = nx.DiGraph()\n",
    "pattern.add_node(\"a\")\n",
    "rule = Rule.from_transform(pattern)\n",
    "rule.inject_remove_node(\"a\")"
   ]
  },
  {
   "cell_type": "code",
   "execution_count": 29,
   "metadata": {},
   "outputs": [
    {
     "name": "stdout",
     "output_type": "stream",
     "text": [
      "Left hand side\n",
      "['b', 'a1', 'c']\n",
      "[('a1', 'b'), ('a1', 'a1'), ('c', 'a1')]\n",
      "Preserved part\n",
      "['b', 'b1', 'a1', 'c']\n",
      "[('a1', 'b'), ('a1', 'b1')]\n",
      "Right hand side\n",
      "['b', 'b1', 'a']\n",
      "[('a', 'b'), ('a', 'b1')]\n",
      "P->L Homomorphism : {'b': 'b', 'b1': 'b', 'a1': 'a1', 'c': 'c'}\n",
      "P->R Homomorphism : {'b': 'b', 'b1': 'b1', 'a1': 'a', 'c': 'a'}\n",
      "\n",
      "Left hand side\n",
      "['b', 'a1', 'c']\n",
      "[('a1', 'b'), ('a1', 'a1'), ('c', 'a1')]\n",
      "Preserved part\n",
      "['b', 'b1', 'a1', 'c']\n",
      "[('a1', 'b'), ('a1', 'b1')]\n",
      "Right hand side\n",
      "['b', 'b1', 'a']\n",
      "[('a', 'b'), ('a', 'b1')]\n",
      "P->L Homomorphism : {'b': 'b', 'b1': 'b', 'a1': 'a1', 'c': 'c'}\n",
      "P->R Homomorphism : {'b': 'b', 'b1': 'b1', 'a1': 'a', 'c': 'a'}\n",
      "\n",
      "Left hand side\n",
      "['b', 'a1', 'c']\n",
      "[('a1', 'b'), ('a1', 'a1'), ('c', 'a1')]\n",
      "Preserved part\n",
      "['b', 'a1', 'c']\n",
      "[('a1', 'b'), ('a1', 'a1')]\n",
      "Right hand side\n",
      "['a_c', 'b']\n",
      "[('a_c', 'b'), ('a_c', 'a_c')]\n",
      "P->L Homomorphism : {'b': 'b', 'a1': 'a1', 'c': 'c'}\n",
      "P->R Homomorphism : {'b': 'b', 'a1': 'a_c', 'c': 'a_c'}\n",
      "\n",
      "Left hand side\n",
      "['b', 'a1', 'c']\n",
      "[('a1', 'b'), ('a1', 'a1'), ('c', 'a1')]\n",
      "Preserved part\n",
      "['b', 'a1', 'c']\n",
      "[('a1', 'b'), ('a1', 'a1')]\n",
      "Right hand side\n",
      "['a_c', 'b']\n",
      "[('a_c', 'b'), ('a_c', 'a_c')]\n",
      "P->L Homomorphism : {'b': 'b', 'a1': 'a1', 'c': 'c'}\n",
      "P->R Homomorphism : {'b': 'b', 'a1': 'a_c', 'c': 'a_c'}\n",
      "\n",
      "Left hand side\n",
      "['b', 'a1', 'c']\n",
      "[]\n",
      "Preserved part\n",
      "['b', 'a1', 'c']\n",
      "[]\n",
      "Right hand side\n",
      "['a', 'd', 'a_1', 'b', 'c']\n",
      "[('a', 'd'), ('a_1', 'a_1'), ('a_1', 'b'), ('a_1', 'a'), ('c', 'a_1')]\n",
      "P->L Homomorphism : {'b': 'b', 'a1': 'a1', 'c': 'c'}\n",
      "P->R Homomorphism : {'b': 'b', 'a1': 'a', 'c': 'c'}\n",
      "\n",
      "Left hand side\n",
      "['b', 'a1', 'c']\n",
      "[]\n",
      "Preserved part\n",
      "['b', 'a1', 'c']\n",
      "[]\n",
      "Right hand side\n",
      "['a', 'd', 'a_1', 'b', 'c']\n",
      "[('a', 'd'), ('a_1', 'a_1'), ('a_1', 'b'), ('a_1', 'a'), ('c', 'a_1')]\n",
      "P->L Homomorphism : {'b': 'b', 'a1': 'a1', 'c': 'c'}\n",
      "P->R Homomorphism : {'b': 'b', 'a1': 'a', 'c': 'c'}\n",
      "\n"
     ]
    },
    {
     "data": {
      "image/png": "[encoded data removed]",
      "text/plain": [
       "<Figure size 432x288 with 1 Axes>"
      ]
     },
     "metadata": {},
     "output_type": "display_data"
    },
    {
     "data": {
      "text/plain": [
       "{'b': array([-0.26643117, -1.        ]),\n",
       " 'c': array([0.70622716, 0.71096888]),\n",
       " 'a1': array([-0.439796  ,  0.28903112])}"
      ]
     },
     "execution_count": 29,
     "metadata": {},
     "output_type": "execute_result"
    }
   ],
   "source": [
    "rhs_instance, _ = g.rewrite(rule, {\"a\": rhs_instance[\"a\"]}, message=\"Remove a\")\n",
    "plot_graph(g.graph)"
   ]
  },
  {
   "cell_type": "code",
   "execution_count": 30,
   "metadata": {},
   "outputs": [
    {
     "name": "stdout",
     "output_type": "stream",
     "text": [
      "Left hand side\n",
      "['b', 'a1', 'c']\n",
      "[]\n",
      "Preserved part\n",
      "['b', 'a1', 'c']\n",
      "[]\n",
      "Right hand side\n",
      "['a', 'd', 'a_1', 'b', 'c']\n",
      "[('a', 'd'), ('a_1', 'a_1'), ('a_1', 'b'), ('a_1', 'a'), ('c', 'a_1')]\n",
      "P->L Homomorphism : {'b': 'b', 'a1': 'a1', 'c': 'c'}\n",
      "P->R Homomorphism : {'b': 'b', 'a1': 'a', 'c': 'c'}\n",
      "\n"
     ]
    }
   ],
   "source": [
    "print(g._deltas[\"test\"][\"rule\"])"
   ]
  },
  {
   "cell_type": "code",
   "execution_count": 31,
   "metadata": {},
   "outputs": [
    {
     "data": {
      "text/plain": [
       "['master', 'branch', 'dev', 'test']"
      ]
     },
     "execution_count": 31,
     "metadata": {},
     "output_type": "execute_result"
    }
   ],
   "source": [
    "g.branches()"
   ]
  },
  {
   "cell_type": "code",
   "execution_count": 32,
   "metadata": {},
   "outputs": [
    {
     "name": "stdout",
     "output_type": "stream",
     "text": [
      "!!!Found clone and merge a1_c {'c', 'a1'} {'a'}\n",
      "Left hand side\n",
      "['b', 'a1_c']\n",
      "[('a1_c', 'a1_c'), ('a1_c', 'b')]\n",
      "Preserved part\n",
      "['b', 'b1', 'a1_c']\n",
      "[('a1_c', 'b'), ('a1_c', 'b1')]\n",
      "Right hand side\n",
      "['b', 'b1', 'a']\n",
      "[('a', 'b'), ('a', 'b1')]\n",
      "P->L Homomorphism : {'b': 'b', 'b1': 'b', 'a1_c': 'a1_c'}\n",
      "P->R Homomorphism : {'b': 'b', 'b1': 'b1', 'a1_c': 'a'}\n",
      "\n",
      "Left hand side\n",
      "['b', 'a1_c']\n",
      "[('a1_c', 'a1_c'), ('a1_c', 'b')]\n",
      "Preserved part\n",
      "['b', 'b1', 'a1_c']\n",
      "[('a1_c', 'b'), ('a1_c', 'b1')]\n",
      "Right hand side\n",
      "['b', 'b1', 'a']\n",
      "[('a', 'b'), ('a', 'b1')]\n",
      "P->L Homomorphism : {'b': 'b', 'b1': 'b', 'a1_c': 'a1_c'}\n",
      "P->R Homomorphism : {'b': 'b', 'b1': 'b1', 'a1_c': 'a'}\n",
      "\n",
      "!!!Found clone and merge a1_c {'c', 'a1'} {'a_c'}\n",
      "Left hand side\n",
      "['b', 'a1_c']\n",
      "[('a1_c', 'a1_c'), ('a1_c', 'b')]\n",
      "Preserved part\n",
      "['b', 'a1_c']\n",
      "[('a1_c', 'a1_c'), ('a1_c', 'b')]\n",
      "Right hand side\n",
      "['a_c', 'b']\n",
      "[('a_c', 'b'), ('a_c', 'a_c')]\n",
      "P->L Homomorphism : {'b': 'b', 'a1_c': 'a1_c'}\n",
      "P->R Homomorphism : {'b': 'b', 'a1_c': 'a_c'}\n",
      "\n",
      "Left hand side\n",
      "['b', 'a1_c']\n",
      "[('a1_c', 'a1_c'), ('a1_c', 'b')]\n",
      "Preserved part\n",
      "['b', 'a1_c']\n",
      "[('a1_c', 'a1_c'), ('a1_c', 'b')]\n",
      "Right hand side\n",
      "['a_c', 'b']\n",
      "[('a_c', 'b'), ('a_c', 'a_c')]\n",
      "P->L Homomorphism : {'b': 'b', 'a1_c': 'a1_c'}\n",
      "P->R Homomorphism : {'b': 'b', 'a1_c': 'a_c'}\n",
      "\n",
      "Left hand side\n",
      "['b', 'a1_c']\n",
      "[('a1_c', 'a1_c'), ('a1_c', 'b')]\n",
      "Preserved part\n",
      "['b', 'a1', 'c']\n",
      "[('a1', 'b'), ('a1', 'a1'), ('c', 'a1')]\n",
      "Right hand side\n",
      "['a', 'd', 'a_1', 'b', 'c']\n",
      "[('a', 'd'), ('a', 'b'), ('a', 'a'), ('a_1', 'a_1'), ('a_1', 'b'), ('a_1', 'a'), ('c', 'a_1'), ('c', 'a')]\n",
      "P->L Homomorphism : {'b': 'b', 'a1': 'a1_c', 'c': 'a1_c'}\n",
      "P->R Homomorphism : {'b': 'b', 'a1': 'a', 'c': 'c'}\n",
      "\n",
      "Left hand side\n",
      "['b', 'a1_c']\n",
      "[('a1_c', 'a1_c'), ('a1_c', 'b')]\n",
      "Preserved part\n",
      "['b', 'a1', 'c']\n",
      "[('a1', 'b'), ('a1', 'a1'), ('c', 'a1')]\n",
      "Right hand side\n",
      "['a', 'd', 'a_1', 'b', 'c']\n",
      "[('a', 'd'), ('a', 'b'), ('a', 'a'), ('a_1', 'a_1'), ('a_1', 'b'), ('a_1', 'a'), ('c', 'a_1'), ('c', 'a')]\n",
      "P->L Homomorphism : {'b': 'b', 'a1': 'a1_c', 'c': 'a1_c'}\n",
      "P->R Homomorphism : {'b': 'b', 'a1': 'a', 'c': 'c'}\n",
      "\n"
     ]
    },
    {
     "data": {
      "text/plain": [
       "'f4d250d4-164c-4e6c-83c8-89787a8cd7a0'"
      ]
     },
     "execution_count": 32,
     "metadata": {},
     "output_type": "execute_result"
    }
   ],
   "source": [
    "g.merge_with(\"dev\")"
   ]
  },
  {
   "cell_type": "code",
   "execution_count": 33,
   "metadata": {},
   "outputs": [
    {
     "data": {
      "image/png": "[encoded data removed]",
      "text/plain": [
       "<Figure size 1008x216 with 3 Axes>"
      ]
     },
     "metadata": {},
     "output_type": "display_data"
    }
   ],
   "source": [
    "plot_rule(g._deltas[\"test\"][\"rule\"])"
   ]
  },
  {
   "cell_type": "code",
   "execution_count": 34,
   "metadata": {},
   "outputs": [
    {
     "data": {
      "image/png": "[encoded data removed]",
      "text/plain": [
       "<Figure size 432x288 with 1 Axes>"
      ]
     },
     "metadata": {},
     "output_type": "display_data"
    },
    {
     "data": {
      "text/plain": [
       "{'b': array([ 0.04360405, -1.        ]),\n",
       " 'a1_c': array([-0.04360405,  1.        ])}"
      ]
     },
     "execution_count": 34,
     "metadata": {},
     "output_type": "execute_result"
    }
   ],
   "source": [
    "plot_graph(g.graph)"
   ]
  },
  {
   "cell_type": "code",
   "execution_count": 35,
   "metadata": {},
   "outputs": [
    {
     "name": "stdout",
     "output_type": "stream",
     "text": [
      "Left hand side\n",
      "['b', 'a1_c']\n",
      "[('a1_c', 'a1_c'), ('a1_c', 'b')]\n",
      "Preserved part\n",
      "['b', 'a1', 'c']\n",
      "[('a1', 'b'), ('a1', 'a1'), ('c', 'a1')]\n",
      "Right hand side\n",
      "['a', 'd', 'a_1', 'b', 'c']\n",
      "[('a', 'd'), ('a', 'b'), ('a', 'a'), ('a_1', 'a_1'), ('a_1', 'b'), ('a_1', 'a'), ('c', 'a_1'), ('c', 'a')]\n",
      "P->L Homomorphism : {'b': 'b', 'a1': 'a1_c', 'c': 'a1_c'}\n",
      "P->R Homomorphism : {'b': 'b', 'a1': 'a', 'c': 'c'}\n",
      "\n"
     ]
    }
   ],
   "source": [
    "print(g._deltas[\"test\"][\"rule\"])"
   ]
  },
  {
   "cell_type": "code",
   "execution_count": 36,
   "metadata": {},
   "outputs": [
    {
     "name": "stdout",
     "output_type": "stream",
     "text": [
      "Left hand side\n",
      "['b', 'a1_c', 'd', 'a_1']\n",
      "[('a1_c', 'a1_c'), ('a1_c', 'b'), ('a1_c', 'd'), ('a1_c', 'a_1'), ('a_1', 'a_1'), ('a_1', 'b'), ('a_1', 'a1_c')]\n",
      "Preserved part\n",
      "['b', 'b1', 'a1_c']\n",
      "[('a1_c', 'b'), ('a1_c', 'b1')]\n",
      "Right hand side\n",
      "['b', 'b1', 'a']\n",
      "[('a', 'b'), ('a', 'b1')]\n",
      "P->L Homomorphism : {'b': 'b', 'b1': 'b', 'a1_c': 'a1_c'}\n",
      "P->R Homomorphism : {'b': 'b', 'b1': 'b1', 'a1_c': 'a'}\n",
      "\n",
      "Left hand side\n",
      "['b', 'a1_c', 'd', 'a_1']\n",
      "[('a1_c', 'a1_c'), ('a1_c', 'b'), ('a1_c', 'd'), ('a1_c', 'a_1'), ('a_1', 'a_1'), ('a_1', 'b'), ('a_1', 'a1_c')]\n",
      "Preserved part\n",
      "['b', 'b1', 'a1_c']\n",
      "[('a1_c', 'b'), ('a1_c', 'b1')]\n",
      "Right hand side\n",
      "['b', 'b1', 'a']\n",
      "[('a', 'b'), ('a', 'b1')]\n",
      "P->L Homomorphism : {'b': 'b', 'b1': 'b', 'a1_c': 'a1_c'}\n",
      "P->R Homomorphism : {'b': 'b', 'b1': 'b1', 'a1_c': 'a'}\n",
      "\n",
      "Left hand side\n",
      "['b', 'a1_c', 'd', 'a_1']\n",
      "[('a1_c', 'a1_c'), ('a1_c', 'b'), ('a1_c', 'd'), ('a1_c', 'a_1'), ('a_1', 'a_1'), ('a_1', 'b'), ('a_1', 'a1_c')]\n",
      "Preserved part\n",
      "['b', 'a1_c', 'a1_c1']\n",
      "[('a1_c', 'b'), ('a1_c', 'a1_c'), ('a1_c1', 'a1_c')]\n",
      "Right hand side\n",
      "['a', 'd', 'a_1', 'b', 'c']\n",
      "[('a', 'd'), ('a', 'b'), ('a', 'a'), ('a_1', 'a_1'), ('a_1', 'b'), ('a_1', 'a'), ('c', 'a_1'), ('c', 'a')]\n",
      "P->L Homomorphism : {'b': 'b', 'a1_c': 'a1_c', 'a1_c1': 'a1_c'}\n",
      "P->R Homomorphism : {'b': 'b', 'a1_c': 'a', 'a1_c1': 'c'}\n",
      "\n",
      "Left hand side\n",
      "['b', 'a1_c', 'd', 'a_1']\n",
      "[('a1_c', 'a1_c'), ('a1_c', 'b'), ('a1_c', 'd'), ('a1_c', 'a_1'), ('a_1', 'a_1'), ('a_1', 'b'), ('a_1', 'a1_c')]\n",
      "Preserved part\n",
      "['b', 'a1_c', 'a1_c1']\n",
      "[('a1_c', 'b'), ('a1_c', 'a1_c'), ('a1_c1', 'a1_c')]\n",
      "Right hand side\n",
      "['a', 'd', 'a_1', 'b', 'c']\n",
      "[('a', 'd'), ('a', 'b'), ('a', 'a'), ('a_1', 'a_1'), ('a_1', 'b'), ('a_1', 'a'), ('c', 'a_1'), ('c', 'a')]\n",
      "P->L Homomorphism : {'b': 'b', 'a1_c': 'a1_c', 'a1_c1': 'a1_c'}\n",
      "P->R Homomorphism : {'b': 'b', 'a1_c': 'a', 'a1_c1': 'c'}\n",
      "\n"
     ]
    },
    {
     "data": {
      "text/plain": [
       "'0bef9bdb-dd54-474f-8ec6-e377f114eaa9'"
      ]
     },
     "execution_count": 36,
     "metadata": {},
     "output_type": "execute_result"
    }
   ],
   "source": [
    "g.merge_with(\"test\")"
   ]
  },
  {
   "cell_type": "code",
   "execution_count": 37,
   "metadata": {},
   "outputs": [
    {
     "data": {
      "image/png": "[encoded data removed]",
      "text/plain": [
       "<Figure size 432x288 with 1 Axes>"
      ]
     },
     "metadata": {},
     "output_type": "display_data"
    },
    {
     "data": {
      "text/plain": [
       "{'b': array([0.41543854, 0.92428325]),\n",
       " 'a1_c': array([-0.11411314, -0.04561488]),\n",
       " 'd': array([-0.77944462, -1.        ]),\n",
       " 'a_1': array([0.47811923, 0.12133163])}"
      ]
     },
     "execution_count": 37,
     "metadata": {},
     "output_type": "execute_result"
    }
   ],
   "source": [
    "plot_graph(g.graph)"
   ]
  },
  {
   "cell_type": "code",
   "execution_count": 38,
   "metadata": {},
   "outputs": [
    {
     "name": "stdout",
     "output_type": "stream",
     "text": [
      "DELTA TO BRANCH\n",
      "\n",
      "\n",
      "Left hand side\n",
      "['b', 'a1_c', 'd', 'a_1']\n",
      "[('a1_c', 'a1_c'), ('a1_c', 'b'), ('a1_c', 'd'), ('a1_c', 'a_1'), ('a_1', 'a_1'), ('a_1', 'b'), ('a_1', 'a1_c')]\n",
      "Preserved part\n",
      "['b', 'b1', 'a1_c']\n",
      "[('a1_c', 'b'), ('a1_c', 'b1')]\n",
      "Right hand side\n",
      "['b', 'b1', 'a']\n",
      "[('a', 'b'), ('a', 'b1')]\n",
      "P->L Homomorphism : {'b': 'b', 'b1': 'b', 'a1_c': 'a1_c'}\n",
      "P->R Homomorphism : {'b': 'b', 'b1': 'b1', 'a1_c': 'a'}\n",
      "\n",
      "{'b': 'b', 'a1_c': 'a1_c', 'd': 'd', 'a_1': 'a_1'}\n",
      "{'b': 'b', 'b1': 'b1', 'a': 'a'}\n"
     ]
    }
   ],
   "source": [
    "print(\"DELTA TO BRANCH\\n\\n\")\n",
    "print(g._deltas[\"branch\"][\"rule\"])\n",
    "print(g._deltas[\"branch\"][\"lhs_instance\"])\n",
    "print(g._deltas[\"branch\"][\"rhs_instance\"])"
   ]
  },
  {
   "cell_type": "code",
   "execution_count": 39,
   "metadata": {},
   "outputs": [
    {
     "data": {
      "text/plain": [
       "OutEdgeView([('a1_c', 'a1_c'), ('a1_c', 'b'), ('a1_c', 'd'), ('a1_c', 'a_1'), ('a_1', 'a_1'), ('a_1', 'b'), ('a_1', 'a1_c')])"
      ]
     },
     "execution_count": 39,
     "metadata": {},
     "output_type": "execute_result"
    }
   ],
   "source": [
    "g.graph.edges()"
   ]
  },
  {
   "cell_type": "code",
   "execution_count": 40,
   "metadata": {},
   "outputs": [
    {
     "name": "stdout",
     "output_type": "stream",
     "text": [
      "0c43ffd1-9e9b-413e-b82a-69bf6395c31f master Initial commit\n",
      "90df89e0-c863-41d9-b7e0-507eedb6b940 master Add a -> b\n",
      "040d6776-5413-4b4a-b109-d0ce10705ef7 branch Created branch 'branch'\n",
      "88141adf-1b2b-4b5c-8564-85e483a0e483 branch Clone b\n",
      "e50f1d04-da79-4069-9ca2-09392e97d707 master Add c and c->a\n",
      "e444f5cf-d97a-4914-93f9-eab1659fc581 dev Created branch 'dev'\n",
      "7f19ba7b-0ed3-49fe-b735-70d42f926dda dev Merge c and a\n",
      "b1f9fb75-64d6-41ab-80f2-80067d742f5a master Clone a\n",
      "9fc853f9-a839-4fc4-b0b3-71b40f1c4947 test Created branch 'test'\n",
      "d073c0f9-1f5c-4b71-80e4-f436b6b71a16 test Add d -> clone of a\n",
      "2eee2b77-d6de-4108-9dca-847e58d410de master Remove a\n",
      "f4d250d4-164c-4e6c-83c8-89787a8cd7a0 master Merged branch 'dev' into 'master'\n",
      "0bef9bdb-dd54-474f-8ec6-e377f114eaa9 master Merged branch 'test' into 'master'\n"
     ]
    }
   ],
   "source": [
    "for n in g._revision_graph.nodes():\n",
    "    print(n, g._revision_graph.node[n][\"branch\"], g._revision_graph.node[n][\"message\"])"
   ]
  },
  {
   "cell_type": "code",
   "execution_count": 41,
   "metadata": {
    "scrolled": false
   },
   "outputs": [
    {
     "name": "stdout",
     "output_type": "stream",
     "text": [
      "-> Rollback rule:\n",
      "Left hand side\n",
      "['b', 'a1_c', 'd', 'a_1']\n",
      "[('a1_c', 'a1_c'), ('a1_c', 'b'), ('a1_c', 'd'), ('a1_c', 'a_1'), ('a_1', 'a_1'), ('a_1', 'b'), ('a_1', 'a1_c')]\n",
      "Preserved part\n",
      "['a', 'a_1', 'b', 'c']\n",
      "[('a', 'a'), ('a', 'b'), ('a_1', 'a'), ('a_1', 'a_1'), ('a_1', 'b'), ('c', 'a'), ('c', 'a_1')]\n",
      "Right hand side\n",
      "['a', 'a_1', 'b', 'c']\n",
      "[('a', 'b'), ('a', 'a'), ('a_1', 'a_1'), ('a_1', 'b'), ('a_1', 'a'), ('c', 'a_1'), ('c', 'a')]\n",
      "P->L Homomorphism : {'a': 'a1_c', 'a_1': 'a_1', 'b': 'b', 'c': 'a1_c'}\n",
      "P->R Homomorphism : {'a': 'a', 'a_1': 'a_1', 'b': 'b', 'c': 'c'}\n",
      "\n"
     ]
    },
    {
     "ename": "KeyError",
     "evalue": "'a'",
     "output_type": "error",
     "traceback": [
      "\u001b[0;31m---------------------------------------------------------------------------\u001b[0m",
      "\u001b[0;31mKeyError\u001b[0m                                  Traceback (most recent call last)",
      "\u001b[0;32m<ipython-input-41-cad5811c7e2c>\u001b[0m in \u001b[0;36m<module>\u001b[0;34m\u001b[0m\n\u001b[0;32m----> 1\u001b[0;31m \u001b[0mg\u001b[0m\u001b[0;34m.\u001b[0m\u001b[0mrollback\u001b[0m\u001b[0;34m(\u001b[0m\u001b[0mrollback_commit\u001b[0m\u001b[0;34m)\u001b[0m\u001b[0;34m\u001b[0m\u001b[0;34m\u001b[0m\u001b[0m\n\u001b[0m",
      "\u001b[0;32m~/anaconda3/envs/kami/lib/python3.7/site-packages/ReGraph-2.0-py3.7.egg/regraph/audit.py\u001b[0m in \u001b[0;36mrollback\u001b[0;34m(self, rollback_commit, message)\u001b[0m\n\u001b[1;32m    297\u001b[0m                     \u001b[0mself\u001b[0m\u001b[0;34m.\u001b[0m\u001b[0m_compose_delta_path\u001b[0m\u001b[0;34m(\u001b[0m\u001b[0mbranching_to_head\u001b[0m\u001b[0;34m)\u001b[0m\u001b[0;34m\u001b[0m\u001b[0;34m\u001b[0m\u001b[0m\n\u001b[1;32m    298\u001b[0m                 )\n\u001b[0;32m--> 299\u001b[0;31m                 \u001b[0mself\u001b[0m\u001b[0;34m.\u001b[0m\u001b[0m_refine_delta\u001b[0m\u001b[0;34m(\u001b[0m\u001b[0mself\u001b[0m\u001b[0;34m.\u001b[0m\u001b[0m_deltas\u001b[0m\u001b[0;34m[\u001b[0m\u001b[0mhead\u001b[0m\u001b[0;34m]\u001b[0m\u001b[0;34m)\u001b[0m\u001b[0;34m\u001b[0m\u001b[0;34m\u001b[0m\u001b[0m\n\u001b[0m\u001b[1;32m    300\u001b[0m                 \u001b[0;31m# self._deltas[head] = self._compose_deltas(\u001b[0m\u001b[0;34m\u001b[0m\u001b[0;34m\u001b[0m\u001b[0;34m\u001b[0m\u001b[0m\n\u001b[1;32m    301\u001b[0m                 \u001b[0;31m#     self._invert_delta(rollback_delta),\u001b[0m\u001b[0;34m\u001b[0m\u001b[0;34m\u001b[0m\u001b[0;34m\u001b[0m\u001b[0m\n",
      "\u001b[0;32m~/anaconda3/envs/kami/lib/python3.7/site-packages/ReGraph-2.0-py3.7.egg/regraph/audit.py\u001b[0m in \u001b[0;36m_refine_delta\u001b[0;34m(self, delta)\u001b[0m\n\u001b[1;32m    335\u001b[0m \u001b[0;34m\u001b[0m\u001b[0m\n\u001b[1;32m    336\u001b[0m     \u001b[0;32mdef\u001b[0m \u001b[0m_refine_delta\u001b[0m\u001b[0;34m(\u001b[0m\u001b[0mself\u001b[0m\u001b[0;34m,\u001b[0m \u001b[0mdelta\u001b[0m\u001b[0;34m)\u001b[0m\u001b[0;34m:\u001b[0m\u001b[0;34m\u001b[0m\u001b[0;34m\u001b[0m\u001b[0m\n\u001b[0;32m--> 337\u001b[0;31m         \u001b[0mlhs\u001b[0m \u001b[0;34m=\u001b[0m \u001b[0mdelta\u001b[0m\u001b[0;34m[\u001b[0m\u001b[0;34m\"rule\"\u001b[0m\u001b[0;34m]\u001b[0m\u001b[0;34m.\u001b[0m\u001b[0mrefine\u001b[0m\u001b[0;34m(\u001b[0m\u001b[0mself\u001b[0m\u001b[0;34m.\u001b[0m\u001b[0mgraph\u001b[0m\u001b[0;34m,\u001b[0m \u001b[0mdelta\u001b[0m\u001b[0;34m[\u001b[0m\u001b[0;34m\"lhs_instance\"\u001b[0m\u001b[0;34m]\u001b[0m\u001b[0;34m)\u001b[0m\u001b[0;34m\u001b[0m\u001b[0;34m\u001b[0m\u001b[0m\n\u001b[0m\u001b[1;32m    338\u001b[0m         \u001b[0mdelta\u001b[0m\u001b[0;34m[\u001b[0m\u001b[0;34m\"lhs_instance\"\u001b[0m\u001b[0;34m]\u001b[0m \u001b[0;34m=\u001b[0m \u001b[0mlhs\u001b[0m\u001b[0;34m\u001b[0m\u001b[0;34m\u001b[0m\u001b[0m\n\u001b[1;32m    339\u001b[0m         \u001b[0;32mfor\u001b[0m \u001b[0mn\u001b[0m \u001b[0;32min\u001b[0m \u001b[0mdelta\u001b[0m\u001b[0;34m[\u001b[0m\u001b[0;34m\"rule\"\u001b[0m\u001b[0;34m]\u001b[0m\u001b[0;34m.\u001b[0m\u001b[0mrhs\u001b[0m\u001b[0;34m.\u001b[0m\u001b[0mnodes\u001b[0m\u001b[0;34m(\u001b[0m\u001b[0;34m)\u001b[0m\u001b[0;34m:\u001b[0m\u001b[0;34m\u001b[0m\u001b[0;34m\u001b[0m\u001b[0m\n",
      "\u001b[0;32m~/anaconda3/envs/kami/lib/python3.7/site-packages/ReGraph-2.0-py3.7.egg/regraph/rules.py\u001b[0m in \u001b[0;36mrefine\u001b[0;34m(self, graph, instance)\u001b[0m\n\u001b[1;32m   1939\u001b[0m                     instance[self.p_lhs[sp]], instance[self.p_lhs[tp]]))\n\u001b[1;32m   1940\u001b[0m                 all_edge_attrs = primitives.get_edge(\n\u001b[0;32m-> 1941\u001b[0;31m                     graph, instance[self.p_lhs[sp]], instance[self.p_lhs[tp]])\n\u001b[0m\u001b[1;32m   1942\u001b[0m                 primitives.set_edge(\n\u001b[1;32m   1943\u001b[0m                     \u001b[0mself\u001b[0m\u001b[0;34m.\u001b[0m\u001b[0mlhs\u001b[0m\u001b[0;34m,\u001b[0m \u001b[0mself\u001b[0m\u001b[0;34m.\u001b[0m\u001b[0mp_lhs\u001b[0m\u001b[0;34m[\u001b[0m\u001b[0msp\u001b[0m\u001b[0;34m]\u001b[0m\u001b[0;34m,\u001b[0m \u001b[0mself\u001b[0m\u001b[0;34m.\u001b[0m\u001b[0mp_lhs\u001b[0m\u001b[0;34m[\u001b[0m\u001b[0mtp\u001b[0m\u001b[0;34m]\u001b[0m\u001b[0;34m,\u001b[0m\u001b[0;34m\u001b[0m\u001b[0;34m\u001b[0m\u001b[0m\n",
      "\u001b[0;32m~/anaconda3/envs/kami/lib/python3.7/site-packages/ReGraph-2.0-py3.7.egg/regraph/primitives.py\u001b[0m in \u001b[0;36mget_edge\u001b[0;34m(graph, s, t)\u001b[0m\n\u001b[1;32m    551\u001b[0m     \"\"\"\n\u001b[1;32m    552\u001b[0m     \u001b[0;32mif\u001b[0m \u001b[0misinstance\u001b[0m\u001b[0;34m(\u001b[0m\u001b[0mgraph\u001b[0m\u001b[0;34m,\u001b[0m \u001b[0mnx\u001b[0m\u001b[0;34m.\u001b[0m\u001b[0mDiGraph\u001b[0m\u001b[0;34m)\u001b[0m\u001b[0;34m:\u001b[0m\u001b[0;34m\u001b[0m\u001b[0;34m\u001b[0m\u001b[0m\n\u001b[0;32m--> 553\u001b[0;31m         \u001b[0;32mreturn\u001b[0m \u001b[0mgraph\u001b[0m\u001b[0;34m.\u001b[0m\u001b[0madj\u001b[0m\u001b[0;34m[\u001b[0m\u001b[0ms\u001b[0m\u001b[0;34m]\u001b[0m\u001b[0;34m[\u001b[0m\u001b[0mt\u001b[0m\u001b[0;34m]\u001b[0m\u001b[0;34m\u001b[0m\u001b[0;34m\u001b[0m\u001b[0m\n\u001b[0m\u001b[1;32m    554\u001b[0m     \u001b[0;32melif\u001b[0m \u001b[0misinstance\u001b[0m\u001b[0;34m(\u001b[0m\u001b[0mgraph\u001b[0m\u001b[0;34m,\u001b[0m \u001b[0mnx\u001b[0m\u001b[0;34m.\u001b[0m\u001b[0mGraph\u001b[0m\u001b[0;34m)\u001b[0m\u001b[0;34m:\u001b[0m\u001b[0;34m\u001b[0m\u001b[0;34m\u001b[0m\u001b[0m\n\u001b[1;32m    555\u001b[0m         \u001b[0;32mreturn\u001b[0m \u001b[0mmerge_attributes\u001b[0m\u001b[0;34m(\u001b[0m\u001b[0mgraph\u001b[0m\u001b[0;34m.\u001b[0m\u001b[0madj\u001b[0m\u001b[0;34m[\u001b[0m\u001b[0ms\u001b[0m\u001b[0;34m]\u001b[0m\u001b[0;34m[\u001b[0m\u001b[0mt\u001b[0m\u001b[0;34m]\u001b[0m\u001b[0;34m,\u001b[0m \u001b[0mgraph\u001b[0m\u001b[0;34m.\u001b[0m\u001b[0madj\u001b[0m\u001b[0;34m[\u001b[0m\u001b[0ms\u001b[0m\u001b[0;34m]\u001b[0m\u001b[0;34m[\u001b[0m\u001b[0mt\u001b[0m\u001b[0;34m]\u001b[0m\u001b[0;34m)\u001b[0m\u001b[0;34m\u001b[0m\u001b[0;34m\u001b[0m\u001b[0m\n",
      "\u001b[0;32m~/anaconda3/envs/kami/lib/python3.7/site-packages/networkx/classes/coreviews.py\u001b[0m in \u001b[0;36m__getitem__\u001b[0;34m(self, key)\u001b[0m\n\u001b[1;32m     52\u001b[0m \u001b[0;34m\u001b[0m\u001b[0m\n\u001b[1;32m     53\u001b[0m     \u001b[0;32mdef\u001b[0m \u001b[0m__getitem__\u001b[0m\u001b[0;34m(\u001b[0m\u001b[0mself\u001b[0m\u001b[0;34m,\u001b[0m \u001b[0mkey\u001b[0m\u001b[0;34m)\u001b[0m\u001b[0;34m:\u001b[0m\u001b[0;34m\u001b[0m\u001b[0;34m\u001b[0m\u001b[0m\n\u001b[0;32m---> 54\u001b[0;31m         \u001b[0;32mreturn\u001b[0m \u001b[0mself\u001b[0m\u001b[0;34m.\u001b[0m\u001b[0m_atlas\u001b[0m\u001b[0;34m[\u001b[0m\u001b[0mkey\u001b[0m\u001b[0;34m]\u001b[0m\u001b[0;34m\u001b[0m\u001b[0;34m\u001b[0m\u001b[0m\n\u001b[0m\u001b[1;32m     55\u001b[0m \u001b[0;34m\u001b[0m\u001b[0m\n\u001b[1;32m     56\u001b[0m     \u001b[0;32mdef\u001b[0m \u001b[0mcopy\u001b[0m\u001b[0;34m(\u001b[0m\u001b[0mself\u001b[0m\u001b[0;34m)\u001b[0m\u001b[0;34m:\u001b[0m\u001b[0;34m\u001b[0m\u001b[0;34m\u001b[0m\u001b[0m\n",
      "\u001b[0;31mKeyError\u001b[0m: 'a'"
     ]
    }
   ],
   "source": [
    "g.rollback(rollback_commit)"
   ]
  },
  {
   "cell_type": "code",
   "execution_count": null,
   "metadata": {},
   "outputs": [],
   "source": [
    "print(g._heads)\n",
    "plot_graph(g._revision_graph)\n",
    "plot_graph(g.graph)"
   ]
  },
  {
   "cell_type": "code",
   "execution_count": null,
   "metadata": {},
   "outputs": [],
   "source": [
    "print(\"DELTA TO BRANCH\\n\\n\")\n",
    "print(g._deltas[\"branch\"][\"rule\"])\n",
    "print(g._deltas[\"branch\"][\"lhs_instance\"])"
   ]
  },
  {
   "cell_type": "code",
   "execution_count": null,
   "metadata": {},
   "outputs": [],
   "source": [
    "print_graph(g.graph)"
   ]
  },
  {
   "cell_type": "code",
   "execution_count": null,
   "metadata": {},
   "outputs": [],
   "source": [
    "g.switch_branch(\"branch\")"
   ]
  },
  {
   "cell_type": "code",
   "execution_count": null,
   "metadata": {},
   "outputs": [],
   "source": [
    "g.rollback(branch_commit)"
   ]
  },
  {
   "cell_type": "code",
   "execution_count": null,
   "metadata": {},
   "outputs": [],
   "source": [
    "print(g._heads)\n",
    "plot_graph(g._revision_graph)\n",
    "plot_graph(g.graph)"
   ]
  },
  {
   "cell_type": "code",
   "execution_count": null,
   "metadata": {},
   "outputs": [],
   "source": [
    "g.switch_branch(\"master\")"
   ]
  },
  {
   "cell_type": "code",
   "execution_count": null,
   "metadata": {},
   "outputs": [],
   "source": [
    "g.current_branch()"
   ]
  },
  {
   "cell_type": "code",
   "execution_count": null,
   "metadata": {},
   "outputs": [],
   "source": [
    "plot_graph(g.graph)"
   ]
  },
  {
   "cell_type": "code",
   "execution_count": null,
   "metadata": {},
   "outputs": [],
   "source": [
    "print(\"DELTA TO BRANCH\\n\\n\")\n",
    "print(g._deltas[\"branch\"][\"rule\"])\n",
    "print(g._deltas[\"branch\"][\"lhs_instance\"])"
   ]
  },
  {
   "cell_type": "code",
   "execution_count": null,
   "metadata": {},
   "outputs": [],
   "source": [
    "g.merge_with(\"branch\")"
   ]
  },
  {
   "cell_type": "code",
   "execution_count": null,
   "metadata": {},
   "outputs": [],
   "source": [
    "plot_graph(g.graph)"
   ]
  },
  {
   "cell_type": "code",
   "execution_count": null,
   "metadata": {
    "collapsed": true
   },
   "outputs": [],
   "source": [
    "from regraph.rules import _create_merging_rule"
   ]
  },
  {
   "cell_type": "code",
   "execution_count": null,
   "metadata": {},
   "outputs": [],
   "source": [
    "print(g._deltas[\"branch\"][\"rule\"])\n",
    "print(g._deltas[\"branch\"][\"lhs_instance\"])\n",
    "print(g._deltas[\"branch\"][\"rhs_instance\"])"
   ]
  },
  {
   "cell_type": "code",
   "execution_count": null,
   "metadata": {},
   "outputs": [],
   "source": [
    "rule1, lhs1, rule2, lhs2, rhsmap = _create_merging_rule(g._deltas[\"branch\"][\"rule\"], g._deltas[\"branch\"][\"lhs_instance\"], g._deltas[\"branch\"][\"rhs_instance\"])"
   ]
  },
  {
   "cell_type": "code",
   "execution_count": null,
   "metadata": {},
   "outputs": [],
   "source": [
    "delta1 = g._compose_delta_path([\n",
    "    \"db635829-0e53-44b5-8314-19a8d7f5acc9\",\n",
    "    \"257e8867-ec60-41f4-98af-cb82b1058446\",\n",
    "    \"4396ac47-ad4c-4d76-8c27-5875fc1df67d\"\n",
    "])"
   ]
  },
  {
   "cell_type": "code",
   "execution_count": null,
   "metadata": {
    "collapsed": true
   },
   "outputs": [],
   "source": [
    "delta2 = g._compose_delta_path([\n",
    "    \"db635829-0e53-44b5-8314-19a8d7f5acc9\",\n",
    "    \"7996b90b-f8f8-4ae0-b9e0-469f31171917\"\n",
    "])"
   ]
  },
  {
   "cell_type": "code",
   "execution_count": null,
   "metadata": {},
   "outputs": [],
   "source": [
    "print(delta1[\"rule\"])\n",
    "print(delta1[\"lhs_instance\"])\n",
    "print(delta1[\"rhs_instance\"])"
   ]
  },
  {
   "cell_type": "code",
   "execution_count": null,
   "metadata": {},
   "outputs": [],
   "source": [
    "print(delta2[\"rule\"])\n",
    "print(delta2[\"lhs_instance\"])\n",
    "print(delta2[\"rhs_instance\"])"
   ]
  },
  {
   "cell_type": "code",
   "execution_count": null,
   "metadata": {},
   "outputs": [],
   "source": [
    "print(g._compose_deltas(g._invert_delta(delta2), delta1)[\"rule\"])"
   ]
  },
  {
   "cell_type": "code",
   "execution_count": null,
   "metadata": {},
   "outputs": [],
   "source": [
    "plot_rule(rule1)\n",
    "print(rule1)\n",
    "print(lhs1)\n",
    "plot_rule(rule2)\n",
    "print(rule2)\n",
    "\n",
    "print(lhs2)"
   ]
  },
  {
   "cell_type": "code",
   "execution_count": null,
   "metadata": {},
   "outputs": [],
   "source": [
    "for el in nx.bfs_tree(g.graph, \"a\", reverse=True).nodes():\n",
    "    print(el)"
   ]
  },
  {
   "cell_type": "code",
   "execution_count": null,
   "metadata": {},
   "outputs": [],
   "source": [
    "g = nx.DiGraph()\n",
    "g.add_nodes_from(\n",
    "    [\"a\", \"a1\", \"c\", \"d\", \"b\"]\n",
    ")\n",
    "g.add_edges_from([\n",
    "    (\"a\", \"a\"),\n",
    "    (\"a\", \"a1\"),\n",
    "    (\"a1\", \"a1\"),\n",
    "    (\"a1\", \"a\"),\n",
    "    (\"c\", \"a\"),\n",
    "    (\"c\", \"a1\"),\n",
    "    (\"a\", \"b\"),\n",
    "    (\"a1\", \"b\"),\n",
    "    (\"a1\", \"d\")\n",
    "])"
   ]
  },
  {
   "cell_type": "code",
   "execution_count": null,
   "metadata": {},
   "outputs": [],
   "source": [
    "pattern = nx.DiGraph()\n",
    "pattern.add_nodes_from(\n",
    "    [\"a\", \"a1\", \"c\", \"d\", \"b\"]\n",
    ")\n",
    "pattern.add_edges_from([\n",
    "    (\"a\", \"a\"),\n",
    "    (\"a\", \"a1\"),\n",
    "    (\"a1\", \"a1\"),\n",
    "    (\"c\", \"a\"),\n",
    "    (\"c\", \"a1\"),\n",
    "    (\"a\", \"b\"),\n",
    "    (\"a1\", \"b\"),\n",
    "    (\"a1\", \"d\")\n",
    "])\n",
    "\n",
    "rule = Rule.from_transform(pattern)\n",
    "rule.inject_merge_nodes([\"c\", \"a1\"])"
   ]
  },
  {
   "cell_type": "code",
   "execution_count": null,
   "metadata": {},
   "outputs": [],
   "source": [
    "rule.refine(g, {n: n for n in rule.lhs.nodes()})"
   ]
  },
  {
   "cell_type": "code",
   "execution_count": null,
   "metadata": {},
   "outputs": [],
   "source": [
    "print_graph(rule.lhs)"
   ]
  }
 ],
 "metadata": {
  "kernelspec": {
   "display_name": "Python (kami)",
   "language": "python",
   "name": "kami"
  },
  "language_info": {
   "codemirror_mode": {
    "name": "ipython",
    "version": 3
   },
   "file_extension": ".py",
   "mimetype": "text/x-python",
   "name": "python",
   "nbconvert_exporter": "python",
   "pygments_lexer": "ipython3",
   "version": "3.7.3"
  }
 },
 "nbformat": 4,
 "nbformat_minor": 2
}
