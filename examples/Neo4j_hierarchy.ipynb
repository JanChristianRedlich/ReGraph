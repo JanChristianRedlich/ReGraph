{
 "cells": [
  {
   "cell_type": "markdown",
   "metadata": {},
   "source": [
    "# Examples of utils provided by ReGraph's Neo4jHierarchy module"
   ]
  },
  {
   "cell_type": "code",
   "execution_count": 1,
   "metadata": {},
   "outputs": [],
   "source": [
    "import networkx as nx\n",
    "from regraph import Rule, plot_rule\n",
    "\n",
    "\n",
    "from regraph.neo4j.hierarchy import Neo4jHierarchy\n",
    "import regraph.neo4j.cypher_utils as cypher"
   ]
  },
  {
   "cell_type": "markdown",
   "metadata": {},
   "source": [
    "## Initializing Neo4j database\n",
    "\n",
    "0. When installing neo4j you will be asked to choose login/password for you dbs (here its \"neo4j\"/\"admin\"), if you choose other -- change in the cell below.\n",
    "1. To start neo4j server run `sudo service neo4j start`\n",
    "2. Check status by running `sudo service neo4j status`. Here you can check the _bolt_ port, change the cell below if different from 7687\n",
    "3. You can query the db by using the neo4j browser, the address can be found also in the result of 'status', e.g. \"Remote interface available at http://localhost:7474/\"."
   ]
  },
  {
   "cell_type": "code",
   "execution_count": 2,
   "metadata": {
    "scrolled": false
   },
   "outputs": [],
   "source": [
    "# initialize the neo4j driver, wrappped into Neo4jHierarchy object\n",
    "h = Neo4jHierarchy(uri=\"bolt://localhost:7687\", user=\"neo4j\", password=\"admin\")"
   ]
  },
  {
   "cell_type": "code",
   "execution_count": 3,
   "metadata": {},
   "outputs": [
    {
     "data": {
      "text/plain": [
       "<neo4j.v1.result.BoltStatementResult at 0x7f36786f3978>"
      ]
     },
     "execution_count": 3,
     "metadata": {},
     "output_type": "execute_result"
    }
   ],
   "source": [
    "h.clear()"
   ]
  },
  {
   "cell_type": "markdown",
   "metadata": {},
   "source": [
    "## Hierarchy\n",
    "\n",
    "A hierarchy is represented by at least 2 graphs with a typing relation (homorphism) between them.\n",
    "\n",
    "\n",
    "Each graph in the database is represented by a unique label which enables us to match quickly the nodes of this graph. Each node of a graph has then the labels *node* and *graphLabel*. We can match these nodes by using the query:\n",
    "\n",
    "> MATCH (n:node:graphLabel) RETURN n\n",
    "\n",
    "\n",
    "The edges of a graph are labeled as *edge* and the typing edges are labeled as *typing*. We can then easily find the image of a node with the query:\n",
    "\n",
    "> OPTIONAL MATCH (n:node:graphLabel)-[:typing]->(m) RETURN m\n",
    "\n",
    "The hierarchy skeleton is represented by nodes labeled as hierarchyNodes. It enables us to know which graphs are the ancestors of a graph we want to rewrite for example."
   ]
  },
  {
   "cell_type": "markdown",
   "metadata": {},
   "source": [
    "## Adding a graph to the hierarchy (Action Graph)"
   ]
  },
  {
   "cell_type": "markdown",
   "metadata": {},
   "source": [
    "Here we create a first graph called *ActionGraph*. This graph represent people and the relationship between them."
   ]
  },
  {
   "cell_type": "code",
   "execution_count": 4,
   "metadata": {
    "scrolled": true
   },
   "outputs": [],
   "source": [
    "nodes = [\n",
    "    (\"a\", {\"name\": {\"Jack\"}, \"age\": {43}, \"hobby\": {\"hiking\", \"music\"}}), \n",
    "    (\"b\", {\"name\": {\"Robert\"}, \"age\": {35}, \"hobby\": {\"sport\", \"music\"}, \"height\": {178}}),\n",
    "    (\"c\", {\"name\":{ \"Paul\"}, \"age\": {18}}),\n",
    "    (\"d\", {\"name\": {\"Joe\"}, \"age\": {10}}),\n",
    "    (\"e\", {\"name\": {\"Paul\"}, \"age\": {18}})\n",
    "]\n",
    "edges = [\n",
    "    (\"a\", \"b\", {\"type\": {\"friends\"}}), \n",
    "    (\"a\", \"c\", {\"type\": {\"colleagues\"}}),\n",
    "    (\"b\", \"c\", {\"type\": {\"colleagues\"}}),\n",
    "    (\"d\", \"a\", {\"type\": {\"child_of\"}}), \n",
    "    (\"d\", \"e\", {\"type\": {\"enemies\"}}),\n",
    "    (\"e\", \"e\", {\"type\": {\"likes\"}})\n",
    "]\n",
    "h.add_graph('actionGraph', nodes, edges)"
   ]
  },
  {
   "cell_type": "markdown",
   "metadata": {},
   "source": [
    "## Adding a second graph to the herarchy (Meta Model)"
   ]
  },
  {
   "cell_type": "markdown",
   "metadata": {},
   "source": [
    "Here we create a second graph called *MetaModel*. Which represent the types of people (*Adult* or *Child*) and the relationships between them."
   ]
  },
  {
   "cell_type": "code",
   "execution_count": 5,
   "metadata": {},
   "outputs": [],
   "source": [
    "nodes = [\n",
    "    (\"a\", {\"type\": {\"Adult\"}, \"age\": {43, 35, 18}}),\n",
    "    (\"b\", {\"type\": {\"Child\"}, \"age\": {10, 11, 12, 18}, \"name\": {\"Paul\", \"Joe\"}})\n",
    "]\n",
    "edges = [\n",
    "    (\"a\", \"a\", {\"type\": {\"friends\", \"colleagues\"}}),\n",
    "    (\"b\", \"a\", {\"type\": {\"child_of\"}}),\n",
    "    (\"b\", \"b\", {\"type\": {\"friends\", \"enemies\"}})\n",
    "]\n",
    "h.add_graph('metaModel', nodes, edges)"
   ]
  },
  {
   "cell_type": "markdown",
   "metadata": {},
   "source": [
    "## Typing"
   ]
  },
  {
   "cell_type": "markdown",
   "metadata": {},
   "source": [
    "Here we create a typing of the *ActionGraph* on the *MetaModel*."
   ]
  },
  {
   "cell_type": "code",
   "execution_count": 6,
   "metadata": {},
   "outputs": [
    {
     "data": {
      "text/plain": [
       "<neo4j.v1.result.BoltStatementResult at 0x7f36786b0240>"
      ]
     },
     "execution_count": 6,
     "metadata": {},
     "output_type": "execute_result"
    }
   ],
   "source": [
    "mapping = {\n",
    "    \"a\":\"a\",\n",
    "    \"b\":\"a\",\n",
    "    \"c\":\"a\",\n",
    "    \"d\":\"b\",\n",
    "    \"e\":\"b\"\n",
    "}\n",
    "h.add_typing('actionGraph', 'metaModel', mapping)"
   ]
  },
  {
   "cell_type": "code",
   "execution_count": 7,
   "metadata": {
    "scrolled": false
   },
   "outputs": [],
   "source": [
    "#h.check_typing('actionGraph', 'metaModel')"
   ]
  },
  {
   "cell_type": "markdown",
   "metadata": {},
   "source": [
    "## Classic update functions"
   ]
  },
  {
   "cell_type": "markdown",
   "metadata": {},
   "source": [
    "We still can use the modification functions on these grapphs."
   ]
  },
  {
   "cell_type": "code",
   "execution_count": 8,
   "metadata": {},
   "outputs": [],
   "source": [
    "#ag.merge_nodes1([\"b\", \"c\"])"
   ]
  },
  {
   "cell_type": "code",
   "execution_count": 9,
   "metadata": {
    "scrolled": false
   },
   "outputs": [],
   "source": [
    "#ag.clone_node(\"e\")"
   ]
  },
  {
   "cell_type": "markdown",
   "metadata": {},
   "source": [
    "## Graph rewriting and propagation up"
   ]
  },
  {
   "cell_type": "code",
   "execution_count": 10,
   "metadata": {},
   "outputs": [],
   "source": [
    "pattern = nx.DiGraph()\n",
    "pattern.add_nodes_from([\"x\", (\"y\",  {\"type\": {\"Child\"}, \"age\": {10, 11, 12, 18}, \"name\" : {\"Paul\", \"Joe\"}})])\n",
    "pattern.add_edges_from([(\"y\", \"x\",  {\"type\": {\"child_of\"}}), (\"y\", \"y\")])"
   ]
  },
  {
   "cell_type": "code",
   "execution_count": 11,
   "metadata": {},
   "outputs": [],
   "source": [
    "rule = Rule.from_transform(pattern)\n",
    "rule.inject_remove_node_attrs(\"y\",  {\"age\": {18}})\n",
    "rule.inject_remove_edge_attrs(\"y\", \"x\",  {\"type\": {\"child_of\"}})"
   ]
  },
  {
   "cell_type": "code",
   "execution_count": 12,
   "metadata": {
    "scrolled": false
   },
   "outputs": [
    {
     "name": "stderr",
     "output_type": "stream",
     "text": [
      "/home/vrtual-bd/Documents/Codes/env3/lib/python3.6/site-packages/matplotlib-2.2.2-py3.6-linux-x86_64.egg/matplotlib/cbook/deprecation.py:107: MatplotlibDeprecationWarning: Passing one of 'on', 'true', 'off', 'false' as a boolean is deprecated; use an actual boolean (True/False) instead.\n",
      "  warnings.warn(message, mplDeprecation, stacklevel=1)\n",
      "/home/vrtual-bd/Documents/Codes/env3/lib/python3.6/site-packages/networkx-1.11-py3.6.egg/networkx/drawing/nx_pylab.py:522: MatplotlibDeprecationWarning: The is_string_like function was deprecated in version 2.1.\n",
      "  if not cb.is_string_like(edge_color) \\\n",
      "/home/vrtual-bd/Documents/Codes/env3/lib/python3.6/site-packages/networkx-1.11-py3.6.egg/networkx/drawing/nx_pylab.py:543: MatplotlibDeprecationWarning: The is_string_like function was deprecated in version 2.1.\n",
      "  if cb.is_string_like(edge_color) or len(edge_color) == 1:\n",
      "/home/vrtual-bd/Documents/Codes/env3/lib/python3.6/site-packages/networkx-1.11-py3.6.egg/networkx/drawing/nx_pylab.py:724: MatplotlibDeprecationWarning: The is_string_like function was deprecated in version 2.1.\n",
      "  if not cb.is_string_like(label):\n"
     ]
    },
    {
     "data": {
      "image/png": "[encoded data removed]",
      "text/plain": [
       "<Figure size 1008x216 with 3 Axes>"
      ]
     },
     "metadata": {},
     "output_type": "display_data"
    }
   ],
   "source": [
    "plot_rule(rule)"
   ]
  },
  {
   "cell_type": "code",
   "execution_count": 13,
   "metadata": {},
   "outputs": [
    {
     "name": "stdout",
     "output_type": "stream",
     "text": [
      "[('y', 'type', \"'Child'\"), ('y', 'age', '18'), ('y', 'age', '10'), ('y', 'age', '11'), ('y', 'age', '12'), ('y', 'name', \"'Joe'\"), ('y', 'name', \"'Paul'\")]\n",
      "MATCH (x:node:metaModel), (y:node:metaModel), (y)-[:edge]->(x), (y)-[:edge]->(y)\n",
      "WHERE 'Child' IN y.type AND 18 IN y.age AND 10 IN y.age AND 11 IN y.age AND 12 IN y.age AND 'Joe' IN y.name AND 'Paul' IN y.name\n",
      "RETURN x, y\n",
      "Instances:  [{'x': 'a', 'y': 'b'}]\n"
     ]
    }
   ],
   "source": [
    "mm = h.access_graph('metaModel')\n",
    "instances = mm.find_matching(pattern)\n",
    "print(\"Instances: \", instances)"
   ]
  },
  {
   "cell_type": "code",
   "execution_count": 14,
   "metadata": {
    "scrolled": true
   },
   "outputs": [
    {
     "name": "stdout",
     "output_type": "stream",
     "text": [
      "// Match nodes and edges of the instance \n",
      "MATCH (lhs_x:node:metaModel { id : 'a'}), (lhs_y:node:metaModel { id : 'b'}) , (lhs_y)-[lhs_y_lhs_x:edge]->(lhs_x), (lhs_y)-[lhs_y_lhs_y:edge]->(lhs_y)\n",
      "\n",
      "// Renaming vars to correspond to the vars of P\n",
      "WITH lhs_y_lhs_y, lhs_y_lhs_x , lhs_x as p_x, lhs_y as p_y \n",
      "\n",
      "// Removing properties from node 'y' of P \n",
      "FOREACH(dummy IN CASE WHEN 'age' IN keys(p_y) THEN [1] ELSE [] END |\n",
      "\tSET p_y.age = filter(v in p_y.age WHERE NOT v IN ['18'])\tFOREACH(dumy2 IN CASE WHEN size(p_y.age)=0 THEN [1] ELSE [] END |\n",
      "\t\tREMOVE p_y.age))\n",
      "\n",
      "\n",
      "// Removing properties from edge y->x of P \n",
      "WITH lhs_y_lhs_y, p_x, lhs_y_lhs_x, p_y MATCH (p_y)-[p_y_p_x:edge]->(p_x)\n",
      "FOREACH(dummy IN CASE WHEN 'type' IN keys(p_y_p_x) THEN [1] ELSE [] END |\n",
      "\tSET p_y_p_x.type = filter(v in p_y_p_x.type WHERE NOT v IN ['child_of'])\tFOREACH(dumy2 IN CASE WHEN size(p_y_p_x.type)=0 THEN [1] ELSE [] END |\n",
      "\t\tREMOVE p_y_p_x.type))\n",
      "\n",
      "\n",
      "// Renaming vars to correspond to the vars of rhs\n",
      "WITH lhs_y_lhs_y, p_y_p_x, lhs_y_lhs_x , p_x as rhs_x, p_y as rhs_y \n",
      "\n",
      "// Return statement \n",
      "RETURN rhs_y, lhs_y_lhs_y, rhs_x, p_y_p_x, lhs_y_lhs_x\n",
      "\n",
      "Rewriting rule to Cypher: \n",
      "\n",
      "// Match nodes and edges of the instance \n",
      "MATCH (lhs_x:node:metaModel { id : 'a'}), (lhs_y:node:metaModel { id : 'b'}) , (lhs_y)-[lhs_y_lhs_x:edge]->(lhs_x), (lhs_y)-[lhs_y_lhs_y:edge]->(lhs_y)\n",
      "\n",
      "// Renaming vars to correspond to the vars of P\n",
      "WITH lhs_y_lhs_y, lhs_y_lhs_x , lhs_x as p_x, lhs_y as p_y \n",
      "\n",
      "// Removing properties from node 'y' of P \n",
      "FOREACH(dummy IN CASE WHEN 'age' IN keys(p_y) THEN [1] ELSE [] END |\n",
      "\tSET p_y.age = filter(v in p_y.age WHERE NOT v IN ['18'])\tFOREACH(dumy2 IN CASE WHEN size(p_y.age)=0 THEN [1] ELSE [] END |\n",
      "\t\tREMOVE p_y.age))\n",
      "\n",
      "\n",
      "// Removing properties from edge y->x of P \n",
      "WITH lhs_y_lhs_y, p_x, lhs_y_lhs_x, p_y MATCH (p_y)-[p_y_p_x:edge]->(p_x)\n",
      "FOREACH(dummy IN CASE WHEN 'type' IN keys(p_y_p_x) THEN [1] ELSE [] END |\n",
      "\tSET p_y_p_x.type = filter(v in p_y_p_x.type WHERE NOT v IN ['child_of'])\tFOREACH(dumy2 IN CASE WHEN size(p_y_p_x.type)=0 THEN [1] ELSE [] END |\n",
      "\t\tREMOVE p_y_p_x.type))\n",
      "\n",
      "\n",
      "// Renaming vars to correspond to the vars of rhs\n",
      "WITH lhs_y_lhs_y, p_y_p_x, lhs_y_lhs_x , p_x as rhs_x, p_y as rhs_y \n",
      "\n",
      "// Return statement \n",
      "RETURN rhs_y, lhs_y_lhs_y, rhs_x, p_y_p_x, lhs_y_lhs_x\n",
      "\n"
     ]
    },
    {
     "data": {
      "text/plain": [
       "{}"
      ]
     },
     "execution_count": 14,
     "metadata": {},
     "output_type": "execute_result"
    }
   ],
   "source": [
    "mm = h.access_graph('metaModel')\n",
    "mm._rewrite_base(rule, instances[0])"
   ]
  },
  {
   "cell_type": "code",
   "execution_count": null,
   "metadata": {
    "scrolled": true
   },
   "outputs": [],
   "source": [
    "h._propagation_up('metaModel')"
   ]
  },
  {
   "cell_type": "markdown",
   "metadata": {},
   "source": [
    "## Graph rewritting and propagation down"
   ]
  },
  {
   "cell_type": "code",
   "execution_count": null,
   "metadata": {},
   "outputs": [],
   "source": [
    "pattern = nx.DiGraph()\n",
    "pattern.add_nodes_from([(\"w\", {\"name\":{\"Paul\"}}), \"x\", \"y\", \"z\"])\n",
    "pattern.add_edges_from([(\"x\", \"w\"), (\"y\", \"x\"), (\"y\", \"z\"), (\"z\",\"z\")])"
   ]
  },
  {
   "cell_type": "code",
   "execution_count": null,
   "metadata": {},
   "outputs": [],
   "source": [
    "rule = Rule.from_transform(pattern)\n",
    "rule.inject_add_node(\"new_node\")\n",
    "rule.inject_add_edge(\"new_node\", \"y\")\n",
    "rule.inject_add_edge(\"new_node\", \"x\")\n",
    "merged = rule.inject_merge_nodes([\"w\", \"z\"])"
   ]
  },
  {
   "cell_type": "code",
   "execution_count": null,
   "metadata": {},
   "outputs": [],
   "source": [
    "rule.inject_add_node_attrs(\"x\", {\"age\":{10}})\n",
    "rule.inject_add_edge_attrs(\"x\", \"z\", {\"relation\":{\"likes\"}})"
   ]
  },
  {
   "cell_type": "code",
   "execution_count": null,
   "metadata": {},
   "outputs": [],
   "source": [
    "rule.added_node_attrs()"
   ]
  },
  {
   "cell_type": "code",
   "execution_count": null,
   "metadata": {
    "scrolled": true
   },
   "outputs": [],
   "source": [
    "plot_rule(rule)"
   ]
  },
  {
   "cell_type": "code",
   "execution_count": null,
   "metadata": {},
   "outputs": [],
   "source": [
    "ag = h.access_graph('actionGraph')\n",
    "instances = ag.find_matching(pattern)\n",
    "print(\"Instances: \", instances)"
   ]
  },
  {
   "cell_type": "code",
   "execution_count": null,
   "metadata": {
    "scrolled": true
   },
   "outputs": [],
   "source": [
    "ag = h.access_graph('actionGraph')\n",
    "ag._rewrite_base(rule, instances[0])"
   ]
  },
  {
   "cell_type": "code",
   "execution_count": null,
   "metadata": {
    "scrolled": false
   },
   "outputs": [],
   "source": [
    "h.propagation_down('actionGraph')"
   ]
  },
  {
   "cell_type": "markdown",
   "metadata": {},
   "source": [
    "## Removing a graph from the hierarchy"
   ]
  },
  {
   "cell_type": "code",
   "execution_count": null,
   "metadata": {},
   "outputs": [],
   "source": []
  },
  {
   "cell_type": "markdown",
   "metadata": {},
   "source": [
    "We can also remove a graph from the hierarchy. All its nodes and connections (edges and typing edges) are removed."
   ]
  },
  {
   "cell_type": "code",
   "execution_count": null,
   "metadata": {},
   "outputs": [],
   "source": [
    "#h.remove_graph('MetaModel')"
   ]
  },
  {
   "cell_type": "markdown",
   "metadata": {},
   "source": []
  },
  {
   "cell_type": "code",
   "execution_count": null,
   "metadata": {},
   "outputs": [],
   "source": []
  },
  {
   "cell_type": "code",
   "execution_count": null,
   "metadata": {},
   "outputs": [],
   "source": [
    "#here we clear the hierarchy\n",
    "h.clear()\n",
    "h.close()\n",
    "#"
   ]
  }
 ],
 "metadata": {
  "kernelspec": {
   "display_name": "Python 3",
   "language": "python",
   "name": "python3"
  },
  "language_info": {
   "codemirror_mode": {
    "name": "ipython",
    "version": 3
   },
   "file_extension": ".py",
   "mimetype": "text/x-python",
   "name": "python",
   "nbconvert_exporter": "python",
   "pygments_lexer": "ipython3",
   "version": "3.6.5"
  }
 },
 "nbformat": 4,
 "nbformat_minor": 2
}
