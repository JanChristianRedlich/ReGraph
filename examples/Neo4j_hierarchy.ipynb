{
 "cells": [
  {
   "cell_type": "markdown",
   "metadata": {},
   "source": [
    "# Examples of utils provided by ReGraph's Neo4jHierarchy module"
   ]
  },
  {
   "cell_type": "code",
   "execution_count": 17,
   "metadata": {},
   "outputs": [],
   "source": [
    "import networkx as nx\n",
    "from regraph import Rule, plot_rule\n",
    "\n",
    "from regraph.neo4j.hierarchy import Neo4jHierarchy\n",
    "import regraph.neo4j.cypher_utils as cypher\n",
    "import regraph.neo4j.result_utils as rs"
   ]
  },
  {
   "cell_type": "markdown",
   "metadata": {},
   "source": [
    "## Initializing Neo4j database\n",
    "\n",
    "0. When installing neo4j you will be asked to choose login/password for you dbs (here its \"neo4j\"/\"admin\"), if you choose other -- change in the cell below.\n",
    "1. To start neo4j server run `sudo service neo4j start`\n",
    "2. Check status by running `sudo service neo4j status`. Here you can check the _bolt_ port, change the cell below if different from 7687\n",
    "3. You can query the db by using the neo4j browser, the address can be found also in the result of 'status', e.g. \"Remote interface available at http://localhost:7474/\"."
   ]
  },
  {
   "cell_type": "code",
   "execution_count": 18,
   "metadata": {},
   "outputs": [],
   "source": [
    "# initialize the neo4j driver, wrappped into Neo4jHierarchy object\n",
    "h = Neo4jHierarchy(uri=\"bolt://localhost:7687\", user=\"neo4j\", password=\"admin\")"
   ]
  },
  {
   "cell_type": "code",
   "execution_count": 19,
   "metadata": {},
   "outputs": [
    {
     "data": {
      "text/plain": [
       "<neo4j.v1.result.BoltStatementResult at 0x7f8147ac9278>"
      ]
     },
     "execution_count": 19,
     "metadata": {},
     "output_type": "execute_result"
    }
   ],
   "source": [
    "#here we clear the hierarchy\n",
    "h.clear()\n",
    "#"
   ]
  },
  {
   "cell_type": "markdown",
   "metadata": {},
   "source": [
    "## Hierarchy\n",
    "\n",
    "A hierarchy is represented by at least 2 graphs with a typing relation (homorphism) between them.\n",
    "\n",
    "\n",
    "Each graph in the database is represented by a unique label which enables us to match quickly the nodes of this graph. Each node of a graph has then the labels *node* and *graphLabel*. We can match these nodes by using the query:\n",
    "\n",
    "> MATCH (n:node:graphLabel) RETURN n\n",
    "\n",
    "\n",
    "The edges of a graph are labeled as *edge* and the typing edges are labeled as *typing*. We can then easily find the image of a node with the query:\n",
    "\n",
    "> OPTIONAL MATCH (n:node:graphLabel)-[:typing]->(m) RETURN m\n",
    "\n",
    "The hierarchy skeleton is represented by nodes labeled as hierarchyNodes. It enables us to know which graphs are the ancestors of a graph we want to rewrite for example."
   ]
  },
  {
   "cell_type": "markdown",
   "metadata": {},
   "source": [
    "## Adding a graph to the hierarchy (Action Graph)"
   ]
  },
  {
   "cell_type": "markdown",
   "metadata": {},
   "source": [
    "Here we create a first graph called *ActionGraph*. This graph represent people and the relationship between them."
   ]
  },
  {
   "cell_type": "code",
   "execution_count": 20,
   "metadata": {},
   "outputs": [],
   "source": [
    "h.add_graph('actionGraph')"
   ]
  },
  {
   "cell_type": "code",
   "execution_count": 21,
   "metadata": {},
   "outputs": [],
   "source": [
    "ag = h.access_graph('actionGraph')"
   ]
  },
  {
   "cell_type": "code",
   "execution_count": 22,
   "metadata": {},
   "outputs": [
    {
     "data": {
      "text/plain": [
       "<neo4j.v1.result.BoltStatementResult at 0x7f8147af8198>"
      ]
     },
     "execution_count": 22,
     "metadata": {},
     "output_type": "execute_result"
    }
   ],
   "source": [
    "nodes = [\n",
    "    (\"a\", {\"name\": \"Jack\", \"age\": 43, \"hobby\": {\"hiking\", \"music\"}}), \n",
    "    (\"b\", {\"name\": \"Robert\", \"age\": 35, \"hobby\": {\"sport\", \"music\"}, \"height\": 178}),\n",
    "    (\"c\", {\"name\": \"Paul\", \"age\": 18}),\n",
    "    (\"d\", {\"name\": \"Joe\"}),\n",
    "    (\"e\", {\"name\": \"Paul\"}),\n",
    "    (\"f\", {\"name\": \"Bob\"})\n",
    "]\n",
    "edges = [\n",
    "    (\"a\", \"b\", {\"type\": {\"friends\", \"colleagues\"}}), \n",
    "    (\"a\", \"c\", {\"type\": {\"colleagues\"}}),\n",
    "    (\"b\", \"c\", {\"type\": \"colleagues\"}), \n",
    "    (\"d\", \"a\", {\"type\": \"child_of\"}), \n",
    "    (\"d\", \"e\", {\"type\": \"enemies\"}),\n",
    "    (\"e\", \"f\", {\"type\": \"friends\"}), \n",
    "    (\"f\", \"d\", {\"type\": \"friends\"}),\n",
    "    (\"e\", \"e\")\n",
    "]\n",
    "ag.add_nodes_from(nodes)\n",
    "ag.add_edges_from(edges)"
   ]
  },
  {
   "cell_type": "markdown",
   "metadata": {},
   "source": [
    "## Adding a second graph to the herarchy (Meta Model)"
   ]
  },
  {
   "cell_type": "markdown",
   "metadata": {},
   "source": [
    "Here we create a second graph called *MetaModel*. Which represent the types of people (*Adult* or *Child*) and the relationships between them."
   ]
  },
  {
   "cell_type": "code",
   "execution_count": 23,
   "metadata": {},
   "outputs": [],
   "source": [
    "h.add_graph('metaModel')"
   ]
  },
  {
   "cell_type": "code",
   "execution_count": 24,
   "metadata": {},
   "outputs": [],
   "source": [
    "mm = h.access_graph('metaModel')"
   ]
  },
  {
   "cell_type": "code",
   "execution_count": 25,
   "metadata": {},
   "outputs": [
    {
     "data": {
      "text/plain": [
       "<neo4j.v1.result.BoltStatementResult at 0x7f8147aecf60>"
      ]
     },
     "execution_count": 25,
     "metadata": {},
     "output_type": "execute_result"
    }
   ],
   "source": [
    "nodes = [\n",
    "    (\"a\", {\"type\": \"Adult\"}),\n",
    "    (\"b\", {\"type\": \"Child\"})\n",
    "]\n",
    "edges = [\n",
    "    (\"a\", \"a\", {\"type\": {\"friends\", \"colleagues\"}}),\n",
    "    (\"b\", \"a\", {\"type\": {\"child_of\"}}),\n",
    "    (\"b\", \"b\", {\"type\": {\"friends\", \"enemies\"}})\n",
    "]\n",
    "mm.add_nodes_from(nodes)\n",
    "mm.add_edges_from(edges)"
   ]
  },
  {
   "cell_type": "markdown",
   "metadata": {},
   "source": [
    "## Typing"
   ]
  },
  {
   "cell_type": "markdown",
   "metadata": {},
   "source": [
    "Here we create a typing of the *ActionGraph* on the *MetaModel*."
   ]
  },
  {
   "cell_type": "code",
   "execution_count": 26,
   "metadata": {},
   "outputs": [
    {
     "data": {
      "text/plain": [
       "<neo4j.v1.result.BoltStatementResult at 0x7f8147aeccc0>"
      ]
     },
     "execution_count": 26,
     "metadata": {},
     "output_type": "execute_result"
    }
   ],
   "source": [
    "mapping = {\n",
    "    \"a\":\"a\",\n",
    "    \"b\":\"a\",\n",
    "    \"c\":\"a\",\n",
    "    \"d\":\"b\",\n",
    "    \"e\":\"b\",\n",
    "    \"f\":\"b\"\n",
    "}\n",
    "h.add_typing('actionGraph', 'metaModel', mapping)"
   ]
  },
  {
   "cell_type": "markdown",
   "metadata": {},
   "source": [
    "## Classic update functions"
   ]
  },
  {
   "cell_type": "markdown",
   "metadata": {},
   "source": [
    "We still can use the modification functions on these grapphs."
   ]
  },
  {
   "cell_type": "code",
   "execution_count": 11,
   "metadata": {},
   "outputs": [],
   "source": [
    "#ag.merge_nodes([\"b\", \"c\"])"
   ]
  },
  {
   "cell_type": "code",
   "execution_count": null,
   "metadata": {},
   "outputs": [],
   "source": [
    "#mm.clone_node(\"a\")"
   ]
  },
  {
   "cell_type": "markdown",
   "metadata": {},
   "source": [
    "## Graph rewriting and propagation up"
   ]
  },
  {
   "cell_type": "code",
   "execution_count": 32,
   "metadata": {},
   "outputs": [],
   "source": [
    "pattern = nx.DiGraph()\n",
    "pattern.add_nodes_from([\"x\", \"y\"])\n",
    "pattern.add_edges_from([(\"y\", \"x\"), (\"y\", \"y\")])"
   ]
  },
  {
   "cell_type": "code",
   "execution_count": 36,
   "metadata": {},
   "outputs": [],
   "source": [
    "rule = Rule.from_transform(pattern)\n",
    "clone_name1, _ = rule.inject_clone_node(\"y\")\n",
    "rule.inject_remove_edge(clone_name1, \"y\")\n",
    "rule.inject_remove_node(\"x\")"
   ]
  },
  {
   "cell_type": "code",
   "execution_count": 37,
   "metadata": {
    "scrolled": false
   },
   "outputs": [
    {
     "name": "stderr",
     "output_type": "stream",
     "text": [
      "/home/florian/Documents/Code/env3/lib/python3.6/site-packages/matplotlib-2.2.2-py3.6-linux-x86_64.egg/matplotlib/cbook/deprecation.py:107: MatplotlibDeprecationWarning: Passing one of 'on', 'true', 'off', 'false' as a boolean is deprecated; use an actual boolean (True/False) instead.\n",
      "  warnings.warn(message, mplDeprecation, stacklevel=1)\n",
      "/home/florian/Documents/Code/env3/lib/python3.6/site-packages/networkx-1.11-py3.6.egg/networkx/drawing/nx_pylab.py:522: MatplotlibDeprecationWarning: The is_string_like function was deprecated in version 2.1.\n",
      "  if not cb.is_string_like(edge_color) \\\n",
      "/home/florian/Documents/Code/env3/lib/python3.6/site-packages/networkx-1.11-py3.6.egg/networkx/drawing/nx_pylab.py:543: MatplotlibDeprecationWarning: The is_string_like function was deprecated in version 2.1.\n",
      "  if cb.is_string_like(edge_color) or len(edge_color) == 1:\n",
      "/home/florian/Documents/Code/env3/lib/python3.6/site-packages/networkx-1.11-py3.6.egg/networkx/drawing/nx_pylab.py:724: MatplotlibDeprecationWarning: The is_string_like function was deprecated in version 2.1.\n",
      "  if not cb.is_string_like(label):\n"
     ]
    },
    {
     "data": {
      "image/png": "[encoded data removed]",
      "text/plain": [
       "<Figure size 1008x216 with 3 Axes>"
      ]
     },
     "metadata": {},
     "output_type": "display_data"
    }
   ],
   "source": [
    "plot_rule(rule)"
   ]
  },
  {
   "cell_type": "code",
   "execution_count": 38,
   "metadata": {},
   "outputs": [
    {
     "name": "stdout",
     "output_type": "stream",
     "text": [
      "Instances:  [{'x': 'a', 'y': 'b'}]\n"
     ]
    }
   ],
   "source": [
    "instances = mm.find_matching(pattern)\n",
    "print(\"Instances: \", instances)"
   ]
  },
  {
   "cell_type": "code",
   "execution_count": 39,
   "metadata": {
    "scrolled": true
   },
   "outputs": [
    {
     "name": "stdout",
     "output_type": "stream",
     "text": [
      "y {'y1', 'y'}\n",
      "-------------\n",
      "y1\n",
      "y1 y\n",
      "{'y1': set()}\n",
      "y1 y1\n",
      "{'y1': set()}\n",
      "y\n",
      "Rewriting rule to Cypher: \n",
      "\n",
      "// Match nodes and edges of the instance \n",
      "MATCH (lhs_x:node:metaModel { id : 'a'}), (lhs_y:node:metaModel { id : 'b'}) , (lhs_y)-[lhs_y_lhs_x:edge]->(lhs_x), (lhs_y)-[lhs_y_lhs_y:edge]->(lhs_y)\n",
      "\n",
      "// Cloning node 'y' of the lhs \n",
      "// Create clone corresponding to 'y1' of the preserved part\n",
      "// create a node corresponding to the clone\n",
      "CREATE (p_y1:node:metaModel) \n",
      "WITH p_y1, toString(id(p_y1)) as p_y1_id, lhs_y.id as original_old, lhs_y, lhs_x \n",
      "// set the id property of the original node to NULL\n",
      "SET lhs_y.id = NULL\n",
      "// copy all the properties of the original node to the clone\n",
      "SET p_y1 = lhs_y\n",
      "// set id property of the clone to neo4j-generated id\n",
      "SET p_y1.id = toString(id(p_y1)), p_y1.count = NULL\n",
      "// set back the id property of the original node\n",
      "SET lhs_y.id = original_old\n",
      "WITH p_y1, toString(id(p_y1)) as p_y1_id, lhs_y, lhs_x \n",
      "WITH ['y1', 'b'] as sucIgnore, ['y1'] as predIgnore, p_y1, lhs_y, lhs_x \n",
      "// Match successors and out-edges of a node to be cloned\n",
      "OPTIONAL MATCH (lhs_y)-[out_edge:edge]->(suc:node:metaModel)\n",
      "WHERE NOT suc.id IS NULL AND NOT suc.id IN sucIgnore\n",
      "WITH collect({neighbor: suc, edge: out_edge}) as suc_maps, predIgnore, p_y1, lhs_y, lhs_x \n",
      "// match predecessors and in-edges of a node to be cloned\n",
      "OPTIONAL MATCH (pred:node:metaModel)-[in_edge:edge]->(lhs_y) \n",
      "WHERE NOT pred.id IS NULL AND NOT pred.id IN predIgnore\n",
      "WITH collect({neighbor: pred, edge: in_edge}) as pred_maps, suc_maps, p_y1, lhs_y, lhs_x \n",
      "// copy all incident edges of the original node to the clone\n",
      "FOREACH (suc_map IN suc_maps | \n",
      "\tFOREACH (suc IN CASE WHEN suc_map.neighbor IS NOT NULL THEN [suc_map.neighbor] ELSE [] END |\n",
      "\t\tMERGE (p_y1)-[new_edge:edge]->(suc) \n",
      "\t\tSET new_edge = suc_map.edge))\n",
      "FOREACH (pred_map IN pred_maps | \n",
      "\tFOREACH (pred IN CASE WHEN pred_map.neighbor IS NOT NULL THEN [pred_map.neighbor] ELSE [] END |\n",
      "\t\tMERGE (pred)-[new_edge:edge]->(p_y1) \n",
      "\t\tSET new_edge = pred_map.edge))\n",
      "WITH lhs_y, p_y1, lhs_x \n",
      "OPTIONAL MATCH (lhs_y)-[out_typ_edge:typing]->(suc_typ:node)\n",
      "WITH collect({neighbor: suc_typ, edge: out_typ_edge}) as suc_typ_maps, lhs_y, p_y1, lhs_x \n",
      "OPTIONAL MATCH (pred_typ:node)-[in_typ_edge:typing]->(lhs_y) \n",
      "WITH collect({neighbor: pred_typ, edge: in_typ_edge}) as pred_typ_maps, suc_typ_maps, lhs_y, p_y1, lhs_x \n",
      "// copy all incident typing edges of the original node to the clone\n",
      "FOREACH (suc_map IN suc_typ_maps | \n",
      "\tFOREACH (suc IN CASE WHEN suc_map.neighbor IS NOT NULL THEN [suc_map.neighbor] ELSE [] END |\n",
      "\t\tMERGE (p_y1)-[new_edge:typing]->(suc) \n",
      "\t\tSET new_edge = suc_map.edge))\n",
      "FOREACH (pred_map IN pred_typ_maps | \n",
      "\tFOREACH (pred IN CASE WHEN pred_map.neighbor IS NOT NULL THEN [pred_map.neighbor] ELSE [] END |\n",
      "\t\tMERGE (pred)-[new_edge:typing]->(p_y1) \n",
      "\t\tSET new_edge = pred_map.edge))\n",
      "WITH lhs_y, p_y1, lhs_x \n",
      "\n",
      "// Removing node 'x' of the lhs \n",
      "DETACH DELETE lhs_x\n",
      "\n",
      "WITH lhs_y, p_y1 // Renaming vars to correspond to the vars of rhs\n",
      "WITH p_y1 , lhs_y as p_y \n",
      "\n",
      "// Renaming vars to correspond to the vars of rhs\n",
      "WITH p_y as rhs_y, p_y1 as rhs_y1 \n",
      "\n",
      "// Return statement \n",
      "RETURN rhs_y1, rhs_y\n",
      "\n"
     ]
    },
    {
     "data": {
      "text/plain": [
       "{}"
      ]
     },
     "execution_count": 39,
     "metadata": {},
     "output_type": "execute_result"
    }
   ],
   "source": [
    "h.rewrite('metaModel', rule, instances[0])"
   ]
  },
  {
   "cell_type": "code",
   "execution_count": 40,
   "metadata": {
    "scrolled": true
   },
   "outputs": [
    {
     "name": "stdout",
     "output_type": "stream",
     "text": [
      "Rewritting ancestors of metaModel...\n",
      "actionGraph\n",
      "OPTIONAL MATCH (n:node:actionGraph)\n",
      "WHERE NOT (n)-[:typing]->(:node:metaModel)\n",
      "DETACH DELETE n\n",
      "\n",
      "---------------------------\n",
      "OPTIONAL MATCH (n:node:actionGraph)-[rel_pred:edge]->(m:node:actionGraph)\n",
      "WHERE rel_pred IS NOT NULL\n",
      "OPTIONAL MATCH (n)-[:typing]->(:node:metaModel)-[rel:edge]->(:node:metaModel)<-[:typing]-(m)\n",
      "WITH rel_pred WHERE rel IS NULL\n",
      "WITH DISTINCT rel_pred\n",
      "DELETE rel_pred\n",
      "---------------------------\n",
      "OPTIONAL MATCH (node_to_clone:node:actionGraph)-[t:typing]->(n:node:metaModel)\n",
      "WITH node_to_clone, collect(n) as sucs, collect(t) as typ_sucs\n",
      "WHERE node_to_clone IS NOT NULL AND size(sucs) >= 2\n",
      "FOREACH(t IN typ_sucs | DELETE t)\n",
      "WITH node_to_clone, sucs, sucs[0] as suc1\n",
      "UNWIND sucs[1..] AS node_suc// create a node corresponding to the clone\n",
      "CREATE (cloned_node:node:actionGraph) \n",
      "WITH cloned_node, toString(id(cloned_node)) as clone_id_var, node_to_clone.id as original_old, node_suc, node_to_clone, suc1 \n",
      "// set the id property of the original node to NULL\n",
      "SET node_to_clone.id = NULL\n",
      "// copy all the properties of the original node to the clone\n",
      "SET cloned_node = node_to_clone\n",
      "// set id property of the clone to neo4j-generated id\n",
      "SET cloned_node.id = toString(id(cloned_node)), cloned_node.count = NULL\n",
      "// set back the id property of the original node\n",
      "SET node_to_clone.id = original_old\n",
      "WITH cloned_node, toString(id(cloned_node)) as clone_id_var, node_suc, node_to_clone, suc1 \n",
      "WITH [] as sucIgnore, [] as predIgnore, node_suc, node_to_clone, suc1, cloned_node \n",
      "// Match successors and out-edges of a node to be cloned\n",
      "OPTIONAL MATCH (node_to_clone)-[out_edge:edge]->(suc:node:actionGraph)\n",
      "WHERE NOT suc.id IS NULL AND NOT suc.id IN sucIgnore\n",
      "WITH collect({neighbor: suc, edge: out_edge}) as suc_maps, predIgnore, node_suc, node_to_clone, suc1, cloned_node \n",
      "// match predecessors and in-edges of a node to be cloned\n",
      "OPTIONAL MATCH (pred:node:actionGraph)-[in_edge:edge]->(node_to_clone) \n",
      "WHERE NOT pred.id IS NULL AND NOT pred.id IN predIgnore\n",
      "WITH collect({neighbor: pred, edge: in_edge}) as pred_maps, suc_maps, cloned_node, suc1, node_suc, node_to_clone \n",
      "// copy all incident edges of the original node to the clone\n",
      "FOREACH (suc_map IN suc_maps | \n",
      "\tFOREACH (suc IN CASE WHEN suc_map.neighbor IS NOT NULL THEN [suc_map.neighbor] ELSE [] END |\n",
      "\t\tMERGE (cloned_node)-[new_edge:edge]->(suc) \n",
      "\t\tSET new_edge = suc_map.edge))\n",
      "FOREACH (pred_map IN pred_maps | \n",
      "\tFOREACH (pred IN CASE WHEN pred_map.neighbor IS NOT NULL THEN [pred_map.neighbor] ELSE [] END |\n",
      "\t\tMERGE (pred)-[new_edge:edge]->(cloned_node) \n",
      "\t\tSET new_edge = pred_map.edge))\n",
      "WITH cloned_node, suc1, node_suc, node_to_clone \n",
      "OPTIONAL MATCH (node_to_clone)-[out_typ_edge:typing]->(suc_typ:node)\n",
      "WITH collect({neighbor: suc_typ, edge: out_typ_edge}) as suc_typ_maps, cloned_node, suc1, node_suc, node_to_clone \n",
      "OPTIONAL MATCH (pred_typ:node)-[in_typ_edge:typing]->(node_to_clone) \n",
      "WITH collect({neighbor: pred_typ, edge: in_typ_edge}) as pred_typ_maps, suc_typ_maps, cloned_node, suc1, node_suc, node_to_clone \n",
      "// copy all incident typing edges of the original node to the clone\n",
      "FOREACH (suc_map IN suc_typ_maps | \n",
      "\tFOREACH (suc IN CASE WHEN suc_map.neighbor IS NOT NULL THEN [suc_map.neighbor] ELSE [] END |\n",
      "\t\tMERGE (cloned_node)-[new_edge:typing]->(suc) \n",
      "\t\tSET new_edge = suc_map.edge))\n",
      "FOREACH (pred_map IN pred_typ_maps | \n",
      "\tFOREACH (pred IN CASE WHEN pred_map.neighbor IS NOT NULL THEN [pred_map.neighbor] ELSE [] END |\n",
      "\t\tMERGE (pred)-[new_edge:typing]->(cloned_node) \n",
      "\t\tSET new_edge = pred_map.edge))\n",
      "WITH cloned_node, suc1, node_suc, node_to_clone \n",
      "MERGE (cloned_node)-[:typing]->(node_suc)\n",
      "MERGE (node_to_clone)-[:typing]->(suc1)\n",
      "\n",
      "---------------------------\n",
      "Rewritting ancestors of actionGraph...\n"
     ]
    }
   ],
   "source": [
    "h.propagation_up('metaModel')"
   ]
  },
  {
   "cell_type": "markdown",
   "metadata": {},
   "source": [
    "## Graph rewritting and propagation down"
   ]
  },
  {
   "cell_type": "code",
   "execution_count": 27,
   "metadata": {},
   "outputs": [],
   "source": [
    "pattern = nx.DiGraph()\n",
    "pattern.add_nodes_from([\"w\", \"x\", \"y\", \"z\"])\n",
    "pattern.add_edges_from([(\"x\", \"w\"), (\"y\", \"x\"), (\"y\", \"z\"), (\"z\",\"z\")])"
   ]
  },
  {
   "cell_type": "code",
   "execution_count": 28,
   "metadata": {},
   "outputs": [],
   "source": [
    "rule = Rule.from_transform(pattern)\n",
    "rule.inject_add_node(\"new_node\")\n",
    "rule.inject_add_edge(\"new_node\", \"y\")\n",
    "#rule.inject_merge_nodes([\"w\", \"z\"])"
   ]
  },
  {
   "cell_type": "code",
   "execution_count": 29,
   "metadata": {
    "scrolled": false
   },
   "outputs": [
    {
     "name": "stderr",
     "output_type": "stream",
     "text": [
      "/home/florian/Documents/Code/env3/lib/python3.6/site-packages/matplotlib-2.2.2-py3.6-linux-x86_64.egg/matplotlib/cbook/deprecation.py:107: MatplotlibDeprecationWarning: Passing one of 'on', 'true', 'off', 'false' as a boolean is deprecated; use an actual boolean (True/False) instead.\n",
      "  warnings.warn(message, mplDeprecation, stacklevel=1)\n",
      "/home/florian/Documents/Code/env3/lib/python3.6/site-packages/networkx-1.11-py3.6.egg/networkx/drawing/nx_pylab.py:522: MatplotlibDeprecationWarning: The is_string_like function was deprecated in version 2.1.\n",
      "  if not cb.is_string_like(edge_color) \\\n",
      "/home/florian/Documents/Code/env3/lib/python3.6/site-packages/networkx-1.11-py3.6.egg/networkx/drawing/nx_pylab.py:543: MatplotlibDeprecationWarning: The is_string_like function was deprecated in version 2.1.\n",
      "  if cb.is_string_like(edge_color) or len(edge_color) == 1:\n",
      "/home/florian/Documents/Code/env3/lib/python3.6/site-packages/networkx-1.11-py3.6.egg/networkx/drawing/nx_pylab.py:724: MatplotlibDeprecationWarning: The is_string_like function was deprecated in version 2.1.\n",
      "  if not cb.is_string_like(label):\n"
     ]
    },
    {
     "data": {
      "image/png": "[encoded data removed]",
      "text/plain": [
       "<Figure size 1008x216 with 3 Axes>"
      ]
     },
     "metadata": {},
     "output_type": "display_data"
    }
   ],
   "source": [
    "plot_rule(rule)"
   ]
  },
  {
   "cell_type": "code",
   "execution_count": 30,
   "metadata": {},
   "outputs": [
    {
     "name": "stdout",
     "output_type": "stream",
     "text": [
      "Instances:  [{'w': 'c', 'x': 'a', 'y': 'd', 'z': 'e'}, {'w': 'b', 'x': 'a', 'y': 'd', 'z': 'e'}]\n"
     ]
    }
   ],
   "source": [
    "instances = ag.find_matching(pattern)\n",
    "print(\"Instances: \", instances)"
   ]
  },
  {
   "cell_type": "code",
   "execution_count": 31,
   "metadata": {
    "scrolled": false
   },
   "outputs": [
    {
     "name": "stdout",
     "output_type": "stream",
     "text": [
      "Rewriting rule to Cypher: \n",
      "\n",
      "// Match nodes and edges of the instance \n",
      "MATCH (lhs_w:node:actionGraph { id : 'b'}), (lhs_x:node:actionGraph { id : 'a'}), (lhs_y:node:actionGraph { id : 'd'}), (lhs_z:node:actionGraph { id : 'e'}) , (lhs_x)-[lhs_x_lhs_w:edge]->(lhs_w), (lhs_y)-[lhs_y_lhs_x:edge]->(lhs_x), (lhs_y)-[lhs_y_lhs_z:edge]->(lhs_z), (lhs_z)-[lhs_z_lhs_z:edge]->(lhs_z)\n",
      "\n",
      "// Renaming vars to correspond to the vars of rhs\n",
      "WITH lhs_w as p_w, lhs_x as p_x, lhs_y as p_y, lhs_z as p_z \n",
      "\n",
      "// Adding node 'new_node' from the rhs \n",
      "CREATE (rhs_new_node:node:actionGraph) \n",
      "SET rhs_new_node.id = toString(id(rhs_new_node)) \n",
      "WITH toString(id(rhs_new_node)) as rhs_new_node_id , p_x, p_z, p_w, p_y, rhs_new_node\n",
      "WITH p_x, p_z, p_w, rhs_new_node_id, p_y, rhs_new_node \n",
      "\n",
      "// Renaming vars to correspond to the vars of rhs\n",
      "WITH rhs_new_node_id, rhs_new_node , p_w as rhs_w, p_x as rhs_x, p_y as rhs_y, p_z as rhs_z \n",
      "\n",
      "// Adding edge 'new_node->y' from the rhs \n",
      "MERGE (rhs_new_node)-[:edge {  }]->(rhs_y)\n",
      "\n",
      "// Return statement \n",
      "RETURN rhs_w, rhs_new_node_id, rhs_z, rhs_new_node, rhs_y, rhs_x\n",
      "\n"
     ]
    },
    {
     "data": {
      "text/plain": [
       "{}"
      ]
     },
     "execution_count": 31,
     "metadata": {},
     "output_type": "execute_result"
    }
   ],
   "source": [
    "h.rewrite('actionGraph', rule, instances[1])"
   ]
  },
  {
   "cell_type": "code",
   "execution_count": null,
   "metadata": {},
   "outputs": [],
   "source": [
    "h.propagation_down('actionGraph')"
   ]
  },
  {
   "cell_type": "code",
   "execution_count": null,
   "metadata": {},
   "outputs": [],
   "source": []
  },
  {
   "cell_type": "markdown",
   "metadata": {},
   "source": [
    "## Removing a graph from the hierarchy"
   ]
  },
  {
   "cell_type": "markdown",
   "metadata": {},
   "source": [
    "We can also remove a graph from the hierarchy. All its nodes and connections (edges and typing edges) are removed."
   ]
  },
  {
   "cell_type": "code",
   "execution_count": null,
   "metadata": {},
   "outputs": [],
   "source": [
    "#h.remove_graph('MetaModel')"
   ]
  }
 ],
 "metadata": {
  "kernelspec": {
   "display_name": "Python 3",
   "language": "python",
   "name": "python3"
  },
  "language_info": {
   "codemirror_mode": {
    "name": "ipython",
    "version": 3
   },
   "file_extension": ".py",
   "mimetype": "text/x-python",
   "name": "python",
   "nbconvert_exporter": "python",
   "pygments_lexer": "ipython3",
   "version": "3.6.5"
  }
 },
 "nbformat": 4,
 "nbformat_minor": 2
}
