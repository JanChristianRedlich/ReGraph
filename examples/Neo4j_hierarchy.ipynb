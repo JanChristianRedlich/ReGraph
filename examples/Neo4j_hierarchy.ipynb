{
 "cells": [
  {
   "cell_type": "markdown",
   "metadata": {},
   "source": [
    "# Examples of utils provided by ReGraph's Neo4jHierarchy module"
   ]
  },
  {
   "cell_type": "code",
   "execution_count": 42,
   "metadata": {},
   "outputs": [],
   "source": [
    "import networkx as nx\n",
    "from regraph import Rule, plot_rule\n",
    "\n",
    "\n",
    "from regraph.neo4j.hierarchy import Neo4jHierarchy\n",
    "import regraph.neo4j.cypher_utils as cypher\n",
    "from regraph.neo4j.rewriting_utils import propagate_down_v2"
   ]
  },
  {
   "cell_type": "markdown",
   "metadata": {},
   "source": [
    "## Initializing Neo4j database\n",
    "\n",
    "0. When installing neo4j you will be asked to choose login/password for you dbs (here its \"neo4j\"/\"admin\"), if you choose other -- change in the cell below.\n",
    "1. To start neo4j server run `sudo service neo4j start`\n",
    "2. Check status by running `sudo service neo4j status`. Here you can check the _bolt_ port, change the cell below if different from 7687\n",
    "3. You can query the db by using the neo4j browser, the address can be found also in the result of 'status', e.g. \"Remote interface available at http://localhost:7474/\"."
   ]
  },
  {
   "cell_type": "code",
   "execution_count": 43,
   "metadata": {
    "scrolled": false
   },
   "outputs": [],
   "source": [
    "# initialize the neo4j driver, wrappped into Neo4jHierarchy object\n",
    "h = Neo4jHierarchy(uri=\"bolt://localhost:7687\", user=\"neo4j\", password=\"admin\")"
   ]
  },
  {
   "cell_type": "code",
   "execution_count": 44,
   "metadata": {},
   "outputs": [
    {
     "data": {
      "text/plain": [
       "<neo4j.v1.result.BoltStatementResult at 0x7ff0ebbdb2e8>"
      ]
     },
     "execution_count": 44,
     "metadata": {},
     "output_type": "execute_result"
    }
   ],
   "source": [
    "h.clear()"
   ]
  },
  {
   "cell_type": "markdown",
   "metadata": {},
   "source": [
    "## Hierarchy\n",
    "\n",
    "A hierarchy is represented by at least 2 graphs with a typing relation (homorphism) between them.\n",
    "\n",
    "\n",
    "Each graph in the database is represented by a unique label which enables us to match quickly the nodes of this graph. Each node of a graph has then the labels *node* and *graphLabel*. We can match these nodes by using the query:\n",
    "\n",
    "> MATCH (n:node:graphLabel) RETURN n\n",
    "\n",
    "\n",
    "The edges of a graph are labeled as *edge* and the typing edges are labeled as *typing*. We can then easily find the image of a node with the query:\n",
    "\n",
    "> OPTIONAL MATCH (n:node:graphLabel)-[:typing]->(m) RETURN m\n",
    "\n",
    "The hierarchy skeleton is represented by nodes labeled as hierarchyNodes. It enables us to know which graphs are the ancestors of a graph we want to rewrite for example."
   ]
  },
  {
   "cell_type": "markdown",
   "metadata": {},
   "source": [
    "## Adding a graph to the hierarchy (Action Graph)"
   ]
  },
  {
   "cell_type": "markdown",
   "metadata": {},
   "source": [
    "Here we create a first graph called *ActionGraph*. This graph represent people and the relationship between them."
   ]
  },
  {
   "cell_type": "code",
   "execution_count": 45,
   "metadata": {
    "scrolled": true
   },
   "outputs": [],
   "source": [
    "nodes = [\n",
    "    (\"a\", {\"name\": {\"Jack\"}, \"age\": {43}, \"hobby\": {\"hiking\", \"music\"}}), \n",
    "    (\"b\", {\"name\": {\"Robert\"}, \"age\": {35}, \"hobby\": {\"sport\", \"music\"}, \"height\": {178}}),\n",
    "    (\"c\", {\"name\":{ \"Paul\"}, \"age\": {18}}),\n",
    "    (\"d\", {\"name\": {\"Joe\"}, \"age\": {10}}),\n",
    "    (\"e\", {\"name\": {\"Paul\"}, \"age\": {18}})\n",
    "]\n",
    "edges = [\n",
    "    (\"a\", \"b\", {\"type\": {\"friends\"}}), \n",
    "    (\"a\", \"c\", {\"type\": {\"colleagues\"}}),\n",
    "    (\"b\", \"c\", {\"type\": {\"colleagues\"}}),\n",
    "    (\"d\", \"a\", {\"type\": {\"child_of\"}}), \n",
    "    (\"d\", \"e\", {\"type\": {\"enemies\"}}),\n",
    "    (\"e\", \"e\", {\"type\": {\"likes\"}})\n",
    "]\n",
    "h.add_graph('actionGraph', nodes, edges)"
   ]
  },
  {
   "cell_type": "markdown",
   "metadata": {},
   "source": [
    "## Adding a second graph to the herarchy (Meta Model)"
   ]
  },
  {
   "cell_type": "markdown",
   "metadata": {},
   "source": [
    "Here we create a second graph called *MetaModel*. Which represent the types of people (*Adult* or *Child*) and the relationships between them."
   ]
  },
  {
   "cell_type": "code",
   "execution_count": 46,
   "metadata": {},
   "outputs": [],
   "source": [
    "nodes = [\n",
    "    (\"a\", {\"type\": {\"Adult\"}, \"age\": {43, 35, 18}}),\n",
    "    (\"b\", {\"type\": {\"Child\"}, \"age\": {10, 11, 12, 18}, \"name\": {\"Paul\", \"Joe\"}})\n",
    "]\n",
    "edges = [\n",
    "    (\"a\", \"a\", {\"type\": {\"friends\", \"colleagues\"}}),\n",
    "    (\"b\", \"a\", {\"type\": {\"child_of\"}}),\n",
    "    (\"b\", \"b\", {\"type\": {\"friends\", \"enemies\"}})\n",
    "]\n",
    "h.add_graph('metaModel', nodes, edges)"
   ]
  },
  {
   "cell_type": "markdown",
   "metadata": {},
   "source": [
    "## Typing"
   ]
  },
  {
   "cell_type": "markdown",
   "metadata": {},
   "source": [
    "Here we create a typing of the *ActionGraph* on the *MetaModel*."
   ]
  },
  {
   "cell_type": "code",
   "execution_count": 47,
   "metadata": {},
   "outputs": [
    {
     "data": {
      "text/plain": [
       "<neo4j.v1.result.BoltStatementResult at 0x7ff0ebbcee10>"
      ]
     },
     "execution_count": 47,
     "metadata": {},
     "output_type": "execute_result"
    }
   ],
   "source": [
    "mapping = {\n",
    "    \"a\":\"a\",\n",
    "    \"b\":\"a\",\n",
    "    \"c\":\"a\",\n",
    "    \"d\":\"b\",\n",
    "    \"e\":\"b\"\n",
    "}\n",
    "h.add_typing('actionGraph', 'metaModel', mapping)"
   ]
  },
  {
   "cell_type": "code",
   "execution_count": 48,
   "metadata": {
    "scrolled": false
   },
   "outputs": [],
   "source": [
    "#h.check_typing('actionGraph', 'metaModel')"
   ]
  },
  {
   "cell_type": "markdown",
   "metadata": {},
   "source": [
    "## Classic update functions"
   ]
  },
  {
   "cell_type": "markdown",
   "metadata": {},
   "source": [
    "We still can use the modification functions on these grapphs."
   ]
  },
  {
   "cell_type": "code",
   "execution_count": 49,
   "metadata": {},
   "outputs": [],
   "source": [
    "#ag.merge_nodes1([\"b\", \"c\"])"
   ]
  },
  {
   "cell_type": "code",
   "execution_count": 50,
   "metadata": {
    "scrolled": false
   },
   "outputs": [],
   "source": [
    "#ag.clone_node(\"e\")"
   ]
  },
  {
   "cell_type": "markdown",
   "metadata": {},
   "source": [
    "## Graph rewriting and propagation up"
   ]
  },
  {
   "cell_type": "code",
   "execution_count": 51,
   "metadata": {},
   "outputs": [],
   "source": [
    "pattern = nx.DiGraph()\n",
    "pattern.add_nodes_from([\"x\", (\"y\",  {\"type\": {\"Child\"}, \"name\" : {\"Paul\", \"Joe\"}})])\n",
    "pattern.add_edges_from([(\"y\", \"x\",  {\"type\": {\"child_of\"}}), (\"y\", \"y\")])"
   ]
  },
  {
   "cell_type": "code",
   "execution_count": 52,
   "metadata": {},
   "outputs": [],
   "source": [
    "rule = Rule.from_transform(pattern)\n",
    "rule.inject_remove_node_attrs(\"y\",  {\"name\": {\"Joe\"}})\n",
    "rule.inject_remove_edge_attrs(\"y\", \"x\",  {\"type\": {\"child_of\"}})"
   ]
  },
  {
   "cell_type": "code",
   "execution_count": 53,
   "metadata": {},
   "outputs": [
    {
     "data": {
      "text/plain": [
       "{'y': {'name': <regraph.default.attribute_sets.FiniteSet at 0x7ff0ebbdba90>}}"
      ]
     },
     "execution_count": 53,
     "metadata": {},
     "output_type": "execute_result"
    }
   ],
   "source": [
    "rule.removed_node_attrs()  "
   ]
  },
  {
   "cell_type": "code",
   "execution_count": 54,
   "metadata": {},
   "outputs": [
    {
     "name": "stdout",
     "output_type": "stream",
     "text": [
      "{'type': <regraph.default.attribute_sets.FiniteSet object at 0x7ff0ebcd18d0>}\n"
     ]
    }
   ],
   "source": [
    "from regraph.default.utils import normalize_attrs\n",
    "arg = {'type':{'child'}}\n",
    "normalize_attrs(arg)\n",
    "print(arg)"
   ]
  },
  {
   "cell_type": "code",
   "execution_count": 55,
   "metadata": {
    "scrolled": false
   },
   "outputs": [
    {
     "name": "stderr",
     "output_type": "stream",
     "text": [
      "/home/florian/Documents/Code/env3/lib/python3.6/site-packages/matplotlib-2.2.2-py3.6-linux-x86_64.egg/matplotlib/cbook/deprecation.py:107: MatplotlibDeprecationWarning: Passing one of 'on', 'true', 'off', 'false' as a boolean is deprecated; use an actual boolean (True/False) instead.\n",
      "  warnings.warn(message, mplDeprecation, stacklevel=1)\n",
      "/home/florian/Documents/Code/env3/lib/python3.6/site-packages/networkx-1.11-py3.6.egg/networkx/drawing/nx_pylab.py:522: MatplotlibDeprecationWarning: The is_string_like function was deprecated in version 2.1.\n",
      "  if not cb.is_string_like(edge_color) \\\n",
      "/home/florian/Documents/Code/env3/lib/python3.6/site-packages/networkx-1.11-py3.6.egg/networkx/drawing/nx_pylab.py:543: MatplotlibDeprecationWarning: The is_string_like function was deprecated in version 2.1.\n",
      "  if cb.is_string_like(edge_color) or len(edge_color) == 1:\n",
      "/home/florian/Documents/Code/env3/lib/python3.6/site-packages/networkx-1.11-py3.6.egg/networkx/drawing/nx_pylab.py:724: MatplotlibDeprecationWarning: The is_string_like function was deprecated in version 2.1.\n",
      "  if not cb.is_string_like(label):\n"
     ]
    },
    {
     "data": {
      "image/png": "[encoded data removed]",
      "text/plain": [
       "<Figure size 1008x216 with 3 Axes>"
      ]
     },
     "metadata": {},
     "output_type": "display_data"
    }
   ],
   "source": [
    "plot_rule(rule)"
   ]
  },
  {
   "cell_type": "code",
   "execution_count": 56,
   "metadata": {},
   "outputs": [
    {
     "name": "stdout",
     "output_type": "stream",
     "text": [
      "[('y', 'type', {'Child'}), ('y', 'name', {'Joe', 'Paul'})]\n",
      "Instances:  [{'x': 'a', 'y': 'b'}]\n"
     ]
    }
   ],
   "source": [
    "mm = h.access_graph('metaModel')\n",
    "instances = mm.find_matching(pattern)\n",
    "print(\"Instances: \", instances)"
   ]
  },
  {
   "cell_type": "code",
   "execution_count": 57,
   "metadata": {
    "scrolled": false
   },
   "outputs": [
    {
     "name": "stdout",
     "output_type": "stream",
     "text": [
      "// Match nodes and edges of the instance \n",
      "MATCH (lhs_x:node:metaModel { id : 'a'}), (lhs_y:node:metaModel { id : 'b'}) , (lhs_y)-[lhs_y_lhs_x:edge]->(lhs_x), (lhs_y)-[lhs_y_lhs_y:edge]->(lhs_y)\n",
      "\n",
      "// Renaming vars to correspond to the vars of P\n",
      "WITH lhs_y_lhs_y, lhs_y_lhs_x , lhs_x as p_x, lhs_y as p_y \n",
      "\n",
      "// Removing properties from node 'y' of P \n",
      "FOREACH(dummy IN CASE WHEN 'name' IN keys(p_y) THEN [1] ELSE [] END |\n",
      "SET p_y.name = filter(v in p_y.name WHERE NOT v IN ['Joe']))\n",
      "\n",
      "// Removing properties from edge y->x of P \n",
      "WITH p_x, lhs_y_lhs_x, lhs_y_lhs_y, p_y MATCH (p_y)-[p_y_p_x:edge]->(p_x)\n",
      "FOREACH(dummy IN CASE WHEN 'type' IN keys(p_y_p_x) THEN [1] ELSE [] END |\n",
      "SET p_y_p_x.type = filter(v in p_y_p_x.type WHERE NOT v IN ['child_of']))\n",
      "\n",
      "// Renaming vars to correspond to the vars of rhs\n",
      "WITH p_y_p_x, lhs_y_lhs_x, lhs_y_lhs_y , p_x as rhs_x, p_y as rhs_y \n",
      "\n",
      "WITH [] as added_edges, p_y_p_x, rhs_y, lhs_y_lhs_x, lhs_y_lhs_y, rhs_x\n",
      "// Return statement \n",
      "RETURN p_y_p_x, added_edges, rhs_y, lhs_y_lhs_x, lhs_y_lhs_y, rhs_x\n",
      "\n"
     ]
    },
    {
     "data": {
      "text/plain": [
       "<Record p_y_p_x=<Relationship id=39428 nodes=(<Node id=16596 labels={'metaModel', 'node'} properties={'name': ['Paul'], 'id': 'b', 'type': ['Child'], 'age': [11, 18, 10, 12]}>, <Node id=16583 labels={'metaModel', 'node'} properties={'type': ['Adult'], 'age': [43, 18, 35], 'id': 'a'}>) type='edge' properties={'type': []}> added_edges=[] rhs_y=<Node id=16596 labels={'metaModel', 'node'} properties={'name': ['Paul'], 'id': 'b', 'type': ['Child'], 'age': [11, 18, 10, 12]}> lhs_y_lhs_x=<Relationship id=39428 nodes=(<Node id=16596 labels={'metaModel', 'node'} properties={'name': ['Paul'], 'id': 'b', 'type': ['Child'], 'age': [11, 18, 10, 12]}>, <Node id=16583 labels={'metaModel', 'node'} properties={'type': ['Adult'], 'age': [43, 18, 35], 'id': 'a'}>) type='edge' properties={'type': []}> lhs_y_lhs_y=<Relationship id=39435 nodes=(<Node id=16596 labels={'metaModel', 'node'} properties={'name': ['Paul'], 'id': 'b', 'type': ['Child'], 'age': [11, 18, 10, 12]}>, <Node id=16596 labels={'metaModel', 'node'} properties={'name': ['Paul'], 'id': 'b', 'type': ['Child'], 'age': [11, 18, 10, 12]}>) type='edge' properties={'type': ['enemies', 'friends']}> rhs_x=<Node id=16583 labels={'metaModel', 'node'} properties={'type': ['Adult'], 'age': [43, 18, 35], 'id': 'a'}>>"
      ]
     },
     "execution_count": 57,
     "metadata": {},
     "output_type": "execute_result"
    }
   ],
   "source": [
    "#h.rewrite('metaModel', rule, instances[0])\n",
    "h.rewrite('metaModel', rule, instances[0])"
   ]
  },
  {
   "cell_type": "code",
   "execution_count": 58,
   "metadata": {
    "scrolled": true
   },
   "outputs": [
    {
     "name": "stdout",
     "output_type": "stream",
     "text": [
      "Rewritting ancestors of metaModel...\n",
      "-->  actionGraph\n",
      "// Matching of the nodes to clone in 'actionGraph'\n",
      "OPTIONAL MATCH (node_to_clone:node:actionGraph)-[t:typing]->(n:node:metaModel)\n",
      "WITH node_to_clone, collect(n) as sucs, collect(t) as typ_sucs, size(collect(n)) as number_of_img\n",
      "WHERE number_of_img >= 2 AND node_to_clone IS NOT NULL\n",
      "FOREACH(t IN typ_sucs | DELETE t)\n",
      "WITH node_to_clone, sucs, number_of_img-1 as number_of_clone\n",
      "UNWIND range(1, number_of_clone) as clone_number\n",
      "// create a node corresponding to the clone\n",
      "CREATE (cloned_node:node:actionGraph) \n",
      "WITH cloned_node, toString(id(cloned_node)) as clone_id, node_to_clone.id as original_old, sucs, node_to_clone, clone_number \n",
      "// set the id property of the original node to NULL\n",
      "SET node_to_clone.id = NULL\n",
      "// copy all the properties of the original node to the clone\n",
      "SET cloned_node = node_to_clone\n",
      "// set id property of the clone to neo4j-generated id\n",
      "SET cloned_node.id = toString(id(cloned_node)), cloned_node.count = NULL\n",
      "// set back the id property of the original node\n",
      "SET node_to_clone.id = original_old\n",
      "WITH cloned_node, toString(id(cloned_node)) as clone_id, sucs, node_to_clone, clone_number \n",
      "\n",
      "//create a map from original node id to the clone\n",
      "WITH {original_node:node_to_clone.id, clones:collect(cloned_node)+[node_to_clone]} as orig_id_to_clone, collect({clone_id:clone_id, clone:cloned_node}) as clone_maps, sucs, node_to_clone\n",
      "WITH collect(orig_id_to_clone) as orig_ids_to_clone, collect({orig:node_to_clone, clone_maps:clone_maps}) as all_orig, sucs\n",
      "WITH apoc.map.groupByMulti(orig_ids_to_clone, 'original_node') as orig_ids_to_clone, all_orig, sucs\n",
      "WITH apoc.map.fromValues(REDUCE(pairs=[], k in keys(orig_ids_to_clone) | \n",
      "\tpairs + [k, REDUCE(values=[], v in orig_ids_to_clone[k] | \n",
      "\t\tvalues + CASE WHEN v.clones IN values THEN [] ELSE v.clones END)])) as orig_ids_to_clone, all_orig, sucs\n",
      "UNWIND all_orig as original_map\n",
      "WITH original_map.orig as node_to_clone, original_map.clone_maps as clone_maps, orig_ids_to_clone, sucs\n",
      "UNWIND clone_maps as clone_map\n",
      "WITH clone_map.clone_id as clone_id, clone_map.clone as cloned_node, node_to_clone, orig_ids_to_clone, sucs\n",
      "WITH [] as sucIgnore, [] as predIgnore, clone_id, orig_ids_to_clone, node_to_clone, cloned_node, sucs \n",
      "// match successors and out-edges of a node to be cloned\n",
      "OPTIONAL MATCH (node_to_clone)-[out_edge:edge]->(suc) \n",
      "WHERE NOT suc.id IS NULL AND NOT suc.id IN sucIgnore\n",
      "WITH collect({neighbor: suc, id: suc.id, edge: out_edge}) as suc_maps, predIgnore, clone_id, orig_ids_to_clone, node_to_clone, cloned_node, sucs \n",
      "// match predecessors and in-edges of a node to be cloned\n",
      "OPTIONAL MATCH (pred)-[in_edge:edge]->(node_to_clone) \n",
      "WHERE NOT pred.id IS NULL AND NOT pred.id IN predIgnore\n",
      "WITH collect({neighbor: pred, id: pred.id, edge: in_edge}) as pred_maps, clone_id, orig_ids_to_clone, node_to_clone, suc_maps, cloned_node, sucs \n",
      "// copy all incident edges of the original node to the clone\n",
      "FOREACH (suc_map IN suc_maps | \n",
      "\tFOREACH (suc IN CASE\n",
      "\t\t\tWHEN suc_map.neighbor IS NOT NULL AND suc_map.id IN keys(orig_ids_to_clone)\n",
      "\t\t\t\tTHEN orig_ids_to_clone[suc_map.id] \n",
      "\t\t\tWHEN suc_map.neighbor IS NOT NULL\n",
      "\t\t\t\tTHEN [suc_map.neighbor] ELSE [] END |\n",
      "\t\tMERGE (cloned_node)-[new_edge:edge]->(suc) \n",
      "\t\tSET new_edge = suc_map.edge))\n",
      "FOREACH (pred_map IN pred_maps | \n",
      "\tFOREACH (pred IN CASE\n",
      "\t\t\tWHEN pred_map.neighbor IS NOT NULL AND pred_map.id IN keys(orig_ids_to_clone)\n",
      "\t\t\t\tTHEN orig_ids_to_clone[pred_map.id] \n",
      "\t\t\tWHEN pred_map.neighbor IS NOT NULL\n",
      "\t\t\t\tTHEN [pred_map.neighbor] ELSE [] END |\n",
      "\t\tMERGE (pred)-[new_edge:edge]->(cloned_node) \n",
      "\t\tSET new_edge = pred_map.edge))\n",
      "// copy self loop\n",
      "FOREACH (suc_map IN suc_maps | \n",
      "\tFOREACH (self_loop IN CASE WHEN suc_map.neighbor = node_to_clone THEN [suc_map.edge] ELSE [] END |\n",
      "\t\tMERGE (cloned_node)-[new_edge:edge]->(cloned_node) \n",
      "\t\tSET new_edge = self_loop))\n",
      "WITH clone_id, orig_ids_to_clone, node_to_clone, cloned_node, sucs \n",
      "OPTIONAL MATCH (node_to_clone)-[out_typ_edge:typing]->(suc_typ:node)\n",
      "WITH collect({neighbor: suc_typ, edge: out_typ_edge}) as suc_typ_maps, clone_id, orig_ids_to_clone, node_to_clone, cloned_node, sucs \n",
      "OPTIONAL MATCH (pred_typ:node)-[in_typ_edge:typing]->(node_to_clone) \n",
      "WITH collect({neighbor: pred_typ, edge: in_typ_edge}) as pred_typ_maps, clone_id, orig_ids_to_clone, node_to_clone, suc_typ_maps, cloned_node, sucs \n",
      "// copy all incident typing edges of the original node to the clone\n",
      "FOREACH (suc_map IN suc_typ_maps | \n",
      "\tFOREACH (suc IN CASE WHEN suc_map.neighbor IS NOT NULL THEN [suc_map.neighbor] ELSE [] END |\n",
      "\t\tMERGE (cloned_node)-[new_edge:typing]->(suc) \n",
      "\t\tSET new_edge = suc_map.edge))\n",
      "FOREACH (pred_map IN pred_typ_maps | \n",
      "\tFOREACH (pred IN CASE WHEN pred_map.neighbor IS NOT NULL THEN [pred_map.neighbor] ELSE [] END |\n",
      "\t\tMERGE (pred)-[new_edge:typing]->(cloned_node) \n",
      "\t\tSET new_edge = pred_map.edge))\n",
      "WITH collect(cloned_node)+[node_to_clone] as nodes_to_typ, collect(clone_id) as clone_ids, orig_ids_to_clone, node_to_clone, sucs\n",
      "FOREACH (i IN range(0, size(sucs)-1) |\n",
      "\tFOREACH(source in [nodes_to_typ[i]] |\n",
      "\t\tFOREACH(target in [sucs[i]] |\n",
      "\t\t\tMERGE (source)-[restored_typing:typing {  }]->(target)\n",
      ")))\n",
      "RETURN clone_ids\n",
      "// Removal of nodes in 'actionGraph'\n",
      "MATCH (n:node:actionGraph)\n",
      "OPTIONAL MATCH (n)-[:typing]->(x:node:metaModel)\n",
      "FOREACH(dummy IN CASE WHEN x IS NULL THEN [1] ELSE [] END |\n",
      "\tDETACH DELETE n)\n",
      "// Removal of node properties in 'actionGraph'\n",
      "WITH n, x\n",
      "WHERE x IS NOT NULL AND REDUCE(invalid = 0, k in filter(k in keys(n) WHERE k <> 'id') |\n",
      "\tinvalid + CASE\n",
      "\t\tWHEN NOT k IN keys(x) THEN 1\n",
      "\t\tELSE REDUCE(invalid_values = 0, v in n[k] |\n",
      "\t\t\tinvalid_values + CASE\n",
      "\t\t\t\tWHEN NOT v IN x[k] THEN 1 ELSE 0 END)\n",
      "\t\tEND) <> 0\n",
      "WITH n, x, [x, n] as node_to_merge_props\n",
      "\n",
      "//Perform the intersection of the properties of node_to_merge_props\n",
      "WITH [] as new_props, x, node_to_merge_props, n\n",
      "WITH new_props + REDUCE(pairs = [], k in keys(node_to_merge_props[0]) | pairs +\n",
      "\tCASE WHEN ALL(other in node_to_merge_props WHERE k in keys(other))\n",
      "\tTHEN\n",
      "\t\tREDUCE(inner_pairs = [], v in node_to_merge_props[0][k] | inner_pairs +\n",
      "\t\t\tCASE WHEN ALL(other in node_to_merge_props WHERE v in other[k])\n",
      "\t\t\tTHEN\n",
      "\t\t\t\t{key: k, value: v}\n",
      "\t\t\tELSE\n",
      "\t\t\t\t[]\n",
      "\t\t\tEND)\n",
      "\tELSE\n",
      "\t\t[]\n",
      "\tEND) as new_props, x, node_to_merge_props, n\n",
      "WITH apoc.map.groupByMulti(new_props, 'key') as new_props, x, node_to_merge_props, n\n",
      "WITH apoc.map.fromValues(REDUCE(pairs=[], k in keys(new_props) | \n",
      "\tpairs + [k, REDUCE(values=[], v in new_props[k] | \n",
      "\t\tvalues + CASE WHEN v.value IN values THEN [] ELSE v.value END)])) as new_props, x, node_to_merge_props, n\n",
      "SET n = new_props\n",
      "\n",
      "// Removal of edges attributes in 'actionGraph'\n",
      "MATCH (x:node:metaModel)-[rel_pred:edge]->(y:node:metaModel)OPTIONAL MATCH (n:node:actionGraph)-[rel:edge]->(m:node:actionGraph)\n",
      "WHERE (n)-[:typing]->(x) AND (m)-[:typing]->(y)\n",
      "FOREACH(dummy IN CASE WHEN rel IS NULL THEN [1] ELSE [] END |\n",
      "\tDELETE rel_pred)\n",
      "WITH rel, rel_pred\n",
      "WHERE rel IS NOT NULL AND REDUCE(invalid = 0, k in filter(k in keys(rel_pred) WHERE k <> 'id') |\n",
      "\tinvalid + CASE\n",
      "\t\tWHEN NOT k IN keys(rel) THEN 1\n",
      "\t\tELSE REDUCE(invalid_values = 0, v in rel_pred[k] |\n",
      "\t\t\tinvalid_values + CASE\n",
      "\t\t\t\tWHEN NOT v IN rel[k] THEN 1 ELSE 0 END)\n",
      "\t\tEND) <> 0\n",
      "WITH rel, rel_pred, [rel_pred, rel] as edges_to_merge_props\n",
      "\n",
      "//Perform the intersection of the properties of edges_to_merge_props\n",
      "WITH [] as new_props, edges_to_merge_props, rel_pred, rel\n",
      "WITH new_props + REDUCE(pairs = [], k in keys(edges_to_merge_props[0]) | pairs +\n",
      "\tCASE WHEN ALL(other in edges_to_merge_props WHERE k in keys(other))\n",
      "\tTHEN\n",
      "\t\tREDUCE(inner_pairs = [], v in edges_to_merge_props[0][k] | inner_pairs +\n",
      "\t\t\tCASE WHEN ALL(other in edges_to_merge_props WHERE v in other[k])\n",
      "\t\t\tTHEN\n",
      "\t\t\t\t{key: k, value: v}\n",
      "\t\t\tELSE\n",
      "\t\t\t\t[]\n",
      "\t\t\tEND)\n",
      "\tELSE\n",
      "\t\t[]\n",
      "\tEND) as new_props, edges_to_merge_props, rel_pred, rel\n",
      "WITH apoc.map.groupByMulti(new_props, 'key') as new_props, edges_to_merge_props, rel_pred, rel\n",
      "WITH apoc.map.fromValues(REDUCE(pairs=[], k in keys(new_props) | \n",
      "\tpairs + [k, REDUCE(values=[], v in new_props[k] | \n",
      "\t\tvalues + CASE WHEN v.value IN values THEN [] ELSE v.value END)])) as new_props, edges_to_merge_props, rel_pred, rel\n",
      "SET rel_pred = new_props\n",
      "\n",
      "Rewritting ancestors of actionGraph...\n"
     ]
    }
   ],
   "source": [
    "h.propagation_up('metaModel')"
   ]
  },
  {
   "cell_type": "markdown",
   "metadata": {},
   "source": [
    "## Graph rewritting and propagation down"
   ]
  },
  {
   "cell_type": "code",
   "execution_count": 35,
   "metadata": {},
   "outputs": [],
   "source": [
    "pattern = nx.DiGraph()\n",
    "pattern.add_nodes_from([(\"w\", {\"name\":{\"Paul\"}}), \"x\", \"y\", \"z\"])\n",
    "pattern.add_edges_from([(\"x\", \"w\"), (\"y\", \"x\"), (\"y\", \"z\"), (\"z\",\"z\")])"
   ]
  },
  {
   "cell_type": "code",
   "execution_count": 36,
   "metadata": {},
   "outputs": [],
   "source": [
    "rule = Rule.from_transform(pattern)\n",
    "rule.inject_add_node(\"new_node\")\n",
    "rule.inject_add_edge(\"new_node\", \"y\")\n",
    "rule.inject_add_edge(\"new_node\", \"x\")\n",
    "merged = rule.inject_merge_nodes([\"w\", \"z\"])"
   ]
  },
  {
   "cell_type": "code",
   "execution_count": 37,
   "metadata": {},
   "outputs": [],
   "source": [
    "rule.inject_add_node_attrs(\"x\", {\"age\":{10}})\n",
    "rule.inject_add_edge_attrs(\"x\", \"z\", {\"relation\":{\"likes\"}})"
   ]
  },
  {
   "cell_type": "code",
   "execution_count": 38,
   "metadata": {},
   "outputs": [
    {
     "data": {
      "text/plain": [
       "{'x': {'age': <regraph.default.attribute_sets.FiniteSet at 0x7ff0ee0cee48>},\n",
       " 'w_z': {'name': <regraph.default.attribute_sets.FiniteSet at 0x7ff0ebcd1780>}}"
      ]
     },
     "execution_count": 38,
     "metadata": {},
     "output_type": "execute_result"
    }
   ],
   "source": [
    "rule.added_node_attrs()"
   ]
  },
  {
   "cell_type": "code",
   "execution_count": 39,
   "metadata": {
    "scrolled": true
   },
   "outputs": [
    {
     "name": "stderr",
     "output_type": "stream",
     "text": [
      "/home/florian/Documents/Code/env3/lib/python3.6/site-packages/matplotlib-2.2.2-py3.6-linux-x86_64.egg/matplotlib/cbook/deprecation.py:107: MatplotlibDeprecationWarning: Passing one of 'on', 'true', 'off', 'false' as a boolean is deprecated; use an actual boolean (True/False) instead.\n",
      "  warnings.warn(message, mplDeprecation, stacklevel=1)\n",
      "/home/florian/Documents/Code/env3/lib/python3.6/site-packages/networkx-1.11-py3.6.egg/networkx/drawing/nx_pylab.py:522: MatplotlibDeprecationWarning: The is_string_like function was deprecated in version 2.1.\n",
      "  if not cb.is_string_like(edge_color) \\\n",
      "/home/florian/Documents/Code/env3/lib/python3.6/site-packages/networkx-1.11-py3.6.egg/networkx/drawing/nx_pylab.py:543: MatplotlibDeprecationWarning: The is_string_like function was deprecated in version 2.1.\n",
      "  if cb.is_string_like(edge_color) or len(edge_color) == 1:\n",
      "/home/florian/Documents/Code/env3/lib/python3.6/site-packages/networkx-1.11-py3.6.egg/networkx/drawing/nx_pylab.py:724: MatplotlibDeprecationWarning: The is_string_like function was deprecated in version 2.1.\n",
      "  if not cb.is_string_like(label):\n"
     ]
    },
    {
     "data": {
      "image/png": "[encoded data removed]",
      "text/plain": [
       "<Figure size 1008x216 with 3 Axes>"
      ]
     },
     "metadata": {},
     "output_type": "display_data"
    }
   ],
   "source": [
    "plot_rule(rule)"
   ]
  },
  {
   "cell_type": "code",
   "execution_count": 40,
   "metadata": {},
   "outputs": [
    {
     "name": "stdout",
     "output_type": "stream",
     "text": [
      "[('w', 'name', {'Paul'})]\n",
      "Instances:  []\n"
     ]
    }
   ],
   "source": [
    "ag = h.access_graph('actionGraph')\n",
    "instances = ag.find_matching(pattern)\n",
    "print(\"Instances: \", instances)"
   ]
  },
  {
   "cell_type": "code",
   "execution_count": 41,
   "metadata": {
    "scrolled": true
   },
   "outputs": [
    {
     "ename": "IndexError",
     "evalue": "list index out of range",
     "output_type": "error",
     "traceback": [
      "\u001b[0;31m---------------------------------------------------------------------------\u001b[0m",
      "\u001b[0;31mIndexError\u001b[0m                                Traceback (most recent call last)",
      "\u001b[0;32m<ipython-input-41-4ab0d62447c4>\u001b[0m in \u001b[0;36m<module>\u001b[0;34m()\u001b[0m\n\u001b[1;32m      1\u001b[0m \u001b[0;31m#h.rewrite('actionGraph', rule, instances[1])\u001b[0m\u001b[0;34m\u001b[0m\u001b[0;34m\u001b[0m\u001b[0m\n\u001b[0;32m----> 2\u001b[0;31m \u001b[0mchanges\u001b[0m \u001b[0;34m=\u001b[0m \u001b[0mh\u001b[0m\u001b[0;34m.\u001b[0m\u001b[0mrewrite\u001b[0m\u001b[0;34m(\u001b[0m\u001b[0;34m'actionGraph'\u001b[0m\u001b[0;34m,\u001b[0m \u001b[0mrule\u001b[0m\u001b[0;34m,\u001b[0m \u001b[0minstances\u001b[0m\u001b[0;34m[\u001b[0m\u001b[0;36m0\u001b[0m\u001b[0;34m]\u001b[0m\u001b[0;34m)\u001b[0m\u001b[0;34m\u001b[0m\u001b[0m\n\u001b[0m",
      "\u001b[0;31mIndexError\u001b[0m: list index out of range"
     ]
    }
   ],
   "source": [
    "#h.rewrite('actionGraph', rule, instances[1])\n",
    "changes = h.rewrite('actionGraph', rule, instances[0])"
   ]
  },
  {
   "cell_type": "code",
   "execution_count": null,
   "metadata": {
    "scrolled": false
   },
   "outputs": [],
   "source": [
    "h.propagation_down('actionGraph', changes)"
   ]
  },
  {
   "cell_type": "code",
   "execution_count": null,
   "metadata": {
    "scrolled": false
   },
   "outputs": [],
   "source": [
    "#h.propagation_down_v2('actionGraph', changes)"
   ]
  },
  {
   "cell_type": "markdown",
   "metadata": {},
   "source": [
    "## Removing a graph from the hierarchy"
   ]
  },
  {
   "cell_type": "code",
   "execution_count": null,
   "metadata": {},
   "outputs": [],
   "source": []
  },
  {
   "cell_type": "markdown",
   "metadata": {},
   "source": [
    "We can also remove a graph from the hierarchy. All its nodes and connections (edges and typing edges) are removed."
   ]
  },
  {
   "cell_type": "code",
   "execution_count": null,
   "metadata": {},
   "outputs": [],
   "source": [
    "#h.remove_graph('MetaModel')"
   ]
  },
  {
   "cell_type": "markdown",
   "metadata": {},
   "source": []
  },
  {
   "cell_type": "code",
   "execution_count": null,
   "metadata": {},
   "outputs": [],
   "source": []
  },
  {
   "cell_type": "code",
   "execution_count": null,
   "metadata": {},
   "outputs": [],
   "source": [
    "#here we clear the hierarchy\n",
    "h.clear()\n",
    "h.close()\n",
    "#"
   ]
  }
 ],
 "metadata": {
  "kernelspec": {
   "display_name": "Python 3",
   "language": "python",
   "name": "python3"
  },
  "language_info": {
   "codemirror_mode": {
    "name": "ipython",
    "version": 3
   },
   "file_extension": ".py",
   "mimetype": "text/x-python",
   "name": "python",
   "nbconvert_exporter": "python",
   "pygments_lexer": "ipython3",
   "version": "3.6.5"
  }
 },
 "nbformat": 4,
 "nbformat_minor": 2
}
