{
 "cells": [
  {
   "cell_type": "code",
   "execution_count": 1,
   "metadata": {},
   "outputs": [],
   "source": [
    "import networkx as nx\n",
    "\n",
    "from regraph import Rule, plot_rule\n",
    "from regraph.neo4j.graphs import Neo4jGraph\n",
    "from regraph.neo4j.cypher_utils import *"
   ]
  },
  {
   "cell_type": "code",
   "execution_count": 2,
   "metadata": {
    "collapsed": true
   },
   "outputs": [],
   "source": [
    "g = Neo4jGraph(\"bolt://localhost:7687\", \"neo4j\", \"admin\")"
   ]
  },
  {
   "cell_type": "code",
   "execution_count": 3,
   "metadata": {
    "collapsed": true
   },
   "outputs": [],
   "source": [
    "res = g.clear()"
   ]
  },
  {
   "cell_type": "code",
   "execution_count": 4,
   "metadata": {},
   "outputs": [
    {
     "name": "stdout",
     "output_type": "stream",
     "text": [
      " OPTIONAL MATCH (same_id_node:node) WHERE same_id_node.id = 'a' FOREACH(new_count IN CASE WHEN same_id_node IS NOT NULL THEN [coalesce(same_id_node.count, 0) + 1] ELSE [] END | SET same_id_node.count = new_count) WITH same_id_node  UNWIND CASE WHEN same_id_node IS NOT NULL THEN ['a' + same_id_node.count] ELSE ['a'] END AS new_id_a CREATE (a:node { id : new_id_a }) \n",
      " OPTIONAL MATCH (same_id_node:node) WHERE same_id_node.id = 'b' FOREACH(new_count IN CASE WHEN same_id_node IS NOT NULL THEN [coalesce(same_id_node.count, 0) + 1] ELSE [] END | SET same_id_node.count = new_count) WITH same_id_node  UNWIND CASE WHEN same_id_node IS NOT NULL THEN ['b' + same_id_node.count] ELSE ['b'] END AS new_id_b CREATE (b:node { id : new_id_b }) \n",
      " OPTIONAL MATCH (same_id_node:node) WHERE same_id_node.id = 'c' FOREACH(new_count IN CASE WHEN same_id_node IS NOT NULL THEN [coalesce(same_id_node.count, 0) + 1] ELSE [] END | SET same_id_node.count = new_count) WITH same_id_node  UNWIND CASE WHEN same_id_node IS NOT NULL THEN ['c' + same_id_node.count] ELSE ['c'] END AS new_id_c CREATE (c:node { id : new_id_c }) \n",
      " OPTIONAL MATCH (same_id_node:node) WHERE same_id_node.id = 'd' FOREACH(new_count IN CASE WHEN same_id_node IS NOT NULL THEN [coalesce(same_id_node.count, 0) + 1] ELSE [] END | SET same_id_node.count = new_count) WITH same_id_node  UNWIND CASE WHEN same_id_node IS NOT NULL THEN ['d' + same_id_node.count] ELSE ['d'] END AS new_id_d CREATE (d:node { id : new_id_d }) \n",
      " OPTIONAL MATCH (same_id_node:node) WHERE same_id_node.id = 'e' FOREACH(new_count IN CASE WHEN same_id_node IS NOT NULL THEN [coalesce(same_id_node.count, 0) + 1] ELSE [] END | SET same_id_node.count = new_count) WITH same_id_node  UNWIND CASE WHEN same_id_node IS NOT NULL THEN ['e' + same_id_node.count] ELSE ['e'] END AS new_id_e CREATE (e:node { id : new_id_e }) \n",
      " OPTIONAL MATCH (same_id_node:node) WHERE same_id_node.id = 'f' FOREACH(new_count IN CASE WHEN same_id_node IS NOT NULL THEN [coalesce(same_id_node.count, 0) + 1] ELSE [] END | SET same_id_node.count = new_count) WITH same_id_node  UNWIND CASE WHEN same_id_node IS NOT NULL THEN ['f' + same_id_node.count] ELSE ['f'] END AS new_id_f CREATE (f:node { id : new_id_f }) \n"
     ]
    }
   ],
   "source": [
    "nodes = [\"a\", \"b\", \"c\", \"d\", \"e\", \"f\"]\n",
    "edges = [(\"a\", \"b\"), (\"d\", \"b\"), (\"a\", \"c\"), (\"e\", \"a\"), (\"f\", \"d\")]\n",
    "g.add_nodes_from(nodes)\n",
    "g.add_edges_from(edges)"
   ]
  },
  {
   "cell_type": "code",
   "execution_count": 5,
   "metadata": {
    "scrolled": true
   },
   "outputs": [
    {
     "name": "stdout",
     "output_type": "stream",
     "text": [
      " OPTIONAL MATCH (same_id_node:node) WHERE same_id_node.id = 'x' FOREACH(new_count IN CASE WHEN same_id_node IS NOT NULL THEN [coalesce(same_id_node.count, 0) + 1] ELSE [] END | SET same_id_node.count = new_count) WITH same_id_node  UNWIND CASE WHEN same_id_node IS NOT NULL THEN ['x' + same_id_node.count] ELSE ['x'] END AS new_id CREATE (x:node { id : new_id }) \n"
     ]
    }
   ],
   "source": [
    "g.add_node(\"x\")"
   ]
  },
  {
   "cell_type": "code",
   "execution_count": 6,
   "metadata": {},
   "outputs": [],
   "source": [
    "g.add_edge(\"x\", \"c\")"
   ]
  },
  {
   "cell_type": "code",
   "execution_count": 7,
   "metadata": {},
   "outputs": [],
   "source": [
    "g.remove_edge(\"x\", \"c\")"
   ]
  },
  {
   "cell_type": "code",
   "execution_count": 8,
   "metadata": {},
   "outputs": [],
   "source": [
    "g.remove_node(\"x\")"
   ]
  },
  {
   "cell_type": "code",
   "execution_count": 9,
   "metadata": {},
   "outputs": [
    {
     "data": {
      "text/plain": [
       "['e', 'f', 'a', 'b', 'c', 'd']"
      ]
     },
     "execution_count": 9,
     "metadata": {},
     "output_type": "execute_result"
    }
   ],
   "source": [
    "g.nodes()"
   ]
  },
  {
   "cell_type": "code",
   "execution_count": 10,
   "metadata": {},
   "outputs": [
    {
     "data": {
      "text/plain": [
       "[('e', 'a'), ('a', 'b'), ('d', 'b'), ('a', 'c'), ('f', 'd')]"
      ]
     },
     "execution_count": 10,
     "metadata": {},
     "output_type": "execute_result"
    }
   ],
   "source": [
    "g.edges()"
   ]
  },
  {
   "cell_type": "code",
   "execution_count": 11,
   "metadata": {},
   "outputs": [
    {
     "name": "stdout",
     "output_type": "stream",
     "text": [
      "Created clone by the name:  2010849\n"
     ]
    }
   ],
   "source": [
    "res_clone_1 = g.clone_node('a', ignore_naming=True)\n",
    "print(\"Created clone by the name: \", res_clone_1)"
   ]
  },
  {
   "cell_type": "code",
   "execution_count": 12,
   "metadata": {},
   "outputs": [
    {
     "name": "stdout",
     "output_type": "stream",
     "text": [
      "Created clone by the name:  2010850\n"
     ]
    }
   ],
   "source": [
    "res_clone_2 = g.clone_node('a', 'a_clone', ignore_naming=True)\n",
    "print(\"Created clone by the name: \", res_clone_2)"
   ]
  },
  {
   "cell_type": "code",
   "execution_count": 13,
   "metadata": {},
   "outputs": [
    {
     "name": "stdout",
     "output_type": "stream",
     "text": [
      " OPTIONAL MATCH (same_id_node:node) WHERE same_id_node.id = 'a_b' FOREACH(new_count IN CASE WHEN same_id_node IS NOT NULL THEN [coalesce(same_id_node.count, 0) + 1] ELSE [] END | SET same_id_node.count = new_count) WITH same_id_node , sucs_b, sucs_a, preds_b, a, b, preds_a UNWIND CASE WHEN same_id_node IS NOT NULL THEN ['a_b' + same_id_node.count] ELSE ['a_b'] END AS new_id CREATE (merged_node:node { id : new_id }) \n"
     ]
    }
   ],
   "source": [
    "res_merge = g.merge_nodes([\"a\", \"b\"])"
   ]
  },
  {
   "cell_type": "code",
   "execution_count": 14,
   "metadata": {},
   "outputs": [
    {
     "data": {
      "text/plain": [
       "'a_b'"
      ]
     },
     "execution_count": 14,
     "metadata": {},
     "output_type": "execute_result"
    }
   ],
   "source": [
    "res_merge"
   ]
  },
  {
   "cell_type": "code",
   "execution_count": 15,
   "metadata": {
    "collapsed": true
   },
   "outputs": [],
   "source": [
    "pattern = nx.DiGraph()\n",
    "pattern.add_nodes_from([\"x\", \"y\", \"z\", \"a\"])\n",
    "pattern.add_edges_from([(\"x\", \"y\"), (\"y\", \"z\"), (\"z\", \"z\"), (\"z\", \"a\")])"
   ]
  },
  {
   "cell_type": "code",
   "execution_count": 16,
   "metadata": {},
   "outputs": [
    {
     "name": "stdout",
     "output_type": "stream",
     "text": [
      "Instances:  [{'x': 'e', 'y': '2010849', 'z': 'a_b', 'a': 'c'}, {'x': 'e', 'y': '2010850', 'z': 'a_b', 'a': 'c'}, {'x': 'f', 'y': 'd', 'z': 'a_b', 'a': 'c'}]\n"
     ]
    }
   ],
   "source": [
    "instances = g.find_matching(pattern)\n",
    "print(\"Instances: \", instances)"
   ]
  },
  {
   "cell_type": "code",
   "execution_count": 17,
   "metadata": {
    "collapsed": true
   },
   "outputs": [],
   "source": [
    "rule = Rule.from_transform(pattern)\n",
    "clone_name1, _ = rule.inject_clone_node(\"y\")\n",
    "clone_name2, _ = rule.inject_clone_node(\"y\")\n",
    "rule.inject_remove_edge(clone_name2, \"z\")\n",
    "rule.inject_remove_node(\"x\")\n",
    "rule.inject_merge_nodes([\"y\", \"a\"])\n",
    "rule.inject_add_node(\"new_node\")\n",
    "rule.inject_add_edge(\"new_node\", \"z\")"
   ]
  },
  {
   "cell_type": "code",
   "execution_count": 18,
   "metadata": {},
   "outputs": [
    {
     "name": "stderr",
     "output_type": "stream",
     "text": [
      "/home/eugenia/anaconda3/lib/python3.6/site-packages/networkx-1.11-py3.6.egg/networkx/drawing/nx_pylab.py:522: MatplotlibDeprecationWarning: The is_string_like function was deprecated in version 2.1.\n",
      "  if not cb.is_string_like(edge_color) \\\n",
      "/home/eugenia/anaconda3/lib/python3.6/site-packages/networkx-1.11-py3.6.egg/networkx/drawing/nx_pylab.py:543: MatplotlibDeprecationWarning: The is_string_like function was deprecated in version 2.1.\n",
      "  if cb.is_string_like(edge_color) or len(edge_color) == 1:\n",
      "/home/eugenia/anaconda3/lib/python3.6/site-packages/networkx-1.11-py3.6.egg/networkx/drawing/nx_pylab.py:724: MatplotlibDeprecationWarning: The is_string_like function was deprecated in version 2.1.\n",
      "  if not cb.is_string_like(label):\n"
     ]
    },
    {
     "data": {
      "image/png": "[encoded data removed]",
      "text/plain": [
       "<matplotlib.figure.Figure at 0x7f2d99028b70>"
      ]
     },
     "metadata": {},
     "output_type": "display_data"
    }
   ],
   "source": [
    "plot_rule(rule)"
   ]
  },
  {
   "cell_type": "code",
   "execution_count": 19,
   "metadata": {},
   "outputs": [
    {
     "data": {
      "text/plain": [
       "{'a': 'c', 'x': 'e', 'y': '2010849', 'z': 'a_b'}"
      ]
     },
     "execution_count": 19,
     "metadata": {},
     "output_type": "execute_result"
    }
   ],
   "source": [
    "instances[0]"
   ]
  },
  {
   "cell_type": "code",
   "execution_count": 20,
   "metadata": {},
   "outputs": [
    {
     "name": "stdout",
     "output_type": "stream",
     "text": [
      "CREATE (uidce7fe4440dae4e7690034edbe9cd9027:node) SET uidce7fe4440dae4e7690034edbe9cd9027.id=toString(id(uidce7fe4440dae4e7690034edbe9cd9027)) WITH toString(id(uidce7fe4440dae4e7690034edbe9cd9027)) as uid9a73e63df741406b952cf43942921789 , sucs_uiddbd81bd0cd784f048726112c1c8695b8, preds_uiddbd81bd0cd784f048726112c1c8695b8, uid5fc9eaa93f974b63a7410f900e21927d, uidce7fe4440dae4e7690034edbe9cd9027, preds_uid5fc9eaa93f974b63a7410f900e21927d, uid7da307c8957a4b89bf8a2c96baa73ffb, uiddbd81bd0cd784f048726112c1c8695b8, uid144cc858d54e4150bbd9a94fb201da64, uidee0e3e53faf64b6588fd910c1a7b9110, sucs_uid5fc9eaa93f974b63a7410f900e21927d \n",
      "CREATE (uid646bea82abdb479db70d0f26a5946e4d:node) SET uid646bea82abdb479db70d0f26a5946e4d.id=toString(id(uid646bea82abdb479db70d0f26a5946e4d)) WITH toString(id(uid646bea82abdb479db70d0f26a5946e4d)) as uid2a74c412e4994ad38f56e71780513510 , uid646bea82abdb479db70d0f26a5946e4d, uidce7fe4440dae4e7690034edbe9cd9027, uid9a73e63df741406b952cf43942921789, uid7da307c8957a4b89bf8a2c96baa73ffb, uid144cc858d54e4150bbd9a94fb201da64, uidee0e3e53faf64b6588fd910c1a7b9110 \n",
      "\n",
      "\n",
      "Rewriting rule to commands: \n",
      "\n",
      "CLONE y AS y2.\n",
      "CLONE y AS y1.\n",
      "DELETE_NODE x.\n",
      "DELETE_EDGE y2 z.\n",
      "MERGE [y, a] AS 'a_y'.\n",
      "ADD_NODE new_node {}.\n",
      "ADD_EDGE new_node z {}.\n",
      "\n"
     ]
    }
   ],
   "source": [
    "rhs_g = g.rewrite(rule, instances[0])\n",
    "print(\"\\n\\nRewriting rule to commands: \\n\")\n",
    "print(rule.to_commands())"
   ]
  },
  {
   "cell_type": "code",
   "execution_count": 21,
   "metadata": {},
   "outputs": [
    {
     "data": {
      "text/plain": [
       "{'a_y': '2010854',\n",
       " 'new_node': '2010855',\n",
       " 'y1': '2010853',\n",
       " 'y2': '2010852',\n",
       " 'z': 'a_b'}"
      ]
     },
     "execution_count": 21,
     "metadata": {},
     "output_type": "execute_result"
    }
   ],
   "source": [
    "rhs_g"
   ]
  },
  {
   "cell_type": "code",
   "execution_count": 22,
   "metadata": {},
   "outputs": [
    {
     "data": {
      "text/plain": [
       "[('x', 'y'), ('y', 'z'), ('z', 'z'), ('z', 'a')]"
      ]
     },
     "execution_count": 22,
     "metadata": {},
     "output_type": "execute_result"
    }
   ],
   "source": [
    "pattern.edges()"
   ]
  },
  {
   "cell_type": "code",
   "execution_count": 23,
   "metadata": {},
   "outputs": [
    {
     "data": {
      "text/plain": [
       "'x_y'"
      ]
     },
     "execution_count": 23,
     "metadata": {},
     "output_type": "execute_result"
    }
   ],
   "source": [
    "pattern = nx.DiGraph()\n",
    "pattern.add_edge(\"x\", \"y\")\n",
    "\n",
    "rule = Rule.from_transform(pattern)\n",
    "rule.inject_merge_nodes([\"x\", \"y\"])"
   ]
  },
  {
   "cell_type": "code",
   "execution_count": 24,
   "metadata": {},
   "outputs": [
    {
     "name": "stderr",
     "output_type": "stream",
     "text": [
      "/home/eugenia/anaconda3/lib/python3.6/site-packages/networkx-1.11-py3.6.egg/networkx/drawing/nx_pylab.py:522: MatplotlibDeprecationWarning: The is_string_like function was deprecated in version 2.1.\n",
      "  if not cb.is_string_like(edge_color) \\\n",
      "/home/eugenia/anaconda3/lib/python3.6/site-packages/networkx-1.11-py3.6.egg/networkx/drawing/nx_pylab.py:543: MatplotlibDeprecationWarning: The is_string_like function was deprecated in version 2.1.\n",
      "  if cb.is_string_like(edge_color) or len(edge_color) == 1:\n",
      "/home/eugenia/anaconda3/lib/python3.6/site-packages/networkx-1.11-py3.6.egg/networkx/drawing/nx_pylab.py:724: MatplotlibDeprecationWarning: The is_string_like function was deprecated in version 2.1.\n",
      "  if not cb.is_string_like(label):\n"
     ]
    },
    {
     "data": {
      "image/png": "[encoded data removed]",
      "text/plain": [
       "<matplotlib.figure.Figure at 0x7f2d99028978>"
      ]
     },
     "metadata": {},
     "output_type": "display_data"
    }
   ],
   "source": [
    "plot_rule(rule)"
   ]
  },
  {
   "cell_type": "code",
   "execution_count": 25,
   "metadata": {},
   "outputs": [
    {
     "name": "stdout",
     "output_type": "stream",
     "text": [
      "CREATE (uid722dd37a9ec44d64a3bb425ef48455bf:node) SET uid722dd37a9ec44d64a3bb425ef48455bf.id=toString(id(uid722dd37a9ec44d64a3bb425ef48455bf)) WITH toString(id(uid722dd37a9ec44d64a3bb425ef48455bf)) as uid3b2510e0b12942d4bb7e97743bfe3dc0 , uid722dd37a9ec44d64a3bb425ef48455bf, preds_uid9222c226afd94d9a887d9d76bcc0ce84, sucs_uidd58c9e0988e74921a646062e35821cec, uidd58c9e0988e74921a646062e35821cec, uid9222c226afd94d9a887d9d76bcc0ce84, preds_uidd58c9e0988e74921a646062e35821cec, sucs_uid9222c226afd94d9a887d9d76bcc0ce84 \n"
     ]
    }
   ],
   "source": [
    "rhs = g.rewrite(rule, {\"x\": \"f\", \"y\": \"d\"})"
   ]
  },
  {
   "cell_type": "code",
   "execution_count": 26,
   "metadata": {},
   "outputs": [
    {
     "data": {
      "text/plain": [
       "{'x_y': '2010857'}"
      ]
     },
     "execution_count": 26,
     "metadata": {},
     "output_type": "execute_result"
    }
   ],
   "source": [
    "rhs"
   ]
  },
  {
   "cell_type": "code",
   "execution_count": null,
   "metadata": {
    "collapsed": true
   },
   "outputs": [],
   "source": []
  }
 ],
 "metadata": {
  "kernelspec": {
   "display_name": "Python 3",
   "language": "python",
   "name": "python3"
  },
  "language_info": {
   "codemirror_mode": {
    "name": "ipython",
    "version": 3
   },
   "file_extension": ".py",
   "mimetype": "text/x-python",
   "name": "python",
   "nbconvert_exporter": "python",
   "pygments_lexer": "ipython3",
   "version": "3.6.3"
  }
 },
 "nbformat": 4,
 "nbformat_minor": 2
}
