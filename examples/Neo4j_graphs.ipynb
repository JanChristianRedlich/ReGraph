{
 "cells": [
  {
   "cell_type": "code",
   "execution_count": 1,
   "metadata": {},
   "outputs": [],
   "source": [
    "from regraph.neo4j.graphs import Neo4jGraph\n",
    "from regraph.neo4j.cypher_utils import *"
   ]
  },
  {
   "cell_type": "code",
   "execution_count": 2,
   "metadata": {
    "collapsed": true
   },
   "outputs": [],
   "source": [
    "g = Neo4jGraph(\"bolt://localhost:7687\", \"neo4j\", \"admin\")"
   ]
  },
  {
   "cell_type": "code",
   "execution_count": 3,
   "metadata": {
    "collapsed": true
   },
   "outputs": [],
   "source": [
    "res = g.clear()"
   ]
  },
  {
   "cell_type": "code",
   "execution_count": 4,
   "metadata": {},
   "outputs": [
    {
     "name": "stdout",
     "output_type": "stream",
     "text": [
      "<neo4j.v1.result.BoltStatementResult object at 0x7fba367c02e8>\n",
      "MATCH (f), (c), (e), (d), (b), (a) WHERE f.id = 'f' and c.id = 'c' and e.id = 'e' and d.id = 'd' and b.id = 'b' and a.id = 'a' CREATE (a)-[:edge]->(b), (d)-[:edge]->(b), (a)-[:edge]->(c), (e)-[:edge]->(a), (f)-[:edge]->(d)\n",
      "<neo4j.v1.result.BoltStatementResult object at 0x7fba367c02b0>\n"
     ]
    }
   ],
   "source": [
    "nodes = [\"a\", \"b\", \"c\", \"d\", \"e\", \"f\"]\n",
    "edges = [(\"a\", \"b\"), (\"d\", \"b\"), (\"a\", \"c\"), (\"e\", \"a\"), (\"f\", \"d\")]\n",
    "g.add_nodes_from(nodes)\n",
    "g.add_edges_from(edges)"
   ]
  },
  {
   "cell_type": "code",
   "execution_count": 5,
   "metadata": {
    "scrolled": true
   },
   "outputs": [
    {
     "name": "stdout",
     "output_type": "stream",
     "text": [
      "<neo4j.v1.result.BoltStatementResult object at 0x7fba36c539e8>\n"
     ]
    }
   ],
   "source": [
    "g.add_node(\"x\")"
   ]
  },
  {
   "cell_type": "code",
   "execution_count": 6,
   "metadata": {},
   "outputs": [
    {
     "name": "stdout",
     "output_type": "stream",
     "text": [
      "MATCH (c), (x) WHERE c.id = 'c' and x.id = 'x' CREATE (x)-[:edge]->(c)\n",
      "<neo4j.v1.result.BoltStatementResult object at 0x7fba36c53b00>\n"
     ]
    }
   ],
   "source": [
    "g.add_edge(\"x\", \"c\")"
   ]
  },
  {
   "cell_type": "code",
   "execution_count": 7,
   "metadata": {},
   "outputs": [
    {
     "name": "stdout",
     "output_type": "stream",
     "text": [
      "<neo4j.v1.result.BoltStatementResult object at 0x7fba36c53da0>\n"
     ]
    }
   ],
   "source": [
    "g.remove_edge(\"x\", \"c\")"
   ]
  },
  {
   "cell_type": "code",
   "execution_count": 8,
   "metadata": {},
   "outputs": [
    {
     "data": {
      "text/plain": [
       "['a', 'b', 'c', 'd', 'e', 'f', 'x']"
      ]
     },
     "execution_count": 8,
     "metadata": {},
     "output_type": "execute_result"
    }
   ],
   "source": [
    "g.nodes()"
   ]
  },
  {
   "cell_type": "code",
   "execution_count": 9,
   "metadata": {},
   "outputs": [
    {
     "data": {
      "text/plain": [
       "[('e', 'a'), ('a', 'b'), ('d', 'b'), ('a', 'c'), ('f', 'd')]"
      ]
     },
     "execution_count": 9,
     "metadata": {},
     "output_type": "execute_result"
    }
   ],
   "source": [
    "g.edges()"
   ]
  },
  {
   "cell_type": "code",
   "execution_count": 10,
   "metadata": {},
   "outputs": [
    {
     "data": {
      "text/plain": [
       "<neo4j.v1.result.BoltStatementResult at 0x7fba367cf048>"
      ]
     },
     "execution_count": 10,
     "metadata": {},
     "output_type": "execute_result"
    }
   ],
   "source": [
    "g.clone_node('a')"
   ]
  },
  {
   "cell_type": "code",
   "execution_count": 11,
   "metadata": {},
   "outputs": [
    {
     "data": {
      "text/plain": [
       "<neo4j.v1.result.BoltStatementResult at 0x7fba367cf438>"
      ]
     },
     "execution_count": 11,
     "metadata": {},
     "output_type": "execute_result"
    }
   ],
   "source": [
    "g.clone_node('a', 'a_clone')"
   ]
  },
  {
   "cell_type": "code",
   "execution_count": 12,
   "metadata": {},
   "outputs": [
    {
     "data": {
      "text/plain": [
       "\"MATCH (a:node { id : 'a' }) MATCH (b:node { id : 'b' }) OPTIONAL MATCH (a)-[:edge]->(suc_a) OPTIONAL MATCH (pred_a)-[:edge]->(a) OPTIONAL MATCH (b)-[:edge]->(suc_b) OPTIONAL MATCH (pred_b)-[:edge]->(b)  WITH a, b, COLLECT(suc_a) as sucs_a, COLLECT(pred_a) as preds_a, COLLECT(suc_b) as sucs_b, COLLECT(pred_b) as preds_b CREATE (a_b:node { id: 'a_b' }) FOREACH(s IN sucs_a | CREATE UNIQUE (a_b)-[:edge]->(s))  FOREACH(s IN sucs_b | CREATE UNIQUE (a_b)-[:edge]->(s)) FOREACH(p IN preds_a | CREATE UNIQUE (p)-[:edge]->(a_b))  FOREACH(p IN preds_b | CREATE UNIQUE (p)-[:edge]->(a_b)) FOREACH(n IN sucs_a + preds_a + sucs_b + preds_b | FOREACH(x IN CASE WHEN n IN [a, b] THEN ['dummy'] ELSE [] END |CREATE UNIQUE (a_b)-[:edge]->(a_b)) ))  DETACH DELETE a, b\""
      ]
     },
     "execution_count": 12,
     "metadata": {},
     "output_type": "execute_result"
    }
   ],
   "source": [
    "merge_nodes([\"a\", \"b\"], \"a_b\")"
   ]
  },
  {
   "cell_type": "code",
   "execution_count": null,
   "metadata": {
    "collapsed": true
   },
   "outputs": [],
   "source": []
  },
  {
   "cell_type": "code",
   "execution_count": null,
   "metadata": {
    "collapsed": true
   },
   "outputs": [],
   "source": []
  }
 ],
 "metadata": {
  "kernelspec": {
   "display_name": "Python 3",
   "language": "python",
   "name": "python3"
  },
  "language_info": {
   "codemirror_mode": {
    "name": "ipython",
    "version": 3
   },
   "file_extension": ".py",
   "mimetype": "text/x-python",
   "name": "python",
   "nbconvert_exporter": "python",
   "pygments_lexer": "ipython3",
   "version": "3.6.3"
  }
 },
 "nbformat": 4,
 "nbformat_minor": 2
}
