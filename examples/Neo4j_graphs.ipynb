{
 "cells": [
  {
   "cell_type": "code",
   "execution_count": 5,
   "metadata": {
    "collapsed": true
   },
   "outputs": [],
   "source": [
    "from regraph.neo4j.driver import Neo4jGraph"
   ]
  },
  {
   "cell_type": "code",
   "execution_count": null,
   "metadata": {
    "collapsed": true
   },
   "outputs": [],
   "source": []
  },
  {
   "cell_type": "code",
   "execution_count": 6,
   "metadata": {},
   "outputs": [],
   "source": [
    "d = Neo4jDriver(\"bolt://localhost:7687\", \"neo4j\", \"admin\")"
   ]
  },
  {
   "cell_type": "code",
   "execution_count": 12,
   "metadata": {},
   "outputs": [
    {
     "name": "stdout",
     "output_type": "stream",
     "text": [
      "<neo4j.v1.result.BoltStatementResult object at 0x7f5a73892278>\n"
     ]
    }
   ],
   "source": [
    "g.clear()"
   ]
  },
  {
   "cell_type": "code",
   "execution_count": 13,
   "metadata": {},
   "outputs": [
    {
     "name": "stdout",
     "output_type": "stream",
     "text": [
      "CREATE (a:node { id : 'a' }), (b:node { id : 'b' }), (c:node { id : 'c' }), (d:node { id : 'd' }), (e:node { id : 'e' }), (f:node { id : 'f' }), (a)-[:edge]->(b), (d)-[:edge]->(b), (a)-[:edge]->(c), (e)-[:edge]->(a), (f)-[:edge]->(d)\n",
      "<neo4j.v1.result.BoltStatementResult object at 0x7f5a73892be0>\n"
     ]
    }
   ],
   "source": [
    "nodes = [\"a\", \"b\", \"c\", \"d\", \"e\", \"f\"]\n",
    "edges = [(\"a\", \"b\"), (\"d\", \"b\"), (\"a\", \"c\"), (\"e\", \"a\"), (\"f\", \"d\")]\n",
    "\n",
    "g = Neo4jGraph(nodes, edges)"
   ]
  }
 ],
 "metadata": {
  "kernelspec": {
   "display_name": "Python 3",
   "language": "python",
   "name": "python3"
  },
  "language_info": {
   "codemirror_mode": {
    "name": "ipython",
    "version": 3
   },
   "file_extension": ".py",
   "mimetype": "text/x-python",
   "name": "python",
   "nbconvert_exporter": "python",
   "pygments_lexer": "ipython3",
   "version": "3.6.3"
  }
 },
 "nbformat": 4,
 "nbformat_minor": 2
}
