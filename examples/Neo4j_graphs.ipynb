{
 "cells": [
  {
   "cell_type": "code",
   "execution_count": 1,
   "metadata": {},
   "outputs": [],
   "source": [
    "from regraph.neo4j.graphs import Neo4jGraph"
   ]
  },
  {
   "cell_type": "code",
   "execution_count": 2,
   "metadata": {},
   "outputs": [
    {
     "name": "stdout",
     "output_type": "stream",
     "text": [
      "<neo4j.v1.result.BoltStatementResult object at 0x7f0e9bec21d0>\n"
     ]
    }
   ],
   "source": [
    "g = Neo4jGraph(\"bolt://localhost:7687\", \"neo4j\", \"admin\")\n",
    "g.clear()"
   ]
  },
  {
   "cell_type": "code",
   "execution_count": 3,
   "metadata": {},
   "outputs": [
    {
     "name": "stdout",
     "output_type": "stream",
     "text": [
      "<neo4j.v1.result.BoltStatementResult object at 0x7f0e9bec27b8>\n",
      "MATCH (a), (d), (f), (b), (e), (c) WHERE a.id = 'a' and d.id = 'd' and f.id = 'f' and b.id = 'b' and e.id = 'e' and c.id = 'c' CREATE (a)-[:edge]->(b), (d)-[:edge]->(b), (a)-[:edge]->(c), (e)-[:edge]->(a), (f)-[:edge]->(d)\n",
      "<neo4j.v1.result.BoltStatementResult object at 0x7f0e9bec2748>\n"
     ]
    }
   ],
   "source": [
    "nodes = [\"a\", \"b\", \"c\", \"d\", \"e\", \"f\"]\n",
    "edges = [(\"a\", \"b\"), (\"d\", \"b\"), (\"a\", \"c\"), (\"e\", \"a\"), (\"f\", \"d\")]\n",
    "g.add_nodes_from(nodes)\n",
    "g.add_edges_from(edges)"
   ]
  },
  {
   "cell_type": "code",
   "execution_count": 4,
   "metadata": {},
   "outputs": [
    {
     "name": "stdout",
     "output_type": "stream",
     "text": [
      "<neo4j.v1.result.BoltStatementResult object at 0x7f0ec036d400>\n"
     ]
    }
   ],
   "source": [
    "g.add_node(\"x\")"
   ]
  },
  {
   "cell_type": "code",
   "execution_count": 5,
   "metadata": {},
   "outputs": [
    {
     "name": "stdout",
     "output_type": "stream",
     "text": [
      "MATCH (c), (x) WHERE c.id = 'c' and x.id = 'x' CREATE (x)-[:edge]->(c)\n",
      "<neo4j.v1.result.BoltStatementResult object at 0x7f0ec029b048>\n"
     ]
    }
   ],
   "source": [
    "g.add_edge(\"x\", \"c\")"
   ]
  },
  {
   "cell_type": "code",
   "execution_count": 6,
   "metadata": {},
   "outputs": [
    {
     "name": "stdout",
     "output_type": "stream",
     "text": [
      "<neo4j.v1.result.BoltStatementResult object at 0x7f0ec029b080>\n"
     ]
    }
   ],
   "source": [
    "g.remove_edge(\"x\", \"c\")"
   ]
  },
  {
   "cell_type": "code",
   "execution_count": 7,
   "metadata": {},
   "outputs": [
    {
     "data": {
      "text/plain": [
       "['a', 'b', 'c', 'd', 'e', 'f', 'x']"
      ]
     },
     "execution_count": 7,
     "metadata": {},
     "output_type": "execute_result"
    }
   ],
   "source": [
    "g.nodes()"
   ]
  },
  {
   "cell_type": "code",
   "execution_count": 10,
   "metadata": {},
   "outputs": [
    {
     "data": {
      "text/plain": [
       "[('e', 'a'), ('a', 'b'), ('d', 'b'), ('a', 'c'), ('f', 'd')]"
      ]
     },
     "execution_count": 10,
     "metadata": {},
     "output_type": "execute_result"
    }
   ],
   "source": [
    "g.edges()"
   ]
  }
 ],
 "metadata": {
  "kernelspec": {
   "display_name": "Python 3",
   "language": "python",
   "name": "python3"
  },
  "language_info": {
   "codemirror_mode": {
    "name": "ipython",
    "version": 3
   },
   "file_extension": ".py",
   "mimetype": "text/x-python",
   "name": "python",
   "nbconvert_exporter": "python",
   "pygments_lexer": "ipython3",
   "version": "3.6.3"
  }
 },
 "nbformat": 4,
 "nbformat_minor": 2
}
