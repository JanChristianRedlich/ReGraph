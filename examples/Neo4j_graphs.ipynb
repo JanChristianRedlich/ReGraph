{
 "cells": [
  {
   "cell_type": "code",
   "execution_count": 1,
   "metadata": {},
   "outputs": [],
   "source": [
    "import networkx as nx\n",
    "\n",
    "from regraph import Rule, plot_rule\n",
    "from regraph.neo4j.graphs import Neo4jGraph\n",
    "from regraph.neo4j.cypher_utils import *"
   ]
  },
  {
   "cell_type": "code",
   "execution_count": 2,
   "metadata": {
    "collapsed": true
   },
   "outputs": [],
   "source": [
    "g = Neo4jGraph(\"bolt://localhost:7687\", \"neo4j\", \"admin\")"
   ]
  },
  {
   "cell_type": "code",
   "execution_count": 3,
   "metadata": {
    "collapsed": true
   },
   "outputs": [],
   "source": [
    "res = g.clear()"
   ]
  },
  {
   "cell_type": "code",
   "execution_count": 4,
   "metadata": {},
   "outputs": [
    {
     "name": "stdout",
     "output_type": "stream",
     "text": [
      "<neo4j.v1.result.BoltStatementResult object at 0x7fcd782d6ef0>\n",
      "<neo4j.v1.result.BoltStatementResult object at 0x7fcd782d6eb8>\n"
     ]
    }
   ],
   "source": [
    "nodes = [\"a\", \"b\", \"c\", \"d\", \"e\", \"f\"]\n",
    "edges = [(\"a\", \"b\"), (\"d\", \"b\"), (\"a\", \"c\"), (\"e\", \"a\"), (\"f\", \"d\")]\n",
    "g.add_nodes_from(nodes)\n",
    "g.add_edges_from(edges)"
   ]
  },
  {
   "cell_type": "code",
   "execution_count": 5,
   "metadata": {
    "scrolled": true
   },
   "outputs": [
    {
     "name": "stdout",
     "output_type": "stream",
     "text": [
      "<neo4j.v1.result.BoltStatementResult object at 0x7fcd782d6908>\n"
     ]
    }
   ],
   "source": [
    "g.add_node(\"x\")"
   ]
  },
  {
   "cell_type": "code",
   "execution_count": 6,
   "metadata": {},
   "outputs": [
    {
     "name": "stdout",
     "output_type": "stream",
     "text": [
      "<neo4j.v1.result.BoltStatementResult object at 0x7fcd782d6780>\n"
     ]
    }
   ],
   "source": [
    "g.add_edge(\"x\", \"c\")"
   ]
  },
  {
   "cell_type": "code",
   "execution_count": 7,
   "metadata": {},
   "outputs": [
    {
     "name": "stdout",
     "output_type": "stream",
     "text": [
      "<neo4j.v1.result.BoltStatementResult object at 0x7fcd782d6780>\n"
     ]
    }
   ],
   "source": [
    "g.remove_edge(\"x\", \"c\")"
   ]
  },
  {
   "cell_type": "code",
   "execution_count": 8,
   "metadata": {},
   "outputs": [
    {
     "data": {
      "text/plain": [
       "['d', 'e', 'f', 'x', 'a', 'b', 'c']"
      ]
     },
     "execution_count": 8,
     "metadata": {},
     "output_type": "execute_result"
    }
   ],
   "source": [
    "g.nodes()"
   ]
  },
  {
   "cell_type": "code",
   "execution_count": 9,
   "metadata": {},
   "outputs": [
    {
     "data": {
      "text/plain": [
       "[('f', 'd'), ('e', 'a'), ('a', 'b'), ('d', 'b'), ('a', 'c')]"
      ]
     },
     "execution_count": 9,
     "metadata": {},
     "output_type": "execute_result"
    }
   ],
   "source": [
    "g.edges()"
   ]
  },
  {
   "cell_type": "code",
   "execution_count": 10,
   "metadata": {},
   "outputs": [
    {
     "name": "stdout",
     "output_type": "stream",
     "text": [
      "uid\n",
      "MATCH (x:node { id : 'a' })  OPTIONAL MATCH (same_id_node:node) WHERE same_id_node.id = 'a' FOREACH(new_count IN CASE WHEN same_id_node IS NOT NULL THEN [coalesce(same_id_node.count, 0) + 1] ELSE [] END | SET same_id_node.count=coalesce(same_id_node.count, 0) + 1 ) WITH same_id_node , x UNWIND CASE WHEN same_id_node IS NOT NULL THEN ['a' + same_id_node.count] ELSE ['a'] END AS uid CREATE (new_node:node { id : uid }) WITH uid, x, new_node OPTIONAL MATCH (x)-[:edge]->(m:node), (o:node)-[:edge]->(x) WITH COLLECT(m) AS ms, COLLECT(o) AS os, uid, x, new_node FOREACH(o IN os | FOREACH(p IN CASE WHEN NOT o.id IN [] THEN [o] ELSE [] END | CREATE UNIQUE (p)-[:edge]->(new_node) )) FOREACH(m IN ms | FOREACH(p IN CASE WHEN NOT m.id IN [] THEN [m] ELSE [] END | CREATE UNIQUE (new_node)-[:edge]->(m) )) RETURN uid \n",
      "Created clone by the name:  a1\n"
     ]
    }
   ],
   "source": [
    "res_clone_1 = g.clone_node('a')\n",
    "print(\"Created clone by the name: \", res_clone_1)"
   ]
  },
  {
   "cell_type": "code",
   "execution_count": 11,
   "metadata": {},
   "outputs": [
    {
     "name": "stdout",
     "output_type": "stream",
     "text": [
      "uid\n",
      "MATCH (x:node { id : 'a' })  OPTIONAL MATCH (same_id_node:node) WHERE same_id_node.id = 'a_clone' FOREACH(new_count IN CASE WHEN same_id_node IS NOT NULL THEN [coalesce(same_id_node.count, 0) + 1] ELSE [] END | SET same_id_node.count=coalesce(same_id_node.count, 0) + 1 ) WITH same_id_node , x UNWIND CASE WHEN same_id_node IS NOT NULL THEN ['a_clone' + same_id_node.count] ELSE ['a_clone'] END AS uid CREATE (new_node:node { id : uid }) WITH uid, x, new_node OPTIONAL MATCH (x)-[:edge]->(m:node), (o:node)-[:edge]->(x) WITH COLLECT(m) AS ms, COLLECT(o) AS os, uid, x, new_node FOREACH(o IN os | FOREACH(p IN CASE WHEN NOT o.id IN [] THEN [o] ELSE [] END | CREATE UNIQUE (p)-[:edge]->(new_node) )) FOREACH(m IN ms | FOREACH(p IN CASE WHEN NOT m.id IN [] THEN [m] ELSE [] END | CREATE UNIQUE (new_node)-[:edge]->(m) )) RETURN uid \n",
      "Created clone by the name:  a_clone\n"
     ]
    }
   ],
   "source": [
    "res_clone_2 = g.clone_node('a', 'a_clone')\n",
    "print(\"Created clone by the name: \", res_clone_2)"
   ]
  },
  {
   "cell_type": "code",
   "execution_count": 12,
   "metadata": {},
   "outputs": [],
   "source": [
    "res_merge = g.merge_nodes([\"a\", \"b\"])"
   ]
  },
  {
   "cell_type": "code",
   "execution_count": 13,
   "metadata": {},
   "outputs": [
    {
     "data": {
      "text/plain": [
       "'a_b'"
      ]
     },
     "execution_count": 13,
     "metadata": {},
     "output_type": "execute_result"
    }
   ],
   "source": [
    "res_merge"
   ]
  },
  {
   "cell_type": "code",
   "execution_count": 14,
   "metadata": {
    "collapsed": true
   },
   "outputs": [],
   "source": [
    "pattern = nx.DiGraph()\n",
    "pattern.add_nodes_from([\"x\", \"y\", \"z\", \"a\"])\n",
    "pattern.add_edges_from([(\"x\", \"y\"), (\"y\", \"z\"), (\"z\", \"z\"), (\"z\", \"a\")])"
   ]
  },
  {
   "cell_type": "code",
   "execution_count": 15,
   "metadata": {},
   "outputs": [
    {
     "name": "stdout",
     "output_type": "stream",
     "text": [
      "Instances:  [{'x': 'f', 'y': 'd', 'z': 'a_b', 'a': 'c'}, {'x': 'e', 'y': 'a_clone', 'z': 'a_b', 'a': 'c'}, {'x': 'e', 'y': 'a1', 'z': 'a_b', 'a': 'c'}]\n"
     ]
    }
   ],
   "source": [
    "instances = g.find_matching(pattern)\n",
    "print(\"Instances: \", instances)"
   ]
  },
  {
   "cell_type": "code",
   "execution_count": 16,
   "metadata": {},
   "outputs": [],
   "source": [
    "rule = Rule.from_transform(pattern)\n",
    "clone_name, _ = rule.inject_clone_node(\"y\")\n",
    "clone_name, _ = rule.inject_clone_node(\"y\")\n",
    "rule.inject_remove_edge(clone_name, \"z\")\n",
    "rule.inject_remove_node(\"x\")\n",
    "rule.inject_merge_nodes([\"y\", \"a\"])\n",
    "rule.inject_add_node(\"new_node\")\n",
    "rule.inject_add_edge(\"new_node\", \"z\")"
   ]
  },
  {
   "cell_type": "code",
   "execution_count": 17,
   "metadata": {},
   "outputs": [
    {
     "name": "stderr",
     "output_type": "stream",
     "text": [
      "/home/eugenia/anaconda3/lib/python3.6/site-packages/networkx-1.11-py3.6.egg/networkx/drawing/nx_pylab.py:522: MatplotlibDeprecationWarning: The is_string_like function was deprecated in version 2.1.\n",
      "  if not cb.is_string_like(edge_color) \\\n",
      "/home/eugenia/anaconda3/lib/python3.6/site-packages/networkx-1.11-py3.6.egg/networkx/drawing/nx_pylab.py:543: MatplotlibDeprecationWarning: The is_string_like function was deprecated in version 2.1.\n",
      "  if cb.is_string_like(edge_color) or len(edge_color) == 1:\n",
      "/home/eugenia/anaconda3/lib/python3.6/site-packages/networkx-1.11-py3.6.egg/networkx/drawing/nx_pylab.py:724: MatplotlibDeprecationWarning: The is_string_like function was deprecated in version 2.1.\n",
      "  if not cb.is_string_like(label):\n"
     ]
    },
    {
     "data": {
      "image/png": "[encoded data removed]",
      "text/plain": [
       "<matplotlib.figure.Figure at 0x7fcd782d6fd0>"
      ]
     },
     "metadata": {},
     "output_type": "display_data"
    }
   ],
   "source": [
    "plot_rule(rule)"
   ]
  },
  {
   "cell_type": "code",
   "execution_count": 18,
   "metadata": {},
   "outputs": [
    {
     "data": {
      "text/plain": [
       "{'a': 'c', 'x': 'f', 'y': 'd', 'z': 'a_b'}"
      ]
     },
     "execution_count": 18,
     "metadata": {},
     "output_type": "execute_result"
    }
   ],
   "source": [
    "instances[0]"
   ]
  },
  {
   "cell_type": "code",
   "execution_count": 19,
   "metadata": {},
   "outputs": [
    {
     "name": "stdout",
     "output_type": "stream",
     "text": [
      "y2_clone_id\n",
      "y1_clone_id\n",
      "MATCH (x:node { id : 'f'}), (y:node { id : 'd'}), (z:node { id : 'a_b'}), (a:node { id : 'c'}) , (x)-[x_y:edge]->(y), (y)-[y_z:edge]->(z), (z)-[z_z:edge]->(z), (z)-[z_a:edge]->(a) OPTIONAL MATCH (same_id_node:node) WHERE same_id_node.id = 'y2' FOREACH(new_count IN CASE WHEN same_id_node IS NOT NULL THEN [coalesce(same_id_node.count, 0) + 1] ELSE [] END | SET same_id_node.count=coalesce(same_id_node.count, 0) + 1 ) WITH same_id_node , y, a, x, z UNWIND CASE WHEN same_id_node IS NOT NULL THEN ['y2' + same_id_node.count] ELSE ['y2'] END AS y2_clone_id CREATE (y2:node { id : y2_clone_id }) WITH y, a, y2_clone_id, z, y2, x OPTIONAL MATCH (y)-[:edge]->(m:node), (o:node)-[:edge]->(y) WITH COLLECT(m) AS ms, COLLECT(o) AS os, y, a, y2_clone_id, z, y2, x FOREACH(o IN os | FOREACH(p IN CASE WHEN NOT o.id IN [] THEN [o] ELSE [] END | CREATE UNIQUE (p)-[:edge]->(y2) )) FOREACH(m IN ms | FOREACH(p IN CASE WHEN NOT m.id IN ['a_b'] THEN [m] ELSE [] END | CREATE UNIQUE (y2)-[:edge]->(m) )) WITH y, a, y2_clone_id, z, y2, x  OPTIONAL MATCH (same_id_node:node) WHERE same_id_node.id = 'y1' FOREACH(new_count IN CASE WHEN same_id_node IS NOT NULL THEN [coalesce(same_id_node.count, 0) + 1] ELSE [] END | SET same_id_node.count=coalesce(same_id_node.count, 0) + 1 ) WITH same_id_node , y, a, y2_clone_id, z, y2, x UNWIND CASE WHEN same_id_node IS NOT NULL THEN ['y1' + same_id_node.count] ELSE ['y1'] END AS y1_clone_id CREATE (y1:node { id : y1_clone_id }) WITH y, y1_clone_id, a, y2_clone_id, y1, z, y2, x OPTIONAL MATCH (y)-[:edge]->(m:node), (o:node)-[:edge]->(y) WITH COLLECT(m) AS ms, COLLECT(o) AS os, y, y1_clone_id, a, y2_clone_id, y1, z, y2, x FOREACH(o IN os | FOREACH(p IN CASE WHEN NOT o.id IN [] THEN [o] ELSE [] END | CREATE UNIQUE (p)-[:edge]->(y1) )) FOREACH(m IN ms | FOREACH(p IN CASE WHEN NOT m.id IN [] THEN [m] ELSE [] END | CREATE UNIQUE (y1)-[:edge]->(m) )) WITH y, y1_clone_id, a, y2_clone_id, y1, z, y2, x DETACH DELETE x WITH y, y1_clone_id, a, y2_clone_id, y1, z, y2 OPTIONAL MATCH (y)-[:edge]->(suc_y) OPTIONAL MATCH (pred_y)-[:edge]->(y) OPTIONAL MATCH (a)-[:edge]->(suc_a) OPTIONAL MATCH (pred_a)-[:edge]->(a)  WITH COLLECT(suc_y) as sucs_y, COLLECT(pred_y) as preds_y, COLLECT(suc_a) as sucs_a, COLLECT(pred_a) as preds_a, y, y1_clone_id, a, y2_clone_id, y1, z, y2 OPTIONAL MATCH (same_id_node:node) WHERE same_id_node.id = 'd_c' FOREACH(new_count IN CASE WHEN same_id_node IS NOT NULL AND NOT same_id_node.id IN [y.id, a.id] THEN [coalesce(same_id_node.count, 0) + 1] ELSE [] END | SET same_id_node.count=coalesce(same_id_node.count, 0) + 1 ) WITH same_id_node, sucs_y, preds_y, sucs_a, preds_a, y, y1_clone_id, a, y2_clone_id, y1, z, y2 UNWIND CASE WHEN same_id_node IS NOT NULL THEN ['d_c' + same_id_node.count] ELSE ['d_c'] END AS y_a_id CREATE (y_a:node { id: y_a_id }) FOREACH(s IN sucs_y | CREATE UNIQUE (y_a)-[:edge]->(s))  FOREACH(s IN sucs_a | CREATE UNIQUE (y_a)-[:edge]->(s)) FOREACH(p IN preds_y | CREATE UNIQUE (p)-[:edge]->(y_a))  FOREACH(p IN preds_a | CREATE UNIQUE (p)-[:edge]->(y_a)) FOREACH(n IN sucs_y + preds_y + sucs_a + preds_a | FOREACH(dummy_var IN CASE WHEN n IN [y, a] THEN ['dummy'] ELSE [] END | CREATE UNIQUE (y_a)-[:edge]->(y_a)) )  DETACH DELETE y, a WITH y1_clone_id, y_a, y2_clone_id, y1, z, y2  OPTIONAL MATCH (same_id_node:node) WHERE same_id_node.id = 'new_node' FOREACH(new_count IN CASE WHEN same_id_node IS NOT NULL THEN [coalesce(same_id_node.count, 0) + 1] ELSE [] END | SET same_id_node.count=coalesce(same_id_node.count, 0) + 1 ) WITH same_id_node  UNWIND CASE WHEN same_id_node IS NOT NULL THEN ['new_node' + same_id_node.count] ELSE ['new_node'] END AS new_node_id CREATE (new_node:node { id : new_node_id }) CREATE UNIQUE (new_node)-[:edge]->(z) RETURN new_node, new_node_id \n"
     ]
    }
   ],
   "source": [
    "rhs_g = g.rewrite(rule, instances[0])"
   ]
  },
  {
   "cell_type": "code",
   "execution_count": 20,
   "metadata": {},
   "outputs": [
    {
     "data": {
      "text/plain": [
       "{'new_node': 'new_node'}"
      ]
     },
     "execution_count": 20,
     "metadata": {},
     "output_type": "execute_result"
    }
   ],
   "source": [
    "rhs_g"
   ]
  }
 ],
 "metadata": {
  "kernelspec": {
   "display_name": "Python 3",
   "language": "python",
   "name": "python3"
  },
  "language_info": {
   "codemirror_mode": {
    "name": "ipython",
    "version": 3
   },
   "file_extension": ".py",
   "mimetype": "text/x-python",
   "name": "python",
   "nbconvert_exporter": "python",
   "pygments_lexer": "ipython3",
   "version": "3.6.3"
  }
 },
 "nbformat": 4,
 "nbformat_minor": 2
}
