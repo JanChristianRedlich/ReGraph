{
 "cells": [
  {
   "cell_type": "code",
   "execution_count": 21,
   "metadata": {
    "collapsed": true
   },
   "outputs": [],
   "source": [
    "import networkx as nx\n",
    "\n",
    "from regraph import Rule, plot_rule\n",
    "from regraph.neo4j.graphs import Neo4jGraph\n",
    "from regraph.neo4j.cypher_utils import *"
   ]
  },
  {
   "cell_type": "code",
   "execution_count": 56,
   "metadata": {
    "collapsed": true
   },
   "outputs": [],
   "source": [
    "g = Neo4jGraph(\"bolt://localhost:7687\", \"neo4j\", \"admin\")"
   ]
  },
  {
   "cell_type": "code",
   "execution_count": 57,
   "metadata": {
    "collapsed": true
   },
   "outputs": [],
   "source": [
    "res = g.clear()"
   ]
  },
  {
   "cell_type": "code",
   "execution_count": 58,
   "metadata": {},
   "outputs": [],
   "source": [
    "nodes = [\"a\", \"b\", \"c\", \"d\", \"e\", \"f\"]\n",
    "edges = [(\"a\", \"b\"), (\"d\", \"b\"), (\"a\", \"c\"), (\"e\", \"a\"), (\"f\", \"d\")]\n",
    "g.add_nodes_from(nodes)\n",
    "g.add_edges_from(edges)"
   ]
  },
  {
   "cell_type": "code",
   "execution_count": 59,
   "metadata": {
    "scrolled": true
   },
   "outputs": [],
   "source": [
    "g.add_node(\"x\")"
   ]
  },
  {
   "cell_type": "code",
   "execution_count": 60,
   "metadata": {
    "collapsed": true
   },
   "outputs": [],
   "source": [
    "g.add_edge(\"x\", \"c\")"
   ]
  },
  {
   "cell_type": "code",
   "execution_count": 61,
   "metadata": {
    "collapsed": true
   },
   "outputs": [],
   "source": [
    "g.remove_edge(\"x\", \"c\")"
   ]
  },
  {
   "cell_type": "code",
   "execution_count": 62,
   "metadata": {
    "collapsed": true
   },
   "outputs": [],
   "source": [
    "g.remove_node(\"x\")"
   ]
  },
  {
   "cell_type": "code",
   "execution_count": 63,
   "metadata": {},
   "outputs": [
    {
     "data": {
      "text/plain": [
       "['a', 'b', 'c', 'd', 'e', 'f']"
      ]
     },
     "execution_count": 63,
     "metadata": {},
     "output_type": "execute_result"
    }
   ],
   "source": [
    "g.nodes()"
   ]
  },
  {
   "cell_type": "code",
   "execution_count": 64,
   "metadata": {},
   "outputs": [
    {
     "data": {
      "text/plain": [
       "[('e', 'a'), ('a', 'b'), ('d', 'b'), ('a', 'c'), ('f', 'd')]"
      ]
     },
     "execution_count": 64,
     "metadata": {},
     "output_type": "execute_result"
    }
   ],
   "source": [
    "g.edges()"
   ]
  },
  {
   "cell_type": "code",
   "execution_count": 65,
   "metadata": {},
   "outputs": [
    {
     "name": "stdout",
     "output_type": "stream",
     "text": [
      "Created clone by the name:  a1\n"
     ]
    }
   ],
   "source": [
    "res_clone_1 = g.clone_node('a')\n",
    "print(\"Created clone by the name: \", res_clone_1)"
   ]
  },
  {
   "cell_type": "code",
   "execution_count": 66,
   "metadata": {},
   "outputs": [
    {
     "name": "stdout",
     "output_type": "stream",
     "text": [
      "Created clone by the name:  10709306\n"
     ]
    }
   ],
   "source": [
    "res_clone_1 = g.clone_node('a', ignore_naming=True)\n",
    "print(\"Created clone by the name: \", res_clone_1)"
   ]
  },
  {
   "cell_type": "code",
   "execution_count": 67,
   "metadata": {},
   "outputs": [
    {
     "name": "stdout",
     "output_type": "stream",
     "text": [
      "Created clone by the name:  a_clone\n"
     ]
    }
   ],
   "source": [
    "res_clone_2 = g.clone_node('a', 'a_clone')\n",
    "print(\"Created clone by the name: \", res_clone_2)"
   ]
  },
  {
   "cell_type": "code",
   "execution_count": 55,
   "metadata": {},
   "outputs": [],
   "source": [
    "res_merge = g.merge_nodes([\"a\", \"b\"])"
   ]
  },
  {
   "cell_type": "code",
   "execution_count": 35,
   "metadata": {},
   "outputs": [
    {
     "data": {
      "text/plain": [
       "'a_b'"
      ]
     },
     "execution_count": 35,
     "metadata": {},
     "output_type": "execute_result"
    }
   ],
   "source": [
    "res_merge"
   ]
  },
  {
   "cell_type": "code",
   "execution_count": 36,
   "metadata": {
    "collapsed": true
   },
   "outputs": [],
   "source": [
    "pattern = nx.DiGraph()\n",
    "pattern.add_nodes_from([\"x\", \"y\", \"z\", \"a\"])\n",
    "pattern.add_edges_from([(\"x\", \"y\"), (\"y\", \"z\"), (\"z\", \"z\"), (\"z\", \"a\")])"
   ]
  },
  {
   "cell_type": "code",
   "execution_count": 42,
   "metadata": {},
   "outputs": [
    {
     "name": "stdout",
     "output_type": "stream",
     "text": [
      "Instances:  []\n"
     ]
    }
   ],
   "source": [
    "instances = g.find_matching(pattern)\n",
    "print(\"Instances: \", instances)"
   ]
  },
  {
   "cell_type": "code",
   "execution_count": 38,
   "metadata": {
    "collapsed": true
   },
   "outputs": [],
   "source": [
    "rule = Rule.from_transform(pattern)\n",
    "clone_name1, _ = rule.inject_clone_node(\"y\")\n",
    "clone_name2, _ = rule.inject_clone_node(\"y\")\n",
    "rule.inject_remove_edge(clone_name2, \"z\")\n",
    "rule.inject_remove_node(\"x\")\n",
    "rule.inject_merge_nodes([\"y\", \"a\"])\n",
    "rule.inject_add_node(\"new_node\")\n",
    "rule.inject_add_edge(\"new_node\", \"z\")"
   ]
  },
  {
   "cell_type": "code",
   "execution_count": 39,
   "metadata": {},
   "outputs": [
    {
     "name": "stderr",
     "output_type": "stream",
     "text": [
      "/home/eugenia/anaconda3/lib/python3.6/site-packages/networkx-1.11-py3.6.egg/networkx/drawing/nx_pylab.py:522: MatplotlibDeprecationWarning: The is_string_like function was deprecated in version 2.1.\n",
      "  if not cb.is_string_like(edge_color) \\\n",
      "/home/eugenia/anaconda3/lib/python3.6/site-packages/networkx-1.11-py3.6.egg/networkx/drawing/nx_pylab.py:543: MatplotlibDeprecationWarning: The is_string_like function was deprecated in version 2.1.\n",
      "  if cb.is_string_like(edge_color) or len(edge_color) == 1:\n",
      "/home/eugenia/anaconda3/lib/python3.6/site-packages/networkx-1.11-py3.6.egg/networkx/drawing/nx_pylab.py:724: MatplotlibDeprecationWarning: The is_string_like function was deprecated in version 2.1.\n",
      "  if not cb.is_string_like(label):\n"
     ]
    },
    {
     "data": {
      "image/png": "[encoded data removed]",
      "text/plain": [
       "<matplotlib.figure.Figure at 0x7f77caa1dda0>"
      ]
     },
     "metadata": {},
     "output_type": "display_data"
    }
   ],
   "source": [
    "plot_rule(rule)"
   ]
  },
  {
   "cell_type": "code",
   "execution_count": 41,
   "metadata": {},
   "outputs": [
    {
     "ename": "IndexError",
     "evalue": "list index out of range",
     "output_type": "error",
     "traceback": [
      "\u001b[0;31m---------------------------------------------------------------------------\u001b[0m",
      "\u001b[0;31mIndexError\u001b[0m                                Traceback (most recent call last)",
      "\u001b[0;32m<ipython-input-41-20b22c2ea6b4>\u001b[0m in \u001b[0;36m<module>\u001b[0;34m()\u001b[0m\n\u001b[0;32m----> 1\u001b[0;31m \u001b[0mrhs_g\u001b[0m \u001b[0;34m=\u001b[0m \u001b[0mg\u001b[0m\u001b[0;34m.\u001b[0m\u001b[0mrewrite\u001b[0m\u001b[0;34m(\u001b[0m\u001b[0mrule\u001b[0m\u001b[0;34m,\u001b[0m \u001b[0minstances\u001b[0m\u001b[0;34m[\u001b[0m\u001b[0;36m0\u001b[0m\u001b[0;34m]\u001b[0m\u001b[0;34m)\u001b[0m\u001b[0;34m\u001b[0m\u001b[0m\n\u001b[0m\u001b[1;32m      2\u001b[0m \u001b[0mprint\u001b[0m\u001b[0;34m(\u001b[0m\u001b[0;34m\"\\n\\nRewriting rule to commands: \\n\"\u001b[0m\u001b[0;34m)\u001b[0m\u001b[0;34m\u001b[0m\u001b[0m\n\u001b[1;32m      3\u001b[0m \u001b[0mprint\u001b[0m\u001b[0;34m(\u001b[0m\u001b[0mrule\u001b[0m\u001b[0;34m.\u001b[0m\u001b[0mto_commands\u001b[0m\u001b[0;34m(\u001b[0m\u001b[0;34m)\u001b[0m\u001b[0;34m)\u001b[0m\u001b[0;34m\u001b[0m\u001b[0m\n",
      "\u001b[0;31mIndexError\u001b[0m: list index out of range"
     ]
    }
   ],
   "source": [
    "rhs_g = g.rewrite(rule, instances[0])\n",
    "print(\"\\n\\nRewriting rule to commands: \\n\")\n",
    "print(rule.to_commands())"
   ]
  },
  {
   "cell_type": "code",
   "execution_count": 21,
   "metadata": {},
   "outputs": [
    {
     "data": {
      "text/plain": [
       "{'a_y': '2010854',\n",
       " 'new_node': '2010855',\n",
       " 'y1': '2010853',\n",
       " 'y2': '2010852',\n",
       " 'z': 'a_b'}"
      ]
     },
     "execution_count": 21,
     "metadata": {},
     "output_type": "execute_result"
    }
   ],
   "source": [
    "rhs_g"
   ]
  },
  {
   "cell_type": "code",
   "execution_count": 22,
   "metadata": {},
   "outputs": [
    {
     "data": {
      "text/plain": [
       "[('x', 'y'), ('y', 'z'), ('z', 'z'), ('z', 'a')]"
      ]
     },
     "execution_count": 22,
     "metadata": {},
     "output_type": "execute_result"
    }
   ],
   "source": [
    "pattern.edges()"
   ]
  },
  {
   "cell_type": "code",
   "execution_count": 23,
   "metadata": {},
   "outputs": [
    {
     "data": {
      "text/plain": [
       "'x_y'"
      ]
     },
     "execution_count": 23,
     "metadata": {},
     "output_type": "execute_result"
    }
   ],
   "source": [
    "pattern = nx.DiGraph()\n",
    "pattern.add_edge(\"x\", \"y\")\n",
    "\n",
    "rule = Rule.from_transform(pattern)\n",
    "rule.inject_merge_nodes([\"x\", \"y\"])"
   ]
  },
  {
   "cell_type": "code",
   "execution_count": 24,
   "metadata": {},
   "outputs": [
    {
     "name": "stderr",
     "output_type": "stream",
     "text": [
      "/home/eugenia/anaconda3/lib/python3.6/site-packages/networkx-1.11-py3.6.egg/networkx/drawing/nx_pylab.py:522: MatplotlibDeprecationWarning: The is_string_like function was deprecated in version 2.1.\n",
      "  if not cb.is_string_like(edge_color) \\\n",
      "/home/eugenia/anaconda3/lib/python3.6/site-packages/networkx-1.11-py3.6.egg/networkx/drawing/nx_pylab.py:543: MatplotlibDeprecationWarning: The is_string_like function was deprecated in version 2.1.\n",
      "  if cb.is_string_like(edge_color) or len(edge_color) == 1:\n",
      "/home/eugenia/anaconda3/lib/python3.6/site-packages/networkx-1.11-py3.6.egg/networkx/drawing/nx_pylab.py:724: MatplotlibDeprecationWarning: The is_string_like function was deprecated in version 2.1.\n",
      "  if not cb.is_string_like(label):\n"
     ]
    },
    {
     "data": {
      "image/png": "[encoded data removed]",
      "text/plain": [
       "<matplotlib.figure.Figure at 0x7f2d99028978>"
      ]
     },
     "metadata": {},
     "output_type": "display_data"
    }
   ],
   "source": [
    "plot_rule(rule)"
   ]
  },
  {
   "cell_type": "code",
   "execution_count": 25,
   "metadata": {},
   "outputs": [
    {
     "name": "stdout",
     "output_type": "stream",
     "text": [
      "CREATE (uid722dd37a9ec44d64a3bb425ef48455bf:node) SET uid722dd37a9ec44d64a3bb425ef48455bf.id=toString(id(uid722dd37a9ec44d64a3bb425ef48455bf)) WITH toString(id(uid722dd37a9ec44d64a3bb425ef48455bf)) as uid3b2510e0b12942d4bb7e97743bfe3dc0 , uid722dd37a9ec44d64a3bb425ef48455bf, preds_uid9222c226afd94d9a887d9d76bcc0ce84, sucs_uidd58c9e0988e74921a646062e35821cec, uidd58c9e0988e74921a646062e35821cec, uid9222c226afd94d9a887d9d76bcc0ce84, preds_uidd58c9e0988e74921a646062e35821cec, sucs_uid9222c226afd94d9a887d9d76bcc0ce84 \n"
     ]
    }
   ],
   "source": [
    "rhs = g.rewrite(rule, {\"x\": \"f\", \"y\": \"d\"})"
   ]
  },
  {
   "cell_type": "code",
   "execution_count": 26,
   "metadata": {},
   "outputs": [
    {
     "data": {
      "text/plain": [
       "{'x_y': '2010857'}"
      ]
     },
     "execution_count": 26,
     "metadata": {},
     "output_type": "execute_result"
    }
   ],
   "source": [
    "rhs"
   ]
  },
  {
   "cell_type": "code",
   "execution_count": 3,
   "metadata": {
    "collapsed": true
   },
   "outputs": [],
   "source": [
    "pattern = nx.DiGraph()\n",
    "pattern.add_edges_from(\n",
    "    [\n",
    "        (\"white_circle\", \"square\"),\n",
    "        (\"square\", \"black_circle\"),\n",
    "        (\"triangle\", \"square\")\n",
    "    ])"
   ]
  },
  {
   "cell_type": "code",
   "execution_count": 4,
   "metadata": {},
   "outputs": [
    {
     "data": {
      "text/plain": [
       "'black_circle_white_circle'"
      ]
     },
     "execution_count": 4,
     "metadata": {},
     "output_type": "execute_result"
    }
   ],
   "source": [
    "ex_rule = Rule.from_transform(pattern)\n",
    "ex_rule.inject_remove_node(\"traingle\")\n",
    "ex_rule.inject_clone_node(\"square\")\n",
    "ex_rule.inject_merge_nodes([\"white_circle\", \"black_circle\"])"
   ]
  },
  {
   "cell_type": "code",
   "execution_count": 5,
   "metadata": {},
   "outputs": [
    {
     "name": "stderr",
     "output_type": "stream",
     "text": [
      "/home/eugenia/anaconda3/lib/python3.6/site-packages/networkx-1.11-py3.6.egg/networkx/drawing/nx_pylab.py:522: MatplotlibDeprecationWarning: The is_string_like function was deprecated in version 2.1.\n",
      "  if not cb.is_string_like(edge_color) \\\n",
      "/home/eugenia/anaconda3/lib/python3.6/site-packages/networkx-1.11-py3.6.egg/networkx/drawing/nx_pylab.py:543: MatplotlibDeprecationWarning: The is_string_like function was deprecated in version 2.1.\n",
      "  if cb.is_string_like(edge_color) or len(edge_color) == 1:\n",
      "/home/eugenia/anaconda3/lib/python3.6/site-packages/networkx-1.11-py3.6.egg/networkx/drawing/nx_pylab.py:724: MatplotlibDeprecationWarning: The is_string_like function was deprecated in version 2.1.\n",
      "  if not cb.is_string_like(label):\n"
     ]
    },
    {
     "data": {
      "image/png": "[encoded data removed]",
      "text/plain": [
       "<matplotlib.figure.Figure at 0x7faaf5aac9e8>"
      ]
     },
     "metadata": {},
     "output_type": "display_data"
    }
   ],
   "source": [
    "plot_rule(ex_rule)"
   ]
  },
  {
   "cell_type": "code",
   "execution_count": 8,
   "metadata": {},
   "outputs": [
    {
     "data": {
      "text/plain": [
       "\"MATCH (uid4ba25805adaf4febbdbbb45775891c2b:node { id : 'a'}), (uide67c9708aa3a477e91ccf6bed95dc6e1:node { id : 'b'}), (uidf5523e83fd384bc0af0c94570fe9899a:node { id : 'c'}), (uidf1b8a89647d4444094117d700864456a:node { id : 'd'}) , (uid4ba25805adaf4febbdbbb45775891c2b)-[uid4ba25805adaf4febbdbbb45775891c2b_uidf5523e83fd384bc0af0c94570fe9899a:edge]->(uidf5523e83fd384bc0af0c94570fe9899a), (uidf5523e83fd384bc0af0c94570fe9899a)-[uidf5523e83fd384bc0af0c94570fe9899a_uide67c9708aa3a477e91ccf6bed95dc6e1:edge]->(uide67c9708aa3a477e91ccf6bed95dc6e1), (uidf1b8a89647d4444094117d700864456a)-[uidf1b8a89647d4444094117d700864456a_uidf5523e83fd384bc0af0c94570fe9899a:edge]->(uidf5523e83fd384bc0af0c94570fe9899a)WITH [] as ignoredNodes, uide67c9708aa3a477e91ccf6bed95dc6e1, uid4ba25805adaf4febbdbbb45775891c2b, uidf5523e83fd384bc0af0c94570fe9899a, uidf1b8a89647d4444094117d700864456a OPTIONAL MATCH (uidf5523e83fd384bc0af0c94570fe9899a)-[:edge]->(succ) OPTIONAL MATCH (pred)-[:edge]->(uidf5523e83fd384bc0af0c94570fe9899a) WITH collect(succ) as listSucc, collect(pred) as listPred, ignoredNodes as ig, uide67c9708aa3a477e91ccf6bed95dc6e1, uid4ba25805adaf4febbdbbb45775891c2b, uidf5523e83fd384bc0af0c94570fe9899a, uidf1b8a89647d4444094117d700864456a WITH filter(varNode in listSucc WHERE NOT (varNode.id in ig)) AS filtSucc, filter(varNode in listPred WHERE NOT (varNode.id in ig)) AS filtPred, uide67c9708aa3a477e91ccf6bed95dc6e1, uid4ba25805adaf4febbdbbb45775891c2b, uidf5523e83fd384bc0af0c94570fe9899a, uidf1b8a89647d4444094117d700864456a CREATE (uid6ce53cd58cc64dce91047e5245f2be94:node) SET uid6ce53cd58cc64dce91047e5245f2be94.id = toString(id(uid6ce53cd58cc64dce91047e5245f2be94)) WITH uid6ce53cd58cc64dce91047e5245f2be94, filtPred, filtSucc, toString(id(uid6ce53cd58cc64dce91047e5245f2be94)) as uid97c7be1808c14fe792542a4a167c7c70, uide67c9708aa3a477e91ccf6bed95dc6e1, uid4ba25805adaf4febbdbbb45775891c2b, uidf5523e83fd384bc0af0c94570fe9899a, uidf1b8a89647d4444094117d700864456a FOREACH (succ in filtSucc | MERGE (uid6ce53cd58cc64dce91047e5245f2be94)-[:edge]->(succ)) FOREACH (pred in filtPred | MERGE (pred)-[:edge]->(uid6ce53cd58cc64dce91047e5245f2be94)) WITH uide67c9708aa3a477e91ccf6bed95dc6e1, uidf5523e83fd384bc0af0c94570fe9899a, uidf1b8a89647d4444094117d700864456a, uid4ba25805adaf4febbdbbb45775891c2b, uid6ce53cd58cc64dce91047e5245f2be94 WITH uid6ce53cd58cc64dce91047e5245f2be94 , uid4ba25805adaf4febbdbbb45775891c2b as uid128f3eb3adf042cdb9d32386bbf73ad2, uidf5523e83fd384bc0af0c94570fe9899a as uided1bbc59c4e24ee48c6d038ab84fa69d, uide67c9708aa3a477e91ccf6bed95dc6e1 as uide7614e52355146a0a31edc349cf4bf12, uidf1b8a89647d4444094117d700864456a as uid132528995c04474cb2107c32bf647938 OPTIONAL MATCH (uid128f3eb3adf042cdb9d32386bbf73ad2)-[:edge]->(suc_uid128f3eb3adf042cdb9d32386bbf73ad2), (pred_uid128f3eb3adf042cdb9d32386bbf73ad2)-[:edge]->(uid128f3eb3adf042cdb9d32386bbf73ad2) WITH COLLECT(suc_uid128f3eb3adf042cdb9d32386bbf73ad2) as sucs_uid128f3eb3adf042cdb9d32386bbf73ad2, COLLECT(pred_uid128f3eb3adf042cdb9d32386bbf73ad2) as preds_uid128f3eb3adf042cdb9d32386bbf73ad2 , uided1bbc59c4e24ee48c6d038ab84fa69d, uid128f3eb3adf042cdb9d32386bbf73ad2, uid132528995c04474cb2107c32bf647938, uide7614e52355146a0a31edc349cf4bf12, uid6ce53cd58cc64dce91047e5245f2be94 OPTIONAL MATCH (uide7614e52355146a0a31edc349cf4bf12)-[:edge]->(suc_uide7614e52355146a0a31edc349cf4bf12), (pred_uide7614e52355146a0a31edc349cf4bf12)-[:edge]->(uide7614e52355146a0a31edc349cf4bf12) WITH COLLECT(suc_uide7614e52355146a0a31edc349cf4bf12) as sucs_uide7614e52355146a0a31edc349cf4bf12, COLLECT(pred_uide7614e52355146a0a31edc349cf4bf12) as preds_uide7614e52355146a0a31edc349cf4bf12 , sucs_uid128f3eb3adf042cdb9d32386bbf73ad2, uided1bbc59c4e24ee48c6d038ab84fa69d, uid128f3eb3adf042cdb9d32386bbf73ad2, preds_uid128f3eb3adf042cdb9d32386bbf73ad2, uid132528995c04474cb2107c32bf647938, uide7614e52355146a0a31edc349cf4bf12, uid6ce53cd58cc64dce91047e5245f2be94 CREATE (uid62baf61a8dce4f87bf7b3ed1a5300a38:node) SET uid62baf61a8dce4f87bf7b3ed1a5300a38.id=toString(id(uid62baf61a8dce4f87bf7b3ed1a5300a38)) WITH toString(id(uid62baf61a8dce4f87bf7b3ed1a5300a38)) as uid8ee044e2a131452e80c10b9be03a87af , sucs_uid128f3eb3adf042cdb9d32386bbf73ad2, uided1bbc59c4e24ee48c6d038ab84fa69d, uid128f3eb3adf042cdb9d32386bbf73ad2, preds_uid128f3eb3adf042cdb9d32386bbf73ad2, uid62baf61a8dce4f87bf7b3ed1a5300a38, uid132528995c04474cb2107c32bf647938, sucs_uide7614e52355146a0a31edc349cf4bf12, uide7614e52355146a0a31edc349cf4bf12, preds_uide7614e52355146a0a31edc349cf4bf12, uid6ce53cd58cc64dce91047e5245f2be94 FOREACH(s IN sucs_uid128f3eb3adf042cdb9d32386bbf73ad2 | MERGE (uid62baf61a8dce4f87bf7b3ed1a5300a38)-[:edge]->(s))  FOREACH(s IN sucs_uide7614e52355146a0a31edc349cf4bf12 | MERGE (uid62baf61a8dce4f87bf7b3ed1a5300a38)-[:edge]->(s)) FOREACH(p IN preds_uid128f3eb3adf042cdb9d32386bbf73ad2 | MERGE (p)-[:edge]->(uid62baf61a8dce4f87bf7b3ed1a5300a38))  FOREACH(p IN preds_uide7614e52355146a0a31edc349cf4bf12 | MERGE (p)-[:edge]->(uid62baf61a8dce4f87bf7b3ed1a5300a38)) FOREACH(n IN sucs_uid128f3eb3adf042cdb9d32386bbf73ad2 + preds_uid128f3eb3adf042cdb9d32386bbf73ad2 + sucs_uide7614e52355146a0a31edc349cf4bf12 + preds_uide7614e52355146a0a31edc349cf4bf12 | FOREACH(dummy_var IN CASE WHEN n IN [uid128f3eb3adf042cdb9d32386bbf73ad2, uide7614e52355146a0a31edc349cf4bf12] THEN ['dummy'] ELSE [] END | MERGE (uid62baf61a8dce4f87bf7b3ed1a5300a38)-[:edge]->(uid62baf61a8dce4f87bf7b3ed1a5300a38)) ) DETACH DELETE uid128f3eb3adf042cdb9d32386bbf73ad2, uide7614e52355146a0a31edc349cf4bf12 WITH uided1bbc59c4e24ee48c6d038ab84fa69d, uid62baf61a8dce4f87bf7b3ed1a5300a38, uid132528995c04474cb2107c32bf647938, uid8ee044e2a131452e80c10b9be03a87af, uid6ce53cd58cc64dce91047e5245f2be94 WITH uid62baf61a8dce4f87bf7b3ed1a5300a38, uid8ee044e2a131452e80c10b9be03a87af , uided1bbc59c4e24ee48c6d038ab84fa69d as uidf864dc2fc0b245bdbd42be850c89a55f, uid132528995c04474cb2107c32bf647938 as uidba4c4640548f4663846937e1c2dc4210, uid6ce53cd58cc64dce91047e5245f2be94 as uid269f41e45282445b8b446250c44c46fb RETURN uid269f41e45282445b8b446250c44c46fb, uid62baf61a8dce4f87bf7b3ed1a5300a38, uidba4c4640548f4663846937e1c2dc4210, uid8ee044e2a131452e80c10b9be03a87af, uidf864dc2fc0b245bdbd42be850c89a55f \""
      ]
     },
     "execution_count": 8,
     "metadata": {},
     "output_type": "execute_result"
    }
   ],
   "source": [
    "g.rule_to_cypher(ex_rule, {\"white_circle\": \"a\", \"black_circle\": \"b\", \"square\": \"c\", \"triangle\": \"d\"})"
   ]
  },
  {
   "cell_type": "code",
   "execution_count": null,
   "metadata": {
    "collapsed": true
   },
   "outputs": [],
   "source": []
  }
 ],
 "metadata": {
  "kernelspec": {
   "display_name": "Python 3",
   "language": "python",
   "name": "python3"
  },
  "language_info": {
   "codemirror_mode": {
    "name": "ipython",
    "version": 3
   },
   "file_extension": ".py",
   "mimetype": "text/x-python",
   "name": "python",
   "nbconvert_exporter": "python",
   "pygments_lexer": "ipython3",
   "version": "3.6.3"
  }
 },
 "nbformat": 4,
 "nbformat_minor": 2
}
