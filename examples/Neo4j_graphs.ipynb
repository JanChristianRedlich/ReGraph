{
 "cells": [
  {
   "cell_type": "code",
   "execution_count": 1,
   "metadata": {},
   "outputs": [],
   "source": [
    "import networkx as nx\n",
    "\n",
    "from regraph import Rule, plot_rule\n",
    "from regraph.neo4j.graphs import Neo4jGraph\n",
    "from regraph.neo4j.cypher_utils import *"
   ]
  },
  {
   "cell_type": "code",
   "execution_count": 2,
   "metadata": {},
   "outputs": [],
   "source": [
    "g = Neo4jGraph(\"bolt://localhost:7687\", \"neo4j\", \"admin\")"
   ]
  },
  {
   "cell_type": "code",
   "execution_count": 3,
   "metadata": {
    "collapsed": true
   },
   "outputs": [],
   "source": [
    "res = g.clear()"
   ]
  },
  {
   "cell_type": "code",
   "execution_count": 4,
   "metadata": {},
   "outputs": [
    {
     "name": "stdout",
     "output_type": "stream",
     "text": [
      "<neo4j.v1.result.BoltStatementResult object at 0x7ff9e1777860>\n",
      "<neo4j.v1.result.BoltStatementResult object at 0x7ff9e1777978>\n"
     ]
    }
   ],
   "source": [
    "nodes = [\"a\", \"b\", \"c\", \"d\", \"e\", \"f\"]\n",
    "edges = [(\"a\", \"b\"), (\"d\", \"b\"), (\"a\", \"c\"), (\"e\", \"a\"), (\"f\", \"d\")]\n",
    "g.add_nodes_from(nodes)\n",
    "g.add_edges_from(edges)"
   ]
  },
  {
   "cell_type": "code",
   "execution_count": 5,
   "metadata": {
    "scrolled": true
   },
   "outputs": [
    {
     "name": "stdout",
     "output_type": "stream",
     "text": [
      "<neo4j.v1.result.BoltStatementResult object at 0x7ff9e1777128>\n"
     ]
    }
   ],
   "source": [
    "g.add_node(\"x\")"
   ]
  },
  {
   "cell_type": "code",
   "execution_count": 6,
   "metadata": {},
   "outputs": [
    {
     "name": "stdout",
     "output_type": "stream",
     "text": [
      "<neo4j.v1.result.BoltStatementResult object at 0x7ff9e1777048>\n"
     ]
    }
   ],
   "source": [
    "g.add_edge(\"x\", \"c\")"
   ]
  },
  {
   "cell_type": "code",
   "execution_count": 7,
   "metadata": {},
   "outputs": [
    {
     "name": "stdout",
     "output_type": "stream",
     "text": [
      "<neo4j.v1.result.BoltStatementResult object at 0x7ff9e1777160>\n"
     ]
    }
   ],
   "source": [
    "g.remove_edge(\"x\", \"c\")"
   ]
  },
  {
   "cell_type": "code",
   "execution_count": 8,
   "metadata": {},
   "outputs": [
    {
     "name": "stdout",
     "output_type": "stream",
     "text": [
      "<neo4j.v1.result.BoltStatementResult object at 0x7ff9e1777278>\n"
     ]
    }
   ],
   "source": [
    "g.remove_node(\"x\")"
   ]
  },
  {
   "cell_type": "code",
   "execution_count": 9,
   "metadata": {},
   "outputs": [
    {
     "data": {
      "text/plain": [
       "['e', 'd', 'a', 'b', 'c', 'f']"
      ]
     },
     "execution_count": 9,
     "metadata": {},
     "output_type": "execute_result"
    }
   ],
   "source": [
    "g.nodes()"
   ]
  },
  {
   "cell_type": "code",
   "execution_count": 10,
   "metadata": {},
   "outputs": [
    {
     "data": {
      "text/plain": [
       "[('f', 'd'), ('e', 'a'), ('d', 'b'), ('a', 'b'), ('a', 'c')]"
      ]
     },
     "execution_count": 10,
     "metadata": {},
     "output_type": "execute_result"
    }
   ],
   "source": [
    "g.edges()"
   ]
  },
  {
   "cell_type": "code",
   "execution_count": 11,
   "metadata": {},
   "outputs": [
    {
     "name": "stdout",
     "output_type": "stream",
     "text": [
      "MATCH (x:node { id : 'a' }) WITH [] as ignoredNodes, x OPTIONAL MATCH (x:node)-[:edge]->(succ) OPTIONAL MATCH (pred)-[:edge]->(x:node) WITH collect(succ) as listSucc, collect(pred) as listPred, ignoredNodes as ig, x OPTIONAL MATCH (same_id_node:node { id : 'a'}) WITH same_id_node, listSucc, listPred, ig,  CASE WHEN same_id_node IS NOT NULL THEN (coalesce(same_id_node.count, 0) + 1) ELSE 0 END AS same_id_node_new_count, x WITH same_id_node, same_id_node_new_count, 'a' + CASE WHEN same_id_node_new_count <> 0 THEN toString(same_id_node_new_count) ELSE '' END as uid, filter(varNode in listSucc WHERE NOT (varNode.id in ig)) AS filtSucc, filter(varNode in listPred WHERE NOT (varNode.id in ig)) AS filtPred, x MERGE (new_node:node {id : uid }) SET same_id_node.count = same_id_node_new_count + 1 FOREACH (succ in filtSucc | MERGE (new_node)-[:edge]->(succ)) FOREACH (pred in filtPred | MERGE (pred)-[:edge]->(new_node)) RETURN uid \n",
      "Created clone by the name:  a1\n"
     ]
    }
   ],
   "source": [
    "res_clone_1 = g.clone_node('a')\n",
    "print(\"Created clone by the name: \", res_clone_1)"
   ]
  },
  {
   "cell_type": "code",
   "execution_count": 12,
   "metadata": {},
   "outputs": [
    {
     "name": "stdout",
     "output_type": "stream",
     "text": [
      "MATCH (x:node { id : 'a' }) WITH [] as ignoredNodes, x OPTIONAL MATCH (x:node)-[:edge]->(succ) OPTIONAL MATCH (pred)-[:edge]->(x:node) WITH collect(succ) as listSucc, collect(pred) as listPred, ignoredNodes as ig, x OPTIONAL MATCH (same_id_node:node { id : 'a_clone'}) WITH same_id_node, listSucc, listPred, ig,  CASE WHEN same_id_node IS NOT NULL THEN (coalesce(same_id_node.count, 0) + 1) ELSE 0 END AS same_id_node_new_count, x WITH same_id_node, same_id_node_new_count, 'a_clone' + CASE WHEN same_id_node_new_count <> 0 THEN toString(same_id_node_new_count) ELSE '' END as uid, filter(varNode in listSucc WHERE NOT (varNode.id in ig)) AS filtSucc, filter(varNode in listPred WHERE NOT (varNode.id in ig)) AS filtPred, x MERGE (new_node:node {id : uid }) SET same_id_node.count = same_id_node_new_count + 1 FOREACH (succ in filtSucc | MERGE (new_node)-[:edge]->(succ)) FOREACH (pred in filtPred | MERGE (pred)-[:edge]->(new_node)) RETURN uid \n",
      "Created clone by the name:  a_clone\n"
     ]
    }
   ],
   "source": [
    "res_clone_2 = g.clone_node('a', 'a_clone')\n",
    "print(\"Created clone by the name: \", res_clone_2)"
   ]
  },
  {
   "cell_type": "code",
   "execution_count": 13,
   "metadata": {
    "collapsed": true
   },
   "outputs": [],
   "source": [
    "res_merge = g.merge_nodes([\"a\", \"b\"])"
   ]
  },
  {
   "cell_type": "code",
   "execution_count": 14,
   "metadata": {},
   "outputs": [
    {
     "data": {
      "text/plain": [
       "'a_b'"
      ]
     },
     "execution_count": 14,
     "metadata": {},
     "output_type": "execute_result"
    }
   ],
   "source": [
    "res_merge"
   ]
  },
  {
   "cell_type": "code",
   "execution_count": 15,
   "metadata": {
    "collapsed": true
   },
   "outputs": [],
   "source": [
    "pattern = nx.DiGraph()\n",
    "pattern.add_nodes_from([\"x\", \"y\", \"z\", \"a\"])\n",
    "pattern.add_edges_from([(\"x\", \"y\"), (\"y\", \"z\"), (\"z\", \"z\"), (\"z\", \"a\")])"
   ]
  },
  {
   "cell_type": "code",
   "execution_count": 16,
   "metadata": {},
   "outputs": [
    {
     "name": "stdout",
     "output_type": "stream",
     "text": [
      "Instances:  [{'x': 'f', 'y': 'd', 'z': 'a_b', 'a': 'c'}]\n"
     ]
    }
   ],
   "source": [
    "instances = g.find_matching(pattern, nodes=['a_b', 'a1', 'c', 'f', 'd'])\n",
    "print(\"Instances: \", instances)"
   ]
  },
  {
   "cell_type": "code",
   "execution_count": 17,
   "metadata": {
    "collapsed": true
   },
   "outputs": [],
   "source": [
    "rule = Rule.from_transform(pattern)\n",
    "clone_name, _ = rule.inject_clone_node(\"y\")\n",
    "clone_name, _ = rule.inject_clone_node(\"y\")\n",
    "rule.inject_remove_edge(clone_name, \"z\")\n",
    "rule.inject_remove_node(\"x\")\n",
    "rule.inject_merge_nodes([\"y\", \"a\"])\n",
    "rule.inject_add_node(\"new_node\")\n",
    "rule.inject_add_edge(\"new_node\", \"z\")"
   ]
  },
  {
   "cell_type": "code",
   "execution_count": 18,
   "metadata": {},
   "outputs": [
    {
     "name": "stderr",
     "output_type": "stream",
     "text": [
      "/home/eugenia/anaconda3/lib/python3.6/site-packages/networkx-1.11-py3.6.egg/networkx/drawing/nx_pylab.py:522: MatplotlibDeprecationWarning: The is_string_like function was deprecated in version 2.1.\n",
      "  if not cb.is_string_like(edge_color) \\\n",
      "/home/eugenia/anaconda3/lib/python3.6/site-packages/networkx-1.11-py3.6.egg/networkx/drawing/nx_pylab.py:543: MatplotlibDeprecationWarning: The is_string_like function was deprecated in version 2.1.\n",
      "  if cb.is_string_like(edge_color) or len(edge_color) == 1:\n",
      "/home/eugenia/anaconda3/lib/python3.6/site-packages/networkx-1.11-py3.6.egg/networkx/drawing/nx_pylab.py:724: MatplotlibDeprecationWarning: The is_string_like function was deprecated in version 2.1.\n",
      "  if not cb.is_string_like(label):\n"
     ]
    },
    {
     "data": {
      "image/png": "[encoded data removed]",
      "text/plain": [
       "<matplotlib.figure.Figure at 0x7ff9e1777470>"
      ]
     },
     "metadata": {},
     "output_type": "display_data"
    }
   ],
   "source": [
    "plot_rule(rule)"
   ]
  },
  {
   "cell_type": "code",
   "execution_count": 19,
   "metadata": {},
   "outputs": [
    {
     "data": {
      "text/plain": [
       "{'a': 'c', 'x': 'f', 'y': 'd', 'z': 'a_b'}"
      ]
     },
     "execution_count": 19,
     "metadata": {},
     "output_type": "execute_result"
    }
   ],
   "source": [
    "instances[0]"
   ]
  },
  {
   "cell_type": "code",
   "execution_count": 20,
   "metadata": {},
   "outputs": [
    {
     "name": "stdout",
     "output_type": "stream",
     "text": [
      "MATCH (x:node { id : 'f'}), (y:node { id : 'd'}), (z:node { id : 'a_b'}), (a:node { id : 'c'}) , (x)-[x_y:edge]->(y), (y)-[y_z:edge]->(z), (z)-[z_z:edge]->(z), (z)-[z_a:edge]->(a)WITH ['a_b'] as ignoredNodes, x, y, z, a OPTIONAL MATCH (y:node)-[:edge]->(succ) OPTIONAL MATCH (pred)-[:edge]->(y:node) WITH collect(succ) as listSucc, collect(pred) as listPred, ignoredNodes as ig, x, y, z, a OPTIONAL MATCH (same_id_node:node { id : 'y2'}) WITH same_id_node, listSucc, listPred, ig,  CASE WHEN same_id_node IS NOT NULL THEN (coalesce(same_id_node.count, 0) + 1) ELSE 0 END AS same_id_node_new_count, x, y, z, a WITH same_id_node, same_id_node_new_count, 'y2' + CASE WHEN same_id_node_new_count <> 0 THEN toString(same_id_node_new_count) ELSE '' END as y2_clone_id, filter(varNode in listSucc WHERE NOT (varNode.id in ig)) AS filtSucc, filter(varNode in listPred WHERE NOT (varNode.id in ig)) AS filtPred, x, y, z, a MERGE (y2:node {id : y2_clone_id }) SET same_id_node.count = same_id_node_new_count + 1 FOREACH (succ in filtSucc | MERGE (y2)-[:edge]->(succ)) FOREACH (pred in filtPred | MERGE (pred)-[:edge]->(y2)) WITH x, y, a, z, y2_clone_id WITH [] as ignoredNodes, x, y, a, z, y2_clone_id OPTIONAL MATCH (y:node)-[:edge]->(succ) OPTIONAL MATCH (pred)-[:edge]->(y:node) WITH collect(succ) as listSucc, collect(pred) as listPred, ignoredNodes as ig, x, y, a, z, y2_clone_id OPTIONAL MATCH (same_id_node:node { id : 'y1'}) WITH same_id_node, listSucc, listPred, ig,  CASE WHEN same_id_node IS NOT NULL THEN (coalesce(same_id_node.count, 0) + 1) ELSE 0 END AS same_id_node_new_count, x, y, a, z, y2_clone_id WITH same_id_node, same_id_node_new_count, 'y1' + CASE WHEN same_id_node_new_count <> 0 THEN toString(same_id_node_new_count) ELSE '' END as y1_clone_id, filter(varNode in listSucc WHERE NOT (varNode.id in ig)) AS filtSucc, filter(varNode in listPred WHERE NOT (varNode.id in ig)) AS filtPred, x, y, a, z, y2_clone_id MERGE (y1:node {id : y1_clone_id }) SET same_id_node.count = same_id_node_new_count + 1 FOREACH (succ in filtSucc | MERGE (y1)-[:edge]->(succ)) FOREACH (pred in filtPred | MERGE (pred)-[:edge]->(y1)) WITH x, y1_clone_id, y, a, z, y2_clone_id DETACH DELETE x WITH y1_clone_id, y, a, z, y2_clone_id OPTIONAL MATCH (y)-[:edge]->(suc_y) OPTIONAL MATCH (pred_y)-[:edge]->(y) OPTIONAL MATCH (a)-[:edge]->(suc_a) OPTIONAL MATCH (pred_a)-[:edge]->(a)  WITH COLLECT(suc_y) as sucs_y, COLLECT(pred_y) as preds_y, COLLECT(suc_a) as sucs_a, COLLECT(pred_a) as preds_a, y1_clone_id, y, a, z, y2_clone_id  OPTIONAL MATCH (same_id_node:node) WHERE same_id_node.id = 'd_c' FOREACH(new_count IN CASE WHEN same_id_node IS NOT NULL THEN [coalesce(same_id_node.count, 0) + 1] ELSE [] END | SET same_id_node.count=coalesce(same_id_node.count, 0) + 1 ) WITH same_id_node , sucs_a, y1_clone_id, y, sucs_y, preds_a, a, z, preds_y, y2_clone_id UNWIND CASE WHEN same_id_node IS NOT NULL THEN ['d_c' + same_id_node.count] ELSE ['d_c'] END AS y_a_id CREATE (y_a:node { id : y_a_id }) FOREACH(s IN sucs_y | CREATE UNIQUE (y_a)-[:edge]->(s))  FOREACH(s IN sucs_a | CREATE UNIQUE (y_a)-[:edge]->(s)) FOREACH(p IN preds_y | CREATE UNIQUE (p)-[:edge]->(y_a))  FOREACH(p IN preds_a | CREATE UNIQUE (p)-[:edge]->(y_a)) FOREACH(n IN sucs_y + preds_y + sucs_a + preds_a | FOREACH(dummy_var IN CASE WHEN n IN [y, a] THEN ['dummy'] ELSE [] END | CREATE UNIQUE (y_a)-[:edge]->(y_a)) ) DETACH DELETE y, a WITH y_a, sucs_a, y1_clone_id, sucs_y, y_a_id, preds_a, z, preds_y, y2_clone_id  OPTIONAL MATCH (same_id_node:node) WHERE same_id_node.id = 'new_node' FOREACH(new_count IN CASE WHEN same_id_node IS NOT NULL THEN [coalesce(same_id_node.count, 0) + 1] ELSE [] END | SET same_id_node.count=coalesce(same_id_node.count, 0) + 1 ) WITH same_id_node , y_a, sucs_a, y1_clone_id, sucs_y, y_a_id, preds_a, z, preds_y, y2_clone_id UNWIND CASE WHEN same_id_node IS NOT NULL THEN ['new_node' + same_id_node.count] ELSE ['new_node'] END AS new_node_id CREATE (new_node:node { id : new_node_id }) CREATE UNIQUE (new_node)-[:edge]->(z) RETURN y_a, sucs_a, y1_clone_id, sucs_y, y_a_id, preds_a, new_node, z, new_node_id, preds_y, y2_clone_id \n",
      "\n",
      "\n",
      "Rewriting rule to commands: \n",
      "\n",
      "CLONE y AS y2.\n",
      "DELETE_NODE x.\n",
      "DELETE_EDGE y2 z.\n",
      "MERGE [y, a] AS 'y_a'.\n",
      "ADD_NODE new_node {}.\n",
      "ADD_EDGE new_node z {}.\n",
      "\n"
     ]
    }
   ],
   "source": [
    "rhs_g = g.rewrite(rule, instances[0])\n",
    "print(\"\\n\\nRewriting rule to commands: \\n\")\n",
    "print(rule.to_commands())"
   ]
  },
  {
   "cell_type": "code",
   "execution_count": 21,
   "metadata": {},
   "outputs": [
    {
     "data": {
      "text/plain": [
       "{'new_node': 'new_node', 'y_a': 'd_c', 'z': 'a_b'}"
      ]
     },
     "execution_count": 21,
     "metadata": {},
     "output_type": "execute_result"
    }
   ],
   "source": [
    "rhs_g"
   ]
  },
  {
   "cell_type": "code",
   "execution_count": 22,
   "metadata": {},
   "outputs": [
    {
     "data": {
      "text/plain": [
       "[('x', 'y'), ('y', 'z'), ('z', 'z'), ('z', 'a')]"
      ]
     },
     "execution_count": 22,
     "metadata": {},
     "output_type": "execute_result"
    }
   ],
   "source": [
    "pattern.edges()"
   ]
  }
 ],
 "metadata": {
  "kernelspec": {
   "display_name": "Python 3",
   "language": "python",
   "name": "python3"
  },
  "language_info": {
   "codemirror_mode": {
    "name": "ipython",
    "version": 3
   },
   "file_extension": ".py",
   "mimetype": "text/x-python",
   "name": "python",
   "nbconvert_exporter": "python",
   "pygments_lexer": "ipython3",
   "version": "3.6.3"
  }
 },
 "nbformat": 4,
 "nbformat_minor": 2
}
