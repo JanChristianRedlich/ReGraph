{
 "cells": [
  {
   "cell_type": "code",
   "execution_count": 1,
   "metadata": {},
   "outputs": [],
   "source": [
    "import networkx as nx\n",
    "from regraph import Rule, plot_rule\n",
    "\n",
    "\n",
    "from regraph.neo4j.hierarchy import Neo4jHierarchy\n",
    "import regraph.neo4j.cypher_utils as cypher\n",
    "from regraph.neo4j.rewriting_utils import propagate_down_v2, propagate_up_v3"
   ]
  },
  {
   "cell_type": "code",
   "execution_count": 2,
   "metadata": {},
   "outputs": [],
   "source": [
    "# initialize the neo4j driver, wrappped into Neo4jHierarchy object\n",
    "h = Neo4jHierarchy(uri=\"bolt://localhost:7687\", user=\"neo4j\", password=\"admin\")"
   ]
  },
  {
   "cell_type": "code",
   "execution_count": null,
   "metadata": {},
   "outputs": [],
   "source": []
  },
  {
   "cell_type": "markdown",
   "metadata": {},
   "source": [
    "# Propagation Down"
   ]
  },
  {
   "cell_type": "code",
   "execution_count": null,
   "metadata": {},
   "outputs": [],
   "source": [
    "nodes = [\n",
    "    (\"a\", {\"name\": \"Garfield\", \"age\": 2}), \n",
    "    (\"b\", {\"name\": \"Rex\", \"age\": 7}),\n",
    "    (\"c\", {\"name\": \"Paul\", \"age\": 45}),\n",
    "    (\"d\", {\"name\": \"Joe\", \"age\": 10})\n",
    "]\n",
    "edges = [\n",
    "    (\"b\", \"c\", {\"type\": \"pet_of\"}),\n",
    "    (\"b\", \"d\", {\"type\": \"pet_of\"}), \n",
    "    (\"a\", \"b\", {\"type\": \"enemies\"})\n",
    "]\n",
    "h.add_graph('actionGraph', nodes, edges)"
   ]
  },
  {
   "cell_type": "code",
   "execution_count": null,
   "metadata": {},
   "outputs": [],
   "source": [
    "nodes = [\n",
    "    (\"a\", {\"type\": \"Cat\", \"age\": 2}), \n",
    "    (\"b\", {\"type\": \"Dog\", \"age\": 7}),\n",
    "    (\"c\", {\"type\": \"Adult\", \"age\": 45}),\n",
    "    (\"d\", {\"type\": \"Child\", \"age\": 10})\n",
    "]\n",
    "edges = [\n",
    "    (\"b\", \"c\", {\"type\": \"pet_of\", \"number\": 2}),\n",
    "    (\"b\", \"d\", {\"type\": \"pet_of\", \"number\": 3}), \n",
    "    (\"a\", \"c\", {\"type\": \"pet_of\", \"number\": 4}),\n",
    "    (\"a\", \"d\", {\"type\": \"pet_of\", \"number\": 5}), \n",
    "    (\"a\", \"b\", {\"type\": \"enemies\", \"number\": 1})\n",
    "]\n",
    "h.add_graph('metaModel', nodes, edges)"
   ]
  },
  {
   "cell_type": "code",
   "execution_count": null,
   "metadata": {},
   "outputs": [],
   "source": [
    "mapping = {\n",
    "    \"a\":\"a\",\n",
    "    \"b\":\"b\",\n",
    "    \"c\":\"c\",\n",
    "    \"d\":\"d\"\n",
    "}\n",
    "h.add_typing('actionGraph', 'metaModel', mapping)"
   ]
  },
  {
   "cell_type": "code",
   "execution_count": null,
   "metadata": {},
   "outputs": [],
   "source": [
    "pattern = nx.DiGraph()\n",
    "pattern.add_nodes_from([\"w\", \"x\", \"y\", \"z\"])\n",
    "pattern.add_edges_from([(\"x\", \"y\"), (\"x\", \"z\"), (\"w\", \"x\")])"
   ]
  },
  {
   "cell_type": "code",
   "execution_count": null,
   "metadata": {},
   "outputs": [],
   "source": [
    "rule = Rule.from_transform(pattern)\n",
    "rule.inject_merge_nodes([\"w\", \"x\"])\n",
    "rule.inject_merge_nodes([\"y\", \"z\"])"
   ]
  },
  {
   "cell_type": "code",
   "execution_count": null,
   "metadata": {},
   "outputs": [],
   "source": [
    "ag = h.access_graph('actionGraph')\n",
    "instances = ag.find_matching(pattern)\n",
    "print(\"Instances: \", instances)"
   ]
  },
  {
   "cell_type": "code",
   "execution_count": null,
   "metadata": {},
   "outputs": [],
   "source": [
    "changes = h.rewrite('actionGraph', rule, instances[0])"
   ]
  },
  {
   "cell_type": "code",
   "execution_count": null,
   "metadata": {},
   "outputs": [],
   "source": [
    "h.propagation_down_v3('actionGraph', changes)"
   ]
  },
  {
   "cell_type": "markdown",
   "metadata": {},
   "source": [
    "## Propagation Up"
   ]
  },
  {
   "cell_type": "code",
   "execution_count": 4,
   "metadata": {},
   "outputs": [],
   "source": [
    "nodes = [\n",
    "    (\"a\", {\"name\": \"Garfield\", \"age\": 2}), \n",
    "    (\"b\", {\"name\": \"Rex\", \"age\": 7})\n",
    "]\n",
    "edges = [\n",
    "    (\"a\", \"b\", {\"type\": [\"enemies\"]}),\n",
    "    (\"a\", \"a\", {\"type\": [\"likes\"]})\n",
    "]\n",
    "h.add_graph('actionGraph', nodes, edges)"
   ]
  },
  {
   "cell_type": "code",
   "execution_count": 5,
   "metadata": {},
   "outputs": [],
   "source": [
    "nodes = [\n",
    "    (\"a\", {\"type\": \"Animal\", \"age\": [2, 7]})\n",
    "]\n",
    "edges = [\n",
    "    (\"a\", \"a\", {\"type\": [\"enemies\", \"likes\"]})\n",
    "]\n",
    "h.add_graph('metaModel', nodes, edges)"
   ]
  },
  {
   "cell_type": "code",
   "execution_count": 6,
   "metadata": {},
   "outputs": [
    {
     "data": {
      "text/plain": [
       "<neo4j.v1.result.BoltStatementResult at 0x7f1b0f04f898>"
      ]
     },
     "execution_count": 6,
     "metadata": {},
     "output_type": "execute_result"
    }
   ],
   "source": [
    "mapping = {\n",
    "    \"a\":\"a\",\n",
    "    \"b\":\"a\"\n",
    "}\n",
    "h.add_typing('actionGraph', 'metaModel', mapping)"
   ]
  },
  {
   "cell_type": "code",
   "execution_count": 7,
   "metadata": {},
   "outputs": [],
   "source": [
    "pattern = nx.DiGraph()\n",
    "pattern.add_nodes_from([\"x\"])\n",
    "pattern.add_edges_from([(\"x\", \"x\")])"
   ]
  },
  {
   "cell_type": "code",
   "execution_count": 8,
   "metadata": {},
   "outputs": [],
   "source": [
    "rule = Rule.from_transform(pattern)\n",
    "clone_name1, _ = rule.inject_clone_node(\"x\")\n",
    "clone_name2, _ = rule.inject_clone_node(\"x\")"
   ]
  },
  {
   "cell_type": "code",
   "execution_count": 9,
   "metadata": {},
   "outputs": [
    {
     "name": "stdout",
     "output_type": "stream",
     "text": [
      "Instances:  [{'x': 'a'}]\n"
     ]
    }
   ],
   "source": [
    "ag = h.access_graph('metaModel')\n",
    "instances = ag.find_matching(pattern)\n",
    "print(\"Instances: \", instances)"
   ]
  },
  {
   "cell_type": "code",
   "execution_count": 10,
   "metadata": {},
   "outputs": [
    {
     "name": "stdout",
     "output_type": "stream",
     "text": [
      "x\n",
      "x1\n",
      "x2\n"
     ]
    }
   ],
   "source": [
    "changes = h.rewrite('metaModel', rule, instances[0])"
   ]
  },
  {
   "cell_type": "code",
   "execution_count": 11,
   "metadata": {},
   "outputs": [
    {
     "name": "stdout",
     "output_type": "stream",
     "text": [
      "Rewritting ancestors of metaModel...\n",
      "-->  actionGraph\n",
      "Rewritting ancestors of actionGraph...\n"
     ]
    }
   ],
   "source": [
    "h.propagation_up_v3('metaModel')"
   ]
  },
  {
   "cell_type": "markdown",
   "metadata": {},
   "source": [
    "## Complex Hierarchy"
   ]
  },
  {
   "cell_type": "code",
   "execution_count": null,
   "metadata": {},
   "outputs": [],
   "source": [
    "#h.add_graph(\"S\")\n",
    "#h.add_graph(\"A\")\n",
    "#h.add_graph(\"B\")\n",
    "#h.add_graph(\"C\")\n",
    "#h.add_graph(\"D\")\n",
    "#h.add_graph(\"T\")"
   ]
  }
 ],
 "metadata": {
  "kernelspec": {
   "display_name": "Python 3",
   "language": "python",
   "name": "python3"
  },
  "language_info": {
   "codemirror_mode": {
    "name": "ipython",
    "version": 3
   },
   "file_extension": ".py",
   "mimetype": "text/x-python",
   "name": "python",
   "nbconvert_exporter": "python",
   "pygments_lexer": "ipython3",
   "version": "3.6.5"
  }
 },
 "nbformat": 4,
 "nbformat_minor": 2
}
