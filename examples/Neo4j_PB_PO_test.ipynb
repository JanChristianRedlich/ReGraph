{
 "cells": [
  {
   "cell_type": "code",
   "execution_count": 1,
   "metadata": {},
   "outputs": [],
   "source": [
    "import networkx as nx\n",
    "\n",
    "from regraph import Rule, plot_rule\n",
    "from regraph.neo4j.hierarchy import Neo4jHierarchy\n",
    "import regraph.neo4j.cypher_utils as cypher"
   ]
  },
  {
   "cell_type": "markdown",
   "metadata": {},
   "source": [
    "## Initializing Neo4j database\n",
    "\n",
    "0. When installing neo4j you will be asked to choose login/password for you dbs (here its \"neo4j\"/\"admin\"), if you choose other -- change in the cell below.\n",
    "1. To start neo4j server run `sudo service neo4j start`\n",
    "2. Check status by running `sudo service neo4j status`. Here you can check the _bolt_ port, change the cell below if different from 7687\n",
    "3. You can query the db by using the neo4j browser, the address can be found also in the result of 'status', e.g. \"Remote interface available at http://localhost:7474/\"."
   ]
  },
  {
   "cell_type": "code",
   "execution_count": 2,
   "metadata": {},
   "outputs": [],
   "source": [
    "# initialize the neo4j driver, wrappped into Neo4jGraph object\n",
    "h = Neo4jHierarchy(uri=\"bolt://localhost:7687\", user=\"neo4j\", password=\"admin\")"
   ]
  },
  {
   "cell_type": "markdown",
   "metadata": {},
   "source": [
    "## Adding a graph to the hierarchy"
   ]
  },
  {
   "cell_type": "code",
   "execution_count": 3,
   "metadata": {},
   "outputs": [
    {
     "data": {
      "text/plain": [
       "<neo4j.v1.result.BoltStatementResult at 0x7f1e0803a5c0>"
      ]
     },
     "execution_count": 3,
     "metadata": {},
     "output_type": "execute_result"
    }
   ],
   "source": [
    "h.add_graph('graphB')\n",
    "b = h.access_graph('graphB')\n",
    "nodes = [\n",
    "    (\"a\", {\"shape\": [\"circle\"], \"color\": [\"white\"]}),\n",
    "    (\"b\", {\"shape\": [\"circle\"], \"color\": [\"black\"]}),\n",
    "    (\"d\", {\"shape\": [\"circle\"], \"color\": [\"grey\"]}),\n",
    "    (\"c\", {\"shape\": [\"square\"], \"color\": [\"white\", \"black\"]})\n",
    "]\n",
    "edges = [\n",
    "    (\"a\", \"b\"),\n",
    "    (\"b\", \"c\"),\n",
    "    (\"b\",\"d\")\n",
    "]\n",
    "b.add_nodes_from(nodes)\n",
    "b.add_edges_from(edges)"
   ]
  },
  {
   "cell_type": "code",
   "execution_count": 4,
   "metadata": {},
   "outputs": [
    {
     "data": {
      "text/plain": [
       "<neo4j.v1.result.BoltStatementResult at 0x7f1e0803aef0>"
      ]
     },
     "execution_count": 4,
     "metadata": {},
     "output_type": "execute_result"
    }
   ],
   "source": [
    "h.add_graph('graphC')\n",
    "c = h.access_graph('graphC')\n",
    "nodes = [\n",
    "    (\"a\", {\"shape\": [\"square\"], \"color\": [\"white\"]}),\n",
    "    (\"b\", {\"shape\": [\"square\"], \"color\": [\"black\"]}),\n",
    "    (\"c\", {\"shape\": [\"circle\"], \"color\": [\"white\", \"black\"]}),\n",
    "    (\"d\", {\"shape\": [\"triangle\"], \"color\":[\"grey\"]})\n",
    "]\n",
    "edges = [\n",
    "    (\"a\", \"b\"),\n",
    "    (\"c\", \"b\"),\n",
    "    (\"c\", \"c\"),\n",
    "    (\"c\", \"d\")\n",
    "]\n",
    "c.add_nodes_from(nodes)\n",
    "c.add_edges_from(edges)"
   ]
  },
  {
   "cell_type": "code",
   "execution_count": 5,
   "metadata": {},
   "outputs": [
    {
     "data": {
      "text/plain": [
       "<neo4j.v1.result.BoltStatementResult at 0x7f1e08034d30>"
      ]
     },
     "execution_count": 5,
     "metadata": {},
     "output_type": "execute_result"
    }
   ],
   "source": [
    "h.add_graph('graphD')\n",
    "d = h.access_graph('graphD')\n",
    "nodes = [\n",
    "    (\"a\", {\"shape\": [\"circle\"], \"color\": [\"white\", \"black\", \"grey\"]}),\n",
    "    (\"b\", {\"shape\": [\"square\"], \"color\": [\"white\", \"black\"]}),\n",
    "    (\"c\", {\"shape\": [\"triangle\"], \"color\":[\"grey\"]})\n",
    "]\n",
    "edges = [\n",
    "    (\"a\", \"b\"),\n",
    "    (\"a\", \"a\"),\n",
    "    (\"b\", \"b\"),\n",
    "    (\"a\", \"c\")\n",
    "]\n",
    "d.add_nodes_from(nodes)\n",
    "d.add_edges_from(edges)"
   ]
  },
  {
   "cell_type": "markdown",
   "metadata": {},
   "source": [
    "## Typing"
   ]
  },
  {
   "cell_type": "code",
   "execution_count": 6,
   "metadata": {},
   "outputs": [
    {
     "data": {
      "text/plain": [
       "<neo4j.v1.result.BoltStatementResult at 0x7f1e0804a3c8>"
      ]
     },
     "execution_count": 6,
     "metadata": {},
     "output_type": "execute_result"
    }
   ],
   "source": [
    "mappingBD = {\n",
    "    \"a\":\"a\",\n",
    "    \"b\":\"a\",\n",
    "    \"c\":\"b\",\n",
    "    \"d\":\"a\"\n",
    "}\n",
    "h.add_typing('graphB', 'graphD', mappingBD)\n",
    "mappingCD = {\n",
    "    \"a\":\"b\",\n",
    "    \"b\":\"b\",\n",
    "    \"c\":\"a\",\n",
    "    \"d\":\"c\"\n",
    "}\n",
    "h.add_typing('graphC', 'graphD', mappingCD)"
   ]
  },
  {
   "cell_type": "markdown",
   "metadata": {},
   "source": [
    "## Pullback"
   ]
  },
  {
   "cell_type": "code",
   "execution_count": 7,
   "metadata": {
    "scrolled": true
   },
   "outputs": [
    {
     "name": "stdout",
     "output_type": "stream",
     "text": [
      "OPTIONAL MATCH (n:graphB)-[:typing]->(:graphD)<-[:typing]-(m:graphC)\n",
      "\n",
      "//Perform the intersection of the properties of n, m\n",
      "WITH [] as new_props, m, n\n",
      "WITH new_props + REDUCE(pairs = [], k in keys(n) | \n",
      "\tCASE WHEN ALL(others in [m] WHERE k in keys(others))\n",
      "\tTHEN\n",
      "\t\tpairs + REDUCE(inner_pairs = [], v in n[k] | \n",
      "\t\t\tCASE WHEN ALL(others in [m] WHERE v in others[k])\n",
      "\t\t\tTHEN\n",
      "\t\t\t\tinner_pairs + {key: k, value: v}\n",
      "\t\t\tELSE\n",
      "\t\t\t\tinner_pairs\n",
      "\t\t\tEND)\n",
      "\tELSE\n",
      "\t\tpairs\n",
      "\tEND) as new_props, m, n\n",
      "WITH apoc.map.groupByMulti(new_props, 'key') as new_props, m, n\n",
      "WITH apoc.map.fromValues(REDUCE(pairs=[], k in keys(new_props) | \n",
      "\tpairs + [k, REDUCE(values=[], v in new_props[k] | \n",
      "\t\tvalues + CASE WHEN v.value IN values THEN [] ELSE v.value END)])) as new_props, m, n\n",
      "CREATE (new_node_a:node:graphA) \n",
      "SET new_node_a.id = toString(id(new_node_a)) \n",
      "WITH toString(id(new_node_a)) as id_var , new_props, m, new_node_a, n\n",
      "SET new_node_a += new_props\n",
      "WITH new_node_a, m, n \n",
      "MERGE (new_node_a)-[:typing {  }]->(n)\n",
      "\n",
      "MERGE (new_node_a)-[:typing {  }]->(m)\n",
      "\n",
      "\n",
      "--------------------\n",
      "OPTIONAL MATCH (x:graphA)-[:typing]->(:graphB)-[r1:edge]->(:graphB)<-[:typing]-(y:graphA),\n",
      "(x)-[:typing]->(:graphC)-[r2:edge]->(:graphC)<-[:typing]-(y)\n",
      "\n",
      "//Perform the intersection of the properties of r1, r2\n",
      "WITH [] as new_props, r2, x, r1, y\n",
      "WITH new_props + REDUCE(pairs = [], k in keys(r1) | \n",
      "\tCASE WHEN ALL(others in [r2] WHERE k in keys(others))\n",
      "\tTHEN\n",
      "\t\tpairs + REDUCE(inner_pairs = [], v in r1[k] | \n",
      "\t\t\tCASE WHEN ALL(others in [r2] WHERE v in others[k])\n",
      "\t\t\tTHEN\n",
      "\t\t\t\tinner_pairs + {key: k, value: v}\n",
      "\t\t\tELSE\n",
      "\t\t\t\tinner_pairs\n",
      "\t\t\tEND)\n",
      "\tELSE\n",
      "\t\tpairs\n",
      "\tEND) as new_props, r2, x, r1, y\n",
      "WITH apoc.map.groupByMulti(new_props, 'key') as new_props, r2, x, r1, y\n",
      "WITH apoc.map.fromValues(REDUCE(pairs=[], k in keys(new_props) | \n",
      "\tpairs + [k, REDUCE(values=[], v in new_props[k] | \n",
      "\t\tvalues + CASE WHEN v.value IN values THEN [] ELSE v.value END)])) as new_props, r2, x, r1, y\n",
      "MERGE (x)-[r:edge]->(y)\n",
      "SET r += new_props\n"
     ]
    }
   ],
   "source": [
    "h.pullback('graphB', 'graphC', 'graphD', 'graphA')"
   ]
  },
  {
   "cell_type": "markdown",
   "metadata": {},
   "source": [
    "## Pushout"
   ]
  },
  {
   "cell_type": "code",
   "execution_count": 8,
   "metadata": {},
   "outputs": [],
   "source": [
    "h.remove_graph('graphD')"
   ]
  },
  {
   "cell_type": "code",
   "execution_count": 9,
   "metadata": {},
   "outputs": [
    {
     "name": "stdout",
     "output_type": "stream",
     "text": [
      "\n",
      "//We copy the nodes of B in D\n",
      "MATCH (n:node:graphB)\n",
      "// create a node corresponding to the clone\n",
      "CREATE (m:node:graphD) \n",
      "MERGE (n)-[:typing]->(m)WITH m, toString(id(m)) as m_id_var, n.id as original_old, n \n",
      "// set the id property of the original node to NULL\n",
      "SET n.id = NULL\n",
      "// copy all the properties of the original node to the clone\n",
      "SET m = n\n",
      "// set id property of the clone to neo4j-generated id\n",
      "SET m.id = toString(id(m)), m.count = NULL\n",
      "// set back the id property of the original node\n",
      "SET n.id = original_old\n",
      "WITH m, toString(id(m)) as m_id_var, n \n",
      "WITH [] as sucIgnore, [] as predIgnore, m, n \n",
      "// Match successors and out-edges of a node to be cloned in the clone graph\n",
      "OPTIONAL MATCH (n)-[out_edge:edge]->(:node:graphB)-[:typing]->(suc:node:graphD)\n",
      "WHERE NOT suc.id IS NULL AND NOT suc.id IN sucIgnore\n",
      "WITH collect({neighbor: suc, edge: out_edge}) as suc_maps, predIgnore, m, n \n",
      "// match predecessors and in-edges of a node to be cloned in the clone graph\n",
      "OPTIONAL MATCH (pred:node:graphD)<-[:typing]-(:node:graphB)-[in_edge:edge]->(n) \n",
      "WHERE NOT pred.id IS NULL AND NOT pred.id IN predIgnore\n",
      "WITH collect({neighbor: pred, edge: in_edge}) as pred_maps, m, suc_maps, n \n",
      "// copy all incident edges of the original node to the clone\n",
      "FOREACH (suc_map IN suc_maps | \n",
      "\tFOREACH (suc IN CASE WHEN suc_map.neighbor IS NOT NULL THEN [suc_map.neighbor] ELSE [] END |\n",
      "\t\tMERGE (m)-[new_edge:edge]->(suc) \n",
      "\t\tSET new_edge = suc_map.edge))\n",
      "FOREACH (pred_map IN pred_maps | \n",
      "\tFOREACH (pred IN CASE WHEN pred_map.neighbor IS NOT NULL THEN [pred_map.neighbor] ELSE [] END |\n",
      "\t\tMERGE (pred)-[new_edge:edge]->(m) \n",
      "\t\tSET new_edge = pred_map.edge))\n",
      "\n",
      "--------------------\n",
      "\n",
      "//We create the images of the exclusive nodes of C\n",
      "MATCH (m:node:graphC)\n",
      "WHERE NOT (m)<-[:typing]-(:graphA)\n",
      "CREATE (new_node_d:node:graphD) \n",
      "SET new_node_d.id = toString(id(new_node_d)) \n",
      "WITH toString(id(new_node_d)) as id_var , new_node_d, m\n",
      "SET new_node_d += properties(m)\n",
      "SET new_node_d.id = id(new_node_d)\n",
      "MERGE (m)-[:typing]->(new_node_d) \n",
      "\n",
      "--------------------\n",
      "OPTIONAL MATCH (m:node:graphC)<-[:typing]-(:node:graphA)-[:typing]->(:node:graphB)-[:typing]->(x:node:graphD)\n",
      "WHERE x IS NOT NULL\n",
      "MERGE (m)-[:typing]->(x)\n",
      "//Perform the union of the properties of m, x\n",
      "WITH [] as new_props, x, m\n",
      "WITH new_props + REDUCE(pairs = [], k in keys(m) | \n",
      "\tpairs + REDUCE(inner_pairs = [], v in m[k] | \n",
      "\t\t inner_pairs + {key: k, value: v})) as new_props,  x, m\n",
      "WITH new_props + REDUCE(pairs = [], k in keys(x) | \n",
      "\tpairs + REDUCE(inner_pairs = [], v in x[k] | \n",
      "\t\t inner_pairs + {key: k, value: v})) as new_props,  x, m\n",
      "WITH apoc.map.groupByMulti(new_props, 'key') as new_props, x, m\n",
      "WITH apoc.map.fromValues(REDUCE(pairs=[], k in keys(new_props) | \n",
      "\tpairs + [k, REDUCE(values=[], v in new_props[k] | \n",
      "\t\tvalues + CASE WHEN v.value IN values THEN [] ELSE v.value END)])) as new_props, x, m\n",
      "SET x += new_props\n",
      "SET x.id = toString(id(x))\n",
      "\n",
      "--------------------\n",
      "OPTIONAL MATCH (x:node:graphD)<-[:typing]-(:node:graphC)-[rel_c:edge]->(:node:graphC)-[:typing]->(y:node:graphD)\n",
      "WHERE rel_c IS NOT NULL\n",
      "OPTIONAL MATCH (x)-[rel_d:edge]->(y)\n",
      "FOREACH(ignoreMe IN CASE WHEN rel_d IS NULL THEN [1] ELSE [] END |\n",
      "\tMERGE (x)-[new_rel:edge]->(y)\n",
      "\tON CREATE SET new_rel = properties(rel_c) )\n",
      "WITH rel_c, rel_d\n",
      "WHERE rel_d IS NOT NULL\n",
      "\n",
      "//Perform the union of the properties of rel_c, rel_d\n",
      "WITH [] as new_props, rel_c, rel_d\n",
      "WITH new_props + REDUCE(pairs = [], k in keys(rel_c) | \n",
      "\tpairs + REDUCE(inner_pairs = [], v in rel_c[k] | \n",
      "\t\t inner_pairs + {key: k, value: v})) as new_props,  rel_c, rel_d\n",
      "WITH new_props + REDUCE(pairs = [], k in keys(rel_d) | \n",
      "\tpairs + REDUCE(inner_pairs = [], v in rel_d[k] | \n",
      "\t\t inner_pairs + {key: k, value: v})) as new_props,  rel_c, rel_d\n",
      "WITH apoc.map.groupByMulti(new_props, 'key') as new_props, rel_c, rel_d\n",
      "WITH apoc.map.fromValues(REDUCE(pairs=[], k in keys(new_props) | \n",
      "\tpairs + [k, REDUCE(values=[], v in new_props[k] | \n",
      "\t\tvalues + CASE WHEN v.value IN values THEN [] ELSE v.value END)])) as new_props, rel_c, rel_d\n",
      "SET rel_d += new_props\n",
      "\n",
      "--------------------\n",
      "\n",
      "//We search for all the nodes in D that we need to merge\n",
      "OPTIONAL MATCH (n:graphD)<-[:typing]-(:graphB)<-[:typing]-(:graphA)-[:typing]->(m:graphC)\n",
      "WITH collect(n) as nodes_to_merge, m\n",
      "WITH nodes_to_merge[0] as node1, size(nodes_to_merge) as number_of_nodes,nodes_to_merge, m\n",
      "WHERE number_of_nodes <> 1\n",
      "\n",
      "//We merge the nodes in D that need to be merged\n",
      "UNWIND nodes_to_merge[1..] AS node2\n",
      "// use the APOC procedure 'apoc.refactor.mergeNodes' to merge nodes\n",
      "CALL apoc.refactor.mergeNodes([node1, node2], {properties: 'combine'})\n",
      "YIELD node as merged_node\n",
      "// set appropriate node id\n",
      "SET merged_node.id = toString(id(merged_node))\n",
      "SET merged_node.count = NULL\n",
      "WITH toString(id(merged_node)) as new_id, number_of_nodes, merged_node, nodes_to_merge, m\n",
      "WITH DISTINCT merged_node\n",
      "// find and merge multiple relations resulting from the node merge\n",
      "OPTIONAL MATCH (merged_node)-[out_rel]->(suc)\n",
      "WITH collect({neighbor: suc, edge: out_rel}) as suc_maps, merged_node\n",
      "OPTIONAL MATCH (pred)-[in_rel]->(merged_node)\n",
      "WHERE pred.id <> merged_node.id\n",
      "WITH collect({neighbor: pred, edge: in_rel}) as pred_maps, suc_maps, merged_node\n",
      "WITH apoc.map.groupByMulti(suc_maps, 'neighbor') as suc_maps, apoc.map.groupByMulti(pred_maps, 'neighbor') as pred_maps, merged_node\n",
      "WITH REDUCE(edges=[],  k in filter(k in keys(suc_maps) WHERE length(suc_maps[k]) > 1 ) | \n",
      "\tedges + [suc_maps[k]]) + \n",
      "\tREDUCE(edges=[],  k in filter(k in keys(pred_maps) WHERE length(pred_maps[k]) > 1)| \n",
      "\t\tedges + [pred_maps[k]]) as all_merge_edges, merged_node\n",
      "UNWIND all_merge_edges as edge_list\n",
      "\tCALL apoc.refactor.mergeRelationships(\n",
      "\t\tREDUCE(rels=[], el in edge_list | rels + el['edge']),  {properties: 'combine'})\n",
      "\tYIELD rel\n",
      "\n",
      "RETURN merged_node.id\n",
      "--------------------\n"
     ]
    }
   ],
   "source": [
    "h.pushout('graphA', 'graphB', 'graphC', 'graphD')"
   ]
  },
  {
   "cell_type": "code",
   "execution_count": null,
   "metadata": {},
   "outputs": [],
   "source": [
    "h.add_graph('graphD')"
   ]
  },
  {
   "cell_type": "code",
   "execution_count": null,
   "metadata": {},
   "outputs": [],
   "source": []
  },
  {
   "cell_type": "code",
   "execution_count": null,
   "metadata": {},
   "outputs": [],
   "source": [
    "h.clear()\n",
    "h.drop_all_constraints()\n",
    "h.close()"
   ]
  },
  {
   "cell_type": "code",
   "execution_count": null,
   "metadata": {},
   "outputs": [],
   "source": []
  }
 ],
 "metadata": {
  "kernelspec": {
   "display_name": "Python 3",
   "language": "python",
   "name": "python3"
  },
  "language_info": {
   "codemirror_mode": {
    "name": "ipython",
    "version": 3
   },
   "file_extension": ".py",
   "mimetype": "text/x-python",
   "name": "python",
   "nbconvert_exporter": "python",
   "pygments_lexer": "ipython3",
   "version": "3.6.5"
  }
 },
 "nbformat": 4,
 "nbformat_minor": 2
}
