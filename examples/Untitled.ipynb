{
 "cells": [
  {
   "cell_type": "code",
   "execution_count": 11,
   "metadata": {
    "collapsed": true
   },
   "outputs": [],
   "source": [
    "from regraph.default.category_utils import pushout, pullback\n",
    "import networkx as nx"
   ]
  },
  {
   "cell_type": "code",
   "execution_count": 6,
   "metadata": {
    "collapsed": true
   },
   "outputs": [],
   "source": [
    "a = nx.DiGraph()\n",
    "a.add_nodes_from([\"1a\", \"1b\", \"2a\", \"2b\", \"3a\", \"3b\", \"4a\", \"4b\", \"5c\", \"6c\"])\n",
    "b = nx.DiGraph()\n",
    "b.add_nodes_from([\"a\", \"b\", \"c\"])\n",
    "c = nx.DiGraph()\n",
    "c.add_nodes_from([\"1\", \"2\", \"3\", \"4\", \"5\", \"6\"])\n",
    "a_b = {\"1a\": \"a\", \"1b\": \"b\", \"2a\": \"a\", \"2b\": \"b\", \"3a\": \"a\", \"3b\": \"b\", \"4a\": \"a\", \"4b\": \"b\", \"5c\": \"c\", \"6c\": \"c\"}\n",
    "a_c = {\"1a\": \"1\", \"1b\": \"1\", \"2a\": \"2\", \"2b\": \"2\", \"3a\": \"3\", \"3b\": \"3\", \"4a\": \"4\", \"4b\": \"4\", \"5c\": \"5\", \"6c\": \"6\"}"
   ]
  },
  {
   "cell_type": "code",
   "execution_count": null,
   "metadata": {},
   "outputs": [],
   "source": []
  },
  {
   "cell_type": "code",
   "execution_count": 7,
   "metadata": {},
   "outputs": [
    {
     "name": "stdout",
     "output_type": "stream",
     "text": [
      "set()\n",
      "set()\n",
      "set()\n",
      "set()\n"
     ]
    }
   ],
   "source": [
    "d, b_d, c_d = pushout(a, b, c, a_b, a_c)"
   ]
  },
  {
   "cell_type": "code",
   "execution_count": 8,
   "metadata": {},
   "outputs": [
    {
     "name": "stdout",
     "output_type": "stream",
     "text": [
      "['c', 'b_a']\n"
     ]
    }
   ],
   "source": [
    "print(d.nodes())"
   ]
  },
  {
   "cell_type": "code",
   "execution_count": 9,
   "metadata": {},
   "outputs": [
    {
     "data": {
      "text/plain": [
       "({'a': 'b_a', 'b': 'b_a', 'c': 'c'},\n",
       " {'1': 'b_a', '2': 'b_a', '3': 'b_a', '4': 'b_a', '5': 'c', '6': 'c'})"
      ]
     },
     "execution_count": 9,
     "metadata": {},
     "output_type": "execute_result"
    }
   ],
   "source": [
    "b_d, c_d"
   ]
  },
  {
   "cell_type": "code",
   "execution_count": 10,
   "metadata": {
    "collapsed": true
   },
   "outputs": [],
   "source": [
    "real_d = nx.DiGraph()\n",
    "real_d.add_nodes_from([\"x\"])\n",
    "b_d = {\"a\": \"x\", \"b\": \"x\"}\n",
    "c_d = {\"1\": \"x\", \"2\": \"x\", \"3\": \"x\", \"4\": \"x\", \"5\": \"x\", \"6\": \"x\"}"
   ]
  },
  {
   "cell_type": "code",
   "execution_count": 12,
   "metadata": {},
   "outputs": [
    {
     "ename": "InvalidHomomorphism",
     "evalue": "Invalid homomorphism: Mapping is not covering all the nodes of source graph! domain: {'b', 'a', 'c'}, domain of definition: {'b', 'a'}",
     "output_type": "error",
     "traceback": [
      "\u001b[0;31m---------------------------------------------------------------------------\u001b[0m",
      "\u001b[0;31mInvalidHomomorphism\u001b[0m                       Traceback (most recent call last)",
      "\u001b[0;32m<ipython-input-12-ff1881285ca5>\u001b[0m in \u001b[0;36m<module>\u001b[0;34m()\u001b[0m\n\u001b[0;32m----> 1\u001b[0;31m \u001b[0ma\u001b[0m\u001b[0;34m,\u001b[0m \u001b[0ma_b\u001b[0m\u001b[0;34m,\u001b[0m \u001b[0ma_c\u001b[0m \u001b[0;34m=\u001b[0m \u001b[0mpullback\u001b[0m\u001b[0;34m(\u001b[0m\u001b[0mb\u001b[0m\u001b[0;34m,\u001b[0m \u001b[0mc\u001b[0m\u001b[0;34m,\u001b[0m \u001b[0md\u001b[0m\u001b[0;34m,\u001b[0m \u001b[0mb_d\u001b[0m\u001b[0;34m,\u001b[0m \u001b[0mc_d\u001b[0m\u001b[0;34m)\u001b[0m\u001b[0;34m\u001b[0m\u001b[0m\n\u001b[0m",
      "\u001b[0;32m~/anaconda3/lib/python3.6/site-packages/ReGraph-1.0-py3.6.egg/regraph/default/category_utils.py\u001b[0m in \u001b[0;36mpullback\u001b[0;34m(b, c, d, b_d, c_d, inplace)\u001b[0m\n\u001b[1;32m    291\u001b[0m \u001b[0;34m\u001b[0m\u001b[0m\n\u001b[1;32m    292\u001b[0m     \u001b[0;31m# Check homomorphisms\u001b[0m\u001b[0;34m\u001b[0m\u001b[0;34m\u001b[0m\u001b[0m\n\u001b[0;32m--> 293\u001b[0;31m     \u001b[0mcheck_homomorphism\u001b[0m\u001b[0;34m(\u001b[0m\u001b[0mb\u001b[0m\u001b[0;34m,\u001b[0m \u001b[0md\u001b[0m\u001b[0;34m,\u001b[0m \u001b[0mb_d\u001b[0m\u001b[0;34m)\u001b[0m\u001b[0;34m\u001b[0m\u001b[0m\n\u001b[0m\u001b[1;32m    294\u001b[0m     \u001b[0mcheck_homomorphism\u001b[0m\u001b[0;34m(\u001b[0m\u001b[0mc\u001b[0m\u001b[0;34m,\u001b[0m \u001b[0md\u001b[0m\u001b[0;34m,\u001b[0m \u001b[0mc_d\u001b[0m\u001b[0;34m)\u001b[0m\u001b[0;34m\u001b[0m\u001b[0m\n\u001b[1;32m    295\u001b[0m \u001b[0;34m\u001b[0m\u001b[0m\n",
      "\u001b[0;32m~/anaconda3/lib/python3.6/site-packages/ReGraph-1.0-py3.6.egg/regraph/default/category_utils.py\u001b[0m in \u001b[0;36mcheck_homomorphism\u001b[0;34m(source, target, dictionary, total)\u001b[0m\n\u001b[1;32m     61\u001b[0m     \u001b[0;31m# check if there is mapping for all the nodes of source graph\u001b[0m\u001b[0;34m\u001b[0m\u001b[0;34m\u001b[0m\u001b[0m\n\u001b[1;32m     62\u001b[0m     \u001b[0;32mif\u001b[0m \u001b[0mtotal\u001b[0m\u001b[0;34m:\u001b[0m\u001b[0;34m\u001b[0m\u001b[0m\n\u001b[0;32m---> 63\u001b[0;31m         \u001b[0mcheck_totality\u001b[0m\u001b[0;34m(\u001b[0m\u001b[0msource\u001b[0m\u001b[0;34m.\u001b[0m\u001b[0mnodes\u001b[0m\u001b[0;34m(\u001b[0m\u001b[0;34m)\u001b[0m\u001b[0;34m,\u001b[0m \u001b[0mdictionary\u001b[0m\u001b[0;34m)\u001b[0m\u001b[0;34m\u001b[0m\u001b[0m\n\u001b[0m\u001b[1;32m     64\u001b[0m     \u001b[0;32mif\u001b[0m \u001b[0;32mnot\u001b[0m \u001b[0mset\u001b[0m\u001b[0;34m(\u001b[0m\u001b[0mdictionary\u001b[0m\u001b[0;34m.\u001b[0m\u001b[0mvalues\u001b[0m\u001b[0;34m(\u001b[0m\u001b[0;34m)\u001b[0m\u001b[0;34m)\u001b[0m\u001b[0;34m.\u001b[0m\u001b[0missubset\u001b[0m\u001b[0;34m(\u001b[0m\u001b[0mtarget\u001b[0m\u001b[0;34m.\u001b[0m\u001b[0mnodes\u001b[0m\u001b[0;34m(\u001b[0m\u001b[0;34m)\u001b[0m\u001b[0;34m)\u001b[0m\u001b[0;34m:\u001b[0m\u001b[0;34m\u001b[0m\u001b[0m\n\u001b[1;32m     65\u001b[0m         raise InvalidHomomorphism(\n",
      "\u001b[0;32m~/anaconda3/lib/python3.6/site-packages/ReGraph-1.0-py3.6.egg/regraph/default/category_utils.py\u001b[0m in \u001b[0;36mcheck_totality\u001b[0;34m(elements, dictionary)\u001b[0m\n\u001b[1;32m     50\u001b[0m             \u001b[0;34m\"covering all the nodes of source graph! \"\u001b[0m\u001b[0;34m\u001b[0m\u001b[0m\n\u001b[1;32m     51\u001b[0m             \u001b[0;34m\"domain: {}, domain of definition: {}\"\u001b[0m\u001b[0;34m\u001b[0m\u001b[0m\n\u001b[0;32m---> 52\u001b[0;31m             .format(set(elements), set(dictionary.keys())))\n\u001b[0m\u001b[1;32m     53\u001b[0m \u001b[0;34m\u001b[0m\u001b[0m\n\u001b[1;32m     54\u001b[0m \u001b[0;34m\u001b[0m\u001b[0m\n",
      "\u001b[0;31mInvalidHomomorphism\u001b[0m: Invalid homomorphism: Mapping is not covering all the nodes of source graph! domain: {'b', 'a', 'c'}, domain of definition: {'b', 'a'}"
     ]
    }
   ],
   "source": [
    "a, a_b, a_c = pullback(b, c, d, b_d, c_d)"
   ]
  }
 ],
 "metadata": {
  "kernelspec": {
   "display_name": "Python 3",
   "language": "python",
   "name": "python3"
  },
  "language_info": {
   "codemirror_mode": {
    "name": "ipython",
    "version": 3
   },
   "file_extension": ".py",
   "mimetype": "text/x-python",
   "name": "python",
   "nbconvert_exporter": "python",
   "pygments_lexer": "ipython3",
   "version": "3.6.3"
  }
 },
 "nbformat": 4,
 "nbformat_minor": 2
}
