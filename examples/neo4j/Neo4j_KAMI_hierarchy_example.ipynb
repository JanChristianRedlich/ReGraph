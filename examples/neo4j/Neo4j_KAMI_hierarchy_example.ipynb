{
 "cells": [
  {
   "cell_type": "markdown",
   "metadata": {},
   "source": [
    "# Examples of utils provided by ReGraph's Neo4jHierarchy module"
   ]
  },
  {
   "cell_type": "code",
   "execution_count": 1,
   "metadata": {},
   "outputs": [],
   "source": [
    "import networkx as nx\n",
    "from regraph import Rule, plot_rule\n",
    "\n",
    "\n",
    "from regraph.neo4j.hierarchy import Neo4jHierarchy\n",
    "import regraph.neo4j.cypher_utils as cypher\n",
    "from regraph.neo4j.category_utils import _check_consistency, _check_rhs_consistency"
   ]
  },
  {
   "cell_type": "markdown",
   "metadata": {},
   "source": [
    "## Initializing Neo4j database\n",
    "\n",
    "0. When installing neo4j you will be asked to choose login/password for you dbs (here its \"neo4j\"/\"admin\"), if you choose other -- change in the cell below.\n",
    "1. To start neo4j server run `sudo service neo4j start`\n",
    "2. Check status by running `sudo service neo4j status`. Here you can check the _bolt_ port, change the cell below if different from 7687\n",
    "3. You can query the db by using the neo4j browser, the address can be found also in the result of 'status', e.g. \"Remote interface available at http://localhost:7474/\"."
   ]
  },
  {
   "cell_type": "code",
   "execution_count": 2,
   "metadata": {
    "scrolled": true
   },
   "outputs": [
    {
     "data": {
      "text/plain": [
       "<neo4j.v1.result.BoltStatementResult at 0x7f62fabacb00>"
      ]
     },
     "execution_count": 2,
     "metadata": {},
     "output_type": "execute_result"
    }
   ],
   "source": [
    "# initialize the neo4j driver, wrappped into Neo4jHierarchy object\n",
    "h = Neo4jHierarchy(uri=\"bolt://localhost:7687\", user=\"neo4j\", password=\"admin\")\n",
    "h.clear()"
   ]
  },
  {
   "cell_type": "markdown",
   "metadata": {},
   "source": [
    "### Definition of the meta-model"
   ]
  },
  {
   "cell_type": "code",
   "execution_count": 3,
   "metadata": {},
   "outputs": [],
   "source": [
    "nodes = [\n",
    "    (\"Gene\", {\"type\": {\"Gene\"}}),\n",
    "    (\"Region\", {\"type\": {\"Region\"}}),\n",
    "    (\"Residue\", {\"type\": {\"Residue\"}}),\n",
    "    (\"Locus\", {\"type\": {\"Locus\"}}),\n",
    "    (\"State\", {\"type\": {\"State\"}, \"state\": {\"True\", \"False\"}}),\n",
    "    (\"mod\", {\"type\": {\"mod\"}}),\n",
    "    (\"bnd\", {\"type\": {\"bnd\"}})\n",
    "]\n",
    "edges = [\n",
    "    (\"Gene\", \"mod\"),\n",
    "    (\"Gene\", \"Locus\"),\n",
    "    (\"Region\", \"Gene\"),\n",
    "    (\"Region\", \"Locus\"),\n",
    "    (\"Region\", \"mod\"),\n",
    "    (\"Residue\", \"Gene\"),\n",
    "    (\"Residue\", \"Region\"),\n",
    "    (\"bnd\", \"Locus\"),\n",
    "    (\"State\", \"Gene\"),\n",
    "    (\"State\", \"Region\"),\n",
    "    (\"State\", \"Residue\"),\n",
    "    (\"mod\", \"State\")\n",
    "]\n",
    "h.add_graph('metaModel', nodes, edges)"
   ]
  },
  {
   "cell_type": "markdown",
   "metadata": {},
   "source": [
    "### Definition of nuggets"
   ]
  },
  {
   "cell_type": "code",
   "execution_count": 4,
   "metadata": {},
   "outputs": [],
   "source": [
    "nodes = [\n",
    "    (\"S90\", {\"type\": {\"Residue\"}}),\n",
    "    (\"Grb2\", {\"type\": {\"Gene\"}}),\n",
    "    (\"SH2\", {\"type\": {\"Region\"}}),\n",
    "    (\"Grb2_locus\", {\"type\": {\"Locus\"}}),\n",
    "    (\"bnd\", {\"type\": {\"bnd\"}}),\n",
    "    (\"Y1092\", {\"type\": {\"Residue\"}}),\n",
    "    (\"EGFR\", {\"type\": {\"Gene\"}}),\n",
    "    (\"EGFR_locus\", {\"type\": {\"Locus\"}}),\n",
    "    (\"phospho\", {\"type\": {\"State\"}, \"state\":{\"True\"}})\n",
    "]\n",
    "edges = [\n",
    "    (\"S90\", \"Grb2\"),\n",
    "    (\"SH2\", \"Grb2\"),\n",
    "    (\"SH2\", \"Grb2_locus\"),\n",
    "    (\"bnd\", \"Grb2_locus\"),\n",
    "    (\"bnd\", \"EGFR_locus\"),\n",
    "    (\"EGFR\", \"EGFR_locus\"),\n",
    "    (\"Y1092\", \"EGFR\"),\n",
    "    (\"phospho\", \"Y1092\")\n",
    "]\n",
    "h.add_graph('nugget_1', nodes, edges)"
   ]
  },
  {
   "cell_type": "code",
   "execution_count": 5,
   "metadata": {},
   "outputs": [],
   "source": [
    "nodes = [\n",
    "    (\"S90\", {\"type\": {\"Residue\"}}),\n",
    "    (\"Grb2\", {\"type\": {\"Gene\"}}),\n",
    "    (\"SH2\", {\"type\": {\"Region\"}}),\n",
    "    (\"Grb2_locus\", {\"type\": {\"Locus\"}}),\n",
    "    (\"bnd\", {\"type\": {\"bnd\"}}),\n",
    "    (\"Shc\", {\"type\": {\"Gene\"}}),\n",
    "    (\"Shc_locus\", {\"type\": {\"Locus\"}}),\n",
    "    (\"phospho\", {\"type\": {\"State\"}, \"state\":{\"True\"}})\n",
    "]\n",
    "edges = [\n",
    "    (\"S90\", \"Grb2\"),\n",
    "    (\"SH2\", \"Grb2\"),\n",
    "    (\"SH2\", \"Grb2_locus\"),\n",
    "    (\"bnd\", \"Grb2_locus\"),\n",
    "    (\"bnd\", \"Shc_locus\"),\n",
    "    (\"Shc\", \"Shc_locus\"),\n",
    "    (\"phospho\", \"Shc\")\n",
    "]\n",
    "h.add_graph('nugget_2', nodes, edges)"
   ]
  },
  {
   "cell_type": "markdown",
   "metadata": {},
   "source": [
    "### Definition of action graph"
   ]
  },
  {
   "cell_type": "code",
   "execution_count": 6,
   "metadata": {},
   "outputs": [],
   "source": [
    "nodes = [\n",
    "    (\"S90\", {\"type\": {\"Residue\"}}),\n",
    "    (\"Grb2\", {\"type\": {\"Gene\"}}),\n",
    "    (\"SH2\", {\"type\": {\"Region\"}}),\n",
    "    (\"Grb2_locus_1\", {\"type\": {\"Locus\"}}),\n",
    "    (\"bnd_1\", {\"type\": {\"bnd\"}}),\n",
    "    (\"Y1092\", {\"type\": {\"Residue\"}}),\n",
    "    (\"EGFR\", {\"type\": {\"Gene\"}}),\n",
    "    (\"EGFR_locus\", {\"type\": {\"Locus\"}}),\n",
    "    (\"phospho_1\", {\"type\": {\"State\"}, \"state\":{\"True\"}}),\n",
    "    (\"Grb2_locus_2\", {\"type\": {\"Locus\"}}),\n",
    "    (\"bnd_2\", {\"type\": {\"bnd\"}}),\n",
    "    (\"Shc\", {\"type\": {\"Gene\"}}),\n",
    "    (\"Shc_locus\", {\"type\": {\"Locus\"}}),\n",
    "    (\"phospho_2\", {\"type\": {\"State\"}, \"state\":{\"True\"}})\n",
    "]\n",
    "edges = [\n",
    "    (\"S90\", \"Grb2\"),\n",
    "    (\"SH2\", \"Grb2\"),\n",
    "    (\"SH2\", \"Grb2_locus_1\"),\n",
    "    (\"bnd_1\", \"Grb2_locus_1\"),\n",
    "    (\"bnd_1\", \"EGFR_locus\"),\n",
    "    (\"EGFR\", \"EGFR_locus\"),\n",
    "    (\"Y1092\", \"EGFR\"),\n",
    "    (\"phospho_1\", \"Y1092\"),\n",
    "    (\"SH2\", \"Grb2_locus_2\"),\n",
    "    (\"bnd_2\", \"Grb2_locus_2\"),\n",
    "    (\"bnd_2\", \"Shc_locus\"),\n",
    "    (\"Shc\", \"Shc_locus\"),\n",
    "    (\"phospho_2\", \"Shc\")\n",
    "]\n",
    "h.add_graph('actionGraph', nodes, edges)"
   ]
  },
  {
   "cell_type": "markdown",
   "metadata": {},
   "source": [
    "### Add typings"
   ]
  },
  {
   "cell_type": "code",
   "execution_count": 7,
   "metadata": {},
   "outputs": [
    {
     "data": {
      "text/plain": [
       "<neo4j.v1.result.BoltStatementResult at 0x7f62fab60ac8>"
      ]
     },
     "execution_count": 7,
     "metadata": {},
     "output_type": "execute_result"
    }
   ],
   "source": [
    "mapping = {\n",
    "    \"S90\":\"Residue\",\n",
    "    \"Grb2\":\"Gene\",\n",
    "    \"SH2\":\"Region\",\n",
    "    \"Grb2_locus_1\":\"Locus\",\n",
    "    \"bnd_1\":\"bnd\",\n",
    "    \"Y1092\":\"Residue\",\n",
    "    \"EGFR\":\"Gene\",\n",
    "    \"EGFR_locus\":\"Locus\",\n",
    "    \"phospho_1\":\"State\",\n",
    "    \"Grb2_locus_2\":\"Locus\",\n",
    "    \"bnd_2\":\"bnd\",\n",
    "    \"Shc\":\"Gene\",\n",
    "    \"Shc_locus\":\"Locus\",\n",
    "    \"phospho_2\":\"State\"\n",
    "}\n",
    "h.add_typing('actionGraph', 'metaModel', mapping)"
   ]
  },
  {
   "cell_type": "code",
   "execution_count": 8,
   "metadata": {},
   "outputs": [
    {
     "name": "stdout",
     "output_type": "stream",
     "text": [
      "{'S90': 'S90', 'Grb2': 'Grb2', 'SH2': 'SH2', 'Grb2_locus': 'Grb2_locus_1', 'bnd': 'bnd_1', 'Y1092': 'Y1092', 'EGFR': 'EGFR', 'EGFR_locus': 'EGFR_locus', 'phospho': 'phospho_1'}\n"
     ]
    },
    {
     "data": {
      "text/plain": [
       "<neo4j.v1.result.BoltStatementResult at 0x7f62fab60f60>"
      ]
     },
     "execution_count": 8,
     "metadata": {},
     "output_type": "execute_result"
    }
   ],
   "source": [
    "mapping = {\n",
    "    \"S90\":\"S90\",\n",
    "    \"Grb2\":\"Grb2\",\n",
    "    \"SH2\":\"SH2\",\n",
    "    \"Grb2_locus\":\"Grb2_locus_1\",\n",
    "    \"bnd\":\"bnd_1\",\n",
    "    \"Y1092\":\"Y1092\",\n",
    "    \"EGFR\":\"EGFR\",\n",
    "    \"EGFR_locus\":\"EGFR_locus\",\n",
    "    \"phospho\":\"phospho_1\"    \n",
    "}\n",
    "print(mapping)\n",
    "h.add_typing('nugget_1', 'actionGraph', mapping)"
   ]
  },
  {
   "cell_type": "code",
   "execution_count": 9,
   "metadata": {},
   "outputs": [
    {
     "data": {
      "text/plain": [
       "<neo4j.v1.result.BoltStatementResult at 0x7f62fab6c2e8>"
      ]
     },
     "execution_count": 9,
     "metadata": {},
     "output_type": "execute_result"
    }
   ],
   "source": [
    "mapping = {\n",
    "    \"S90\":\"S90\",\n",
    "    \"Grb2\":\"Grb2\",\n",
    "    \"SH2\":\"SH2\",\n",
    "    \"Grb2_locus\":\"Grb2_locus_2\",\n",
    "    \"bnd\":\"bnd_2\",\n",
    "    \"Shc\":\"Shc\",\n",
    "    \"Shc_locus\":\"Shc_locus\",\n",
    "    \"phospho\":\"phospho_2\"\n",
    "}\n",
    "h.add_typing('nugget_2', 'actionGraph', mapping)"
   ]
  },
  {
   "cell_type": "code",
   "execution_count": 10,
   "metadata": {},
   "outputs": [
    {
     "name": "stdout",
     "output_type": "stream",
     "text": [
      "{'S90': 'Residue', 'Grb2': 'Gene', 'SH2': 'Region', 'Grb2_locus': 'Locus', 'bnd': 'bnd', 'Y1092': 'Residue', 'EGFR': 'Gene', 'EGFR_locus': 'Locus', 'phospho': 'State'}\n"
     ]
    },
    {
     "data": {
      "text/plain": [
       "<neo4j.v1.result.BoltStatementResult at 0x7f62fab6c780>"
      ]
     },
     "execution_count": 10,
     "metadata": {},
     "output_type": "execute_result"
    }
   ],
   "source": [
    "mapping = {\n",
    "    \"S90\":\"Residue\",\n",
    "    \"Grb2\":\"Gene\",\n",
    "    \"SH2\":\"Region\",\n",
    "    \"Grb2_locus\":\"Locus\",\n",
    "    \"bnd\":\"bnd\",\n",
    "    \"Y1092\":\"Residue\",\n",
    "    \"EGFR\":\"Gene\",\n",
    "    \"EGFR_locus\":\"Locus\",\n",
    "    \"phospho\":\"State\"    \n",
    "}\n",
    "print(mapping)\n",
    "h.add_typing('nugget_1', 'metaModel', mapping)"
   ]
  }
 ],
 "metadata": {
  "kernelspec": {
   "display_name": "Python 3",
   "language": "python",
   "name": "python3"
  },
  "language_info": {
   "codemirror_mode": {
    "name": "ipython",
    "version": 3
   },
   "file_extension": ".py",
   "mimetype": "text/x-python",
   "name": "python",
   "nbconvert_exporter": "python",
   "pygments_lexer": "ipython3",
   "version": "3.6.5"
  }
 },
 "nbformat": 4,
 "nbformat_minor": 2
}
