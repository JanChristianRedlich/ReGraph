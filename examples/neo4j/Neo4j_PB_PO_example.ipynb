{
 "cells": [
  {
   "cell_type": "code",
   "execution_count": 1,
   "metadata": {},
   "outputs": [],
   "source": [
    "import networkx as nx\n",
    "\n",
    "from regraph import Rule, plot_rule\n",
    "from regraph.neo4j.hierarchy import Neo4jHierarchy\n",
    "import regraph.neo4j.cypher_utils as cypher"
   ]
  },
  {
   "cell_type": "markdown",
   "metadata": {},
   "source": [
    "## Initializing Neo4j database\n",
    "\n",
    "0. When installing neo4j you will be asked to choose login/password for you dbs (here its \"neo4j\"/\"admin\"), if you choose other -- change in the cell below.\n",
    "1. To start neo4j server run `sudo service neo4j start`\n",
    "2. Check status by running `sudo service neo4j status`. Here you can check the _bolt_ port, change the cell below if different from 7687\n",
    "3. You can query the db by using the neo4j browser, the address can be found also in the result of 'status', e.g. \"Remote interface available at http://localhost:7474/\"."
   ]
  },
  {
   "cell_type": "code",
   "execution_count": 2,
   "metadata": {},
   "outputs": [
    {
     "data": {
      "text/plain": [
       "<neo4j.v1.result.BoltStatementResult at 0x7fc8d89d3dd8>"
      ]
     },
     "execution_count": 2,
     "metadata": {},
     "output_type": "execute_result"
    }
   ],
   "source": [
    "# initialize the neo4j driver, wrappped into Neo4jGraph object\n",
    "h = Neo4jHierarchy(uri=\"bolt://localhost:7687\", user=\"neo4j\", password=\"admin\")\n",
    "h.clear()"
   ]
  },
  {
   "cell_type": "markdown",
   "metadata": {},
   "source": [
    "## Adding a graph to the hierarchy"
   ]
  },
  {
   "cell_type": "code",
   "execution_count": 3,
   "metadata": {},
   "outputs": [],
   "source": [
    "nodes = [\n",
    "    (\"a\", {\"shape\": [\"circle\"], \"color\": [\"white\"]}),\n",
    "    (\"b\", {\"shape\": [\"circle\"], \"color\": [\"black\"]}),\n",
    "    (\"d\", {\"shape\": [\"circle\"], \"color\": [\"grey\"]}),\n",
    "    (\"c\", {\"shape\": [\"square\"], \"color\": [\"white\", \"black\"]})\n",
    "]\n",
    "edges = [\n",
    "    (\"a\", \"b\"),\n",
    "    (\"b\", \"c\"),\n",
    "    (\"b\",\"d\")\n",
    "]\n",
    "h.add_graph('graphB',nodes, edges)"
   ]
  },
  {
   "cell_type": "code",
   "execution_count": 4,
   "metadata": {},
   "outputs": [],
   "source": [
    "nodes = [\n",
    "    (\"a\", {\"shape\": [\"square\"], \"color\": [\"white\"]}),\n",
    "    (\"b\", {\"shape\": [\"square\"], \"color\": [\"black\"]}),\n",
    "    (\"c\", {\"shape\": [\"circle\"], \"color\": [\"white\", \"black\"]}),\n",
    "    (\"d\", {\"shape\": [\"triangle\"], \"color\":[\"grey\"]})\n",
    "]\n",
    "edges = [\n",
    "    (\"a\", \"b\"),\n",
    "    (\"c\", \"b\"),\n",
    "    (\"c\", \"a\"),\n",
    "    (\"c\", \"c\"),\n",
    "    (\"c\", \"d\")\n",
    "]\n",
    "h.add_graph('graphC', nodes, edges)"
   ]
  },
  {
   "cell_type": "code",
   "execution_count": 10,
   "metadata": {},
   "outputs": [],
   "source": [
    "nodes = [\n",
    "    (\"a\", {\"shape\": [\"circle\"], \"color\": [\"white\", \"black\", \"grey\"]}),\n",
    "    (\"b\", {\"shape\": [\"square\"], \"color\": [\"white\", \"black\"]}),\n",
    "    (\"c\", {\"shape\": [\"triangle\"], \"color\":[\"grey\"]})\n",
    "]\n",
    "edges = [\n",
    "    (\"a\", \"b\"),\n",
    "    (\"a\", \"a\"),\n",
    "    (\"b\", \"b\"),\n",
    "    (\"a\", \"c\")\n",
    "]\n",
    "h.add_graph('graphD', nodes, edges)"
   ]
  },
  {
   "cell_type": "markdown",
   "metadata": {},
   "source": [
    "## Typing"
   ]
  },
  {
   "cell_type": "code",
   "execution_count": 11,
   "metadata": {},
   "outputs": [
    {
     "data": {
      "text/plain": [
       "<neo4j.v1.result.BoltStatementResult at 0x7fc8d896e208>"
      ]
     },
     "execution_count": 11,
     "metadata": {},
     "output_type": "execute_result"
    }
   ],
   "source": [
    "mappingBD = {\n",
    "    \"a\":\"a\",\n",
    "    \"b\":\"a\",\n",
    "    \"c\":\"b\",\n",
    "    \"d\":\"a\"\n",
    "}\n",
    "h.add_typing('graphB', 'graphD', mappingBD)\n",
    "mappingCD = {\n",
    "    \"a\":\"b\",\n",
    "    \"b\":\"b\",\n",
    "    \"c\":\"a\",\n",
    "    \"d\":\"c\"\n",
    "}\n",
    "h.add_typing('graphC', 'graphD', mappingCD)"
   ]
  },
  {
   "cell_type": "code",
   "execution_count": 7,
   "metadata": {
    "scrolled": true
   },
   "outputs": [
    {
     "name": "stdout",
     "output_type": "stream",
     "text": [
      "True\n"
     ]
    }
   ],
   "source": [
    "h.check_typing('graphB', 'graphD')"
   ]
  },
  {
   "cell_type": "markdown",
   "metadata": {},
   "source": [
    "## Pullback"
   ]
  },
  {
   "cell_type": "code",
   "execution_count": 8,
   "metadata": {
    "scrolled": true
   },
   "outputs": [
    {
     "name": "stdout",
     "output_type": "stream",
     "text": [
      "MATCH (n:graphB)-[:typing]->(:graphD)<-[:typing]-(m:graphC)\n",
      "\n",
      "//Perform the intersection of the properties of n, m\n",
      "WITH [] as new_props, n, m\n",
      "WITH new_props + REDUCE(pairs = [], k in keys(n) | \n",
      "\tCASE WHEN ALL(others in [m] WHERE k in keys(others))\n",
      "\tTHEN\n",
      "\t\tpairs + REDUCE(inner_pairs = [], v in n[k] | \n",
      "\t\t\tCASE WHEN ALL(others in [m] WHERE v in others[k])\n",
      "\t\t\tTHEN\n",
      "\t\t\t\tinner_pairs + {key: k, value: v}\n",
      "\t\t\tELSE\n",
      "\t\t\t\tinner_pairs\n",
      "\t\t\tEND)\n",
      "\tELSE\n",
      "\t\tpairs\n",
      "\tEND) as new_props, n, m\n",
      "WITH apoc.map.groupByMulti(new_props, 'key') as new_props, n, m\n",
      "WITH apoc.map.fromValues(REDUCE(pairs=[], k in keys(new_props) | \n",
      "\tpairs + [k, REDUCE(values=[], v in new_props[k] | \n",
      "\t\tvalues + CASE WHEN v.value IN values THEN [] ELSE v.value END)])) as new_props, n, m\n",
      "CREATE (new_node_a:node:graphA) \n",
      "SET new_node_a.id = toString(id(new_node_a)) \n",
      "WITH toString(id(new_node_a)) as id_var , new_node_a, n, new_props, m\n",
      "SET new_node_a += new_props\n",
      "SET new_node_a.id = toString(id(new_node_a))\n",
      "WITH m, n, new_node_a \n",
      "MERGE (new_node_a)-[new_typing_to_n:typing {  }]->(n)\n",
      "\n",
      "MERGE (new_node_a)-[new_typing_to_m:typing {  }]->(m)\n",
      "\n",
      "\n",
      "--------------------\n",
      "MATCH (x:graphA)-[:typing]->(:graphB)-[r1:edge]->(:graphB)<-[:typing]-(y:graphA),\n",
      "(x)-[:typing]->(:graphC)-[r2:edge]->(:graphC)<-[:typing]-(y)\n",
      "\n",
      "//Perform the intersection of the properties of r1, r2\n",
      "WITH [] as new_props, r2, r1, y, x\n",
      "WITH new_props + REDUCE(pairs = [], k in keys(r1) | \n",
      "\tCASE WHEN ALL(others in [r2] WHERE k in keys(others))\n",
      "\tTHEN\n",
      "\t\tpairs + REDUCE(inner_pairs = [], v in r1[k] | \n",
      "\t\t\tCASE WHEN ALL(others in [r2] WHERE v in others[k])\n",
      "\t\t\tTHEN\n",
      "\t\t\t\tinner_pairs + {key: k, value: v}\n",
      "\t\t\tELSE\n",
      "\t\t\t\tinner_pairs\n",
      "\t\t\tEND)\n",
      "\tELSE\n",
      "\t\tpairs\n",
      "\tEND) as new_props, r2, r1, y, x\n",
      "WITH apoc.map.groupByMulti(new_props, 'key') as new_props, r2, r1, y, x\n",
      "WITH apoc.map.fromValues(REDUCE(pairs=[], k in keys(new_props) | \n",
      "\tpairs + [k, REDUCE(values=[], v in new_props[k] | \n",
      "\t\tvalues + CASE WHEN v.value IN values THEN [] ELSE v.value END)])) as new_props, r2, r1, y, x\n",
      "MERGE (x)-[r:edge]->(y)\n",
      "SET r += new_props\n"
     ]
    }
   ],
   "source": [
    "h.pullback('graphB', 'graphC', 'graphD', 'graphA')"
   ]
  },
  {
   "cell_type": "markdown",
   "metadata": {},
   "source": [
    "## Pushout"
   ]
  },
  {
   "cell_type": "code",
   "execution_count": 9,
   "metadata": {},
   "outputs": [],
   "source": [
    "h.remove_graph('graphD')"
   ]
  },
  {
   "cell_type": "code",
   "execution_count": 22,
   "metadata": {},
   "outputs": [
    {
     "name": "stdout",
     "output_type": "stream",
     "text": [
      "\n",
      "// We copy the nodes of B in D\n",
      "MATCH (n:node:graphB)\n",
      "// create a node corresponding to the clone\n",
      "CREATE (m:node:graphD) \n",
      "MERGE (n)-[:typing]->(m)WITH m, toString(id(m)) as m_id_var, n.id as original_old, n \n",
      "// set the id property of the original node to NULL\n",
      "SET n.id = NULL\n",
      "// copy all the properties of the original node to the clone\n",
      "SET m = n\n",
      "// set id property of the clone to neo4j-generated id\n",
      "SET m.id = toString(id(m)), m.count = NULL\n",
      "// set back the id property of the original node\n",
      "SET n.id = original_old\n",
      "WITH m, toString(id(m)) as m_id_var, n \n",
      "WITH [] as sucIgnore, [] as predIgnore, m, n \n",
      "// Match successors and out-edges of a node to be cloned in the clone graph\n",
      "OPTIONAL MATCH (n)-[out_edge:edge]->(:node:graphB)-[:typing]->(suc:node:graphD)\n",
      "WHERE NOT suc.id IS NULL AND NOT suc.id IN sucIgnore\n",
      "WITH collect({neighbor: suc, edge: out_edge}) as suc_maps, predIgnore, m, n \n",
      "// match predecessors and in-edges of a node to be cloned in the clone graph\n",
      "OPTIONAL MATCH (pred:node:graphD)<-[:typing]-(:node:graphB)-[in_edge:edge]->(n) \n",
      "WHERE NOT pred.id IS NULL AND NOT pred.id IN predIgnore\n",
      "WITH collect({neighbor: pred, edge: in_edge}) as pred_maps, m, suc_maps, n \n",
      "// copy all incident edges of the original node to the clone\n",
      "FOREACH (suc_map IN suc_maps | \n",
      "\tFOREACH (suc IN CASE WHEN suc_map.neighbor IS NOT NULL THEN [suc_map.neighbor] ELSE [] END |\n",
      "\t\tMERGE (m)-[new_edge:edge]->(suc) \n",
      "\t\tSET new_edge = suc_map.edge))\n",
      "FOREACH (pred_map IN pred_maps | \n",
      "\tFOREACH (pred IN CASE WHEN pred_map.neighbor IS NOT NULL THEN [pred_map.neighbor] ELSE [] END |\n",
      "\t\tMERGE (pred)-[new_edge:edge]->(m) \n",
      "\t\tSET new_edge = pred_map.edge))\n",
      "\n",
      "--------------------\n",
      "\n",
      "// We create the images of the exclusive nodes of C\n",
      "MATCH (m:node:graphC)\n",
      "WHERE NOT (m)<-[:typing]-(:graphA)\n",
      "CREATE (new_node_d:node:graphD) \n",
      "SET new_node_d.id = toString(id(new_node_d)) \n",
      "WITH toString(id(new_node_d)) as id_var , new_node_d, m\n",
      "SET new_node_d += properties(m)\n",
      "SET new_node_d.id = toString(id(new_node_d))\n",
      "MERGE (m)-[new_typing:typing {  }]->(new_node_d)\n",
      "\n",
      "--------------------\n",
      "\n",
      "// We add the missing typing edges between C and D and merge the properties\n",
      "MATCH (m:node:graphC)<-[:typing]-(:node:graphA)-[:typing]->(:node:graphB)-[:typing]->(x:node:graphD)\n",
      "MERGE (m)-[new_typing:typing {  }]->(x)\n",
      "\n",
      "//Perform the union of the properties of m, x\n",
      "WITH [] as new_props, m, x\n",
      "WITH new_props + REDUCE(pairs = [], k in keys(m) | \n",
      "\tpairs + REDUCE(inner_pairs = [], v in m[k] | \n",
      "\t\t inner_pairs + {key: k, value: v})) as new_props,  m, x\n",
      "WITH new_props + REDUCE(pairs = [], k in keys(x) | \n",
      "\tpairs + REDUCE(inner_pairs = [], v in x[k] | \n",
      "\t\t inner_pairs + {key: k, value: v})) as new_props,  m, x\n",
      "WITH apoc.map.groupByMulti(new_props, 'key') as new_props, m, x\n",
      "WITH apoc.map.fromValues(REDUCE(pairs=[], k in keys(new_props) | \n",
      "\tpairs + [k, REDUCE(values=[], v in new_props[k] | \n",
      "\t\tvalues + CASE WHEN v.value IN values THEN [] ELSE v.value END)])) as new_props, m, x\n",
      "SET x += new_props\n",
      "SET x.id = toString(id(x))\n",
      "\n",
      "--------------------\n",
      "\n",
      "// We add the edges of C in D\n",
      "MATCH (x:node:graphD)<-[:typing]-(:node:graphC)-[rel_c:edge]->(:node:graphC)-[:typing]->(y:node:graphD)\n",
      "OPTIONAL MATCH (x)-[rel_d:edge]->(y)\n",
      "FOREACH(_ IN CASE WHEN rel_d IS NULL THEN [1] ELSE [] END |\n",
      "\tMERGE (x)-[new_rel:edge]->(y)\n",
      "\tON CREATE SET new_rel = properties(rel_c) )\n",
      "WITH rel_c, rel_d \n",
      "WHERE rel_d IS NOT NULL\n",
      "\n",
      "//Perform the union of the properties of rel_c, rel_d\n",
      "WITH [] as new_props, rel_d, rel_c\n",
      "WITH new_props + REDUCE(pairs = [], k in keys(rel_c) | \n",
      "\tpairs + REDUCE(inner_pairs = [], v in rel_c[k] | \n",
      "\t\t inner_pairs + {key: k, value: v})) as new_props,  rel_d, rel_c\n",
      "WITH new_props + REDUCE(pairs = [], k in keys(rel_d) | \n",
      "\tpairs + REDUCE(inner_pairs = [], v in rel_d[k] | \n",
      "\t\t inner_pairs + {key: k, value: v})) as new_props,  rel_d, rel_c\n",
      "WITH apoc.map.groupByMulti(new_props, 'key') as new_props, rel_d, rel_c\n",
      "WITH apoc.map.fromValues(REDUCE(pairs=[], k in keys(new_props) | \n",
      "\tpairs + [k, REDUCE(values=[], v in new_props[k] | \n",
      "\t\tvalues + CASE WHEN v.value IN values THEN [] ELSE v.value END)])) as new_props, rel_d, rel_c\n",
      "SET rel_d += new_props\n",
      "\n",
      "--------------------\n",
      "\n",
      "//We search for all the nodes in D that we need to merge\n",
      "MATCH (n:graphD)<-[:typing]-(:graphB)<-[:typing]-(:graphA)-[:typing]->(m:graphC)\n",
      "WITH collect(n) as nodes_to_merge, m\n",
      "WITH size(nodes_to_merge) as number_of_nodes,nodes_to_merge, m\n",
      "WHERE number_of_nodes <> 1\n",
      "UNWIND nodes_to_merge as node_to_merge\n",
      "// accumulate all the attrs of the nodes to be merged\n",
      "WITH [] as new_props, node_to_merge, number_of_nodes, m\n",
      "WITH new_props + REDUCE(pairs = [], k in keys(node_to_merge) | \n",
      "\tpairs + REDUCE(inner_pairs = [], v in node_to_merge[k] | \n",
      "\t\tinner_pairs + {key: k, value: v})) as new_props, node_to_merge, number_of_nodes, m\n",
      "WITH collect(node_to_merge) as nodes_to_merge, collect(new_props) as new_props_col, number_of_nodes, m\n",
      "WITH REDUCE(init=[], props in new_props_col | init + props) as new_props, nodes_to_merge, number_of_nodes, m\n",
      "WITH apoc.map.groupByMulti(new_props, 'key') as new_props, number_of_nodes, nodes_to_merge, m\n",
      "WITH apoc.map.fromValues(REDUCE(pairs=[], k in keys(new_props) | \n",
      "\tpairs + [k, REDUCE(values=[], v in new_props[k] | \n",
      "\t\tvalues + CASE WHEN v.value IN values THEN [] ELSE v.value END)])) as new_props, number_of_nodes, nodes_to_merge, m\n",
      "WITH nodes_to_merge[0] as merged_node, new_props, number_of_nodes, nodes_to_merge, m\n",
      "SET merged_node = new_props\n",
      "// set appropriate node id\n",
      "SET merged_node.id = toString(id(merged_node))\n",
      "SET merged_node.count = NULL\n",
      "WITH toString(id(merged_node)) as merged_id, number_of_nodes, nodes_to_merge, m, merged_node\n",
      "UNWIND nodes_to_merge AS node_to_merge\n",
      "//create a map from node ids to the id of the merged_node\n",
      "WITH {old_node:node_to_merge.id,  new_node:merged_node} as id_to_merged_id, node_to_merge, merged_node, merged_id, number_of_nodes, m\n",
      "WITH collect(id_to_merged_id) as ids_to_merged_id, collect(node_to_merge) as nodes_to_merge, merged_node, merged_id, number_of_nodes, m\n",
      "WITH apoc.map.groupByMulti(ids_to_merged_id, 'old_node') as ids_to_merged_id, nodes_to_merge, merged_node, merged_id, number_of_nodes, m\n",
      "WITH apoc.map.fromValues(REDUCE(pairs=[], k in keys(ids_to_merged_id) | \n",
      "\tpairs + [k, REDUCE(values=[], v in ids_to_merged_id[k] | \n",
      "\t\tvalues + CASE WHEN v.new_node IN values THEN [] ELSE v.new_node END)])) as ids_to_merged_id, nodes_to_merge, merged_node, merged_id, number_of_nodes, m\n",
      "WITH collect({n:m, nodes_to_merge:nodes_to_merge, merged_node: merged_node, merged_id: merged_id}) as all_n, collect(ids_to_merged_id) as ids_to_merged_id, number_of_nodes\n",
      "WITH reduce(acc={}, x in ids_to_merged_id | apoc.map.merge(acc, x)) as ids_to_merged_id, all_n, number_of_nodes\n",
      "UNWIND all_n as n_maps\n",
      "WITH n_maps.n as m, n_maps.nodes_to_merge as nodes_to_merge, n_maps.merged_node as merged_node, n_maps.merged_id as merged_id, ids_to_merged_id, number_of_nodes\n",
      "UNWIND nodes_to_merge AS node_to_merge\n",
      "// accumulate all the attrs of the edges incident to the merged nodes\n",
      "WITH node_to_merge, merged_node, merged_id, number_of_nodes, ids_to_merged_id, m\n",
      "OPTIONAL MATCH (node_to_merge)-[out_rel:edge]->(suc)\n",
      "WITH CASE WHEN suc.id IN keys(ids_to_merged_id)\n",
      "\t\tTHEN {id: id(ids_to_merged_id[suc.id][0]), neighbor: ids_to_merged_id[suc.id][0], edge: out_rel}\n",
      "\t\tELSE {id: id(suc), neighbor: suc, edge: out_rel} END AS suc_map, node_to_merge, merged_node, merged_id, number_of_nodes, ids_to_merged_id, m\n",
      "WITH collect(suc_map) as suc_maps, node_to_merge, merged_node, merged_id, number_of_nodes, ids_to_merged_id, m\n",
      "OPTIONAL MATCH (pred)-[in_rel:edge]->(node_to_merge)\n",
      "WITH CASE WHEN pred.id IN keys(ids_to_merged_id)\n",
      "\t\tTHEN {id: id(ids_to_merged_id[pred.id][0]), neighbor: ids_to_merged_id[pred.id][0], edge: in_rel}\n",
      "\t\tELSE {id: id(pred), neighbor: pred, edge: in_rel} END AS pred_map, node_to_merge, suc_maps, merged_node, merged_id, number_of_nodes, ids_to_merged_id, m\n",
      "WITH collect(pred_map) as pred_maps, suc_maps, node_to_merge, merged_node, merged_id, number_of_nodes, ids_to_merged_id, m\n",
      "WITH collect(node_to_merge) as nodes_to_merge, collect(node_to_merge.id) as list_ids, collect(suc_maps) as suc_maps_col, collect(pred_maps) as pred_maps_col, merged_node, merged_id, number_of_nodes, ids_to_merged_id, m\n",
      "WITH REDUCE(init=[], maps in suc_maps_col | init + maps) as suc_maps, REDUCE(init=[], maps in pred_maps_col | init + maps) as pred_maps, list_ids, nodes_to_merge, merged_node, merged_id, number_of_nodes, ids_to_merged_id, m\n",
      "WITH apoc.map.groupByMulti(suc_maps, 'id') as suc_props, REDUCE(list=[], map in suc_maps | \n",
      "\tlist + CASE WHEN NOT map['neighbor'] IS NULL THEN [map['neighbor']] ELSE [] END) as suc_nodes, apoc.map.groupByMulti(pred_maps, 'id') as pred_props, REDUCE(list=[], map in pred_maps | \n",
      "\tlist + CASE WHEN NOT map['neighbor'] IS NULL THEN [map['neighbor']] ELSE [] END) as pred_nodes, \tREDUCE(l=[], el in suc_maps + pred_maps| \n",
      "\t\tl + CASE WHEN el['id'] IN list_ids THEN [toString(el['id'])] ELSE [] END) as self_loops, list_ids, nodes_to_merge, merged_node, merged_id, number_of_nodes, ids_to_merged_id, m\n",
      "WITH suc_nodes, pred_nodes, apoc.map.fromValues(REDUCE(edge_props=[], k in keys(suc_props) | \n",
      "\tedge_props + [k, apoc.map.groupByMulti(REDUCE(props=[], el in suc_props[k] | \n",
      "\t\tprops + REDUCE(pairs=[], kk in keys(el['edge']) | \n",
      "\t\t\tpairs + REDUCE(values=[], v in el['edge'][kk] | \n",
      "\t\t\t\tvalues + {key: kk, value: v}))), 'key')])) as suc_props, \n",
      "\tapoc.map.fromValues(REDUCE(edge_props=[], k in keys(pred_props) | \n",
      "\tedge_props + [k, apoc.map.groupByMulti(REDUCE(props=[], el in pred_props[k] | \n",
      "\t\tprops + REDUCE(pairs=[], kk in keys(el['edge']) | \n",
      "\t\t\tpairs + REDUCE(values=[], v in el['edge'][kk] | \n",
      "\t\t\t\t values + {key: kk, value: v}))), 'key')])) as pred_props,  \n",
      "\tREDUCE(edge_props=[], k IN filter(k IN keys(suc_props) WHERE k IN self_loops) |\n",
      "\t\tedge_props + suc_props[k]) + \n",
      "\tREDUCE(edge_props=[], k IN filter(k IN keys(pred_props) WHERE k IN self_loops) |\n",
      "\t\tedge_props + pred_props[k]) as self_loop_props, nodes_to_merge, merged_node, merged_id, number_of_nodes, ids_to_merged_id, self_loops, m\n",
      "WITH suc_nodes, suc_props, pred_nodes, pred_props, apoc.map.groupByMulti(REDUCE(pairs=[], el in self_loop_props |\n",
      "\tpairs + REDUCE(inner_pairs=[], k in keys(el['edge']) | \n",
      "\t\tinner_pairs + REDUCE(values=[], v in el['edge'][k] |\n",
      "\t\t\tvalues + {key: k, value: v}))), 'key') as self_loop_props, nodes_to_merge, merged_node, merged_id, number_of_nodes, ids_to_merged_id, self_loops, m\n",
      "FOREACH(suc IN filter(suc IN suc_nodes WHERE NOT id(suc) in self_loops) |\n",
      "\tMERGE (merged_node)-[new_rel:edge]->(suc)\n",
      "\tSET new_rel = apoc.map.fromValues(REDUCE(pairs=[], k in keys(suc_props[toString(id(suc))]) | \n",
      "\t\t pairs + [k, REDUCE(values=[], v in suc_props[toString(id(suc))][k] | \n",
      "\t\t\tvalues + CASE WHEN v.value IN values THEN [] ELSE v.value END)])))\n",
      "FOREACH(pred IN filter(pred IN pred_nodes WHERE NOT id(pred) in self_loops) |\n",
      "\tMERGE (pred)-[new_rel:edge]->(merged_node)\n",
      "\tSET new_rel = apoc.map.fromValues(REDUCE(pairs=[], k in keys(pred_props[toString(id(pred))]) | \n",
      "\t\t pairs + [k, REDUCE(values=[], v in pred_props[toString(id(pred))][k] | \n",
      "\t\t\tvalues + CASE WHEN v.value IN values THEN [] ELSE v.value END)])))\n",
      "// add self loop \n",
      "FOREACH(dummy in CASE WHEN length(self_loops) > 0 THEN [NULL] ELSE [] END |\n",
      "\tMERGE (merged_node)-[new_rel:edge]->(merged_node)\n",
      "\tSET new_rel = apoc.map.fromValues(REDUCE(pairs=[], k in keys(self_loop_props) |\n",
      "\t\tpairs + [k, REDUCE(values=[], v in self_loop_props[k] |\n",
      "\t\t\tvalues + CASE WHEN v.value IN values THEN [] ELSE v.value END)])))\n",
      "WITH nodes_to_merge, merged_node, merged_id, number_of_nodes, ids_to_merged_id, m\n",
      "UNWIND nodes_to_merge AS node_to_merge\n",
      "// accumulate all the attrs of the edges incident to the merged nodes\n",
      "WITH [] as suc_typings, [] as pred_typings, node_to_merge, merged_node, merged_id, number_of_nodes, ids_to_merged_id, m\n",
      "OPTIONAL MATCH (node_to_merge)-[:typing]->(suc)\n",
      "WITH suc_typings + collect(suc) as suc_typings, node_to_merge, pred_typings, merged_node, merged_id, number_of_nodes, ids_to_merged_id, m\n",
      "OPTIONAL MATCH (pred)-[:typing]->(node_to_merge)\n",
      "WITH pred_typings + collect(pred) as pred_typings, node_to_merge, suc_typings, merged_node, merged_id, number_of_nodes, ids_to_merged_id, m\n",
      "WITH collect(node_to_merge) as nodes_to_merge, collect(suc_typings) as suc_typings_col, collect(pred_typings) as pred_typings_col, merged_node, merged_id, number_of_nodes, ids_to_merged_id, m\n",
      "WITH REDUCE(init=[], sucs in suc_typings_col | init + sucs) as suc_typings, REDUCE(init=[], preds in pred_typings_col | init + preds) as pred_typings, nodes_to_merge, merged_node, merged_id, number_of_nodes, ids_to_merged_id, m\n",
      "FOREACH(suc in suc_typings |\n",
      "\tMERGE (merged_node)-[:typing]->(suc))\n",
      "FOREACH(pred in pred_typings |\n",
      "\tMERGE (pred)-[:typing]->(merged_node))\n",
      "WITH nodes_to_merge, merged_node, merged_id, number_of_nodes, ids_to_merged_id, m\n",
      "UNWIND nodes_to_merge AS node_to_merge\n",
      "WITH node_to_merge, merged_node, merged_id, number_of_nodes, ids_to_merged_id, m\n",
      "WHERE node_to_merge <> merged_node\n",
      "DETACH DELETE (node_to_merge)\n",
      "\n",
      "RETURN merged_id\n",
      "\n",
      "--------------------\n"
     ]
    }
   ],
   "source": [
    "h.pushout('graphA', 'graphB', 'graphC', 'graphD')"
   ]
  },
  {
   "cell_type": "code",
   "execution_count": 9,
   "metadata": {},
   "outputs": [],
   "source": [
    "h.remove_graph('graphD')"
   ]
  },
  {
   "cell_type": "code",
   "execution_count": 9,
   "metadata": {},
   "outputs": [],
   "source": [
    "h.remove_graph('graphB', reconnect=True)"
   ]
  },
  {
   "cell_type": "code",
   "execution_count": 12,
   "metadata": {},
   "outputs": [],
   "source": [
    "h.clear()\n",
    "h.drop_all_constraints()\n",
    "h.close()"
   ]
  },
  {
   "cell_type": "code",
   "execution_count": null,
   "metadata": {},
   "outputs": [],
   "source": []
  }
 ],
 "metadata": {
  "kernelspec": {
   "display_name": "Python 3",
   "language": "python",
   "name": "python3"
  },
  "language_info": {
   "codemirror_mode": {
    "name": "ipython",
    "version": 3
   },
   "file_extension": ".py",
   "mimetype": "text/x-python",
   "name": "python",
   "nbconvert_exporter": "python",
   "pygments_lexer": "ipython3",
   "version": "3.6.5"
  }
 },
 "nbformat": 4,
 "nbformat_minor": 2
}
