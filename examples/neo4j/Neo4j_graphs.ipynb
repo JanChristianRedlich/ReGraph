{
 "cells": [
  {
   "cell_type": "markdown",
   "metadata": {},
   "source": [
    "# Examples of utils provided by ReGraph's neo4j module"
   ]
  },
  {
   "cell_type": "code",
   "execution_count": 32,
   "metadata": {},
   "outputs": [],
   "source": [
    "import networkx as nx\n",
    "\n",
    "from regraph import Rule, plot_rule\n",
    "from regraph.neo4j import Neo4jGraph\n",
    "from regraph.neo4j.cypher_utils import *"
   ]
  },
  {
   "cell_type": "markdown",
   "metadata": {},
   "source": [
    "## Initializing Neo4j graph\n",
    "\n",
    "0. When installing neo4j you will be asked to choose login/password for you dbs (here its \"neo4j\"/\"admin\"), if you choose other -- change in the cell below.\n",
    "1. To start neo4j server run `sudo service neo4j start`\n",
    "2. Check status by running `sudo service neo4j status`. Here you can check the _bolt_ port, change the cell below if different from 7687\n",
    "3. You can query the db by using the neo4j browser, the address can be found also in the result of 'status', e.g. \"Remote interface available at http://localhost:7474/\"."
   ]
  },
  {
   "cell_type": "code",
   "execution_count": 37,
   "metadata": {},
   "outputs": [
    {
     "name": "stdout",
     "output_type": "stream",
     "text": [
      "CREATE CONSTRAINT ON (n:node) ASSERT n.id IS UNIQUE\n"
     ]
    }
   ],
   "source": [
    "# initialize the neo4j driver, wrappped into Neo4jGraph object\n",
    "g = Neo4jGraph(uri=\"bolt://localhost:7687\", user=\"neo4j\", password=\"admin\")"
   ]
  },
  {
   "cell_type": "code",
   "execution_count": 38,
   "metadata": {},
   "outputs": [
    {
     "name": "stdout",
     "output_type": "stream",
     "text": [
      "MATCH (n:node)\n",
      "OPTIONAL MATCH (n)-[r]-()\n",
      "DELETE n, r\n",
      "\n"
     ]
    }
   ],
   "source": [
    "# here we clear the db\n",
    "res = g._clear()"
   ]
  },
  {
   "cell_type": "code",
   "execution_count": 39,
   "metadata": {},
   "outputs": [
    {
     "name": "stdout",
     "output_type": "stream",
     "text": [
      "OPTIONAL MATCH (same_id_node:node) \n",
      "WHERE same_id_node.id = 'a' \n",
      "FOREACH(new_count \n",
      "\tIN CASE WHEN same_id_node IS NOT NULL\n",
      "\tTHEN [coalesce(same_id_node.count, 0) + 1]\n",
      "\tELSE [] END | \n",
      "\t\tSET same_id_node.count = new_count) \n",
      "WITH same_id_node \n",
      "UNWIND\n",
      "\tCASE WHEN same_id_node IS NOT NULL\n",
      "\tTHEN ['a' + same_id_node.count]\n",
      "\tELSE ['a'] END AS new_id \n",
      "\t\tCREATE (n:node { id : new_id }) \n",
      "SET n.name=['Jack']\n",
      "SET n.age=[23]\n",
      "SET n.hobby=['music', 'hiking']\n",
      "SET n.weight=[75]\n",
      "RETURN new_id\n",
      "\n",
      "OPTIONAL MATCH (same_id_node:node) \n",
      "WHERE same_id_node.id = 'b' \n",
      "FOREACH(new_count \n",
      "\tIN CASE WHEN same_id_node IS NOT NULL\n",
      "\tTHEN [coalesce(same_id_node.count, 0) + 1]\n",
      "\tELSE [] END | \n",
      "\t\tSET same_id_node.count = new_count) \n",
      "WITH same_id_node \n",
      "UNWIND\n",
      "\tCASE WHEN same_id_node IS NOT NULL\n",
      "\tTHEN ['b' + same_id_node.count]\n",
      "\tELSE ['b'] END AS new_id \n",
      "\t\tCREATE (n:node { id : new_id }) \n",
      "SET n.name=['Bob']\n",
      "SET n.age=[24]\n",
      "SET n.hobby=['music', 'sport']\n",
      "SET n.height=[178]\n",
      "RETURN new_id\n",
      "\n",
      "OPTIONAL MATCH (same_id_node:node) \n",
      "WHERE same_id_node.id = 'c' \n",
      "FOREACH(new_count \n",
      "\tIN CASE WHEN same_id_node IS NOT NULL\n",
      "\tTHEN [coalesce(same_id_node.count, 0) + 1]\n",
      "\tELSE [] END | \n",
      "\t\tSET same_id_node.count = new_count) \n",
      "WITH same_id_node \n",
      "UNWIND\n",
      "\tCASE WHEN same_id_node IS NOT NULL\n",
      "\tTHEN ['c' + same_id_node.count]\n",
      "\tELSE ['c'] END AS new_id \n",
      "\t\tCREATE (n:node { id : new_id }) \n",
      "RETURN new_id\n",
      "\n",
      "OPTIONAL MATCH (same_id_node:node) \n",
      "WHERE same_id_node.id = 'd' \n",
      "FOREACH(new_count \n",
      "\tIN CASE WHEN same_id_node IS NOT NULL\n",
      "\tTHEN [coalesce(same_id_node.count, 0) + 1]\n",
      "\tELSE [] END | \n",
      "\t\tSET same_id_node.count = new_count) \n",
      "WITH same_id_node \n",
      "UNWIND\n",
      "\tCASE WHEN same_id_node IS NOT NULL\n",
      "\tTHEN ['d' + same_id_node.count]\n",
      "\tELSE ['d'] END AS new_id \n",
      "\t\tCREATE (n:node { id : new_id }) \n",
      "SET n.name=['Paul']\n",
      "RETURN new_id\n",
      "\n",
      "OPTIONAL MATCH (same_id_node:node) \n",
      "WHERE same_id_node.id = 'e' \n",
      "FOREACH(new_count \n",
      "\tIN CASE WHEN same_id_node IS NOT NULL\n",
      "\tTHEN [coalesce(same_id_node.count, 0) + 1]\n",
      "\tELSE [] END | \n",
      "\t\tSET same_id_node.count = new_count) \n",
      "WITH same_id_node \n",
      "UNWIND\n",
      "\tCASE WHEN same_id_node IS NOT NULL\n",
      "\tTHEN ['e' + same_id_node.count]\n",
      "\tELSE ['e'] END AS new_id \n",
      "\t\tCREATE (n:node { id : new_id }) \n",
      "RETURN new_id\n",
      "\n",
      "OPTIONAL MATCH (same_id_node:node) \n",
      "WHERE same_id_node.id = 'f' \n",
      "FOREACH(new_count \n",
      "\tIN CASE WHEN same_id_node IS NOT NULL\n",
      "\tTHEN [coalesce(same_id_node.count, 0) + 1]\n",
      "\tELSE [] END | \n",
      "\t\tSET same_id_node.count = new_count) \n",
      "WITH same_id_node \n",
      "UNWIND\n",
      "\tCASE WHEN same_id_node IS NOT NULL\n",
      "\tTHEN ['f' + same_id_node.count]\n",
      "\tELSE ['f'] END AS new_id \n",
      "\t\tCREATE (n:node { id : new_id }) \n",
      "RETURN new_id\n",
      "\n",
      "MATCH (s:node { id : 'a'}) , (t:node { id : 'b'})  CREATE (s)-[new_edge:edge { type: ['friends', 'colleagues'] }]->(t)\n",
      "\n",
      "MATCH (s:node { id : 'd'}) , (t:node { id : 'b'})  CREATE (s)-[new_edge:edge { type: ['enemies'] }]->(t)\n",
      "\n",
      "MATCH (s:node { id : 'a'}) , (t:node { id : 'c'})  CREATE (s)-[new_edge:edge {  }]->(t)\n",
      "\n",
      "MATCH (s:node { id : 'd'}) , (t:node { id : 'a'})  CREATE (s)-[new_edge:edge { type: ['friends'] }]->(t)\n",
      "\n",
      "MATCH (s:node { id : 'e'}) , (t:node { id : 'a'})  CREATE (s)-[new_edge:edge {  }]->(t)\n",
      "\n",
      "MATCH (s:node { id : 'f'}) , (t:node { id : 'd'})  CREATE (s)-[new_edge:edge {  }]->(t)\n",
      "\n"
     ]
    }
   ],
   "source": [
    "nodes = [\n",
    "    (\"a\", {\"name\": \"Jack\", \"age\": 23, \"hobby\": {\"hiking\", \"music\"}, \"weight\": 75}), \n",
    "    (\"b\", {\"name\": \"Bob\", \"age\": 24, \"hobby\": {\"sport\", \"music\"}, \"height\": 178}),\n",
    "    \"c\", \n",
    "    (\"d\", {\"name\": \"Paul\"}), \"e\", \"f\"\n",
    "]\n",
    "edges = [\n",
    "    (\"a\", \"b\", {\"type\": {\"friends\", \"colleagues\"}}), \n",
    "    (\"d\", \"b\", {\"type\": \"enemies\"}), \n",
    "    (\"a\", \"c\"),\n",
    "    (\"d\", \"a\", {\"type\": \"friends\"}),\n",
    "    (\"e\", \"a\"), \n",
    "    (\"f\", \"d\")\n",
    "]\n",
    "g.add_nodes_from(nodes)\n",
    "g.add_edges_from(edges)"
   ]
  },
  {
   "cell_type": "code",
   "execution_count": 40,
   "metadata": {
    "scrolled": true
   },
   "outputs": [
    {
     "name": "stdout",
     "output_type": "stream",
     "text": [
      "MATCH (n:node { id: 'a' }) \n",
      "RETURN properties(n) as attributes\n",
      "\n"
     ]
    },
    {
     "data": {
      "text/plain": [
       "{'name': {'Jack'}, 'weight': {75}, 'age': {23}, 'hobby': {'music', 'hiking'}}"
      ]
     },
     "execution_count": 40,
     "metadata": {},
     "output_type": "execute_result"
    }
   ],
   "source": [
    "g.get_node(\"a\")"
   ]
  },
  {
   "cell_type": "markdown",
   "metadata": {},
   "source": [
    "## Primitive operations on Neo4j graph"
   ]
  },
  {
   "cell_type": "markdown",
   "metadata": {},
   "source": [
    "### Basic operations"
   ]
  },
  {
   "cell_type": "code",
   "execution_count": 41,
   "metadata": {
    "scrolled": true
   },
   "outputs": [
    {
     "name": "stdout",
     "output_type": "stream",
     "text": [
      "OPTIONAL MATCH (same_id_node:node) \n",
      "WHERE same_id_node.id = 'x' \n",
      "FOREACH(new_count \n",
      "\tIN CASE WHEN same_id_node IS NOT NULL\n",
      "\tTHEN [coalesce(same_id_node.count, 0) + 1]\n",
      "\tELSE [] END | \n",
      "\t\tSET same_id_node.count = new_count) \n",
      "WITH same_id_node \n",
      "UNWIND\n",
      "\tCASE WHEN same_id_node IS NOT NULL\n",
      "\tTHEN ['x' + same_id_node.count]\n",
      "\tELSE ['x'] END AS new_id \n",
      "\t\tCREATE (n:node { id : new_id }) \n",
      "SET n.name=['Roberto']\n",
      "RETURN new_id\n",
      "\n"
     ]
    },
    {
     "data": {
      "text/plain": [
       "'x'"
      ]
     },
     "execution_count": 41,
     "metadata": {},
     "output_type": "execute_result"
    }
   ],
   "source": [
    "g.add_node(\"x\", {\"name\": \"Roberto\"})"
   ]
  },
  {
   "cell_type": "code",
   "execution_count": 42,
   "metadata": {},
   "outputs": [
    {
     "name": "stdout",
     "output_type": "stream",
     "text": [
      "MATCH (s:node { id : 'x'}) , (t:node { id : 'c'})  CREATE (s)-[new_edge:edge { type: ['friends', 'colleagues'], since: [1993] }]->(t)\n",
      "\n"
     ]
    },
    {
     "data": {
      "text/plain": [
       "<neo4j.BoltStatementResult at 0x7fc49f297128>"
      ]
     },
     "execution_count": 42,
     "metadata": {},
     "output_type": "execute_result"
    }
   ],
   "source": [
    "g.add_edge(\"x\", \"c\", {\"type\": {\"friends\", \"colleagues\"}, \"since\": 1993})"
   ]
  },
  {
   "cell_type": "code",
   "execution_count": 8,
   "metadata": {},
   "outputs": [
    {
     "name": "stdout",
     "output_type": "stream",
     "text": [
      "MATCH (n:node) RETURN n.id\n",
      "\n"
     ]
    },
    {
     "data": {
      "text/plain": [
       "['f', 'x', 'a', 'b', 'c', 'd', 'e']"
      ]
     },
     "execution_count": 8,
     "metadata": {},
     "output_type": "execute_result"
    }
   ],
   "source": [
    "g.nodes()"
   ]
  },
  {
   "cell_type": "code",
   "execution_count": 9,
   "metadata": {},
   "outputs": [
    {
     "name": "stdout",
     "output_type": "stream",
     "text": [
      "MATCH (n:node)-[r:edge]->(m:node)\n",
      "RETURN n.id, m.id\n",
      "\n"
     ]
    },
    {
     "data": {
      "text/plain": [
       "[('f', 'd'),\n",
       " ('x', 'c'),\n",
       " ('a', 'c'),\n",
       " ('a', 'b'),\n",
       " ('d', 'a'),\n",
       " ('d', 'b'),\n",
       " ('e', 'a')]"
      ]
     },
     "execution_count": 9,
     "metadata": {},
     "output_type": "execute_result"
    }
   ],
   "source": [
    "g.edges()"
   ]
  },
  {
   "cell_type": "code",
   "execution_count": 10,
   "metadata": {
    "scrolled": true
   },
   "outputs": [
    {
     "name": "stdout",
     "output_type": "stream",
     "text": [
      "MATCH ({ id: 'a' })-[rel:edge]->({ id: 'b' }) \n",
      "RETURN properties(rel) as attributes\n",
      "\n"
     ]
    },
    {
     "data": {
      "text/plain": [
       "{'type': {'friends', 'colleagues'}}"
      ]
     },
     "execution_count": 10,
     "metadata": {},
     "output_type": "execute_result"
    }
   ],
   "source": [
    "g.get_edge('a', 'b')"
   ]
  },
  {
   "cell_type": "markdown",
   "metadata": {},
   "source": [
    "### Cloning"
   ]
  },
  {
   "cell_type": "markdown",
   "metadata": {},
   "source": [
    "By default if we clone a node without specifying the new id for it, the id is automatically derived from the original one (however it takes some additional time to generate it, and some naming collisions may happen in the future when using clone operation inside of complex queries)"
   ]
  },
  {
   "cell_type": "code",
   "execution_count": 43,
   "metadata": {
    "scrolled": true
   },
   "outputs": [
    {
     "name": "stdout",
     "output_type": "stream",
     "text": [
      "MATCH (x:node { id : 'a' })\n",
      "// search for a node with the same id as the clone id\n",
      "OPTIONAL MATCH (same_id_node:node { id : 'a'}) \n",
      "WITH same_id_node,  CASE WHEN same_id_node IS NOT NULL THEN (coalesce(same_id_node.count, 0) + 1) ELSE 0 END AS same_id_node_new_count, x\n",
      "// generate new id if the same id node was found\n",
      "// and filter edges which will be removed \n",
      "WITH same_id_node, same_id_node_new_count, 'a' + CASE WHEN same_id_node_new_count <> 0 THEN toString(same_id_node_new_count) ELSE '' END as uid, x\n",
      "// create a node corresponding to the clone\n",
      "CREATE (new_node:node) \n",
      "WITH same_id_node, same_id_node_new_count, new_node, uid, x.id as original_old, x\n",
      "// set the id property of the original node to NULL\n",
      "SET x.id = NULL\n",
      "// copy all the properties of the original node to the clone\n",
      "SET new_node = x\n",
      "// set id property of the clone to the generated id\n",
      "SET new_node.id = uid, new_node.count = NULL, same_id_node.count = same_id_node_new_count + 1\n",
      "// set back the id property of the original node\n",
      "SET x.id = original_old\n",
      "WITH [] as sucIgnore, [] as predIgnore, x, new_node, uid \n",
      "// match successors and out-edges of a node to be cloned\n",
      "OPTIONAL MATCH (x)-[out_edge:edge]->(suc) \n",
      "WHERE NOT suc.id IS NULL AND NOT suc.id IN sucIgnore\n",
      "WITH collect({neighbor: suc, edge: out_edge}) as suc_maps, uid, new_node, sucIgnore, predIgnore, x \n",
      "// match predecessors and in-edges of a node to be cloned\n",
      "OPTIONAL MATCH (pred)-[in_edge:edge]->(x) \n",
      "WHERE NOT pred.id IS NULL AND NOT pred.id IN predIgnore\n",
      "WITH collect({neighbor: pred, edge: in_edge}) as pred_maps, suc_maps, uid, new_node, sucIgnore, predIgnore, x \n",
      "// copy all incident edges of the original node to the clone\n",
      "FOREACH (suc_map IN suc_maps | \n",
      "\tFOREACH (suc IN CASE WHEN suc_map.neighbor IS NOT NULL THEN [suc_map.neighbor] ELSE [] END |\n",
      "\t\tCREATE (new_node)-[new_edge:edge]->(suc) \n",
      "\t\tSET new_edge = suc_map.edge))\n",
      "FOREACH (pred_map IN pred_maps | \n",
      "\tFOREACH (pred IN CASE WHEN pred_map.neighbor IS NOT NULL THEN [pred_map.neighbor] ELSE [] END |\n",
      "\t\tCREATE (pred)-[new_edge:edge]->(new_node) \n",
      "\t\tSET new_edge = pred_map.edge))\n",
      "// copy self loop\n",
      "FOREACH (suc_map IN suc_maps | \n",
      "\tFOREACH (self_loop IN CASE WHEN suc_map.neighbor = x THEN [suc_map.edge] ELSE [] END |\n",
      "\t\tCREATE (new_node)-[new_edge:edge]->(new_node) \n",
      "\t\tSET new_edge = self_loop))\n",
      "WITH uid, new_node, sucIgnore, predIgnore, x\n",
      "RETURN uid\n",
      "\n",
      "Created clone by the name:  a1\n",
      "Properties of the resulting node: \n",
      "MATCH (n:node { id: 'a1' }) \n",
      "RETURN properties(n) as attributes\n",
      "\n",
      "{'name': {'Jack'}, 'weight': {75}, 'age': {23}, 'hobby': {'music', 'hiking'}}\n",
      "Properties of incident edges are also cloned, e.g: \n",
      "MATCH ({ id: 'a1' })-[rel:edge]->({ id: 'b' }) \n",
      "RETURN properties(rel) as attributes\n",
      "\n",
      "{'type': {'friends', 'colleagues'}}\n"
     ]
    }
   ],
   "source": [
    "clone1_res = g.clone_node('a')\n",
    "print(\"Created clone by the name: \", clone1_res)\n",
    "print(\"Properties of the resulting node: \")\n",
    "print(g.get_node(clone1_res))\n",
    "print(\"Properties of incident edges are also cloned, e.g: \")\n",
    "print(g.get_edge(clone1_res, 'b'))"
   ]
  },
  {
   "cell_type": "markdown",
   "metadata": {},
   "source": [
    "We can specify the parameter `ignore_naming=True` to avoid automatic id derivation. In this case cloning uses Neo4j native ids (this mode is more suitable for using clone operation inside of complex queries as the Neo4j id have the guaranteed uniqueness)"
   ]
  },
  {
   "cell_type": "code",
   "execution_count": 12,
   "metadata": {},
   "outputs": [
    {
     "name": "stdout",
     "output_type": "stream",
     "text": [
      "Here we ignore pretty naming of new clones\n",
      "\n",
      "MATCH (x:node { id : 'a' })\n",
      "// create a node corresponding to the clone\n",
      "CREATE (new_node:node) \n",
      "WITH new_node, toString(id(new_node)) as uid, x.id as original_old, x \n",
      "// set the id property of the original node to NULL\n",
      "SET x.id = NULL\n",
      "// copy all the properties of the original node to the clone\n",
      "SET new_node = x\n",
      "// set id property of the clone to neo4j-generated id\n",
      "SET new_node.id = toString(id(new_node)), new_node.count = NULL\n",
      "// set back the id property of the original node\n",
      "SET x.id = original_old\n",
      "WITH new_node, toString(id(new_node)) as uid, x \n",
      "WITH [] as sucIgnore, [] as predIgnore, x, new_node, uid \n",
      "// match successors and out-edges of a node to be cloned\n",
      "OPTIONAL MATCH (x)-[out_edge:edge]->(suc) \n",
      "WHERE NOT suc.id IS NULL AND NOT suc.id IN sucIgnore\n",
      "WITH collect({neighbor: suc, edge: out_edge}) as suc_maps, uid, new_node, sucIgnore, predIgnore, x \n",
      "// match predecessors and in-edges of a node to be cloned\n",
      "OPTIONAL MATCH (pred)-[in_edge:edge]->(x) \n",
      "WHERE NOT pred.id IS NULL AND NOT pred.id IN predIgnore\n",
      "WITH collect({neighbor: pred, edge: in_edge}) as pred_maps, suc_maps, uid, new_node, sucIgnore, predIgnore, x \n",
      "// copy all incident edges of the original node to the clone\n",
      "FOREACH (suc_map IN suc_maps | \n",
      "\tFOREACH (suc IN CASE WHEN suc_map.neighbor IS NOT NULL THEN [suc_map.neighbor] ELSE [] END |\n",
      "\t\tCREATE (new_node)-[new_edge:edge]->(suc) \n",
      "\t\tSET new_edge = suc_map.edge))\n",
      "FOREACH (pred_map IN pred_maps | \n",
      "\tFOREACH (pred IN CASE WHEN pred_map.neighbor IS NOT NULL THEN [pred_map.neighbor] ELSE [] END |\n",
      "\t\tCREATE (pred)-[new_edge:edge]->(new_node) \n",
      "\t\tSET new_edge = pred_map.edge))\n",
      "// copy self loop\n",
      "FOREACH (suc_map IN suc_maps | \n",
      "\tFOREACH (self_loop IN CASE WHEN suc_map.neighbor = x THEN [suc_map.edge] ELSE [] END |\n",
      "\t\tCREATE (new_node)-[new_edge:edge]->(new_node) \n",
      "\t\tSET new_edge = self_loop))\n",
      "WITH uid, new_node, sucIgnore, predIgnore, x\n",
      "RETURN uid\n",
      "\n",
      "Created clone by the name:  173666\n",
      "Properties of the resulting node: \n",
      "MATCH (n:node { id: '173666' }) \n",
      "RETURN properties(n) as attributes\n",
      "\n",
      "{'name': {'Jack'}, 'weight': {75}, 'age': {23}, 'hobby': {'music', 'hiking'}}\n",
      "Properties of incident edges are also cloned, e.g: \n",
      "MATCH ({ id: '173666' })-[rel:edge]->({ id: 'b' }) \n",
      "RETURN properties(rel) as attributes\n",
      "\n",
      "{'type': {'friends', 'colleagues'}}\n"
     ]
    }
   ],
   "source": [
    "print(\"Here we ignore pretty naming of new clones\\n\")\n",
    "clone2_res = g.clone_node('a', ignore_naming=True)\n",
    "print(\"Created clone by the name: \", clone2_res)\n",
    "print(\"Properties of the resulting node: \")\n",
    "print(g.get_node(clone2_res))\n",
    "print(\"Properties of incident edges are also cloned, e.g: \")\n",
    "print(g.get_edge(clone2_res, 'b'))"
   ]
  },
  {
   "cell_type": "markdown",
   "metadata": {},
   "source": [
    "The third option is to specify the id of the new node manually"
   ]
  },
  {
   "cell_type": "code",
   "execution_count": 13,
   "metadata": {
    "scrolled": true
   },
   "outputs": [
    {
     "name": "stdout",
     "output_type": "stream",
     "text": [
      "MATCH (x:node { id : 'a' })\n",
      "// search for a node with the same id as the clone id\n",
      "OPTIONAL MATCH (same_id_node:node { id : 'a_clone'}) \n",
      "WITH same_id_node,  CASE WHEN same_id_node IS NOT NULL THEN (coalesce(same_id_node.count, 0) + 1) ELSE 0 END AS same_id_node_new_count, x\n",
      "// generate new id if the same id node was found\n",
      "// and filter edges which will be removed \n",
      "WITH same_id_node, same_id_node_new_count, 'a_clone' + CASE WHEN same_id_node_new_count <> 0 THEN toString(same_id_node_new_count) ELSE '' END as uid, x\n",
      "// create a node corresponding to the clone\n",
      "CREATE (new_node:node) \n",
      "WITH same_id_node, same_id_node_new_count, new_node, uid, x.id as original_old, x\n",
      "// set the id property of the original node to NULL\n",
      "SET x.id = NULL\n",
      "// copy all the properties of the original node to the clone\n",
      "SET new_node = x\n",
      "// set id property of the clone to the generated id\n",
      "SET new_node.id = uid, new_node.count = NULL, same_id_node.count = same_id_node_new_count + 1\n",
      "// set back the id property of the original node\n",
      "SET x.id = original_old\n",
      "WITH [] as sucIgnore, [] as predIgnore, x, new_node, uid \n",
      "// match successors and out-edges of a node to be cloned\n",
      "OPTIONAL MATCH (x)-[out_edge:edge]->(suc) \n",
      "WHERE NOT suc.id IS NULL AND NOT suc.id IN sucIgnore\n",
      "WITH collect({neighbor: suc, edge: out_edge}) as suc_maps, uid, new_node, sucIgnore, predIgnore, x \n",
      "// match predecessors and in-edges of a node to be cloned\n",
      "OPTIONAL MATCH (pred)-[in_edge:edge]->(x) \n",
      "WHERE NOT pred.id IS NULL AND NOT pred.id IN predIgnore\n",
      "WITH collect({neighbor: pred, edge: in_edge}) as pred_maps, suc_maps, uid, new_node, sucIgnore, predIgnore, x \n",
      "// copy all incident edges of the original node to the clone\n",
      "FOREACH (suc_map IN suc_maps | \n",
      "\tFOREACH (suc IN CASE WHEN suc_map.neighbor IS NOT NULL THEN [suc_map.neighbor] ELSE [] END |\n",
      "\t\tCREATE (new_node)-[new_edge:edge]->(suc) \n",
      "\t\tSET new_edge = suc_map.edge))\n",
      "FOREACH (pred_map IN pred_maps | \n",
      "\tFOREACH (pred IN CASE WHEN pred_map.neighbor IS NOT NULL THEN [pred_map.neighbor] ELSE [] END |\n",
      "\t\tCREATE (pred)-[new_edge:edge]->(new_node) \n",
      "\t\tSET new_edge = pred_map.edge))\n",
      "// copy self loop\n",
      "FOREACH (suc_map IN suc_maps | \n",
      "\tFOREACH (self_loop IN CASE WHEN suc_map.neighbor = x THEN [suc_map.edge] ELSE [] END |\n",
      "\t\tCREATE (new_node)-[new_edge:edge]->(new_node) \n",
      "\t\tSET new_edge = self_loop))\n",
      "WITH uid, new_node, sucIgnore, predIgnore, x\n",
      "RETURN uid\n",
      "\n",
      "Created clone by the name:  a_clone\n",
      "Properties of the resulting node: \n",
      "MATCH (n:node { id: 'a_clone' }) \n",
      "RETURN properties(n) as attributes\n",
      "\n",
      "{'name': {'Jack'}, 'weight': {75}, 'age': {23}, 'hobby': {'music', 'hiking'}}\n",
      "Properties of incident edges are also cloned, e.g: \n",
      "MATCH ({ id: 'a_clone' })-[rel:edge]->({ id: 'b' }) \n",
      "RETURN properties(rel) as attributes\n",
      "\n",
      "{'type': {'friends', 'colleagues'}}\n"
     ]
    }
   ],
   "source": [
    "clone3_res = g.clone_node('a', 'a_clone')\n",
    "print(\"Created clone by the name: \", clone3_res)\n",
    "print(\"Properties of the resulting node: \")\n",
    "print(g.get_node(clone3_res))\n",
    "print(\"Properties of incident edges are also cloned, e.g: \")\n",
    "print(g.get_edge(clone3_res, 'b'))"
   ]
  },
  {
   "cell_type": "code",
   "execution_count": 44,
   "metadata": {
    "scrolled": false
   },
   "outputs": [
    {
     "name": "stdout",
     "output_type": "stream",
     "text": [
      "MATCH (a:node { id : 'a'}) , (b:node { id : 'b'})  \n",
      "// accumulate all the attrs of the nodes to be merged\n",
      "WITH [] as new_props, a, b\n",
      "WITH new_props + REDUCE(pairs = [], k in keys(a) | \n",
      "\tpairs + REDUCE(inner_pairs = [], v in a[k] | \n",
      "\t\tinner_pairs + {key: k, value: v})) as new_props, a, b\n",
      "WITH new_props + REDUCE(pairs = [], k in keys(b) | \n",
      "\tpairs + REDUCE(inner_pairs = [], v in b[k] | \n",
      "\t\tinner_pairs + {key: k, value: v})) as new_props, a, b\n",
      "WITH apoc.map.groupByMulti(new_props, 'key') as new_props, a, b\n",
      "WITH apoc.map.fromValues(REDUCE(pairs=[], k in keys(new_props) | \n",
      "\tpairs + [k, REDUCE(values=[], v in new_props[k] | \n",
      "\t\tvalues + CASE WHEN v.value IN values THEN [] ELSE v.value END)])) as new_props, a, b\n",
      "SET a = new_props\n",
      "WITH a as merged_node, b\n",
      "// search for a node with the same id as the clone id\n",
      "OPTIONAL MATCH (same_id_node:node { id : 'a_b'}) \n",
      "WITH same_id_node,  CASE WHEN same_id_node IS NOT NULL THEN (coalesce(same_id_node.count, 0) + 1) ELSE 0 END AS same_id_node_new_count, merged_node, b\n",
      "// generate new id if the same id node was found\n",
      "// and filter edges which will be removed \n",
      "WITH same_id_node, same_id_node_new_count, 'a_b' + CASE WHEN same_id_node_new_count <> 0 THEN toString(same_id_node_new_count) ELSE '' END as new_id, merged_node, b\n",
      "// set appropriate node id\n",
      "SET merged_node.id = new_id\n",
      "SET merged_node.count = NULL\n",
      "WITH new_id, merged_node, b\n",
      "// accumulate all the attrs of the edges incident to the merged nodes\n",
      "WITH [] as suc_maps, [] as pred_maps, merged_node, new_id, b\n",
      "OPTIONAL MATCH (merged_node)-[out_rel:edge]->(suc)\n",
      "WITH suc_maps + collect({id: id(suc), neighbor: suc, edge: out_rel}) as suc_maps, pred_maps, merged_node, new_id, b\n",
      "OPTIONAL MATCH (pred)-[in_rel:edge]->(merged_node)\n",
      "WITH pred_maps + collect({id: id(pred), neighbor: pred, edge: in_rel}) as pred_maps, suc_maps, merged_node, new_id, b\n",
      "OPTIONAL MATCH (b)-[out_rel:edge]->(suc)\n",
      "WITH suc_maps + collect({id: id(suc), neighbor: suc, edge: out_rel}) as suc_maps, pred_maps, merged_node, new_id, b\n",
      "OPTIONAL MATCH (pred)-[in_rel:edge]->(b)\n",
      "WITH pred_maps + collect({id: id(pred), neighbor: pred, edge: in_rel}) as pred_maps, suc_maps, merged_node, new_id, b\n",
      "WITH apoc.map.groupByMulti(suc_maps, 'id') as suc_props, REDUCE(list=[], map in suc_maps | \n",
      "\tlist + CASE WHEN NOT map['neighbor'] IS NULL THEN [map['neighbor']] ELSE [] END) as suc_nodes, apoc.map.groupByMulti(pred_maps, 'id') as pred_props, REDUCE(list=[], map in pred_maps | \n",
      "\tlist + CASE WHEN NOT map['neighbor'] IS NULL THEN [map['neighbor']] ELSE [] END) as pred_nodes, \tREDUCE(l=[], el in suc_maps + pred_maps| \n",
      "\t\tl + CASE WHEN el['id'] IN [id(merged_node),id(b)] THEN [toString(el['id'])] ELSE [] END) as self_loops, merged_node, new_id, b\n",
      "WITH suc_nodes, pred_nodes, apoc.map.fromValues(REDUCE(edge_props=[], k in keys(suc_props) | \n",
      "\tedge_props + [k, apoc.map.groupByMulti(REDUCE(props=[], el in suc_props[k] | \n",
      "\t\tprops + REDUCE(pairs=[], kk in keys(el['edge']) | \n",
      "\t\t\tpairs + REDUCE(values=[], v in el['edge'][kk] | \n",
      "\t\t\t\tvalues + {key: kk, value: v}))), 'key')])) as suc_props, \n",
      "\tapoc.map.fromValues(REDUCE(edge_props=[], k in keys(pred_props) | \n",
      "\tedge_props + [k, apoc.map.groupByMulti(REDUCE(props=[], el in pred_props[k] | \n",
      "\t\tprops + REDUCE(pairs=[], kk in keys(el['edge']) | \n",
      "\t\t\tpairs + REDUCE(values=[], v in el['edge'][kk] | \n",
      "\t\t\t\t values + {key: kk, value: v}))), 'key')])) as pred_props,  \n",
      "\tREDUCE(edge_props=[], k IN filter(k IN keys(suc_props) WHERE k IN self_loops) |\n",
      "\t\tedge_props + suc_props[k]) + \n",
      "\tREDUCE(edge_props=[], k IN filter(k IN keys(pred_props) WHERE k IN self_loops) |\n",
      "\t\tedge_props + pred_props[k]) as self_loop_props, self_loops, b, merged_node, new_id\n",
      "WITH suc_nodes, suc_props, pred_nodes, pred_props, apoc.map.groupByMulti(REDUCE(pairs=[], el in self_loop_props |\n",
      "\tpairs + REDUCE(inner_pairs=[], k in keys(el['edge']) | \n",
      "\t\tinner_pairs + REDUCE(values=[], v in el['edge'][k] |\n",
      "\t\t\tvalues + {key: k, value: v}))), 'key') as self_loop_props, self_loops, b, merged_node, new_id\n",
      "FOREACH(suc IN filter(suc IN suc_nodes WHERE NOT id(suc) in self_loops) |\n",
      "\tMERGE (merged_node)-[new_rel:edge]->(suc)\n",
      "\tSET new_rel = apoc.map.fromValues(REDUCE(pairs=[], k in keys(suc_props[toString(id(suc))]) | \n",
      "\t\t pairs + [k, REDUCE(values=[], v in suc_props[toString(id(suc))][k] | \n",
      "\t\t\tvalues + CASE WHEN v.value IN values THEN [] ELSE v.value END)])))\n",
      "FOREACH(pred IN filter(pred IN pred_nodes WHERE NOT id(pred) in self_loops) |\n",
      "\tMERGE (pred)-[new_rel:edge]->(merged_node)\n",
      "\tSET new_rel = apoc.map.fromValues(REDUCE(pairs=[], k in keys(pred_props[toString(id(pred))]) | \n",
      "\t\t pairs + [k, REDUCE(values=[], v in pred_props[toString(id(pred))][k] | \n",
      "\t\t\tvalues + CASE WHEN v.value IN values THEN [] ELSE v.value END)])))\n",
      "// add self loop \n",
      "FOREACH(dummy in CASE WHEN length(self_loops) > 0 THEN [NULL] ELSE [] END |\n",
      "\tMERGE (merged_node)-[new_rel:edge]->(merged_node)\n",
      "\tSET new_rel = apoc.map.fromValues(REDUCE(pairs=[], k in keys(self_loop_props) |\n",
      "\t\tpairs + [k, REDUCE(values=[], v in self_loop_props[k] |\n",
      "\t\t\tvalues + CASE WHEN v.value IN values THEN [] ELSE v.value END)])))\n",
      "DETACH DELETE (b)\n",
      "RETURN new_id\n",
      "\n",
      "Properties of the resulting node: a_b\n",
      "MATCH (n:node { id: 'a_b' }) \n",
      "RETURN properties(n) as attributes\n",
      "\n",
      "{'name': {'Bob', 'Jack'}, 'weight': {75}, 'age': {24, 23}, 'height': {178}, 'hobby': {'music', 'hiking', 'sport'}}\n"
     ]
    }
   ],
   "source": [
    "merge1_res = g.merge_nodes1([\"a\", \"b\"])\n",
    "print(\"Properties of the resulting node: {}\".format(merge1_res))\n",
    "print(g.get_node(merge1_res))"
   ]
  },
  {
   "cell_type": "code",
   "execution_count": 15,
   "metadata": {},
   "outputs": [
    {
     "name": "stdout",
     "output_type": "stream",
     "text": [
      "MATCH (n1:node { id : 'a_b'}) , (n2:node { id : 'd'})  \n",
      "// use the APOC procedure 'apoc.refactor.mergeNodes' to merge nodes\n",
      "CALL apoc.refactor.mergeNodes([n1, n2], {properties: 'combine'})\n",
      "YIELD node as merged_node\n",
      "// search for a node with the same id as the clone id\n",
      "OPTIONAL MATCH (same_id_node:node { id : 'a_b_d'}) \n",
      "WITH same_id_node,  CASE WHEN same_id_node IS NOT NULL THEN (coalesce(same_id_node.count, 0) + 1) ELSE 0 END AS same_id_node_new_count, merged_node\n",
      "// generate new id if the same id node was found\n",
      "// and filter edges which will be removed \n",
      "WITH same_id_node, same_id_node_new_count, 'a_b_d' + CASE WHEN same_id_node_new_count <> 0 THEN toString(same_id_node_new_count) ELSE '' END as new_id, merged_node\n",
      "// set appropriate node id\n",
      "SET merged_node.id = new_id\n",
      "SET merged_node.count = NULL\n",
      "WITH new_id, merged_node\n",
      "// find and merge multiple relations resulting from the node merge\n",
      "OPTIONAL MATCH (merged_node)-[out_rel:edge]->(suc)\n",
      "WITH collect({neighbor: suc, edge: out_rel}) as suc_maps, merged_node, new_id\n",
      "OPTIONAL MATCH (pred)-[in_rel:edge]->(merged_node)\n",
      "WHERE pred.id <> merged_node.id\n",
      "WITH collect({neighbor: pred, edge: in_rel}) as pred_maps, suc_maps, merged_node, new_id\n",
      "WITH apoc.map.groupByMulti(suc_maps, 'neighbor') as suc_maps, apoc.map.groupByMulti(pred_maps, 'neighbor') as pred_maps, merged_node, new_id\n",
      "WITH REDUCE(edges=[],  k in filter(k in keys(suc_maps) WHERE length(suc_maps[k]) > 1 ) | \n",
      "\tedges + [suc_maps[k]]) + \n",
      "\tREDUCE(edges=[],  k in filter(k in keys(pred_maps) WHERE length(pred_maps[k]) > 1)| \n",
      "\t\tedges + [pred_maps[k]]) as all_merge_edges, merged_node, new_id\n",
      "UNWIND all_merge_edges as edge_list\n",
      "\tCALL apoc.refactor.mergeRelationships(\n",
      "\t\tREDUCE(rels=[], el in edge_list | rels + el['edge']),  {properties: 'combine'})\n",
      "\tYIELD rel\n",
      "RETURN new_id\n",
      "\n",
      "Properties of the resulting node: a_b_d\n",
      "MATCH (n:node { id: 'a_b_d' }) \n",
      "RETURN properties(n) as attributes\n",
      "\n",
      "{'name': {'Bob', 'Jack', 'Paul'}, 'weight': {75}, 'age': {24, 23}, 'height': {178}, 'hobby': {'music', 'hiking', 'sport'}}\n"
     ]
    }
   ],
   "source": [
    "merge2_res = g.merge_nodes([\"a_b\", \"d\"])\n",
    "print(\"Properties of the resulting node: {}\".format(merge2_res))\n",
    "print(g.get_node(merge2_res))"
   ]
  },
  {
   "cell_type": "markdown",
   "metadata": {},
   "source": [
    "## Rewriting Neo4j graph"
   ]
  },
  {
   "cell_type": "markdown",
   "metadata": {},
   "source": [
    "### 1. Create an SqPO rewriting rule"
   ]
  },
  {
   "cell_type": "code",
   "execution_count": 45,
   "metadata": {},
   "outputs": [],
   "source": [
    "pattern = nx.DiGraph()\n",
    "pattern.add_nodes_from([\"x\", \"y\", \"z\"])\n",
    "pattern.add_edges_from([(\"y\", \"x\"), (\"y\", \"z\"), (\"z\", \"z\")])"
   ]
  },
  {
   "cell_type": "code",
   "execution_count": 46,
   "metadata": {},
   "outputs": [],
   "source": [
    "rule = Rule.from_transform(pattern)\n",
    "clone_name1, _ = rule.inject_clone_node(\"y\")\n",
    "clone_name2, _ = rule.inject_clone_node(\"y\")\n",
    "rule.inject_remove_edge(clone_name2, \"z\")\n",
    "rule.inject_remove_node(\"x\")\n",
    "rule.inject_add_node(\"new_node\")\n",
    "rule.inject_add_edge(\"new_node\", \"z\")"
   ]
  },
  {
   "cell_type": "code",
   "execution_count": 47,
   "metadata": {},
   "outputs": [
    {
     "data": {
      "image/png": "[encoded data removed]",
      "text/plain": [
       "<Figure size 1008x216 with 3 Axes>"
      ]
     },
     "metadata": {},
     "output_type": "display_data"
    },
    {
     "name": "stdout",
     "output_type": "stream",
     "text": [
      "CLONE y AS y2.\n",
      "CLONE y AS y1.\n",
      "DELETE_NODE x.\n",
      "DELETE_EDGE y2 z.\n",
      "ADD_NODE new_node {}.\n",
      "ADD_EDGE new_node z {}.\n",
      "\n"
     ]
    }
   ],
   "source": [
    "plot_rule(rule)\n",
    "print(rule.to_commands())"
   ]
  },
  {
   "cell_type": "code",
   "execution_count": 48,
   "metadata": {},
   "outputs": [
    {
     "name": "stdout",
     "output_type": "stream",
     "text": [
      "MATCH (`x`:node), (`y`:node), (`z`:node), (`y`)-[:edge]->(`x`), (`y`)-[:edge]->(`z`), (`z`)-[:edge]->(`z`)\n",
      "WHERE id(`x`) <> id(`y`) AND id(`y`) <> id(`z`)\n",
      "RETURN `x`, `y`, `z`\n",
      "\n",
      "\n",
      "Instances:  [{'x': 'c', 'y': 'a1', 'z': 'a_b'}, {'x': 'a1', 'y': 'e', 'z': 'a_b'}, {'x': 'a1', 'y': 'd', 'z': 'a_b'}]\n"
     ]
    }
   ],
   "source": [
    "instances = g.find_matching(pattern)\n",
    "print(\"\\n\\nInstances: \", instances)"
   ]
  },
  {
   "cell_type": "code",
   "execution_count": 49,
   "metadata": {
    "scrolled": false
   },
   "outputs": [
    {
     "name": "stdout",
     "output_type": "stream",
     "text": [
      "MATCH (x:node { id : 'a1' })\n",
      "// search for a node with the same id as the clone id\n",
      "OPTIONAL MATCH (same_id_node:node { id : 'a1'}) \n",
      "WITH same_id_node,  CASE WHEN same_id_node IS NOT NULL THEN (coalesce(same_id_node.count, 0) + 1) ELSE 0 END AS same_id_node_new_count, x\n",
      "// generate new id if the same id node was found\n",
      "// and filter edges which will be removed \n",
      "WITH same_id_node, same_id_node_new_count, 'a1' + CASE WHEN same_id_node_new_count <> 0 THEN toString(same_id_node_new_count) ELSE '' END as uid, x\n",
      "// create a node corresponding to the clone\n",
      "CREATE (new_node:node) \n",
      "WITH same_id_node, same_id_node_new_count, new_node, uid, x.id as original_old, x\n",
      "// set the id property of the original node to NULL\n",
      "SET x.id = NULL\n",
      "// copy all the properties of the original node to the clone\n",
      "SET new_node = x\n",
      "// set id property of the clone to the generated id\n",
      "SET new_node.id = uid, new_node.count = NULL, same_id_node.count = same_id_node_new_count + 1\n",
      "// set back the id property of the original node\n",
      "SET x.id = original_old\n",
      "WITH [] as sucIgnore, [] as predIgnore, x, new_node, uid \n",
      "// match successors and out-edges of a node to be cloned\n",
      "OPTIONAL MATCH (x)-[out_edge:edge]->(suc) \n",
      "WHERE NOT suc.id IS NULL AND NOT suc.id IN sucIgnore\n",
      "WITH collect({neighbor: suc, edge: out_edge}) as suc_maps, uid, new_node, sucIgnore, predIgnore, x \n",
      "// match predecessors and in-edges of a node to be cloned\n",
      "OPTIONAL MATCH (pred)-[in_edge:edge]->(x) \n",
      "WHERE NOT pred.id IS NULL AND NOT pred.id IN predIgnore\n",
      "WITH collect({neighbor: pred, edge: in_edge}) as pred_maps, suc_maps, uid, new_node, sucIgnore, predIgnore, x \n",
      "// copy all incident edges of the original node to the clone\n",
      "FOREACH (suc_map IN suc_maps | \n",
      "\tFOREACH (suc IN CASE WHEN suc_map.neighbor IS NOT NULL THEN [suc_map.neighbor] ELSE [] END |\n",
      "\t\tCREATE (new_node)-[new_edge:edge]->(suc) \n",
      "\t\tSET new_edge = suc_map.edge))\n",
      "FOREACH (pred_map IN pred_maps | \n",
      "\tFOREACH (pred IN CASE WHEN pred_map.neighbor IS NOT NULL THEN [pred_map.neighbor] ELSE [] END |\n",
      "\t\tCREATE (pred)-[new_edge:edge]->(new_node) \n",
      "\t\tSET new_edge = pred_map.edge))\n",
      "// copy self loop\n",
      "FOREACH (suc_map IN suc_maps | \n",
      "\tFOREACH (self_loop IN CASE WHEN suc_map.neighbor = x THEN [suc_map.edge] ELSE [] END |\n",
      "\t\tCREATE (new_node)-[new_edge:edge]->(new_node) \n",
      "\t\tSET new_edge = self_loop))\n",
      "WITH uid, new_node, sucIgnore, predIgnore, x\n",
      "RETURN uid\n",
      "\n",
      "MATCH (x:node { id : 'a1' })\n",
      "// search for a node with the same id as the clone id\n",
      "OPTIONAL MATCH (same_id_node:node { id : 'a1'}) \n",
      "WITH same_id_node,  CASE WHEN same_id_node IS NOT NULL THEN (coalesce(same_id_node.count, 0) + 1) ELSE 0 END AS same_id_node_new_count, x\n",
      "// generate new id if the same id node was found\n",
      "// and filter edges which will be removed \n",
      "WITH same_id_node, same_id_node_new_count, 'a1' + CASE WHEN same_id_node_new_count <> 0 THEN toString(same_id_node_new_count) ELSE '' END as uid, x\n",
      "// create a node corresponding to the clone\n",
      "CREATE (new_node:node) \n",
      "WITH same_id_node, same_id_node_new_count, new_node, uid, x.id as original_old, x\n",
      "// set the id property of the original node to NULL\n",
      "SET x.id = NULL\n",
      "// copy all the properties of the original node to the clone\n",
      "SET new_node = x\n",
      "// set id property of the clone to the generated id\n",
      "SET new_node.id = uid, new_node.count = NULL, same_id_node.count = same_id_node_new_count + 1\n",
      "// set back the id property of the original node\n",
      "SET x.id = original_old\n",
      "WITH [] as sucIgnore, [] as predIgnore, x, new_node, uid \n",
      "// match successors and out-edges of a node to be cloned\n",
      "OPTIONAL MATCH (x)-[out_edge:edge]->(suc) \n",
      "WHERE NOT suc.id IS NULL AND NOT suc.id IN sucIgnore\n",
      "WITH collect({neighbor: suc, edge: out_edge}) as suc_maps, uid, new_node, sucIgnore, predIgnore, x \n",
      "// match predecessors and in-edges of a node to be cloned\n",
      "OPTIONAL MATCH (pred)-[in_edge:edge]->(x) \n",
      "WHERE NOT pred.id IS NULL AND NOT pred.id IN predIgnore\n",
      "WITH collect({neighbor: pred, edge: in_edge}) as pred_maps, suc_maps, uid, new_node, sucIgnore, predIgnore, x \n",
      "// copy all incident edges of the original node to the clone\n",
      "FOREACH (suc_map IN suc_maps | \n",
      "\tFOREACH (suc IN CASE WHEN suc_map.neighbor IS NOT NULL THEN [suc_map.neighbor] ELSE [] END |\n",
      "\t\tCREATE (new_node)-[new_edge:edge]->(suc) \n",
      "\t\tSET new_edge = suc_map.edge))\n",
      "FOREACH (pred_map IN pred_maps | \n",
      "\tFOREACH (pred IN CASE WHEN pred_map.neighbor IS NOT NULL THEN [pred_map.neighbor] ELSE [] END |\n",
      "\t\tCREATE (pred)-[new_edge:edge]->(new_node) \n",
      "\t\tSET new_edge = pred_map.edge))\n",
      "// copy self loop\n",
      "FOREACH (suc_map IN suc_maps | \n",
      "\tFOREACH (self_loop IN CASE WHEN suc_map.neighbor = x THEN [suc_map.edge] ELSE [] END |\n",
      "\t\tCREATE (new_node)-[new_edge:edge]->(new_node) \n",
      "\t\tSET new_edge = self_loop))\n",
      "WITH uid, new_node, sucIgnore, predIgnore, x\n",
      "RETURN uid\n",
      "\n",
      "MATCH (n:node { id : 'c' })\n",
      "DETACH DELETE n\n",
      "\n",
      "MATCH (s:node {id: 'a1'})-[edge_var:edge]->(t:node {id: 'a_b'})\n",
      "DELETE edge_var\n",
      "\n",
      "OPTIONAL MATCH (same_id_node:node) \n",
      "WHERE same_id_node.id = 'new_node' \n",
      "FOREACH(new_count \n",
      "\tIN CASE WHEN same_id_node IS NOT NULL\n",
      "\tTHEN [coalesce(same_id_node.count, 0) + 1]\n",
      "\tELSE [] END | \n",
      "\t\tSET same_id_node.count = new_count) \n",
      "WITH same_id_node \n",
      "UNWIND\n",
      "\tCASE WHEN same_id_node IS NOT NULL\n",
      "\tTHEN ['new_node' + same_id_node.count]\n",
      "\tELSE ['new_node'] END AS new_id \n",
      "\t\tCREATE (n:node { id : new_id }) \n",
      "RETURN new_id\n",
      "\n",
      "MATCH (s:node { id : 'new_node'}) , (t:node { id : 'a_b'})  CREATE (s)-[new_edge:edge {  }]->(t)\n",
      "\n",
      "\n",
      "\n",
      "Rewriting rule to commands: \n",
      "\n",
      "CLONE y AS y2.\n",
      "CLONE y AS y1.\n",
      "DELETE_NODE x.\n",
      "DELETE_EDGE y2 z.\n",
      "ADD_NODE new_node {}.\n",
      "ADD_EDGE new_node z {}.\n",
      "\n"
     ]
    }
   ],
   "source": [
    "rhs_g = g.rewrite(rule, instances[0])\n",
    "print(\"\\n\\nRewriting rule to commands: \\n\")\n",
    "print(rule.to_commands())"
   ]
  },
  {
   "cell_type": "code",
   "execution_count": 21,
   "metadata": {},
   "outputs": [
    {
     "data": {
      "text/plain": [
       "{'y': 'a11', 'z': 'a_b_d', 'y1': 'a13', 'y2': 'a1', 'new_node': 'new_node'}"
      ]
     },
     "execution_count": 21,
     "metadata": {},
     "output_type": "execute_result"
    }
   ],
   "source": [
    "rhs_g"
   ]
  }
 ],
 "metadata": {
  "anaconda-cloud": {},
  "kernelspec": {
   "display_name": "Python 3",
   "language": "python",
   "name": "python3"
  },
  "language_info": {
   "codemirror_mode": {
    "name": "ipython",
    "version": 3
   },
   "file_extension": ".py",
   "mimetype": "text/x-python",
   "name": "python",
   "nbconvert_exporter": "python",
   "pygments_lexer": "ipython3",
   "version": "3.7.1"
  }
 },
 "nbformat": 4,
 "nbformat_minor": 2
}
