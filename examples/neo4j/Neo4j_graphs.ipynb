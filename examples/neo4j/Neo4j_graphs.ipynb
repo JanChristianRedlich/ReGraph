{
 "cells": [
  {
   "cell_type": "markdown",
   "metadata": {},
   "source": [
    "# Examples of utils provided by ReGraph's neo4j module"
   ]
  },
  {
   "cell_type": "code",
   "execution_count": 1,
   "metadata": {
    "collapsed": true
   },
   "outputs": [],
   "source": [
    "import networkx as nx\n",
    "\n",
    "from regraph import Rule, plot_rule\n",
    "from regraph.neo4j.graphs import Neo4jGraph\n",
    "from regraph.neo4j.cypher_utils import *"
   ]
  },
  {
   "cell_type": "markdown",
   "metadata": {},
   "source": [
    "## Initializing Neo4j graph\n",
    "\n",
    "0. When installing neo4j you will be asked to choose login/password for you dbs (here its \"neo4j\"/\"admin\"), if you choose other -- change in the cell below.\n",
    "1. To start neo4j server run `sudo service neo4j start`\n",
    "2. Check status by running `sudo service neo4j status`. Here you can check the _bolt_ port, change the cell below if different from 7687\n",
    "3. You can query the db by using the neo4j browser, the address can be found also in the result of 'status', e.g. \"Remote interface available at http://localhost:7474/\"."
   ]
  },
  {
   "cell_type": "code",
   "execution_count": 2,
   "metadata": {
    "collapsed": false
   },
   "outputs": [],
   "source": [
    "# initialize the neo4j driver, wrappped into Neo4jGraph object\n",
    "g = Neo4jGraph(uri=\"bolt://localhost:7687\", user=\"neo4j\", password=\"admin\")"
   ]
  },
  {
   "cell_type": "code",
   "execution_count": 3,
   "metadata": {
    "collapsed": false
   },
   "outputs": [],
   "source": [
    "# here we clear the db\n",
    "res = g.clear()"
   ]
  },
  {
   "cell_type": "code",
   "execution_count": 4,
   "metadata": {
    "collapsed": false
   },
   "outputs": [
    {
     "data": {
      "text/plain": [
       "<neo4j.v1.result.BoltStatementResult at 0x7f15c52e5160>"
      ]
     },
     "execution_count": 4,
     "metadata": {},
     "output_type": "execute_result"
    }
   ],
   "source": [
    "nodes = [\n",
    "    (\"a\", {\"name\": \"Jack\", \"age\": 23, \"hobby\": {\"hiking\", \"music\"}, \"weight\": 75}), \n",
    "    (\"b\", {\"name\": \"Bob\", \"age\": 24, \"hobby\": {\"sport\", \"music\"}, \"height\": 178}),\n",
    "    \"c\", \n",
    "    (\"d\", {\"name\": \"Paul\"}), \"e\", \"f\"\n",
    "]\n",
    "edges = [\n",
    "    (\"a\", \"b\", {\"type\": {\"friends\", \"colleagues\"}}), \n",
    "    (\"d\", \"b\", {\"type\": \"enemies\"}), \n",
    "    (\"a\", \"c\"),\n",
    "    (\"d\", \"a\", {\"type\": \"friends\"}),\n",
    "    (\"e\", \"a\"), \n",
    "    (\"f\", \"d\")\n",
    "]\n",
    "g.add_nodes_from(nodes)\n",
    "g.add_edges_from(edges)"
   ]
  },
  {
   "cell_type": "code",
   "execution_count": 5,
   "metadata": {
    "collapsed": false
   },
   "outputs": [
    {
     "name": "stdout",
     "output_type": "stream",
     "text": [
      "MATCH (n { id : 'a' })\n",
      "RETURN n\n",
      "\n",
      "{'hobby': ['hiking', 'music'], 'id': 'a', 'age': [23], 'weight': [75], 'name': ['Jack']}\n"
     ]
    }
   ],
   "source": [
    "print(get_node(\"a\"))\n",
    "print(g.get_node(\"a\"))"
   ]
  },
  {
   "cell_type": "markdown",
   "metadata": {},
   "source": [
    "## Primitive operations on Neo4j graph"
   ]
  },
  {
   "cell_type": "markdown",
   "metadata": {},
   "source": [
    "### Basic operations"
   ]
  },
  {
   "cell_type": "code",
   "execution_count": 6,
   "metadata": {
    "collapsed": false,
    "scrolled": true
   },
   "outputs": [
    {
     "data": {
      "text/plain": [
       "<neo4j.v1.result.BoltStatementResult at 0x7f15c52d3dd8>"
      ]
     },
     "execution_count": 6,
     "metadata": {},
     "output_type": "execute_result"
    }
   ],
   "source": [
    "g.add_node(\"x\", {\"name\": \"Roberto\"})"
   ]
  },
  {
   "cell_type": "code",
   "execution_count": 7,
   "metadata": {
    "collapsed": false
   },
   "outputs": [
    {
     "data": {
      "text/plain": [
       "<neo4j.v1.result.BoltStatementResult at 0x7f15c52e64a8>"
      ]
     },
     "execution_count": 7,
     "metadata": {},
     "output_type": "execute_result"
    }
   ],
   "source": [
    "g.add_edge(\"x\", \"c\", {\"type\": {\"friends\", \"colleagues\"}, \"since\": 1993})"
   ]
  },
  {
   "cell_type": "code",
   "execution_count": 8,
   "metadata": {
    "collapsed": false
   },
   "outputs": [
    {
     "data": {
      "text/plain": [
       "['a', 'b', 'c', 'd', 'e', 'f', 'x']"
      ]
     },
     "execution_count": 8,
     "metadata": {},
     "output_type": "execute_result"
    }
   ],
   "source": [
    "g.nodes()"
   ]
  },
  {
   "cell_type": "code",
   "execution_count": 9,
   "metadata": {
    "collapsed": false
   },
   "outputs": [
    {
     "data": {
      "text/plain": [
       "[('a', 'c'),\n",
       " ('a', 'b'),\n",
       " ('d', 'b'),\n",
       " ('d', 'a'),\n",
       " ('e', 'a'),\n",
       " ('f', 'd'),\n",
       " ('x', 'c')]"
      ]
     },
     "execution_count": 9,
     "metadata": {},
     "output_type": "execute_result"
    }
   ],
   "source": [
    "g.edges()"
   ]
  },
  {
   "cell_type": "code",
   "execution_count": 10,
   "metadata": {
    "collapsed": false,
    "scrolled": true
   },
   "outputs": [
    {
     "data": {
      "text/plain": [
       "{'type': ['colleagues', 'friends']}"
      ]
     },
     "execution_count": 10,
     "metadata": {},
     "output_type": "execute_result"
    }
   ],
   "source": [
    "g.get_edge('a', 'b')"
   ]
  },
  {
   "cell_type": "markdown",
   "metadata": {},
   "source": [
    "### Cloning"
   ]
  },
  {
   "cell_type": "markdown",
   "metadata": {},
   "source": [
    "By default if we clone a node without specifying the new id for it, the id is automatically derived from the original one (however it takes some additional time to generate it, and some naming collisions may happen in the future when using clone operation inside of complex queries)"
   ]
  },
  {
   "cell_type": "code",
   "execution_count": 11,
   "metadata": {
    "collapsed": false,
    "scrolled": true
   },
   "outputs": [
    {
     "name": "stdout",
     "output_type": "stream",
     "text": [
      "Created clone by the name:  a1\n",
      "Properties of the resulting node: \n",
      "{'hobby': ['hiking', 'music'], 'id': 'a1', 'age': [23], 'weight': [75], 'name': ['Jack']}\n",
      "Properties of incident edges are also cloned, e.g: \n",
      "{'type': ['colleagues', 'friends']}\n"
     ]
    }
   ],
   "source": [
    "clone1_res = g.clone_node('a')\n",
    "print(\"Created clone by the name: \", clone1_res)\n",
    "print(\"Properties of the resulting node: \")\n",
    "print(g.get_node(clone1_res))\n",
    "print(\"Properties of incident edges are also cloned, e.g: \")\n",
    "print(g.get_edge(clone1_res, 'b'))"
   ]
  },
  {
   "cell_type": "markdown",
   "metadata": {},
   "source": [
    "We can specify the parameter `ignore_naming=True` to avoid automatic id derivation. In this case cloning uses Neo4j native ids (this mode is more suitable for using clone operation inside of complex queries as the Neo4j id have the guaranteed uniqueness)"
   ]
  },
  {
   "cell_type": "code",
   "execution_count": 12,
   "metadata": {
    "collapsed": false
   },
   "outputs": [
    {
     "name": "stdout",
     "output_type": "stream",
     "text": [
      "Here we ignore pretty naming of new clones\n",
      "\n",
      "Created clone by the name:  478\n",
      "Properties of the resulting node: \n",
      "{'hobby': ['hiking', 'music'], 'id': '478', 'age': [23], 'weight': [75], 'name': ['Jack']}\n",
      "Properties of incident edges are also cloned, e.g: \n",
      "{'type': ['colleagues', 'friends']}\n"
     ]
    }
   ],
   "source": [
    "print(\"Here we ignore pretty naming of new clones\\n\")\n",
    "clone2_res = g.clone_node('a', ignore_naming=True)\n",
    "print(\"Created clone by the name: \", clone2_res)\n",
    "print(\"Properties of the resulting node: \")\n",
    "print(g.get_node(clone2_res))\n",
    "print(\"Properties of incident edges are also cloned, e.g: \")\n",
    "print(g.get_edge(clone2_res, 'b'))"
   ]
  },
  {
   "cell_type": "markdown",
   "metadata": {},
   "source": [
    "The third option is to specify the id of the new node manually"
   ]
  },
  {
   "cell_type": "code",
   "execution_count": 13,
   "metadata": {
    "collapsed": false,
    "scrolled": true
   },
   "outputs": [
    {
     "name": "stdout",
     "output_type": "stream",
     "text": [
      "Created clone by the name:  a_clone\n",
      "Properties of the resulting node: \n",
      "{'hobby': ['hiking', 'music'], 'id': 'a_clone', 'age': [23], 'weight': [75], 'name': ['Jack']}\n",
      "Properties of incident edges are also cloned, e.g: \n",
      "{'type': ['colleagues', 'friends']}\n"
     ]
    }
   ],
   "source": [
    "clone3_res = g.clone_node('a', 'a_clone')\n",
    "print(\"Created clone by the name: \", clone3_res)\n",
    "print(\"Properties of the resulting node: \")\n",
    "print(g.get_node(clone3_res))\n",
    "print(\"Properties of incident edges are also cloned, e.g: \")\n",
    "print(g.get_edge(clone3_res, 'b'))"
   ]
  },
  {
   "cell_type": "code",
   "execution_count": 14,
   "metadata": {
    "collapsed": false,
    "scrolled": false
   },
   "outputs": [
    {
     "name": "stdout",
     "output_type": "stream",
     "text": [
      "Properties of the resulting node: a_b\n",
      "{'hobby': ['hiking', 'music', 'sport'], 'name': ['Jack', 'Bob'], 'id': 'a_b', 'age': [23, 24], 'weight': [75], 'height': [178]}\n"
     ]
    }
   ],
   "source": [
    "merge1_res = g.merge_nodes1([\"a\", \"b\"])\n",
    "print(\"Properties of the resulting node: {}\".format(merge1_res))\n",
    "print(g.get_node(merge1_res))"
   ]
  },
  {
   "cell_type": "code",
   "execution_count": 15,
   "metadata": {
    "collapsed": false
   },
   "outputs": [
    {
     "name": "stdout",
     "output_type": "stream",
     "text": [
      "Properties of the resulting node: a_b_d\n",
      "{'hobby': ['hiking', 'music', 'sport'], 'name': ['Jack', 'Bob', 'Paul'], 'id': 'a_b_d', 'age': [23, 24], 'weight': [75], 'height': [178]}\n"
     ]
    }
   ],
   "source": [
    "merge2_res = g.merge_nodes([\"a_b\", \"d\"])\n",
    "print(\"Properties of the resulting node: {}\".format(merge2_res))\n",
    "print(g.get_node(merge2_res))"
   ]
  },
  {
   "cell_type": "markdown",
   "metadata": {},
   "source": [
    "## Rewriting Neo4j graph"
   ]
  },
  {
   "cell_type": "markdown",
   "metadata": {},
   "source": [
    "### 1. Create an SqPO rewriting rule"
   ]
  },
  {
   "cell_type": "code",
   "execution_count": 16,
   "metadata": {
    "collapsed": true
   },
   "outputs": [],
   "source": [
    "pattern = nx.DiGraph()\n",
    "pattern.add_nodes_from([\"x\", \"y\", \"z\"])\n",
    "pattern.add_edges_from([(\"y\", \"x\"), (\"y\", \"z\"), (\"z\", \"z\")])"
   ]
  },
  {
   "cell_type": "code",
   "execution_count": 17,
   "metadata": {
    "collapsed": true
   },
   "outputs": [],
   "source": [
    "rule = Rule.from_transform(pattern)\n",
    "clone_name1, _ = rule.inject_clone_node(\"y\")\n",
    "clone_name2, _ = rule.inject_clone_node(\"y\")\n",
    "rule.inject_remove_edge(clone_name2, \"z\")\n",
    "rule.inject_remove_node(\"x\")\n",
    "rule.inject_add_node(\"new_node\")\n",
    "rule.inject_add_edge(\"new_node\", \"z\")"
   ]
  },
  {
   "cell_type": "code",
   "execution_count": 18,
   "metadata": {
    "collapsed": false
   },
   "outputs": [
    {
     "data": {
      "image/png": "[encoded data removed]",
      "text/plain": [
       "<matplotlib.figure.Figure at 0x7f15c52e5ac8>"
      ]
     },
     "metadata": {},
     "output_type": "display_data"
    }
   ],
   "source": [
    "plot_rule(rule)"
   ]
  },
  {
   "cell_type": "code",
   "execution_count": 19,
   "metadata": {
    "collapsed": false
   },
   "outputs": [
    {
     "name": "stdout",
     "output_type": "stream",
     "text": [
      "Instances:  [{'y': 'a1', 'x': 'c', 'z': 'a_b_d'}, {'y': '478', 'x': 'c', 'z': 'a_b_d'}, {'y': 'a_clone', 'x': 'c', 'z': 'a_b_d'}, {'y': 'e', 'x': 'a_clone', 'z': 'a_b_d'}, {'y': 'e', 'x': '478', 'z': 'a_b_d'}, {'y': 'e', 'x': 'a1', 'z': 'a_b_d'}]\n"
     ]
    }
   ],
   "source": [
    "instances = g.find_matching(pattern)\n",
    "print(\"Instances: \", instances)"
   ]
  },
  {
   "cell_type": "code",
   "execution_count": 20,
   "metadata": {
    "collapsed": false,
    "scrolled": false
   },
   "outputs": [
    {
     "name": "stdout",
     "output_type": "stream",
     "text": [
      "Rewriting rule to Cypher: \n",
      "\n",
      "// Match nodes and edges of the instance \n",
      "MATCH (lhs_x:node { id : 'c'}), (lhs_z:node { id : 'a_b_d'}), (lhs_y:node { id : 'a1'}) , (lhs_y)-[lhs_y_lhs_x:edge]->(lhs_x), (lhs_y)-[lhs_y_lhs_z:edge]->(lhs_z), (lhs_z)-[lhs_z_lhs_z:edge]->(lhs_z)\n",
      "\n",
      "// Cloning node 'y' of the lhs \n",
      "// Create clone corresponding to 'y2' of the preserved part\n",
      "// create a node corresponding to the clone\n",
      "CREATE (p_y2:node) \n",
      "WITH p_y2, toString(id(p_y2)) as p_y2_id, lhs_y.id as original_old, lhs_z_lhs_z, lhs_y_lhs_x, lhs_y, lhs_x, lhs_y_lhs_z, lhs_z \n",
      "// set the id property of the original node to NULL\n",
      "SET lhs_y.id = NULL\n",
      "// copy all the properties of the original node to the clone\n",
      "SET p_y2 = lhs_y\n",
      "// set id property of the clone to neo4j-generated id\n",
      "SET p_y2.id = toString(id(p_y2)), p_y2.count = NULL\n",
      "// set back the id property of the original node\n",
      "SET lhs_y.id = original_old\n",
      "WITH p_y2, toString(id(p_y2)) as p_y2_id, lhs_z_lhs_z, lhs_y_lhs_x, lhs_y, lhs_x, lhs_y_lhs_z, lhs_z \n",
      "WITH ['a_b_d'] as sucIgnore, [] as predIgnore, lhs_z_lhs_z, p_y2, lhs_y_lhs_x, lhs_y, p_y2_id, lhs_x, lhs_y_lhs_z, lhs_z \n",
      "// match successors and out-edges of a node to be cloned\n",
      "OPTIONAL MATCH (lhs_y)-[out_edge:edge]->(suc) \n",
      "WHERE NOT suc.id IS NULL AND NOT suc.id IN sucIgnore\n",
      "WITH collect({neighbor: suc, edge: out_edge}) as suc_maps, predIgnore, lhs_z_lhs_z, p_y2, lhs_y_lhs_x, lhs_y, p_y2_id, lhs_x, lhs_y_lhs_z, lhs_z \n",
      "// match predecessors and in-edges of a node to be cloned\n",
      "OPTIONAL MATCH (pred)-[in_edge:edge]->(lhs_y) \n",
      "WHERE NOT pred.id IS NULL AND NOT pred.id IN predIgnore\n",
      "WITH collect({neighbor: pred, edge: in_edge}) as pred_maps, lhs_z_lhs_z, p_y2, lhs_y_lhs_x, lhs_y, p_y2_id, suc_maps, lhs_x, lhs_y_lhs_z, lhs_z \n",
      "// copy all incident edges of the original node to the clone\n",
      "FOREACH (suc_map IN suc_maps | \n",
      "\tFOREACH (suc IN CASE WHEN suc_map.neighbor IS NOT NULL THEN [suc_map.neighbor] ELSE [] END |\n",
      "\t\tMERGE (p_y2)-[new_edge:edge]->(suc) \n",
      "\t\tSET new_edge = suc_map.edge))\n",
      "FOREACH (pred_map IN pred_maps | \n",
      "\tFOREACH (pred IN CASE WHEN pred_map.neighbor IS NOT NULL THEN [pred_map.neighbor] ELSE [] END |\n",
      "\t\tMERGE (pred)-[new_edge:edge]->(p_y2) \n",
      "\t\tSET new_edge = pred_map.edge))\n",
      "// copy self loop\n",
      "FOREACH (suc_map IN suc_maps | \n",
      "\tFOREACH (self_loop IN CASE WHEN suc_map.neighbor = lhs_y THEN [suc_map.edge] ELSE [] END |\n",
      "\t\tMERGE (p_y2)-[new_edge:edge]->(p_y2) \n",
      "\t\tSET new_edge = self_loop))\n",
      "WITH lhs_z_lhs_z, p_y2, lhs_y_lhs_x, lhs_y, p_y2_id, lhs_x, lhs_y_lhs_z, lhs_z \n",
      "OPTIONAL MATCH (lhs_y)-[out_typ_edge:typing]->(suc_typ:node)\n",
      "WITH collect({neighbor: suc_typ, edge: out_typ_edge}) as suc_typ_maps, lhs_z_lhs_z, p_y2, lhs_y_lhs_x, lhs_y, p_y2_id, lhs_x, lhs_y_lhs_z, lhs_z \n",
      "OPTIONAL MATCH (pred_typ:node)-[in_typ_edge:typing]->(lhs_y) \n",
      "WITH collect({neighbor: pred_typ, edge: in_typ_edge}) as pred_typ_maps, lhs_z_lhs_z, p_y2, lhs_y_lhs_x, lhs_y, p_y2_id, lhs_x, suc_typ_maps, lhs_y_lhs_z, lhs_z \n",
      "// copy all incident typing edges of the original node to the clone\n",
      "FOREACH (suc_map IN suc_typ_maps | \n",
      "\tFOREACH (suc IN CASE WHEN suc_map.neighbor IS NOT NULL THEN [suc_map.neighbor] ELSE [] END |\n",
      "\t\tMERGE (p_y2)-[new_edge:typing]->(suc) \n",
      "\t\tSET new_edge = suc_map.edge))\n",
      "FOREACH (pred_map IN pred_typ_maps | \n",
      "\tFOREACH (pred IN CASE WHEN pred_map.neighbor IS NOT NULL THEN [pred_map.neighbor] ELSE [] END |\n",
      "\t\tMERGE (pred)-[new_edge:typing]->(p_y2) \n",
      "\t\tSET new_edge = pred_map.edge))\n",
      "WITH lhs_z_lhs_z, p_y2, lhs_y_lhs_x, lhs_y, p_y2_id, lhs_x, lhs_y_lhs_z, lhs_z \n",
      "\n",
      "// Create clone corresponding to 'y1' of the preserved part\n",
      "// create a node corresponding to the clone\n",
      "CREATE (p_y1:node) \n",
      "WITH p_y1, toString(id(p_y1)) as p_y1_id, lhs_y.id as original_old, lhs_z_lhs_z, p_y2, lhs_y_lhs_x, lhs_y, p_y2_id, lhs_x, lhs_y_lhs_z, lhs_z \n",
      "// set the id property of the original node to NULL\n",
      "SET lhs_y.id = NULL\n",
      "// copy all the properties of the original node to the clone\n",
      "SET p_y1 = lhs_y\n",
      "// set id property of the clone to neo4j-generated id\n",
      "SET p_y1.id = toString(id(p_y1)), p_y1.count = NULL\n",
      "// set back the id property of the original node\n",
      "SET lhs_y.id = original_old\n",
      "WITH p_y1, toString(id(p_y1)) as p_y1_id, lhs_z_lhs_z, p_y2, lhs_y_lhs_x, lhs_y, p_y2_id, lhs_x, lhs_y_lhs_z, lhs_z \n",
      "WITH [] as sucIgnore, [] as predIgnore, lhs_z_lhs_z, p_y2, lhs_y_lhs_x, lhs_y, p_y1_id, p_y2_id, lhs_x, p_y1, lhs_y_lhs_z, lhs_z \n",
      "// match successors and out-edges of a node to be cloned\n",
      "OPTIONAL MATCH (lhs_y)-[out_edge:edge]->(suc) \n",
      "WHERE NOT suc.id IS NULL AND NOT suc.id IN sucIgnore\n",
      "WITH collect({neighbor: suc, edge: out_edge}) as suc_maps, predIgnore, lhs_z_lhs_z, p_y2, lhs_y_lhs_x, lhs_y, p_y1_id, p_y2_id, lhs_x, p_y1, lhs_y_lhs_z, lhs_z \n",
      "// match predecessors and in-edges of a node to be cloned\n",
      "OPTIONAL MATCH (pred)-[in_edge:edge]->(lhs_y) \n",
      "WHERE NOT pred.id IS NULL AND NOT pred.id IN predIgnore\n",
      "WITH collect({neighbor: pred, edge: in_edge}) as pred_maps, lhs_z_lhs_z, p_y2, lhs_y_lhs_x, lhs_y, p_y1_id, p_y2_id, suc_maps, lhs_x, p_y1, lhs_y_lhs_z, lhs_z \n",
      "// copy all incident edges of the original node to the clone\n",
      "FOREACH (suc_map IN suc_maps | \n",
      "\tFOREACH (suc IN CASE WHEN suc_map.neighbor IS NOT NULL THEN [suc_map.neighbor] ELSE [] END |\n",
      "\t\tMERGE (p_y1)-[new_edge:edge]->(suc) \n",
      "\t\tSET new_edge = suc_map.edge))\n",
      "FOREACH (pred_map IN pred_maps | \n",
      "\tFOREACH (pred IN CASE WHEN pred_map.neighbor IS NOT NULL THEN [pred_map.neighbor] ELSE [] END |\n",
      "\t\tMERGE (pred)-[new_edge:edge]->(p_y1) \n",
      "\t\tSET new_edge = pred_map.edge))\n",
      "// copy self loop\n",
      "FOREACH (suc_map IN suc_maps | \n",
      "\tFOREACH (self_loop IN CASE WHEN suc_map.neighbor = lhs_y THEN [suc_map.edge] ELSE [] END |\n",
      "\t\tMERGE (p_y1)-[new_edge:edge]->(p_y1) \n",
      "\t\tSET new_edge = self_loop))\n",
      "WITH lhs_z_lhs_z, p_y2, lhs_y_lhs_x, lhs_y, p_y1_id, p_y2_id, lhs_x, p_y1, lhs_y_lhs_z, lhs_z \n",
      "OPTIONAL MATCH (lhs_y)-[out_typ_edge:typing]->(suc_typ:node)\n",
      "WITH collect({neighbor: suc_typ, edge: out_typ_edge}) as suc_typ_maps, lhs_z_lhs_z, p_y2, lhs_y_lhs_x, lhs_y, p_y1_id, p_y2_id, lhs_x, p_y1, lhs_y_lhs_z, lhs_z \n",
      "OPTIONAL MATCH (pred_typ:node)-[in_typ_edge:typing]->(lhs_y) \n",
      "WITH collect({neighbor: pred_typ, edge: in_typ_edge}) as pred_typ_maps, lhs_z_lhs_z, p_y2, lhs_y_lhs_x, lhs_y, p_y1_id, p_y2_id, lhs_x, suc_typ_maps, p_y1, lhs_y_lhs_z, lhs_z \n",
      "// copy all incident typing edges of the original node to the clone\n",
      "FOREACH (suc_map IN suc_typ_maps | \n",
      "\tFOREACH (suc IN CASE WHEN suc_map.neighbor IS NOT NULL THEN [suc_map.neighbor] ELSE [] END |\n",
      "\t\tMERGE (p_y1)-[new_edge:typing]->(suc) \n",
      "\t\tSET new_edge = suc_map.edge))\n",
      "FOREACH (pred_map IN pred_typ_maps | \n",
      "\tFOREACH (pred IN CASE WHEN pred_map.neighbor IS NOT NULL THEN [pred_map.neighbor] ELSE [] END |\n",
      "\t\tMERGE (pred)-[new_edge:typing]->(p_y1) \n",
      "\t\tSET new_edge = pred_map.edge))\n",
      "WITH lhs_z_lhs_z, p_y2, lhs_y_lhs_x, lhs_y, p_y1_id, p_y2_id, lhs_x, p_y1, lhs_y_lhs_z, lhs_z \n",
      "\n",
      "// Removing node 'x' of the lhs \n",
      "DETACH DELETE lhs_x\n",
      "\n",
      "WITH lhs_z_lhs_z, p_y2, lhs_y_lhs_x, lhs_y, p_y1_id, p_y2_id, p_y1, lhs_y_lhs_z, lhs_z // Renaming vars to correspond to the vars of P\n",
      "WITH lhs_z_lhs_z, p_y2, lhs_y_lhs_x, p_y1_id, p_y2_id, p_y1, lhs_y_lhs_z , lhs_z as p_z, lhs_y as p_y \n",
      "\n",
      "// Adding node 'new_node' from the rhs \n",
      "CREATE (rhs_new_node:node) \n",
      "SET rhs_new_node.id = toString(id(rhs_new_node)) \n",
      "WITH toString(id(rhs_new_node)) as rhs_new_node_id , lhs_z_lhs_z, p_y2, lhs_y_lhs_x, p_y, p_y1_id, p_z, p_y2_id, rhs_new_node, p_y1, lhs_y_lhs_z\n",
      "\n",
      "\n",
      "// Renaming vars to correspond to the vars of rhs\n",
      "WITH lhs_z_lhs_z, lhs_y_lhs_x, p_y1_id, p_y2_id, rhs_new_node, lhs_y_lhs_z, rhs_new_node_id , p_z as rhs_z, p_y1 as rhs_y1, p_y2 as rhs_y2, p_y as rhs_y \n",
      "\n",
      "// Adding properties to the node 'new_node' from the rhs \n",
      "// Adding edge 'new_node->z' from the rhs \n",
      "MERGE (rhs_new_node)-[rhs_new_node_rhs_z:edge {  }]->(rhs_z)\n",
      "\n",
      "\n",
      "// Return statement \n",
      "RETURN lhs_z_lhs_z, lhs_y_lhs_x, p_y1_id, rhs_z, p_y2_id, rhs_y1, rhs_y, rhs_new_node, lhs_y_lhs_z, rhs_new_node_id, rhs_y2\n",
      "\n",
      "\n",
      "\n",
      "Rewriting rule to commands: \n",
      "\n",
      "CLONE y AS y2.\n",
      "CLONE y AS y1.\n",
      "DELETE_NODE x.\n",
      "DELETE_EDGE y2 z.\n",
      "ADD_NODE new_node {}.\n",
      "ADD_EDGE new_node z {}.\n",
      "ADD_NODE_ATTRS new_node {}.\n",
      "\n"
     ]
    }
   ],
   "source": [
    "rhs_g = g.rewrite(rule, instances[0])\n",
    "print(\"\\n\\nRewriting rule to commands: \\n\")\n",
    "print(rule.to_commands())"
   ]
  },
  {
   "cell_type": "code",
   "execution_count": 21,
   "metadata": {
    "collapsed": false
   },
   "outputs": [
    {
     "data": {
      "text/plain": [
       "{'new_node': '482', 'y': 'a1', 'y1': '481', 'y2': '480', 'z': 'a_b_d'}"
      ]
     },
     "execution_count": 21,
     "metadata": {},
     "output_type": "execute_result"
    }
   ],
   "source": [
    "rhs_g"
   ]
  }
 ],
 "metadata": {
  "anaconda-cloud": {},
  "kernelspec": {
   "display_name": "Python [default]",
   "language": "python",
   "name": "python3"
  },
  "language_info": {
   "codemirror_mode": {
    "name": "ipython",
    "version": 3
   },
   "file_extension": ".py",
   "mimetype": "text/x-python",
   "name": "python",
   "nbconvert_exporter": "python",
   "pygments_lexer": "ipython3",
   "version": "3.5.2"
  }
 },
 "nbformat": 4,
 "nbformat_minor": 2
}
