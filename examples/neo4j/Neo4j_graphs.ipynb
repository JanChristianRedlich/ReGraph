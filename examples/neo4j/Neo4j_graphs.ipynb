{
 "cells": [
  {
   "cell_type": "markdown",
   "metadata": {},
   "source": [
    "# Examples of utils provided by ReGraph's neo4j module"
   ]
  },
  {
   "cell_type": "code",
   "execution_count": 1,
   "metadata": {
    "collapsed": true
   },
   "outputs": [],
   "source": [
    "import networkx as nx\n",
    "\n",
    "from regraph import Rule, plot_rule\n",
    "from regraph.neo4j.graphs import Neo4jGraph\n",
    "from regraph.neo4j.cypher_utils import *"
   ]
  },
  {
   "cell_type": "markdown",
   "metadata": {},
   "source": [
    "## Initializing Neo4j graph\n",
    "\n",
    "0. When installing neo4j you will be asked to choose login/password for you dbs (here its \"neo4j\"/\"admin\"), if you choose other -- change in the cell below.\n",
    "1. To start neo4j server run `sudo service neo4j start`\n",
    "2. Check status by running `sudo service neo4j status`. Here you can check the _bolt_ port, change the cell below if different from 7687\n",
    "3. You can query the db by using the neo4j browser, the address can be found also in the result of 'status', e.g. \"Remote interface available at http://localhost:7474/\"."
   ]
  },
  {
   "cell_type": "code",
   "execution_count": 2,
   "metadata": {
    "collapsed": true
   },
   "outputs": [],
   "source": [
    "# initialize the neo4j driver, wrappped into Neo4jGraph object\n",
    "g = Neo4jGraph(uri=\"bolt://localhost:7687\", user=\"neo4j\", password=\"admin\")"
   ]
  },
  {
   "cell_type": "code",
   "execution_count": 3,
   "metadata": {
    "collapsed": true
   },
   "outputs": [],
   "source": [
    "# here we clear the db\n",
    "res = g._clear()"
   ]
  },
  {
   "cell_type": "code",
   "execution_count": 4,
   "metadata": {},
   "outputs": [
    {
     "data": {
      "text/plain": [
       "<neo4j.v1.result.BoltStatementResult at 0x7fe8e1eee048>"
      ]
     },
     "execution_count": 4,
     "metadata": {},
     "output_type": "execute_result"
    }
   ],
   "source": [
    "nodes = [\n",
    "    (\"a\", {\"name\": \"Jack\", \"age\": 23, \"hobby\": {\"hiking\", \"music\"}, \"weight\": 75}), \n",
    "    (\"b\", {\"name\": \"Bob\", \"age\": 24, \"hobby\": {\"sport\", \"music\"}, \"height\": 178}),\n",
    "    \"c\", \n",
    "    (\"d\", {\"name\": \"Paul\"}), \"e\", \"f\"\n",
    "]\n",
    "edges = [\n",
    "    (\"a\", \"b\", {\"type\": {\"friends\", \"colleagues\"}}), \n",
    "    (\"d\", \"b\", {\"type\": \"enemies\"}), \n",
    "    (\"a\", \"c\"),\n",
    "    (\"d\", \"a\", {\"type\": \"friends\"}),\n",
    "    (\"e\", \"a\"), \n",
    "    (\"f\", \"d\")\n",
    "]\n",
    "g.add_nodes_from(nodes)\n",
    "g.add_edges_from(edges)"
   ]
  },
  {
   "cell_type": "code",
   "execution_count": 5,
   "metadata": {},
   "outputs": [
    {
     "name": "stdout",
     "output_type": "stream",
     "text": [
      "MATCH (n:node { id : 'a' })\n",
      "RETURN n\n",
      "\n",
      "{'name': ['Jack'], 'weight': [75], 'id': 'a', 'age': [23], 'hobby': ['hiking', 'music']}\n"
     ]
    }
   ],
   "source": [
    "print(get_node(\"a\", \"node\"))\n",
    "print(g.get_node(\"a\"))"
   ]
  },
  {
   "cell_type": "markdown",
   "metadata": {},
   "source": [
    "## Primitive operations on Neo4j graph"
   ]
  },
  {
   "cell_type": "markdown",
   "metadata": {},
   "source": [
    "### Basic operations"
   ]
  },
  {
   "cell_type": "code",
   "execution_count": 6,
   "metadata": {
    "scrolled": true
   },
   "outputs": [
    {
     "data": {
      "text/plain": [
       "<neo4j.v1.result.BoltStatementResult at 0x7fe8e1ed3b70>"
      ]
     },
     "execution_count": 6,
     "metadata": {},
     "output_type": "execute_result"
    }
   ],
   "source": [
    "g.add_node(\"x\", {\"name\": \"Roberto\"})"
   ]
  },
  {
   "cell_type": "code",
   "execution_count": 7,
   "metadata": {},
   "outputs": [
    {
     "data": {
      "text/plain": [
       "<neo4j.v1.result.BoltStatementResult at 0x7fe8e1ed37f0>"
      ]
     },
     "execution_count": 7,
     "metadata": {},
     "output_type": "execute_result"
    }
   ],
   "source": [
    "g.add_edge(\"x\", \"c\", {\"type\": {\"friends\", \"colleagues\"}, \"since\": 1993})"
   ]
  },
  {
   "cell_type": "code",
   "execution_count": 8,
   "metadata": {},
   "outputs": [
    {
     "data": {
      "text/plain": [
       "['a', 'b', 'c', 'd', 'e', 'f', 'x']"
      ]
     },
     "execution_count": 8,
     "metadata": {},
     "output_type": "execute_result"
    }
   ],
   "source": [
    "g.nodes()"
   ]
  },
  {
   "cell_type": "code",
   "execution_count": 9,
   "metadata": {},
   "outputs": [
    {
     "data": {
      "text/plain": [
       "[('a', 'b'),\n",
       " ('a', 'c'),\n",
       " ('d', 'b'),\n",
       " ('d', 'a'),\n",
       " ('e', 'a'),\n",
       " ('f', 'd'),\n",
       " ('x', 'c')]"
      ]
     },
     "execution_count": 9,
     "metadata": {},
     "output_type": "execute_result"
    }
   ],
   "source": [
    "g.edges()"
   ]
  },
  {
   "cell_type": "code",
   "execution_count": 10,
   "metadata": {
    "scrolled": true
   },
   "outputs": [
    {
     "data": {
      "text/plain": [
       "{'type': ['friends', 'colleagues']}"
      ]
     },
     "execution_count": 10,
     "metadata": {},
     "output_type": "execute_result"
    }
   ],
   "source": [
    "g.get_edge('a', 'b')"
   ]
  },
  {
   "cell_type": "markdown",
   "metadata": {},
   "source": [
    "### Cloning"
   ]
  },
  {
   "cell_type": "markdown",
   "metadata": {},
   "source": [
    "By default if we clone a node without specifying the new id for it, the id is automatically derived from the original one (however it takes some additional time to generate it, and some naming collisions may happen in the future when using clone operation inside of complex queries)"
   ]
  },
  {
   "cell_type": "code",
   "execution_count": 11,
   "metadata": {
    "scrolled": true
   },
   "outputs": [
    {
     "name": "stdout",
     "output_type": "stream",
     "text": [
      "Created clone by the name:  a1\n",
      "Properties of the resulting node: \n",
      "{'name': ['Jack'], 'weight': [75], 'id': 'a1', 'age': [23], 'hobby': ['hiking', 'music']}\n",
      "Properties of incident edges are also cloned, e.g: \n",
      "{'type': ['friends', 'colleagues']}\n"
     ]
    }
   ],
   "source": [
    "clone1_res = g.clone_node('a')\n",
    "print(\"Created clone by the name: \", clone1_res)\n",
    "print(\"Properties of the resulting node: \")\n",
    "print(g.get_node(clone1_res))\n",
    "print(\"Properties of incident edges are also cloned, e.g: \")\n",
    "print(g.get_edge(clone1_res, 'b'))"
   ]
  },
  {
   "cell_type": "markdown",
   "metadata": {},
   "source": [
    "We can specify the parameter `ignore_naming=True` to avoid automatic id derivation. In this case cloning uses Neo4j native ids (this mode is more suitable for using clone operation inside of complex queries as the Neo4j id have the guaranteed uniqueness)"
   ]
  },
  {
   "cell_type": "code",
   "execution_count": 12,
   "metadata": {},
   "outputs": [
    {
     "name": "stdout",
     "output_type": "stream",
     "text": [
      "Here we ignore pretty naming of new clones\n",
      "\n",
      "Created clone by the name:  63\n",
      "Properties of the resulting node: \n",
      "{'name': ['Jack'], 'weight': [75], 'id': '63', 'age': [23], 'hobby': ['hiking', 'music']}\n",
      "Properties of incident edges are also cloned, e.g: \n",
      "{'type': ['friends', 'colleagues']}\n"
     ]
    }
   ],
   "source": [
    "print(\"Here we ignore pretty naming of new clones\\n\")\n",
    "clone2_res = g.clone_node('a', ignore_naming=True)\n",
    "print(\"Created clone by the name: \", clone2_res)\n",
    "print(\"Properties of the resulting node: \")\n",
    "print(g.get_node(clone2_res))\n",
    "print(\"Properties of incident edges are also cloned, e.g: \")\n",
    "print(g.get_edge(clone2_res, 'b'))"
   ]
  },
  {
   "cell_type": "markdown",
   "metadata": {},
   "source": [
    "The third option is to specify the id of the new node manually"
   ]
  },
  {
   "cell_type": "code",
   "execution_count": 13,
   "metadata": {
    "scrolled": true
   },
   "outputs": [
    {
     "name": "stdout",
     "output_type": "stream",
     "text": [
      "Created clone by the name:  a_clone\n",
      "Properties of the resulting node: \n",
      "{'name': ['Jack'], 'weight': [75], 'id': 'a_clone', 'age': [23], 'hobby': ['hiking', 'music']}\n",
      "Properties of incident edges are also cloned, e.g: \n",
      "{'type': ['friends', 'colleagues']}\n"
     ]
    }
   ],
   "source": [
    "clone3_res = g.clone_node('a', 'a_clone')\n",
    "print(\"Created clone by the name: \", clone3_res)\n",
    "print(\"Properties of the resulting node: \")\n",
    "print(g.get_node(clone3_res))\n",
    "print(\"Properties of incident edges are also cloned, e.g: \")\n",
    "print(g.get_edge(clone3_res, 'b'))"
   ]
  },
  {
   "cell_type": "code",
   "execution_count": 14,
   "metadata": {
    "scrolled": false
   },
   "outputs": [
    {
     "name": "stdout",
     "output_type": "stream",
     "text": [
      "Properties of the resulting node: a_b\n",
      "{'name': ['Jack', 'Bob'], 'weight': [75], 'id': 'a_b', 'age': [23, 24], 'height': [178], 'hobby': ['hiking', 'music', 'sport']}\n"
     ]
    }
   ],
   "source": [
    "merge1_res = g.merge_nodes1([\"a\", \"b\"])\n",
    "print(\"Properties of the resulting node: {}\".format(merge1_res))\n",
    "print(g.get_node(merge1_res))"
   ]
  },
  {
   "cell_type": "code",
   "execution_count": 15,
   "metadata": {},
   "outputs": [
    {
     "name": "stdout",
     "output_type": "stream",
     "text": [
      "Properties of the resulting node: a_b_d\n",
      "{'name': ['Jack', 'Bob', 'Paul'], 'weight': [75], 'id': 'a_b_d', 'age': [23, 24], 'height': [178], 'hobby': ['hiking', 'music', 'sport']}\n"
     ]
    }
   ],
   "source": [
    "merge2_res = g.merge_nodes([\"a_b\", \"d\"])\n",
    "print(\"Properties of the resulting node: {}\".format(merge2_res))\n",
    "print(g.get_node(merge2_res))"
   ]
  },
  {
   "cell_type": "markdown",
   "metadata": {},
   "source": [
    "## Rewriting Neo4j graph"
   ]
  },
  {
   "cell_type": "markdown",
   "metadata": {},
   "source": [
    "### 1. Create an SqPO rewriting rule"
   ]
  },
  {
   "cell_type": "code",
   "execution_count": 16,
   "metadata": {
    "collapsed": true
   },
   "outputs": [],
   "source": [
    "pattern = nx.DiGraph()\n",
    "pattern.add_nodes_from([\"x\", \"y\", \"z\"])\n",
    "pattern.add_edges_from([(\"y\", \"x\"), (\"y\", \"z\"), (\"z\", \"z\")])"
   ]
  },
  {
   "cell_type": "code",
   "execution_count": 17,
   "metadata": {
    "collapsed": true
   },
   "outputs": [],
   "source": [
    "rule = Rule.from_transform(pattern)\n",
    "clone_name1, _ = rule.inject_clone_node(\"y\")\n",
    "clone_name2, _ = rule.inject_clone_node(\"y\")\n",
    "rule.inject_remove_edge(clone_name2, \"z\")\n",
    "rule.inject_remove_node(\"x\")\n",
    "rule.inject_add_node(\"new_node\")\n",
    "rule.inject_add_edge(\"new_node\", \"z\")"
   ]
  },
  {
   "cell_type": "code",
   "execution_count": 18,
   "metadata": {},
   "outputs": [
    {
     "name": "stderr",
     "output_type": "stream",
     "text": [
      "/home/eugenia/anaconda3/lib/python3.6/site-packages/matplotlib/cbook/deprecation.py:107: MatplotlibDeprecationWarning: Passing one of 'on', 'true', 'off', 'false' as a boolean is deprecated; use an actual boolean (True/False) instead.\n",
      "  warnings.warn(message, mplDeprecation, stacklevel=1)\n",
      "/home/eugenia/anaconda3/lib/python3.6/site-packages/networkx-1.11-py3.6.egg/networkx/drawing/nx_pylab.py:522: MatplotlibDeprecationWarning: The is_string_like function was deprecated in version 2.1.\n",
      "  if not cb.is_string_like(edge_color) \\\n",
      "/home/eugenia/anaconda3/lib/python3.6/site-packages/networkx-1.11-py3.6.egg/networkx/drawing/nx_pylab.py:543: MatplotlibDeprecationWarning: The is_string_like function was deprecated in version 2.1.\n",
      "  if cb.is_string_like(edge_color) or len(edge_color) == 1:\n",
      "/home/eugenia/anaconda3/lib/python3.6/site-packages/networkx-1.11-py3.6.egg/networkx/drawing/nx_pylab.py:724: MatplotlibDeprecationWarning: The is_string_like function was deprecated in version 2.1.\n",
      "  if not cb.is_string_like(label):\n"
     ]
    },
    {
     "data": {
      "image/png": "[encoded data removed]",
      "text/plain": [
       "<Figure size 1008x216 with 3 Axes>"
      ]
     },
     "metadata": {},
     "output_type": "display_data"
    }
   ],
   "source": [
    "plot_rule(rule)"
   ]
  },
  {
   "cell_type": "code",
   "execution_count": 19,
   "metadata": {},
   "outputs": [
    {
     "name": "stdout",
     "output_type": "stream",
     "text": [
      "Instances:  [{'x': 'c', 'y': 'a1', 'z': 'a_b_d'}, {'x': 'c', 'y': '63', 'z': 'a_b_d'}, {'x': 'c', 'y': 'a_clone', 'z': 'a_b_d'}, {'x': 'a_clone', 'y': 'e', 'z': 'a_b_d'}, {'x': '63', 'y': 'e', 'z': 'a_b_d'}, {'x': 'a1', 'y': 'e', 'z': 'a_b_d'}]\n"
     ]
    }
   ],
   "source": [
    "instances = g.find_matching(pattern)\n",
    "print(\"Instances: \", instances)"
   ]
  },
  {
   "cell_type": "code",
   "execution_count": 20,
   "metadata": {
    "scrolled": false
   },
   "outputs": [
    {
     "name": "stdout",
     "output_type": "stream",
     "text": [
      "// Match nodes and edges of the instance \n",
      "MATCH (lhs_x:node { id : 'c'}) , (lhs_y:node { id : 'a1'}) , (lhs_z:node { id : 'a_b_d'})  , (lhs_y)-[lhs_y_lhs_x:edge]->(lhs_x), (lhs_y)-[lhs_y_lhs_z:edge]->(lhs_z), (lhs_z)-[lhs_z_lhs_z:edge]->(lhs_z)\n",
      "\n",
      "// Cloning node 'y' of the lhs \n",
      "// Create clone corresponding to 'y1' of the preserved part\n",
      "// create a node corresponding to the clone\n",
      "CREATE (p_y1:node) \n",
      "WITH p_y1, toString(id(p_y1)) as p_y1_id, lhs_y.id as original_old, lhs_y, lhs_z_lhs_z, lhs_x, lhs_z, lhs_y_lhs_z, lhs_y_lhs_x \n",
      "// set the id property of the original node to NULL\n",
      "SET lhs_y.id = NULL\n",
      "// copy all the properties of the original node to the clone\n",
      "SET p_y1 = lhs_y\n",
      "// set id property of the clone to neo4j-generated id\n",
      "SET p_y1.id = toString(id(p_y1)), p_y1.count = NULL\n",
      "// set back the id property of the original node\n",
      "SET lhs_y.id = original_old\n",
      "WITH p_y1, toString(id(p_y1)) as p_y1_id, lhs_y, lhs_z_lhs_z, lhs_x, lhs_z, lhs_y_lhs_z, lhs_y_lhs_x \n",
      "WITH [] as sucIgnore, [] as predIgnore, lhs_y, p_y1_id, lhs_z_lhs_z, p_y1, lhs_x, lhs_z, lhs_y_lhs_z, lhs_y_lhs_x \n",
      "// match successors and out-edges of a node to be cloned\n",
      "OPTIONAL MATCH (lhs_y)-[out_edge:edge]->(suc) \n",
      "WHERE NOT suc.id IS NULL AND NOT suc.id IN sucIgnore\n",
      "WITH collect({neighbor: suc, edge: out_edge}) as suc_maps, predIgnore, lhs_y, p_y1_id, lhs_z_lhs_z, p_y1, lhs_x, lhs_z, lhs_y_lhs_z, lhs_y_lhs_x \n",
      "// match predecessors and in-edges of a node to be cloned\n",
      "OPTIONAL MATCH (pred)-[in_edge:edge]->(lhs_y) \n",
      "WHERE NOT pred.id IS NULL AND NOT pred.id IN predIgnore\n",
      "WITH collect({neighbor: pred, edge: in_edge}) as pred_maps, lhs_y, suc_maps, p_y1_id, lhs_z_lhs_z, p_y1, lhs_x, lhs_z, lhs_y_lhs_z, lhs_y_lhs_x \n",
      "// copy all incident edges of the original node to the clone\n",
      "FOREACH (suc_map IN suc_maps | \n",
      "\tFOREACH (suc IN CASE WHEN suc_map.neighbor IS NOT NULL THEN [suc_map.neighbor] ELSE [] END |\n",
      "\t\tMERGE (p_y1)-[new_edge:edge]->(suc) \n",
      "\t\tSET new_edge = suc_map.edge))\n",
      "FOREACH (pred_map IN pred_maps | \n",
      "\tFOREACH (pred IN CASE WHEN pred_map.neighbor IS NOT NULL THEN [pred_map.neighbor] ELSE [] END |\n",
      "\t\tMERGE (pred)-[new_edge:edge]->(p_y1) \n",
      "\t\tSET new_edge = pred_map.edge))\n",
      "// copy self loop\n",
      "FOREACH (suc_map IN suc_maps | \n",
      "\tFOREACH (self_loop IN CASE WHEN suc_map.neighbor = lhs_y THEN [suc_map.edge] ELSE [] END |\n",
      "\t\tMERGE (p_y1)-[new_edge:edge]->(p_y1) \n",
      "\t\tSET new_edge = self_loop))\n",
      "WITH lhs_y, p_y1_id, lhs_z_lhs_z, p_y1, lhs_x, lhs_z, lhs_y_lhs_z, lhs_y_lhs_x \n",
      "OPTIONAL MATCH (lhs_y)-[out_typ_edge:typing]->(suc_typ)\n",
      "WITH collect({neighbor: suc_typ, edge: out_typ_edge}) as suc_typ_maps, lhs_y, p_y1_id, lhs_z_lhs_z, p_y1, lhs_x, lhs_z, lhs_y_lhs_z, lhs_y_lhs_x \n",
      "OPTIONAL MATCH (pred_typ)-[in_typ_edge:typing]->(lhs_y) \n",
      "WITH collect({neighbor: pred_typ, edge: in_typ_edge}) as pred_typ_maps, lhs_y, p_y1_id, suc_typ_maps, lhs_z_lhs_z, p_y1, lhs_x, lhs_z, lhs_y_lhs_z, lhs_y_lhs_x \n",
      "// copy all incident typing edges of the original node to the clone\n",
      "FOREACH (suc_map IN suc_typ_maps | \n",
      "\tFOREACH (suc IN CASE WHEN suc_map.neighbor IS NOT NULL THEN [suc_map.neighbor] ELSE [] END |\n",
      "\t\tMERGE (p_y1)-[new_edge:typing]->(suc) \n",
      "\t\tSET new_edge = suc_map.edge))\n",
      "FOREACH (pred_map IN pred_typ_maps | \n",
      "\tFOREACH (pred IN CASE WHEN pred_map.neighbor IS NOT NULL THEN [pred_map.neighbor] ELSE [] END |\n",
      "\t\tMERGE (pred)-[new_edge:typing]->(p_y1) \n",
      "\t\tSET new_edge = pred_map.edge))\n",
      "WITH lhs_y, p_y1_id, lhs_z_lhs_z, p_y1, lhs_x, lhs_z, lhs_y_lhs_z, lhs_y_lhs_x \n",
      "\n",
      "// Create clone corresponding to 'y2' of the preserved part\n",
      "// create a node corresponding to the clone\n",
      "CREATE (p_y2:node) \n",
      "WITH p_y2, toString(id(p_y2)) as p_y2_id, lhs_y.id as original_old, lhs_y, p_y1_id, lhs_z_lhs_z, p_y1, lhs_x, lhs_z, lhs_y_lhs_z, lhs_y_lhs_x \n",
      "// set the id property of the original node to NULL\n",
      "SET lhs_y.id = NULL\n",
      "// copy all the properties of the original node to the clone\n",
      "SET p_y2 = lhs_y\n",
      "// set id property of the clone to neo4j-generated id\n",
      "SET p_y2.id = toString(id(p_y2)), p_y2.count = NULL\n",
      "// set back the id property of the original node\n",
      "SET lhs_y.id = original_old\n",
      "WITH p_y2, toString(id(p_y2)) as p_y2_id, lhs_y, p_y1_id, lhs_z_lhs_z, p_y1, lhs_x, lhs_z, lhs_y_lhs_z, lhs_y_lhs_x \n",
      "WITH ['a_b_d'] as sucIgnore, [] as predIgnore, lhs_y, p_y2_id, p_y1_id, lhs_z_lhs_z, p_y1, p_y2, lhs_x, lhs_z, lhs_y_lhs_z, lhs_y_lhs_x \n",
      "// match successors and out-edges of a node to be cloned\n",
      "OPTIONAL MATCH (lhs_y)-[out_edge:edge]->(suc) \n",
      "WHERE NOT suc.id IS NULL AND NOT suc.id IN sucIgnore\n",
      "WITH collect({neighbor: suc, edge: out_edge}) as suc_maps, predIgnore, lhs_y, p_y2_id, p_y1_id, lhs_z_lhs_z, p_y1, p_y2, lhs_x, lhs_z, lhs_y_lhs_z, lhs_y_lhs_x \n",
      "// match predecessors and in-edges of a node to be cloned\n",
      "OPTIONAL MATCH (pred)-[in_edge:edge]->(lhs_y) \n",
      "WHERE NOT pred.id IS NULL AND NOT pred.id IN predIgnore\n",
      "WITH collect({neighbor: pred, edge: in_edge}) as pred_maps, lhs_y, p_y2_id, suc_maps, p_y1_id, lhs_z_lhs_z, p_y1, p_y2, lhs_x, lhs_z, lhs_y_lhs_z, lhs_y_lhs_x \n",
      "// copy all incident edges of the original node to the clone\n",
      "FOREACH (suc_map IN suc_maps | \n",
      "\tFOREACH (suc IN CASE WHEN suc_map.neighbor IS NOT NULL THEN [suc_map.neighbor] ELSE [] END |\n",
      "\t\tMERGE (p_y2)-[new_edge:edge]->(suc) \n",
      "\t\tSET new_edge = suc_map.edge))\n",
      "FOREACH (pred_map IN pred_maps | \n",
      "\tFOREACH (pred IN CASE WHEN pred_map.neighbor IS NOT NULL THEN [pred_map.neighbor] ELSE [] END |\n",
      "\t\tMERGE (pred)-[new_edge:edge]->(p_y2) \n",
      "\t\tSET new_edge = pred_map.edge))\n",
      "// copy self loop\n",
      "FOREACH (suc_map IN suc_maps | \n",
      "\tFOREACH (self_loop IN CASE WHEN suc_map.neighbor = lhs_y THEN [suc_map.edge] ELSE [] END |\n",
      "\t\tMERGE (p_y2)-[new_edge:edge]->(p_y2) \n",
      "\t\tSET new_edge = self_loop))\n",
      "WITH lhs_y, p_y2_id, p_y1_id, lhs_z_lhs_z, p_y1, p_y2, lhs_x, lhs_z, lhs_y_lhs_z, lhs_y_lhs_x \n",
      "OPTIONAL MATCH (lhs_y)-[out_typ_edge:typing]->(suc_typ)\n",
      "WITH collect({neighbor: suc_typ, edge: out_typ_edge}) as suc_typ_maps, lhs_y, p_y2_id, p_y1_id, lhs_z_lhs_z, p_y1, p_y2, lhs_x, lhs_z, lhs_y_lhs_z, lhs_y_lhs_x \n",
      "OPTIONAL MATCH (pred_typ)-[in_typ_edge:typing]->(lhs_y) \n",
      "WITH collect({neighbor: pred_typ, edge: in_typ_edge}) as pred_typ_maps, lhs_y, p_y2_id, p_y1_id, suc_typ_maps, lhs_z_lhs_z, p_y1, p_y2, lhs_x, lhs_z, lhs_y_lhs_z, lhs_y_lhs_x \n",
      "// copy all incident typing edges of the original node to the clone\n",
      "FOREACH (suc_map IN suc_typ_maps | \n",
      "\tFOREACH (suc IN CASE WHEN suc_map.neighbor IS NOT NULL THEN [suc_map.neighbor] ELSE [] END |\n",
      "\t\tMERGE (p_y2)-[new_edge:typing]->(suc) \n",
      "\t\tSET new_edge = suc_map.edge))\n",
      "FOREACH (pred_map IN pred_typ_maps | \n",
      "\tFOREACH (pred IN CASE WHEN pred_map.neighbor IS NOT NULL THEN [pred_map.neighbor] ELSE [] END |\n",
      "\t\tMERGE (pred)-[new_edge:typing]->(p_y2) \n",
      "\t\tSET new_edge = pred_map.edge))\n",
      "WITH lhs_y, p_y2_id, p_y1_id, lhs_z_lhs_z, p_y1, p_y2, lhs_x, lhs_z, lhs_y_lhs_z, lhs_y_lhs_x \n",
      "\n",
      "// Removing node 'x' of the lhs \n",
      "DETACH DELETE lhs_x\n",
      "\n",
      "WITH lhs_y, p_y2_id, p_y1_id, lhs_z_lhs_z, p_y1, p_y2, lhs_z, lhs_y_lhs_z, lhs_y_lhs_x // Renaming vars to correspond to the vars of P\n",
      "WITH p_y2_id, p_y1_id, lhs_z_lhs_z, p_y1, p_y2, lhs_y_lhs_z, lhs_y_lhs_x , lhs_y as p_y, lhs_z as p_z \n",
      "\n",
      "// Adding node 'new_node' from the rhs \n",
      "CREATE (rhs_new_node:node) \n",
      "SET rhs_new_node.id = toString(id(rhs_new_node)) \n",
      "WITH toString(id(rhs_new_node)) as rhs_new_node_id , rhs_new_node, p_y2_id, p_y, p_y1_id, lhs_z_lhs_z, p_y1, p_y2, p_z, lhs_y_lhs_z, lhs_y_lhs_x\n",
      "\n",
      "\n",
      "// Renaming vars to correspond to the vars of rhs\n",
      "WITH rhs_new_node, p_y2_id, p_y1_id, rhs_new_node_id, lhs_z_lhs_z, lhs_y_lhs_z, lhs_y_lhs_x , p_y as rhs_y, p_z as rhs_z, p_y1 as rhs_y1, p_y2 as rhs_y2 \n",
      "\n",
      "// Adding edge 'new_node->z' from the rhs \n",
      "MERGE (rhs_new_node)-[rhs_new_node_rhs_z:edge]->(rhs_z)\n",
      "\n",
      "\n",
      "// Return statement \n",
      "RETURN rhs_new_node, rhs_y1, p_y2_id, rhs_y2, p_y1_id, rhs_new_node_id, lhs_z_lhs_z, rhs_z, rhs_y, lhs_y_lhs_z, lhs_y_lhs_x\n",
      "\n",
      "\n",
      "\n",
      "Rewriting rule to commands: \n",
      "\n",
      "CLONE y AS y1.\n",
      "CLONE y AS y2.\n",
      "DELETE_NODE x.\n",
      "DELETE_EDGE y2 z.\n",
      "ADD_NODE new_node {}.\n",
      "ADD_EDGE new_node z {}.\n",
      "\n"
     ]
    }
   ],
   "source": [
    "rhs_g = g.rewrite(rule, instances[0])\n",
    "print(\"\\n\\nRewriting rule to commands: \\n\")\n",
    "print(rule.to_commands())"
   ]
  },
  {
   "cell_type": "code",
   "execution_count": 21,
   "metadata": {},
   "outputs": [
    {
     "data": {
      "text/plain": [
       "{'new_node': '96', 'y': 'a1', 'y1': '93', 'y2': '94', 'z': 'a_b_d'}"
      ]
     },
     "execution_count": 21,
     "metadata": {},
     "output_type": "execute_result"
    }
   ],
   "source": [
    "rhs_g"
   ]
  }
 ],
 "metadata": {
  "anaconda-cloud": {},
  "kernelspec": {
   "display_name": "Python 3",
   "language": "python",
   "name": "python3"
  },
  "language_info": {
   "codemirror_mode": {
    "name": "ipython",
    "version": 3
   },
   "file_extension": ".py",
   "mimetype": "text/x-python",
   "name": "python",
   "nbconvert_exporter": "python",
   "pygments_lexer": "ipython3",
   "version": "3.6.3"
  }
 },
 "nbformat": 4,
 "nbformat_minor": 2
}
