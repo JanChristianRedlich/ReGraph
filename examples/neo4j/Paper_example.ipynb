{
 "cells": [
  {
   "cell_type": "code",
   "execution_count": 1,
   "metadata": {
    "collapsed": true
   },
   "outputs": [],
   "source": [
    "import networkx as nx\n",
    "\n",
    "from regraph import Rule, plot_rule\n",
    "from regraph.neo4j.graphs import Neo4jGraph\n",
    "from regraph.neo4j.cypher_utils import *"
   ]
  },
  {
   "cell_type": "code",
   "execution_count": 2,
   "metadata": {},
   "outputs": [
    {
     "data": {
      "text/plain": [
       "<neo4j.v1.result.BoltStatementResult at 0x7f8c4478f780>"
      ]
     },
     "execution_count": 2,
     "metadata": {},
     "output_type": "execute_result"
    }
   ],
   "source": [
    "# initialize the neo4j driver, wrappped into Neo4jGraph object\n",
    "g = Neo4jGraph(uri=\"bolt://localhost:7687\", user=\"neo4j\", password=\"admin\")\n",
    "g._clear()"
   ]
  },
  {
   "cell_type": "code",
   "execution_count": 3,
   "metadata": {
    "scrolled": true
   },
   "outputs": [
    {
     "data": {
      "text/plain": [
       "<neo4j.v1.result.BoltStatementResult at 0x7f8c4478ffd0>"
      ]
     },
     "execution_count": 3,
     "metadata": {},
     "output_type": "execute_result"
    }
   ],
   "source": [
    "g.add_nodes_from([\n",
    "    (\"n1\", {\"name\": \"Nils\"}),\n",
    "    (\"n2\", {\"acmid\": 220})\n",
    "])\n",
    "g.add_edge(\"n1\", \"n2\", {\"contact\": True})\n"
   ]
  },
  {
   "cell_type": "code",
   "execution_count": 4,
   "metadata": {
    "collapsed": true
   },
   "outputs": [],
   "source": [
    "pattern = nx.DiGraph()\n",
    "pattern.add_nodes_from([\"a\", \"b\", \"c\", \"d\"])\n",
    "pattern.add_edges_from([(\"a\", \"c\"), (\"a\", \"d\"), (\"d\", \"c\")])"
   ]
  },
  {
   "cell_type": "code",
   "execution_count": 5,
   "metadata": {
    "collapsed": true
   },
   "outputs": [],
   "source": [
    "rule = Rule.from_transform(pattern)"
   ]
  },
  {
   "cell_type": "code",
   "execution_count": 6,
   "metadata": {
    "collapsed": true
   },
   "outputs": [],
   "source": [
    "rule.inject_remove_edge(\"d\", \"c\")\n",
    "merge = rule.inject_merge_nodes([\"c\", \"d\"])\n",
    "rule.inject_add_edge(\"b\", merge)"
   ]
  },
  {
   "cell_type": "code",
   "execution_count": 7,
   "metadata": {
    "collapsed": true
   },
   "outputs": [],
   "source": [
    "instance = {\n",
    "    \"a\": \"n6\",\n",
    "    \"b\": \"n10\",\n",
    "    \"c\": \"n5\",\n",
    "    \"d\": \"n9\"\n",
    "}"
   ]
  },
  {
   "cell_type": "code",
   "execution_count": 8,
   "metadata": {
    "scrolled": false
   },
   "outputs": [
    {
     "name": "stdout",
     "output_type": "stream",
     "text": [
      "// Match nodes and edges of the instance \n",
      "MATCH (lhs_a:node { id : 'n6'}) , (lhs_b:node { id : 'n10'}) , (lhs_c:node { id : 'n5'}) , (lhs_d:node { id : 'n9'})  , (lhs_a)-[lhs_a_lhs_c:edge]->(lhs_c), (lhs_a)-[lhs_a_lhs_d:edge]->(lhs_d), (lhs_d)-[lhs_d_lhs_c:edge]->(lhs_c)\n",
      "\n",
      "// Removing edge 'd->c' of the lhs \n",
      "DELETE lhs_d_lhs_c\n",
      "\n",
      "WITH lhs_a, lhs_d, lhs_a_lhs_c, lhs_c, lhs_a_lhs_d, lhs_b // Renaming vars to correspond to the vars of P\n",
      "WITH lhs_a_lhs_c, lhs_a_lhs_d , lhs_a as p_a, lhs_b as p_b, lhs_c as p_c, lhs_d as p_d \n",
      "\n",
      "// Merging nodes '{'c', 'd'}' of the preserved part into 'c_d' \n",
      "// accumulate all the attrs of the nodes to be merged\n",
      "WITH [] as new_props, lhs_a_lhs_c, lhs_a_lhs_d, p_b, p_d, p_a, p_c\n",
      "WITH new_props + REDUCE(pairs = [], k in keys(p_c) | \n",
      "\tpairs + REDUCE(inner_pairs = [], v in p_c[k] | \n",
      "\t\tinner_pairs + {key: k, value: v})) as new_props, lhs_a_lhs_c, lhs_a_lhs_d, p_b, p_d, p_a, p_c\n",
      "WITH new_props + REDUCE(pairs = [], k in keys(p_d) | \n",
      "\tpairs + REDUCE(inner_pairs = [], v in p_d[k] | \n",
      "\t\tinner_pairs + {key: k, value: v})) as new_props, lhs_a_lhs_c, lhs_a_lhs_d, p_b, p_d, p_a, p_c\n",
      "WITH apoc.map.groupByMulti(new_props, 'key') as new_props, lhs_a_lhs_c, lhs_a_lhs_d, p_b, p_d, p_a, p_c\n",
      "WITH apoc.map.fromValues(REDUCE(pairs=[], k in keys(new_props) | \n",
      "\tpairs + [k, REDUCE(values=[], v in new_props[k] | \n",
      "\t\tvalues + CASE WHEN v.value IN values THEN [] ELSE v.value END)])) as new_props, lhs_a_lhs_c, lhs_a_lhs_d, p_b, p_d, p_a, p_c\n",
      "SET p_c = new_props\n",
      "WITH p_c as rhs_c_d, lhs_a_lhs_c, lhs_a_lhs_d, p_b, p_d, p_a\n",
      "// set appropriate node id\n",
      "SET rhs_c_d.id = toString(id(rhs_c_d))\n",
      "SET rhs_c_d.count = NULL\n",
      "WITH toString(id(rhs_c_d)) as uid88962f81c60f415b84ac4eca36f03910, lhs_a_lhs_c, rhs_c_d, lhs_a_lhs_d, p_b, p_d, p_a\n",
      "// accumulate all the attrs of the edges incident to the merged nodes\n",
      "WITH [] as suc_maps, [] as pred_maps, uid88962f81c60f415b84ac4eca36f03910, lhs_a_lhs_c, rhs_c_d, lhs_a_lhs_d, p_b, p_d, p_a\n",
      "OPTIONAL MATCH (rhs_c_d)-[out_rel:edge]->(suc)\n",
      "WITH suc_maps + collect({id: id(suc), neighbor: suc, edge: out_rel}) as suc_maps, pred_maps, uid88962f81c60f415b84ac4eca36f03910, lhs_a_lhs_c, rhs_c_d, lhs_a_lhs_d, p_b, p_d, p_a\n",
      "OPTIONAL MATCH (pred)-[in_rel:edge]->(rhs_c_d)\n",
      "WITH pred_maps + collect({id: id(pred), neighbor: pred, edge: in_rel}) as pred_maps, suc_maps, uid88962f81c60f415b84ac4eca36f03910, lhs_a_lhs_c, rhs_c_d, lhs_a_lhs_d, p_b, p_d, p_a\n",
      "OPTIONAL MATCH (p_d)-[out_rel:edge]->(suc)\n",
      "WITH suc_maps + collect({id: id(suc), neighbor: suc, edge: out_rel}) as suc_maps, pred_maps, uid88962f81c60f415b84ac4eca36f03910, lhs_a_lhs_c, rhs_c_d, lhs_a_lhs_d, p_b, p_d, p_a\n",
      "OPTIONAL MATCH (pred)-[in_rel:edge]->(p_d)\n",
      "WITH pred_maps + collect({id: id(pred), neighbor: pred, edge: in_rel}) as pred_maps, suc_maps, uid88962f81c60f415b84ac4eca36f03910, lhs_a_lhs_c, rhs_c_d, lhs_a_lhs_d, p_b, p_d, p_a\n",
      "WITH apoc.map.groupByMulti(suc_maps, 'id') as suc_props, REDUCE(list=[], map in suc_maps | \n",
      "\tlist + CASE WHEN NOT map['neighbor'] IS NULL THEN [map['neighbor']] ELSE [] END) as suc_nodes, apoc.map.groupByMulti(pred_maps, 'id') as pred_props, REDUCE(list=[], map in pred_maps | \n",
      "\tlist + CASE WHEN NOT map['neighbor'] IS NULL THEN [map['neighbor']] ELSE [] END) as pred_nodes, \tREDUCE(l=[], el in suc_maps + pred_maps| \n",
      "\t\tl + CASE WHEN el['id'] IN [id(rhs_c_d),id(p_d)] THEN [toString(el['id'])] ELSE [] END) as self_loops, uid88962f81c60f415b84ac4eca36f03910, lhs_a_lhs_c, rhs_c_d, lhs_a_lhs_d, p_b, p_d, p_a\n",
      "WITH suc_nodes, pred_nodes, apoc.map.fromValues(REDUCE(edge_props=[], k in keys(suc_props) | \n",
      "\tedge_props + [k, apoc.map.groupByMulti(REDUCE(props=[], el in suc_props[k] | \n",
      "\t\tprops + REDUCE(pairs=[], kk in keys(el['edge']) | \n",
      "\t\t\tpairs + REDUCE(values=[], v in el['edge'][kk] | \n",
      "\t\t\t\tvalues + {key: kk, value: v}))), 'key')])) as suc_props, \n",
      "\tapoc.map.fromValues(REDUCE(edge_props=[], k in keys(pred_props) | \n",
      "\tedge_props + [k, apoc.map.groupByMulti(REDUCE(props=[], el in pred_props[k] | \n",
      "\t\tprops + REDUCE(pairs=[], kk in keys(el['edge']) | \n",
      "\t\t\tpairs + REDUCE(values=[], v in el['edge'][kk] | \n",
      "\t\t\t\t values + {key: kk, value: v}))), 'key')])) as pred_props,  \n",
      "\tREDUCE(edge_props=[], k IN filter(k IN keys(suc_props) WHERE k IN self_loops) |\n",
      "\t\tedge_props + suc_props[k]) + \n",
      "\tREDUCE(edge_props=[], k IN filter(k IN keys(pred_props) WHERE k IN self_loops) |\n",
      "\t\tedge_props + pred_props[k]) as self_loop_props, uid88962f81c60f415b84ac4eca36f03910, lhs_a_lhs_c, rhs_c_d, lhs_a_lhs_d, p_b, p_d, self_loops, p_a\n",
      "WITH suc_nodes, suc_props, pred_nodes, pred_props, apoc.map.groupByMulti(REDUCE(pairs=[], el in self_loop_props |\n",
      "\tpairs + REDUCE(inner_pairs=[], k in keys(el['edge']) | \n",
      "\t\tinner_pairs + REDUCE(values=[], v in el['edge'][k] |\n",
      "\t\t\tvalues + {key: k, value: v}))), 'key') as self_loop_props, uid88962f81c60f415b84ac4eca36f03910, lhs_a_lhs_c, rhs_c_d, lhs_a_lhs_d, p_b, p_d, self_loops, p_a\n",
      "FOREACH(suc IN filter(suc IN suc_nodes WHERE NOT id(suc) in self_loops) |\n",
      "\tMERGE (rhs_c_d)-[new_rel:edge]->(suc)\n",
      "\tSET new_rel = apoc.map.fromValues(REDUCE(pairs=[], k in keys(suc_props[toString(id(suc))]) | \n",
      "\t\t pairs + [k, REDUCE(values=[], v in suc_props[toString(id(suc))][k] | \n",
      "\t\t\tvalues + CASE WHEN v.value IN values THEN [] ELSE v.value END)])))\n",
      "FOREACH(pred IN filter(pred IN pred_nodes WHERE NOT id(pred) in self_loops) |\n",
      "\tMERGE (pred)-[new_rel:edge]->(rhs_c_d)\n",
      "\tSET new_rel = apoc.map.fromValues(REDUCE(pairs=[], k in keys(pred_props[toString(id(pred))]) | \n",
      "\t\t pairs + [k, REDUCE(values=[], v in pred_props[toString(id(pred))][k] | \n",
      "\t\t\tvalues + CASE WHEN v.value IN values THEN [] ELSE v.value END)])))\n",
      "// add self loop \n",
      "FOREACH(dummy in CASE WHEN length(self_loops) > 0 THEN [NULL] ELSE [] END |\n",
      "\tMERGE (rhs_c_d)-[new_rel:edge]->(rhs_c_d)\n",
      "\tSET new_rel = apoc.map.fromValues(REDUCE(pairs=[], k in keys(self_loop_props) |\n",
      "\t\tpairs + [k, REDUCE(values=[], v in self_loop_props[k] |\n",
      "\t\t\tvalues + CASE WHEN v.value IN values THEN [] ELSE v.value END)])))\n",
      "// accumulate all the attrs of the edges incident to the merged nodes\n",
      "WITH [] as suc_typings, [] as pred_typings, uid88962f81c60f415b84ac4eca36f03910, lhs_a_lhs_c, rhs_c_d, lhs_a_lhs_d, p_b, p_d, p_a\n",
      "OPTIONAL MATCH (rhs_c_d)-[:typing]->(suc)\n",
      "WITH suc_typings + collect(suc) as suc_typings, pred_typings, uid88962f81c60f415b84ac4eca36f03910, lhs_a_lhs_c, rhs_c_d, lhs_a_lhs_d, p_b, p_d, p_a\n",
      "OPTIONAL MATCH (pred)-[:typing]->(rhs_c_d)\n",
      "WITH pred_typings + collect(pred) as pred_typings, suc_typings, uid88962f81c60f415b84ac4eca36f03910, lhs_a_lhs_c, rhs_c_d, lhs_a_lhs_d, p_b, p_d, p_a\n",
      "OPTIONAL MATCH (p_d)-[:typing]->(suc)\n",
      "WITH suc_typings + collect(suc) as suc_typings, pred_typings, uid88962f81c60f415b84ac4eca36f03910, lhs_a_lhs_c, rhs_c_d, lhs_a_lhs_d, p_b, p_d, p_a\n",
      "OPTIONAL MATCH (pred)-[:typing]->(p_d)\n",
      "WITH pred_typings + collect(pred) as pred_typings, suc_typings, uid88962f81c60f415b84ac4eca36f03910, lhs_a_lhs_c, rhs_c_d, lhs_a_lhs_d, p_b, p_d, p_a\n",
      "FOREACH(suc in suc_typings |\n",
      "\tMERGE (rhs_c_d)-[:typing]->(suc))\n",
      "FOREACH(pred in pred_typings |\n",
      "\tMERGE (pred)-[:typing]->(rhs_c_d))\n",
      "DETACH DELETE (p_d)\n",
      "\n",
      "\n",
      "// Renaming vars to correspond to the vars of rhs\n",
      "WITH uid88962f81c60f415b84ac4eca36f03910, lhs_a_lhs_c, rhs_c_d, lhs_a_lhs_d, p_d , p_a as rhs_a, p_b as rhs_b \n",
      "\n",
      "// Adding edge 'b->c_d' from the rhs \n",
      "MERGE (rhs_b)-[rhs_b_rhs_c_d:edge]->(rhs_c_d)\n",
      "\n",
      "\n",
      "// Return statement \n",
      "RETURN rhs_b, rhs_a, uid88962f81c60f415b84ac4eca36f03910, lhs_a_lhs_c, rhs_c_d, lhs_a_lhs_d, p_d\n",
      "\n"
     ]
    },
    {
     "data": {
      "text/plain": [
       "(\"// Match nodes and edges of the instance \\nMATCH (lhs_a:node { id : 'n6'}) , (lhs_b:node { id : 'n10'}) , (lhs_c:node { id : 'n5'}) , (lhs_d:node { id : 'n9'})  , (lhs_a)-[lhs_a_lhs_c:edge]->(lhs_c), (lhs_a)-[lhs_a_lhs_d:edge]->(lhs_d), (lhs_d)-[lhs_d_lhs_c:edge]->(lhs_c)\\n\\n// Removing edge 'd->c' of the lhs \\nDELETE lhs_d_lhs_c\\n\\nWITH lhs_a, lhs_d, lhs_a_lhs_c, lhs_c, lhs_a_lhs_d, lhs_b // Renaming vars to correspond to the vars of P\\nWITH lhs_a_lhs_c, lhs_a_lhs_d , lhs_a as p_a, lhs_b as p_b, lhs_c as p_c, lhs_d as p_d \\n\\n// Merging nodes '{'c', 'd'}' of the preserved part into 'c_d' \\n// accumulate all the attrs of the nodes to be merged\\nWITH [] as new_props, lhs_a_lhs_c, lhs_a_lhs_d, p_b, p_d, p_a, p_c\\nWITH new_props + REDUCE(pairs = [], k in keys(p_c) | \\n\\tpairs + REDUCE(inner_pairs = [], v in p_c[k] | \\n\\t\\tinner_pairs + {key: k, value: v})) as new_props, lhs_a_lhs_c, lhs_a_lhs_d, p_b, p_d, p_a, p_c\\nWITH new_props + REDUCE(pairs = [], k in keys(p_d) | \\n\\tpairs + REDUCE(inner_pairs = [], v in p_d[k] | \\n\\t\\tinner_pairs + {key: k, value: v})) as new_props, lhs_a_lhs_c, lhs_a_lhs_d, p_b, p_d, p_a, p_c\\nWITH apoc.map.groupByMulti(new_props, 'key') as new_props, lhs_a_lhs_c, lhs_a_lhs_d, p_b, p_d, p_a, p_c\\nWITH apoc.map.fromValues(REDUCE(pairs=[], k in keys(new_props) | \\n\\tpairs + [k, REDUCE(values=[], v in new_props[k] | \\n\\t\\tvalues + CASE WHEN v.value IN values THEN [] ELSE v.value END)])) as new_props, lhs_a_lhs_c, lhs_a_lhs_d, p_b, p_d, p_a, p_c\\nSET p_c = new_props\\nWITH p_c as rhs_c_d, lhs_a_lhs_c, lhs_a_lhs_d, p_b, p_d, p_a\\n// set appropriate node id\\nSET rhs_c_d.id = toString(id(rhs_c_d))\\nSET rhs_c_d.count = NULL\\nWITH toString(id(rhs_c_d)) as uid88962f81c60f415b84ac4eca36f03910, lhs_a_lhs_c, rhs_c_d, lhs_a_lhs_d, p_b, p_d, p_a\\n// accumulate all the attrs of the edges incident to the merged nodes\\nWITH [] as suc_maps, [] as pred_maps, uid88962f81c60f415b84ac4eca36f03910, lhs_a_lhs_c, rhs_c_d, lhs_a_lhs_d, p_b, p_d, p_a\\nOPTIONAL MATCH (rhs_c_d)-[out_rel:edge]->(suc)\\nWITH suc_maps + collect({id: id(suc), neighbor: suc, edge: out_rel}) as suc_maps, pred_maps, uid88962f81c60f415b84ac4eca36f03910, lhs_a_lhs_c, rhs_c_d, lhs_a_lhs_d, p_b, p_d, p_a\\nOPTIONAL MATCH (pred)-[in_rel:edge]->(rhs_c_d)\\nWITH pred_maps + collect({id: id(pred), neighbor: pred, edge: in_rel}) as pred_maps, suc_maps, uid88962f81c60f415b84ac4eca36f03910, lhs_a_lhs_c, rhs_c_d, lhs_a_lhs_d, p_b, p_d, p_a\\nOPTIONAL MATCH (p_d)-[out_rel:edge]->(suc)\\nWITH suc_maps + collect({id: id(suc), neighbor: suc, edge: out_rel}) as suc_maps, pred_maps, uid88962f81c60f415b84ac4eca36f03910, lhs_a_lhs_c, rhs_c_d, lhs_a_lhs_d, p_b, p_d, p_a\\nOPTIONAL MATCH (pred)-[in_rel:edge]->(p_d)\\nWITH pred_maps + collect({id: id(pred), neighbor: pred, edge: in_rel}) as pred_maps, suc_maps, uid88962f81c60f415b84ac4eca36f03910, lhs_a_lhs_c, rhs_c_d, lhs_a_lhs_d, p_b, p_d, p_a\\nWITH apoc.map.groupByMulti(suc_maps, 'id') as suc_props, REDUCE(list=[], map in suc_maps | \\n\\tlist + CASE WHEN NOT map['neighbor'] IS NULL THEN [map['neighbor']] ELSE [] END) as suc_nodes, apoc.map.groupByMulti(pred_maps, 'id') as pred_props, REDUCE(list=[], map in pred_maps | \\n\\tlist + CASE WHEN NOT map['neighbor'] IS NULL THEN [map['neighbor']] ELSE [] END) as pred_nodes, \\tREDUCE(l=[], el in suc_maps + pred_maps| \\n\\t\\tl + CASE WHEN el['id'] IN [id(rhs_c_d),id(p_d)] THEN [toString(el['id'])] ELSE [] END) as self_loops, uid88962f81c60f415b84ac4eca36f03910, lhs_a_lhs_c, rhs_c_d, lhs_a_lhs_d, p_b, p_d, p_a\\nWITH suc_nodes, pred_nodes, apoc.map.fromValues(REDUCE(edge_props=[], k in keys(suc_props) | \\n\\tedge_props + [k, apoc.map.groupByMulti(REDUCE(props=[], el in suc_props[k] | \\n\\t\\tprops + REDUCE(pairs=[], kk in keys(el['edge']) | \\n\\t\\t\\tpairs + REDUCE(values=[], v in el['edge'][kk] | \\n\\t\\t\\t\\tvalues + {key: kk, value: v}))), 'key')])) as suc_props, \\n\\tapoc.map.fromValues(REDUCE(edge_props=[], k in keys(pred_props) | \\n\\tedge_props + [k, apoc.map.groupByMulti(REDUCE(props=[], el in pred_props[k] | \\n\\t\\tprops + REDUCE(pairs=[], kk in keys(el['edge']) | \\n\\t\\t\\tpairs + REDUCE(values=[], v in el['edge'][kk] | \\n\\t\\t\\t\\t values + {key: kk, value: v}))), 'key')])) as pred_props,  \\n\\tREDUCE(edge_props=[], k IN filter(k IN keys(suc_props) WHERE k IN self_loops) |\\n\\t\\tedge_props + suc_props[k]) + \\n\\tREDUCE(edge_props=[], k IN filter(k IN keys(pred_props) WHERE k IN self_loops) |\\n\\t\\tedge_props + pred_props[k]) as self_loop_props, uid88962f81c60f415b84ac4eca36f03910, lhs_a_lhs_c, rhs_c_d, lhs_a_lhs_d, p_b, p_d, self_loops, p_a\\nWITH suc_nodes, suc_props, pred_nodes, pred_props, apoc.map.groupByMulti(REDUCE(pairs=[], el in self_loop_props |\\n\\tpairs + REDUCE(inner_pairs=[], k in keys(el['edge']) | \\n\\t\\tinner_pairs + REDUCE(values=[], v in el['edge'][k] |\\n\\t\\t\\tvalues + {key: k, value: v}))), 'key') as self_loop_props, uid88962f81c60f415b84ac4eca36f03910, lhs_a_lhs_c, rhs_c_d, lhs_a_lhs_d, p_b, p_d, self_loops, p_a\\nFOREACH(suc IN filter(suc IN suc_nodes WHERE NOT id(suc) in self_loops) |\\n\\tMERGE (rhs_c_d)-[new_rel:edge]->(suc)\\n\\tSET new_rel = apoc.map.fromValues(REDUCE(pairs=[], k in keys(suc_props[toString(id(suc))]) | \\n\\t\\t pairs + [k, REDUCE(values=[], v in suc_props[toString(id(suc))][k] | \\n\\t\\t\\tvalues + CASE WHEN v.value IN values THEN [] ELSE v.value END)])))\\nFOREACH(pred IN filter(pred IN pred_nodes WHERE NOT id(pred) in self_loops) |\\n\\tMERGE (pred)-[new_rel:edge]->(rhs_c_d)\\n\\tSET new_rel = apoc.map.fromValues(REDUCE(pairs=[], k in keys(pred_props[toString(id(pred))]) | \\n\\t\\t pairs + [k, REDUCE(values=[], v in pred_props[toString(id(pred))][k] | \\n\\t\\t\\tvalues + CASE WHEN v.value IN values THEN [] ELSE v.value END)])))\\n// add self loop \\nFOREACH(dummy in CASE WHEN length(self_loops) > 0 THEN [NULL] ELSE [] END |\\n\\tMERGE (rhs_c_d)-[new_rel:edge]->(rhs_c_d)\\n\\tSET new_rel = apoc.map.fromValues(REDUCE(pairs=[], k in keys(self_loop_props) |\\n\\t\\tpairs + [k, REDUCE(values=[], v in self_loop_props[k] |\\n\\t\\t\\tvalues + CASE WHEN v.value IN values THEN [] ELSE v.value END)])))\\n// accumulate all the attrs of the edges incident to the merged nodes\\nWITH [] as suc_typings, [] as pred_typings, uid88962f81c60f415b84ac4eca36f03910, lhs_a_lhs_c, rhs_c_d, lhs_a_lhs_d, p_b, p_d, p_a\\nOPTIONAL MATCH (rhs_c_d)-[:typing]->(suc)\\nWITH suc_typings + collect(suc) as suc_typings, pred_typings, uid88962f81c60f415b84ac4eca36f03910, lhs_a_lhs_c, rhs_c_d, lhs_a_lhs_d, p_b, p_d, p_a\\nOPTIONAL MATCH (pred)-[:typing]->(rhs_c_d)\\nWITH pred_typings + collect(pred) as pred_typings, suc_typings, uid88962f81c60f415b84ac4eca36f03910, lhs_a_lhs_c, rhs_c_d, lhs_a_lhs_d, p_b, p_d, p_a\\nOPTIONAL MATCH (p_d)-[:typing]->(suc)\\nWITH suc_typings + collect(suc) as suc_typings, pred_typings, uid88962f81c60f415b84ac4eca36f03910, lhs_a_lhs_c, rhs_c_d, lhs_a_lhs_d, p_b, p_d, p_a\\nOPTIONAL MATCH (pred)-[:typing]->(p_d)\\nWITH pred_typings + collect(pred) as pred_typings, suc_typings, uid88962f81c60f415b84ac4eca36f03910, lhs_a_lhs_c, rhs_c_d, lhs_a_lhs_d, p_b, p_d, p_a\\nFOREACH(suc in suc_typings |\\n\\tMERGE (rhs_c_d)-[:typing]->(suc))\\nFOREACH(pred in pred_typings |\\n\\tMERGE (pred)-[:typing]->(rhs_c_d))\\nDETACH DELETE (p_d)\\n\\n\\n// Renaming vars to correspond to the vars of rhs\\nWITH uid88962f81c60f415b84ac4eca36f03910, lhs_a_lhs_c, rhs_c_d, lhs_a_lhs_d, p_d , p_a as rhs_a, p_b as rhs_b \\n\\n// Adding edge 'b->c_d' from the rhs \\nMERGE (rhs_b)-[rhs_b_rhs_c_d:edge]->(rhs_c_d)\\n\\n\\n// Return statement \\nRETURN rhs_b, rhs_a, uid88962f81c60f415b84ac4eca36f03910, lhs_a_lhs_c, rhs_c_d, lhs_a_lhs_d, p_d\\n\",\n",
       " {'rhs_a': 'a', 'rhs_b': 'b', 'rhs_c_d': 'c_d'})"
      ]
     },
     "execution_count": 8,
     "metadata": {},
     "output_type": "execute_result"
    }
   ],
   "source": [
    "rule.to_cypher(instance)"
   ]
  },
  {
   "cell_type": "code",
   "execution_count": null,
   "metadata": {
    "collapsed": true
   },
   "outputs": [],
   "source": []
  }
 ],
 "metadata": {
  "kernelspec": {
   "display_name": "Python 3",
   "language": "python",
   "name": "python3"
  },
  "language_info": {
   "codemirror_mode": {
    "name": "ipython",
    "version": 3
   },
   "file_extension": ".py",
   "mimetype": "text/x-python",
   "name": "python",
   "nbconvert_exporter": "python",
   "pygments_lexer": "ipython3",
   "version": "3.6.3"
  }
 },
 "nbformat": 4,
 "nbformat_minor": 2
}
