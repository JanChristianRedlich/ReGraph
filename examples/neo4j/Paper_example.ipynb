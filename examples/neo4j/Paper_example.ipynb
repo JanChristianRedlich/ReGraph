{
 "cells": [
  {
   "cell_type": "code",
   "execution_count": 4,
   "metadata": {},
   "outputs": [],
   "source": [
    "import networkx as nx\n",
    "\n",
    "from regraph import Rule, plot_rule\n",
    "from regraph.neo4j.graphs import Neo4jGraph\n",
    "from regraph.neo4j.cypher_utils import *"
   ]
  },
  {
   "cell_type": "code",
   "execution_count": 5,
   "metadata": {},
   "outputs": [
    {
     "name": "stdout",
     "output_type": "stream",
     "text": [
      "CREATE CONSTRAINT ON (n:node) ASSERT n.id IS UNIQUE\n",
      "MATCH (n:node)\n",
      "OPTIONAL MATCH (n)-[r]-()\n",
      "DELETE n, r\n",
      "\n"
     ]
    },
    {
     "data": {
      "text/plain": [
       "<neo4j.v1.result.BoltStatementResult at 0x7fe8e8375160>"
      ]
     },
     "execution_count": 5,
     "metadata": {},
     "output_type": "execute_result"
    }
   ],
   "source": [
    "# initialize the neo4j driver, wrappped into Neo4jGraph object\n",
    "g = Neo4jGraph(uri=\"bolt://localhost:7687\", user=\"neo4j\", password=\"admin\")\n",
    "g.clear()"
   ]
  },
  {
   "cell_type": "code",
   "execution_count": 6,
   "metadata": {},
   "outputs": [
    {
     "name": "stdout",
     "output_type": "stream",
     "text": [
      "OPTIONAL MATCH (same_id_node:node) \n",
      "WHERE same_id_node.id = 'n1' \n",
      "FOREACH(new_count \n",
      "\tIN CASE WHEN same_id_node IS NOT NULL\n",
      "\tTHEN [coalesce(same_id_node.count, 0) + 1]\n",
      "\tELSE [] END | \n",
      "\t\tSET same_id_node.count = new_count) \n",
      "WITH same_id_node \n",
      "UNWIND\n",
      "\tCASE WHEN same_id_node IS NOT NULL\n",
      "\tTHEN ['n1' + same_id_node.count]\n",
      "\tELSE ['n1'] END AS new_id_n1 \n",
      "\t\tCREATE (n1:node { id : new_id_n1 }) \n",
      "SET n1.name=['Nils'] WITH new_id_n1, n1 OPTIONAL MATCH (same_id_node:node) \n",
      "WHERE same_id_node.id = 'n2' \n",
      "FOREACH(new_count \n",
      "\tIN CASE WHEN same_id_node IS NOT NULL\n",
      "\tTHEN [coalesce(same_id_node.count, 0) + 1]\n",
      "\tELSE [] END | \n",
      "\t\tSET same_id_node.count = new_count) \n",
      "WITH same_id_node \n",
      "UNWIND\n",
      "\tCASE WHEN same_id_node IS NOT NULL\n",
      "\tTHEN ['n2' + same_id_node.count]\n",
      "\tELSE ['n2'] END AS new_id_n2 \n",
      "\t\tCREATE (n2:node { id : new_id_n2 }) \n",
      "SET n2.acmid=[220] WITH n2, new_id_n2 RETURN n2, new_id_n2\n",
      "\n",
      "MATCH (n1:node { id : 'n1'}) , (n2:node { id : 'n2'})  MERGE (n1)-[new_edge:edge]->(n2)\n",
      "SET new_edge.contact=[True] \n"
     ]
    },
    {
     "data": {
      "text/plain": [
       "<neo4j.v1.result.BoltStatementResult at 0x7fe8e8390dd8>"
      ]
     },
     "execution_count": 6,
     "metadata": {},
     "output_type": "execute_result"
    }
   ],
   "source": [
    "g.add_nodes_from([\n",
    "    (\"n1\", {\"name\": \"Nils\"}),\n",
    "    (\"n2\", {\"acmid\": 220})\n",
    "])\n",
    "g.add_edge(\"n1\", \"n2\", {\"contact\": True})\n"
   ]
  }
 ],
 "metadata": {
  "kernelspec": {
   "display_name": "Python 3",
   "language": "python",
   "name": "python3"
  },
  "language_info": {
   "codemirror_mode": {
    "name": "ipython",
    "version": 3
   },
   "file_extension": ".py",
   "mimetype": "text/x-python",
   "name": "python",
   "nbconvert_exporter": "python",
   "pygments_lexer": "ipython3",
   "version": "3.6.3"
  }
 },
 "nbformat": 4,
 "nbformat_minor": 2
}
