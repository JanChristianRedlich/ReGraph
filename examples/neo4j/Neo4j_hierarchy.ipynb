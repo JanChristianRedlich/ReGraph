{
 "cells": [
  {
   "cell_type": "markdown",
   "metadata": {},
   "source": [
    "# Examples of utils provided by ReGraph's Neo4jHierarchy module"
   ]
  },
  {
   "cell_type": "code",
   "execution_count": 1,
   "metadata": {},
   "outputs": [],
   "source": [
    "import networkx as nx\n",
    "from regraph import Rule, plot_rule\n",
    "\n",
    "\n",
    "from regraph.neo4j.hierarchy import Neo4jHierarchy\n",
    "import regraph.neo4j.cypher_utils as cypher"
   ]
  },
  {
   "cell_type": "markdown",
   "metadata": {},
   "source": [
    "## Initializing Neo4j database\n",
    "\n",
    "0. When installing neo4j you will be asked to choose login/password for you dbs (here its \"neo4j\"/\"admin\"), if you choose other -- change in the cell below.\n",
    "1. To start neo4j server run `sudo service neo4j start`\n",
    "2. Check status by running `sudo service neo4j status`. Here you can check the _bolt_ port, change the cell below if different from 7687\n",
    "3. You can query the db by using the neo4j browser, the address can be found also in the result of 'status', e.g. \"Remote interface available at http://localhost:7474/\"."
   ]
  },
  {
   "cell_type": "code",
   "execution_count": 2,
   "metadata": {
    "scrolled": false
   },
   "outputs": [
    {
     "data": {
      "text/plain": [
       "<neo4j.BoltStatementResult at 0x7fc5fa560978>"
      ]
     },
     "execution_count": 2,
     "metadata": {},
     "output_type": "execute_result"
    }
   ],
   "source": [
    "# initialize the neo4j driver, wrappped into Neo4jHierarchy object\n",
    "h = Neo4jHierarchy(uri=\"bolt://localhost:7687\", user=\"neo4j\", password=\"admin\")\n",
    "h._clear()"
   ]
  },
  {
   "cell_type": "markdown",
   "metadata": {},
   "source": [
    "## Hierarchy\n",
    "\n",
    "A hierarchy is given by graphs connected by typing (homorphism). \n",
    "\n",
    "Each graph in the database is represented by a unique label which enables us to match quickly the nodes of this graph. Each node of a graph has then the label *graphId*. We can match these nodes by using the query:\n",
    "\n",
    "> MATCH (n:graphLabel) RETURN n\n",
    "\n",
    "\n",
    "The edges of a graph are labeled as *edge* and the typing edges are labeled as *typing*. We can then easily find the image of a node with the query:\n",
    "\n",
    "> OPTIONAL MATCH (n:graphLabel)-[:typing]->(m) RETURN m\n",
    "\n",
    "The hierarchy skeleton is represented by nodes labeled as hierarchyNodes. It enables us to know which graphs are the ancestors of a graph we want to rewrite for example."
   ]
  },
  {
   "cell_type": "markdown",
   "metadata": {},
   "source": [
    "## Adding a graph to the hierarchy (Action Graph)"
   ]
  },
  {
   "cell_type": "markdown",
   "metadata": {},
   "source": [
    "Here we create a first graph called *ActionGraph*. This graph represent people and the relationship between them."
   ]
  },
  {
   "cell_type": "code",
   "execution_count": 3,
   "metadata": {
    "scrolled": true
   },
   "outputs": [
    {
     "name": "stdout",
     "output_type": "stream",
     "text": [
      "CREATE CONSTRAINT ON (n:actionGraph) ASSERT n.id IS UNIQUE\n",
      "OPTIONAL MATCH (same_id_node:actionGraph) \n",
      "WHERE same_id_node.id = 'a' \n",
      "FOREACH(new_count \n",
      "\tIN CASE WHEN same_id_node IS NOT NULL\n",
      "\tTHEN [coalesce(same_id_node.count, 0) + 1]\n",
      "\tELSE [] END | \n",
      "\t\tSET same_id_node.count = new_count) \n",
      "WITH same_id_node \n",
      "UNWIND\n",
      "\tCASE WHEN same_id_node IS NOT NULL\n",
      "\tTHEN ['a' + same_id_node.count]\n",
      "\tELSE ['a'] END AS new_id_a \n",
      "\t\tCREATE (a:actionGraph { id : new_id_a }) \n",
      "SET a.name=['Jack']\n",
      "SET a.age=[43]\n",
      "SET a.hobby=['hiking', 'music']\n",
      "WITH a, new_id_a OPTIONAL MATCH (same_id_node:actionGraph) \n",
      "WHERE same_id_node.id = 'b' \n",
      "FOREACH(new_count \n",
      "\tIN CASE WHEN same_id_node IS NOT NULL\n",
      "\tTHEN [coalesce(same_id_node.count, 0) + 1]\n",
      "\tELSE [] END | \n",
      "\t\tSET same_id_node.count = new_count) \n",
      "WITH same_id_node \n",
      "UNWIND\n",
      "\tCASE WHEN same_id_node IS NOT NULL\n",
      "\tTHEN ['b' + same_id_node.count]\n",
      "\tELSE ['b'] END AS new_id_b \n",
      "\t\tCREATE (b:actionGraph { id : new_id_b }) \n",
      "SET b.name=['Robert']\n",
      "SET b.age=[35]\n",
      "SET b.hobby=['sport', 'music']\n",
      "WITH new_id_b, b OPTIONAL MATCH (same_id_node:actionGraph) \n",
      "WHERE same_id_node.id = 'c' \n",
      "FOREACH(new_count \n",
      "\tIN CASE WHEN same_id_node IS NOT NULL\n",
      "\tTHEN [coalesce(same_id_node.count, 0) + 1]\n",
      "\tELSE [] END | \n",
      "\t\tSET same_id_node.count = new_count) \n",
      "WITH same_id_node \n",
      "UNWIND\n",
      "\tCASE WHEN same_id_node IS NOT NULL\n",
      "\tTHEN ['c' + same_id_node.count]\n",
      "\tELSE ['c'] END AS new_id_c \n",
      "\t\tCREATE (c:actionGraph { id : new_id_c }) \n",
      "SET c.name=['Paul']\n",
      "SET c.age=[18]\n",
      "WITH c, new_id_c OPTIONAL MATCH (same_id_node:actionGraph) \n",
      "WHERE same_id_node.id = 'd' \n",
      "FOREACH(new_count \n",
      "\tIN CASE WHEN same_id_node IS NOT NULL\n",
      "\tTHEN [coalesce(same_id_node.count, 0) + 1]\n",
      "\tELSE [] END | \n",
      "\t\tSET same_id_node.count = new_count) \n",
      "WITH same_id_node \n",
      "UNWIND\n",
      "\tCASE WHEN same_id_node IS NOT NULL\n",
      "\tTHEN ['d' + same_id_node.count]\n",
      "\tELSE ['d'] END AS new_id_d \n",
      "\t\tCREATE (d:actionGraph { id : new_id_d }) \n",
      "SET d.name=['Joe']\n",
      "SET d.age=[12]\n",
      "WITH d, new_id_d OPTIONAL MATCH (same_id_node:actionGraph) \n",
      "WHERE same_id_node.id = 'e' \n",
      "FOREACH(new_count \n",
      "\tIN CASE WHEN same_id_node IS NOT NULL\n",
      "\tTHEN [coalesce(same_id_node.count, 0) + 1]\n",
      "\tELSE [] END | \n",
      "\t\tSET same_id_node.count = new_count) \n",
      "WITH same_id_node \n",
      "UNWIND\n",
      "\tCASE WHEN same_id_node IS NOT NULL\n",
      "\tTHEN ['e' + same_id_node.count]\n",
      "\tELSE ['e'] END AS new_id_e \n",
      "\t\tCREATE (e:actionGraph { id : new_id_e }) \n",
      "SET e.name=['Paul']\n",
      "SET e.age=[18]\n",
      "WITH e, new_id_e RETURN e, new_id_e\n",
      "\n",
      "MATCH (d:actionGraph { id : 'd'}) , (b:actionGraph { id : 'b'}) , (a:actionGraph { id : 'a'}) , (c:actionGraph { id : 'c'}) , (e:actionGraph { id : 'e'})  MERGE (a)-[a_b:edge]->(b)\n",
      "SET a_b.type=['friends']\n",
      "MERGE (a)-[a_c:edge]->(c)\n",
      "SET a_c.type=['colleagues']\n",
      "MERGE (b)-[b_c:edge]->(c)\n",
      "SET b_c.type=['colleagues']\n",
      "MERGE (d)-[d_a:edge]->(a)\n",
      "SET d_a.type=['child_of']\n",
      "MERGE (d)-[d_e:edge]->(e)\n",
      "SET d_e.type=['enemies']\n",
      "MERGE (e)-[e_e:edge]->(e)\n",
      "SET e_e.type=['likes']\n",
      "\n"
     ]
    }
   ],
   "source": [
    "nodes = [\n",
    "    (\"a\", {\"name\": {\"Jack\"}, \"age\": {43}, \"hobby\": {\"hiking\", \"music\"}}), \n",
    "    (\"b\", {\"name\": {\"Robert\"}, \"age\": {35}, \"hobby\": {\"sport\", \"music\"}}),\n",
    "    (\"c\", {\"name\":{ \"Paul\"}, \"age\": {18}}),\n",
    "    (\"d\", {\"name\": {\"Joe\"}, \"age\": {12}}),\n",
    "    (\"e\", {\"name\": {\"Paul\"}, \"age\": {18}})\n",
    "]\n",
    "edges = [\n",
    "    (\"a\", \"b\", {\"type\": {\"friends\"}}), \n",
    "    (\"a\", \"c\", {\"type\": {\"colleagues\"}}),\n",
    "    (\"b\", \"c\", {\"type\": {\"colleagues\"}}),\n",
    "    (\"d\", \"a\", {\"type\": {\"child_of\"}}), \n",
    "    (\"d\", \"e\", {\"type\": {\"enemies\"}}),\n",
    "    (\"e\", \"e\", {\"type\": {\"likes\"}})\n",
    "]\n",
    "h.add_graph('actionGraph', nodes, edges)"
   ]
  },
  {
   "cell_type": "markdown",
   "metadata": {},
   "source": [
    "## Adding a second graph to the herarchy (Meta Model)"
   ]
  },
  {
   "cell_type": "markdown",
   "metadata": {},
   "source": [
    "Here we create a second graph called *MetaModel*. Which represent the types of people (*Adult* or *Child*) and the relationships between them."
   ]
  },
  {
   "cell_type": "code",
   "execution_count": 4,
   "metadata": {},
   "outputs": [
    {
     "name": "stdout",
     "output_type": "stream",
     "text": [
      "CREATE CONSTRAINT ON (n:metaModel) ASSERT n.id IS UNIQUE\n",
      "OPTIONAL MATCH (same_id_node:metaModel) \n",
      "WHERE same_id_node.id = 'a' \n",
      "FOREACH(new_count \n",
      "\tIN CASE WHEN same_id_node IS NOT NULL\n",
      "\tTHEN [coalesce(same_id_node.count, 0) + 1]\n",
      "\tELSE [] END | \n",
      "\t\tSET same_id_node.count = new_count) \n",
      "WITH same_id_node \n",
      "UNWIND\n",
      "\tCASE WHEN same_id_node IS NOT NULL\n",
      "\tTHEN ['a' + same_id_node.count]\n",
      "\tELSE ['a'] END AS new_id_a \n",
      "\t\tCREATE (a:metaModel { id : new_id_a }) \n",
      "SET a.type=['Adult']\n",
      "SET a.age=[43, 18, 35]\n",
      "SET a.name=['Jack', 'Paul', 'Robert']\n",
      "SET a.hobby=['hiking', 'sport', 'music']\n",
      "WITH a, new_id_a OPTIONAL MATCH (same_id_node:metaModel) \n",
      "WHERE same_id_node.id = 'b' \n",
      "FOREACH(new_count \n",
      "\tIN CASE WHEN same_id_node IS NOT NULL\n",
      "\tTHEN [coalesce(same_id_node.count, 0) + 1]\n",
      "\tELSE [] END | \n",
      "\t\tSET same_id_node.count = new_count) \n",
      "WITH same_id_node \n",
      "UNWIND\n",
      "\tCASE WHEN same_id_node IS NOT NULL\n",
      "\tTHEN ['b' + same_id_node.count]\n",
      "\tELSE ['b'] END AS new_id_b \n",
      "\t\tCREATE (b:metaModel { id : new_id_b }) \n",
      "SET b.type=['Child']\n",
      "SET b.age=[18, 12]\n",
      "SET b.name=['Paul', 'Joe']\n",
      "WITH new_id_b, b RETURN new_id_b, b\n",
      "\n",
      "MATCH (a:metaModel { id : 'a'}) , (b:metaModel { id : 'b'})  MERGE (a)-[a_a:edge]->(a)\n",
      "SET a_a.type=['colleagues', 'friends']\n",
      "MERGE (b)-[b_a:edge]->(a)\n",
      "SET b_a.type=['child_of']\n",
      "MERGE (b)-[b_b:edge]->(b)\n",
      "SET b_b.type=['enemies', 'friends']\n",
      "\n"
     ]
    }
   ],
   "source": [
    "nodes = [\n",
    "    (\"a\", {\"type\": {\"Adult\"}, \"age\": {43, 35, 18}, \"name\": {\"Paul\", \"Jack\", \"Robert\"}, \"hobby\": {\"hiking\", \"music\", \"sport\"}}),\n",
    "    (\"b\", {\"type\": {\"Child\"}, \"age\": {12, 18}, \"name\": {\"Paul\", \"Joe\"}})\n",
    "]\n",
    "edges = [\n",
    "    (\"a\", \"a\", {\"type\": {\"friends\", \"colleagues\"}}),\n",
    "    (\"b\", \"a\", {\"type\": {\"child_of\"}}),\n",
    "    (\"b\", \"b\", {\"type\": {\"friends\", \"enemies\"}})\n",
    "]\n",
    "h.add_graph('metaModel', nodes, edges)"
   ]
  },
  {
   "cell_type": "markdown",
   "metadata": {},
   "source": [
    "## Typing"
   ]
  },
  {
   "cell_type": "markdown",
   "metadata": {},
   "source": [
    "Here we create a typing of the *ActionGraph* by the *MetaModel*."
   ]
  },
  {
   "cell_type": "code",
   "execution_count": 5,
   "metadata": {},
   "outputs": [
    {
     "name": "stdout",
     "output_type": "stream",
     "text": [
      "CREATE CONSTRAINT ON (n:actionGraph) ASSERT n.id IS UNIQUE\n",
      "CREATE CONSTRAINT ON (n:metaModel) ASSERT n.id IS UNIQUE\n"
     ]
    },
    {
     "data": {
      "text/plain": [
       "<neo4j.BoltStatementResult at 0x7fc5fa57ff28>"
      ]
     },
     "execution_count": 5,
     "metadata": {},
     "output_type": "execute_result"
    }
   ],
   "source": [
    "mapping = {\n",
    "    \"a\":\"a\",\n",
    "    \"b\":\"a\",\n",
    "    \"c\":\"a\",\n",
    "    \"d\":\"b\",\n",
    "    \"e\":\"b\"\n",
    "}\n",
    "h.add_typing('actionGraph', 'metaModel', mapping)"
   ]
  },
  {
   "cell_type": "markdown",
   "metadata": {},
   "source": [
    "## Classic update functions"
   ]
  },
  {
   "cell_type": "markdown",
   "metadata": {},
   "source": [
    "We still can use the modification functions on these graphs."
   ]
  },
  {
   "cell_type": "code",
   "execution_count": 6,
   "metadata": {},
   "outputs": [],
   "source": [
    "#ag.merge_nodes1([\"b\", \"c\"])"
   ]
  },
  {
   "cell_type": "code",
   "execution_count": 7,
   "metadata": {
    "scrolled": false
   },
   "outputs": [],
   "source": [
    "#ag.clone_node(\"e\")"
   ]
  },
  {
   "cell_type": "markdown",
   "metadata": {},
   "source": [
    "## Graph rewriting and propagation up"
   ]
  },
  {
   "cell_type": "code",
   "execution_count": 8,
   "metadata": {},
   "outputs": [],
   "source": [
    "pattern = nx.DiGraph()\n",
    "pattern.add_nodes_from([\"x\", (\"y\",  {\"type\": {\"Child\"}, \"age\": {12, 18}, \"name\" : {\"Paul\", \"Joe\"}})])\n",
    "pattern.add_edges_from([(\"y\", \"x\",  {\"type\": {\"child_of\"}}), (\"y\", \"y\")])"
   ]
  },
  {
   "cell_type": "code",
   "execution_count": 9,
   "metadata": {},
   "outputs": [],
   "source": [
    "rule = Rule.from_transform(pattern)\n",
    "rule.inject_remove_node_attrs(\"y\",  {\"age\": {18}})\n",
    "rule.inject_remove_edge_attrs(\"y\", \"x\",  {\"type\": {\"child_of\"}})\n",
    "#rule.inject_remove_node(\"x\")\n",
    "#rule.inject_remove_edge(\"y\",\"y\")\n",
    "#rule.inject_clone_node(\"y\")"
   ]
  },
  {
   "cell_type": "code",
   "execution_count": 10,
   "metadata": {},
   "outputs": [
    {
     "name": "stdout",
     "output_type": "stream",
     "text": [
      "CREATE CONSTRAINT ON (n:metaModel) ASSERT n.id IS UNIQUE\n",
      "MATCH (x:metaModel), (y:metaModel), (y)-[:edge]->(x), (y)-[:edge]->(y)\n",
      "WHERE id(x) <> id(y)\n",
      " AND 'Child' IN y.type AND 18 IN y.age AND 12 IN y.age AND 'Paul' IN y.name AND 'Joe' IN y.name\n",
      "RETURN x, y\n",
      "Instances:  [{'x': 'a', 'y': 'b'}]\n"
     ]
    }
   ],
   "source": [
    "instances = h.find_matching('metaModel', pattern)\n",
    "print(\"Instances: \", instances)"
   ]
  },
  {
   "cell_type": "code",
   "execution_count": 11,
   "metadata": {
    "scrolled": true
   },
   "outputs": [
    {
     "name": "stdout",
     "output_type": "stream",
     "text": [
      "CREATE CONSTRAINT ON (n:metaModel) ASSERT n.id IS UNIQUE\n",
      "// Match nodes and edges of the instance \n",
      "MATCH (lhs_x:metaModel { id : 'a'}) , (lhs_y:metaModel { id : 'b'})  , (lhs_y)-[lhs_y_lhs_x:edge]->(lhs_x), (lhs_y)-[lhs_y_lhs_y:edge]->(lhs_y)\n",
      "\n",
      "\n",
      "// Renaming vars to correspond to the vars of P\n",
      "WITH lhs_y_lhs_y, lhs_y_lhs_x , lhs_x as p_x, lhs_y as p_y \n",
      "\n",
      "// Removing properties from node 'y' of P \n",
      "FOREACH(dummy IN CASE WHEN 'age' IN keys(p_y) THEN [1] ELSE [] END |\n",
      "\tSET p_y.age = filter(v in p_y.age WHERE NOT v IN ['18'])\n",
      "\tFOREACH(dumy2 IN CASE WHEN size(p_y.age)=0 THEN [1] ELSE [] END |\n",
      "\t\tREMOVE p_y.age))\n",
      "\n",
      "\n",
      "// Removing properties from edge y->x of P \n",
      "WITH lhs_y_lhs_x, p_x, p_y, lhs_y_lhs_y MATCH (p_y)-[p_y_p_x:edge]->(p_x)\n",
      "FOREACH(dummy IN CASE WHEN 'type' IN keys(p_y_p_x) THEN [1] ELSE [] END |\n",
      "\tSET p_y_p_x.type = filter(v in p_y_p_x.type WHERE NOT v IN ['child_of'])\n",
      "\tFOREACH(dumy2 IN CASE WHEN size(p_y_p_x.type)=0 THEN [1] ELSE [] END |\n",
      "\t\tREMOVE p_y_p_x.type))\n",
      "\n",
      "\n",
      "// Renaming vars to correspond to the vars of rhs\n",
      "WITH lhs_y_lhs_x, p_y_p_x, lhs_y_lhs_y , p_x as rhs_x, p_y as rhs_y \n",
      "\n",
      "// Return statement \n",
      "RETURN rhs_x, lhs_y_lhs_x, p_y_p_x, rhs_y, lhs_y_lhs_y\n",
      "\n"
     ]
    },
    {
     "data": {
      "text/plain": [
       "(<regraph.neo4j.hierarchy.Neo4jHierarchy at 0x7fc5fbdc17b8>,\n",
       " {'x': 'a', 'y': 'b'})"
      ]
     },
     "execution_count": 11,
     "metadata": {},
     "output_type": "execute_result"
    }
   ],
   "source": [
    "h.rewrite('metaModel', rule, instances[0])"
   ]
  },
  {
   "cell_type": "markdown",
   "metadata": {},
   "source": [
    "## Graph rewritting and propagation down"
   ]
  },
  {
   "cell_type": "code",
   "execution_count": 12,
   "metadata": {},
   "outputs": [],
   "source": [
    "pattern = nx.DiGraph()\n",
    "pattern.add_nodes_from([(\"w\", {\"name\":{\"Paul\"}}), \"x\", \"y\", \"z\"])\n",
    "pattern.add_edges_from([(\"x\", \"w\"), (\"y\", \"x\"), (\"y\", \"z\"), (\"z\",\"z\")])"
   ]
  },
  {
   "cell_type": "code",
   "execution_count": 13,
   "metadata": {},
   "outputs": [],
   "source": [
    "rule = Rule.from_transform(pattern)\n",
    "rule.inject_add_node_attrs(\"x\", {\"age\":{10}})\n",
    "rule.inject_add_edge_attrs(\"x\", \"w\", {\"relation\":{\"brothers\"}})\n",
    "rule.inject_add_node(\"new_node\", {\"name\":{\"Will\"}})\n",
    "rule.inject_add_edge(\"new_node\", \"y\")\n",
    "merged_node = rule.inject_merge_nodes([\"w\", \"z\"])"
   ]
  },
  {
   "cell_type": "code",
   "execution_count": 14,
   "metadata": {},
   "outputs": [],
   "source": [
    "rhs_typing = {\n",
    "    'metaModel': {'new_node':'a', merged_node: 'a'}\n",
    "}"
   ]
  },
  {
   "cell_type": "code",
   "execution_count": 15,
   "metadata": {},
   "outputs": [
    {
     "name": "stdout",
     "output_type": "stream",
     "text": [
      "CREATE CONSTRAINT ON (n:actionGraph) ASSERT n.id IS UNIQUE\n",
      "MATCH (w:actionGraph), (x:actionGraph), (y:actionGraph), (z:actionGraph), (x)-[:edge]->(w), (y)-[:edge]->(x), (y)-[:edge]->(z), (z)-[:edge]->(z)\n",
      "WHERE id(w) <> id(x) AND id(x) <> id(y) AND id(y) <> id(z)\n",
      " AND 'Paul' IN w.name\n",
      "RETURN w, x, y, z\n",
      "Instances:  [{'w': 'c', 'x': 'a', 'y': 'd', 'z': 'e'}]\n"
     ]
    }
   ],
   "source": [
    "instances = h.find_matching('actionGraph', pattern)\n",
    "print(\"Instances: \", instances)"
   ]
  },
  {
   "cell_type": "code",
   "execution_count": 16,
   "metadata": {
    "scrolled": false
   },
   "outputs": [
    {
     "name": "stdout",
     "output_type": "stream",
     "text": [
      "CREATE CONSTRAINT ON (n:actionGraph) ASSERT n.id IS UNIQUE\n",
      "// Match nodes and edges of the instance \n",
      "MATCH (lhs_w:actionGraph { id : 'c'}) , (lhs_x:actionGraph { id : 'a'}) , (lhs_y:actionGraph { id : 'd'}) , (lhs_z:actionGraph { id : 'e'})  , (lhs_x)-[lhs_x_lhs_w:edge]->(lhs_w), (lhs_y)-[lhs_y_lhs_x:edge]->(lhs_x), (lhs_y)-[lhs_y_lhs_z:edge]->(lhs_z), (lhs_z)-[lhs_z_lhs_z:edge]->(lhs_z)\n",
      "\n",
      "\n",
      "// Renaming vars to correspond to the vars of P\n",
      "WITH lhs_y_lhs_x, lhs_x_lhs_w, lhs_z_lhs_z, lhs_y_lhs_z , lhs_w as p_w, lhs_x as p_x, lhs_y as p_y, lhs_z as p_z \n",
      "\n",
      "// Merging nodes '{'w', 'z'}' of the preserved part into 'w_z' \n",
      "// accumulate all the attrs of the nodes to be merged\n",
      "WITH [] as new_props, p_z, lhs_y_lhs_x, p_w, lhs_x_lhs_w, lhs_z_lhs_z, lhs_y_lhs_z, p_y, p_x\n",
      "WITH new_props + REDUCE(pairs = [], k in keys(p_w) | \n",
      "\tpairs + REDUCE(inner_pairs = [], v in p_w[k] | \n",
      "\t\tinner_pairs + {key: k, value: v})) as new_props, p_z, lhs_y_lhs_x, p_w, lhs_x_lhs_w, lhs_z_lhs_z, lhs_y_lhs_z, p_y, p_x\n",
      "WITH new_props + REDUCE(pairs = [], k in keys(p_z) | \n",
      "\tpairs + REDUCE(inner_pairs = [], v in p_z[k] | \n",
      "\t\tinner_pairs + {key: k, value: v})) as new_props, p_z, lhs_y_lhs_x, p_w, lhs_x_lhs_w, lhs_z_lhs_z, lhs_y_lhs_z, p_y, p_x\n",
      "WITH apoc.map.groupByMulti(new_props, 'key') as new_props, p_z, lhs_y_lhs_x, p_w, lhs_x_lhs_w, lhs_z_lhs_z, lhs_y_lhs_z, p_y, p_x\n",
      "WITH apoc.map.fromValues(REDUCE(pairs=[], k in keys(new_props) | \n",
      "\tpairs + [k, REDUCE(values=[], v in new_props[k] | \n",
      "\t\tvalues + CASE WHEN v.value IN values THEN [] ELSE v.value END)])) as new_props, p_z, lhs_y_lhs_x, p_w, lhs_x_lhs_w, lhs_z_lhs_z, lhs_y_lhs_z, p_y, p_x\n",
      "SET p_w = new_props\n",
      "WITH p_w as rhs_w_z, p_z, lhs_y_lhs_x, lhs_x_lhs_w, lhs_z_lhs_z, lhs_y_lhs_z, p_y, p_x\n",
      "// set appropriate node id\n",
      "SET rhs_w_z.id = toString(id(rhs_w_z))\n",
      "SET rhs_w_z.count = NULL\n",
      "WITH toString(id(rhs_w_z)) as uidb6f5f50ecef046e69d01bb28f07e1d96, p_z, lhs_y_lhs_x, lhs_x_lhs_w, lhs_z_lhs_z, lhs_y_lhs_z, rhs_w_z, p_y, p_x\n",
      "// accumulate all the attrs of the edges incident to the merged nodes\n",
      "WITH [] as suc_maps, [] as pred_maps, p_z, lhs_y_lhs_x, lhs_x_lhs_w, lhs_z_lhs_z, lhs_y_lhs_z, rhs_w_z, uidb6f5f50ecef046e69d01bb28f07e1d96, p_y, p_x\n",
      "OPTIONAL MATCH (rhs_w_z)-[out_rel:edge]->(suc)\n",
      "WITH suc_maps + collect({id: id(suc), neighbor: suc, edge: out_rel}) as suc_maps, pred_maps, p_z, lhs_y_lhs_x, lhs_x_lhs_w, lhs_z_lhs_z, lhs_y_lhs_z, rhs_w_z, uidb6f5f50ecef046e69d01bb28f07e1d96, p_y, p_x\n",
      "OPTIONAL MATCH (pred)-[in_rel:edge]->(rhs_w_z)\n",
      "WITH pred_maps + collect({id: id(pred), neighbor: pred, edge: in_rel}) as pred_maps, suc_maps, p_z, lhs_y_lhs_x, lhs_x_lhs_w, lhs_z_lhs_z, lhs_y_lhs_z, rhs_w_z, uidb6f5f50ecef046e69d01bb28f07e1d96, p_y, p_x\n",
      "OPTIONAL MATCH (p_z)-[out_rel:edge]->(suc)\n",
      "WITH suc_maps + collect({id: id(suc), neighbor: suc, edge: out_rel}) as suc_maps, pred_maps, p_z, lhs_y_lhs_x, lhs_x_lhs_w, lhs_z_lhs_z, lhs_y_lhs_z, rhs_w_z, uidb6f5f50ecef046e69d01bb28f07e1d96, p_y, p_x\n",
      "OPTIONAL MATCH (pred)-[in_rel:edge]->(p_z)\n",
      "WITH pred_maps + collect({id: id(pred), neighbor: pred, edge: in_rel}) as pred_maps, suc_maps, p_z, lhs_y_lhs_x, lhs_x_lhs_w, lhs_z_lhs_z, lhs_y_lhs_z, rhs_w_z, uidb6f5f50ecef046e69d01bb28f07e1d96, p_y, p_x\n",
      "WITH apoc.map.groupByMulti(suc_maps, 'id') as suc_props, REDUCE(list=[], map in suc_maps | \n",
      "\tlist + CASE WHEN NOT map['neighbor'] IS NULL THEN [map['neighbor']] ELSE [] END) as suc_nodes, apoc.map.groupByMulti(pred_maps, 'id') as pred_props, REDUCE(list=[], map in pred_maps | \n",
      "\tlist + CASE WHEN NOT map['neighbor'] IS NULL THEN [map['neighbor']] ELSE [] END) as pred_nodes, \tREDUCE(l=[], el in suc_maps + pred_maps| \n",
      "\t\tl + CASE WHEN el['id'] IN [id(rhs_w_z),id(p_z)] THEN [toString(el['id'])] ELSE [] END) as self_loops, p_z, lhs_y_lhs_x, lhs_x_lhs_w, lhs_z_lhs_z, lhs_y_lhs_z, rhs_w_z, uidb6f5f50ecef046e69d01bb28f07e1d96, p_y, p_x\n",
      "WITH suc_nodes, pred_nodes, apoc.map.fromValues(REDUCE(edge_props=[], k in keys(suc_props) | \n",
      "\tedge_props + [k, apoc.map.groupByMulti(REDUCE(props=[], el in suc_props[k] | \n",
      "\t\tprops + REDUCE(pairs=[], kk in keys(el['edge']) | \n",
      "\t\t\tpairs + REDUCE(values=[], v in el['edge'][kk] | \n",
      "\t\t\t\tvalues + {key: kk, value: v}))), 'key')])) as suc_props, \n",
      "\tapoc.map.fromValues(REDUCE(edge_props=[], k in keys(pred_props) | \n",
      "\tedge_props + [k, apoc.map.groupByMulti(REDUCE(props=[], el in pred_props[k] | \n",
      "\t\tprops + REDUCE(pairs=[], kk in keys(el['edge']) | \n",
      "\t\t\tpairs + REDUCE(values=[], v in el['edge'][kk] | \n",
      "\t\t\t\t values + {key: kk, value: v}))), 'key')])) as pred_props,  \n",
      "\tREDUCE(edge_props=[], k IN filter(k IN keys(suc_props) WHERE k IN self_loops) |\n",
      "\t\tedge_props + suc_props[k]) + \n",
      "\tREDUCE(edge_props=[], k IN filter(k IN keys(pred_props) WHERE k IN self_loops) |\n",
      "\t\tedge_props + pred_props[k]) as self_loop_props, p_z, lhs_y_lhs_x, lhs_x_lhs_w, lhs_z_lhs_z, lhs_y_lhs_z, self_loops, rhs_w_z, uidb6f5f50ecef046e69d01bb28f07e1d96, p_y, p_x\n",
      "WITH suc_nodes, suc_props, pred_nodes, pred_props, apoc.map.groupByMulti(REDUCE(pairs=[], el in self_loop_props |\n",
      "\tpairs + REDUCE(inner_pairs=[], k in keys(el['edge']) | \n",
      "\t\tinner_pairs + REDUCE(values=[], v in el['edge'][k] |\n",
      "\t\t\tvalues + {key: k, value: v}))), 'key') as self_loop_props, p_z, lhs_y_lhs_x, lhs_x_lhs_w, lhs_z_lhs_z, lhs_y_lhs_z, self_loops, rhs_w_z, uidb6f5f50ecef046e69d01bb28f07e1d96, p_y, p_x\n",
      "FOREACH(suc IN filter(suc IN suc_nodes WHERE NOT id(suc) in self_loops) |\n",
      "\tMERGE (rhs_w_z)-[new_rel:edge]->(suc)\n",
      "\tSET new_rel = apoc.map.fromValues(REDUCE(pairs=[], k in keys(suc_props[toString(id(suc))]) | \n",
      "\t\t pairs + [k, REDUCE(values=[], v in suc_props[toString(id(suc))][k] | \n",
      "\t\t\tvalues + CASE WHEN v.value IN values THEN [] ELSE v.value END)])))\n",
      "FOREACH(pred IN filter(pred IN pred_nodes WHERE NOT id(pred) in self_loops) |\n",
      "\tMERGE (pred)-[new_rel:edge]->(rhs_w_z)\n",
      "\tSET new_rel = apoc.map.fromValues(REDUCE(pairs=[], k in keys(pred_props[toString(id(pred))]) | \n",
      "\t\t pairs + [k, REDUCE(values=[], v in pred_props[toString(id(pred))][k] | \n",
      "\t\t\tvalues + CASE WHEN v.value IN values THEN [] ELSE v.value END)])))\n",
      "// add self loop \n",
      "FOREACH(dummy in CASE WHEN length(self_loops) > 0 THEN [NULL] ELSE [] END |\n",
      "\tMERGE (rhs_w_z)-[new_rel:edge]->(rhs_w_z)\n",
      "\tSET new_rel = apoc.map.fromValues(REDUCE(pairs=[], k in keys(self_loop_props) |\n",
      "\t\tpairs + [k, REDUCE(values=[], v in self_loop_props[k] |\n",
      "\t\t\tvalues + CASE WHEN v.value IN values THEN [] ELSE v.value END)])))\n",
      "// accumulate all the attrs of the edges incident to the merged nodes\n",
      "WITH [] as suc_typings, [] as pred_typings, p_z, lhs_y_lhs_x, lhs_x_lhs_w, lhs_z_lhs_z, lhs_y_lhs_z, rhs_w_z, uidb6f5f50ecef046e69d01bb28f07e1d96, p_y, p_x\n",
      "OPTIONAL MATCH (rhs_w_z)-[:typing]->(suc)\n",
      "WITH suc_typings + collect(suc) as suc_typings, pred_typings, p_z, lhs_y_lhs_x, lhs_x_lhs_w, lhs_z_lhs_z, lhs_y_lhs_z, rhs_w_z, uidb6f5f50ecef046e69d01bb28f07e1d96, p_y, p_x\n",
      "OPTIONAL MATCH (pred)-[:typing]->(rhs_w_z)\n",
      "WITH pred_typings + collect(pred) as pred_typings, suc_typings, p_z, lhs_y_lhs_x, lhs_x_lhs_w, lhs_z_lhs_z, lhs_y_lhs_z, rhs_w_z, uidb6f5f50ecef046e69d01bb28f07e1d96, p_y, p_x\n",
      "OPTIONAL MATCH (p_z)-[:typing]->(suc)\n",
      "WITH suc_typings + collect(suc) as suc_typings, pred_typings, p_z, lhs_y_lhs_x, lhs_x_lhs_w, lhs_z_lhs_z, lhs_y_lhs_z, rhs_w_z, uidb6f5f50ecef046e69d01bb28f07e1d96, p_y, p_x\n",
      "OPTIONAL MATCH (pred)-[:typing]->(p_z)\n",
      "WITH pred_typings + collect(pred) as pred_typings, suc_typings, p_z, lhs_y_lhs_x, lhs_x_lhs_w, lhs_z_lhs_z, lhs_y_lhs_z, rhs_w_z, uidb6f5f50ecef046e69d01bb28f07e1d96, p_y, p_x\n",
      "FOREACH(suc in suc_typings |\n",
      "\tMERGE (rhs_w_z)-[:typing]->(suc))\n",
      "FOREACH(pred in pred_typings |\n",
      "\tMERGE (pred)-[:typing]->(rhs_w_z))\n",
      "DETACH DELETE (p_z)\n",
      "\n",
      "\n",
      "// Adding node 'new_node' from the rhs \n",
      "CREATE (rhs_new_node:actionGraph) \n",
      "SET rhs_new_node.id = toString(id(rhs_new_node)) \n",
      "WITH toString(id(rhs_new_node)) as rhs_new_node_id , p_z, lhs_y_lhs_x, lhs_x_lhs_w, lhs_z_lhs_z, lhs_y_lhs_z, rhs_new_node, rhs_w_z, uidb6f5f50ecef046e69d01bb28f07e1d96, p_y, p_x\n",
      "\n",
      "\n",
      "// Renaming vars to correspond to the vars of rhs\n",
      "WITH p_z, lhs_y_lhs_x, lhs_x_lhs_w, lhs_z_lhs_z, lhs_y_lhs_z, rhs_new_node, rhs_w_z, rhs_new_node_id, uidb6f5f50ecef046e69d01bb28f07e1d96 , p_x as rhs_x, p_y as rhs_y \n",
      "\n",
      "// Adding properties to the node 'x' from the rhs \n",
      "FOREACH (dummy IN CASE WHEN 'age' IN keys(rhs_x) THEN [] ELSE [1] END |\tSET rhs_x.age = [10])\n",
      "FOREACH(dummy IN CASE WHEN 'age' IN keys(rhs_x) THEN [1] ELSE [] END |\n",
      "\tFOREACH(val in [10] |\n",
      "\t\tFOREACH(dummy1 IN CASE WHEN NOT val IN rhs_x.age THEN [1] ELSE [] END |\n",
      "\t\t\tSET rhs_x.age = rhs_x.age + [val])))\n",
      "\n",
      "\n",
      "// Adding properties to the node 'new_node' from the rhs \n",
      "FOREACH (dummy IN CASE WHEN 'name' IN keys(rhs_new_node) THEN [] ELSE [1] END |\tSET rhs_new_node.name = ['Will'])\n",
      "FOREACH(dummy IN CASE WHEN 'name' IN keys(rhs_new_node) THEN [1] ELSE [] END |\n",
      "\tFOREACH(val in ['Will'] |\n",
      "\t\tFOREACH(dummy1 IN CASE WHEN NOT val IN rhs_new_node.name THEN [1] ELSE [] END |\n",
      "\t\t\tSET rhs_new_node.name = rhs_new_node.name + [val])))\n",
      "\n",
      "\n",
      "// Adding properties to the node 'w_z' from the rhs \n",
      "FOREACH (dummy IN CASE WHEN 'name' IN keys(rhs_w_z) THEN [] ELSE [1] END |\tSET rhs_w_z.name = ['Paul'])\n",
      "FOREACH(dummy IN CASE WHEN 'name' IN keys(rhs_w_z) THEN [1] ELSE [] END |\n",
      "\tFOREACH(val in ['Paul'] |\n",
      "\t\tFOREACH(dummy1 IN CASE WHEN NOT val IN rhs_w_z.name THEN [1] ELSE [] END |\n",
      "\t\t\tSET rhs_w_z.name = rhs_w_z.name + [val])))\n",
      "\n",
      "\n",
      "// Adding edge 'new_node->y' from the rhs \n",
      "MERGE (rhs_new_node)-[rhs_new_node_rhs_y:edge]->(rhs_y)\n",
      "\n",
      "\n",
      "// Adding properties to an edge 'x'->'w_z' from the rhs \n",
      "WITH p_z, rhs_x, lhs_y_lhs_x, lhs_x_lhs_w, rhs_y, lhs_z_lhs_z, lhs_y_lhs_z, rhs_new_node, rhs_w_z, rhs_new_node_id, uidb6f5f50ecef046e69d01bb28f07e1d96 \n",
      "MATCH (rhs_x)-[rhs_x_rhs_w_z:edge]->(rhs_w_z)\n",
      "FOREACH (dummy IN CASE WHEN 'relation' IN keys(rhs_x_rhs_w_z) THEN [] ELSE [1] END |\tSET rhs_x_rhs_w_z.relation = ['brothers'])\n",
      "FOREACH(dummy IN CASE WHEN 'relation' IN keys(rhs_x_rhs_w_z) THEN [1] ELSE [] END |\n",
      "\tFOREACH(val in ['brothers'] |\n",
      "\t\tFOREACH(dummy1 IN CASE WHEN NOT val IN rhs_x_rhs_w_z.relation THEN [1] ELSE [] END |\n",
      "\t\t\tSET rhs_x_rhs_w_z.relation = rhs_x_rhs_w_z.relation + [val])))\n",
      "WITH p_z, rhs_x, lhs_y_lhs_x, lhs_x_lhs_w, rhs_y, rhs_x_rhs_w_z, lhs_z_lhs_z, lhs_y_lhs_z, rhs_new_node, rhs_w_z, rhs_new_node_id, uidb6f5f50ecef046e69d01bb28f07e1d96 \n",
      "\n",
      "// Return statement \n",
      "RETURN p_z, rhs_x, lhs_y_lhs_x, lhs_x_lhs_w, rhs_y, rhs_x_rhs_w_z, lhs_z_lhs_z, lhs_y_lhs_z, rhs_new_node, rhs_w_z, rhs_new_node_id, uidb6f5f50ecef046e69d01bb28f07e1d96\n",
      "\n"
     ]
    },
    {
     "data": {
      "text/plain": [
       "(<regraph.neo4j.hierarchy.Neo4jHierarchy at 0x7fc5fbdc17b8>,\n",
       " {'x': 'a', 'y': 'd', 'new_node': '166408', 'w_z': '166404'})"
      ]
     },
     "execution_count": 16,
     "metadata": {},
     "output_type": "execute_result"
    }
   ],
   "source": [
    "h.rewrite('actionGraph', rule, instances[0], rhs_typing=rhs_typing)"
   ]
  },
  {
   "cell_type": "markdown",
   "metadata": {},
   "source": [
    "## Removing a graph from the hierarchy"
   ]
  },
  {
   "cell_type": "markdown",
   "metadata": {},
   "source": [
    "We can also remove a graph from the hierarchy. All its nodes and connections (edges and typing edges) are removed."
   ]
  }
 ],
 "metadata": {
  "anaconda-cloud": {},
  "kernelspec": {
   "display_name": "Python 3",
   "language": "python",
   "name": "python3"
  },
  "language_info": {
   "codemirror_mode": {
    "name": "ipython",
    "version": 3
   },
   "file_extension": ".py",
   "mimetype": "text/x-python",
   "name": "python",
   "nbconvert_exporter": "python",
   "pygments_lexer": "ipython3",
   "version": "3.6.6"
  }
 },
 "nbformat": 4,
 "nbformat_minor": 2
}
