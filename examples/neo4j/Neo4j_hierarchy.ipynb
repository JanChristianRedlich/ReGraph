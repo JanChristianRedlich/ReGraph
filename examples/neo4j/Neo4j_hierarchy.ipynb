{
 "cells": [
  {
   "cell_type": "markdown",
   "metadata": {},
   "source": [
    "# Examples of utils provided by ReGraph's Neo4jHierarchy module"
   ]
  },
  {
   "cell_type": "code",
   "execution_count": 1,
   "metadata": {},
   "outputs": [],
   "source": [
    "import networkx as nx\n",
    "from regraph import Rule, plot_rule\n",
    "\n",
    "\n",
    "from regraph.neo4j.hierarchy import Neo4jHierarchy\n",
    "import regraph.neo4j.cypher_utils as cypher"
   ]
  },
  {
   "cell_type": "markdown",
   "metadata": {},
   "source": [
    "## Initializing Neo4j database\n",
    "\n",
    "0. When installing neo4j you will be asked to choose login/password for you dbs (here its \"neo4j\"/\"admin\"), if you choose other -- change in the cell below.\n",
    "1. To start neo4j server run `sudo service neo4j start`\n",
    "2. Check status by running `sudo service neo4j status`. Here you can check the _bolt_ port, change the cell below if different from 7687\n",
    "3. You can query the db by using the neo4j browser, the address can be found also in the result of 'status', e.g. \"Remote interface available at http://localhost:7474/\"."
   ]
  },
  {
   "cell_type": "code",
   "execution_count": 2,
   "metadata": {
    "scrolled": false
   },
   "outputs": [],
   "source": [
    "# initialize the neo4j driver, wrappped into Neo4jHierarchy object\n",
    "h = Neo4jHierarchy(uri=\"bolt://localhost:7687\", user=\"neo4j\", password=\"admin\")"
   ]
  },
  {
   "cell_type": "markdown",
   "metadata": {},
   "source": [
    "## Hierarchy\n",
    "\n",
    "A hierarchy is represented by at least 2 graphs with a typing relation (homorphism) between them.\n",
    "\n",
    "\n",
    "Each graph in the database is represented by a unique label which enables us to match quickly the nodes of this graph. Each node of a graph has then the labels *node* and *graphLabel*. We can match these nodes by using the query:\n",
    "\n",
    "> MATCH (n:node:graphLabel) RETURN n\n",
    "\n",
    "\n",
    "The edges of a graph are labeled as *edge* and the typing edges are labeled as *typing*. We can then easily find the image of a node with the query:\n",
    "\n",
    "> OPTIONAL MATCH (n:node:graphLabel)-[:typing]->(m) RETURN m\n",
    "\n",
    "The hierarchy skeleton is represented by nodes labeled as hierarchyNodes. It enables us to know which graphs are the ancestors of a graph we want to rewrite for example."
   ]
  },
  {
   "cell_type": "markdown",
   "metadata": {},
   "source": [
    "## Adding a graph to the hierarchy (Action Graph)"
   ]
  },
  {
   "cell_type": "markdown",
   "metadata": {},
   "source": [
    "Here we create a first graph called *ActionGraph*. This graph represent people and the relationship between them."
   ]
  },
  {
   "cell_type": "code",
   "execution_count": 3,
   "metadata": {
    "scrolled": true
   },
   "outputs": [],
   "source": [
    "nodes = [\n",
    "    (\"a\", {\"name\": {\"Jack\"}, \"age\": {43}, \"hobby\": {\"hiking\", \"music\"}}), \n",
    "    (\"b\", {\"name\": {\"Robert\"}, \"age\": {35}, \"hobby\": {\"sport\", \"music\"}}),\n",
    "    (\"c\", {\"name\":{ \"Paul\"}, \"age\": {18}}),\n",
    "    (\"d\", {\"name\": {\"Joe\"}, \"age\": {12}}),\n",
    "    (\"e\", {\"name\": {\"Paul\"}, \"age\": {18}})\n",
    "]\n",
    "edges = [\n",
    "    (\"a\", \"b\", {\"type\": {\"friends\"}}), \n",
    "    (\"a\", \"c\", {\"type\": {\"colleagues\"}}),\n",
    "    (\"b\", \"c\", {\"type\": {\"colleagues\"}}),\n",
    "    (\"d\", \"a\", {\"type\": {\"child_of\"}}), \n",
    "    (\"d\", \"e\", {\"type\": {\"enemies\"}}),\n",
    "    (\"e\", \"e\", {\"type\": {\"likes\"}})\n",
    "]\n",
    "h.add_graph('actionGraph', nodes, edges)"
   ]
  },
  {
   "cell_type": "markdown",
   "metadata": {},
   "source": [
    "## Adding a second graph to the herarchy (Meta Model)"
   ]
  },
  {
   "cell_type": "markdown",
   "metadata": {},
   "source": [
    "Here we create a second graph called *MetaModel*. Which represent the types of people (*Adult* or *Child*) and the relationships between them."
   ]
  },
  {
   "cell_type": "code",
   "execution_count": 4,
   "metadata": {},
   "outputs": [],
   "source": [
    "nodes = [\n",
    "    (\"a\", {\"type\": {\"Adult\"}, \"age\": {43, 35, 18}, \"name\": {\"Paul\", \"Jack\", \"Robert\"}, \"hobby\": {\"hiking\", \"music\", \"sport\"}}),\n",
    "    (\"b\", {\"type\": {\"Child\"}, \"age\": {12, 18}, \"name\": {\"Paul\", \"Joe\"}})\n",
    "]\n",
    "edges = [\n",
    "    (\"a\", \"a\", {\"type\": {\"friends\", \"colleagues\"}}),\n",
    "    (\"b\", \"a\", {\"type\": {\"child_of\"}}),\n",
    "    (\"b\", \"b\", {\"type\": {\"friends\", \"enemies\"}})\n",
    "]\n",
    "h.add_graph('metaModel', nodes, edges)"
   ]
  },
  {
   "cell_type": "markdown",
   "metadata": {},
   "source": [
    "## Typing"
   ]
  },
  {
   "cell_type": "markdown",
   "metadata": {},
   "source": [
    "Here we create a typing of the *ActionGraph* by the *MetaModel*."
   ]
  },
  {
   "cell_type": "code",
   "execution_count": 5,
   "metadata": {},
   "outputs": [
    {
     "data": {
      "text/plain": [
       "<neo4j.v1.result.BoltStatementResult at 0x7fac8a0b7198>"
      ]
     },
     "execution_count": 5,
     "metadata": {},
     "output_type": "execute_result"
    }
   ],
   "source": [
    "mapping = {\n",
    "    \"a\":\"a\",\n",
    "    \"b\":\"a\",\n",
    "    \"c\":\"a\",\n",
    "    \"d\":\"b\",\n",
    "    \"e\":\"b\"\n",
    "}\n",
    "h.add_typing('actionGraph', 'metaModel', mapping)"
   ]
  },
  {
   "cell_type": "code",
   "execution_count": 6,
   "metadata": {
    "scrolled": false
   },
   "outputs": [
    {
     "name": "stdout",
     "output_type": "stream",
     "text": [
      "True\n"
     ]
    }
   ],
   "source": [
    "h.check_typing('actionGraph', 'metaModel')"
   ]
  },
  {
   "cell_type": "markdown",
   "metadata": {},
   "source": [
    "## Classic update functions"
   ]
  },
  {
   "cell_type": "markdown",
   "metadata": {},
   "source": [
    "We still can use the modification functions on these graphs."
   ]
  },
  {
   "cell_type": "code",
   "execution_count": 7,
   "metadata": {},
   "outputs": [],
   "source": [
    "#ag.merge_nodes1([\"b\", \"c\"])"
   ]
  },
  {
   "cell_type": "code",
   "execution_count": 8,
   "metadata": {
    "scrolled": false
   },
   "outputs": [],
   "source": [
    "#ag.clone_node(\"e\")"
   ]
  },
  {
   "cell_type": "markdown",
   "metadata": {},
   "source": [
    "## Graph rewriting and propagation up"
   ]
  },
  {
   "cell_type": "code",
   "execution_count": 9,
   "metadata": {},
   "outputs": [],
   "source": [
    "pattern = nx.DiGraph()\n",
    "pattern.add_nodes_from([\"x\", (\"y\",  {\"type\": {\"Child\"}, \"age\": {12, 18}, \"name\" : {\"Paul\", \"Joe\"}})])\n",
    "pattern.add_edges_from([(\"y\", \"x\",  {\"type\": {\"child_of\"}}), (\"y\", \"y\")])"
   ]
  },
  {
   "cell_type": "code",
   "execution_count": 10,
   "metadata": {},
   "outputs": [],
   "source": [
    "rule = Rule.from_transform(pattern)\n",
    "rule.inject_remove_node_attrs(\"y\",  {\"age\": {18}})\n",
    "rule.inject_remove_edge_attrs(\"y\", \"x\",  {\"type\": {\"child_of\"}})\n",
    "#rule.inject_remove_node(\"x\")\n",
    "#rule.inject_remove_edge(\"y\",\"y\")\n",
    "#rule.inject_clone_node(\"y\")"
   ]
  },
  {
   "cell_type": "code",
   "execution_count": 11,
   "metadata": {
    "scrolled": false
   },
   "outputs": [
    {
     "name": "stderr",
     "output_type": "stream",
     "text": [
      "/home/vrtual-bd/Documents/Codes/env3/lib/python3.6/site-packages/matplotlib-2.2.2-py3.6-linux-x86_64.egg/matplotlib/cbook/deprecation.py:107: MatplotlibDeprecationWarning: Passing one of 'on', 'true', 'off', 'false' as a boolean is deprecated; use an actual boolean (True/False) instead.\n",
      "  warnings.warn(message, mplDeprecation, stacklevel=1)\n",
      "/home/vrtual-bd/Documents/Codes/env3/lib/python3.6/site-packages/networkx-1.11-py3.6.egg/networkx/drawing/nx_pylab.py:522: MatplotlibDeprecationWarning: The is_string_like function was deprecated in version 2.1.\n",
      "  if not cb.is_string_like(edge_color) \\\n",
      "/home/vrtual-bd/Documents/Codes/env3/lib/python3.6/site-packages/networkx-1.11-py3.6.egg/networkx/drawing/nx_pylab.py:543: MatplotlibDeprecationWarning: The is_string_like function was deprecated in version 2.1.\n",
      "  if cb.is_string_like(edge_color) or len(edge_color) == 1:\n",
      "/home/vrtual-bd/Documents/Codes/env3/lib/python3.6/site-packages/networkx-1.11-py3.6.egg/networkx/drawing/nx_pylab.py:724: MatplotlibDeprecationWarning: The is_string_like function was deprecated in version 2.1.\n",
      "  if not cb.is_string_like(label):\n"
     ]
    },
    {
     "data": {
      "image/png": "[encoded data removed]",
      "text/plain": [
       "<Figure size 1008x216 with 3 Axes>"
      ]
     },
     "metadata": {},
     "output_type": "display_data"
    }
   ],
   "source": [
    "plot_rule(rule)"
   ]
  },
  {
   "cell_type": "code",
   "execution_count": 12,
   "metadata": {},
   "outputs": [
    {
     "name": "stdout",
     "output_type": "stream",
     "text": [
      "[('y', 'type', \"'Child'\"), ('y', 'age', '18'), ('y', 'age', '12'), ('y', 'name', \"'Paul'\"), ('y', 'name', \"'Joe'\")]\n",
      "MATCH (x:node:metaModel), (y:node:metaModel), (y)-[:edge]->(x), (y)-[:edge]->(y)\n",
      "WHERE 'Child' IN y.type AND 18 IN y.age AND 12 IN y.age AND 'Paul' IN y.name AND 'Joe' IN y.name\n",
      "RETURN x, y\n",
      "Instances:  [{'x': 'a', 'y': 'b'}]\n"
     ]
    }
   ],
   "source": [
    "mm = h.access_graph('metaModel')\n",
    "instances = mm.find_matching(pattern)\n",
    "print(\"Instances: \", instances)"
   ]
  },
  {
   "cell_type": "code",
   "execution_count": 13,
   "metadata": {
    "scrolled": true
   },
   "outputs": [
    {
     "name": "stdout",
     "output_type": "stream",
     "text": [
      "// Match nodes and edges of the instance \n",
      "MATCH (lhs_x:node:metaModel { id : 'a'}), (lhs_y:node:metaModel { id : 'b'}) , (lhs_y)-[lhs_y_lhs_x:edge]->(lhs_x), (lhs_y)-[lhs_y_lhs_y:edge]->(lhs_y)\n",
      "\n",
      "// Renaming vars to correspond to the vars of P\n",
      "WITH lhs_y_lhs_x, lhs_y_lhs_y , lhs_x as p_x, lhs_y as p_y \n",
      "\n",
      "// Removing properties from node 'y' of P \n",
      "FOREACH(dummy IN CASE WHEN 'age' IN keys(p_y) THEN [1] ELSE [] END |\n",
      "\tSET p_y.age = filter(v in p_y.age WHERE NOT v IN ['18'])\n",
      "\tFOREACH(dumy2 IN CASE WHEN size(p_y.age)=0 THEN [1] ELSE [] END |\n",
      "\t\tREMOVE p_y.age))\n",
      "\n",
      "\n",
      "// Removing properties from edge y->x of P \n",
      "WITH p_y, p_x, lhs_y_lhs_x, lhs_y_lhs_y MATCH (p_y)-[p_y_p_x:edge]->(p_x)\n",
      "FOREACH(dummy IN CASE WHEN 'type' IN keys(p_y_p_x) THEN [1] ELSE [] END |\n",
      "\tSET p_y_p_x.type = filter(v in p_y_p_x.type WHERE NOT v IN ['child_of'])\n",
      "\tFOREACH(dumy2 IN CASE WHEN size(p_y_p_x.type)=0 THEN [1] ELSE [] END |\n",
      "\t\tREMOVE p_y_p_x.type))\n",
      "\n",
      "\n",
      "// Renaming vars to correspond to the vars of rhs\n",
      "WITH p_y_p_x, lhs_y_lhs_x, lhs_y_lhs_y , p_x as rhs_x, p_y as rhs_y \n",
      "\n",
      "// Return statement \n",
      "RETURN rhs_y, p_y_p_x, lhs_y_lhs_x, lhs_y_lhs_y, rhs_x\n",
      "\n",
      "Rewriting rule to Cypher: \n",
      "\n",
      "// Match nodes and edges of the instance \n",
      "MATCH (lhs_x:node:metaModel { id : 'a'}), (lhs_y:node:metaModel { id : 'b'}) , (lhs_y)-[lhs_y_lhs_x:edge]->(lhs_x), (lhs_y)-[lhs_y_lhs_y:edge]->(lhs_y)\n",
      "\n",
      "// Renaming vars to correspond to the vars of P\n",
      "WITH lhs_y_lhs_x, lhs_y_lhs_y , lhs_x as p_x, lhs_y as p_y \n",
      "\n",
      "// Removing properties from node 'y' of P \n",
      "FOREACH(dummy IN CASE WHEN 'age' IN keys(p_y) THEN [1] ELSE [] END |\n",
      "\tSET p_y.age = filter(v in p_y.age WHERE NOT v IN ['18'])\n",
      "\tFOREACH(dumy2 IN CASE WHEN size(p_y.age)=0 THEN [1] ELSE [] END |\n",
      "\t\tREMOVE p_y.age))\n",
      "\n",
      "\n",
      "// Removing properties from edge y->x of P \n",
      "WITH p_y, p_x, lhs_y_lhs_x, lhs_y_lhs_y MATCH (p_y)-[p_y_p_x:edge]->(p_x)\n",
      "FOREACH(dummy IN CASE WHEN 'type' IN keys(p_y_p_x) THEN [1] ELSE [] END |\n",
      "\tSET p_y_p_x.type = filter(v in p_y_p_x.type WHERE NOT v IN ['child_of'])\n",
      "\tFOREACH(dumy2 IN CASE WHEN size(p_y_p_x.type)=0 THEN [1] ELSE [] END |\n",
      "\t\tREMOVE p_y_p_x.type))\n",
      "\n",
      "\n",
      "// Renaming vars to correspond to the vars of rhs\n",
      "WITH p_y_p_x, lhs_y_lhs_x, lhs_y_lhs_y , p_x as rhs_x, p_y as rhs_y \n",
      "\n",
      "// Return statement \n",
      "RETURN rhs_y, p_y_p_x, lhs_y_lhs_x, lhs_y_lhs_y, rhs_x\n",
      "\n"
     ]
    },
    {
     "data": {
      "text/plain": [
       "{}"
      ]
     },
     "execution_count": 13,
     "metadata": {},
     "output_type": "execute_result"
    }
   ],
   "source": [
    "mm = h.access_graph('metaModel')\n",
    "mm._rewrite_base(rule, instances[0])"
   ]
  },
  {
   "cell_type": "code",
   "execution_count": 14,
   "metadata": {
    "scrolled": true
   },
   "outputs": [
    {
     "name": "stdout",
     "output_type": "stream",
     "text": [
      "Rewritting ancestors of metaModel...\n",
      "-->  actionGraph\n",
      "// Matching of the nodes to clone in 'actionGraph'\n",
      "OPTIONAL MATCH (node_to_clone:node:actionGraph)-[t:typing]->(n:node:metaModel)\n",
      "WITH node_to_clone, collect(n) as sucs, collect(t) as typ_sucs, count(n) as number_of_img\n",
      "WHERE number_of_img >= 2 AND node_to_clone IS NOT NULL\n",
      "FOREACH(t IN typ_sucs | DELETE t)\n",
      "WITH node_to_clone, sucs, number_of_img-1 as number_of_clone\n",
      "UNWIND range(1, number_of_clone) as clone_number\n",
      "// create a node corresponding to the clone\n",
      "CREATE (cloned_node:node:actionGraph) \n",
      "WITH cloned_node, toString(id(cloned_node)) as clone_id, node_to_clone.id as original_old, sucs, clone_number, node_to_clone \n",
      "// set the id property of the original node to NULL\n",
      "SET node_to_clone.id = NULL\n",
      "// copy all the properties of the original node to the clone\n",
      "SET cloned_node = node_to_clone\n",
      "// set id property of the clone to neo4j-generated id\n",
      "SET cloned_node.id = toString(id(cloned_node)), cloned_node.count = NULL\n",
      "// set back the id property of the original node\n",
      "SET node_to_clone.id = original_old\n",
      "WITH cloned_node, toString(id(cloned_node)) as clone_id, sucs, clone_number, node_to_clone \n",
      "\n",
      "//create a map from original node id to the clone\n",
      "WITH {original_node:node_to_clone.id, clones:collect(cloned_node)+[node_to_clone]} as orig_id_to_clone, collect({clone_id:clone_id, clone:cloned_node}) as clone_maps, sucs, node_to_clone\n",
      "WITH collect(orig_id_to_clone) as orig_ids_to_clone, collect({orig:node_to_clone, clone_maps:clone_maps}) as all_orig, sucs\n",
      "WITH apoc.map.groupByMulti(orig_ids_to_clone, 'original_node') as orig_ids_to_clone, all_orig, sucs\n",
      "WITH apoc.map.fromValues(REDUCE(pairs=[], k in keys(orig_ids_to_clone) | \n",
      "\tpairs + [k, REDUCE(values=[], v in orig_ids_to_clone[k] | \n",
      "\t\tvalues + CASE WHEN v.clones IN values THEN [] ELSE v.clones END)])) as orig_ids_to_clone, all_orig, sucs\n",
      "UNWIND all_orig as original_map\n",
      "WITH original_map.orig as node_to_clone, original_map.clone_maps as clone_maps, sucs, orig_ids_to_clone\n",
      "UNWIND clone_maps as clone_map\n",
      "WITH clone_map.clone_id as clone_id, clone_map.clone as cloned_node, sucs, orig_ids_to_clone, node_to_clone\n",
      "WITH [] as sucIgnore, [] as predIgnore, orig_ids_to_clone, sucs, clone_id, cloned_node, node_to_clone \n",
      "// match successors and out-edges of a node to be cloned\n",
      "OPTIONAL MATCH (node_to_clone)-[out_edge:edge]->(suc) \n",
      "WHERE NOT suc.id IS NULL AND NOT suc.id IN sucIgnore\n",
      "WITH collect({neighbor: suc, id: suc.id, edge: out_edge}) as suc_maps, predIgnore, orig_ids_to_clone, sucs, clone_id, cloned_node, node_to_clone \n",
      "// match predecessors and in-edges of a node to be cloned\n",
      "OPTIONAL MATCH (pred)-[in_edge:edge]->(node_to_clone) \n",
      "WHERE NOT pred.id IS NULL AND NOT pred.id IN predIgnore\n",
      "WITH collect({neighbor: pred, id: pred.id, edge: in_edge}) as pred_maps, orig_ids_to_clone, suc_maps, sucs, clone_id, cloned_node, node_to_clone \n",
      "// copy all incident edges of the original node to the clone\n",
      "FOREACH (suc_map IN suc_maps | \n",
      "\tFOREACH (suc IN CASE\n",
      "\t\t\tWHEN suc_map.neighbor IS NOT NULL AND suc_map.id IN keys(orig_ids_to_clone)\n",
      "\t\t\t\tTHEN orig_ids_to_clone[suc_map.id] \n",
      "\t\t\tWHEN suc_map.neighbor IS NOT NULL\n",
      "\t\t\t\tTHEN [suc_map.neighbor] ELSE [] END |\n",
      "\t\tMERGE (cloned_node)-[new_edge:edge]->(suc) \n",
      "\t\tSET new_edge = suc_map.edge))\n",
      "FOREACH (pred_map IN pred_maps | \n",
      "\tFOREACH (pred IN CASE\n",
      "\t\t\tWHEN pred_map.neighbor IS NOT NULL AND pred_map.id IN keys(orig_ids_to_clone)\n",
      "\t\t\t\tTHEN orig_ids_to_clone[pred_map.id] \n",
      "\t\t\tWHEN pred_map.neighbor IS NOT NULL\n",
      "\t\t\t\tTHEN [pred_map.neighbor] ELSE [] END |\n",
      "\t\tMERGE (pred)-[new_edge:edge]->(cloned_node) \n",
      "\t\tSET new_edge = pred_map.edge))\n",
      "// copy self loop\n",
      "FOREACH (suc_map IN suc_maps | \n",
      "\tFOREACH (self_loop IN CASE WHEN suc_map.neighbor = node_to_clone THEN [suc_map.edge] ELSE [] END |\n",
      "\t\tMERGE (cloned_node)-[new_edge:edge]->(cloned_node) \n",
      "\t\tSET new_edge = self_loop))\n",
      "WITH orig_ids_to_clone, sucs, clone_id, cloned_node, node_to_clone \n",
      "OPTIONAL MATCH (node_to_clone)-[out_typ_edge:typing]->(suc_typ:node)\n",
      "WITH collect({neighbor: suc_typ, edge: out_typ_edge}) as suc_typ_maps, orig_ids_to_clone, sucs, clone_id, cloned_node, node_to_clone \n",
      "OPTIONAL MATCH (pred_typ:node)-[in_typ_edge:typing]->(node_to_clone) \n",
      "WITH collect({neighbor: pred_typ, edge: in_typ_edge}) as pred_typ_maps, orig_ids_to_clone, sucs, suc_typ_maps, clone_id, cloned_node, node_to_clone \n",
      "// copy all incident typing edges of the original node to the clone\n",
      "FOREACH (suc_map IN suc_typ_maps | \n",
      "\tFOREACH (suc IN CASE WHEN suc_map.neighbor IS NOT NULL THEN [suc_map.neighbor] ELSE [] END |\n",
      "\t\tMERGE (cloned_node)-[new_edge:typing]->(suc) \n",
      "\t\tSET new_edge = suc_map.edge))\n",
      "FOREACH (pred_map IN pred_typ_maps | \n",
      "\tFOREACH (pred IN CASE WHEN pred_map.neighbor IS NOT NULL THEN [pred_map.neighbor] ELSE [] END |\n",
      "\t\tMERGE (pred)-[new_edge:typing]->(cloned_node) \n",
      "\t\tSET new_edge = pred_map.edge))\n",
      "WITH collect(cloned_node)+[node_to_clone] as nodes_to_typ, collect(clone_id) as clone_ids, orig_ids_to_clone, sucs, node_to_clone\n",
      "FOREACH (i IN range(0, size(sucs)-1) |\n",
      "\tFOREACH(source in [nodes_to_typ[i]] |\n",
      "\t\tFOREACH(target in [sucs[i]] |\n",
      "\t\t\tMERGE (source)-[restored_typing:typing {  }]->(target)\n",
      ")))\n",
      "RETURN clone_ids\n",
      "// Removal of nodes in 'actionGraph'\n",
      "MATCH (n:node:actionGraph)\n",
      "OPTIONAL MATCH (n)-[:typing]->(x:node:metaModel)\n",
      "FOREACH(dummy IN CASE WHEN x IS NULL THEN [1] ELSE [] END |\n",
      "\tDETACH DELETE n\n",
      ")\n",
      "// Removal of node properties in 'actionGraph'\n",
      "WITH n, x\n",
      "WHERE x IS NOT NULL AND REDUCE(invalid = 0, k in filter(k in keys(n) WHERE k <> 'id') |\n",
      "\tinvalid + CASE\n",
      "\t\tWHEN NOT k IN keys(x) THEN 1\n",
      "\t\tELSE REDUCE(invalid_values = 0, v in n[k] |\n",
      "\t\t\tinvalid_values + CASE\n",
      "\t\t\t\tWHEN NOT v IN x[k] THEN 1 ELSE 0 END)\n",
      "\t\tEND) <> 0\n",
      "WITH n, x, [x, n] as node_to_merge_props\n",
      "\n",
      "//Perform the intersection of the properties of node_to_merge_props\n",
      "WITH [] as new_props, node_to_merge_props, n, x\n",
      "WITH new_props + REDUCE(pairs = [], k in keys(node_to_merge_props[0]) | pairs +\n",
      "\tCASE WHEN ALL(other in node_to_merge_props WHERE k in keys(other))\n",
      "\tTHEN\n",
      "\t\tREDUCE(inner_pairs = [], v in node_to_merge_props[0][k] | inner_pairs +\n",
      "\t\t\tCASE WHEN ALL(other in node_to_merge_props WHERE v in other[k])\n",
      "\t\t\tTHEN\n",
      "\t\t\t\t{key: k, value: v}\n",
      "\t\t\tELSE\n",
      "\t\t\t\t[]\n",
      "\t\t\tEND)\n",
      "\tELSE\n",
      "\t\t[]\n",
      "\tEND) as new_props, node_to_merge_props, n, x\n",
      "WITH apoc.map.groupByMulti(new_props, 'key') as new_props, node_to_merge_props, n, x\n",
      "WITH apoc.map.fromValues(REDUCE(pairs=[], k in keys(new_props) | \n",
      "\tpairs + [k, REDUCE(values=[], v in new_props[k] | \n",
      "\t\tvalues + CASE WHEN v.value IN values THEN [] ELSE v.value END)])) as new_props, node_to_merge_props, n, x\n",
      "WITH n.id as n_id, node_to_merge_props, new_props, n, x\n",
      "SET n = new_props\n",
      "SET n.id = n_id\n",
      "\n",
      "// Removal of edges attributes in 'actionGraph'\n",
      "MATCH (n:node:actionGraph)-[rel_pred:edge]->(m:node:actionGraph)\n",
      "OPTIONAL MATCH (x:node:metaModel)-[rel:edge]->(y:node:metaModel)WHERE (n)-[:typing]->(x) AND (m)-[:typing]->(y)\n",
      "FOREACH(dummy IN CASE WHEN rel IS NULL THEN [1] ELSE [] END |\n",
      "\tDELETE rel_pred\n",
      ")\n",
      "WITH rel, rel_pred\n",
      "WHERE rel IS NOT NULL AND REDUCE(invalid = 0, k in filter(k in keys(rel_pred) WHERE k <> 'id') |\n",
      "\tinvalid + CASE\n",
      "\t\tWHEN NOT k IN keys(rel) THEN 1\n",
      "\t\tELSE REDUCE(invalid_values = 0, v in rel_pred[k] |\n",
      "\t\t\tinvalid_values + CASE\n",
      "\t\t\t\tWHEN NOT v IN rel[k] THEN 1 ELSE 0 END)\n",
      "\t\tEND) <> 0\n",
      "WITH rel, rel_pred, [rel_pred, rel] as edges_to_merge_props\n",
      "\n",
      "//Perform the intersection of the properties of edges_to_merge_props\n",
      "WITH [] as new_props, rel, edges_to_merge_props, rel_pred\n",
      "WITH new_props + REDUCE(pairs = [], k in keys(edges_to_merge_props[0]) | pairs +\n",
      "\tCASE WHEN ALL(other in edges_to_merge_props WHERE k in keys(other))\n",
      "\tTHEN\n",
      "\t\tREDUCE(inner_pairs = [], v in edges_to_merge_props[0][k] | inner_pairs +\n",
      "\t\t\tCASE WHEN ALL(other in edges_to_merge_props WHERE v in other[k])\n",
      "\t\t\tTHEN\n",
      "\t\t\t\t{key: k, value: v}\n",
      "\t\t\tELSE\n",
      "\t\t\t\t[]\n",
      "\t\t\tEND)\n",
      "\tELSE\n",
      "\t\t[]\n",
      "\tEND) as new_props, rel, edges_to_merge_props, rel_pred\n",
      "WITH apoc.map.groupByMulti(new_props, 'key') as new_props, rel, edges_to_merge_props, rel_pred\n",
      "WITH apoc.map.fromValues(REDUCE(pairs=[], k in keys(new_props) | \n",
      "\tpairs + [k, REDUCE(values=[], v in new_props[k] | \n",
      "\t\tvalues + CASE WHEN v.value IN values THEN [] ELSE v.value END)])) as new_props, rel, edges_to_merge_props, rel_pred\n",
      "SET rel_pred = new_props\n",
      "\n",
      "Rewritting ancestors of actionGraph...\n"
     ]
    }
   ],
   "source": [
    "h._propagation_up('metaModel')"
   ]
  },
  {
   "cell_type": "markdown",
   "metadata": {},
   "source": [
    "## Graph rewritting and propagation down"
   ]
  },
  {
   "cell_type": "code",
   "execution_count": 15,
   "metadata": {},
   "outputs": [],
   "source": [
    "pattern = nx.DiGraph()\n",
    "pattern.add_nodes_from([(\"w\", {\"name\":{\"Paul\"}}), \"x\", \"y\", \"z\"])\n",
    "pattern.add_edges_from([(\"x\", \"w\"), (\"y\", \"x\"), (\"y\", \"z\"), (\"z\",\"z\")])"
   ]
  },
  {
   "cell_type": "code",
   "execution_count": 16,
   "metadata": {},
   "outputs": [],
   "source": [
    "rule = Rule.from_transform(pattern)\n",
    "rule.inject_add_node_attrs(\"x\", {\"age\":{10}})\n",
    "rule.inject_add_edge_attrs(\"x\", \"w\", {\"relation\":{\"brothers\"}})\n",
    "rule.inject_add_node(\"new_node\", {\"name\":{\"Will\"}})\n",
    "rule.inject_add_edge(\"new_node\", \"y\")\n",
    "merged_node = rule.inject_merge_nodes([\"w\", \"z\"])"
   ]
  },
  {
   "cell_type": "code",
   "execution_count": 17,
   "metadata": {},
   "outputs": [],
   "source": [
    "rhs_typing = {\n",
    "    'metaModel': {'new_node':'a', merged_node: 'a'}\n",
    "}"
   ]
  },
  {
   "cell_type": "code",
   "execution_count": 18,
   "metadata": {
    "scrolled": false
   },
   "outputs": [
    {
     "name": "stderr",
     "output_type": "stream",
     "text": [
      "/home/vrtual-bd/Documents/Codes/env3/lib/python3.6/site-packages/matplotlib-2.2.2-py3.6-linux-x86_64.egg/matplotlib/cbook/deprecation.py:107: MatplotlibDeprecationWarning: Passing one of 'on', 'true', 'off', 'false' as a boolean is deprecated; use an actual boolean (True/False) instead.\n",
      "  warnings.warn(message, mplDeprecation, stacklevel=1)\n",
      "/home/vrtual-bd/Documents/Codes/env3/lib/python3.6/site-packages/networkx-1.11-py3.6.egg/networkx/drawing/nx_pylab.py:522: MatplotlibDeprecationWarning: The is_string_like function was deprecated in version 2.1.\n",
      "  if not cb.is_string_like(edge_color) \\\n",
      "/home/vrtual-bd/Documents/Codes/env3/lib/python3.6/site-packages/networkx-1.11-py3.6.egg/networkx/drawing/nx_pylab.py:543: MatplotlibDeprecationWarning: The is_string_like function was deprecated in version 2.1.\n",
      "  if cb.is_string_like(edge_color) or len(edge_color) == 1:\n",
      "/home/vrtual-bd/Documents/Codes/env3/lib/python3.6/site-packages/networkx-1.11-py3.6.egg/networkx/drawing/nx_pylab.py:724: MatplotlibDeprecationWarning: The is_string_like function was deprecated in version 2.1.\n",
      "  if not cb.is_string_like(label):\n"
     ]
    },
    {
     "data": {
      "image/png": "[encoded data removed]",
      "text/plain": [
       "<Figure size 1008x216 with 3 Axes>"
      ]
     },
     "metadata": {},
     "output_type": "display_data"
    }
   ],
   "source": [
    "plot_rule(rule)"
   ]
  },
  {
   "cell_type": "code",
   "execution_count": 19,
   "metadata": {},
   "outputs": [
    {
     "name": "stdout",
     "output_type": "stream",
     "text": [
      "[('w', 'name', \"'Paul'\")]\n",
      "MATCH (w:node:actionGraph), (x:node:actionGraph), (y:node:actionGraph), (z:node:actionGraph), (x)-[:edge]->(w), (y)-[:edge]->(x), (y)-[:edge]->(z), (z)-[:edge]->(z)\n",
      "WHERE 'Paul' IN w.name\n",
      "RETURN w, x, y, z\n",
      "Instances:  [{'w': 'c', 'x': 'a', 'y': 'd', 'z': 'e'}]\n"
     ]
    }
   ],
   "source": [
    "ag = h.access_graph('actionGraph')\n",
    "instances = ag.find_matching(pattern)\n",
    "print(\"Instances: \", instances)"
   ]
  },
  {
   "cell_type": "code",
   "execution_count": 20,
   "metadata": {
    "scrolled": true
   },
   "outputs": [
    {
     "name": "stdout",
     "output_type": "stream",
     "text": [
      "// Match nodes and edges of the instance \n",
      "MATCH (lhs_w:node:actionGraph { id : 'c'}), (lhs_x:node:actionGraph { id : 'a'}), (lhs_y:node:actionGraph { id : 'd'}), (lhs_z:node:actionGraph { id : 'e'}) , (lhs_x)-[lhs_x_lhs_w:edge]->(lhs_w), (lhs_y)-[lhs_y_lhs_x:edge]->(lhs_x), (lhs_y)-[lhs_y_lhs_z:edge]->(lhs_z), (lhs_z)-[lhs_z_lhs_z:edge]->(lhs_z)\n",
      "\n",
      "// Renaming vars to correspond to the vars of P\n",
      "WITH lhs_y_lhs_z, lhs_z_lhs_z, lhs_y_lhs_x, lhs_x_lhs_w , lhs_w as p_w, lhs_x as p_x, lhs_y as p_y, lhs_z as p_z \n",
      "\n",
      "// Merging nodes '{'w', 'z'}' of the preserved part into 'w_z' \n",
      "// accumulate all the attrs of the nodes to be merged\n",
      "WITH [] as new_props, p_y, lhs_y_lhs_z, p_x, lhs_z_lhs_z, p_z, lhs_y_lhs_x, lhs_x_lhs_w, p_w\n",
      "WITH new_props + REDUCE(pairs = [], k in keys(p_w) | \n",
      "\tpairs + REDUCE(inner_pairs = [], v in p_w[k] | \n",
      "\t\tinner_pairs + {key: k, value: v})) as new_props, p_y, lhs_y_lhs_z, p_x, lhs_z_lhs_z, p_z, lhs_y_lhs_x, lhs_x_lhs_w, p_w\n",
      "WITH new_props + REDUCE(pairs = [], k in keys(p_z) | \n",
      "\tpairs + REDUCE(inner_pairs = [], v in p_z[k] | \n",
      "\t\tinner_pairs + {key: k, value: v})) as new_props, p_y, lhs_y_lhs_z, p_x, lhs_z_lhs_z, p_z, lhs_y_lhs_x, lhs_x_lhs_w, p_w\n",
      "WITH apoc.map.groupByMulti(new_props, 'key') as new_props, p_y, lhs_y_lhs_z, p_x, lhs_z_lhs_z, p_z, lhs_y_lhs_x, lhs_x_lhs_w, p_w\n",
      "WITH apoc.map.fromValues(REDUCE(pairs=[], k in keys(new_props) | \n",
      "\tpairs + [k, REDUCE(values=[], v in new_props[k] | \n",
      "\t\tvalues + CASE WHEN v.value IN values THEN [] ELSE v.value END)])) as new_props, p_y, lhs_y_lhs_z, p_x, lhs_z_lhs_z, p_z, lhs_y_lhs_x, lhs_x_lhs_w, p_w\n",
      "SET p_w = new_props\n",
      "WITH p_w as rhs_w_z, p_y, lhs_y_lhs_z, p_x, lhs_z_lhs_z, p_z, lhs_y_lhs_x, lhs_x_lhs_w\n",
      "// set appropriate node id\n",
      "SET rhs_w_z.id = toString(id(rhs_w_z))\n",
      "SET rhs_w_z.count = NULL\n",
      "WITH toString(id(rhs_w_z)) as uid236d8a29f3104a159f516ed99474b877, rhs_w_z, p_y, lhs_y_lhs_z, p_x, lhs_z_lhs_z, p_z, lhs_y_lhs_x, lhs_x_lhs_w\n",
      "// accumulate all the attrs of the edges incident to the merged nodes\n",
      "WITH [] as suc_maps, [] as pred_maps, rhs_w_z, p_y, uid236d8a29f3104a159f516ed99474b877, lhs_y_lhs_z, p_x, lhs_z_lhs_z, p_z, lhs_y_lhs_x, lhs_x_lhs_w\n",
      "OPTIONAL MATCH (rhs_w_z)-[out_rel:edge]->(suc)\n",
      "WITH suc_maps + collect({id: id(suc), neighbor: suc, edge: out_rel}) as suc_maps, pred_maps, rhs_w_z, p_y, uid236d8a29f3104a159f516ed99474b877, lhs_y_lhs_z, p_x, lhs_z_lhs_z, p_z, lhs_y_lhs_x, lhs_x_lhs_w\n",
      "OPTIONAL MATCH (pred)-[in_rel:edge]->(rhs_w_z)\n",
      "WITH pred_maps + collect({id: id(pred), neighbor: pred, edge: in_rel}) as pred_maps, suc_maps, rhs_w_z, p_y, uid236d8a29f3104a159f516ed99474b877, lhs_y_lhs_z, p_x, lhs_z_lhs_z, p_z, lhs_y_lhs_x, lhs_x_lhs_w\n",
      "OPTIONAL MATCH (p_z)-[out_rel:edge]->(suc)\n",
      "WITH suc_maps + collect({id: id(suc), neighbor: suc, edge: out_rel}) as suc_maps, pred_maps, rhs_w_z, p_y, uid236d8a29f3104a159f516ed99474b877, lhs_y_lhs_z, p_x, lhs_z_lhs_z, p_z, lhs_y_lhs_x, lhs_x_lhs_w\n",
      "OPTIONAL MATCH (pred)-[in_rel:edge]->(p_z)\n",
      "WITH pred_maps + collect({id: id(pred), neighbor: pred, edge: in_rel}) as pred_maps, suc_maps, rhs_w_z, p_y, uid236d8a29f3104a159f516ed99474b877, lhs_y_lhs_z, p_x, lhs_z_lhs_z, p_z, lhs_y_lhs_x, lhs_x_lhs_w\n",
      "WITH apoc.map.groupByMulti(suc_maps, 'id') as suc_props, REDUCE(list=[], map in suc_maps | \n",
      "\tlist + CASE WHEN NOT map['neighbor'] IS NULL THEN [map['neighbor']] ELSE [] END) as suc_nodes, apoc.map.groupByMulti(pred_maps, 'id') as pred_props, REDUCE(list=[], map in pred_maps | \n",
      "\tlist + CASE WHEN NOT map['neighbor'] IS NULL THEN [map['neighbor']] ELSE [] END) as pred_nodes, \tREDUCE(l=[], el in suc_maps + pred_maps| \n",
      "\t\tl + CASE WHEN el['id'] IN [id(rhs_w_z),id(p_z)] THEN [toString(el['id'])] ELSE [] END) as self_loops, rhs_w_z, p_y, uid236d8a29f3104a159f516ed99474b877, lhs_y_lhs_z, p_x, lhs_z_lhs_z, p_z, lhs_y_lhs_x, lhs_x_lhs_w\n",
      "WITH suc_nodes, pred_nodes, apoc.map.fromValues(REDUCE(edge_props=[], k in keys(suc_props) | \n",
      "\tedge_props + [k, apoc.map.groupByMulti(REDUCE(props=[], el in suc_props[k] | \n",
      "\t\tprops + REDUCE(pairs=[], kk in keys(el['edge']) | \n",
      "\t\t\tpairs + REDUCE(values=[], v in el['edge'][kk] | \n",
      "\t\t\t\tvalues + {key: kk, value: v}))), 'key')])) as suc_props, \n",
      "\tapoc.map.fromValues(REDUCE(edge_props=[], k in keys(pred_props) | \n",
      "\tedge_props + [k, apoc.map.groupByMulti(REDUCE(props=[], el in pred_props[k] | \n",
      "\t\tprops + REDUCE(pairs=[], kk in keys(el['edge']) | \n",
      "\t\t\tpairs + REDUCE(values=[], v in el['edge'][kk] | \n",
      "\t\t\t\t values + {key: kk, value: v}))), 'key')])) as pred_props,  \n",
      "\tREDUCE(edge_props=[], k IN filter(k IN keys(suc_props) WHERE k IN self_loops) |\n",
      "\t\tedge_props + suc_props[k]) + \n",
      "\tREDUCE(edge_props=[], k IN filter(k IN keys(pred_props) WHERE k IN self_loops) |\n",
      "\t\tedge_props + pred_props[k]) as self_loop_props, rhs_w_z, self_loops, p_y, uid236d8a29f3104a159f516ed99474b877, lhs_y_lhs_z, p_x, lhs_z_lhs_z, p_z, lhs_y_lhs_x, lhs_x_lhs_w\n",
      "WITH suc_nodes, suc_props, pred_nodes, pred_props, apoc.map.groupByMulti(REDUCE(pairs=[], el in self_loop_props |\n",
      "\tpairs + REDUCE(inner_pairs=[], k in keys(el['edge']) | \n",
      "\t\tinner_pairs + REDUCE(values=[], v in el['edge'][k] |\n",
      "\t\t\tvalues + {key: k, value: v}))), 'key') as self_loop_props, rhs_w_z, self_loops, p_y, uid236d8a29f3104a159f516ed99474b877, lhs_y_lhs_z, p_x, lhs_z_lhs_z, p_z, lhs_y_lhs_x, lhs_x_lhs_w\n",
      "FOREACH(suc IN filter(suc IN suc_nodes WHERE NOT id(suc) in self_loops) |\n",
      "\tMERGE (rhs_w_z)-[new_rel:edge]->(suc)\n",
      "\tSET new_rel = apoc.map.fromValues(REDUCE(pairs=[], k in keys(suc_props[toString(id(suc))]) | \n",
      "\t\t pairs + [k, REDUCE(values=[], v in suc_props[toString(id(suc))][k] | \n",
      "\t\t\tvalues + CASE WHEN v.value IN values THEN [] ELSE v.value END)])))\n",
      "FOREACH(pred IN filter(pred IN pred_nodes WHERE NOT id(pred) in self_loops) |\n",
      "\tMERGE (pred)-[new_rel:edge]->(rhs_w_z)\n",
      "\tSET new_rel = apoc.map.fromValues(REDUCE(pairs=[], k in keys(pred_props[toString(id(pred))]) | \n",
      "\t\t pairs + [k, REDUCE(values=[], v in pred_props[toString(id(pred))][k] | \n",
      "\t\t\tvalues + CASE WHEN v.value IN values THEN [] ELSE v.value END)])))\n",
      "// add self loop \n",
      "FOREACH(dummy in CASE WHEN length(self_loops) > 0 THEN [NULL] ELSE [] END |\n",
      "\tMERGE (rhs_w_z)-[new_rel:edge]->(rhs_w_z)\n",
      "\tSET new_rel = apoc.map.fromValues(REDUCE(pairs=[], k in keys(self_loop_props) |\n",
      "\t\tpairs + [k, REDUCE(values=[], v in self_loop_props[k] |\n",
      "\t\t\tvalues + CASE WHEN v.value IN values THEN [] ELSE v.value END)])))\n",
      "// accumulate all the attrs of the edges incident to the merged nodes\n",
      "WITH [] as suc_typings, [] as pred_typings, rhs_w_z, p_y, uid236d8a29f3104a159f516ed99474b877, lhs_y_lhs_z, p_x, lhs_z_lhs_z, p_z, lhs_y_lhs_x, lhs_x_lhs_w\n",
      "OPTIONAL MATCH (rhs_w_z)-[:typing]->(suc)\n",
      "WITH suc_typings + collect(suc) as suc_typings, pred_typings, rhs_w_z, p_y, uid236d8a29f3104a159f516ed99474b877, lhs_y_lhs_z, p_x, lhs_z_lhs_z, p_z, lhs_y_lhs_x, lhs_x_lhs_w\n",
      "OPTIONAL MATCH (pred)-[:typing]->(rhs_w_z)\n",
      "WITH pred_typings + collect(pred) as pred_typings, suc_typings, rhs_w_z, p_y, uid236d8a29f3104a159f516ed99474b877, lhs_y_lhs_z, p_x, lhs_z_lhs_z, p_z, lhs_y_lhs_x, lhs_x_lhs_w\n",
      "OPTIONAL MATCH (p_z)-[:typing]->(suc)\n",
      "WITH suc_typings + collect(suc) as suc_typings, pred_typings, rhs_w_z, p_y, uid236d8a29f3104a159f516ed99474b877, lhs_y_lhs_z, p_x, lhs_z_lhs_z, p_z, lhs_y_lhs_x, lhs_x_lhs_w\n",
      "OPTIONAL MATCH (pred)-[:typing]->(p_z)\n",
      "WITH pred_typings + collect(pred) as pred_typings, suc_typings, rhs_w_z, p_y, uid236d8a29f3104a159f516ed99474b877, lhs_y_lhs_z, p_x, lhs_z_lhs_z, p_z, lhs_y_lhs_x, lhs_x_lhs_w\n",
      "FOREACH(suc in suc_typings |\n",
      "\tMERGE (rhs_w_z)-[:typing]->(suc))\n",
      "FOREACH(pred in pred_typings |\n",
      "\tMERGE (pred)-[:typing]->(rhs_w_z))\n",
      "DETACH DELETE (p_z)\n",
      "\n",
      "\n",
      "// Adding node 'new_node' from the rhs \n",
      "CREATE (rhs_new_node:node:actionGraph) \n",
      "SET rhs_new_node.id = toString(id(rhs_new_node)) \n",
      "WITH toString(id(rhs_new_node)) as rhs_new_node_id , rhs_w_z, p_y, uid236d8a29f3104a159f516ed99474b877, lhs_y_lhs_z, p_x, lhs_z_lhs_z, rhs_new_node, p_z, lhs_y_lhs_x, lhs_x_lhs_w\n",
      "\n",
      "\n",
      "// Renaming vars to correspond to the vars of rhs\n",
      "WITH rhs_w_z, uid236d8a29f3104a159f516ed99474b877, lhs_y_lhs_z, rhs_new_node_id, lhs_z_lhs_z, rhs_new_node, p_z, lhs_y_lhs_x, lhs_x_lhs_w , p_x as rhs_x, p_y as rhs_y \n",
      "\n",
      "// Adding properties to the node 'x' from the rhs \n",
      "FOREACH(dummy IN CASE WHEN NOT 'age' IN keys(rhs_x) THEN [1] ELSE [] END |\n",
      "\tSET rhs_x.age = [10])\n",
      "FOREACH(dummy IN CASE WHEN 'age' IN keys(rhs_x) THEN [1] ELSE [] END |\n",
      "\tFOREACH(val in [10] |\n",
      "\t\tFOREACH(dummy IN CASE WHEN NOT val IN rhs_x.age THEN [1] ELSE [] END |\n",
      "\t\t\tSET rhs_x.age = rhs_x.age + [val])))\n",
      "// Adding properties to the node 'new_node' from the rhs \n",
      "FOREACH(dummy IN CASE WHEN NOT 'name' IN keys(rhs_new_node) THEN [1] ELSE [] END |\n",
      "\tSET rhs_new_node.name = ['Will'])\n",
      "FOREACH(dummy IN CASE WHEN 'name' IN keys(rhs_new_node) THEN [1] ELSE [] END |\n",
      "\tFOREACH(val in ['Will'] |\n",
      "\t\tFOREACH(dummy IN CASE WHEN NOT val IN rhs_new_node.name THEN [1] ELSE [] END |\n",
      "\t\t\tSET rhs_new_node.name = rhs_new_node.name + [val])))\n",
      "// Adding properties to the node 'w_z' from the rhs \n",
      "FOREACH(dummy IN CASE WHEN NOT 'name' IN keys(rhs_w_z) THEN [1] ELSE [] END |\n",
      "\tSET rhs_w_z.name = ['Paul'])\n",
      "FOREACH(dummy IN CASE WHEN 'name' IN keys(rhs_w_z) THEN [1] ELSE [] END |\n",
      "\tFOREACH(val in ['Paul'] |\n",
      "\t\tFOREACH(dummy IN CASE WHEN NOT val IN rhs_w_z.name THEN [1] ELSE [] END |\n",
      "\t\t\tSET rhs_w_z.name = rhs_w_z.name + [val])))\n",
      "// Adding edge 'new_node->y' from the rhs \n",
      "MERGE (rhs_new_node)-[rhs_new_node_rhs_y:edge {  }]->(rhs_y)\n",
      "\n",
      "\n",
      "// Adding properties to the node 'w_z' from the rhs \n",
      "WITH rhs_y, rhs_w_z, uid236d8a29f3104a159f516ed99474b877, lhs_y_lhs_z, rhs_new_node_id, lhs_z_lhs_z, rhs_new_node, p_z, lhs_y_lhs_x, lhs_x_lhs_w, rhs_x MATCH (rhs_x)-[rhs_x_rhs_w_z:edge]->(rhs_w_z)\n",
      "FOREACH(dummy IN CASE WHEN NOT 'relation' IN keys(rhs_x_rhs_w_z) THEN [1] ELSE [] END |\n",
      "\tSET rhs_x_rhs_w_z.relation = ['brothers'])\n",
      "FOREACH(dummy IN CASE WHEN 'relation' IN keys(rhs_x_rhs_w_z) THEN [1] ELSE [] END |\n",
      "\tFOREACH(val in ['brothers'] |\n",
      "\t\tFOREACH(dummy IN CASE WHEN NOT val IN rhs_x_rhs_w_z.relation THEN [1] ELSE [] END |\n",
      "\t\t\tSET rhs_x_rhs_w_z.relation = rhs_x_rhs_w_z.relation + [val])))\n",
      "WITH rhs_y, rhs_w_z, uid236d8a29f3104a159f516ed99474b877, lhs_y_lhs_z, rhs_new_node_id, lhs_z_lhs_z, rhs_new_node, p_z, lhs_y_lhs_x, lhs_x_lhs_w, rhs_x_rhs_w_z, rhs_x \n",
      "\n",
      "WITH rhs_y, rhs_w_z, uid236d8a29f3104a159f516ed99474b877, lhs_y_lhs_z, rhs_new_node_id, lhs_z_lhs_z, rhs_new_node, p_z, lhs_y_lhs_x, lhs_x_lhs_w, rhs_x_rhs_w_z, rhs_x OPTIONAL MATCH (new_node_metaModel:node:metaModel {id:'a'})\n",
      "MERGE (rhs_new_node)-[:tmp_typing]->(new_node_metaModel)\n",
      "// Return statement \n",
      "RETURN rhs_y, rhs_w_z, uid236d8a29f3104a159f516ed99474b877, lhs_y_lhs_z, rhs_new_node_id, lhs_z_lhs_z, rhs_new_node, p_z, lhs_y_lhs_x, lhs_x_lhs_w, rhs_x_rhs_w_z, rhs_x\n",
      "\n",
      "Rewriting rule to Cypher: \n",
      "\n",
      "// Match nodes and edges of the instance \n",
      "MATCH (lhs_w:node:actionGraph { id : 'c'}), (lhs_x:node:actionGraph { id : 'a'}), (lhs_y:node:actionGraph { id : 'd'}), (lhs_z:node:actionGraph { id : 'e'}) , (lhs_x)-[lhs_x_lhs_w:edge]->(lhs_w), (lhs_y)-[lhs_y_lhs_x:edge]->(lhs_x), (lhs_y)-[lhs_y_lhs_z:edge]->(lhs_z), (lhs_z)-[lhs_z_lhs_z:edge]->(lhs_z)\n",
      "\n",
      "// Renaming vars to correspond to the vars of P\n",
      "WITH lhs_y_lhs_z, lhs_z_lhs_z, lhs_y_lhs_x, lhs_x_lhs_w , lhs_w as p_w, lhs_x as p_x, lhs_y as p_y, lhs_z as p_z \n",
      "\n",
      "// Merging nodes '{'w', 'z'}' of the preserved part into 'w_z' \n",
      "// accumulate all the attrs of the nodes to be merged\n",
      "WITH [] as new_props, p_y, lhs_y_lhs_z, p_x, lhs_z_lhs_z, p_z, lhs_y_lhs_x, lhs_x_lhs_w, p_w\n",
      "WITH new_props + REDUCE(pairs = [], k in keys(p_w) | \n",
      "\tpairs + REDUCE(inner_pairs = [], v in p_w[k] | \n",
      "\t\tinner_pairs + {key: k, value: v})) as new_props, p_y, lhs_y_lhs_z, p_x, lhs_z_lhs_z, p_z, lhs_y_lhs_x, lhs_x_lhs_w, p_w\n",
      "WITH new_props + REDUCE(pairs = [], k in keys(p_z) | \n",
      "\tpairs + REDUCE(inner_pairs = [], v in p_z[k] | \n",
      "\t\tinner_pairs + {key: k, value: v})) as new_props, p_y, lhs_y_lhs_z, p_x, lhs_z_lhs_z, p_z, lhs_y_lhs_x, lhs_x_lhs_w, p_w\n",
      "WITH apoc.map.groupByMulti(new_props, 'key') as new_props, p_y, lhs_y_lhs_z, p_x, lhs_z_lhs_z, p_z, lhs_y_lhs_x, lhs_x_lhs_w, p_w\n",
      "WITH apoc.map.fromValues(REDUCE(pairs=[], k in keys(new_props) | \n",
      "\tpairs + [k, REDUCE(values=[], v in new_props[k] | \n",
      "\t\tvalues + CASE WHEN v.value IN values THEN [] ELSE v.value END)])) as new_props, p_y, lhs_y_lhs_z, p_x, lhs_z_lhs_z, p_z, lhs_y_lhs_x, lhs_x_lhs_w, p_w\n",
      "SET p_w = new_props\n",
      "WITH p_w as rhs_w_z, p_y, lhs_y_lhs_z, p_x, lhs_z_lhs_z, p_z, lhs_y_lhs_x, lhs_x_lhs_w\n",
      "// set appropriate node id\n",
      "SET rhs_w_z.id = toString(id(rhs_w_z))\n",
      "SET rhs_w_z.count = NULL\n",
      "WITH toString(id(rhs_w_z)) as uid236d8a29f3104a159f516ed99474b877, rhs_w_z, p_y, lhs_y_lhs_z, p_x, lhs_z_lhs_z, p_z, lhs_y_lhs_x, lhs_x_lhs_w\n",
      "// accumulate all the attrs of the edges incident to the merged nodes\n",
      "WITH [] as suc_maps, [] as pred_maps, rhs_w_z, p_y, uid236d8a29f3104a159f516ed99474b877, lhs_y_lhs_z, p_x, lhs_z_lhs_z, p_z, lhs_y_lhs_x, lhs_x_lhs_w\n",
      "OPTIONAL MATCH (rhs_w_z)-[out_rel:edge]->(suc)\n",
      "WITH suc_maps + collect({id: id(suc), neighbor: suc, edge: out_rel}) as suc_maps, pred_maps, rhs_w_z, p_y, uid236d8a29f3104a159f516ed99474b877, lhs_y_lhs_z, p_x, lhs_z_lhs_z, p_z, lhs_y_lhs_x, lhs_x_lhs_w\n",
      "OPTIONAL MATCH (pred)-[in_rel:edge]->(rhs_w_z)\n",
      "WITH pred_maps + collect({id: id(pred), neighbor: pred, edge: in_rel}) as pred_maps, suc_maps, rhs_w_z, p_y, uid236d8a29f3104a159f516ed99474b877, lhs_y_lhs_z, p_x, lhs_z_lhs_z, p_z, lhs_y_lhs_x, lhs_x_lhs_w\n",
      "OPTIONAL MATCH (p_z)-[out_rel:edge]->(suc)\n",
      "WITH suc_maps + collect({id: id(suc), neighbor: suc, edge: out_rel}) as suc_maps, pred_maps, rhs_w_z, p_y, uid236d8a29f3104a159f516ed99474b877, lhs_y_lhs_z, p_x, lhs_z_lhs_z, p_z, lhs_y_lhs_x, lhs_x_lhs_w\n",
      "OPTIONAL MATCH (pred)-[in_rel:edge]->(p_z)\n",
      "WITH pred_maps + collect({id: id(pred), neighbor: pred, edge: in_rel}) as pred_maps, suc_maps, rhs_w_z, p_y, uid236d8a29f3104a159f516ed99474b877, lhs_y_lhs_z, p_x, lhs_z_lhs_z, p_z, lhs_y_lhs_x, lhs_x_lhs_w\n",
      "WITH apoc.map.groupByMulti(suc_maps, 'id') as suc_props, REDUCE(list=[], map in suc_maps | \n",
      "\tlist + CASE WHEN NOT map['neighbor'] IS NULL THEN [map['neighbor']] ELSE [] END) as suc_nodes, apoc.map.groupByMulti(pred_maps, 'id') as pred_props, REDUCE(list=[], map in pred_maps | \n",
      "\tlist + CASE WHEN NOT map['neighbor'] IS NULL THEN [map['neighbor']] ELSE [] END) as pred_nodes, \tREDUCE(l=[], el in suc_maps + pred_maps| \n",
      "\t\tl + CASE WHEN el['id'] IN [id(rhs_w_z),id(p_z)] THEN [toString(el['id'])] ELSE [] END) as self_loops, rhs_w_z, p_y, uid236d8a29f3104a159f516ed99474b877, lhs_y_lhs_z, p_x, lhs_z_lhs_z, p_z, lhs_y_lhs_x, lhs_x_lhs_w\n",
      "WITH suc_nodes, pred_nodes, apoc.map.fromValues(REDUCE(edge_props=[], k in keys(suc_props) | \n",
      "\tedge_props + [k, apoc.map.groupByMulti(REDUCE(props=[], el in suc_props[k] | \n",
      "\t\tprops + REDUCE(pairs=[], kk in keys(el['edge']) | \n",
      "\t\t\tpairs + REDUCE(values=[], v in el['edge'][kk] | \n",
      "\t\t\t\tvalues + {key: kk, value: v}))), 'key')])) as suc_props, \n",
      "\tapoc.map.fromValues(REDUCE(edge_props=[], k in keys(pred_props) | \n",
      "\tedge_props + [k, apoc.map.groupByMulti(REDUCE(props=[], el in pred_props[k] | \n",
      "\t\tprops + REDUCE(pairs=[], kk in keys(el['edge']) | \n",
      "\t\t\tpairs + REDUCE(values=[], v in el['edge'][kk] | \n",
      "\t\t\t\t values + {key: kk, value: v}))), 'key')])) as pred_props,  \n",
      "\tREDUCE(edge_props=[], k IN filter(k IN keys(suc_props) WHERE k IN self_loops) |\n",
      "\t\tedge_props + suc_props[k]) + \n",
      "\tREDUCE(edge_props=[], k IN filter(k IN keys(pred_props) WHERE k IN self_loops) |\n",
      "\t\tedge_props + pred_props[k]) as self_loop_props, rhs_w_z, self_loops, p_y, uid236d8a29f3104a159f516ed99474b877, lhs_y_lhs_z, p_x, lhs_z_lhs_z, p_z, lhs_y_lhs_x, lhs_x_lhs_w\n",
      "WITH suc_nodes, suc_props, pred_nodes, pred_props, apoc.map.groupByMulti(REDUCE(pairs=[], el in self_loop_props |\n",
      "\tpairs + REDUCE(inner_pairs=[], k in keys(el['edge']) | \n",
      "\t\tinner_pairs + REDUCE(values=[], v in el['edge'][k] |\n",
      "\t\t\tvalues + {key: k, value: v}))), 'key') as self_loop_props, rhs_w_z, self_loops, p_y, uid236d8a29f3104a159f516ed99474b877, lhs_y_lhs_z, p_x, lhs_z_lhs_z, p_z, lhs_y_lhs_x, lhs_x_lhs_w\n",
      "FOREACH(suc IN filter(suc IN suc_nodes WHERE NOT id(suc) in self_loops) |\n",
      "\tMERGE (rhs_w_z)-[new_rel:edge]->(suc)\n",
      "\tSET new_rel = apoc.map.fromValues(REDUCE(pairs=[], k in keys(suc_props[toString(id(suc))]) | \n",
      "\t\t pairs + [k, REDUCE(values=[], v in suc_props[toString(id(suc))][k] | \n",
      "\t\t\tvalues + CASE WHEN v.value IN values THEN [] ELSE v.value END)])))\n",
      "FOREACH(pred IN filter(pred IN pred_nodes WHERE NOT id(pred) in self_loops) |\n",
      "\tMERGE (pred)-[new_rel:edge]->(rhs_w_z)\n",
      "\tSET new_rel = apoc.map.fromValues(REDUCE(pairs=[], k in keys(pred_props[toString(id(pred))]) | \n",
      "\t\t pairs + [k, REDUCE(values=[], v in pred_props[toString(id(pred))][k] | \n",
      "\t\t\tvalues + CASE WHEN v.value IN values THEN [] ELSE v.value END)])))\n",
      "// add self loop \n",
      "FOREACH(dummy in CASE WHEN length(self_loops) > 0 THEN [NULL] ELSE [] END |\n",
      "\tMERGE (rhs_w_z)-[new_rel:edge]->(rhs_w_z)\n",
      "\tSET new_rel = apoc.map.fromValues(REDUCE(pairs=[], k in keys(self_loop_props) |\n",
      "\t\tpairs + [k, REDUCE(values=[], v in self_loop_props[k] |\n",
      "\t\t\tvalues + CASE WHEN v.value IN values THEN [] ELSE v.value END)])))\n",
      "// accumulate all the attrs of the edges incident to the merged nodes\n",
      "WITH [] as suc_typings, [] as pred_typings, rhs_w_z, p_y, uid236d8a29f3104a159f516ed99474b877, lhs_y_lhs_z, p_x, lhs_z_lhs_z, p_z, lhs_y_lhs_x, lhs_x_lhs_w\n",
      "OPTIONAL MATCH (rhs_w_z)-[:typing]->(suc)\n",
      "WITH suc_typings + collect(suc) as suc_typings, pred_typings, rhs_w_z, p_y, uid236d8a29f3104a159f516ed99474b877, lhs_y_lhs_z, p_x, lhs_z_lhs_z, p_z, lhs_y_lhs_x, lhs_x_lhs_w\n",
      "OPTIONAL MATCH (pred)-[:typing]->(rhs_w_z)\n",
      "WITH pred_typings + collect(pred) as pred_typings, suc_typings, rhs_w_z, p_y, uid236d8a29f3104a159f516ed99474b877, lhs_y_lhs_z, p_x, lhs_z_lhs_z, p_z, lhs_y_lhs_x, lhs_x_lhs_w\n",
      "OPTIONAL MATCH (p_z)-[:typing]->(suc)\n",
      "WITH suc_typings + collect(suc) as suc_typings, pred_typings, rhs_w_z, p_y, uid236d8a29f3104a159f516ed99474b877, lhs_y_lhs_z, p_x, lhs_z_lhs_z, p_z, lhs_y_lhs_x, lhs_x_lhs_w\n",
      "OPTIONAL MATCH (pred)-[:typing]->(p_z)\n",
      "WITH pred_typings + collect(pred) as pred_typings, suc_typings, rhs_w_z, p_y, uid236d8a29f3104a159f516ed99474b877, lhs_y_lhs_z, p_x, lhs_z_lhs_z, p_z, lhs_y_lhs_x, lhs_x_lhs_w\n",
      "FOREACH(suc in suc_typings |\n",
      "\tMERGE (rhs_w_z)-[:typing]->(suc))\n",
      "FOREACH(pred in pred_typings |\n",
      "\tMERGE (pred)-[:typing]->(rhs_w_z))\n",
      "DETACH DELETE (p_z)\n",
      "\n",
      "\n",
      "// Adding node 'new_node' from the rhs \n",
      "CREATE (rhs_new_node:node:actionGraph) \n",
      "SET rhs_new_node.id = toString(id(rhs_new_node)) \n",
      "WITH toString(id(rhs_new_node)) as rhs_new_node_id , rhs_w_z, p_y, uid236d8a29f3104a159f516ed99474b877, lhs_y_lhs_z, p_x, lhs_z_lhs_z, rhs_new_node, p_z, lhs_y_lhs_x, lhs_x_lhs_w\n",
      "\n",
      "\n",
      "// Renaming vars to correspond to the vars of rhs\n",
      "WITH rhs_w_z, uid236d8a29f3104a159f516ed99474b877, lhs_y_lhs_z, rhs_new_node_id, lhs_z_lhs_z, rhs_new_node, p_z, lhs_y_lhs_x, lhs_x_lhs_w , p_x as rhs_x, p_y as rhs_y \n",
      "\n",
      "// Adding properties to the node 'x' from the rhs \n",
      "FOREACH(dummy IN CASE WHEN NOT 'age' IN keys(rhs_x) THEN [1] ELSE [] END |\n",
      "\tSET rhs_x.age = [10])\n",
      "FOREACH(dummy IN CASE WHEN 'age' IN keys(rhs_x) THEN [1] ELSE [] END |\n",
      "\tFOREACH(val in [10] |\n",
      "\t\tFOREACH(dummy IN CASE WHEN NOT val IN rhs_x.age THEN [1] ELSE [] END |\n",
      "\t\t\tSET rhs_x.age = rhs_x.age + [val])))\n",
      "// Adding properties to the node 'new_node' from the rhs \n",
      "FOREACH(dummy IN CASE WHEN NOT 'name' IN keys(rhs_new_node) THEN [1] ELSE [] END |\n",
      "\tSET rhs_new_node.name = ['Will'])\n",
      "FOREACH(dummy IN CASE WHEN 'name' IN keys(rhs_new_node) THEN [1] ELSE [] END |\n",
      "\tFOREACH(val in ['Will'] |\n",
      "\t\tFOREACH(dummy IN CASE WHEN NOT val IN rhs_new_node.name THEN [1] ELSE [] END |\n",
      "\t\t\tSET rhs_new_node.name = rhs_new_node.name + [val])))\n",
      "// Adding properties to the node 'w_z' from the rhs \n",
      "FOREACH(dummy IN CASE WHEN NOT 'name' IN keys(rhs_w_z) THEN [1] ELSE [] END |\n",
      "\tSET rhs_w_z.name = ['Paul'])\n",
      "FOREACH(dummy IN CASE WHEN 'name' IN keys(rhs_w_z) THEN [1] ELSE [] END |\n",
      "\tFOREACH(val in ['Paul'] |\n",
      "\t\tFOREACH(dummy IN CASE WHEN NOT val IN rhs_w_z.name THEN [1] ELSE [] END |\n",
      "\t\t\tSET rhs_w_z.name = rhs_w_z.name + [val])))\n",
      "// Adding edge 'new_node->y' from the rhs \n",
      "MERGE (rhs_new_node)-[rhs_new_node_rhs_y:edge {  }]->(rhs_y)\n",
      "\n",
      "\n",
      "// Adding properties to the node 'w_z' from the rhs \n",
      "WITH rhs_y, rhs_w_z, uid236d8a29f3104a159f516ed99474b877, lhs_y_lhs_z, rhs_new_node_id, lhs_z_lhs_z, rhs_new_node, p_z, lhs_y_lhs_x, lhs_x_lhs_w, rhs_x MATCH (rhs_x)-[rhs_x_rhs_w_z:edge]->(rhs_w_z)\n",
      "FOREACH(dummy IN CASE WHEN NOT 'relation' IN keys(rhs_x_rhs_w_z) THEN [1] ELSE [] END |\n",
      "\tSET rhs_x_rhs_w_z.relation = ['brothers'])\n",
      "FOREACH(dummy IN CASE WHEN 'relation' IN keys(rhs_x_rhs_w_z) THEN [1] ELSE [] END |\n",
      "\tFOREACH(val in ['brothers'] |\n",
      "\t\tFOREACH(dummy IN CASE WHEN NOT val IN rhs_x_rhs_w_z.relation THEN [1] ELSE [] END |\n",
      "\t\t\tSET rhs_x_rhs_w_z.relation = rhs_x_rhs_w_z.relation + [val])))\n",
      "WITH rhs_y, rhs_w_z, uid236d8a29f3104a159f516ed99474b877, lhs_y_lhs_z, rhs_new_node_id, lhs_z_lhs_z, rhs_new_node, p_z, lhs_y_lhs_x, lhs_x_lhs_w, rhs_x_rhs_w_z, rhs_x \n",
      "\n",
      "WITH rhs_y, rhs_w_z, uid236d8a29f3104a159f516ed99474b877, lhs_y_lhs_z, rhs_new_node_id, lhs_z_lhs_z, rhs_new_node, p_z, lhs_y_lhs_x, lhs_x_lhs_w, rhs_x_rhs_w_z, rhs_x OPTIONAL MATCH (new_node_metaModel:node:metaModel {id:'a'})\n",
      "MERGE (rhs_new_node)-[:tmp_typing]->(new_node_metaModel)\n",
      "// Return statement \n",
      "RETURN rhs_y, rhs_w_z, uid236d8a29f3104a159f516ed99474b877, lhs_y_lhs_z, rhs_new_node_id, lhs_z_lhs_z, rhs_new_node, p_z, lhs_y_lhs_x, lhs_x_lhs_w, rhs_x_rhs_w_z, rhs_x\n",
      "\n"
     ]
    },
    {
     "data": {
      "text/plain": [
       "{}"
      ]
     },
     "execution_count": 20,
     "metadata": {},
     "output_type": "execute_result"
    }
   ],
   "source": [
    "ag = h.access_graph('actionGraph')\n",
    "ag._rewrite_base(rule, instances[0], rhs_typing=rhs_typing)"
   ]
  },
  {
   "cell_type": "code",
   "execution_count": 21,
   "metadata": {
    "scrolled": true
   },
   "outputs": [
    {
     "name": "stdout",
     "output_type": "stream",
     "text": [
      "Rewritting children of actionGraph...\n",
      "-->  metaModel\n",
      "\n",
      "// Matching of the nodes to merge in 'metaModel'\n",
      "WITH [] as merged_nodes\n",
      "OPTIONAL MATCH (n:node:actionGraph)-[:typing]->(node_to_merge:node:metaModel)\n",
      "WITH n, collect(node_to_merge) as nodes_to_merge, merged_nodes\n",
      "WHERE n IS NOT NULL AND size(nodes_to_merge) >= 2\n",
      "UNWIND nodes_to_merge as node_to_merge\n",
      "// accumulate all the attrs of the nodes to be merged\n",
      "WITH [] as new_props, node_to_merge, n, merged_nodes\n",
      "WITH new_props + REDUCE(pairs = [], k in keys(node_to_merge) | \n",
      "\tpairs + REDUCE(inner_pairs = [], v in node_to_merge[k] | \n",
      "\t\tinner_pairs + {key: k, value: v})) as new_props, node_to_merge, n, merged_nodes\n",
      "WITH collect(node_to_merge) as nodes_to_merge, collect(new_props) as new_props_col, n, merged_nodes\n",
      "WITH REDUCE(init=[], props in new_props_col | init + props) as new_props, nodes_to_merge, n, merged_nodes\n",
      "WITH apoc.map.groupByMulti(new_props, 'key') as new_props, n, nodes_to_merge, merged_nodes\n",
      "WITH apoc.map.fromValues(REDUCE(pairs=[], k in keys(new_props) | \n",
      "\tpairs + [k, REDUCE(values=[], v in new_props[k] | \n",
      "\t\tvalues + CASE WHEN v.value IN values THEN [] ELSE v.value END)])) as new_props, n, nodes_to_merge, merged_nodes\n",
      "WITH nodes_to_merge[0] as merged_node, new_props, n, nodes_to_merge, merged_nodes\n",
      "SET merged_node = new_props\n",
      "// set appropriate node id\n",
      "SET merged_node.id = toString(id(merged_node))\n",
      "SET merged_node.count = NULL\n",
      "WITH toString(id(merged_node)) as merged_id, merged_node, n, nodes_to_merge, merged_nodes\n",
      "UNWIND nodes_to_merge AS node_to_merge\n",
      "//create a map from node ids to the id of the merged_node\n",
      "WITH {old_node:node_to_merge.id,  new_node:merged_node} as id_to_merged_id, node_to_merge, merged_nodes, merged_node, n, merged_id\n",
      "WITH collect(id_to_merged_id) as ids_to_merged_id, collect(node_to_merge) as nodes_to_merge, merged_nodes, merged_node, n, merged_id\n",
      "WITH apoc.map.groupByMulti(ids_to_merged_id, 'old_node') as ids_to_merged_id, merged_nodes, merged_node, n, merged_id, nodes_to_merge\n",
      "WITH apoc.map.fromValues(REDUCE(pairs=[], k in keys(ids_to_merged_id) | \n",
      "\tpairs + [k, REDUCE(values=[], v in ids_to_merged_id[k] | \n",
      "\t\tvalues + CASE WHEN v.new_node IN values THEN [] ELSE v.new_node END)])) as ids_to_merged_id, merged_nodes, merged_node, n, merged_id, nodes_to_merge\n",
      "WITH collect({n:n, nodes_to_merge:nodes_to_merge, merged_node: merged_node, merged_id: merged_id}) as all_n, collect(ids_to_merged_id) as ids_to_merged_id, merged_nodes\n",
      "WITH reduce(acc={}, x in ids_to_merged_id | apoc.map.merge(acc, x)) as ids_to_merged_id, all_n, merged_nodes\n",
      "UNWIND all_n as n_maps\n",
      "WITH n_maps.n as n, n_maps.nodes_to_merge as nodes_to_merge, n_maps.merged_node as merged_node, n_maps.merged_id as merged_id, ids_to_merged_id, merged_nodes\n",
      "UNWIND nodes_to_merge AS node_to_merge\n",
      "// accumulate all the attrs of the edges incident to the merged nodes\n",
      "WITH node_to_merge, ids_to_merged_id, merged_nodes, merged_node, n, merged_id\n",
      "OPTIONAL MATCH (node_to_merge)-[out_rel:edge]->(suc)\n",
      "WITH CASE WHEN suc.id IN keys(ids_to_merged_id)\n",
      "\t\tTHEN {id: id(ids_to_merged_id[suc.id][0]), neighbor: ids_to_merged_id[suc.id][0], edge: out_rel}\n",
      "\t\tELSE {id: id(suc), neighbor: suc, edge: out_rel} END AS suc_map, node_to_merge, ids_to_merged_id, merged_nodes, merged_node, n, merged_id\n",
      "WITH collect(suc_map) as suc_maps, node_to_merge, ids_to_merged_id, merged_nodes, merged_node, n, merged_id\n",
      "OPTIONAL MATCH (pred)-[in_rel:edge]->(node_to_merge)\n",
      "WITH CASE WHEN pred.id IN keys(ids_to_merged_id)\n",
      "\t\tTHEN {id: id(ids_to_merged_id[pred.id][0]), neighbor: ids_to_merged_id[pred.id][0], edge: in_rel}\n",
      "\t\tELSE {id: id(pred), neighbor: pred, edge: in_rel} END AS pred_map, node_to_merge, suc_maps, ids_to_merged_id, merged_nodes, merged_node, n, merged_id\n",
      "WITH collect(pred_map) as pred_maps, suc_maps, node_to_merge, ids_to_merged_id, merged_nodes, merged_node, n, merged_id\n",
      "WITH collect(node_to_merge) as nodes_to_merge, collect(node_to_merge.id) as list_ids, collect(suc_maps) as suc_maps_col, collect(pred_maps) as pred_maps_col, ids_to_merged_id, merged_nodes, merged_node, n, merged_id\n",
      "WITH REDUCE(init=[], maps in suc_maps_col | init + maps) as suc_maps, REDUCE(init=[], maps in pred_maps_col | init + maps) as pred_maps, list_ids, nodes_to_merge, ids_to_merged_id, merged_nodes, merged_node, n, merged_id\n",
      "WITH apoc.map.groupByMulti(suc_maps, 'id') as suc_props, REDUCE(list=[], map in suc_maps | \n",
      "\tlist + CASE WHEN NOT map['neighbor'] IS NULL THEN [map['neighbor']] ELSE [] END) as suc_nodes, apoc.map.groupByMulti(pred_maps, 'id') as pred_props, REDUCE(list=[], map in pred_maps | \n",
      "\tlist + CASE WHEN NOT map['neighbor'] IS NULL THEN [map['neighbor']] ELSE [] END) as pred_nodes, \tREDUCE(l=[], el in suc_maps + pred_maps| \n",
      "\t\tl + CASE WHEN el['id'] IN list_ids THEN [toString(el['id'])] ELSE [] END) as self_loops, ids_to_merged_id, list_ids, merged_nodes, merged_node, n, nodes_to_merge, merged_id\n",
      "WITH suc_nodes, pred_nodes, apoc.map.fromValues(REDUCE(edge_props=[], k in keys(suc_props) | \n",
      "\tedge_props + [k, apoc.map.groupByMulti(REDUCE(props=[], el in suc_props[k] | \n",
      "\t\tprops + REDUCE(pairs=[], kk in keys(el['edge']) | \n",
      "\t\t\tpairs + REDUCE(values=[], v in el['edge'][kk] | \n",
      "\t\t\t\tvalues + {key: kk, value: v}))), 'key')])) as suc_props, \n",
      "\tapoc.map.fromValues(REDUCE(edge_props=[], k in keys(pred_props) | \n",
      "\tedge_props + [k, apoc.map.groupByMulti(REDUCE(props=[], el in pred_props[k] | \n",
      "\t\tprops + REDUCE(pairs=[], kk in keys(el['edge']) | \n",
      "\t\t\tpairs + REDUCE(values=[], v in el['edge'][kk] | \n",
      "\t\t\t\t values + {key: kk, value: v}))), 'key')])) as pred_props,  \n",
      "\tREDUCE(edge_props=[], k IN filter(k IN keys(suc_props) WHERE k IN self_loops) |\n",
      "\t\tedge_props + suc_props[k]) + \n",
      "\tREDUCE(edge_props=[], k IN filter(k IN keys(pred_props) WHERE k IN self_loops) |\n",
      "\t\tedge_props + pred_props[k]) as self_loop_props, ids_to_merged_id, self_loops, merged_nodes, merged_node, n, nodes_to_merge, merged_id\n",
      "WITH suc_nodes, suc_props, pred_nodes, pred_props, apoc.map.groupByMulti(REDUCE(pairs=[], el in self_loop_props |\n",
      "\tpairs + REDUCE(inner_pairs=[], k in keys(el['edge']) | \n",
      "\t\tinner_pairs + REDUCE(values=[], v in el['edge'][k] |\n",
      "\t\t\tvalues + {key: k, value: v}))), 'key') as self_loop_props, ids_to_merged_id, self_loops, merged_nodes, merged_node, n, nodes_to_merge, merged_id\n",
      "FOREACH(suc IN filter(suc IN suc_nodes WHERE NOT id(suc) in self_loops) |\n",
      "\tMERGE (merged_node)-[new_rel:edge]->(suc)\n",
      "\tSET new_rel = apoc.map.fromValues(REDUCE(pairs=[], k in keys(suc_props[toString(id(suc))]) | \n",
      "\t\t pairs + [k, REDUCE(values=[], v in suc_props[toString(id(suc))][k] | \n",
      "\t\t\tvalues + CASE WHEN v.value IN values THEN [] ELSE v.value END)])))\n",
      "FOREACH(pred IN filter(pred IN pred_nodes WHERE NOT id(pred) in self_loops) |\n",
      "\tMERGE (pred)-[new_rel:edge]->(merged_node)\n",
      "\tSET new_rel = apoc.map.fromValues(REDUCE(pairs=[], k in keys(pred_props[toString(id(pred))]) | \n",
      "\t\t pairs + [k, REDUCE(values=[], v in pred_props[toString(id(pred))][k] | \n",
      "\t\t\tvalues + CASE WHEN v.value IN values THEN [] ELSE v.value END)])))\n",
      "// add self loop \n",
      "FOREACH(dummy in CASE WHEN length(self_loops) > 0 THEN [NULL] ELSE [] END |\n",
      "\tMERGE (merged_node)-[new_rel:edge]->(merged_node)\n",
      "\tSET new_rel = apoc.map.fromValues(REDUCE(pairs=[], k in keys(self_loop_props) |\n",
      "\t\tpairs + [k, REDUCE(values=[], v in self_loop_props[k] |\n",
      "\t\t\tvalues + CASE WHEN v.value IN values THEN [] ELSE v.value END)])))\n",
      "WITH ids_to_merged_id, merged_nodes, merged_node, n, nodes_to_merge, merged_id\n",
      "UNWIND nodes_to_merge AS node_to_merge\n",
      "// accumulate all the attrs of the edges incident to the merged nodes\n",
      "WITH [] as suc_typings, [] as pred_typings, node_to_merge, ids_to_merged_id, merged_nodes, merged_node, n, merged_id\n",
      "OPTIONAL MATCH (node_to_merge)-[:typing]->(suc)\n",
      "WITH suc_typings + collect(suc) as suc_typings, node_to_merge, pred_typings, ids_to_merged_id, merged_nodes, merged_node, n, merged_id\n",
      "OPTIONAL MATCH (pred)-[:typing]->(node_to_merge)\n",
      "WITH pred_typings + collect(pred) as pred_typings, node_to_merge, suc_typings, ids_to_merged_id, merged_nodes, merged_node, n, merged_id\n",
      "WITH collect(node_to_merge) as nodes_to_merge, collect(suc_typings) as suc_typings_col, collect(pred_typings) as pred_typings_col, ids_to_merged_id, merged_nodes, merged_node, n, merged_id\n",
      "WITH REDUCE(init=[], sucs in suc_typings_col | init + sucs) as suc_typings, REDUCE(init=[], preds in pred_typings_col | init + preds) as pred_typings, nodes_to_merge, ids_to_merged_id, merged_nodes, merged_node, n, merged_id\n",
      "FOREACH(suc in suc_typings |\n",
      "\tMERGE (merged_node)-[:typing]->(suc))\n",
      "FOREACH(pred in pred_typings |\n",
      "\tMERGE (pred)-[:typing]->(merged_node))\n",
      "WITH ids_to_merged_id, merged_nodes, merged_node, n, nodes_to_merge, merged_id\n",
      "FOREACH(node in filter(x IN nodes_to_merge WHERE x <> merged_node) |\n",
      "\tDETACH DELETE node)\n",
      "RETURN collect(merged_id) as merged_nodes\n",
      "\n",
      "// Addition of nodes and properties in 'metaModel'\n",
      "MATCH (n:node:actionGraph)\n",
      "OPTIONAL MATCH (n)<-[:typing*0..]-(:node)-[:typing*]->(existing_img:node:metaModel)\n",
      "FOREACH(dummy IN CASE WHEN existing_img IS NOT NULL THEN [1] ELSE [] END |\n",
      "\tMERGE (n)-[:typing]->(existing_img))\n",
      "WITH n MERGE (n)-[:typing]->(node_img:node:metaModel)\n",
      "WITH n, node_img\n",
      "FOREACH(dummy IN CASE WHEN node_img.id IS NULL THEN [1] ELSE [] END |\n",
      "\tSET node_img.id = id(node_img))\n",
      "WITH n, node_img WHERE REDUCE(invalid = 0, k in filter(k in keys(n) WHERE k <> 'id') |\n",
      "\tinvalid + CASE\n",
      "\t\tWHEN NOT k IN keys(node_img) THEN 1\n",
      "\t\tELSE REDUCE(invalid_values = 0, v in n[k] |\n",
      "\t\t\tinvalid_values + CASE\n",
      "\t\t\t\tWHEN NOT v IN node_img[k] THEN 1 ELSE 0 END)\n",
      "\t\tEND) <> 0\n",
      "WITH node_img, collect(n) + [node_img] as nodes_to_merge_props\n",
      "UNWIND nodes_to_merge_props as prop_to_merge\n",
      "// accumulate all the attrs of the nodes to be merged\n",
      "WITH [] as new_props, prop_to_merge, node_img\n",
      "WITH new_props + REDUCE(pairs = [], k in filter(k in keys(prop_to_merge) WHERE k <> 'id') | \n",
      "\tpairs + REDUCE(inner_pairs = [], v in prop_to_merge[k] | \n",
      "\t\tinner_pairs + {key: k, value: v})) as new_props, prop_to_merge, node_img\n",
      "WITH collect(prop_to_merge) as nodes_to_merge_props, collect(new_props) as new_props_col, node_img\n",
      "WITH REDUCE(init=[], props in new_props_col | init + props) as new_props, nodes_to_merge_props, node_img\n",
      "WITH apoc.map.groupByMulti(new_props, 'key') as new_props, nodes_to_merge_props, node_img\n",
      "WITH apoc.map.fromValues(REDUCE(pairs=[], k in keys(new_props) | \n",
      "\tpairs + [k, REDUCE(values=[], v in new_props[k] | \n",
      "\t\tvalues + CASE WHEN v.value IN values THEN [] ELSE v.value END)])) as new_props, nodes_to_merge_props, node_img\n",
      "SET node_img += new_props\n",
      "\n",
      "\n",
      "// Addition of edges and properties in 'metaModel'\n",
      "MATCH (n:node:actionGraph)-[rel:edge]->(m:node:actionGraph), (n)-[:typing]->(x:node:metaModel), (m)-[:typing]->(y:node:metaModel)\n",
      "MERGE (x)-[rel_img:edge]->(y)\n",
      "WITH x, y, rel, rel_img WHERE REDUCE(invalid = 0, k in filter(k in keys(rel) WHERE k <> 'id') |\n",
      "\tinvalid + CASE\n",
      "\t\tWHEN NOT k IN keys(rel_img) THEN 1\n",
      "\t\tELSE REDUCE(invalid_values = 0, v in rel[k] |\n",
      "\t\t\tinvalid_values + CASE\n",
      "\t\t\t\tWHEN NOT v IN rel_img[k] THEN 1 ELSE 0 END)\n",
      "\t\tEND) <> 0\n",
      "WITH x, y, rel_img, collect(rel) + rel_img as edges_to_merge_props\n",
      "UNWIND edges_to_merge_props as prop_to_merge\n",
      "// accumulate all the attrs of the nodes to be merged\n",
      "WITH [] as new_props, prop_to_merge, y, rel_img, x\n",
      "WITH new_props + REDUCE(pairs = [], k in filter(k in keys(prop_to_merge) WHERE k <> 'id') | \n",
      "\tpairs + REDUCE(inner_pairs = [], v in prop_to_merge[k] | \n",
      "\t\tinner_pairs + {key: k, value: v})) as new_props, prop_to_merge, y, rel_img, x\n",
      "WITH collect(prop_to_merge) as edges_to_merge_props, collect(new_props) as new_props_col, y, rel_img, x\n",
      "WITH REDUCE(init=[], props in new_props_col | init + props) as new_props, edges_to_merge_props, y, rel_img, x\n",
      "WITH apoc.map.groupByMulti(new_props, 'key') as new_props, edges_to_merge_props, y, rel_img, x\n",
      "WITH apoc.map.fromValues(REDUCE(pairs=[], k in keys(new_props) | \n",
      "\tpairs + [k, REDUCE(values=[], v in new_props[k] | \n",
      "\t\tvalues + CASE WHEN v.value IN values THEN [] ELSE v.value END)])) as new_props, edges_to_merge_props, y, rel_img, x\n",
      "SET rel_img += new_props\n",
      "\n"
     ]
    },
    {
     "name": "stdout",
     "output_type": "stream",
     "text": [
      "Rewritting children of metaModel...\n"
     ]
    }
   ],
   "source": [
    "h._propagation_down('actionGraph')"
   ]
  },
  {
   "cell_type": "markdown",
   "metadata": {},
   "source": [
    "## Removing a graph from the hierarchy"
   ]
  },
  {
   "cell_type": "markdown",
   "metadata": {},
   "source": [
    "We can also remove a graph from the hierarchy. All its nodes and connections (edges and typing edges) are removed."
   ]
  },
  {
   "cell_type": "code",
   "execution_count": 22,
   "metadata": {},
   "outputs": [],
   "source": [
    "#h.remove_graph('MetaModel')"
   ]
  },
  {
   "cell_type": "code",
   "execution_count": null,
   "metadata": {},
   "outputs": [],
   "source": []
  },
  {
   "cell_type": "code",
   "execution_count": null,
   "metadata": {},
   "outputs": [],
   "source": []
  },
  {
   "cell_type": "code",
   "execution_count": 23,
   "metadata": {},
   "outputs": [],
   "source": [
    "#here we clear the hierarchy\n",
    "#h.clear()\n",
    "#h.drop_all_constraints()\n",
    "#h.close()\n",
    "#"
   ]
  }
 ],
 "metadata": {
  "kernelspec": {
   "display_name": "Python 3",
   "language": "python",
   "name": "python3"
  },
  "language_info": {
   "codemirror_mode": {
    "name": "ipython",
    "version": 3
   },
   "file_extension": ".py",
   "mimetype": "text/x-python",
   "name": "python",
   "nbconvert_exporter": "python",
   "pygments_lexer": "ipython3",
   "version": "3.6.5"
  }
 },
 "nbformat": 4,
 "nbformat_minor": 2
}
