{
 "cells": [
  {
   "cell_type": "markdown",
   "metadata": {},
   "source": [
    "# Examples of utils provided by ReGraph's Neo4jHierarchy module"
   ]
  },
  {
   "cell_type": "code",
   "execution_count": 1,
   "metadata": {
    "collapsed": true
   },
   "outputs": [],
   "source": [
    "import networkx as nx\n",
    "from regraph import Rule, plot_rule\n",
    "\n",
    "\n",
    "from regraph.neo4j.hierarchy import Neo4jHierarchy\n",
    "import regraph.neo4j.cypher_utils as cypher"
   ]
  },
  {
   "cell_type": "markdown",
   "metadata": {},
   "source": [
    "## Initializing Neo4j database\n",
    "\n",
    "0. When installing neo4j you will be asked to choose login/password for you dbs (here its \"neo4j\"/\"admin\"), if you choose other -- change in the cell below.\n",
    "1. To start neo4j server run `sudo service neo4j start`\n",
    "2. Check status by running `sudo service neo4j status`. Here you can check the _bolt_ port, change the cell below if different from 7687\n",
    "3. You can query the db by using the neo4j browser, the address can be found also in the result of 'status', e.g. \"Remote interface available at http://localhost:7474/\"."
   ]
  },
  {
   "cell_type": "code",
   "execution_count": 2,
   "metadata": {
    "scrolled": false
   },
   "outputs": [
    {
     "data": {
      "text/plain": [
       "<neo4j.v1.result.BoltStatementResult at 0x7f17069ee198>"
      ]
     },
     "execution_count": 2,
     "metadata": {},
     "output_type": "execute_result"
    }
   ],
   "source": [
    "# initialize the neo4j driver, wrappped into Neo4jHierarchy object\n",
    "h = Neo4jHierarchy(uri=\"bolt://localhost:7687\", user=\"neo4j\", password=\"admin\")\n",
    "h._clear()"
   ]
  },
  {
   "cell_type": "markdown",
   "metadata": {},
   "source": [
    "## Hierarchy\n",
    "\n",
    "A hierarchy is given by graphs connected by typing (homorphism). \n",
    "\n",
    "Each graph in the database is represented by a unique label which enables us to match quickly the nodes of this graph. Each node of a graph has then the label *graphId*. We can match these nodes by using the query:\n",
    "\n",
    "> MATCH (n:graphLabel) RETURN n\n",
    "\n",
    "\n",
    "The edges of a graph are labeled as *edge* and the typing edges are labeled as *typing*. We can then easily find the image of a node with the query:\n",
    "\n",
    "> OPTIONAL MATCH (n:graphLabel)-[:typing]->(m) RETURN m\n",
    "\n",
    "The hierarchy skeleton is represented by nodes labeled as hierarchyNodes. It enables us to know which graphs are the ancestors of a graph we want to rewrite for example."
   ]
  },
  {
   "cell_type": "markdown",
   "metadata": {},
   "source": [
    "## Adding a graph to the hierarchy (Action Graph)"
   ]
  },
  {
   "cell_type": "markdown",
   "metadata": {},
   "source": [
    "Here we create a first graph called *ActionGraph*. This graph represent people and the relationship between them."
   ]
  },
  {
   "cell_type": "code",
   "execution_count": 3,
   "metadata": {
    "scrolled": true
   },
   "outputs": [],
   "source": [
    "nodes = [\n",
    "    (\"a\", {\"name\": {\"Jack\"}, \"age\": {43}, \"hobby\": {\"hiking\", \"music\"}}), \n",
    "    (\"b\", {\"name\": {\"Robert\"}, \"age\": {35}, \"hobby\": {\"sport\", \"music\"}}),\n",
    "    (\"c\", {\"name\":{ \"Paul\"}, \"age\": {18}}),\n",
    "    (\"d\", {\"name\": {\"Joe\"}, \"age\": {12}}),\n",
    "    (\"e\", {\"name\": {\"Paul\"}, \"age\": {18}})\n",
    "]\n",
    "edges = [\n",
    "    (\"a\", \"b\", {\"type\": {\"friends\"}}), \n",
    "    (\"a\", \"c\", {\"type\": {\"colleagues\"}}),\n",
    "    (\"b\", \"c\", {\"type\": {\"colleagues\"}}),\n",
    "    (\"d\", \"a\", {\"type\": {\"child_of\"}}), \n",
    "    (\"d\", \"e\", {\"type\": {\"enemies\"}}),\n",
    "    (\"e\", \"e\", {\"type\": {\"likes\"}})\n",
    "]\n",
    "h.add_graph('actionGraph', nodes, edges)"
   ]
  },
  {
   "cell_type": "markdown",
   "metadata": {},
   "source": [
    "## Adding a second graph to the herarchy (Meta Model)"
   ]
  },
  {
   "cell_type": "markdown",
   "metadata": {},
   "source": [
    "Here we create a second graph called *MetaModel*. Which represent the types of people (*Adult* or *Child*) and the relationships between them."
   ]
  },
  {
   "cell_type": "code",
   "execution_count": 4,
   "metadata": {
    "collapsed": true
   },
   "outputs": [],
   "source": [
    "nodes = [\n",
    "    (\"a\", {\"type\": {\"Adult\"}, \"age\": {43, 35, 18}, \"name\": {\"Paul\", \"Jack\", \"Robert\"}, \"hobby\": {\"hiking\", \"music\", \"sport\"}}),\n",
    "    (\"b\", {\"type\": {\"Child\"}, \"age\": {12, 18}, \"name\": {\"Paul\", \"Joe\"}})\n",
    "]\n",
    "edges = [\n",
    "    (\"a\", \"a\", {\"type\": {\"friends\", \"colleagues\"}}),\n",
    "    (\"b\", \"a\", {\"type\": {\"child_of\"}}),\n",
    "    (\"b\", \"b\", {\"type\": {\"friends\", \"enemies\"}})\n",
    "]\n",
    "h.add_graph('metaModel', nodes, edges)"
   ]
  },
  {
   "cell_type": "markdown",
   "metadata": {},
   "source": [
    "## Typing"
   ]
  },
  {
   "cell_type": "markdown",
   "metadata": {},
   "source": [
    "Here we create a typing of the *ActionGraph* by the *MetaModel*."
   ]
  },
  {
   "cell_type": "code",
   "execution_count": 5,
   "metadata": {},
   "outputs": [
    {
     "name": "stdout",
     "output_type": "stream",
     "text": [
      "// match all typing pairs between 'actionGraph' and 'metaModel'\n",
      "MATCH (s:actionGraph), (t:metaModel)\n",
      "WITH s, t\n",
      "// match all the predecessors of 's' and successors of 't'\n",
      "MATCH (pred), (suc)\n",
      "WHERE (pred)-[:typing*0..]->(s)\n",
      "\tAND (t)-[:typing*0..]->(suc)\n",
      "WITH s, t, collect(DISTINCT pred) as pred_list, collect(DISTINCT suc) as suc_list\n",
      "// select all the pairs 'pred' 'suc' with a path between\n",
      "UNWIND pred_list as pred\n",
      "UNWIND suc_list as suc\n",
      "OPTIONAL MATCH (pred)-[r:typing*]->(suc)\n",
      "WHERE NONE(rel in r WHERE rel.tmp = 'True')\n",
      "WITH s, t, r, labels(pred)[1] as pred_label, labels(suc)[1] as suc_label\n",
      "WHERE r IS NOT NULL\n",
      "WITH DISTINCT s, t, pred_label, suc_label\n",
      "// return the pairs 's' 't' where there should be a typing edge\n",
      "OPTIONAL MATCH (s)-[new_typing:typing]->(t)\n",
      "WHERE new_typing.tmp IS NOT NULL\n",
      "WITH pred_label, suc_label, s.id as s_id, t.id as t_id, new_typing\n",
      "WHERE new_typing IS NULL\n",
      "RETURN pred_label, suc_label, s_id, t_id\n",
      "\n"
     ]
    },
    {
     "data": {
      "text/plain": [
       "<neo4j.v1.result.BoltStatementResult at 0x7f1706785f98>"
      ]
     },
     "execution_count": 5,
     "metadata": {},
     "output_type": "execute_result"
    }
   ],
   "source": [
    "mapping = {\n",
    "    \"a\":\"a\",\n",
    "    \"b\":\"a\",\n",
    "    \"c\":\"a\",\n",
    "    \"d\":\"b\",\n",
    "    \"e\":\"b\"\n",
    "}\n",
    "h.add_typing('actionGraph', 'metaModel', mapping)"
   ]
  },
  {
   "cell_type": "markdown",
   "metadata": {},
   "source": [
    "## Classic update functions"
   ]
  },
  {
   "cell_type": "markdown",
   "metadata": {},
   "source": [
    "We still can use the modification functions on these graphs."
   ]
  },
  {
   "cell_type": "code",
   "execution_count": 6,
   "metadata": {
    "collapsed": true
   },
   "outputs": [],
   "source": [
    "#ag.merge_nodes1([\"b\", \"c\"])"
   ]
  },
  {
   "cell_type": "code",
   "execution_count": 7,
   "metadata": {
    "collapsed": true,
    "scrolled": false
   },
   "outputs": [],
   "source": [
    "#ag.clone_node(\"e\")"
   ]
  },
  {
   "cell_type": "markdown",
   "metadata": {},
   "source": [
    "## Graph rewriting and propagation up"
   ]
  },
  {
   "cell_type": "code",
   "execution_count": 8,
   "metadata": {
    "collapsed": true
   },
   "outputs": [],
   "source": [
    "pattern = nx.DiGraph()\n",
    "pattern.add_nodes_from([\"x\", (\"y\",  {\"type\": {\"Child\"}, \"age\": {12, 18}, \"name\" : {\"Paul\", \"Joe\"}})])\n",
    "pattern.add_edges_from([(\"y\", \"x\",  {\"type\": {\"child_of\"}}), (\"y\", \"y\")])"
   ]
  },
  {
   "cell_type": "code",
   "execution_count": 9,
   "metadata": {
    "collapsed": true
   },
   "outputs": [],
   "source": [
    "rule = Rule.from_transform(pattern)\n",
    "rule.inject_remove_node_attrs(\"y\",  {\"age\": {18}})\n",
    "rule.inject_remove_edge_attrs(\"y\", \"x\",  {\"type\": {\"child_of\"}})\n",
    "#rule.inject_remove_node(\"x\")\n",
    "#rule.inject_remove_edge(\"y\",\"y\")\n",
    "#rule.inject_clone_node(\"y\")"
   ]
  },
  {
   "cell_type": "code",
   "execution_count": 10,
   "metadata": {
    "scrolled": false
   },
   "outputs": [
    {
     "name": "stderr",
     "output_type": "stream",
     "text": [
      "/home/eugenia/anaconda3/lib/python3.6/site-packages/matplotlib/cbook/deprecation.py:107: MatplotlibDeprecationWarning: Passing one of 'on', 'true', 'off', 'false' as a boolean is deprecated; use an actual boolean (True/False) instead.\n",
      "  warnings.warn(message, mplDeprecation, stacklevel=1)\n",
      "/home/eugenia/anaconda3/lib/python3.6/site-packages/networkx-1.11-py3.6.egg/networkx/drawing/nx_pylab.py:522: MatplotlibDeprecationWarning: The is_string_like function was deprecated in version 2.1.\n",
      "  if not cb.is_string_like(edge_color) \\\n",
      "/home/eugenia/anaconda3/lib/python3.6/site-packages/networkx-1.11-py3.6.egg/networkx/drawing/nx_pylab.py:543: MatplotlibDeprecationWarning: The is_string_like function was deprecated in version 2.1.\n",
      "  if cb.is_string_like(edge_color) or len(edge_color) == 1:\n",
      "/home/eugenia/anaconda3/lib/python3.6/site-packages/networkx-1.11-py3.6.egg/networkx/drawing/nx_pylab.py:724: MatplotlibDeprecationWarning: The is_string_like function was deprecated in version 2.1.\n",
      "  if not cb.is_string_like(label):\n"
     ]
    },
    {
     "data": {
      "image/png": "[encoded data removed]",
      "text/plain": [
       "<Figure size 1008x216 with 3 Axes>"
      ]
     },
     "metadata": {},
     "output_type": "display_data"
    }
   ],
   "source": [
    "plot_rule(rule)"
   ]
  },
  {
   "cell_type": "code",
   "execution_count": 11,
   "metadata": {},
   "outputs": [
    {
     "name": "stdout",
     "output_type": "stream",
     "text": [
      "Instances:  [{'x': 'a', 'y': 'b'}]\n"
     ]
    }
   ],
   "source": [
    "instances = h.find_matching('metaModel', pattern)\n",
    "print(\"Instances: \", instances)"
   ]
  },
  {
   "cell_type": "code",
   "execution_count": 12,
   "metadata": {
    "scrolled": true
   },
   "outputs": [
    {
     "name": "stdout",
     "output_type": "stream",
     "text": [
      "// Match nodes and edges of the instance \n",
      "MATCH (lhs_x:metaModel { id : 'a'}) , (lhs_y:metaModel { id : 'b'})  , (lhs_y)-[lhs_y_lhs_x:edge]->(lhs_x), (lhs_y)-[lhs_y_lhs_y:edge]->(lhs_y)\n",
      "\n",
      "// Renaming vars to correspond to the vars of P\n",
      "WITH lhs_y_lhs_x, lhs_y_lhs_y , lhs_x as p_x, lhs_y as p_y \n",
      "\n",
      "// Removing properties from node 'y' of P \n",
      "FOREACH(dummy IN CASE WHEN 'age' IN keys(p_y) THEN [1] ELSE [] END |\n",
      "\tSET p_y.age = filter(v in p_y.age WHERE NOT v IN ['18'])\n",
      "\tFOREACH(dumy2 IN CASE WHEN size(p_y.age)=0 THEN [1] ELSE [] END |\n",
      "\t\tREMOVE p_y.age))\n",
      "\n",
      "\n",
      "// Removing properties from edge y->x of P \n",
      "WITH p_y, p_x, lhs_y_lhs_y, lhs_y_lhs_x MATCH (p_y)-[p_y_p_x:edge]->(p_x)\n",
      "FOREACH(dummy IN CASE WHEN 'type' IN keys(p_y_p_x) THEN [1] ELSE [] END |\n",
      "\tSET p_y_p_x.type = filter(v in p_y_p_x.type WHERE NOT v IN ['child_of'])\n",
      "\tFOREACH(dumy2 IN CASE WHEN size(p_y_p_x.type)=0 THEN [1] ELSE [] END |\n",
      "\t\tREMOVE p_y_p_x.type))\n",
      "\n",
      "\n",
      "// Renaming vars to correspond to the vars of rhs\n",
      "WITH lhs_y_lhs_y, p_y_p_x, lhs_y_lhs_x , p_x as rhs_x, p_y as rhs_y \n",
      "\n",
      "// Return statement \n",
      "RETURN rhs_x, lhs_y_lhs_y, p_y_p_x, rhs_y, lhs_y_lhs_x\n",
      "\n",
      "// Removal of nodes in 'actionGraph'\n",
      "MATCH (n:actionGraph)\n",
      "OPTIONAL MATCH (n)-[:typing]->(x:metaModel)\n",
      "FOREACH(dummy IN CASE WHEN x IS NULL THEN [1] ELSE [] END |\n",
      "\tDETACH DELETE n\n",
      ")\n",
      "// Removal of node properties in 'actionGraph'\n",
      "WITH n, x\n",
      "WHERE x IS NOT NULL AND REDUCE(invalid = 0, k in filter(k in keys(n) WHERE k <> 'id') |\n",
      "\tinvalid + CASE\n",
      "\t\tWHEN NOT k IN keys(x) THEN 1\n",
      "\t\tELSE REDUCE(invalid_values = 0, v in n[k] |\n",
      "\t\t\tinvalid_values + CASE\n",
      "\t\t\t\tWHEN NOT v IN x[k] THEN 1 ELSE 0 END)\n",
      "\t\tEND) <> 0\n",
      "WITH n, x, [x, n] as node_to_merge_props\n",
      "\n",
      "//Perform the intersection of the properties of node_to_merge_props\n",
      "WITH [] as new_props, n, x, node_to_merge_props\n",
      "WITH new_props + REDUCE(pairs = [], k in keys(node_to_merge_props[0]) | pairs +\n",
      "\tCASE WHEN ALL(other in node_to_merge_props WHERE k in keys(other))\n",
      "\tTHEN\n",
      "\t\tREDUCE(inner_pairs = [], v in node_to_merge_props[0][k] | inner_pairs +\n",
      "\t\t\tCASE WHEN ALL(other in node_to_merge_props WHERE v in other[k])\n",
      "\t\t\tTHEN\n",
      "\t\t\t\t{key: k, value: v}\n",
      "\t\t\tELSE\n",
      "\t\t\t\t[]\n",
      "\t\t\tEND)\n",
      "\tELSE\n",
      "\t\t[]\n",
      "\tEND) as new_props, n, x, node_to_merge_props\n",
      "WITH apoc.map.groupByMulti(new_props, 'key') as new_props, n, x, node_to_merge_props\n",
      "WITH apoc.map.fromValues(REDUCE(pairs=[], k in keys(new_props) | \n",
      "\tpairs + [k, REDUCE(values=[], v in new_props[k] | \n",
      "\t\tvalues + CASE WHEN v.value IN values THEN [] ELSE v.value END)])) as new_props, n, x, node_to_merge_props\n",
      "WITH n.id as n_id, n, x, new_props, node_to_merge_props\n",
      "SET n = new_props\n",
      "SET n.id = n_id\n",
      "\n",
      "// Removal of edges attributes in 'actionGraph'\n",
      "MATCH (n:actionGraph)-[rel_pred:edge]->(m:actionGraph)\n",
      "OPTIONAL MATCH (x:metaModel)-[rel:edge]->(y:metaModel)WHERE (n)-[:typing]->(x) AND (m)-[:typing]->(y)\n",
      "FOREACH(dummy IN CASE WHEN rel IS NULL THEN [1] ELSE [] END |\n",
      "\tDELETE rel_pred\n",
      ")\n",
      "WITH rel, rel_pred\n",
      "WHERE rel IS NOT NULL AND REDUCE(invalid = 0, k in filter(k in keys(rel_pred) WHERE k <> 'id') |\n",
      "\tinvalid + CASE\n",
      "\t\tWHEN NOT k IN keys(rel) THEN 1\n",
      "\t\tELSE REDUCE(invalid_values = 0, v in rel_pred[k] |\n",
      "\t\t\tinvalid_values + CASE\n",
      "\t\t\t\tWHEN NOT v IN rel[k] THEN 1 ELSE 0 END)\n",
      "\t\tEND) <> 0\n",
      "WITH rel, rel_pred, [rel_pred, rel] as edges_to_merge_props\n",
      "\n",
      "//Perform the intersection of the properties of edges_to_merge_props\n",
      "WITH [] as new_props, edges_to_merge_props, rel, rel_pred\n",
      "WITH new_props + REDUCE(pairs = [], k in keys(edges_to_merge_props[0]) | pairs +\n",
      "\tCASE WHEN ALL(other in edges_to_merge_props WHERE k in keys(other))\n",
      "\tTHEN\n",
      "\t\tREDUCE(inner_pairs = [], v in edges_to_merge_props[0][k] | inner_pairs +\n",
      "\t\t\tCASE WHEN ALL(other in edges_to_merge_props WHERE v in other[k])\n",
      "\t\t\tTHEN\n",
      "\t\t\t\t{key: k, value: v}\n",
      "\t\t\tELSE\n",
      "\t\t\t\t[]\n",
      "\t\t\tEND)\n",
      "\tELSE\n",
      "\t\t[]\n",
      "\tEND) as new_props, edges_to_merge_props, rel, rel_pred\n",
      "WITH apoc.map.groupByMulti(new_props, 'key') as new_props, edges_to_merge_props, rel, rel_pred\n",
      "WITH apoc.map.fromValues(REDUCE(pairs=[], k in keys(new_props) | \n",
      "\tpairs + [k, REDUCE(values=[], v in new_props[k] | \n",
      "\t\tvalues + CASE WHEN v.value IN values THEN [] ELSE v.value END)])) as new_props, edges_to_merge_props, rel, rel_pred\n",
      "SET rel_pred = new_props\n",
      "\n"
     ]
    },
    {
     "data": {
      "text/plain": [
       "{'x': 'a', 'y': 'b'}"
      ]
     },
     "execution_count": 12,
     "metadata": {},
     "output_type": "execute_result"
    }
   ],
   "source": [
    "h.rewrite('metaModel', rule, instances[0])"
   ]
  },
  {
   "cell_type": "markdown",
   "metadata": {},
   "source": [
    "## Graph rewritting and propagation down"
   ]
  },
  {
   "cell_type": "code",
   "execution_count": 13,
   "metadata": {
    "collapsed": true
   },
   "outputs": [],
   "source": [
    "pattern = nx.DiGraph()\n",
    "pattern.add_nodes_from([(\"w\", {\"name\":{\"Paul\"}}), \"x\", \"y\", \"z\"])\n",
    "pattern.add_edges_from([(\"x\", \"w\"), (\"y\", \"x\"), (\"y\", \"z\"), (\"z\",\"z\")])"
   ]
  },
  {
   "cell_type": "code",
   "execution_count": 14,
   "metadata": {
    "collapsed": true
   },
   "outputs": [],
   "source": [
    "rule = Rule.from_transform(pattern)\n",
    "rule.inject_add_node_attrs(\"x\", {\"age\":{10}})\n",
    "rule.inject_add_edge_attrs(\"x\", \"w\", {\"relation\":{\"brothers\"}})\n",
    "rule.inject_add_node(\"new_node\", {\"name\":{\"Will\"}})\n",
    "rule.inject_add_edge(\"new_node\", \"y\")\n",
    "merged_node = rule.inject_merge_nodes([\"w\", \"z\"])"
   ]
  },
  {
   "cell_type": "code",
   "execution_count": 15,
   "metadata": {
    "collapsed": true
   },
   "outputs": [],
   "source": [
    "rhs_typing = {\n",
    "    'metaModel': {'new_node':'a', merged_node: 'a'}\n",
    "}"
   ]
  },
  {
   "cell_type": "code",
   "execution_count": 16,
   "metadata": {
    "scrolled": false
   },
   "outputs": [
    {
     "name": "stderr",
     "output_type": "stream",
     "text": [
      "/home/eugenia/anaconda3/lib/python3.6/site-packages/matplotlib/cbook/deprecation.py:107: MatplotlibDeprecationWarning: Passing one of 'on', 'true', 'off', 'false' as a boolean is deprecated; use an actual boolean (True/False) instead.\n",
      "  warnings.warn(message, mplDeprecation, stacklevel=1)\n",
      "/home/eugenia/anaconda3/lib/python3.6/site-packages/networkx-1.11-py3.6.egg/networkx/drawing/nx_pylab.py:522: MatplotlibDeprecationWarning: The is_string_like function was deprecated in version 2.1.\n",
      "  if not cb.is_string_like(edge_color) \\\n",
      "/home/eugenia/anaconda3/lib/python3.6/site-packages/networkx-1.11-py3.6.egg/networkx/drawing/nx_pylab.py:543: MatplotlibDeprecationWarning: The is_string_like function was deprecated in version 2.1.\n",
      "  if cb.is_string_like(edge_color) or len(edge_color) == 1:\n",
      "/home/eugenia/anaconda3/lib/python3.6/site-packages/networkx-1.11-py3.6.egg/networkx/drawing/nx_pylab.py:724: MatplotlibDeprecationWarning: The is_string_like function was deprecated in version 2.1.\n",
      "  if not cb.is_string_like(label):\n"
     ]
    },
    {
     "data": {
      "image/png": "[encoded data removed]",
      "text/plain": [
       "<Figure size 1008x216 with 3 Axes>"
      ]
     },
     "metadata": {},
     "output_type": "display_data"
    }
   ],
   "source": [
    "plot_rule(rule)"
   ]
  },
  {
   "cell_type": "code",
   "execution_count": 17,
   "metadata": {},
   "outputs": [
    {
     "name": "stdout",
     "output_type": "stream",
     "text": [
      "Instances:  [{'w': 'c', 'x': 'a', 'y': 'd', 'z': 'e'}]\n"
     ]
    }
   ],
   "source": [
    "instances = h.find_matching('actionGraph', pattern)\n",
    "print(\"Instances: \", instances)"
   ]
  },
  {
   "cell_type": "code",
   "execution_count": 18,
   "metadata": {
    "scrolled": false
   },
   "outputs": [
    {
     "name": "stdout",
     "output_type": "stream",
     "text": [
      "// Match nodes and edges of the instance \n",
      "MATCH (lhs_w:actionGraph { id : 'c'}) , (lhs_x:actionGraph { id : 'a'}) , (lhs_y:actionGraph { id : 'd'}) , (lhs_z:actionGraph { id : 'e'})  , (lhs_x)-[lhs_x_lhs_w:edge]->(lhs_w), (lhs_y)-[lhs_y_lhs_x:edge]->(lhs_x), (lhs_y)-[lhs_y_lhs_z:edge]->(lhs_z), (lhs_z)-[lhs_z_lhs_z:edge]->(lhs_z)\n",
      "\n",
      "// Renaming vars to correspond to the vars of P\n",
      "WITH lhs_y_lhs_z, lhs_x_lhs_w, lhs_z_lhs_z, lhs_y_lhs_x , lhs_w as p_w, lhs_x as p_x, lhs_y as p_y, lhs_z as p_z \n",
      "\n",
      "// Merging nodes '{'w', 'z'}' of the preserved part into 'w_z' \n",
      "// accumulate all the attrs of the nodes to be merged\n",
      "WITH [] as new_props, p_y, lhs_y_lhs_z, lhs_x_lhs_w, p_w, p_x, lhs_z_lhs_z, p_z, lhs_y_lhs_x\n",
      "WITH new_props + REDUCE(pairs = [], k in keys(p_w) | \n",
      "\tpairs + REDUCE(inner_pairs = [], v in p_w[k] | \n",
      "\t\tinner_pairs + {key: k, value: v})) as new_props, p_y, lhs_y_lhs_z, lhs_x_lhs_w, p_w, p_x, lhs_z_lhs_z, p_z, lhs_y_lhs_x\n",
      "WITH new_props + REDUCE(pairs = [], k in keys(p_z) | \n",
      "\tpairs + REDUCE(inner_pairs = [], v in p_z[k] | \n",
      "\t\tinner_pairs + {key: k, value: v})) as new_props, p_y, lhs_y_lhs_z, lhs_x_lhs_w, p_w, p_x, lhs_z_lhs_z, p_z, lhs_y_lhs_x\n",
      "WITH apoc.map.groupByMulti(new_props, 'key') as new_props, p_y, lhs_y_lhs_z, lhs_x_lhs_w, p_w, p_x, lhs_z_lhs_z, p_z, lhs_y_lhs_x\n",
      "WITH apoc.map.fromValues(REDUCE(pairs=[], k in keys(new_props) | \n",
      "\tpairs + [k, REDUCE(values=[], v in new_props[k] | \n",
      "\t\tvalues + CASE WHEN v.value IN values THEN [] ELSE v.value END)])) as new_props, p_y, lhs_y_lhs_z, lhs_x_lhs_w, p_w, p_x, lhs_z_lhs_z, p_z, lhs_y_lhs_x\n",
      "SET p_w = new_props\n",
      "WITH p_w as rhs_w_z, p_y, lhs_y_lhs_z, lhs_x_lhs_w, p_x, lhs_z_lhs_z, p_z, lhs_y_lhs_x\n",
      "// set appropriate node id\n",
      "SET rhs_w_z.id = toString(id(rhs_w_z))\n",
      "SET rhs_w_z.count = NULL\n",
      "WITH toString(id(rhs_w_z)) as uidedfb0dd7f0fc417da402d1bdad12aa67, p_y, rhs_w_z, lhs_y_lhs_z, lhs_x_lhs_w, p_x, lhs_z_lhs_z, p_z, lhs_y_lhs_x\n",
      "// accumulate all the attrs of the edges incident to the merged nodes\n",
      "WITH [] as suc_maps, [] as pred_maps, p_y, uidedfb0dd7f0fc417da402d1bdad12aa67, rhs_w_z, lhs_y_lhs_z, lhs_x_lhs_w, p_x, lhs_z_lhs_z, p_z, lhs_y_lhs_x\n",
      "OPTIONAL MATCH (rhs_w_z)-[out_rel:edge]->(suc)\n",
      "WITH suc_maps + collect({id: id(suc), neighbor: suc, edge: out_rel}) as suc_maps, pred_maps, p_y, uidedfb0dd7f0fc417da402d1bdad12aa67, rhs_w_z, lhs_y_lhs_z, lhs_x_lhs_w, p_x, lhs_z_lhs_z, p_z, lhs_y_lhs_x\n",
      "OPTIONAL MATCH (pred)-[in_rel:edge]->(rhs_w_z)\n",
      "WITH pred_maps + collect({id: id(pred), neighbor: pred, edge: in_rel}) as pred_maps, suc_maps, p_y, uidedfb0dd7f0fc417da402d1bdad12aa67, rhs_w_z, lhs_y_lhs_z, lhs_x_lhs_w, p_x, lhs_z_lhs_z, p_z, lhs_y_lhs_x\n",
      "OPTIONAL MATCH (p_z)-[out_rel:edge]->(suc)\n",
      "WITH suc_maps + collect({id: id(suc), neighbor: suc, edge: out_rel}) as suc_maps, pred_maps, p_y, uidedfb0dd7f0fc417da402d1bdad12aa67, rhs_w_z, lhs_y_lhs_z, lhs_x_lhs_w, p_x, lhs_z_lhs_z, p_z, lhs_y_lhs_x\n",
      "OPTIONAL MATCH (pred)-[in_rel:edge]->(p_z)\n",
      "WITH pred_maps + collect({id: id(pred), neighbor: pred, edge: in_rel}) as pred_maps, suc_maps, p_y, uidedfb0dd7f0fc417da402d1bdad12aa67, rhs_w_z, lhs_y_lhs_z, lhs_x_lhs_w, p_x, lhs_z_lhs_z, p_z, lhs_y_lhs_x\n",
      "WITH apoc.map.groupByMulti(suc_maps, 'id') as suc_props, REDUCE(list=[], map in suc_maps | \n",
      "\tlist + CASE WHEN NOT map['neighbor'] IS NULL THEN [map['neighbor']] ELSE [] END) as suc_nodes, apoc.map.groupByMulti(pred_maps, 'id') as pred_props, REDUCE(list=[], map in pred_maps | \n",
      "\tlist + CASE WHEN NOT map['neighbor'] IS NULL THEN [map['neighbor']] ELSE [] END) as pred_nodes, \tREDUCE(l=[], el in suc_maps + pred_maps| \n",
      "\t\tl + CASE WHEN el['id'] IN [id(rhs_w_z),id(p_z)] THEN [toString(el['id'])] ELSE [] END) as self_loops, p_y, uidedfb0dd7f0fc417da402d1bdad12aa67, rhs_w_z, lhs_y_lhs_z, lhs_x_lhs_w, p_x, lhs_z_lhs_z, p_z, lhs_y_lhs_x\n",
      "WITH suc_nodes, pred_nodes, apoc.map.fromValues(REDUCE(edge_props=[], k in keys(suc_props) | \n",
      "\tedge_props + [k, apoc.map.groupByMulti(REDUCE(props=[], el in suc_props[k] | \n",
      "\t\tprops + REDUCE(pairs=[], kk in keys(el['edge']) | \n",
      "\t\t\tpairs + REDUCE(values=[], v in el['edge'][kk] | \n",
      "\t\t\t\tvalues + {key: kk, value: v}))), 'key')])) as suc_props, \n",
      "\tapoc.map.fromValues(REDUCE(edge_props=[], k in keys(pred_props) | \n",
      "\tedge_props + [k, apoc.map.groupByMulti(REDUCE(props=[], el in pred_props[k] | \n",
      "\t\tprops + REDUCE(pairs=[], kk in keys(el['edge']) | \n",
      "\t\t\tpairs + REDUCE(values=[], v in el['edge'][kk] | \n",
      "\t\t\t\t values + {key: kk, value: v}))), 'key')])) as pred_props,  \n",
      "\tREDUCE(edge_props=[], k IN filter(k IN keys(suc_props) WHERE k IN self_loops) |\n",
      "\t\tedge_props + suc_props[k]) + \n",
      "\tREDUCE(edge_props=[], k IN filter(k IN keys(pred_props) WHERE k IN self_loops) |\n",
      "\t\tedge_props + pred_props[k]) as self_loop_props, p_y, uidedfb0dd7f0fc417da402d1bdad12aa67, rhs_w_z, lhs_y_lhs_z, self_loops, lhs_x_lhs_w, p_x, lhs_z_lhs_z, p_z, lhs_y_lhs_x\n",
      "WITH suc_nodes, suc_props, pred_nodes, pred_props, apoc.map.groupByMulti(REDUCE(pairs=[], el in self_loop_props |\n",
      "\tpairs + REDUCE(inner_pairs=[], k in keys(el['edge']) | \n",
      "\t\tinner_pairs + REDUCE(values=[], v in el['edge'][k] |\n",
      "\t\t\tvalues + {key: k, value: v}))), 'key') as self_loop_props, p_y, uidedfb0dd7f0fc417da402d1bdad12aa67, rhs_w_z, lhs_y_lhs_z, self_loops, lhs_x_lhs_w, p_x, lhs_z_lhs_z, p_z, lhs_y_lhs_x\n",
      "FOREACH(suc IN filter(suc IN suc_nodes WHERE NOT id(suc) in self_loops) |\n",
      "\tMERGE (rhs_w_z)-[new_rel:edge]->(suc)\n",
      "\tSET new_rel = apoc.map.fromValues(REDUCE(pairs=[], k in keys(suc_props[toString(id(suc))]) | \n",
      "\t\t pairs + [k, REDUCE(values=[], v in suc_props[toString(id(suc))][k] | \n",
      "\t\t\tvalues + CASE WHEN v.value IN values THEN [] ELSE v.value END)])))\n",
      "FOREACH(pred IN filter(pred IN pred_nodes WHERE NOT id(pred) in self_loops) |\n",
      "\tMERGE (pred)-[new_rel:edge]->(rhs_w_z)\n",
      "\tSET new_rel = apoc.map.fromValues(REDUCE(pairs=[], k in keys(pred_props[toString(id(pred))]) | \n",
      "\t\t pairs + [k, REDUCE(values=[], v in pred_props[toString(id(pred))][k] | \n",
      "\t\t\tvalues + CASE WHEN v.value IN values THEN [] ELSE v.value END)])))\n",
      "// add self loop \n",
      "FOREACH(dummy in CASE WHEN length(self_loops) > 0 THEN [NULL] ELSE [] END |\n",
      "\tMERGE (rhs_w_z)-[new_rel:edge]->(rhs_w_z)\n",
      "\tSET new_rel = apoc.map.fromValues(REDUCE(pairs=[], k in keys(self_loop_props) |\n",
      "\t\tpairs + [k, REDUCE(values=[], v in self_loop_props[k] |\n",
      "\t\t\tvalues + CASE WHEN v.value IN values THEN [] ELSE v.value END)])))\n",
      "// accumulate all the attrs of the edges incident to the merged nodes\n",
      "WITH [] as suc_typings, [] as pred_typings, p_y, uidedfb0dd7f0fc417da402d1bdad12aa67, rhs_w_z, lhs_y_lhs_z, lhs_x_lhs_w, p_x, lhs_z_lhs_z, p_z, lhs_y_lhs_x\n",
      "OPTIONAL MATCH (rhs_w_z)-[:typing]->(suc)\n",
      "WITH suc_typings + collect(suc) as suc_typings, pred_typings, p_y, uidedfb0dd7f0fc417da402d1bdad12aa67, rhs_w_z, lhs_y_lhs_z, lhs_x_lhs_w, p_x, lhs_z_lhs_z, p_z, lhs_y_lhs_x\n",
      "OPTIONAL MATCH (pred)-[:typing]->(rhs_w_z)\n",
      "WITH pred_typings + collect(pred) as pred_typings, suc_typings, p_y, uidedfb0dd7f0fc417da402d1bdad12aa67, rhs_w_z, lhs_y_lhs_z, lhs_x_lhs_w, p_x, lhs_z_lhs_z, p_z, lhs_y_lhs_x\n",
      "OPTIONAL MATCH (p_z)-[:typing]->(suc)\n",
      "WITH suc_typings + collect(suc) as suc_typings, pred_typings, p_y, uidedfb0dd7f0fc417da402d1bdad12aa67, rhs_w_z, lhs_y_lhs_z, lhs_x_lhs_w, p_x, lhs_z_lhs_z, p_z, lhs_y_lhs_x\n",
      "OPTIONAL MATCH (pred)-[:typing]->(p_z)\n",
      "WITH pred_typings + collect(pred) as pred_typings, suc_typings, p_y, uidedfb0dd7f0fc417da402d1bdad12aa67, rhs_w_z, lhs_y_lhs_z, lhs_x_lhs_w, p_x, lhs_z_lhs_z, p_z, lhs_y_lhs_x\n",
      "FOREACH(suc in suc_typings |\n",
      "\tMERGE (rhs_w_z)-[:typing]->(suc))\n",
      "FOREACH(pred in pred_typings |\n",
      "\tMERGE (pred)-[:typing]->(rhs_w_z))\n",
      "DETACH DELETE (p_z)\n",
      "\n",
      "\n",
      "// Adding node 'new_node' from the rhs \n",
      "CREATE (rhs_new_node:actionGraph) \n",
      "SET rhs_new_node.id = toString(id(rhs_new_node)) \n",
      "WITH toString(id(rhs_new_node)) as rhs_new_node_id , p_y, uidedfb0dd7f0fc417da402d1bdad12aa67, rhs_w_z, lhs_y_lhs_z, lhs_x_lhs_w, p_x, lhs_z_lhs_z, p_z, rhs_new_node, lhs_y_lhs_x\n",
      "\n",
      "\n",
      "// Renaming vars to correspond to the vars of rhs\n",
      "WITH rhs_new_node_id, uidedfb0dd7f0fc417da402d1bdad12aa67, rhs_w_z, lhs_y_lhs_z, lhs_x_lhs_w, lhs_z_lhs_z, p_z, rhs_new_node, lhs_y_lhs_x , p_x as rhs_x, p_y as rhs_y \n",
      "\n",
      "// Adding properties to the node 'x' from the rhs \n",
      "FOREACH(dummy IN CASE WHEN NOT 'age' IN keys(rhs_x) THEN [1] ELSE [] END |\n",
      "\tSET rhs_x.age = [10])\n",
      "FOREACH(dummy IN CASE WHEN 'age' IN keys(rhs_x) THEN [1] ELSE [] END |\n",
      "\tFOREACH(val in [10] |\n",
      "\t\tFOREACH(dummy IN CASE WHEN NOT val IN rhs_x.age THEN [1] ELSE [] END |\n",
      "\t\t\tSET rhs_x.age = rhs_x.age + [val])))\n",
      "\n",
      "\n",
      "// Adding properties to the node 'new_node' from the rhs \n",
      "FOREACH(dummy IN CASE WHEN NOT 'name' IN keys(rhs_new_node) THEN [1] ELSE [] END |\n",
      "\tSET rhs_new_node.name = ['Will'])\n",
      "FOREACH(dummy IN CASE WHEN 'name' IN keys(rhs_new_node) THEN [1] ELSE [] END |\n",
      "\tFOREACH(val in ['Will'] |\n",
      "\t\tFOREACH(dummy IN CASE WHEN NOT val IN rhs_new_node.name THEN [1] ELSE [] END |\n",
      "\t\t\tSET rhs_new_node.name = rhs_new_node.name + [val])))\n",
      "\n",
      "\n",
      "// Adding properties to the node 'w_z' from the rhs \n",
      "FOREACH(dummy IN CASE WHEN NOT 'name' IN keys(rhs_w_z) THEN [1] ELSE [] END |\n",
      "\tSET rhs_w_z.name = ['Paul'])\n",
      "FOREACH(dummy IN CASE WHEN 'name' IN keys(rhs_w_z) THEN [1] ELSE [] END |\n",
      "\tFOREACH(val in ['Paul'] |\n",
      "\t\tFOREACH(dummy IN CASE WHEN NOT val IN rhs_w_z.name THEN [1] ELSE [] END |\n",
      "\t\t\tSET rhs_w_z.name = rhs_w_z.name + [val])))\n",
      "\n",
      "\n",
      "// Adding edge 'new_node->y' from the rhs \n",
      "MERGE (rhs_new_node)-[rhs_new_node_rhs_y:edge]->(rhs_y)\n",
      "\n",
      "\n",
      "// Adding properties to an edge 'x'->'w_z' from the rhs \n",
      "WITH rhs_new_node_id, uidedfb0dd7f0fc417da402d1bdad12aa67, rhs_w_z, lhs_y_lhs_z, rhs_y, lhs_x_lhs_w, rhs_x, lhs_z_lhs_z, p_z, rhs_new_node, lhs_y_lhs_x \n",
      "MATCH (rhs_x)-[rhs_x_rhs_w_z:edge]->(rhs_w_z)\n",
      "FOREACH(dummy IN CASE WHEN NOT 'relation' IN keys(rhs_x_rhs_w_z) THEN [1] ELSE [] END |\n",
      "\tSET rhs_x_rhs_w_z.relation = ['brothers'])\n",
      "FOREACH(dummy IN CASE WHEN 'relation' IN keys(rhs_x_rhs_w_z) THEN [1] ELSE [] END |\n",
      "\tFOREACH(val in ['brothers'] |\n",
      "\t\tFOREACH(dummy IN CASE WHEN NOT val IN rhs_x_rhs_w_z.relation THEN [1] ELSE [] END |\n",
      "\t\t\tSET rhs_x_rhs_w_z.relation = rhs_x_rhs_w_z.relation + [val])))\n",
      "WITH rhs_new_node_id, uidedfb0dd7f0fc417da402d1bdad12aa67, rhs_w_z, lhs_y_lhs_z, rhs_y, rhs_x_rhs_w_z, lhs_x_lhs_w, rhs_x, lhs_z_lhs_z, p_z, rhs_new_node, lhs_y_lhs_x \n",
      "\n",
      "// Return statement \n",
      "RETURN rhs_new_node_id, uidedfb0dd7f0fc417da402d1bdad12aa67, rhs_w_z, lhs_y_lhs_z, rhs_y, rhs_x_rhs_w_z, lhs_x_lhs_w, rhs_x, lhs_z_lhs_z, p_z, rhs_new_node, lhs_y_lhs_x\n",
      "\n"
     ]
    },
    {
     "name": "stdout",
     "output_type": "stream",
     "text": [
      "// Checking consistency of introduced rhs\n",
      "MATCH (G:hierarchyNode)\n",
      "WHERE G.id = 'actionGraph'\n",
      "OPTIONAL MATCH (t_i:hierarchyNode)\n",
      "WHERE (t_i)<-[:hierarchyEdge*1..]-(G)-[:hierarchyEdge*1..]->(t_i)\n",
      "WITH DISTINCT t_i\n",
      "RETURN collect(t_i.id)\n",
      "\n",
      "// Replacing ':tmp_typing' with ':typing'\n",
      "MATCH (n:actionGraph)-[t:tmp_typing]->(m)\n",
      "OPTIONAL MATCH (:hierarchyNode {id: 'actionGraph'})-[skeleton_rel:hierarchyEdge]->(:hierarchyNode {id: labels(m)[0]}) \n",
      "FOREACH( dummy IN (CASE skeleton_rel WHEN null THEN [] ELSE [1] END) | \n",
      "\tDELETE t\n",
      "\tMERGE (n)-[:typing]->(m)\n",
      ")\n",
      "FOREACH( dummy IN (CASE skeleton_rel WHEN null THEN [1] ELSE [] END) | \n",
      "\tDELETE t\n",
      "\tMERGE (n)-[:transitive_typing]->(m)\n",
      ")\n",
      "\n",
      "\n",
      "// Up-propagation to the graph 'metaModel'\n",
      "\n",
      "// Matching of the nodes to merge in 'metaModel'\n",
      "WITH [] as merged_nodes\n",
      "OPTIONAL MATCH (n:actionGraph)-[:typing]->(node_to_merge:metaModel)\n",
      "WITH n, collect(node_to_merge) as nodes_to_merge, merged_nodes\n",
      "WHERE n IS NOT NULL AND size(nodes_to_merge) >= 2\n",
      "UNWIND nodes_to_merge as node_to_merge\n",
      "// accumulate all the attrs of the nodes to be merged\n",
      "WITH [] as new_props, node_to_merge, n, merged_nodes\n",
      "WITH new_props + REDUCE(pairs = [], k in keys(node_to_merge) | \n",
      "\tpairs + REDUCE(inner_pairs = [], v in node_to_merge[k] | \n",
      "\t\tinner_pairs + {key: k, value: v})) as new_props, node_to_merge, n, merged_nodes\n",
      "WITH collect(node_to_merge) as nodes_to_merge, collect(new_props) as new_props_col, n, merged_nodes\n",
      "WITH REDUCE(init=[], props in new_props_col | init + props) as new_props, nodes_to_merge, n, merged_nodes\n",
      "WITH apoc.map.groupByMulti(new_props, 'key') as new_props, n, merged_nodes, nodes_to_merge\n",
      "WITH apoc.map.fromValues(REDUCE(pairs=[], k in keys(new_props) | \n",
      "\tpairs + [k, REDUCE(values=[], v in new_props[k] | \n",
      "\t\tvalues + CASE WHEN v.value IN values THEN [] ELSE v.value END)])) as new_props, n, merged_nodes, nodes_to_merge\n",
      "WITH nodes_to_merge[0] as merged_node, new_props, n, merged_nodes, nodes_to_merge\n",
      "SET merged_node = new_props\n",
      "// set appropriate node id\n",
      "SET merged_node.id = toString(id(merged_node))\n",
      "SET merged_node.count = NULL\n",
      "WITH toString(id(merged_node)) as merged_id, n, merged_nodes, merged_node, nodes_to_merge\n",
      "UNWIND nodes_to_merge AS node_to_merge\n",
      "//create a map from node ids to the id of the merged_node\n",
      "WITH {old_node:node_to_merge.id,  new_node:merged_node} as id_to_merged_id, node_to_merge, merged_node, n, merged_nodes, merged_id\n",
      "WITH collect(id_to_merged_id) as ids_to_merged_id, collect(node_to_merge) as nodes_to_merge, merged_node, n, merged_nodes, merged_id\n",
      "WITH apoc.map.groupByMulti(ids_to_merged_id, 'old_node') as ids_to_merged_id, merged_node, n, merged_nodes, nodes_to_merge, merged_id\n",
      "WITH apoc.map.fromValues(REDUCE(pairs=[], k in keys(ids_to_merged_id) | \n",
      "\tpairs + [k, REDUCE(values=[], v in ids_to_merged_id[k] | \n",
      "\t\tvalues + CASE WHEN v.new_node IN values THEN [] ELSE v.new_node END)])) as ids_to_merged_id, merged_node, n, merged_nodes, nodes_to_merge, merged_id\n",
      "WITH collect({n:n, nodes_to_merge:nodes_to_merge, merged_node: merged_node, merged_id: merged_id}) as all_n, collect(ids_to_merged_id) as ids_to_merged_id, merged_nodes\n",
      "WITH reduce(acc={}, x in ids_to_merged_id | apoc.map.merge(acc, x)) as ids_to_merged_id, all_n, merged_nodes\n",
      "UNWIND all_n as n_maps\n",
      "WITH n_maps.n as n, n_maps.nodes_to_merge as nodes_to_merge, n_maps.merged_node as merged_node, n_maps.merged_id as merged_id, ids_to_merged_id, merged_nodes\n",
      "UNWIND nodes_to_merge AS node_to_merge\n",
      "// accumulate all the attrs of the edges incident to the merged nodes\n",
      "WITH node_to_merge, merged_node, n, merged_nodes, ids_to_merged_id, merged_id\n",
      "OPTIONAL MATCH (node_to_merge)-[out_rel:edge]->(suc)\n",
      "WITH CASE WHEN suc.id IN keys(ids_to_merged_id)\n",
      "\t\tTHEN {id: id(ids_to_merged_id[suc.id][0]), neighbor: ids_to_merged_id[suc.id][0], edge: out_rel}\n",
      "\t\tELSE {id: id(suc), neighbor: suc, edge: out_rel} END AS suc_map, node_to_merge, merged_node, n, merged_nodes, ids_to_merged_id, merged_id\n",
      "WITH collect(suc_map) as suc_maps, node_to_merge, merged_node, n, merged_nodes, ids_to_merged_id, merged_id\n",
      "OPTIONAL MATCH (pred)-[in_rel:edge]->(node_to_merge)\n",
      "WITH CASE WHEN pred.id IN keys(ids_to_merged_id)\n",
      "\t\tTHEN {id: id(ids_to_merged_id[pred.id][0]), neighbor: ids_to_merged_id[pred.id][0], edge: in_rel}\n",
      "\t\tELSE {id: id(pred), neighbor: pred, edge: in_rel} END AS pred_map, node_to_merge, suc_maps, merged_node, n, merged_nodes, ids_to_merged_id, merged_id\n",
      "WITH collect(pred_map) as pred_maps, suc_maps, node_to_merge, merged_node, n, merged_nodes, ids_to_merged_id, merged_id\n",
      "WITH collect(node_to_merge) as nodes_to_merge, collect(node_to_merge.id) as list_ids, collect(suc_maps) as suc_maps_col, collect(pred_maps) as pred_maps_col, merged_node, n, merged_nodes, ids_to_merged_id, merged_id\n",
      "WITH REDUCE(init=[], maps in suc_maps_col | init + maps) as suc_maps, REDUCE(init=[], maps in pred_maps_col | init + maps) as pred_maps, list_ids, nodes_to_merge, merged_node, n, merged_nodes, ids_to_merged_id, merged_id\n",
      "WITH apoc.map.groupByMulti(suc_maps, 'id') as suc_props, REDUCE(list=[], map in suc_maps | \n",
      "\tlist + CASE WHEN NOT map['neighbor'] IS NULL THEN [map['neighbor']] ELSE [] END) as suc_nodes, apoc.map.groupByMulti(pred_maps, 'id') as pred_props, REDUCE(list=[], map in pred_maps | \n",
      "\tlist + CASE WHEN NOT map['neighbor'] IS NULL THEN [map['neighbor']] ELSE [] END) as pred_nodes, \tREDUCE(l=[], el in suc_maps + pred_maps| \n",
      "\t\tl + CASE WHEN el['id'] IN list_ids THEN [toString(el['id'])] ELSE [] END) as self_loops, merged_node, n, merged_nodes, nodes_to_merge, list_ids, ids_to_merged_id, merged_id\n",
      "WITH suc_nodes, pred_nodes, apoc.map.fromValues(REDUCE(edge_props=[], k in keys(suc_props) | \n",
      "\tedge_props + [k, apoc.map.groupByMulti(REDUCE(props=[], el in suc_props[k] | \n",
      "\t\tprops + REDUCE(pairs=[], kk in keys(el['edge']) | \n",
      "\t\t\tpairs + REDUCE(values=[], v in el['edge'][kk] | \n",
      "\t\t\t\tvalues + {key: kk, value: v}))), 'key')])) as suc_props, \n",
      "\tapoc.map.fromValues(REDUCE(edge_props=[], k in keys(pred_props) | \n",
      "\tedge_props + [k, apoc.map.groupByMulti(REDUCE(props=[], el in pred_props[k] | \n",
      "\t\tprops + REDUCE(pairs=[], kk in keys(el['edge']) | \n",
      "\t\t\tpairs + REDUCE(values=[], v in el['edge'][kk] | \n",
      "\t\t\t\t values + {key: kk, value: v}))), 'key')])) as pred_props,  \n",
      "\tREDUCE(edge_props=[], k IN filter(k IN keys(suc_props) WHERE k IN self_loops) |\n",
      "\t\tedge_props + suc_props[k]) + \n",
      "\tREDUCE(edge_props=[], k IN filter(k IN keys(pred_props) WHERE k IN self_loops) |\n",
      "\t\tedge_props + pred_props[k]) as self_loop_props, merged_node, n, merged_nodes, nodes_to_merge, self_loops, ids_to_merged_id, merged_id\n",
      "WITH suc_nodes, suc_props, pred_nodes, pred_props, apoc.map.groupByMulti(REDUCE(pairs=[], el in self_loop_props |\n",
      "\tpairs + REDUCE(inner_pairs=[], k in keys(el['edge']) | \n",
      "\t\tinner_pairs + REDUCE(values=[], v in el['edge'][k] |\n",
      "\t\t\tvalues + {key: k, value: v}))), 'key') as self_loop_props, merged_node, n, merged_nodes, nodes_to_merge, self_loops, ids_to_merged_id, merged_id\n",
      "FOREACH(suc IN filter(suc IN suc_nodes WHERE NOT id(suc) in self_loops) |\n",
      "\tMERGE (merged_node)-[new_rel:edge]->(suc)\n",
      "\tSET new_rel = apoc.map.fromValues(REDUCE(pairs=[], k in keys(suc_props[toString(id(suc))]) | \n",
      "\t\t pairs + [k, REDUCE(values=[], v in suc_props[toString(id(suc))][k] | \n",
      "\t\t\tvalues + CASE WHEN v.value IN values THEN [] ELSE v.value END)])))\n",
      "FOREACH(pred IN filter(pred IN pred_nodes WHERE NOT id(pred) in self_loops) |\n",
      "\tMERGE (pred)-[new_rel:edge]->(merged_node)\n",
      "\tSET new_rel = apoc.map.fromValues(REDUCE(pairs=[], k in keys(pred_props[toString(id(pred))]) | \n",
      "\t\t pairs + [k, REDUCE(values=[], v in pred_props[toString(id(pred))][k] | \n",
      "\t\t\tvalues + CASE WHEN v.value IN values THEN [] ELSE v.value END)])))\n",
      "// add self loop \n",
      "FOREACH(dummy in CASE WHEN length(self_loops) > 0 THEN [NULL] ELSE [] END |\n",
      "\tMERGE (merged_node)-[new_rel:edge]->(merged_node)\n",
      "\tSET new_rel = apoc.map.fromValues(REDUCE(pairs=[], k in keys(self_loop_props) |\n",
      "\t\tpairs + [k, REDUCE(values=[], v in self_loop_props[k] |\n",
      "\t\t\tvalues + CASE WHEN v.value IN values THEN [] ELSE v.value END)])))\n",
      "WITH merged_node, n, merged_nodes, nodes_to_merge, ids_to_merged_id, merged_id\n",
      "UNWIND nodes_to_merge AS node_to_merge\n",
      "// accumulate all the attrs of the edges incident to the merged nodes\n",
      "WITH [] as suc_typings, [] as pred_typings, node_to_merge, merged_node, n, merged_nodes, ids_to_merged_id, merged_id\n",
      "OPTIONAL MATCH (node_to_merge)-[:typing]->(suc)\n",
      "WITH suc_typings + collect(suc) as suc_typings, node_to_merge, pred_typings, merged_node, n, merged_nodes, ids_to_merged_id, merged_id\n",
      "OPTIONAL MATCH (pred)-[:typing]->(node_to_merge)\n",
      "WITH pred_typings + collect(pred) as pred_typings, node_to_merge, suc_typings, merged_node, n, merged_nodes, ids_to_merged_id, merged_id\n",
      "WITH collect(node_to_merge) as nodes_to_merge, collect(suc_typings) as suc_typings_col, collect(pred_typings) as pred_typings_col, merged_node, n, merged_nodes, ids_to_merged_id, merged_id\n",
      "WITH REDUCE(init=[], sucs in suc_typings_col | init + sucs) as suc_typings, REDUCE(init=[], preds in pred_typings_col | init + preds) as pred_typings, nodes_to_merge, merged_node, n, merged_nodes, ids_to_merged_id, merged_id\n",
      "FOREACH(suc in suc_typings |\n",
      "\tMERGE (merged_node)-[:typing]->(suc))\n",
      "FOREACH(pred in pred_typings |\n",
      "\tMERGE (pred)-[:typing]->(merged_node))\n",
      "WITH merged_node, n, merged_nodes, nodes_to_merge, ids_to_merged_id, merged_id\n",
      "FOREACH(node in filter(x IN nodes_to_merge WHERE x <> merged_node) |\n",
      "\tDETACH DELETE node)\n",
      "RETURN collect(merged_id) as merged_nodes\n"
     ]
    },
    {
     "name": "stdout",
     "output_type": "stream",
     "text": [
      "// Addition of nodes and properties in 'metaModel'\n",
      "MATCH (n:actionGraph)\n",
      "OPTIONAL MATCH (n)<-[:typing*0..]-()-[:typing*]->(existing_img:metaModel)\n",
      "FOREACH(dummy IN CASE WHEN existing_img IS NOT NULL THEN [1] ELSE [] END |\n",
      "\tMERGE (n)-[:typing]->(existing_img))\n",
      "WITH n OPTIONAL MATCH (n)<-[:typing*]-(:actionGraph)-[trans_type:transitive_typing]->(successor_node:metaModel)\n",
      "\tFOREACH(dummy IN CASE WHEN trans_type IS NULL THEN [] ELSE [1] END |\n",
      "\t\tMERGE (n)-[:typing]->(successor_node)\n",
      "\t\tDELETE trans_type)\n",
      "WITH n MERGE (n)-[:typing]->(node_img:metaModel)\n",
      "WITH n, node_img\n",
      "FOREACH(dummy IN CASE WHEN node_img.id IS NULL THEN [1] ELSE [] END |\n",
      "\tSET node_img.id = toString(id(node_img)))\n",
      "WITH n, node_img WHERE REDUCE(invalid = 0, k in filter(k in keys(n) WHERE k <> 'id') |\n",
      "\tinvalid + CASE\n",
      "\t\tWHEN NOT k IN keys(node_img) THEN 1\n",
      "\t\tELSE REDUCE(invalid_values = 0, v in n[k] |\n",
      "\t\t\tinvalid_values + CASE\n",
      "\t\t\t\tWHEN NOT v IN node_img[k] THEN 1 ELSE 0 END)\n",
      "\t\tEND) <> 0\n",
      "WITH node_img, collect(n) + [node_img] as nodes_to_merge_props\n",
      "UNWIND nodes_to_merge_props as prop_to_merge\n",
      "// accumulate all the attrs of the nodes to be merged\n",
      "WITH [] as new_props, prop_to_merge, node_img\n",
      "WITH new_props + REDUCE(pairs = [], k in filter(k in keys(prop_to_merge) WHERE k <> 'id') | \n",
      "\tpairs + REDUCE(inner_pairs = [], v in prop_to_merge[k] | \n",
      "\t\tinner_pairs + {key: k, value: v})) as new_props, prop_to_merge, node_img\n",
      "WITH collect(prop_to_merge) as nodes_to_merge_props, collect(new_props) as new_props_col, node_img\n",
      "WITH REDUCE(init=[], props in new_props_col | init + props) as new_props, nodes_to_merge_props, node_img\n",
      "WITH apoc.map.groupByMulti(new_props, 'key') as new_props, nodes_to_merge_props, node_img\n",
      "WITH apoc.map.fromValues(REDUCE(pairs=[], k in keys(new_props) | \n",
      "\tpairs + [k, REDUCE(values=[], v in new_props[k] | \n",
      "\t\tvalues + CASE WHEN v.value IN values THEN [] ELSE v.value END)])) as new_props, nodes_to_merge_props, node_img\n",
      "SET node_img += new_props\n",
      "\n",
      "\n",
      "// Addition of edges and properties in 'metaModel'\n",
      "MATCH (n:actionGraph)-[rel:edge]->(m:actionGraph), (n)-[:typing]->(x:metaModel), (m)-[:typing]->(y:metaModel)\n",
      "MERGE (x)-[rel_img:edge]->(y)\n",
      "WITH x, y, rel, rel_img WHERE REDUCE(invalid = 0, k in filter(k in keys(rel) WHERE k <> 'id') |\n",
      "\tinvalid + CASE\n",
      "\t\tWHEN NOT k IN keys(rel_img) THEN 1\n",
      "\t\tELSE REDUCE(invalid_values = 0, v in rel[k] |\n",
      "\t\t\tinvalid_values + CASE\n",
      "\t\t\t\tWHEN NOT v IN rel_img[k] THEN 1 ELSE 0 END)\n",
      "\t\tEND) <> 0\n",
      "WITH x, y, rel_img, collect(rel) + rel_img as edges_to_merge_props\n",
      "UNWIND edges_to_merge_props as prop_to_merge\n",
      "// accumulate all the attrs of the nodes to be merged\n",
      "WITH [] as new_props, prop_to_merge, x, y, rel_img\n",
      "WITH new_props + REDUCE(pairs = [], k in filter(k in keys(prop_to_merge) WHERE k <> 'id') | \n",
      "\tpairs + REDUCE(inner_pairs = [], v in prop_to_merge[k] | \n",
      "\t\tinner_pairs + {key: k, value: v})) as new_props, prop_to_merge, x, y, rel_img\n",
      "WITH collect(prop_to_merge) as edges_to_merge_props, collect(new_props) as new_props_col, x, y, rel_img\n",
      "WITH REDUCE(init=[], props in new_props_col | init + props) as new_props, edges_to_merge_props, x, y, rel_img\n",
      "WITH apoc.map.groupByMulti(new_props, 'key') as new_props, x, edges_to_merge_props, y, rel_img\n",
      "WITH apoc.map.fromValues(REDUCE(pairs=[], k in keys(new_props) | \n",
      "\tpairs + [k, REDUCE(values=[], v in new_props[k] | \n",
      "\t\tvalues + CASE WHEN v.value IN values THEN [] ELSE v.value END)])) as new_props, x, edges_to_merge_props, y, rel_img\n",
      "SET rel_img += new_props\n",
      "\n"
     ]
    },
    {
     "data": {
      "text/plain": [
       "{'new_node': '30', 'w_z': '18', 'x': 'a', 'y': 'd'}"
      ]
     },
     "execution_count": 18,
     "metadata": {},
     "output_type": "execute_result"
    }
   ],
   "source": [
    "h.rewrite('actionGraph', rule, instances[0], rhs_typing=rhs_typing)"
   ]
  },
  {
   "cell_type": "markdown",
   "metadata": {},
   "source": [
    "## Removing a graph from the hierarchy"
   ]
  },
  {
   "cell_type": "markdown",
   "metadata": {},
   "source": [
    "We can also remove a graph from the hierarchy. All its nodes and connections (edges and typing edges) are removed."
   ]
  }
 ],
 "metadata": {
  "anaconda-cloud": {},
  "kernelspec": {
   "display_name": "Python 3",
   "language": "python",
   "name": "python3"
  },
  "language_info": {
   "codemirror_mode": {
    "name": "ipython",
    "version": 3
   },
   "file_extension": ".py",
   "mimetype": "text/x-python",
   "name": "python",
   "nbconvert_exporter": "python",
   "pygments_lexer": "ipython3",
   "version": "3.6.3"
  }
 },
 "nbformat": 4,
 "nbformat_minor": 2
}
