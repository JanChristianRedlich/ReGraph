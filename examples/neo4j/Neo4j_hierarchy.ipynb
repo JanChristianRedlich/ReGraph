{
 "cells": [
  {
   "cell_type": "markdown",
   "metadata": {},
   "source": [
    "# Examples of utils provided by ReGraph's Neo4jHierarchy module"
   ]
  },
  {
   "cell_type": "code",
   "execution_count": 1,
   "metadata": {
    "collapsed": true
   },
   "outputs": [],
   "source": [
    "import networkx as nx\n",
    "from regraph import Rule, plot_rule\n",
    "\n",
    "\n",
    "from regraph.neo4j.hierarchy import Neo4jHierarchy\n",
    "import regraph.neo4j.cypher_utils as cypher"
   ]
  },
  {
   "cell_type": "markdown",
   "metadata": {},
   "source": [
    "## Initializing Neo4j database\n",
    "\n",
    "0. When installing neo4j you will be asked to choose login/password for you dbs (here its \"neo4j\"/\"admin\"), if you choose other -- change in the cell below.\n",
    "1. To start neo4j server run `sudo service neo4j start`\n",
    "2. Check status by running `sudo service neo4j status`. Here you can check the _bolt_ port, change the cell below if different from 7687\n",
    "3. You can query the db by using the neo4j browser, the address can be found also in the result of 'status', e.g. \"Remote interface available at http://localhost:7474/\"."
   ]
  },
  {
   "cell_type": "code",
   "execution_count": 2,
   "metadata": {
    "collapsed": false,
    "scrolled": false
   },
   "outputs": [
    {
     "data": {
      "text/plain": [
       "<neo4j.v1.result.BoltStatementResult at 0x7fd05df296a0>"
      ]
     },
     "execution_count": 2,
     "metadata": {},
     "output_type": "execute_result"
    }
   ],
   "source": [
    "# initialize the neo4j driver, wrappped into Neo4jHierarchy object\n",
    "h = Neo4jHierarchy(uri=\"bolt://localhost:7687\", user=\"neo4j\", password=\"admin\")\n",
    "h.clear()"
   ]
  },
  {
   "cell_type": "markdown",
   "metadata": {},
   "source": [
    "## Hierarchy\n",
    "\n",
    "A hierarchy is represented by at least 2 graphs with a typing relation (homorphism) between them.\n",
    "\n",
    "\n",
    "Each graph in the database is represented by a unique label which enables us to match quickly the nodes of this graph. Each node of a graph has then the labels *node* and *graphLabel*. We can match these nodes by using the query:\n",
    "\n",
    "> MATCH (n:node:graphLabel) RETURN n\n",
    "\n",
    "\n",
    "The edges of a graph are labeled as *edge* and the typing edges are labeled as *typing*. We can then easily find the image of a node with the query:\n",
    "\n",
    "> OPTIONAL MATCH (n:node:graphLabel)-[:typing]->(m) RETURN m\n",
    "\n",
    "The hierarchy skeleton is represented by nodes labeled as hierarchyNodes. It enables us to know which graphs are the ancestors of a graph we want to rewrite for example."
   ]
  },
  {
   "cell_type": "markdown",
   "metadata": {},
   "source": [
    "## Adding a graph to the hierarchy (Action Graph)"
   ]
  },
  {
   "cell_type": "markdown",
   "metadata": {},
   "source": [
    "Here we create a first graph called *ActionGraph*. This graph represent people and the relationship between them."
   ]
  },
  {
   "cell_type": "code",
   "execution_count": 3,
   "metadata": {
    "collapsed": false,
    "scrolled": true
   },
   "outputs": [],
   "source": [
    "nodes = [\n",
    "    (\"a\", {\"name\": {\"Jack\"}, \"age\": {43}, \"hobby\": {\"hiking\", \"music\"}}), \n",
    "    (\"b\", {\"name\": {\"Robert\"}, \"age\": {35}, \"hobby\": {\"sport\", \"music\"}}),\n",
    "    (\"c\", {\"name\":{ \"Paul\"}, \"age\": {18}}),\n",
    "    (\"d\", {\"name\": {\"Joe\"}, \"age\": {12}}),\n",
    "    (\"e\", {\"name\": {\"Paul\"}, \"age\": {18}})\n",
    "]\n",
    "edges = [\n",
    "    (\"a\", \"b\", {\"type\": {\"friends\"}}), \n",
    "    (\"a\", \"c\", {\"type\": {\"colleagues\"}}),\n",
    "    (\"b\", \"c\", {\"type\": {\"colleagues\"}}),\n",
    "    (\"d\", \"a\", {\"type\": {\"child_of\"}}), \n",
    "    (\"d\", \"e\", {\"type\": {\"enemies\"}}),\n",
    "    (\"e\", \"e\", {\"type\": {\"likes\"}})\n",
    "]\n",
    "h.add_graph('actionGraph', nodes, edges)"
   ]
  },
  {
   "cell_type": "markdown",
   "metadata": {},
   "source": [
    "## Adding a second graph to the herarchy (Meta Model)"
   ]
  },
  {
   "cell_type": "markdown",
   "metadata": {},
   "source": [
    "Here we create a second graph called *MetaModel*. Which represent the types of people (*Adult* or *Child*) and the relationships between them."
   ]
  },
  {
   "cell_type": "code",
   "execution_count": 4,
   "metadata": {
    "collapsed": true
   },
   "outputs": [],
   "source": [
    "nodes = [\n",
    "    (\"a\", {\"type\": {\"Adult\"}, \"age\": {43, 35, 18}, \"name\": {\"Paul\", \"Jack\", \"Robert\"}, \"hobby\": {\"hiking\", \"music\", \"sport\"}}),\n",
    "    (\"b\", {\"type\": {\"Child\"}, \"age\": {12, 18}, \"name\": {\"Paul\", \"Joe\"}})\n",
    "]\n",
    "edges = [\n",
    "    (\"a\", \"a\", {\"type\": {\"friends\", \"colleagues\"}}),\n",
    "    (\"b\", \"a\", {\"type\": {\"child_of\"}}),\n",
    "    (\"b\", \"b\", {\"type\": {\"friends\", \"enemies\"}})\n",
    "]\n",
    "h.add_graph('metaModel', nodes, edges)"
   ]
  },
  {
   "cell_type": "markdown",
   "metadata": {},
   "source": [
    "## Typing"
   ]
  },
  {
   "cell_type": "markdown",
   "metadata": {},
   "source": [
    "Here we create a typing of the *ActionGraph* by the *MetaModel*."
   ]
  },
  {
   "cell_type": "code",
   "execution_count": 5,
   "metadata": {
    "collapsed": false
   },
   "outputs": [
    {
     "data": {
      "text/plain": [
       "<neo4j.v1.result.BoltStatementResult at 0x7fd05dcb3160>"
      ]
     },
     "execution_count": 5,
     "metadata": {},
     "output_type": "execute_result"
    }
   ],
   "source": [
    "mapping = {\n",
    "    \"a\":\"a\",\n",
    "    \"b\":\"a\",\n",
    "    \"c\":\"a\",\n",
    "    \"d\":\"b\",\n",
    "    \"e\":\"b\"\n",
    "}\n",
    "h.add_typing('actionGraph', 'metaModel', mapping)"
   ]
  },
  {
   "cell_type": "code",
   "execution_count": 6,
   "metadata": {
    "collapsed": false,
    "scrolled": false
   },
   "outputs": [
    {
     "name": "stdout",
     "output_type": "stream",
     "text": [
      "True\n"
     ]
    }
   ],
   "source": [
    "h.check_typing('actionGraph', 'metaModel')"
   ]
  },
  {
   "cell_type": "markdown",
   "metadata": {},
   "source": [
    "## Classic update functions"
   ]
  },
  {
   "cell_type": "markdown",
   "metadata": {},
   "source": [
    "We still can use the modification functions on these graphs."
   ]
  },
  {
   "cell_type": "code",
   "execution_count": 7,
   "metadata": {
    "collapsed": true
   },
   "outputs": [],
   "source": [
    "#ag.merge_nodes1([\"b\", \"c\"])"
   ]
  },
  {
   "cell_type": "code",
   "execution_count": 8,
   "metadata": {
    "collapsed": true,
    "scrolled": false
   },
   "outputs": [],
   "source": [
    "#ag.clone_node(\"e\")"
   ]
  },
  {
   "cell_type": "markdown",
   "metadata": {},
   "source": [
    "## Graph rewriting and propagation up"
   ]
  },
  {
   "cell_type": "code",
   "execution_count": 9,
   "metadata": {
    "collapsed": true
   },
   "outputs": [],
   "source": [
    "pattern = nx.DiGraph()\n",
    "pattern.add_nodes_from([\"x\", (\"y\",  {\"type\": {\"Child\"}, \"age\": {12, 18}, \"name\" : {\"Paul\", \"Joe\"}})])\n",
    "pattern.add_edges_from([(\"y\", \"x\",  {\"type\": {\"child_of\"}}), (\"y\", \"y\")])"
   ]
  },
  {
   "cell_type": "code",
   "execution_count": 10,
   "metadata": {
    "collapsed": true
   },
   "outputs": [],
   "source": [
    "rule = Rule.from_transform(pattern)\n",
    "rule.inject_remove_node_attrs(\"y\",  {\"age\": {18}})\n",
    "rule.inject_remove_edge_attrs(\"y\", \"x\",  {\"type\": {\"child_of\"}})\n",
    "#rule.inject_remove_node(\"x\")\n",
    "#rule.inject_remove_edge(\"y\",\"y\")\n",
    "#rule.inject_clone_node(\"y\")"
   ]
  },
  {
   "cell_type": "code",
   "execution_count": 11,
   "metadata": {
    "collapsed": false,
    "scrolled": false
   },
   "outputs": [
    {
     "data": {
      "image/png": "[encoded data removed]",
      "text/plain": [
       "<matplotlib.figure.Figure at 0x7fd05df29d30>"
      ]
     },
     "metadata": {},
     "output_type": "display_data"
    }
   ],
   "source": [
    "plot_rule(rule)"
   ]
  },
  {
   "cell_type": "code",
   "execution_count": 12,
   "metadata": {
    "collapsed": false
   },
   "outputs": [
    {
     "name": "stdout",
     "output_type": "stream",
     "text": [
      "Instances:  [{'x': 'a', 'y': 'b'}]\n"
     ]
    }
   ],
   "source": [
    "mm = h.access_graph('metaModel')\n",
    "instances = mm.find_matching(pattern)\n",
    "print(\"Instances: \", instances)"
   ]
  },
  {
   "cell_type": "code",
   "execution_count": 13,
   "metadata": {
    "collapsed": false,
    "scrolled": true
   },
   "outputs": [
    {
     "name": "stdout",
     "output_type": "stream",
     "text": [
      "Rewriting rule to Cypher: \n",
      "\n",
      "// Match nodes and edges of the instance \n",
      "MATCH (lhs_y:metaModel { id : 'b'}) , (lhs_x:metaModel { id : 'a'})  , (lhs_y)-[lhs_y_lhs_x:edge]->(lhs_x), (lhs_y)-[lhs_y_lhs_y:edge]->(lhs_y)\n",
      "\n",
      "// Renaming vars to correspond to the vars of P\n",
      "WITH lhs_y_lhs_x, lhs_y_lhs_y , lhs_y as p_y, lhs_x as p_x \n",
      "\n",
      "// Removing properties from node 'y' of P \n",
      "FOREACH(dummy IN CASE WHEN 'age' IN keys(p_y) THEN [1] ELSE [] END |\n",
      "\tSET p_y.age = filter(v in p_y.age WHERE NOT v IN ['18'])\n",
      "\tFOREACH(dumy2 IN CASE WHEN size(p_y.age)=0 THEN [1] ELSE [] END |\n",
      "\t\tREMOVE p_y.age))\n",
      "\n",
      "\n",
      "// Removing properties from edge y->x of P \n",
      "WITH p_y, p_x, lhs_y_lhs_y, lhs_y_lhs_x MATCH (p_y)-[p_y_p_x:edge]->(p_x)\n",
      "FOREACH(dummy IN CASE WHEN 'type' IN keys(p_y_p_x) THEN [1] ELSE [] END |\n",
      "\tSET p_y_p_x.type = filter(v in p_y_p_x.type WHERE NOT v IN ['child_of'])\n",
      "\tFOREACH(dumy2 IN CASE WHEN size(p_y_p_x.type)=0 THEN [1] ELSE [] END |\n",
      "\t\tREMOVE p_y_p_x.type))\n",
      "\n",
      "\n",
      "// Renaming vars to correspond to the vars of rhs\n",
      "WITH p_y_p_x, lhs_y_lhs_y, lhs_y_lhs_x , p_x as rhs_x, p_y as rhs_y \n",
      "\n",
      "// Return statement \n",
      "RETURN p_y_p_x, lhs_y_lhs_y, lhs_y_lhs_x, rhs_y, rhs_x\n",
      "\n"
     ]
    },
    {
     "data": {
      "text/plain": [
       "{'x': 'a', 'y': 'b'}"
      ]
     },
     "execution_count": 13,
     "metadata": {},
     "output_type": "execute_result"
    }
   ],
   "source": [
    "mm = h.access_graph('metaModel')\n",
    "mm.rewrite(rule, instances[0])"
   ]
  },
  {
   "cell_type": "code",
   "execution_count": 14,
   "metadata": {
    "collapsed": false,
    "scrolled": true
   },
   "outputs": [
    {
     "name": "stdout",
     "output_type": "stream",
     "text": [
      "Rewritting ancestors of metaModel...\n",
      "-->  actionGraph\n",
      "// Matching of the nodes to clone in 'actionGraph'\n",
      "OPTIONAL MATCH (node_to_clone:node:actionGraph)-[t:typing]->(n:node:metaModel)\n",
      "WITH node_to_clone, collect(n) as sucs, collect(t) as typ_sucs, count(n) as number_of_img\n",
      "WHERE number_of_img >= 2 AND node_to_clone IS NOT NULL\n",
      "FOREACH(t IN typ_sucs | DELETE t)\n",
      "WITH node_to_clone, sucs, number_of_img-1 as number_of_clone\n",
      "UNWIND range(1, number_of_clone) as clone_number\n",
      "// create a node corresponding to the clone\n",
      "CREATE (cloned_node:node:actionGraph) \n",
      "WITH cloned_node, toString(id(cloned_node)) as clone_id, node_to_clone.id as original_old, sucs, node_to_clone, clone_number \n",
      "// set the id property of the original node to NULL\n",
      "SET node_to_clone.id = NULL\n",
      "// copy all the properties of the original node to the clone\n",
      "SET cloned_node = node_to_clone\n",
      "// set id property of the clone to neo4j-generated id\n",
      "SET cloned_node.id = toString(id(cloned_node)), cloned_node.count = NULL\n",
      "// set back the id property of the original node\n",
      "SET node_to_clone.id = original_old\n",
      "WITH cloned_node, toString(id(cloned_node)) as clone_id, sucs, node_to_clone, clone_number \n",
      "\n",
      "//create a map from original node id to the clone\n",
      "WITH {original_node:node_to_clone.id, clones:collect(cloned_node)+[node_to_clone]} as orig_id_to_clone, collect({clone_id:clone_id, clone:cloned_node}) as clone_maps, sucs, node_to_clone\n",
      "WITH collect(orig_id_to_clone) as orig_ids_to_clone, collect({orig:node_to_clone, clone_maps:clone_maps}) as all_orig, sucs\n",
      "WITH apoc.map.groupByMulti(orig_ids_to_clone, 'original_node') as orig_ids_to_clone, all_orig, sucs\n",
      "WITH apoc.map.fromValues(REDUCE(pairs=[], k in keys(orig_ids_to_clone) | \n",
      "\tpairs + [k, REDUCE(values=[], v in orig_ids_to_clone[k] | \n",
      "\t\tvalues + CASE WHEN v.clones IN values THEN [] ELSE v.clones END)])) as orig_ids_to_clone, all_orig, sucs\n",
      "UNWIND all_orig as original_map\n",
      "WITH original_map.orig as node_to_clone, original_map.clone_maps as clone_maps, sucs, orig_ids_to_clone\n",
      "UNWIND clone_maps as clone_map\n",
      "WITH clone_map.clone_id as clone_id, clone_map.clone as cloned_node, sucs, node_to_clone, orig_ids_to_clone\n",
      "WITH [] as sucIgnore, [] as predIgnore, sucs, node_to_clone, orig_ids_to_clone, cloned_node, clone_id \n",
      "// match successors and out-edges of a node to be cloned\n",
      "OPTIONAL MATCH (node_to_clone)-[out_edge:edge]->(suc) \n",
      "WHERE NOT suc.id IS NULL AND NOT suc.id IN sucIgnore\n",
      "WITH collect({neighbor: suc, id: suc.id, edge: out_edge}) as suc_maps, predIgnore, sucs, node_to_clone, orig_ids_to_clone, cloned_node, clone_id \n",
      "// match predecessors and in-edges of a node to be cloned\n",
      "OPTIONAL MATCH (pred)-[in_edge:edge]->(node_to_clone) \n",
      "WHERE NOT pred.id IS NULL AND NOT pred.id IN predIgnore\n",
      "WITH collect({neighbor: pred, id: pred.id, edge: in_edge}) as pred_maps, suc_maps, cloned_node, sucs, orig_ids_to_clone, node_to_clone, clone_id \n",
      "// copy all incident edges of the original node to the clone\n",
      "FOREACH (suc_map IN suc_maps | \n",
      "\tFOREACH (suc IN CASE\n",
      "\t\t\tWHEN suc_map.neighbor IS NOT NULL AND suc_map.id IN keys(orig_ids_to_clone)\n",
      "\t\t\t\tTHEN orig_ids_to_clone[suc_map.id] \n",
      "\t\t\tWHEN suc_map.neighbor IS NOT NULL\n",
      "\t\t\t\tTHEN [suc_map.neighbor] ELSE [] END |\n",
      "\t\tMERGE (cloned_node)-[new_edge:edge]->(suc) \n",
      "\t\tSET new_edge = suc_map.edge))\n",
      "FOREACH (pred_map IN pred_maps | \n",
      "\tFOREACH (pred IN CASE\n",
      "\t\t\tWHEN pred_map.neighbor IS NOT NULL AND pred_map.id IN keys(orig_ids_to_clone)\n",
      "\t\t\t\tTHEN orig_ids_to_clone[pred_map.id] \n",
      "\t\t\tWHEN pred_map.neighbor IS NOT NULL\n",
      "\t\t\t\tTHEN [pred_map.neighbor] ELSE [] END |\n",
      "\t\tMERGE (pred)-[new_edge:edge]->(cloned_node) \n",
      "\t\tSET new_edge = pred_map.edge))\n",
      "// copy self loop\n",
      "FOREACH (suc_map IN suc_maps | \n",
      "\tFOREACH (self_loop IN CASE WHEN suc_map.neighbor = node_to_clone THEN [suc_map.edge] ELSE [] END |\n",
      "\t\tMERGE (cloned_node)-[new_edge:edge]->(cloned_node) \n",
      "\t\tSET new_edge = self_loop))\n",
      "WITH cloned_node, sucs, orig_ids_to_clone, node_to_clone, clone_id \n",
      "OPTIONAL MATCH (node_to_clone)-[out_typ_edge:typing]->(suc_typ:node)\n",
      "WITH collect({neighbor: suc_typ, edge: out_typ_edge}) as suc_typ_maps, cloned_node, sucs, orig_ids_to_clone, node_to_clone, clone_id \n",
      "OPTIONAL MATCH (pred_typ:node)-[in_typ_edge:typing]->(node_to_clone) \n",
      "WITH collect({neighbor: pred_typ, edge: in_typ_edge}) as pred_typ_maps, cloned_node, sucs, orig_ids_to_clone, node_to_clone, suc_typ_maps, clone_id \n",
      "// copy all incident typing edges of the original node to the clone\n",
      "FOREACH (suc_map IN suc_typ_maps | \n",
      "\tFOREACH (suc IN CASE WHEN suc_map.neighbor IS NOT NULL THEN [suc_map.neighbor] ELSE [] END |\n",
      "\t\tMERGE (cloned_node)-[new_edge:typing]->(suc) \n",
      "\t\tSET new_edge = suc_map.edge))\n",
      "FOREACH (pred_map IN pred_typ_maps | \n",
      "\tFOREACH (pred IN CASE WHEN pred_map.neighbor IS NOT NULL THEN [pred_map.neighbor] ELSE [] END |\n",
      "\t\tMERGE (pred)-[new_edge:typing]->(cloned_node) \n",
      "\t\tSET new_edge = pred_map.edge))\n",
      "WITH collect(cloned_node)+[node_to_clone] as nodes_to_typ, collect(clone_id) as clone_ids, sucs, orig_ids_to_clone, node_to_clone\n",
      "FOREACH (i IN range(0, size(sucs)-1) |\n",
      "\tFOREACH(source in [nodes_to_typ[i]] |\n",
      "\t\tFOREACH(target in [sucs[i]] |\n",
      "\t\t\tMERGE (source)-[restored_typing:typing {  }]->(target)\n",
      ")))\n",
      "RETURN clone_ids\n",
      "// Removal of nodes in 'actionGraph'\n",
      "MATCH (n:node:actionGraph)\n",
      "OPTIONAL MATCH (n)-[:typing]->(x:node:metaModel)\n",
      "FOREACH(dummy IN CASE WHEN x IS NULL THEN [1] ELSE [] END |\n",
      "\tDETACH DELETE n\n",
      ")\n",
      "// Removal of node properties in 'actionGraph'\n",
      "WITH n, x\n",
      "WHERE x IS NOT NULL AND REDUCE(invalid = 0, k in filter(k in keys(n) WHERE k <> 'id') |\n",
      "\tinvalid + CASE\n",
      "\t\tWHEN NOT k IN keys(x) THEN 1\n",
      "\t\tELSE REDUCE(invalid_values = 0, v in n[k] |\n",
      "\t\t\tinvalid_values + CASE\n",
      "\t\t\t\tWHEN NOT v IN x[k] THEN 1 ELSE 0 END)\n",
      "\t\tEND) <> 0\n",
      "WITH n, x, [x, n] as node_to_merge_props\n",
      "\n",
      "//Perform the intersection of the properties of node_to_merge_props\n",
      "WITH [] as new_props, x, node_to_merge_props, n\n",
      "WITH new_props + REDUCE(pairs = [], k in keys(node_to_merge_props[0]) | pairs +\n",
      "\tCASE WHEN ALL(other in node_to_merge_props WHERE k in keys(other))\n",
      "\tTHEN\n",
      "\t\tREDUCE(inner_pairs = [], v in node_to_merge_props[0][k] | inner_pairs +\n",
      "\t\t\tCASE WHEN ALL(other in node_to_merge_props WHERE v in other[k])\n",
      "\t\t\tTHEN\n",
      "\t\t\t\t{key: k, value: v}\n",
      "\t\t\tELSE\n",
      "\t\t\t\t[]\n",
      "\t\t\tEND)\n",
      "\tELSE\n",
      "\t\t[]\n",
      "\tEND) as new_props, x, node_to_merge_props, n\n",
      "WITH apoc.map.groupByMulti(new_props, 'key') as new_props, x, node_to_merge_props, n\n",
      "WITH apoc.map.fromValues(REDUCE(pairs=[], k in keys(new_props) | \n",
      "\tpairs + [k, REDUCE(values=[], v in new_props[k] | \n",
      "\t\tvalues + CASE WHEN v.value IN values THEN [] ELSE v.value END)])) as new_props, x, node_to_merge_props, n\n",
      "WITH n.id as n_id, x, node_to_merge_props, new_props, n\n",
      "SET n = new_props\n",
      "SET n.id = n_id\n",
      "\n",
      "// Removal of edges attributes in 'actionGraph'\n",
      "MATCH (n:node:actionGraph)-[rel_pred:edge]->(m:node:actionGraph)\n",
      "OPTIONAL MATCH (x:node:metaModel)-[rel:edge]->(y:node:metaModel)WHERE (n)-[:typing]->(x) AND (m)-[:typing]->(y)\n",
      "FOREACH(dummy IN CASE WHEN rel IS NULL THEN [1] ELSE [] END |\n",
      "\tDELETE rel_pred\n",
      ")\n",
      "WITH rel, rel_pred\n",
      "WHERE rel IS NOT NULL AND REDUCE(invalid = 0, k in filter(k in keys(rel_pred) WHERE k <> 'id') |\n",
      "\tinvalid + CASE\n",
      "\t\tWHEN NOT k IN keys(rel) THEN 1\n",
      "\t\tELSE REDUCE(invalid_values = 0, v in rel_pred[k] |\n",
      "\t\t\tinvalid_values + CASE\n",
      "\t\t\t\tWHEN NOT v IN rel[k] THEN 1 ELSE 0 END)\n",
      "\t\tEND) <> 0\n",
      "WITH rel, rel_pred, [rel_pred, rel] as edges_to_merge_props\n",
      "\n",
      "//Perform the intersection of the properties of edges_to_merge_props\n",
      "WITH [] as new_props, edges_to_merge_props, rel, rel_pred\n",
      "WITH new_props + REDUCE(pairs = [], k in keys(edges_to_merge_props[0]) | pairs +\n",
      "\tCASE WHEN ALL(other in edges_to_merge_props WHERE k in keys(other))\n",
      "\tTHEN\n",
      "\t\tREDUCE(inner_pairs = [], v in edges_to_merge_props[0][k] | inner_pairs +\n",
      "\t\t\tCASE WHEN ALL(other in edges_to_merge_props WHERE v in other[k])\n",
      "\t\t\tTHEN\n",
      "\t\t\t\t{key: k, value: v}\n",
      "\t\t\tELSE\n",
      "\t\t\t\t[]\n",
      "\t\t\tEND)\n",
      "\tELSE\n",
      "\t\t[]\n",
      "\tEND) as new_props, edges_to_merge_props, rel, rel_pred\n",
      "WITH apoc.map.groupByMulti(new_props, 'key') as new_props, edges_to_merge_props, rel, rel_pred\n",
      "WITH apoc.map.fromValues(REDUCE(pairs=[], k in keys(new_props) | \n",
      "\tpairs + [k, REDUCE(values=[], v in new_props[k] | \n",
      "\t\tvalues + CASE WHEN v.value IN values THEN [] ELSE v.value END)])) as new_props, edges_to_merge_props, rel, rel_pred\n",
      "SET rel_pred = new_props\n",
      "\n",
      "Rewritting ancestors of actionGraph...\n"
     ]
    }
   ],
   "source": [
    "h._propagation_up('metaModel')"
   ]
  },
  {
   "cell_type": "markdown",
   "metadata": {},
   "source": [
    "## Graph rewritting and propagation down"
   ]
  },
  {
   "cell_type": "code",
   "execution_count": 15,
   "metadata": {
    "collapsed": true
   },
   "outputs": [],
   "source": [
    "pattern = nx.DiGraph()\n",
    "pattern.add_nodes_from([(\"w\", {\"name\":{\"Paul\"}}), \"x\", \"y\", \"z\"])\n",
    "pattern.add_edges_from([(\"x\", \"w\"), (\"y\", \"x\"), (\"y\", \"z\"), (\"z\",\"z\")])"
   ]
  },
  {
   "cell_type": "code",
   "execution_count": 16,
   "metadata": {
    "collapsed": true
   },
   "outputs": [],
   "source": [
    "rule = Rule.from_transform(pattern)\n",
    "rule.inject_add_node_attrs(\"x\", {\"age\":{10}})\n",
    "rule.inject_add_edge_attrs(\"x\", \"w\", {\"relation\":{\"brothers\"}})\n",
    "rule.inject_add_node(\"new_node\", {\"name\":{\"Will\"}})\n",
    "rule.inject_add_edge(\"new_node\", \"y\")\n",
    "merged_node = rule.inject_merge_nodes([\"w\", \"z\"])"
   ]
  },
  {
   "cell_type": "code",
   "execution_count": 17,
   "metadata": {
    "collapsed": true
   },
   "outputs": [],
   "source": [
    "rhs_typing = {\n",
    "    'metaModel': {'new_node':'a', merged_node: 'a'}\n",
    "}"
   ]
  },
  {
   "cell_type": "code",
   "execution_count": 18,
   "metadata": {
    "collapsed": false,
    "scrolled": false
   },
   "outputs": [
    {
     "data": {
      "image/png": "[encoded data removed]",
      "text/plain": [
       "<matplotlib.figure.Figure at 0x7fd05a8255f8>"
      ]
     },
     "metadata": {},
     "output_type": "display_data"
    }
   ],
   "source": [
    "plot_rule(rule)"
   ]
  },
  {
   "cell_type": "code",
   "execution_count": 19,
   "metadata": {
    "collapsed": false
   },
   "outputs": [
    {
     "name": "stdout",
     "output_type": "stream",
     "text": [
      "Instances:  [{'x': 'a', 'w': 'c', 'y': 'd', 'z': 'e'}]\n"
     ]
    }
   ],
   "source": [
    "ag = h.access_graph('actionGraph')\n",
    "instances = ag.find_matching(pattern)\n",
    "print(\"Instances: \", instances)"
   ]
  },
  {
   "cell_type": "code",
   "execution_count": 20,
   "metadata": {
    "collapsed": false,
    "scrolled": true
   },
   "outputs": [
    {
     "name": "stdout",
     "output_type": "stream",
     "text": [
      "Rewriting rule to Cypher: \n",
      "\n",
      "// Match nodes and edges of the instance \n",
      "MATCH (lhs_y:actionGraph { id : 'd'}) , (lhs_z:actionGraph { id : 'e'}) , (lhs_x:actionGraph { id : 'a'}) , (lhs_w:actionGraph { id : 'c'})  , (lhs_x)-[lhs_x_lhs_w:edge]->(lhs_w), (lhs_y)-[lhs_y_lhs_x:edge]->(lhs_x), (lhs_y)-[lhs_y_lhs_z:edge]->(lhs_z), (lhs_z)-[lhs_z_lhs_z:edge]->(lhs_z)\n",
      "\n",
      "// Renaming vars to correspond to the vars of P\n",
      "WITH lhs_y_lhs_x, lhs_x_lhs_w, lhs_y_lhs_z, lhs_z_lhs_z , lhs_y as p_y, lhs_z as p_z, lhs_x as p_x, lhs_w as p_w \n",
      "\n",
      "// Merging nodes '{'w', 'z'}' of the preserved part into 'w_z' \n",
      "// accumulate all the attrs of the nodes to be merged\n",
      "WITH [] as new_props, p_z, p_y, p_x, lhs_y_lhs_x, lhs_x_lhs_w, lhs_y_lhs_z, p_w, lhs_z_lhs_z\n",
      "WITH new_props + REDUCE(pairs = [], k in keys(p_w) | \n",
      "\tpairs + REDUCE(inner_pairs = [], v in p_w[k] | \n",
      "\t\tinner_pairs + {key: k, value: v})) as new_props, p_z, p_y, p_x, lhs_y_lhs_x, lhs_x_lhs_w, lhs_y_lhs_z, p_w, lhs_z_lhs_z\n",
      "WITH new_props + REDUCE(pairs = [], k in keys(p_z) | \n",
      "\tpairs + REDUCE(inner_pairs = [], v in p_z[k] | \n",
      "\t\tinner_pairs + {key: k, value: v})) as new_props, p_z, p_y, p_x, lhs_y_lhs_x, lhs_x_lhs_w, lhs_y_lhs_z, p_w, lhs_z_lhs_z\n",
      "WITH apoc.map.groupByMulti(new_props, 'key') as new_props, p_z, p_y, p_x, lhs_y_lhs_x, lhs_x_lhs_w, lhs_y_lhs_z, p_w, lhs_z_lhs_z\n",
      "WITH apoc.map.fromValues(REDUCE(pairs=[], k in keys(new_props) | \n",
      "\tpairs + [k, REDUCE(values=[], v in new_props[k] | \n",
      "\t\tvalues + CASE WHEN v.value IN values THEN [] ELSE v.value END)])) as new_props, p_z, p_y, p_x, lhs_y_lhs_x, lhs_x_lhs_w, lhs_y_lhs_z, p_w, lhs_z_lhs_z\n",
      "SET p_w = new_props\n",
      "WITH p_w as rhs_w_z, p_z, p_y, p_x, lhs_y_lhs_x, lhs_x_lhs_w, lhs_y_lhs_z, lhs_z_lhs_z\n",
      "// set appropriate node id\n",
      "SET rhs_w_z.id = toString(id(rhs_w_z))\n",
      "SET rhs_w_z.count = NULL\n",
      "WITH toString(id(rhs_w_z)) as uid19a8a635c72e449098fdbacc5c3331be, p_z, p_y, rhs_w_z, p_x, lhs_y_lhs_x, lhs_x_lhs_w, lhs_y_lhs_z, lhs_z_lhs_z\n",
      "// accumulate all the attrs of the edges incident to the merged nodes\n",
      "WITH [] as suc_maps, [] as pred_maps, p_z, p_y, rhs_w_z, uid19a8a635c72e449098fdbacc5c3331be, p_x, lhs_y_lhs_x, lhs_x_lhs_w, lhs_y_lhs_z, lhs_z_lhs_z\n",
      "OPTIONAL MATCH (rhs_w_z)-[out_rel:edge]->(suc)\n",
      "WITH suc_maps + collect({id: id(suc), neighbor: suc, edge: out_rel}) as suc_maps, pred_maps, p_z, p_y, rhs_w_z, uid19a8a635c72e449098fdbacc5c3331be, p_x, lhs_y_lhs_x, lhs_x_lhs_w, lhs_y_lhs_z, lhs_z_lhs_z\n",
      "OPTIONAL MATCH (pred)-[in_rel:edge]->(rhs_w_z)\n",
      "WITH pred_maps + collect({id: id(pred), neighbor: pred, edge: in_rel}) as pred_maps, suc_maps, p_z, p_y, rhs_w_z, uid19a8a635c72e449098fdbacc5c3331be, p_x, lhs_y_lhs_x, lhs_x_lhs_w, lhs_y_lhs_z, lhs_z_lhs_z\n",
      "OPTIONAL MATCH (p_z)-[out_rel:edge]->(suc)\n",
      "WITH suc_maps + collect({id: id(suc), neighbor: suc, edge: out_rel}) as suc_maps, pred_maps, p_z, p_y, rhs_w_z, uid19a8a635c72e449098fdbacc5c3331be, p_x, lhs_y_lhs_x, lhs_x_lhs_w, lhs_y_lhs_z, lhs_z_lhs_z\n",
      "OPTIONAL MATCH (pred)-[in_rel:edge]->(p_z)\n",
      "WITH pred_maps + collect({id: id(pred), neighbor: pred, edge: in_rel}) as pred_maps, suc_maps, p_z, p_y, rhs_w_z, uid19a8a635c72e449098fdbacc5c3331be, p_x, lhs_y_lhs_x, lhs_x_lhs_w, lhs_y_lhs_z, lhs_z_lhs_z\n",
      "WITH apoc.map.groupByMulti(suc_maps, 'id') as suc_props, REDUCE(list=[], map in suc_maps | \n",
      "\tlist + CASE WHEN NOT map['neighbor'] IS NULL THEN [map['neighbor']] ELSE [] END) as suc_nodes, apoc.map.groupByMulti(pred_maps, 'id') as pred_props, REDUCE(list=[], map in pred_maps | \n",
      "\tlist + CASE WHEN NOT map['neighbor'] IS NULL THEN [map['neighbor']] ELSE [] END) as pred_nodes, \tREDUCE(l=[], el in suc_maps + pred_maps| \n",
      "\t\tl + CASE WHEN el['id'] IN [id(rhs_w_z),id(p_z)] THEN [toString(el['id'])] ELSE [] END) as self_loops, p_z, p_y, rhs_w_z, uid19a8a635c72e449098fdbacc5c3331be, p_x, lhs_y_lhs_x, lhs_x_lhs_w, lhs_y_lhs_z, lhs_z_lhs_z\n",
      "WITH suc_nodes, pred_nodes, apoc.map.fromValues(REDUCE(edge_props=[], k in keys(suc_props) | \n",
      "\tedge_props + [k, apoc.map.groupByMulti(REDUCE(props=[], el in suc_props[k] | \n",
      "\t\tprops + REDUCE(pairs=[], kk in keys(el['edge']) | \n",
      "\t\t\tpairs + REDUCE(values=[], v in el['edge'][kk] | \n",
      "\t\t\t\tvalues + {key: kk, value: v}))), 'key')])) as suc_props, \n",
      "\tapoc.map.fromValues(REDUCE(edge_props=[], k in keys(pred_props) | \n",
      "\tedge_props + [k, apoc.map.groupByMulti(REDUCE(props=[], el in pred_props[k] | \n",
      "\t\tprops + REDUCE(pairs=[], kk in keys(el['edge']) | \n",
      "\t\t\tpairs + REDUCE(values=[], v in el['edge'][kk] | \n",
      "\t\t\t\t values + {key: kk, value: v}))), 'key')])) as pred_props,  \n",
      "\tREDUCE(edge_props=[], k IN filter(k IN keys(suc_props) WHERE k IN self_loops) |\n",
      "\t\tedge_props + suc_props[k]) + \n",
      "\tREDUCE(edge_props=[], k IN filter(k IN keys(pred_props) WHERE k IN self_loops) |\n",
      "\t\tedge_props + pred_props[k]) as self_loop_props, p_z, p_y, rhs_w_z, uid19a8a635c72e449098fdbacc5c3331be, self_loops, p_x, lhs_y_lhs_x, lhs_x_lhs_w, lhs_y_lhs_z, lhs_z_lhs_z\n",
      "WITH suc_nodes, suc_props, pred_nodes, pred_props, apoc.map.groupByMulti(REDUCE(pairs=[], el in self_loop_props |\n",
      "\tpairs + REDUCE(inner_pairs=[], k in keys(el['edge']) | \n",
      "\t\tinner_pairs + REDUCE(values=[], v in el['edge'][k] |\n",
      "\t\t\tvalues + {key: k, value: v}))), 'key') as self_loop_props, p_z, p_y, rhs_w_z, uid19a8a635c72e449098fdbacc5c3331be, self_loops, p_x, lhs_y_lhs_x, lhs_x_lhs_w, lhs_y_lhs_z, lhs_z_lhs_z\n",
      "FOREACH(suc IN filter(suc IN suc_nodes WHERE NOT id(suc) in self_loops) |\n",
      "\tMERGE (rhs_w_z)-[new_rel:edge]->(suc)\n",
      "\tSET new_rel = apoc.map.fromValues(REDUCE(pairs=[], k in keys(suc_props[toString(id(suc))]) | \n",
      "\t\t pairs + [k, REDUCE(values=[], v in suc_props[toString(id(suc))][k] | \n",
      "\t\t\tvalues + CASE WHEN v.value IN values THEN [] ELSE v.value END)])))\n",
      "FOREACH(pred IN filter(pred IN pred_nodes WHERE NOT id(pred) in self_loops) |\n",
      "\tMERGE (pred)-[new_rel:edge]->(rhs_w_z)\n",
      "\tSET new_rel = apoc.map.fromValues(REDUCE(pairs=[], k in keys(pred_props[toString(id(pred))]) | \n",
      "\t\t pairs + [k, REDUCE(values=[], v in pred_props[toString(id(pred))][k] | \n",
      "\t\t\tvalues + CASE WHEN v.value IN values THEN [] ELSE v.value END)])))\n",
      "// add self loop \n",
      "FOREACH(dummy in CASE WHEN length(self_loops) > 0 THEN [NULL] ELSE [] END |\n",
      "\tMERGE (rhs_w_z)-[new_rel:edge]->(rhs_w_z)\n",
      "\tSET new_rel = apoc.map.fromValues(REDUCE(pairs=[], k in keys(self_loop_props) |\n",
      "\t\tpairs + [k, REDUCE(values=[], v in self_loop_props[k] |\n",
      "\t\t\tvalues + CASE WHEN v.value IN values THEN [] ELSE v.value END)])))\n",
      "// accumulate all the attrs of the edges incident to the merged nodes\n",
      "WITH [] as suc_typings, [] as pred_typings, p_z, p_y, rhs_w_z, uid19a8a635c72e449098fdbacc5c3331be, p_x, lhs_y_lhs_x, lhs_x_lhs_w, lhs_y_lhs_z, lhs_z_lhs_z\n",
      "OPTIONAL MATCH (rhs_w_z)-[:typing]->(suc)\n",
      "WITH suc_typings + collect(suc) as suc_typings, pred_typings, p_z, p_y, rhs_w_z, uid19a8a635c72e449098fdbacc5c3331be, p_x, lhs_y_lhs_x, lhs_x_lhs_w, lhs_y_lhs_z, lhs_z_lhs_z\n",
      "OPTIONAL MATCH (pred)-[:typing]->(rhs_w_z)\n",
      "WITH pred_typings + collect(pred) as pred_typings, suc_typings, p_z, p_y, rhs_w_z, uid19a8a635c72e449098fdbacc5c3331be, p_x, lhs_y_lhs_x, lhs_x_lhs_w, lhs_y_lhs_z, lhs_z_lhs_z\n",
      "OPTIONAL MATCH (p_z)-[:typing]->(suc)\n",
      "WITH suc_typings + collect(suc) as suc_typings, pred_typings, p_z, p_y, rhs_w_z, uid19a8a635c72e449098fdbacc5c3331be, p_x, lhs_y_lhs_x, lhs_x_lhs_w, lhs_y_lhs_z, lhs_z_lhs_z\n",
      "OPTIONAL MATCH (pred)-[:typing]->(p_z)\n",
      "WITH pred_typings + collect(pred) as pred_typings, suc_typings, p_z, p_y, rhs_w_z, uid19a8a635c72e449098fdbacc5c3331be, p_x, lhs_y_lhs_x, lhs_x_lhs_w, lhs_y_lhs_z, lhs_z_lhs_z\n",
      "FOREACH(suc in suc_typings |\n",
      "\tMERGE (rhs_w_z)-[:typing]->(suc))\n",
      "FOREACH(pred in pred_typings |\n",
      "\tMERGE (pred)-[:typing]->(rhs_w_z))\n",
      "DETACH DELETE (p_z)\n",
      "\n",
      "\n",
      "// Adding node 'new_node' from the rhs \n",
      "CREATE (rhs_new_node:actionGraph) \n",
      "SET rhs_new_node.id = toString(id(rhs_new_node)) \n",
      "WITH toString(id(rhs_new_node)) as rhs_new_node_id , p_z, p_y, rhs_w_z, uid19a8a635c72e449098fdbacc5c3331be, p_x, rhs_new_node, lhs_y_lhs_x, lhs_x_lhs_w, lhs_y_lhs_z, lhs_z_lhs_z\n",
      "\n",
      "\n",
      "// Renaming vars to correspond to the vars of rhs\n",
      "WITH p_z, rhs_w_z, uid19a8a635c72e449098fdbacc5c3331be, rhs_new_node_id, rhs_new_node, lhs_y_lhs_x, lhs_x_lhs_w, lhs_y_lhs_z, lhs_z_lhs_z , p_x as rhs_x, p_y as rhs_y \n",
      "\n",
      "// Adding properties to the node 'w_z' from the rhs \n",
      "FOREACH(dummy IN CASE WHEN NOT 'name' IN keys(rhs_w_z) THEN [1] ELSE [] END |\n",
      "\tSET rhs_w_z.name = ['Paul'])\n",
      "FOREACH(dummy IN CASE WHEN 'name' IN keys(rhs_w_z) THEN [1] ELSE [] END |\n",
      "\tFOREACH(val in ['Paul'] |\n",
      "\t\tFOREACH(dummy IN CASE WHEN NOT val IN rhs_w_z.name THEN [1] ELSE [] END |\n",
      "\t\t\tSET rhs_w_z.name = rhs_w_z.name + [val])))\n",
      "// Adding properties to the node 'x' from the rhs \n",
      "FOREACH(dummy IN CASE WHEN NOT 'age' IN keys(rhs_x) THEN [1] ELSE [] END |\n",
      "\tSET rhs_x.age = [10])\n",
      "FOREACH(dummy IN CASE WHEN 'age' IN keys(rhs_x) THEN [1] ELSE [] END |\n",
      "\tFOREACH(val in [10] |\n",
      "\t\tFOREACH(dummy IN CASE WHEN NOT val IN rhs_x.age THEN [1] ELSE [] END |\n",
      "\t\t\tSET rhs_x.age = rhs_x.age + [val])))\n",
      "// Adding properties to the node 'new_node' from the rhs \n",
      "FOREACH(dummy IN CASE WHEN NOT 'name' IN keys(rhs_new_node) THEN [1] ELSE [] END |\n",
      "\tSET rhs_new_node.name = ['Will'])\n",
      "FOREACH(dummy IN CASE WHEN 'name' IN keys(rhs_new_node) THEN [1] ELSE [] END |\n",
      "\tFOREACH(val in ['Will'] |\n",
      "\t\tFOREACH(dummy IN CASE WHEN NOT val IN rhs_new_node.name THEN [1] ELSE [] END |\n",
      "\t\t\tSET rhs_new_node.name = rhs_new_node.name + [val])))\n",
      "// Adding edge 'new_node->y' from the rhs \n",
      "MERGE (rhs_new_node)-[rhs_new_node_rhs_y:edge {  }]->(rhs_y)\n",
      "\n",
      "\n",
      "// Adding properties to the node 'new_node' from the rhs \n",
      "WITH p_z, rhs_w_z, uid19a8a635c72e449098fdbacc5c3331be, rhs_new_node_id, rhs_new_node, lhs_y_lhs_x, lhs_x_lhs_w, lhs_y_lhs_z, rhs_x, rhs_y, lhs_z_lhs_z MATCH (rhs_x)-[rhs_x_rhs_w_z:edge]->(rhs_w_z)\n",
      "FOREACH(dummy IN CASE WHEN NOT 'relation' IN keys(rhs_x_rhs_w_z) THEN [1] ELSE [] END |\n",
      "\tSET rhs_x_rhs_w_z.relation = ['brothers'])\n",
      "FOREACH(dummy IN CASE WHEN 'relation' IN keys(rhs_x_rhs_w_z) THEN [1] ELSE [] END |\n",
      "\tFOREACH(val in ['brothers'] |\n",
      "\t\tFOREACH(dummy IN CASE WHEN NOT val IN rhs_x_rhs_w_z.relation THEN [1] ELSE [] END |\n",
      "\t\t\tSET rhs_x_rhs_w_z.relation = rhs_x_rhs_w_z.relation + [val])))\n",
      "WITH p_z, rhs_w_z, uid19a8a635c72e449098fdbacc5c3331be, rhs_new_node_id, rhs_x_rhs_w_z, rhs_new_node, lhs_y_lhs_x, lhs_x_lhs_w, lhs_y_lhs_z, rhs_x, rhs_y, lhs_z_lhs_z \n",
      "\n",
      "WITH p_z, rhs_w_z, uid19a8a635c72e449098fdbacc5c3331be, rhs_new_node_id, rhs_x_rhs_w_z, rhs_new_node, lhs_y_lhs_x, lhs_x_lhs_w, lhs_y_lhs_z, rhs_x, rhs_y, lhs_z_lhs_z OPTIONAL MATCH (new_node_metaModel:node:metaModel {id:'a'})\n",
      "MERGE (rhs_new_node)-[:tmp_typing]->(new_node_metaModel)\n",
      "// Return statement \n",
      "RETURN p_z, rhs_w_z, uid19a8a635c72e449098fdbacc5c3331be, rhs_new_node_id, rhs_x_rhs_w_z, rhs_new_node, lhs_y_lhs_x, lhs_x_lhs_w, lhs_y_lhs_z, rhs_x, rhs_y, lhs_z_lhs_z\n",
      "\n"
     ]
    },
    {
     "ename": "DatabaseError",
     "evalue": "org.neo4j.values.storable.NoValue cannot be cast to org.neo4j.values.virtual.NodeValue",
     "output_type": "error",
     "traceback": [
      "\u001b[0;31m---------------------------------------------------------------------------\u001b[0m",
      "\u001b[0;31mDatabaseError\u001b[0m                             Traceback (most recent call last)",
      "\u001b[0;32m<ipython-input-20-0ab754fc6582>\u001b[0m in \u001b[0;36m<module>\u001b[0;34m()\u001b[0m\n\u001b[1;32m      1\u001b[0m \u001b[0mag\u001b[0m \u001b[0;34m=\u001b[0m \u001b[0mh\u001b[0m\u001b[0;34m.\u001b[0m\u001b[0maccess_graph\u001b[0m\u001b[0;34m(\u001b[0m\u001b[0;34m'actionGraph'\u001b[0m\u001b[0;34m)\u001b[0m\u001b[0;34m\u001b[0m\u001b[0m\n\u001b[0;32m----> 2\u001b[0;31m \u001b[0mag\u001b[0m\u001b[0;34m.\u001b[0m\u001b[0mrewrite\u001b[0m\u001b[0;34m(\u001b[0m\u001b[0mrule\u001b[0m\u001b[0;34m,\u001b[0m \u001b[0minstances\u001b[0m\u001b[0;34m[\u001b[0m\u001b[0;36m0\u001b[0m\u001b[0;34m]\u001b[0m\u001b[0;34m,\u001b[0m \u001b[0mrhs_typing\u001b[0m\u001b[0;34m=\u001b[0m\u001b[0mrhs_typing\u001b[0m\u001b[0;34m)\u001b[0m\u001b[0;34m\u001b[0m\u001b[0m\n\u001b[0m",
      "\u001b[0;32m/home/johnpaul/anaconda3/lib/python3.5/site-packages/ReGraph-1.0-py3.5.egg/regraph/neo4j/graphs.py\u001b[0m in \u001b[0;36mrewrite\u001b[0;34m(self, rule, instance, rhs_typing)\u001b[0m\n\u001b[1;32m    714\u001b[0m         \u001b[0mprint\u001b[0m\u001b[0;34m(\u001b[0m\u001b[0mquery\u001b[0m\u001b[0;34m)\u001b[0m\u001b[0;34m\u001b[0m\u001b[0m\n\u001b[1;32m    715\u001b[0m         \u001b[0;31m# Execute query\u001b[0m\u001b[0;34m\u001b[0m\u001b[0;34m\u001b[0m\u001b[0m\n\u001b[0;32m--> 716\u001b[0;31m         \u001b[0mresult\u001b[0m \u001b[0;34m=\u001b[0m \u001b[0mself\u001b[0m\u001b[0;34m.\u001b[0m\u001b[0mexecute\u001b[0m\u001b[0;34m(\u001b[0m\u001b[0mquery\u001b[0m\u001b[0;34m)\u001b[0m\u001b[0;34m\u001b[0m\u001b[0m\n\u001b[0m\u001b[1;32m    717\u001b[0m         \u001b[0;31m# Retrieve a dictionary mapping the nodes of the rhs to the nodes\u001b[0m\u001b[0;34m\u001b[0m\u001b[0;34m\u001b[0m\u001b[0m\n\u001b[1;32m    718\u001b[0m         \u001b[0;31m# of the resulting graph\u001b[0m\u001b[0;34m\u001b[0m\u001b[0;34m\u001b[0m\u001b[0m\n",
      "\u001b[0;32m/home/johnpaul/anaconda3/lib/python3.5/site-packages/ReGraph-1.0-py3.5.egg/regraph/neo4j/graphs.py\u001b[0m in \u001b[0;36mexecute\u001b[0;34m(self, query)\u001b[0m\n\u001b[1;32m     74\u001b[0m         \u001b[0;34m\"\"\"Execute a Cypher query.\"\"\"\u001b[0m\u001b[0;34m\u001b[0m\u001b[0m\n\u001b[1;32m     75\u001b[0m         \u001b[0;32mwith\u001b[0m \u001b[0mself\u001b[0m\u001b[0;34m.\u001b[0m\u001b[0m_driver\u001b[0m\u001b[0;34m.\u001b[0m\u001b[0msession\u001b[0m\u001b[0;34m(\u001b[0m\u001b[0;34m)\u001b[0m \u001b[0;32mas\u001b[0m \u001b[0msession\u001b[0m\u001b[0;34m:\u001b[0m\u001b[0;34m\u001b[0m\u001b[0m\n\u001b[0;32m---> 76\u001b[0;31m             \u001b[0mresult\u001b[0m \u001b[0;34m=\u001b[0m \u001b[0msession\u001b[0m\u001b[0;34m.\u001b[0m\u001b[0mrun\u001b[0m\u001b[0;34m(\u001b[0m\u001b[0mquery\u001b[0m\u001b[0;34m)\u001b[0m\u001b[0;34m\u001b[0m\u001b[0m\n\u001b[0m\u001b[1;32m     77\u001b[0m             \u001b[0;32mreturn\u001b[0m \u001b[0mresult\u001b[0m\u001b[0;34m\u001b[0m\u001b[0m\n\u001b[1;32m     78\u001b[0m \u001b[0;34m\u001b[0m\u001b[0m\n",
      "\u001b[0;32m/home/johnpaul/anaconda3/lib/python3.5/site-packages/neo4j_driver-1.6.0b1-py3.5-linux-x86_64.egg/neo4j/v1/api.py\u001b[0m in \u001b[0;36mrun\u001b[0;34m(self, statement, parameters, **kwparameters)\u001b[0m\n\u001b[1;32m    335\u001b[0m         \u001b[0;32mif\u001b[0m \u001b[0;32mnot\u001b[0m \u001b[0mself\u001b[0m\u001b[0;34m.\u001b[0m\u001b[0mhas_transaction\u001b[0m\u001b[0;34m(\u001b[0m\u001b[0;34m)\u001b[0m\u001b[0;34m:\u001b[0m\u001b[0;34m\u001b[0m\u001b[0m\n\u001b[1;32m    336\u001b[0m             \u001b[0mself\u001b[0m\u001b[0;34m.\u001b[0m\u001b[0m_connection\u001b[0m\u001b[0;34m.\u001b[0m\u001b[0msend\u001b[0m\u001b[0;34m(\u001b[0m\u001b[0;34m)\u001b[0m\u001b[0;34m\u001b[0m\u001b[0m\n\u001b[0;32m--> 337\u001b[0;31m             \u001b[0mself\u001b[0m\u001b[0;34m.\u001b[0m\u001b[0m_connection\u001b[0m\u001b[0;34m.\u001b[0m\u001b[0mfetch\u001b[0m\u001b[0;34m(\u001b[0m\u001b[0;34m)\u001b[0m\u001b[0;34m\u001b[0m\u001b[0m\n\u001b[0m\u001b[1;32m    338\u001b[0m \u001b[0;34m\u001b[0m\u001b[0m\n\u001b[1;32m    339\u001b[0m         \u001b[0;32mreturn\u001b[0m \u001b[0mresult\u001b[0m\u001b[0;34m\u001b[0m\u001b[0m\n",
      "\u001b[0;32m/home/johnpaul/anaconda3/lib/python3.5/site-packages/neo4j_driver-1.6.0b1-py3.5-linux-x86_64.egg/neo4j/bolt/connection.py\u001b[0m in \u001b[0;36mfetch\u001b[0;34m(self)\u001b[0m\n\u001b[1;32m    288\u001b[0m     \u001b[0;32mdef\u001b[0m \u001b[0mfetch\u001b[0m\u001b[0;34m(\u001b[0m\u001b[0mself\u001b[0m\u001b[0;34m)\u001b[0m\u001b[0;34m:\u001b[0m\u001b[0;34m\u001b[0m\u001b[0m\n\u001b[1;32m    289\u001b[0m         \u001b[0;32mtry\u001b[0m\u001b[0;34m:\u001b[0m\u001b[0;34m\u001b[0m\u001b[0m\n\u001b[0;32m--> 290\u001b[0;31m             \u001b[0;32mreturn\u001b[0m \u001b[0mself\u001b[0m\u001b[0;34m.\u001b[0m\u001b[0m_fetch\u001b[0m\u001b[0;34m(\u001b[0m\u001b[0;34m)\u001b[0m\u001b[0;34m\u001b[0m\u001b[0m\n\u001b[0m\u001b[1;32m    291\u001b[0m         \u001b[0;32mexcept\u001b[0m \u001b[0mself\u001b[0m\u001b[0;34m.\u001b[0m\u001b[0merror_handler\u001b[0m\u001b[0;34m.\u001b[0m\u001b[0mknown_errors\u001b[0m \u001b[0;32mas\u001b[0m \u001b[0merror\u001b[0m\u001b[0;34m:\u001b[0m\u001b[0;34m\u001b[0m\u001b[0m\n\u001b[1;32m    292\u001b[0m             \u001b[0mself\u001b[0m\u001b[0;34m.\u001b[0m\u001b[0merror_handler\u001b[0m\u001b[0;34m.\u001b[0m\u001b[0mhandle\u001b[0m\u001b[0;34m(\u001b[0m\u001b[0merror\u001b[0m\u001b[0;34m,\u001b[0m \u001b[0mself\u001b[0m\u001b[0;34m.\u001b[0m\u001b[0maddress\u001b[0m\u001b[0;34m)\u001b[0m\u001b[0;34m\u001b[0m\u001b[0m\n",
      "\u001b[0;32m/home/johnpaul/anaconda3/lib/python3.5/site-packages/neo4j_driver-1.6.0b1-py3.5-linux-x86_64.egg/neo4j/bolt/connection.py\u001b[0m in \u001b[0;36m_fetch\u001b[0;34m(self)\u001b[0m\n\u001b[1;32m    328\u001b[0m             \u001b[0mself\u001b[0m\u001b[0;34m.\u001b[0m\u001b[0m_last_run_statement\u001b[0m \u001b[0;34m=\u001b[0m \u001b[0;32mNone\u001b[0m\u001b[0;34m\u001b[0m\u001b[0m\n\u001b[1;32m    329\u001b[0m             \u001b[0mlog_debug\u001b[0m\u001b[0;34m(\u001b[0m\u001b[0;34m\"S: FAILURE (%r)\"\u001b[0m\u001b[0;34m,\u001b[0m \u001b[0msummary_metadata\u001b[0m\u001b[0;34m)\u001b[0m\u001b[0;34m\u001b[0m\u001b[0m\n\u001b[0;32m--> 330\u001b[0;31m             \u001b[0mresponse\u001b[0m\u001b[0;34m.\u001b[0m\u001b[0mon_failure\u001b[0m\u001b[0;34m(\u001b[0m\u001b[0msummary_metadata\u001b[0m \u001b[0;32mor\u001b[0m \u001b[0;34m{\u001b[0m\u001b[0;34m}\u001b[0m\u001b[0;34m)\u001b[0m\u001b[0;34m\u001b[0m\u001b[0m\n\u001b[0m\u001b[1;32m    331\u001b[0m         \u001b[0;32melse\u001b[0m\u001b[0;34m:\u001b[0m\u001b[0;34m\u001b[0m\u001b[0m\n\u001b[1;32m    332\u001b[0m             \u001b[0mself\u001b[0m\u001b[0;34m.\u001b[0m\u001b[0m_last_run_statement\u001b[0m \u001b[0;34m=\u001b[0m \u001b[0;32mNone\u001b[0m\u001b[0;34m\u001b[0m\u001b[0m\n",
      "\u001b[0;32m/home/johnpaul/anaconda3/lib/python3.5/site-packages/neo4j_driver-1.6.0b1-py3.5-linux-x86_64.egg/neo4j/v1/result.py\u001b[0m in \u001b[0;36mon_failure\u001b[0;34m(metadata)\u001b[0m\n\u001b[1;32m     69\u001b[0m             \u001b[0mself\u001b[0m\u001b[0;34m.\u001b[0m\u001b[0msession\u001b[0m\u001b[0;34m.\u001b[0m\u001b[0m_connection\u001b[0m\u001b[0;34m.\u001b[0m\u001b[0macknowledge_failure\u001b[0m\u001b[0;34m(\u001b[0m\u001b[0;34m)\u001b[0m\u001b[0;34m\u001b[0m\u001b[0m\n\u001b[1;32m     70\u001b[0m             \u001b[0mon_footer\u001b[0m\u001b[0;34m(\u001b[0m\u001b[0mmetadata\u001b[0m\u001b[0;34m)\u001b[0m\u001b[0;34m\u001b[0m\u001b[0m\n\u001b[0;32m---> 71\u001b[0;31m             \u001b[0;32mraise\u001b[0m \u001b[0mCypherError\u001b[0m\u001b[0;34m.\u001b[0m\u001b[0mhydrate\u001b[0m\u001b[0;34m(\u001b[0m\u001b[0;34m**\u001b[0m\u001b[0mmetadata\u001b[0m\u001b[0;34m)\u001b[0m\u001b[0;34m\u001b[0m\u001b[0m\n\u001b[0m\u001b[1;32m     72\u001b[0m \u001b[0;34m\u001b[0m\u001b[0m\n\u001b[1;32m     73\u001b[0m         \u001b[0mrun_response\u001b[0m\u001b[0;34m.\u001b[0m\u001b[0mon_success\u001b[0m \u001b[0;34m=\u001b[0m \u001b[0mon_header\u001b[0m\u001b[0;34m\u001b[0m\u001b[0m\n",
      "\u001b[0;31mDatabaseError\u001b[0m: org.neo4j.values.storable.NoValue cannot be cast to org.neo4j.values.virtual.NodeValue"
     ]
    }
   ],
   "source": [
    "ag = h.access_graph('actionGraph')\n",
    "ag.rewrite(rule, instances[0], rhs_typing=rhs_typing)"
   ]
  },
  {
   "cell_type": "code",
   "execution_count": null,
   "metadata": {
    "collapsed": false,
    "scrolled": true
   },
   "outputs": [],
   "source": [
    "h._propagation_down('actionGraph')"
   ]
  },
  {
   "cell_type": "markdown",
   "metadata": {},
   "source": [
    "## Removing a graph from the hierarchy"
   ]
  },
  {
   "cell_type": "markdown",
   "metadata": {},
   "source": [
    "We can also remove a graph from the hierarchy. All its nodes and connections (edges and typing edges) are removed."
   ]
  },
  {
   "cell_type": "code",
   "execution_count": null,
   "metadata": {
    "collapsed": true
   },
   "outputs": [],
   "source": [
    "#h.remove_graph('MetaModel')"
   ]
  },
  {
   "cell_type": "code",
   "execution_count": null,
   "metadata": {
    "collapsed": true
   },
   "outputs": [],
   "source": []
  },
  {
   "cell_type": "code",
   "execution_count": null,
   "metadata": {
    "collapsed": true
   },
   "outputs": [],
   "source": []
  },
  {
   "cell_type": "code",
   "execution_count": null,
   "metadata": {
    "collapsed": true
   },
   "outputs": [],
   "source": [
    "#here we clear the hierarchy\n",
    "#h.clear()\n",
    "#h.drop_all_constraints()\n",
    "#h.close()\n",
    "#"
   ]
  }
 ],
 "metadata": {
  "anaconda-cloud": {},
  "kernelspec": {
   "display_name": "Python [default]",
   "language": "python",
   "name": "python3"
  },
  "language_info": {
   "codemirror_mode": {
    "name": "ipython",
    "version": 3
   },
   "file_extension": ".py",
   "mimetype": "text/x-python",
   "name": "python",
   "nbconvert_exporter": "python",
   "pygments_lexer": "ipython3",
   "version": "3.5.2"
  }
 },
 "nbformat": 4,
 "nbformat_minor": 2
}
