{
 "cells": [
  {
   "cell_type": "code",
   "execution_count": 1,
   "metadata": {},
   "outputs": [],
   "source": [
    "import networkx as nx\n",
    "from regraph import Rule, plot_rule\n",
    "\n",
    "\n",
    "from regraph.neo4j.hierarchy import Neo4jHierarchy\n",
    "import regraph.neo4j.cypher_utils as cypher\n",
    "\n",
    "\n",
    "# initialize the neo4j driver, wrappped into Neo4jHierarchy object\n",
    "h = Neo4jHierarchy(uri=\"bolt://localhost:7687\", user=\"neo4j\", password=\"admin\")\n",
    "h._clear()\n",
    "\n",
    "nodes = [\n",
    "    (\"a\", {\"name\": {\"Jack\"}, \"age\": {43}, \"hobby\": {\"hiking\", \"music\"}}), \n",
    "    (\"b\", {\"name\": {\"Robert\"}, \"age\": {35}, \"hobby\": {\"sport\", \"music\"}}),\n",
    "    (\"c\", {\"name\":{ \"Paul\"}, \"age\": {18}}),\n",
    "    (\"d\", {\"name\": {\"Joe\"}, \"age\": {12}}),\n",
    "    (\"e\", {\"name\": {\"Paul\"}, \"age\": {18}})\n",
    "]\n",
    "edges = [\n",
    "    (\"a\", \"b\", {\"type\": {\"friends\"}}), \n",
    "    (\"a\", \"c\", {\"type\": {\"colleagues\"}}),\n",
    "    (\"b\", \"c\", {\"type\": {\"colleagues\"}}),\n",
    "    (\"d\", \"a\", {\"type\": {\"child_of\"}}), \n",
    "    (\"d\", \"e\", {\"type\": {\"enemies\"}}),\n",
    "    (\"e\", \"e\", {\"type\": {\"likes\"}})\n",
    "]\n",
    "h.add_graph('actionGraph', nodes, edges)\n",
    "\n",
    "\n",
    "nodes = [\n",
    "    (\"a\", {\"type\": {\"Adult\"}, \"age\": {43, 35, 18}, \"name\": {\"Paul\", \"Jack\", \"Robert\"}, \"hobby\": {\"hiking\", \"music\", \"sport\"}}),\n",
    "    (\"b\", {\"type\": {\"Child\"}, \"age\": {12, 18}, \"name\": {\"Paul\", \"Joe\"}})\n",
    "]\n",
    "edges = [\n",
    "    (\"a\", \"a\", {\"type\": {\"friends\", \"colleagues\"}}),\n",
    "    (\"b\", \"a\", {\"type\": {\"child_of\"}}),\n",
    "    (\"b\", \"b\", {\"type\": {\"friends\", \"enemies\"}})\n",
    "]\n",
    "h.add_graph('metaModel', nodes, edges)\n",
    "\n",
    "mapping = {\n",
    "    \"a\":\"a\",\n",
    "    \"b\":\"a\",\n",
    "    \"c\":\"a\",\n",
    "    \"d\":\"b\",\n",
    "    \"e\":\"b\"\n",
    "}\n",
    "h.add_typing('actionGraph', 'metaModel', mapping)"
   ]
  },
  {
   "cell_type": "code",
   "execution_count": 2,
   "metadata": {
    "collapsed": true
   },
   "outputs": [],
   "source": [
    "pattern = nx.DiGraph()\n",
    "pattern.add_node(\"child\", type=\"Child\")\n",
    "\n",
    "rule = Rule.from_transform(pattern)\n",
    "clone_name, _ = rule.inject_clone_node(\"child\", \"teenager\")\n",
    "rule.inject_remove_node_attrs(clone_name, {\"type\": \"Child\"})\n",
    "rule.inject_add_node_attrs(clone_name, {\"type\": \"Teenager\"})\n",
    "\n",
    "instance = {\n",
    "    \"child\": \"b\"\n",
    "}\n",
    "\n",
    "p_typing = {\n",
    "    \"actionGraph\": {\n",
    "        \"d\": \"child\",\n",
    "        \"e\": clone_name\n",
    "    }\n",
    "}"
   ]
  },
  {
   "cell_type": "code",
   "execution_count": 3,
   "metadata": {},
   "outputs": [
    {
     "data": {
      "text/plain": [
       "{'teenager': {'type': {'Child'}}}"
      ]
     },
     "execution_count": 3,
     "metadata": {},
     "output_type": "execute_result"
    }
   ],
   "source": [
    "rule.removed_node_attrs()"
   ]
  },
  {
   "cell_type": "code",
   "execution_count": 4,
   "metadata": {
    "scrolled": false
   },
   "outputs": [
    {
     "data": {
      "text/plain": [
       "(<regraph.neo4j.hierarchy.Neo4jHierarchy at 0x7f078403feb8>,\n",
       " {'child': 'b1', 'teenager': 'b'})"
      ]
     },
     "execution_count": 4,
     "metadata": {},
     "output_type": "execute_result"
    }
   ],
   "source": [
    "h.rewrite(\"metaModel\", rule, instance, p_typing=p_typing)"
   ]
  },
  {
   "cell_type": "code",
   "execution_count": null,
   "metadata": {
    "collapsed": true
   },
   "outputs": [],
   "source": [
    "pattern = nx.DiGraph()\n",
    "pattern.add_nodes_from([\"x\", \"y\"])\n",
    "pattern.add_edges_from([()])"
   ]
  }
 ],
 "metadata": {
  "kernelspec": {
   "display_name": "Python 3",
   "language": "python",
   "name": "python3"
  },
  "language_info": {
   "codemirror_mode": {
    "name": "ipython",
    "version": 3
   },
   "file_extension": ".py",
   "mimetype": "text/x-python",
   "name": "python",
   "nbconvert_exporter": "python",
   "pygments_lexer": "ipython3",
   "version": "3.6.8"
  }
 },
 "nbformat": 4,
 "nbformat_minor": 2
}
