{
 "cells": [
  {
   "cell_type": "code",
   "execution_count": 1,
   "metadata": {
    "collapsed": true
   },
   "outputs": [],
   "source": [
    "import networkx as nx\n",
    "\n",
    "import regraph.primitives as pr\n",
    "from regraph import Rule, plot_rule\n",
    "from regraph.neo4j import Neo4jGraph\n",
    "from regraph.neo4j.cypher_utils import *"
   ]
  },
  {
   "cell_type": "code",
   "execution_count": 2,
   "metadata": {},
   "outputs": [
    {
     "data": {
      "text/plain": [
       "<neo4j.BoltStatementResult at 0x7f43114a2a20>"
      ]
     },
     "execution_count": 2,
     "metadata": {},
     "output_type": "execute_result"
    }
   ],
   "source": [
    "# initialize the neo4j driver, wrappped into Neo4jGraph object\n",
    "g = Neo4jGraph(uri=\"bolt://localhost:7687\", user=\"neo4j\", password=\"admin\")\n",
    "# here we clear the db\n",
    "res = g._clear()\n",
    "nodes = [\n",
    "    (\"R\", {\"name\": \"Jack\", \"age\": 23, \"hobby\": {\"hiking\", \"music\"}, \"weight\": 75}), \n",
    "    (\"Sh2\", {\"name\": \"Bob\", \"age\": 24, \"hobby\": {\"sport\", \"music\"}, \"height\": 178}), \n",
    "    (\"P\", {\"name\": \"Paul\"}), \n",
    "    (\"S\", {\"name\": \"Roberto\"})\n",
    "]\n",
    "edges = [\n",
    "    (\"R\", \"Sh2\", {\"type\": {\"friends\", \"colleagues\"}}), \n",
    "    (\"Sh2\", \"P\", {\"type\": \"enemies\"}), \n",
    "    (\"R\", \"P\"),\n",
    "    (\"S\", \"P\", {\"type\": \"friends\"}),\n",
    "]\n",
    "g.add_nodes_from(nodes)\n",
    "g.add_edges_from(edges)"
   ]
  },
  {
   "cell_type": "code",
   "execution_count": 3,
   "metadata": {
    "collapsed": true
   },
   "outputs": [],
   "source": [
    "lhs = nx.DiGraph()\n",
    "pr.add_nodes_from(lhs, [(\"a\",  {\"hobby\": {\"hiking\", \"music\"}}), \"b\", \"c\"])\n",
    "pr.add_edges_from(lhs, [(\"a\", \"b\"), (\"b\", \"c\"), (\"a\", \"c\")])"
   ]
  },
  {
   "cell_type": "code",
   "execution_count": 4,
   "metadata": {
    "collapsed": true
   },
   "outputs": [],
   "source": [
    "p = nx.DiGraph()\n",
    "pr.add_nodes_from(p, [(\"a1\",  {\"hobby\": {\"hiking\"}}), (\"a2\",{\"hobby\": {\"music\"}}), \"b1\", \"b2\", \"c1\", \"c2\"])\n",
    "pr.add_edges_from(p, [(\"a1\", \"b1\"), (\"b1\", \"c1\"), (\"a1\", \"c1\"), (\"a2\", \"b2\"), (\"b2\", \"c2\"), (\"a2\", \"c2\")])"
   ]
  },
  {
   "cell_type": "code",
   "execution_count": 5,
   "metadata": {
    "collapsed": true
   },
   "outputs": [],
   "source": [
    "rule = Rule(p, lhs, p_lhs={\"a1\": \"a\", \"a2\": \"a\", \"b1\": \"b\", \"b2\": \"b\", \"c1\": \"c\", \"c2\": \"c\"})"
   ]
  },
  {
   "cell_type": "code",
   "execution_count": 6,
   "metadata": {
    "scrolled": true
   },
   "outputs": [
    {
     "name": "stderr",
     "output_type": "stream",
     "text": [
      "/home/eugenia/anaconda3/envs/kami/lib/python3.6/site-packages/matplotlib-3.0.2-py3.6-linux-x86_64.egg/matplotlib/cbook/__init__.py:424: MatplotlibDeprecationWarning: \n",
      "Passing one of 'on', 'true', 'off', 'false' as a boolean is deprecated; use an actual boolean (True/False) instead.\n",
      "  warn_deprecated(\"2.2\", \"Passing one of 'on', 'true', 'off', 'false' as a \"\n"
     ]
    },
    {
     "data": {
      "image/png": "[encoded data removed]",
      "text/plain": [
       "<Figure size 1008x216 with 3 Axes>"
      ]
     },
     "metadata": {},
     "output_type": "display_data"
    }
   ],
   "source": [
    "plot_rule(rule)"
   ]
  },
  {
   "cell_type": "code",
   "execution_count": 7,
   "metadata": {
    "collapsed": true
   },
   "outputs": [],
   "source": [
    "i = pr.find_matching(g, rule.lhs)"
   ]
  },
  {
   "cell_type": "code",
   "execution_count": 8,
   "metadata": {},
   "outputs": [
    {
     "name": "stdout",
     "output_type": "stream",
     "text": [
      "[{'a': 'R', 'b': 'Sh2', 'c': 'P'}]\n"
     ]
    }
   ],
   "source": [
    "print(i)"
   ]
  },
  {
   "cell_type": "code",
   "execution_count": 9,
   "metadata": {},
   "outputs": [
    {
     "data": {
      "text/plain": [
       "{'a1': 'R',\n",
       " 'b1': 'Sh2',\n",
       " 'c2': '154740',\n",
       " 'b2': '154739',\n",
       " 'a2': '154738',\n",
       " 'c1': 'P'}"
      ]
     },
     "execution_count": 9,
     "metadata": {},
     "output_type": "execute_result"
    }
   ],
   "source": [
    "g.rewrite(rule, i[0])"
   ]
  },
  {
   "cell_type": "code",
   "execution_count": 10,
   "metadata": {},
   "outputs": [
    {
     "data": {
      "text/plain": [
       "{('a1', 'b2'),\n",
       " ('a1', 'c2'),\n",
       " ('a2', 'b1'),\n",
       " ('a2', 'c1'),\n",
       " ('b1', 'c2'),\n",
       " ('b2', 'c1')}"
      ]
     },
     "execution_count": 10,
     "metadata": {},
     "output_type": "execute_result"
    }
   ],
   "source": [
    "rule.removed_edges()"
   ]
  },
  {
   "cell_type": "code",
   "execution_count": null,
   "metadata": {
    "collapsed": true
   },
   "outputs": [],
   "source": []
  }
 ],
 "metadata": {
  "kernelspec": {
   "display_name": "Python (kami)",
   "language": "python",
   "name": "kami"
  },
  "language_info": {
   "codemirror_mode": {
    "name": "ipython",
    "version": 3
   },
   "file_extension": ".py",
   "mimetype": "text/x-python",
   "name": "python",
   "nbconvert_exporter": "python",
   "pygments_lexer": "ipython3",
   "version": "3.7.3"
  }
 },
 "nbformat": 4,
 "nbformat_minor": 2
}
