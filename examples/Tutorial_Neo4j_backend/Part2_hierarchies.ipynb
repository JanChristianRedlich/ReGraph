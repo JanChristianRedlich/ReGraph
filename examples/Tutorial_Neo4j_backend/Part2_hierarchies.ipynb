{
 "cells": [
  {
   "cell_type": "markdown",
   "metadata": {
    "collapsed": true
   },
   "source": [
    "# ReGraph tutorial (Neo4j backend)\n",
    "\n",
    "\n",
    "## Part 2: Rewriting hierarchies of graph"
   ]
  },
  {
   "cell_type": "markdown",
   "metadata": {},
   "source": [
    "ReGraph allows to create a hierarchies of graphs related by means of _homomorphisms_ (or _typing_). In the context of a hierarchy, if there exists a homomorphism $G \\rightarrow T$, we say that graph $G$ is typed by a graph $T$. Graph hierarchy is a DAG, where nodes are graphs and edges are homomorphisms. A homomorphism  maps every node of $G$ to some node in $T$ (a type) in such a way that:\n",
    "- edges are preserved\n",
    "- attributes of both nodes and edges are preserved \n",
    "\n",
    "ReGraph provides the data structure `Neo4jHierarchy` that encodes a graph hierarchy as a property graph stored in a Neo4j database. This encoding represents each graph in a hierarchy with nodes of the database labeled by a unique label corresponding to the ID of the corresponding graph in the hierarchy. For example, the following Cypher query mathces all the nodes belonging to the graph `graphID` in the hierarchy:\n",
    "\n",
    "> MATCH (n:graphID) RETURN n\n",
    "\n",
    "The edges in graphs are labeled as `edge` and the typing edges are labeled as `typing`. We can then easily find the typing of nodes in `graph1` by `graph2` with the query:\n",
    "\n",
    "> MATCH (n:graph1)-[:typing]->(m:graph2) RETURN n, m\n",
    "\n",
    "The hierarchy skeleton is represented by nodes labeled as `graph` be default. So, matching the nodes of the hierarchy skeleton can be done with the following query:\n",
    "\n",
    "> MATCH (n:graph) return n"
   ]
  },
  {
   "cell_type": "code",
   "execution_count": 2,
   "metadata": {},
   "outputs": [],
   "source": [
    "from regraph import NXGraph, Neo4jHierarchy, Rule\n",
    "from regraph import plot_graph, plot_instance, plot_rule"
   ]
  },
  {
   "cell_type": "code",
   "execution_count": 3,
   "metadata": {},
   "outputs": [],
   "source": [
    "%matplotlib inline"
   ]
  },
  {
   "cell_type": "markdown",
   "metadata": {},
   "source": [
    "### 1. Creating and modifying a hierarchy object\n",
    "\n",
    "Consider the following example of a simple graph hierarchy. The two graphs $G$ and $T$ are being created and added to the heirarchy. Afterwards a typing homomorphism between $G$ and $T$ is added, so that every node of $G$ is typed by some node in $T$.\n"
   ]
  },
  {
   "cell_type": "code",
   "execution_count": 4,
   "metadata": {},
   "outputs": [],
   "source": [
    "# Define graph G\n",
    "g = NXGraph()\n",
    "g.add_nodes_from([\"protein\", \"binding\", \"region\", \"compound\"])\n",
    "g.add_edges_from([(\"region\", \"protein\"), (\"protein\", \"binding\"), (\"region\", \"binding\"), (\"compound\", \"binding\")])\n",
    "\n",
    "# Define graph T\n",
    "t = NXGraph()\n",
    "t.add_nodes_from([\"action\", \"agent\"])\n",
    "t.add_edges_from([(\"agent\", \"agent\"), (\"agent\", \"action\")])"
   ]
  },
  {
   "cell_type": "code",
   "execution_count": 5,
   "metadata": {},
   "outputs": [
    {
     "name": "stdout",
     "output_type": "stream",
     "text": [
      "\n",
      "Graphs:\n",
      "\n",
      "G {'name': {'Simple protein interaction'}}\n",
      "\n",
      "T {'name': {'Agent interaction'}}\n",
      "\n",
      "Typing homomorphisms: \n",
      "G -> T: {}\n",
      "\n",
      "Relations:\n",
      "\n"
     ]
    }
   ],
   "source": [
    "# Create a hierarchy\n",
    "simple_hierarchy = Neo4jHierarchy(uri=\"bolt://localhost:7687\", user=\"neo4j\", password=\"admin\")\n",
    "\n",
    "# If you run this notebooks multiple times, you need to clear the graph in the db\n",
    "simple_hierarchy._clear()\n",
    "\n",
    "simple_hierarchy.add_graph(\"G\", g, {\"name\": \"Simple protein interaction\"})\n",
    "simple_hierarchy.add_graph(\"T\", t, {\"name\": \"Agent interaction\"})\n",
    "simple_hierarchy.add_typing(\n",
    "    \"G\", \"T\",\n",
    "    {\"protein\": \"agent\",\n",
    "     \"region\": \"agent\",\n",
    "     \"compound\": \"agent\",\n",
    "     \"binding\": \"action\",\n",
    "    }\n",
    ")\n",
    "print(simple_hierarchy)"
   ]
  },
  {
   "cell_type": "markdown",
   "metadata": {},
   "source": [
    "The method `get_graph` returns the graph object corresponding to the provided graph id."
   ]
  },
  {
   "cell_type": "code",
   "execution_count": 6,
   "metadata": {},
   "outputs": [
    {
     "data": {
      "text/plain": [
       "regraph.backends.neo4j.graphs.Neo4jGraph"
      ]
     },
     "execution_count": 6,
     "metadata": {},
     "output_type": "execute_result"
    }
   ],
   "source": [
    "type(simple_hierarchy.get_graph(\"T\"))"
   ]
  },
  {
   "cell_type": "markdown",
   "metadata": {},
   "source": [
    "The method `get_typing` returns the dictionary object corresponding to the provided hierarchy edge and representing the associated graph homomorphism."
   ]
  },
  {
   "cell_type": "code",
   "execution_count": 7,
   "metadata": {},
   "outputs": [
    {
     "data": {
      "text/plain": [
       "{'binding': 'action',\n",
       " 'region': 'agent',\n",
       " 'protein': 'agent',\n",
       " 'compound': 'agent'}"
      ]
     },
     "execution_count": 7,
     "metadata": {},
     "output_type": "execute_result"
    }
   ],
   "source": [
    "simple_hierarchy.get_typing(\"G\", \"T\")"
   ]
  },
  {
   "cell_type": "markdown",
   "metadata": {},
   "source": [
    "### 2. Rewriting of objects in a hierarchy\n",
    "\n",
    "ReGraph implements the rewriting technique called `sesqui-pushout rewriting` that allows to transform graphs by applying rules through their instances (matchings). Rewriting an individual graphs in a hierarchy may require an update of other graphs and typings in this hierarchy, such updates are called _propagation_ and are distinguished into two types: _backward_ and _forward_ propagation.\n",
    "\n",
    "_Backward propagation briefly_: \n",
    "- If some graph elements (nodes/edges or attributes) are removed from a graph in the hierarchy, then all the respective elements that are typed by them in the ancestor graphs **should** be removed.\n",
    "- If a graph node is cloned, then for every instance of this node (every node that is typed by the clonned node) in the ancestor graphs we either: (a) specify to which clone it corresponds or (b) clone it.\n",
    "\n",
    "_Forward propagation briefly_: \n",
    "- If some graph nodes are merged and these nodes are typed by different nodes in a descendant graph, the corresponding nodes in the descendant graph **should** be merged.\n",
    "- If a new graph element (node/edge or attribute) is added, then for all the descendent graphs in the hierarchy we either (a) select an existing element to type the added element or (b) add a new element to type the added element.\n",
    "\n",
    "For more details, please see [here](https://link.springer.com/chapter/10.1007/978-3-030-23611-3_9).\n",
    "\n",
    "ReGraph allows to rewrite individual graphs situated in the hierarchy using the method `rewrite` of `Neo4jHierarchy`. The rewriting can be done in two modes:\n",
    "\n",
    "1. _Strict rewriting_ rewriting that does not allow propagation.\n",
    "\n",
    "2. _Not strict rewriting_ that allows propagation.\n",
    "\n",
    "\n",
    "The `rewrite` takes as the input the following parameters:\n",
    "\n",
    "- `graph_id`, ID of the graph in the hierarchy to rewrite,\n",
    "- `rule`, a rule object to apply,\n",
    "- `instance`, a dictionary containing an instance of the lhs of the rule in the graph subject to rewriting, by default, tries to construct identity morphism of the nodes of the pattern,\n",
    "- `p_typing`, a dictionary containing typing of graphs in the hierarchy by the interface of the rule, keys are IDs of hierarchy graphs, values are dictionaries containing the mapping of nodes from the hierarchy graphs to the inteface nodes (note that a node from a graph can be typed by a set of nodes in the interface of the rule, e.g. if we want to perform cloning of some types, etc).\n",
    "- `rhs_typing`, a dictionary containing typing of the rhs by graphs of the hierarchy, keys are ids of hierarchy graphs, values are dictionaries containing the mapping of nodes from the lhs to the nodes of the typing graph given by the respective key of the value (note that a node from the rhs can be typed by a set of nodes of some graph, e.g. if we want to perform merging of some types, etc),\n",
    "- `strict`, flag indicating if rewriting is strict, then any propagation is not allowed.\n",
    "\n",
    "    \n"
   ]
  },
  {
   "cell_type": "markdown",
   "metadata": {},
   "source": [
    "#### 2.1. Strict rewriting "
   ]
  },
  {
   "cell_type": "markdown",
   "metadata": {},
   "source": [
    "Let us create a `Rule` object containing a rule we would like to apply."
   ]
  },
  {
   "cell_type": "code",
   "execution_count": 8,
   "metadata": {
    "scrolled": true
   },
   "outputs": [
    {
     "name": "stderr",
     "output_type": "stream",
     "text": [
      "/home/raimon/anaconda3/lib/python3.7/site-packages/networkx/drawing/nx_pylab.py:579: MatplotlibDeprecationWarning: \n",
      "The iterable function was deprecated in Matplotlib 3.1 and will be removed in 3.3. Use np.iterable instead.\n",
      "  if not cb.iterable(width):\n",
      "/home/raimon/anaconda3/lib/python3.7/site-packages/networkx/drawing/nx_pylab.py:676: MatplotlibDeprecationWarning: \n",
      "The iterable function was deprecated in Matplotlib 3.1 and will be removed in 3.3. Use np.iterable instead.\n",
      "  if cb.iterable(node_size):  # many node sizes\n"
     ]
    },
    {
     "data": {
      "image/png": "[encoded data removed]",
      "text/plain": [
       "<Figure size 1008x216 with 3 Axes>"
      ]
     },
     "metadata": {},
     "output_type": "display_data"
    }
   ],
   "source": [
    "lhs = NXGraph()\n",
    "lhs.add_nodes_from([\"a\", \"b\"])\n",
    "lhs.add_edges_from([(\"a\", \"b\")])\n",
    "\n",
    "p = NXGraph()\n",
    "p.add_nodes_from([\"a\", \"b\"])\n",
    "p.add_edges_from([])\n",
    "\n",
    "rhs = NXGraph()\n",
    "rhs.add_nodes_from([\"a\", \"b\", \"c\"])\n",
    "rhs.add_edges_from([(\"c\", \"a\"), (\"c\", \"b\")])\n",
    "\n",
    "# By default if `p_lhs` and `p_rhs` are not provided\n",
    "# to a rule, it tries to construct this homomorphisms\n",
    "# automatically by matching the names. In this case we\n",
    "# have defined lhs, p and rhs in such a way that that\n",
    "# the names of the matching nodes correspond\n",
    "rule = Rule(p, lhs, rhs)\n",
    "plot_rule(rule)"
   ]
  },
  {
   "cell_type": "markdown",
   "metadata": {},
   "source": [
    "The created rule removes the edge `1->2`, adds the new node `3` and two edges `3->1` and `3->2`."
   ]
  },
  {
   "cell_type": "markdown",
   "metadata": {},
   "source": [
    "Let us find instances of the created rule in the graph `G`."
   ]
  },
  {
   "cell_type": "code",
   "execution_count": 9,
   "metadata": {
    "scrolled": false
   },
   "outputs": [
    {
     "name": "stdout",
     "output_type": "stream",
     "text": [
      "Instances:  [{'a': 'protein', 'b': 'binding'}, {'a': 'region', 'b': 'binding'}, {'a': 'region', 'b': 'protein'}, {'a': 'compound', 'b': 'binding'}]\n"
     ]
    }
   ],
   "source": [
    "instances = simple_hierarchy.find_matching(\"G\", rule.lhs)\n",
    "print(\"Instances: \", instances)"
   ]
  },
  {
   "cell_type": "markdown",
   "metadata": {},
   "source": [
    "Let us fixed the desired instance: we would like to remove the edge from `protein` to `binding` and add some new node connecting them."
   ]
  },
  {
   "cell_type": "code",
   "execution_count": 10,
   "metadata": {},
   "outputs": [],
   "source": [
    "instance = {\n",
    "    \"a\": \"protein\",\n",
    "    \"b\": \"binding\"\n",
    "}"
   ]
  },
  {
   "cell_type": "markdown",
   "metadata": {},
   "source": [
    "We try to apply the rule to the selected instance as is in the _strict_ rewriting mode."
   ]
  },
  {
   "cell_type": "code",
   "execution_count": 11,
   "metadata": {},
   "outputs": [
    {
     "name": "stdout",
     "output_type": "stream",
     "text": [
      "Error message:  Rewriting is strict (no propagation of types is allowed), typing of the added nodes '{'c'}' by 'T' is required\n",
      "Type:  <class 'regraph.exceptions.RewritingError'>\n"
     ]
    }
   ],
   "source": [
    "try:\n",
    "    rhs_instance = simple_hierarchy.rewrite(\"G\", rule, instance, strict=True)\n",
    "except Exception as e:\n",
    "    print(\"Error message: \", e)\n",
    "    print(\"Type: \", type(e))"
   ]
  },
  {
   "cell_type": "markdown",
   "metadata": {},
   "source": [
    "We have failed to rewrite `G`, because we have not specified typing for the newly added node `3`. Let us try again, but this time we will prove such typing."
   ]
  },
  {
   "cell_type": "code",
   "execution_count": 12,
   "metadata": {},
   "outputs": [],
   "source": [
    "rhs_typing = {\n",
    "    \"T\": {\"c\": \"agent\"}\n",
    "}"
   ]
  },
  {
   "cell_type": "code",
   "execution_count": 13,
   "metadata": {},
   "outputs": [],
   "source": [
    "rhs_instance = simple_hierarchy.rewrite(\n",
    "    \"G\", rule, instance, rhs_typing=rhs_typing, strict=True)"
   ]
  },
  {
   "cell_type": "code",
   "execution_count": 14,
   "metadata": {
    "scrolled": true
   },
   "outputs": [
    {
     "name": "stdout",
     "output_type": "stream",
     "text": [
      "Instance of the RHS in G {'a': 'protein', 'b': 'binding', 'c': 'c'}\n"
     ]
    }
   ],
   "source": [
    "print(\"Instance of the RHS in G\", rhs_instance)"
   ]
  },
  {
   "cell_type": "markdown",
   "metadata": {},
   "source": [
    "We will now create a rule that applied to `T` and that clones the node `agent` into two nodes."
   ]
  },
  {
   "cell_type": "code",
   "execution_count": 15,
   "metadata": {},
   "outputs": [
    {
     "data": {
      "image/png": "[encoded data removed]",
      "text/plain": [
       "<Figure size 1008x216 with 3 Axes>"
      ]
     },
     "metadata": {},
     "output_type": "display_data"
    }
   ],
   "source": [
    "lhs = NXGraph()\n",
    "lhs.add_nodes_from([\"agent\"])\n",
    "\n",
    "rule = Rule.from_transform(lhs)\n",
    "_, rhs_clone = rule.inject_clone_node(\"agent\")\n",
    "plot_rule(rule)"
   ]
  },
  {
   "cell_type": "code",
   "execution_count": 16,
   "metadata": {},
   "outputs": [],
   "source": [
    "instance = {\n",
    "    \"agent\": \"agent\"\n",
    "}"
   ]
  },
  {
   "cell_type": "markdown",
   "metadata": {},
   "source": [
    "We try to apply the created rule to the graph `T` in the strict mode."
   ]
  },
  {
   "cell_type": "code",
   "execution_count": 17,
   "metadata": {},
   "outputs": [
    {
     "name": "stdout",
     "output_type": "stream",
     "text": [
      "Error message:  Rewriting is strict (no propagation of clones is allowed), the cloned node 'agent' in 'T' has instances '['region', 'protein', 'compound', 'c']' in 'G' and their typing by P is not specified\n",
      "Type:  <class 'regraph.exceptions.RewritingError'>\n"
     ]
    }
   ],
   "source": [
    "try:\n",
    "    rhs_instance = simple_hierarchy.rewrite(\"T\", rule, instance, strict=True)\n",
    "except Exception as e:\n",
    "    print(\"Error message: \", e)\n",
    "    print(\"Type: \", type(e))"
   ]
  },
  {
   "cell_type": "markdown",
   "metadata": {},
   "source": [
    "We have failed to rewrite `T`, because we have not specified typing for instances of `agent` in $p$. Let us try again, but this time we will prove such typing."
   ]
  },
  {
   "cell_type": "code",
   "execution_count": 18,
   "metadata": {},
   "outputs": [],
   "source": [
    "p_typing = {\n",
    "    \"G\": {\n",
    "        'protein': 'agent',\n",
    "        'region': 'agent',\n",
    "        'compound': rhs_clone, \n",
    "        'c': 'agent'\n",
    "    }\n",
    "}"
   ]
  },
  {
   "cell_type": "code",
   "execution_count": 19,
   "metadata": {},
   "outputs": [],
   "source": [
    "rhs_instance = simple_hierarchy.rewrite(\"T\", rule, instance, p_typing=p_typing, strict=True)"
   ]
  },
  {
   "cell_type": "code",
   "execution_count": 20,
   "metadata": {
    "scrolled": true
   },
   "outputs": [
    {
     "name": "stdout",
     "output_type": "stream",
     "text": [
      "Instance of the RHS in G {'agent': 'agent1', 'agent1': 'agent'}\n"
     ]
    }
   ],
   "source": [
    "print(\"Instance of the RHS in G\", rhs_instance)"
   ]
  },
  {
   "cell_type": "markdown",
   "metadata": {},
   "source": [
    "Let us relabel nodes in `T`."
   ]
  },
  {
   "cell_type": "code",
   "execution_count": 21,
   "metadata": {},
   "outputs": [],
   "source": [
    "simple_hierarchy.relabel_graph_node('T', rhs_instance['agent'], 'organic_agent')\n",
    "simple_hierarchy.relabel_graph_node('T', rhs_instance[rhs_clone], 'non_organic_agent')"
   ]
  },
  {
   "cell_type": "code",
   "execution_count": 22,
   "metadata": {},
   "outputs": [
    {
     "name": "stdout",
     "output_type": "stream",
     "text": [
      "{'binding': 'action', 'compound': 'non_organic_agent', 'region': 'organic_agent', 'protein': 'organic_agent', 'c': 'organic_agent'}\n"
     ]
    }
   ],
   "source": [
    "print(simple_hierarchy.get_typing(\"G\", \"T\"))"
   ]
  },
  {
   "cell_type": "markdown",
   "metadata": {},
   "source": [
    "#### 2.2. Rewriting and propagation"
   ]
  },
  {
   "cell_type": "markdown",
   "metadata": {},
   "source": [
    "To illustrate rewriting with propagation, let us consider a slighlty more sophisticated hierarchy."
   ]
  },
  {
   "cell_type": "code",
   "execution_count": 23,
   "metadata": {},
   "outputs": [],
   "source": [
    "hierarchy = Neo4jHierarchy(uri=\"bolt://localhost:7687\", user=\"neo4j\", password=\"admin\")\n",
    "hierarchy._clear()\n",
    "\n",
    "colors = NXGraph()\n",
    "colors.add_nodes_from([\n",
    "        \"green\", \"red\"\n",
    "    ])\n",
    "colors.add_edges_from([\n",
    "        (\"red\", \"green\"),\n",
    "        (\"red\", \"red\"),\n",
    "        (\"green\", \"green\")\n",
    "    ])\n",
    "hierarchy.add_graph(\"colors\", colors)\n",
    "\n",
    "shapes = NXGraph()\n",
    "shapes.add_nodes_from([\"circle\", \"square\"])\n",
    "shapes.add_edges_from([\n",
    "        (\"circle\", \"square\"),\n",
    "        (\"square\", \"circle\"),\n",
    "        (\"circle\", \"circle\")\n",
    "    ])\n",
    "hierarchy.add_graph(\"shapes\", shapes)\n",
    "\n",
    "quality = NXGraph()\n",
    "quality.add_nodes_from([\"good\", \"bad\"])\n",
    "quality.add_edges_from([\n",
    "        (\"bad\", \"bad\"),\n",
    "        (\"bad\", \"good\"),\n",
    "        (\"good\", \"good\")\n",
    "    ])\n",
    "hierarchy.add_graph(\"quality\", quality)\n",
    "\n",
    "g1 = NXGraph()\n",
    "g1.add_nodes_from([\n",
    "    \"red_circle\",\n",
    "    \"red_square\",\n",
    "])\n",
    "g1.add_edges_from([\n",
    "    (\"red_circle\", \"red_square\"),\n",
    "    (\"red_circle\", \"red_circle\"),\n",
    "    (\"red_square\", \"red_circle\")\n",
    "])\n",
    "g1_colors = {\n",
    "    \"red_circle\": \"red\",\n",
    "    \"red_square\": \"red\",\n",
    "}\n",
    "g1_shapes = {\n",
    "    \"red_circle\": \"circle\",\n",
    "    \"red_square\": \"square\",\n",
    "}\n",
    "\n",
    "hierarchy.add_graph(\"g1\", g1)\n",
    "hierarchy.add_typing(\"g1\", \"colors\", g1_colors)\n",
    "hierarchy.add_typing(\"g1\", \"shapes\", g1_shapes)\n",
    "\n",
    "g2 = NXGraph()\n",
    "g2.add_nodes_from([\n",
    "    \"good_circle\",\n",
    "    \"good_square\",\n",
    "    \"bad_circle\",\n",
    "])\n",
    "g2.add_edges_from([\n",
    "    (\"good_circle\", \"good_square\"),\n",
    "    (\"good_square\", \"good_circle\"),\n",
    "    (\"bad_circle\", \"good_circle\"),\n",
    "    (\"bad_circle\", \"bad_circle\"),\n",
    "])\n",
    "g2_shapes = {\n",
    "    \"good_circle\": \"circle\",\n",
    "    \"good_square\": \"square\",\n",
    "    \"bad_circle\": \"circle\"\n",
    "}\n",
    "g2_quality = {\n",
    "    \"good_circle\": \"good\",\n",
    "    \"good_square\": \"good\",\n",
    "    \"bad_circle\": \"bad\",\n",
    "}\n",
    "\n",
    "hierarchy.add_graph(\"g2\", g2)\n",
    "hierarchy.add_typing(\"g2\", \"shapes\", g2_shapes)\n",
    "hierarchy.add_typing(\"g2\", \"quality\", g2_quality)\n",
    "\n",
    "g3 = NXGraph()\n",
    "g3.add_nodes_from([\n",
    "    \"good_red_circle\",\n",
    "    \"bad_red_circle\",\n",
    "    \"good_red_square\",\n",
    "])\n",
    "g3.add_edges_from([\n",
    "    (\"bad_red_circle\", \"good_red_circle\"),\n",
    "    (\"good_red_square\", \"good_red_circle\"),\n",
    "    (\"good_red_circle\", \"good_red_square\")\n",
    "])\n",
    "\n",
    "g3_g1 = {\n",
    "    \"good_red_circle\": \"red_circle\",\n",
    "    \"bad_red_circle\": \"red_circle\",\n",
    "    \"good_red_square\": \"red_square\"\n",
    "}\n",
    "\n",
    "g3_g2 = {\n",
    "    \"good_red_circle\": \"good_circle\",\n",
    "    \"bad_red_circle\": \"bad_circle\",\n",
    "    \"good_red_square\": \"good_square\",\n",
    "}\n",
    "\n",
    "hierarchy.add_graph(\"g3\", g3)\n",
    "hierarchy.add_typing(\"g3\", \"g1\", g3_g1)\n",
    "hierarchy.add_typing(\"g3\", \"g2\", g3_g2)"
   ]
  },
  {
   "cell_type": "code",
   "execution_count": 24,
   "metadata": {},
   "outputs": [
    {
     "name": "stdout",
     "output_type": "stream",
     "text": [
      "\n",
      "Graphs:\n",
      "\n",
      "colors {}\n",
      "\n",
      "quality {}\n",
      "\n",
      "shapes {}\n",
      "\n",
      "g1 {}\n",
      "\n",
      "g2 {}\n",
      "\n",
      "g3 {}\n",
      "\n",
      "Typing homomorphisms: \n",
      "g1 -> shapes: {}\n",
      "g1 -> colors: {}\n",
      "g2 -> quality: {}\n",
      "g2 -> shapes: {}\n",
      "g3 -> g2: {}\n",
      "g3 -> g1: {}\n",
      "\n",
      "Relations:\n",
      "\n"
     ]
    }
   ],
   "source": [
    "print(hierarchy)"
   ]
  },
  {
   "cell_type": "code",
   "execution_count": 25,
   "metadata": {},
   "outputs": [
    {
     "name": "stdout",
     "output_type": "stream",
     "text": [
      "Graph 'colors', nodes: ['green', 'red']\n",
      "Graph 'quality', nodes: ['good', 'bad']\n",
      "Graph 'shapes', nodes: ['circle', 'square']\n",
      "Graph 'g1', nodes: ['red_circle', 'red_square']\n",
      "Graph 'g2', nodes: ['good_circle', 'good_square', 'bad_circle']\n",
      "Graph 'g3', nodes: ['good_red_circle', 'bad_red_circle', 'good_red_square']\n"
     ]
    }
   ],
   "source": [
    "for graph in hierarchy.graphs():\n",
    "    print(\"Graph '{}', nodes: {}\".format(graph, hierarchy.get_graph(graph).nodes()))"
   ]
  },
  {
   "cell_type": "markdown",
   "metadata": {},
   "source": [
    "Some of the graphs in the hierarchy are now typed by multiple graphs, which is reflected in the types of nodes, as in the example below:"
   ]
  },
  {
   "cell_type": "code",
   "execution_count": 26,
   "metadata": {
    "scrolled": true
   },
   "outputs": [
    {
     "name": "stdout",
     "output_type": "stream",
     "text": [
      "Node types in G3:\n",
      "\n",
      "good_red_circle {'g2': 'good_circle', 'g1': 'red_circle'}\n",
      "bad_red_circle {'g2': 'bad_circle', 'g1': 'red_circle'}\n",
      "good_red_square {'g2': 'good_square', 'g1': 'red_square'}\n"
     ]
    }
   ],
   "source": [
    "print(\"Node types in G3:\\n\")\n",
    "for node in hierarchy.get_graph(\"g3\").nodes():\n",
    "    print(node, hierarchy.node_type(\"g3\", node))"
   ]
  },
  {
   "cell_type": "markdown",
   "metadata": {},
   "source": [
    "#### 2.3. Rewriting and propagation\n",
    "\n",
    "We now show how graph rewriting can be performed in such an hierarchy. In the previous example we perfromed strict rewriting in a hierarchy, where no propagation was performed.\n",
    "\n",
    "The following example illustrates how the ReGraph propagates the changes made by rewriting on any level to all the graphs (as well as the rules) typed by the one target of rewriting."
   ]
  },
  {
   "cell_type": "code",
   "execution_count": 27,
   "metadata": {
    "scrolled": true
   },
   "outputs": [
    {
     "data": {
      "image/png": "[encoded data removed]",
      "text/plain": [
       "<Figure size 1008x216 with 3 Axes>"
      ]
     },
     "metadata": {},
     "output_type": "display_data"
    }
   ],
   "source": [
    "lhs = NXGraph()\n",
    "lhs.add_nodes_from([\"a\", \"b\"])\n",
    "lhs.add_edges_from([\n",
    "        (\"a\", \"b\"),\n",
    "        (\"b\", \"a\")\n",
    "    ])\n",
    "p = NXGraph()\n",
    "p.add_nodes_from([\"a\", \"a1\", \"b\"])\n",
    "p.add_edges_from([\n",
    "        (\"a\", \"b\"),\n",
    "        (\"a1\", \"b\")\n",
    "    ])\n",
    "rhs = NXGraph.copy(p)\n",
    "\n",
    "rule = Rule(\n",
    "    p, lhs, rhs,\n",
    "    {\"a\": \"a\", \"a1\": \"a\", \"b\": \"b\"},\n",
    "    {\"a\": \"a\", \"a1\": \"a1\", \"b\": \"b\"},\n",
    ")\n",
    "plot_rule(rule)"
   ]
  },
  {
   "cell_type": "markdown",
   "metadata": {},
   "source": [
    "We have created a rule that clones the node `a` and reconnects the edges between `a` and `b`."
   ]
  },
  {
   "cell_type": "code",
   "execution_count": 28,
   "metadata": {},
   "outputs": [
    {
     "name": "stdout",
     "output_type": "stream",
     "text": [
      "Instances:\n",
      "{'a': 'circle', 'b': 'square'}\n",
      "{'a': 'square', 'b': 'circle'}\n"
     ]
    }
   ],
   "source": [
    "instances = hierarchy.find_matching(\"shapes\", lhs)\n",
    "print(\"Instances:\")\n",
    "for instance in instances:\n",
    "    print(instance)"
   ]
  },
  {
   "cell_type": "markdown",
   "metadata": {},
   "source": [
    "We rewrite the graph `shapes` with the fixed instances (so, the node `circle` is cloned)."
   ]
  },
  {
   "cell_type": "code",
   "execution_count": 29,
   "metadata": {
    "scrolled": false
   },
   "outputs": [],
   "source": [
    "rhs_instances = hierarchy.rewrite(\"shapes\", rule, {\"a\": \"circle\", \"b\": \"square\"})"
   ]
  },
  {
   "cell_type": "markdown",
   "metadata": {},
   "source": [
    "Observe the following plots, the cloning of circle was propagated to all the ancestors of `shapes`, because we didn't specify how to retype intances of `circle` for these ancestors using the `p_typing` parameter. This is an example of previously mentioned _backward propagation_."
   ]
  },
  {
   "cell_type": "code",
   "execution_count": 30,
   "metadata": {
    "scrolled": false
   },
   "outputs": [
    {
     "name": "stdout",
     "output_type": "stream",
     "text": [
      "Graph 'colors', nodes: ['green', 'red']\n",
      "Graph 'quality', nodes: ['good', 'bad']\n",
      "Graph 'shapes', nodes: ['circle', 'square', 'circle1']\n",
      "Graph 'g1', nodes: ['red_circle', 'red_square', 'red_circle1']\n",
      "Graph 'g2', nodes: ['good_circle', 'good_square', 'bad_circle', 'good_circle1', 'bad_circle1']\n",
      "Graph 'g3', nodes: ['bad_red_circle11', 'good_red_circle', 'bad_red_circle', 'good_red_square', 'good_red_circle1', 'bad_red_circle1', 'good_red_circle2', 'bad_red_circle2', 'good_red_circle11']\n"
     ]
    }
   ],
   "source": [
    "for graph in hierarchy.graphs():\n",
    "    print(\"Graph '{}', nodes: {}\".format(graph, hierarchy.get_graph(graph).nodes()))"
   ]
  },
  {
   "cell_type": "markdown",
   "metadata": {},
   "source": [
    "Let us now consider a small example of _forward propagation_. We will create a rule that performs some additions and merges of nodes."
   ]
  },
  {
   "cell_type": "code",
   "execution_count": 31,
   "metadata": {},
   "outputs": [],
   "source": [
    "pattern = NXGraph()\n",
    "pattern.add_nodes_from([\"a\", \"b\"])\n",
    "\n",
    "rule = Rule.from_transform(pattern)\n",
    "rhs_node = rule.inject_merge_nodes([\"a\", \"b\"])\n",
    "rule.inject_add_node(\"c\")\n",
    "rule.inject_add_edge(\"c\", rhs_node)"
   ]
  },
  {
   "cell_type": "code",
   "execution_count": 32,
   "metadata": {},
   "outputs": [],
   "source": [
    "instance = {\n",
    "    \"a\": \"good_circle\",\n",
    "    \"b\": \"bad_circle\",\n",
    "}"
   ]
  },
  {
   "cell_type": "markdown",
   "metadata": {},
   "source": [
    "Application of this rule will merge nodes `bad_circle` and `good_circle` in the graph `g2`. It with then add a new node and connect it with an edge to the merged node. Let us specify some typings of the new node in the RHS: we will set the new node to be typed as `circle` in the graph `shapes`."
   ]
  },
  {
   "cell_type": "code",
   "execution_count": 33,
   "metadata": {},
   "outputs": [],
   "source": [
    "rhs_typing = {\n",
    "    \"shapes\": {\n",
    "        \"c\": \"circle\"\n",
    "    }\n",
    "}"
   ]
  },
  {
   "cell_type": "code",
   "execution_count": 34,
   "metadata": {},
   "outputs": [
    {
     "name": "stdout",
     "output_type": "stream",
     "text": [
      "{'a_b': 'bad_circle_good_circle', 'c': 'c'}\n"
     ]
    }
   ],
   "source": [
    "rhs_instance = hierarchy.rewrite(\"g2\", rule, instance, rhs_typing=rhs_typing)\n",
    "print(rhs_instance)"
   ]
  },
  {
   "cell_type": "markdown",
   "metadata": {},
   "source": [
    "Observe the following graphs, as the resul of forward propagation nodes `good` and `bad` were merged in the graph `qualities`. In addition, a new node typing the node `c` in the rule was added to the graph `qualities`."
   ]
  },
  {
   "cell_type": "code",
   "execution_count": 35,
   "metadata": {},
   "outputs": [
    {
     "name": "stdout",
     "output_type": "stream",
     "text": [
      "Graph 'colors', nodes: ['green', 'red']\n",
      "Graph 'quality', nodes: ['bad_good', 'c']\n",
      "Graph 'shapes', nodes: ['circle', 'square', 'circle1']\n",
      "Graph 'g1', nodes: ['red_circle', 'red_square', 'red_circle1']\n",
      "Graph 'g2', nodes: ['bad_circle_good_circle', 'c', 'good_square', 'good_circle1', 'bad_circle1']\n",
      "Graph 'g3', nodes: ['bad_red_circle11', 'good_red_circle', 'bad_red_circle', 'good_red_square', 'good_red_circle1', 'bad_red_circle1', 'good_red_circle2', 'bad_red_circle2', 'good_red_circle11']\n"
     ]
    }
   ],
   "source": [
    "for graph in hierarchy.graphs():\n",
    "    print(\"Graph '{}', nodes: {}\".format(graph, hierarchy.get_graph(graph).nodes()))"
   ]
  },
  {
   "cell_type": "markdown",
   "metadata": {},
   "source": [
    "### 3. Dumping hierarchies with JSON\n",
    "\n",
    "ReGraph provides some utils for serialization of `Neo4jHierarchy` objects and implements the following methods for loading and exporting your hierarchy in JSON-format:\n",
    "\n",
    "- `Neo4jHierarchy.to_json` creates a json representations of the hierarchy;\n",
    "\n",
    "- `Neo4jHierarchy.from_json` loads an hierarchy from json representation (returns new `Hierarchy` object); \n",
    "- `Neo4jHierarchy.export` exports the hierarchy to a file (json format);\n",
    "- `Neo4jHierarchy.load` loads an hierarchy from a .json file (returns new object as well)."
   ]
  },
  {
   "cell_type": "code",
   "execution_count": 36,
   "metadata": {},
   "outputs": [],
   "source": [
    "hierarchy_json = hierarchy.to_json()"
   ]
  },
  {
   "cell_type": "code",
   "execution_count": 37,
   "metadata": {},
   "outputs": [
    {
     "name": "stdout",
     "output_type": "stream",
     "text": [
      "{\n",
      "  \"graphs\": [\n",
      "    {\n",
      "      \"id\": \"colors\",\n",
      "      \"graph\": {\n",
      "        \"edges\": [\n",
      "          {\n",
      "            \"from\": \"green\",\n",
      "            \"to\": \"green\",\n",
      "            \"attrs\": {}\n",
      "          },\n",
      "          {\n",
      "            \"from\": \"red\",\n",
      "            \"to\": \"red\",\n",
      "            \"attrs\": {}\n",
      "          },\n",
      "          {\n",
      "            \"from\": \"red\",\n",
      "            \"to\": \"green\",\n",
      "            \"attrs\": {}\n",
      "          }\n",
      "        ],\n",
      "        \"nodes\": [\n",
      "          {\n",
      "            \"id\": \"green\",\n",
      "            \"attrs\": {}\n",
      "          },\n",
      "          {\n",
      "            \"id\": \"red\",\n",
      "            \"attrs\": {}\n",
      "          }\n",
      "        ]\n",
      "      },\n",
      "      \"attrs\": {}\n",
      "    },\n",
      "    {\n",
      "      \"id\": \"quality\",\n",
      "      \"graph\": {\n",
      "        \"edges\": [\n",
      "          {\n",
      "            \"from\": \"bad_good\",\n",
      "            \"to\": \"bad_good\",\n",
      "            \"attrs\": {}\n",
      "          },\n",
      "          {\n",
      "            \"from\": \"c\",\n",
      "            \"to\": \"bad_good\",\n",
      "            \"attrs\": {}\n",
      "          }\n",
      "        ],\n",
      "        \"nodes\": [\n",
      "          {\n",
      "            \"id\": \"bad_good\",\n",
      "            \"attrs\": {}\n",
      "          },\n",
      "          {\n",
      "            \"id\": \"c\",\n",
      "            \"attrs\": {}\n",
      "          }\n",
      "        ]\n",
      "      },\n",
      "      \"attrs\": {}\n",
      "    },\n",
      "    {\n",
      "      \"id\": \"shapes\",\n",
      "      \"graph\": {\n",
      "        \"edges\": [\n",
      "          {\n",
      "            \"from\": \"circle\",\n",
      "            \"to\": \"circle1\",\n",
      "            \"attrs\": {}\n",
      "          },\n",
      "          {\n",
      "            \"from\": \"circle\",\n",
      "            \"to\": \"circle\",\n",
      "            \"attrs\": {}\n",
      "          },\n",
      "          {\n",
      "            \"from\": \"circle\",\n",
      "            \"to\": \"square\",\n",
      "            \"attrs\": {}\n",
      "          },\n",
      "          {\n",
      "            \"from\": \"circle1\",\n",
      "            \"to\": \"circle\",\n",
      "            \"attrs\": {}\n",
      "          },\n",
      "          {\n",
      "            \"from\": \"circle1\",\n",
      "            \"to\": \"circle1\",\n",
      "            \"attrs\": {}\n",
      "          },\n",
      "          {\n",
      "            \"from\": \"circle1\",\n",
      "            \"to\": \"square\",\n",
      "            \"attrs\": {}\n",
      "          }\n",
      "        ],\n",
      "        \"nodes\": [\n",
      "          {\n",
      "            \"id\": \"circle\",\n",
      "            \"attrs\": {}\n",
      "          },\n",
      "          {\n",
      "            \"id\": \"square\",\n",
      "            \"attrs\": {}\n",
      "          },\n",
      "          {\n",
      "            \"id\": \"circle1\",\n",
      "            \"attrs\": {}\n",
      "          }\n",
      "        ]\n",
      "      },\n",
      "      \"attrs\": {}\n",
      "    },\n",
      "    {\n",
      "      \"id\": \"g1\",\n",
      "      \"graph\": {\n",
      "        \"edges\": [\n",
      "          {\n",
      "            \"from\": \"red_circle\",\n",
      "            \"to\": \"red_circle1\",\n",
      "            \"attrs\": {}\n",
      "          },\n",
      "          {\n",
      "            \"from\": \"red_circle\",\n",
      "            \"to\": \"red_circle\",\n",
      "            \"attrs\": {}\n",
      "          },\n",
      "          {\n",
      "            \"from\": \"red_circle\",\n",
      "            \"to\": \"red_square\",\n",
      "            \"attrs\": {}\n",
      "          },\n",
      "          {\n",
      "            \"from\": \"red_circle1\",\n",
      "            \"to\": \"red_square\",\n",
      "            \"attrs\": {}\n",
      "          },\n",
      "          {\n",
      "            \"from\": \"red_circle1\",\n",
      "            \"to\": \"red_circle1\",\n",
      "            \"attrs\": {}\n",
      "          },\n",
      "          {\n",
      "            \"from\": \"red_circle1\",\n",
      "            \"to\": \"red_circle\",\n",
      "            \"attrs\": {}\n",
      "          }\n",
      "        ],\n",
      "        \"nodes\": [\n",
      "          {\n",
      "            \"id\": \"red_circle\",\n",
      "            \"attrs\": {}\n",
      "          },\n",
      "          {\n",
      "            \"id\": \"red_square\",\n",
      "            \"attrs\": {}\n",
      "          },\n",
      "          {\n",
      "            \"id\": \"red_circle1\",\n",
      "            \"attrs\": {}\n",
      "          }\n",
      "        ]\n",
      "      },\n",
      "      \"attrs\": {}\n",
      "    },\n",
      "    {\n",
      "      \"id\": \"g2\",\n",
      "      \"graph\": {\n",
      "        \"edges\": [\n",
      "          {\n",
      "            \"from\": \"bad_circle_good_circle\",\n",
      "            \"to\": \"good_circle1\",\n",
      "            \"attrs\": {}\n",
      "          },\n",
      "          {\n",
      "            \"from\": \"bad_circle_good_circle\",\n",
      "            \"to\": \"bad_circle1\",\n",
      "            \"attrs\": {}\n",
      "          },\n",
      "          {\n",
      "            \"from\": \"bad_circle_good_circle\",\n",
      "            \"to\": \"good_square\",\n",
      "            \"attrs\": {}\n",
      "          },\n",
      "          {\n",
      "            \"from\": \"bad_circle_good_circle\",\n",
      "            \"to\": \"bad_circle_good_circle\",\n",
      "            \"attrs\": {}\n",
      "          },\n",
      "          {\n",
      "            \"from\": \"c\",\n",
      "            \"to\": \"bad_circle_good_circle\",\n",
      "            \"attrs\": {}\n",
      "          },\n",
      "          {\n",
      "            \"from\": \"good_circle1\",\n",
      "            \"to\": \"good_square\",\n",
      "            \"attrs\": {}\n",
      "          },\n",
      "          {\n",
      "            \"from\": \"bad_circle1\",\n",
      "            \"to\": \"bad_circle_good_circle\",\n",
      "            \"attrs\": {}\n",
      "          },\n",
      "          {\n",
      "            \"from\": \"bad_circle1\",\n",
      "            \"to\": \"good_circle1\",\n",
      "            \"attrs\": {}\n",
      "          },\n",
      "          {\n",
      "            \"from\": \"bad_circle1\",\n",
      "            \"to\": \"bad_circle1\",\n",
      "            \"attrs\": {}\n",
      "          }\n",
      "        ],\n",
      "        \"nodes\": [\n",
      "          {\n",
      "            \"id\": \"bad_circle_good_circle\",\n",
      "            \"attrs\": {}\n",
      "          },\n",
      "          {\n",
      "            \"id\": \"c\",\n",
      "            \"attrs\": {}\n",
      "          },\n",
      "          {\n",
      "            \"id\": \"good_square\",\n",
      "            \"attrs\": {}\n",
      "          },\n",
      "          {\n",
      "            \"id\": \"good_circle1\",\n",
      "            \"attrs\": {}\n",
      "          },\n",
      "          {\n",
      "            \"id\": \"bad_circle1\",\n",
      "            \"attrs\": {}\n",
      "          }\n",
      "        ]\n",
      "      },\n",
      "      \"attrs\": {}\n",
      "    },\n",
      "    {\n",
      "      \"id\": \"g3\",\n",
      "      \"graph\": {\n",
      "        \"edges\": [\n",
      "          {\n",
      "            \"from\": \"bad_red_circle11\",\n",
      "            \"to\": \"good_red_circle\",\n",
      "            \"attrs\": {}\n",
      "          },\n",
      "          {\n",
      "            \"from\": \"bad_red_circle11\",\n",
      "            \"to\": \"good_red_circle2\",\n",
      "            \"attrs\": {}\n",
      "          },\n",
      "          {\n",
      "            \"from\": \"bad_red_circle11\",\n",
      "            \"to\": \"good_red_circle1\",\n",
      "            \"attrs\": {}\n",
      "          },\n",
      "          {\n",
      "            \"from\": \"bad_red_circle11\",\n",
      "            \"to\": \"good_red_circle11\",\n",
      "            \"attrs\": {}\n",
      "          },\n",
      "          {\n",
      "            \"from\": \"good_red_circle\",\n",
      "            \"to\": \"good_red_square\",\n",
      "            \"attrs\": {}\n",
      "          },\n",
      "          {\n",
      "            \"from\": \"bad_red_circle\",\n",
      "            \"to\": \"good_red_circle11\",\n",
      "            \"attrs\": {}\n",
      "          },\n",
      "          {\n",
      "            \"from\": \"bad_red_circle\",\n",
      "            \"to\": \"good_red_circle2\",\n",
      "            \"attrs\": {}\n",
      "          },\n",
      "          {\n",
      "            \"from\": \"bad_red_circle\",\n",
      "            \"to\": \"good_red_circle1\",\n",
      "            \"attrs\": {}\n",
      "          },\n",
      "          {\n",
      "            \"from\": \"bad_red_circle\",\n",
      "            \"to\": \"good_red_circle\",\n",
      "            \"attrs\": {}\n",
      "          },\n",
      "          {\n",
      "            \"from\": \"good_red_circle1\",\n",
      "            \"to\": \"good_red_square\",\n",
      "            \"attrs\": {}\n",
      "          },\n",
      "          {\n",
      "            \"from\": \"bad_red_circle1\",\n",
      "            \"to\": \"good_red_circle11\",\n",
      "            \"attrs\": {}\n",
      "          },\n",
      "          {\n",
      "            \"from\": \"bad_red_circle1\",\n",
      "            \"to\": \"good_red_circle2\",\n",
      "            \"attrs\": {}\n",
      "          },\n",
      "          {\n",
      "            \"from\": \"bad_red_circle1\",\n",
      "            \"to\": \"good_red_circle\",\n",
      "            \"attrs\": {}\n",
      "          },\n",
      "          {\n",
      "            \"from\": \"bad_red_circle1\",\n",
      "            \"to\": \"good_red_circle1\",\n",
      "            \"attrs\": {}\n",
      "          },\n",
      "          {\n",
      "            \"from\": \"good_red_circle2\",\n",
      "            \"to\": \"good_red_square\",\n",
      "            \"attrs\": {}\n",
      "          },\n",
      "          {\n",
      "            \"from\": \"bad_red_circle2\",\n",
      "            \"to\": \"good_red_circle11\",\n",
      "            \"attrs\": {}\n",
      "          },\n",
      "          {\n",
      "            \"from\": \"bad_red_circle2\",\n",
      "            \"to\": \"good_red_circle2\",\n",
      "            \"attrs\": {}\n",
      "          },\n",
      "          {\n",
      "            \"from\": \"bad_red_circle2\",\n",
      "            \"to\": \"good_red_circle1\",\n",
      "            \"attrs\": {}\n",
      "          },\n",
      "          {\n",
      "            \"from\": \"bad_red_circle2\",\n",
      "            \"to\": \"good_red_circle\",\n",
      "            \"attrs\": {}\n",
      "          },\n",
      "          {\n",
      "            \"from\": \"good_red_circle11\",\n",
      "            \"to\": \"good_red_square\",\n",
      "            \"attrs\": {}\n",
      "          }\n",
      "        ],\n",
      "        \"nodes\": [\n",
      "          {\n",
      "            \"id\": \"bad_red_circle11\",\n",
      "            \"attrs\": {}\n",
      "          },\n",
      "          {\n",
      "            \"id\": \"good_red_circle\",\n",
      "            \"attrs\": {}\n",
      "          },\n",
      "          {\n",
      "            \"id\": \"bad_red_circle\",\n",
      "            \"attrs\": {}\n",
      "          },\n",
      "          {\n",
      "            \"id\": \"good_red_square\",\n",
      "            \"attrs\": {}\n",
      "          },\n",
      "          {\n",
      "            \"id\": \"good_red_circle1\",\n",
      "            \"attrs\": {}\n",
      "          },\n",
      "          {\n",
      "            \"id\": \"bad_red_circle1\",\n",
      "            \"attrs\": {}\n",
      "          },\n",
      "          {\n",
      "            \"id\": \"good_red_circle2\",\n",
      "            \"attrs\": {}\n",
      "          },\n",
      "          {\n",
      "            \"id\": \"bad_red_circle2\",\n",
      "            \"attrs\": {}\n",
      "          },\n",
      "          {\n",
      "            \"id\": \"good_red_circle11\",\n",
      "            \"attrs\": {}\n",
      "          }\n",
      "        ]\n",
      "      },\n",
      "      \"attrs\": {}\n",
      "    }\n",
      "  ],\n",
      "  \"typing\": [\n",
      "    {\n",
      "      \"from\": \"g1\",\n",
      "      \"to\": \"shapes\",\n",
      "      \"mapping\": {\n",
      "        \"red_circle\": \"circle1\",\n",
      "        \"red_square\": \"square\",\n",
      "        \"red_circle1\": \"circle\"\n",
      "      },\n",
      "      \"attrs\": {}\n",
      "    },\n",
      "    {\n",
      "      \"from\": \"g1\",\n",
      "      \"to\": \"colors\",\n",
      "      \"mapping\": {\n",
      "        \"red_circle\": \"red\",\n",
      "        \"red_square\": \"red\",\n",
      "        \"red_circle1\": \"red\"\n",
      "      },\n",
      "      \"attrs\": {}\n",
      "    },\n",
      "    {\n",
      "      \"from\": \"g2\",\n",
      "      \"to\": \"quality\",\n",
      "      \"mapping\": {\n",
      "        \"good_square\": \"bad_good\",\n",
      "        \"good_circle1\": \"bad_good\",\n",
      "        \"bad_circle1\": \"bad_good\",\n",
      "        \"bad_circle_good_circle\": \"bad_good\",\n",
      "        \"c\": \"c\"\n",
      "      },\n",
      "      \"attrs\": {}\n",
      "    },\n",
      "    {\n",
      "      \"from\": \"g2\",\n",
      "      \"to\": \"shapes\",\n",
      "      \"mapping\": {\n",
      "        \"good_circle1\": \"circle\",\n",
      "        \"bad_circle1\": \"circle\",\n",
      "        \"c\": \"circle\",\n",
      "        \"good_square\": \"square\",\n",
      "        \"bad_circle_good_circle\": \"circle1\"\n",
      "      },\n",
      "      \"attrs\": {}\n",
      "    },\n",
      "    {\n",
      "      \"from\": \"g3\",\n",
      "      \"to\": \"g2\",\n",
      "      \"mapping\": {\n",
      "        \"good_red_circle\": \"bad_circle_good_circle\",\n",
      "        \"good_red_circle1\": \"bad_circle_good_circle\",\n",
      "        \"bad_red_circle\": \"bad_circle_good_circle\",\n",
      "        \"bad_red_circle1\": \"bad_circle_good_circle\",\n",
      "        \"good_red_square\": \"good_square\",\n",
      "        \"good_red_circle2\": \"good_circle1\",\n",
      "        \"good_red_circle11\": \"good_circle1\",\n",
      "        \"bad_red_circle2\": \"bad_circle1\",\n",
      "        \"bad_red_circle11\": \"bad_circle1\"\n",
      "      },\n",
      "      \"attrs\": {}\n",
      "    },\n",
      "    {\n",
      "      \"from\": \"g3\",\n",
      "      \"to\": \"g1\",\n",
      "      \"mapping\": {\n",
      "        \"good_red_circle\": \"red_circle\",\n",
      "        \"bad_red_circle\": \"red_circle\",\n",
      "        \"good_red_circle1\": \"red_circle\",\n",
      "        \"bad_red_circle1\": \"red_circle\",\n",
      "        \"good_red_square\": \"red_square\",\n",
      "        \"good_red_circle2\": \"red_circle1\",\n",
      "        \"bad_red_circle2\": \"red_circle1\",\n",
      "        \"good_red_circle11\": \"red_circle1\",\n",
      "        \"bad_red_circle11\": \"red_circle1\"\n",
      "      },\n",
      "      \"attrs\": {}\n",
      "    }\n",
      "  ],\n",
      "  \"relations\": []\n",
      "}\n"
     ]
    }
   ],
   "source": [
    "import json\n",
    "print(json.dumps(hierarchy_json, indent=\"  \"))"
   ]
  },
  {
   "cell_type": "code",
   "execution_count": 38,
   "metadata": {},
   "outputs": [],
   "source": [
    "# Clear the DB for the previous hierarchy\n",
    "hierarchy._clear()\n",
    "\n",
    "# Load json-data back to the DB\n",
    "hierarchy = Neo4jHierarchy.from_json(\n",
    "    uri=\"bolt://localhost:7687\", user=\"neo4j\", password=\"admin\", json_data=hierarchy_json)"
   ]
  }
 ],
 "metadata": {
  "anaconda-cloud": {},
  "kernelspec": {
   "display_name": "Python 3",
   "language": "python",
   "name": "python3"
  },
  "language_info": {
   "codemirror_mode": {
    "name": "ipython",
    "version": 3
   },
   "file_extension": ".py",
   "mimetype": "text/x-python",
   "name": "python",
   "nbconvert_exporter": "python",
   "pygments_lexer": "ipython3",
   "version": "3.7.4"
  }
 },
 "nbformat": 4,
 "nbformat_minor": 1
}
