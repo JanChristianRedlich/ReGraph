{
 "cells": [
  {
   "cell_type": "code",
   "execution_count": 1,
   "metadata": {},
   "outputs": [],
   "source": [
    "import networkx as nx\n",
    "from regraph import Rule, plot_rule\n",
    "\n",
    "\n",
    "from regraph.neo4j.hierarchy import Neo4jHierarchy\n",
    "import regraph.neo4j.cypher_utils as cypher"
   ]
  },
  {
   "cell_type": "code",
   "execution_count": 2,
   "metadata": {},
   "outputs": [
    {
     "data": {
      "text/plain": [
       "<neo4j.BoltStatementResult at 0x7f4f7f1c29b0>"
      ]
     },
     "execution_count": 2,
     "metadata": {},
     "output_type": "execute_result"
    }
   ],
   "source": [
    "# initialize the neo4j driver, wrappped into Neo4jHierarchy object\n",
    "h = Neo4jHierarchy(uri=\"bolt://localhost:7687\", user=\"neo4j\", password=\"admin\")\n",
    "h._clear()"
   ]
  },
  {
   "cell_type": "markdown",
   "metadata": {},
   "source": [
    "## Add the default components to the KAMI hierarchy"
   ]
  },
  {
   "cell_type": "code",
   "execution_count": 3,
   "metadata": {},
   "outputs": [
    {
     "name": "stdout",
     "output_type": "stream",
     "text": [
      "CREATE CONSTRAINT ON (n:meta_model) ASSERT n.id IS UNIQUE\n",
      "OPTIONAL MATCH (same_id_node:meta_model) \n",
      "WHERE same_id_node.id = 'gene' \n",
      "FOREACH(new_count \n",
      "\tIN CASE WHEN same_id_node IS NOT NULL\n",
      "\tTHEN [coalesce(same_id_node.count, 0) + 1]\n",
      "\tELSE [] END | \n",
      "\t\tSET same_id_node.count = new_count) \n",
      "WITH same_id_node \n",
      "UNWIND\n",
      "\tCASE WHEN same_id_node IS NOT NULL\n",
      "\tTHEN ['gene' + same_id_node.count]\n",
      "\tELSE ['gene'] END AS new_id_gene \n",
      "\t\tCREATE (gene:meta_model { id : new_id_gene }) \n",
      "WITH gene, new_id_gene OPTIONAL MATCH (same_id_node:meta_model) \n",
      "WHERE same_id_node.id = 'region' \n",
      "FOREACH(new_count \n",
      "\tIN CASE WHEN same_id_node IS NOT NULL\n",
      "\tTHEN [coalesce(same_id_node.count, 0) + 1]\n",
      "\tELSE [] END | \n",
      "\t\tSET same_id_node.count = new_count) \n",
      "WITH same_id_node \n",
      "UNWIND\n",
      "\tCASE WHEN same_id_node IS NOT NULL\n",
      "\tTHEN ['region' + same_id_node.count]\n",
      "\tELSE ['region'] END AS new_id_region \n",
      "\t\tCREATE (region:meta_model { id : new_id_region }) \n",
      "WITH new_id_region, region OPTIONAL MATCH (same_id_node:meta_model) \n",
      "WHERE same_id_node.id = 'state' \n",
      "FOREACH(new_count \n",
      "\tIN CASE WHEN same_id_node IS NOT NULL\n",
      "\tTHEN [coalesce(same_id_node.count, 0) + 1]\n",
      "\tELSE [] END | \n",
      "\t\tSET same_id_node.count = new_count) \n",
      "WITH same_id_node \n",
      "UNWIND\n",
      "\tCASE WHEN same_id_node IS NOT NULL\n",
      "\tTHEN ['state' + same_id_node.count]\n",
      "\tELSE ['state'] END AS new_id_state \n",
      "\t\tCREATE (state:meta_model { id : new_id_state }) \n",
      "WITH state, new_id_state OPTIONAL MATCH (same_id_node:meta_model) \n",
      "WHERE same_id_node.id = 'mod' \n",
      "FOREACH(new_count \n",
      "\tIN CASE WHEN same_id_node IS NOT NULL\n",
      "\tTHEN [coalesce(same_id_node.count, 0) + 1]\n",
      "\tELSE [] END | \n",
      "\t\tSET same_id_node.count = new_count) \n",
      "WITH same_id_node \n",
      "UNWIND\n",
      "\tCASE WHEN same_id_node IS NOT NULL\n",
      "\tTHEN ['mod' + same_id_node.count]\n",
      "\tELSE ['mod'] END AS new_id_mod \n",
      "\t\tCREATE (mod:meta_model { id : new_id_mod }) \n",
      "WITH new_id_mod, mod OPTIONAL MATCH (same_id_node:meta_model) \n",
      "WHERE same_id_node.id = 'bnd' \n",
      "FOREACH(new_count \n",
      "\tIN CASE WHEN same_id_node IS NOT NULL\n",
      "\tTHEN [coalesce(same_id_node.count, 0) + 1]\n",
      "\tELSE [] END | \n",
      "\t\tSET same_id_node.count = new_count) \n",
      "WITH same_id_node \n",
      "UNWIND\n",
      "\tCASE WHEN same_id_node IS NOT NULL\n",
      "\tTHEN ['bnd' + same_id_node.count]\n",
      "\tELSE ['bnd'] END AS new_id_bnd \n",
      "\t\tCREATE (bnd:meta_model { id : new_id_bnd }) \n",
      "WITH new_id_bnd, bnd RETURN new_id_bnd, bnd\n",
      "\n",
      "MATCH (state:meta_model { id : 'state'}) , (gene:meta_model { id : 'gene'}) , (region:meta_model { id : 'region'}) , (bnd:meta_model { id : 'bnd'}) , (mod:meta_model { id : 'mod'})  MERGE (gene)-[gene_mod:edge]->(mod)\n",
      "MERGE (gene)-[gene_bnd:edge]->(bnd)\n",
      "MERGE (region)-[region_gene:edge]->(gene)\n",
      "MERGE (region)-[region_mod:edge]->(mod)\n",
      "MERGE (region)-[region_bnd:edge]->(bnd)\n",
      "MERGE (state)-[state_gene:edge]->(gene)\n",
      "MERGE (state)-[state_region:edge]->(region)\n",
      "MERGE (mod)-[mod_state:edge]->(state)\n",
      "\n"
     ]
    }
   ],
   "source": [
    "nodes = [\"gene\", \"region\", \"state\", \"mod\", \"bnd\"]\n",
    "\n",
    "edges = [\n",
    "    (\"gene\", \"mod\"),\n",
    "    (\"gene\", \"bnd\"),\n",
    "    (\"region\", \"gene\"),\n",
    "    (\"region\", \"mod\"),\n",
    "    (\"region\", \"bnd\"),\n",
    "    (\"state\", \"gene\"),\n",
    "    (\"state\", \"region\"),\n",
    "    (\"mod\", \"state\")\n",
    "]\n",
    "h.add_graph('meta_model', nodes, edges)"
   ]
  },
  {
   "cell_type": "code",
   "execution_count": 4,
   "metadata": {},
   "outputs": [
    {
     "name": "stdout",
     "output_type": "stream",
     "text": [
      "CREATE CONSTRAINT ON (n:action_graph) ASSERT n.id IS UNIQUE\n",
      "\n",
      "CREATE CONSTRAINT ON (n:action_graph) ASSERT n.id IS UNIQUE\n",
      "CREATE CONSTRAINT ON (n:meta_model) ASSERT n.id IS UNIQUE\n"
     ]
    }
   ],
   "source": [
    "h.add_graph('action_graph', [], [])\n",
    "h.add_typing(\"action_graph\", \"meta_model\", {})"
   ]
  },
  {
   "cell_type": "markdown",
   "metadata": {},
   "source": [
    "## Aggregation use-case / (controlled) down-propagation"
   ]
  },
  {
   "cell_type": "markdown",
   "metadata": {},
   "source": [
    "### 1) Add two empty nuggets typed by the action graph"
   ]
  },
  {
   "cell_type": "code",
   "execution_count": 5,
   "metadata": {},
   "outputs": [
    {
     "name": "stdout",
     "output_type": "stream",
     "text": [
      "CREATE CONSTRAINT ON (n:nugget_1) ASSERT n.id IS UNIQUE\n",
      "\n",
      "CREATE CONSTRAINT ON (n:nugget_1) ASSERT n.id IS UNIQUE\n",
      "CREATE CONSTRAINT ON (n:action_graph) ASSERT n.id IS UNIQUE\n",
      "CREATE CONSTRAINT ON (n:nugget_2) ASSERT n.id IS UNIQUE\n",
      "\n",
      "CREATE CONSTRAINT ON (n:nugget_2) ASSERT n.id IS UNIQUE\n",
      "CREATE CONSTRAINT ON (n:action_graph) ASSERT n.id IS UNIQUE\n"
     ]
    }
   ],
   "source": [
    "h.add_graph(\"nugget_1\", [], [])\n",
    "h.add_typing(\"nugget_1\", \"action_graph\", {})\n",
    "h.add_graph(\"nugget_2\", [], [])\n",
    "h.add_typing(\"nugget_2\", \"action_graph\", {})"
   ]
  },
  {
   "cell_type": "markdown",
   "metadata": {},
   "source": [
    "### 1) Generation rule for nugget 1 (none of the nodes are typed)"
   ]
  },
  {
   "cell_type": "code",
   "execution_count": 6,
   "metadata": {},
   "outputs": [
    {
     "name": "stderr",
     "output_type": "stream",
     "text": [
      "/home/eugenia/anaconda3/envs/regraph_v2/lib/python3.6/site-packages/matplotlib/cbook/deprecation.py:107: MatplotlibDeprecationWarning: Passing one of 'on', 'true', 'off', 'false' as a boolean is deprecated; use an actual boolean (True/False) instead.\n",
      "  warnings.warn(message, mplDeprecation, stacklevel=1)\n"
     ]
    },
    {
     "data": {
      "image/png": "[encoded data removed]",
      "text/plain": [
       "<Figure size 1008x216 with 3 Axes>"
      ]
     },
     "metadata": {},
     "output_type": "display_data"
    }
   ],
   "source": [
    "rule1 = Rule.from_transform(nx.DiGraph())\n",
    "# inject node addition\n",
    "rule1.inject_add_nodes_from([\n",
    "    (\"EGFR_1\", {\"uniprotid\": \"P00533\"}),\n",
    "    (\"EGFR_2\", {\"uniprotid\": \"P00533\"}),\n",
    "    (\"isbnd\", {\"type\": \"be\", \"test\": True}),\n",
    "    (\"PK\", {\"name\": \"Protein kinase\"}),\n",
    "    (\"mod\", {\"value\": True}),\n",
    "    (\"phosphorylation\", {\"name\": \"phosphorylation\", \"test\": False})\n",
    "])\n",
    "rule1.inject_add_edges_from([\n",
    "    (\"EGFR_1\", \"isbnd\"),\n",
    "    (\"EGFR_2\", \"isbnd\"),\n",
    "    (\"PK\", \"EGFR_1\", {\"start\": 100, \"end\": 600}),\n",
    "    (\"PK\", \"mod\"),\n",
    "    (\"mod\", \"phosphorylation\"),\n",
    "    (\"phosphorylation\", \"EGFR_2\")\n",
    "])\n",
    "\n",
    "plot_rule(rule1)"
   ]
  },
  {
   "cell_type": "code",
   "execution_count": 7,
   "metadata": {},
   "outputs": [],
   "source": [
    "rhs_typing1 = {\n",
    "    \"meta_model\": {\n",
    "        \"EGFR_1\": \"gene\",\n",
    "        \"EGFR_2\": \"gene\",\n",
    "        \"PK\": \"region\",\n",
    "        \"phosphorylation\": \"state\",\n",
    "        \"isbnd\": \"bnd\",\n",
    "        \"mod\": \"mod\"\n",
    "    }\n",
    "}"
   ]
  },
  {
   "cell_type": "code",
   "execution_count": 8,
   "metadata": {
    "scrolled": true
   },
   "outputs": [
    {
     "name": "stdout",
     "output_type": "stream",
     "text": [
      "CREATE CONSTRAINT ON (n:nugget_1) ASSERT n.id IS UNIQUE\n",
      "// Empty instance \n",
      "\n",
      "// Adding node 'phosphorylation' from the rhs \n",
      "CREATE (rhs_phosphorylation:nugget_1) \n",
      "SET rhs_phosphorylation.id = toString(id(rhs_phosphorylation)) \n",
      "WITH toString(id(rhs_phosphorylation)) as rhs_phosphorylation_id , rhs_phosphorylation\n",
      "\n",
      "\n",
      "// Adding node 'EGFR_1' from the rhs \n",
      "CREATE (rhs_EGFR_1:nugget_1) \n",
      "SET rhs_EGFR_1.id = toString(id(rhs_EGFR_1)) \n",
      "WITH toString(id(rhs_EGFR_1)) as rhs_EGFR_1_id , rhs_phosphorylation_id, rhs_phosphorylation, rhs_EGFR_1\n",
      "\n",
      "\n",
      "// Adding node 'PK' from the rhs \n",
      "CREATE (rhs_PK:nugget_1) \n",
      "SET rhs_PK.id = toString(id(rhs_PK)) \n",
      "WITH toString(id(rhs_PK)) as rhs_PK_id , rhs_EGFR_1_id, rhs_phosphorylation, rhs_EGFR_1, rhs_PK, rhs_phosphorylation_id\n",
      "\n",
      "\n",
      "// Adding node 'EGFR_2' from the rhs \n",
      "CREATE (rhs_EGFR_2:nugget_1) \n",
      "SET rhs_EGFR_2.id = toString(id(rhs_EGFR_2)) \n",
      "WITH toString(id(rhs_EGFR_2)) as rhs_EGFR_2_id , rhs_PK_id, rhs_EGFR_1_id, rhs_phosphorylation, rhs_EGFR_1, rhs_PK, rhs_phosphorylation_id, rhs_EGFR_2\n",
      "\n",
      "\n",
      "// Adding node 'isbnd' from the rhs \n",
      "CREATE (rhs_isbnd:nugget_1) \n",
      "SET rhs_isbnd.id = toString(id(rhs_isbnd)) \n",
      "WITH toString(id(rhs_isbnd)) as rhs_isbnd_id , rhs_EGFR_2_id, rhs_PK_id, rhs_EGFR_1_id, rhs_isbnd, rhs_phosphorylation, rhs_EGFR_1, rhs_PK, rhs_phosphorylation_id, rhs_EGFR_2\n",
      "\n",
      "\n",
      "// Adding node 'mod' from the rhs \n",
      "CREATE (rhs_mod:nugget_1) \n",
      "SET rhs_mod.id = toString(id(rhs_mod)) \n",
      "WITH toString(id(rhs_mod)) as rhs_mod_id , rhs_EGFR_2_id, rhs_PK_id, rhs_isbnd_id, rhs_EGFR_1_id, rhs_mod, rhs_isbnd, rhs_phosphorylation, rhs_EGFR_1, rhs_PK, rhs_phosphorylation_id, rhs_EGFR_2\n",
      "\n",
      "\n",
      "// Adding properties to the node 'EGFR_1' from the rhs \n",
      "FOREACH (dummy IN CASE WHEN 'uniprotid' IN keys(rhs_EGFR_1) THEN [] ELSE [1] END |\tSET rhs_EGFR_1.uniprotid = ['P00533'])\n",
      "FOREACH(dummy IN CASE WHEN 'uniprotid' IN keys(rhs_EGFR_1) THEN [1] ELSE [] END |\n",
      "\tFOREACH(val in ['P00533'] |\n",
      "\t\tFOREACH(dummy1 IN CASE WHEN NOT val IN rhs_EGFR_1.uniprotid THEN [1] ELSE [] END |\n",
      "\t\t\tSET rhs_EGFR_1.uniprotid = rhs_EGFR_1.uniprotid + [val])))\n",
      "\n",
      "\n",
      "// Adding properties to the node 'EGFR_2' from the rhs \n",
      "FOREACH (dummy IN CASE WHEN 'uniprotid' IN keys(rhs_EGFR_2) THEN [] ELSE [1] END |\tSET rhs_EGFR_2.uniprotid = ['P00533'])\n",
      "FOREACH(dummy IN CASE WHEN 'uniprotid' IN keys(rhs_EGFR_2) THEN [1] ELSE [] END |\n",
      "\tFOREACH(val in ['P00533'] |\n",
      "\t\tFOREACH(dummy1 IN CASE WHEN NOT val IN rhs_EGFR_2.uniprotid THEN [1] ELSE [] END |\n",
      "\t\t\tSET rhs_EGFR_2.uniprotid = rhs_EGFR_2.uniprotid + [val])))\n",
      "\n",
      "\n",
      "// Adding properties to the node 'isbnd' from the rhs \n",
      "FOREACH (dummy IN CASE WHEN 'type' IN keys(rhs_isbnd) THEN [] ELSE [1] END |\tSET rhs_isbnd.type = ['be'])\n",
      "FOREACH(dummy IN CASE WHEN 'type' IN keys(rhs_isbnd) THEN [1] ELSE [] END |\n",
      "\tFOREACH(val in ['be'] |\n",
      "\t\tFOREACH(dummy1 IN CASE WHEN NOT val IN rhs_isbnd.type THEN [1] ELSE [] END |\n",
      "\t\t\tSET rhs_isbnd.type = rhs_isbnd.type + [val])))\n",
      "FOREACH (dummy IN CASE WHEN 'test' IN keys(rhs_isbnd) THEN [] ELSE [1] END |\tSET rhs_isbnd.test = [True])\n",
      "FOREACH(dummy IN CASE WHEN 'test' IN keys(rhs_isbnd) THEN [1] ELSE [] END |\n",
      "\tFOREACH(val in [True] |\n",
      "\t\tFOREACH(dummy1 IN CASE WHEN NOT val IN rhs_isbnd.test THEN [1] ELSE [] END |\n",
      "\t\t\tSET rhs_isbnd.test = rhs_isbnd.test + [val])))\n",
      "\n",
      "\n",
      "// Adding properties to the node 'PK' from the rhs \n",
      "FOREACH (dummy IN CASE WHEN 'name' IN keys(rhs_PK) THEN [] ELSE [1] END |\tSET rhs_PK.name = ['Protein kinase'])\n",
      "FOREACH(dummy IN CASE WHEN 'name' IN keys(rhs_PK) THEN [1] ELSE [] END |\n",
      "\tFOREACH(val in ['Protein kinase'] |\n",
      "\t\tFOREACH(dummy1 IN CASE WHEN NOT val IN rhs_PK.name THEN [1] ELSE [] END |\n",
      "\t\t\tSET rhs_PK.name = rhs_PK.name + [val])))\n",
      "\n",
      "\n",
      "// Adding properties to the node 'mod' from the rhs \n",
      "FOREACH (dummy IN CASE WHEN 'value' IN keys(rhs_mod) THEN [] ELSE [1] END |\tSET rhs_mod.value = [True])\n",
      "FOREACH(dummy IN CASE WHEN 'value' IN keys(rhs_mod) THEN [1] ELSE [] END |\n",
      "\tFOREACH(val in [True] |\n",
      "\t\tFOREACH(dummy1 IN CASE WHEN NOT val IN rhs_mod.value THEN [1] ELSE [] END |\n",
      "\t\t\tSET rhs_mod.value = rhs_mod.value + [val])))\n",
      "\n",
      "\n",
      "// Adding properties to the node 'phosphorylation' from the rhs \n",
      "FOREACH (dummy IN CASE WHEN 'name' IN keys(rhs_phosphorylation) THEN [] ELSE [1] END |\tSET rhs_phosphorylation.name = ['phosphorylation'])\n",
      "FOREACH(dummy IN CASE WHEN 'name' IN keys(rhs_phosphorylation) THEN [1] ELSE [] END |\n",
      "\tFOREACH(val in ['phosphorylation'] |\n",
      "\t\tFOREACH(dummy1 IN CASE WHEN NOT val IN rhs_phosphorylation.name THEN [1] ELSE [] END |\n",
      "\t\t\tSET rhs_phosphorylation.name = rhs_phosphorylation.name + [val])))\n",
      "FOREACH (dummy IN CASE WHEN 'test' IN keys(rhs_phosphorylation) THEN [] ELSE [1] END |\tSET rhs_phosphorylation.test = [False])\n",
      "FOREACH(dummy IN CASE WHEN 'test' IN keys(rhs_phosphorylation) THEN [1] ELSE [] END |\n",
      "\tFOREACH(val in [False] |\n",
      "\t\tFOREACH(dummy1 IN CASE WHEN NOT val IN rhs_phosphorylation.test THEN [1] ELSE [] END |\n",
      "\t\t\tSET rhs_phosphorylation.test = rhs_phosphorylation.test + [val])))\n",
      "\n",
      "\n",
      "// Adding edge 'EGFR_2->isbnd' from the rhs \n",
      "MERGE (rhs_EGFR_2)-[rhs_EGFR_2_rhs_isbnd:edge]->(rhs_isbnd)\n",
      "\n",
      "\n",
      "// Adding edge 'phosphorylation->EGFR_2' from the rhs \n",
      "MERGE (rhs_phosphorylation)-[rhs_phosphorylation_rhs_EGFR_2:edge]->(rhs_EGFR_2)\n",
      "\n",
      "\n",
      "// Adding edge 'EGFR_1->isbnd' from the rhs \n",
      "MERGE (rhs_EGFR_1)-[rhs_EGFR_1_rhs_isbnd:edge]->(rhs_isbnd)\n",
      "\n",
      "\n",
      "// Adding edge 'PK->EGFR_1' from the rhs \n",
      "MERGE (rhs_PK)-[rhs_PK_rhs_EGFR_1:edge]->(rhs_EGFR_1)\n",
      "\n",
      "\n",
      "// Adding edge 'PK->mod' from the rhs \n",
      "MERGE (rhs_PK)-[rhs_PK_rhs_mod:edge]->(rhs_mod)\n",
      "\n",
      "\n",
      "// Adding edge 'mod->phosphorylation' from the rhs \n",
      "MERGE (rhs_mod)-[rhs_mod_rhs_phosphorylation:edge]->(rhs_phosphorylation)\n",
      "\n",
      "\n",
      "// Adding properties to an edge 'PK'->'EGFR_1' from the rhs \n",
      "WITH rhs_EGFR_2_id, rhs_PK_id, rhs_isbnd_id, rhs_EGFR_1_id, rhs_mod, rhs_isbnd, rhs_mod_id, rhs_phosphorylation, rhs_EGFR_1, rhs_PK, rhs_phosphorylation_id, rhs_PK_rhs_EGFR_1, rhs_EGFR_2 \n",
      "FOREACH (dummy IN CASE WHEN 'start' IN keys(rhs_PK_rhs_EGFR_1) THEN [] ELSE [1] END |\tSET rhs_PK_rhs_EGFR_1.start = [100])\n",
      "FOREACH(dummy IN CASE WHEN 'start' IN keys(rhs_PK_rhs_EGFR_1) THEN [1] ELSE [] END |\n",
      "\tFOREACH(val in [100] |\n",
      "\t\tFOREACH(dummy1 IN CASE WHEN NOT val IN rhs_PK_rhs_EGFR_1.start THEN [1] ELSE [] END |\n",
      "\t\t\tSET rhs_PK_rhs_EGFR_1.start = rhs_PK_rhs_EGFR_1.start + [val])))\n",
      "FOREACH (dummy IN CASE WHEN 'end' IN keys(rhs_PK_rhs_EGFR_1) THEN [] ELSE [1] END |\tSET rhs_PK_rhs_EGFR_1.end = [600])\n",
      "FOREACH(dummy IN CASE WHEN 'end' IN keys(rhs_PK_rhs_EGFR_1) THEN [1] ELSE [] END |\n",
      "\tFOREACH(val in [600] |\n",
      "\t\tFOREACH(dummy1 IN CASE WHEN NOT val IN rhs_PK_rhs_EGFR_1.end THEN [1] ELSE [] END |\n",
      "\t\t\tSET rhs_PK_rhs_EGFR_1.end = rhs_PK_rhs_EGFR_1.end + [val])))\n",
      "WITH rhs_EGFR_2_id, rhs_PK_id, rhs_isbnd_id, rhs_EGFR_1_id, rhs_mod, rhs_isbnd, rhs_mod_id, rhs_phosphorylation, rhs_EGFR_1, rhs_PK, rhs_phosphorylation_id, rhs_PK_rhs_EGFR_1, rhs_EGFR_2 \n",
      "\n",
      "// Return statement \n",
      "RETURN rhs_EGFR_2_id, rhs_PK_id, rhs_isbnd_id, rhs_EGFR_1_id, rhs_mod, rhs_isbnd, rhs_mod_id, rhs_phosphorylation, rhs_EGFR_1, rhs_PK, rhs_phosphorylation_id, rhs_PK_rhs_EGFR_1, rhs_EGFR_2\n",
      "\n"
     ]
    }
   ],
   "source": [
    "_, rhs_g1 = h.rewrite(\"nugget_1\", rule1, {}, rhs_typing=rhs_typing1)"
   ]
  },
  {
   "cell_type": "markdown",
   "metadata": {},
   "source": [
    "### 3) Merge two nodes in the action graph (to avoid gene duplication)"
   ]
  },
  {
   "cell_type": "code",
   "execution_count": 9,
   "metadata": {},
   "outputs": [
    {
     "name": "stderr",
     "output_type": "stream",
     "text": [
      "/home/eugenia/anaconda3/envs/regraph_v2/lib/python3.6/site-packages/matplotlib/cbook/deprecation.py:107: MatplotlibDeprecationWarning: Passing one of 'on', 'true', 'off', 'false' as a boolean is deprecated; use an actual boolean (True/False) instead.\n",
      "  warnings.warn(message, mplDeprecation, stacklevel=1)\n"
     ]
    },
    {
     "data": {
      "image/png": "[encoded data removed]",
      "text/plain": [
       "<Figure size 1008x216 with 3 Axes>"
      ]
     },
     "metadata": {},
     "output_type": "display_data"
    }
   ],
   "source": [
    "pattern = nx.DiGraph()\n",
    "pattern.add_nodes_from([\n",
    "    \"EGFR_1\", \"EGFR_2\"\n",
    "])\n",
    "\n",
    "rule2 = Rule.from_transform(pattern)\n",
    "merge_result_id = rule2.inject_merge_nodes([\"EGFR_1\", \"EGFR_2\"])\n",
    "plot_rule(rule2)"
   ]
  },
  {
   "cell_type": "code",
   "execution_count": 10,
   "metadata": {},
   "outputs": [
    {
     "name": "stdout",
     "output_type": "stream",
     "text": [
      "CREATE CONSTRAINT ON (n:action_graph) ASSERT n.id IS UNIQUE\n",
      "// Match nodes and edges of the instance \n",
      "MATCH (lhs_EGFR_1:action_graph { id : '166364'}) , (lhs_EGFR_2:action_graph { id : '166375'})  \n",
      "\n",
      "\n",
      "\n",
      "// Renaming vars to correspond to the vars of P\n",
      "WITH lhs_EGFR_1 as p_EGFR_1, lhs_EGFR_2 as p_EGFR_2 \n",
      "\n",
      "// Merging nodes '{'EGFR_2', 'EGFR_1'}' of the preserved part into 'EGFR_1_EGFR_2' \n",
      "// accumulate all the attrs of the nodes to be merged\n",
      "WITH [] as new_props, p_EGFR_2, p_EGFR_1\n",
      "WITH new_props + REDUCE(pairs = [], k in keys(p_EGFR_2) | \n",
      "\tpairs + REDUCE(inner_pairs = [], v in p_EGFR_2[k] | \n",
      "\t\tinner_pairs + {key: k, value: v})) as new_props, p_EGFR_2, p_EGFR_1\n",
      "WITH new_props + REDUCE(pairs = [], k in keys(p_EGFR_1) | \n",
      "\tpairs + REDUCE(inner_pairs = [], v in p_EGFR_1[k] | \n",
      "\t\tinner_pairs + {key: k, value: v})) as new_props, p_EGFR_2, p_EGFR_1\n",
      "WITH apoc.map.groupByMulti(new_props, 'key') as new_props, p_EGFR_2, p_EGFR_1\n",
      "WITH apoc.map.fromValues(REDUCE(pairs=[], k in keys(new_props) | \n",
      "\tpairs + [k, REDUCE(values=[], v in new_props[k] | \n",
      "\t\tvalues + CASE WHEN v.value IN values THEN [] ELSE v.value END)])) as new_props, p_EGFR_2, p_EGFR_1\n",
      "SET p_EGFR_2 = new_props\n",
      "WITH p_EGFR_2 as rhs_EGFR_1_EGFR_2, p_EGFR_1\n",
      "// set appropriate node id\n",
      "SET rhs_EGFR_1_EGFR_2.id = toString(id(rhs_EGFR_1_EGFR_2))\n",
      "SET rhs_EGFR_1_EGFR_2.count = NULL\n",
      "WITH toString(id(rhs_EGFR_1_EGFR_2)) as uidb4ba55420c264b32bb2257c50e8ae95d, p_EGFR_1, rhs_EGFR_1_EGFR_2\n",
      "// accumulate all the attrs of the edges incident to the merged nodes\n",
      "WITH [] as suc_maps, [] as pred_maps, p_EGFR_1, rhs_EGFR_1_EGFR_2, uidb4ba55420c264b32bb2257c50e8ae95d\n",
      "OPTIONAL MATCH (rhs_EGFR_1_EGFR_2)-[out_rel:edge]->(suc)\n",
      "WITH suc_maps + collect({id: id(suc), neighbor: suc, edge: out_rel}) as suc_maps, pred_maps, p_EGFR_1, rhs_EGFR_1_EGFR_2, uidb4ba55420c264b32bb2257c50e8ae95d\n",
      "OPTIONAL MATCH (pred)-[in_rel:edge]->(rhs_EGFR_1_EGFR_2)\n",
      "WITH pred_maps + collect({id: id(pred), neighbor: pred, edge: in_rel}) as pred_maps, suc_maps, p_EGFR_1, rhs_EGFR_1_EGFR_2, uidb4ba55420c264b32bb2257c50e8ae95d\n",
      "OPTIONAL MATCH (p_EGFR_1)-[out_rel:edge]->(suc)\n",
      "WITH suc_maps + collect({id: id(suc), neighbor: suc, edge: out_rel}) as suc_maps, pred_maps, p_EGFR_1, rhs_EGFR_1_EGFR_2, uidb4ba55420c264b32bb2257c50e8ae95d\n",
      "OPTIONAL MATCH (pred)-[in_rel:edge]->(p_EGFR_1)\n",
      "WITH pred_maps + collect({id: id(pred), neighbor: pred, edge: in_rel}) as pred_maps, suc_maps, p_EGFR_1, rhs_EGFR_1_EGFR_2, uidb4ba55420c264b32bb2257c50e8ae95d\n",
      "WITH apoc.map.groupByMulti(suc_maps, 'id') as suc_props, REDUCE(list=[], map in suc_maps | \n",
      "\tlist + CASE WHEN NOT map['neighbor'] IS NULL THEN [map['neighbor']] ELSE [] END) as suc_nodes, apoc.map.groupByMulti(pred_maps, 'id') as pred_props, REDUCE(list=[], map in pred_maps | \n",
      "\tlist + CASE WHEN NOT map['neighbor'] IS NULL THEN [map['neighbor']] ELSE [] END) as pred_nodes, \tREDUCE(l=[], el in suc_maps + pred_maps| \n",
      "\t\tl + CASE WHEN el['id'] IN [id(rhs_EGFR_1_EGFR_2),id(p_EGFR_1)] THEN [toString(el['id'])] ELSE [] END) as self_loops, p_EGFR_1, rhs_EGFR_1_EGFR_2, uidb4ba55420c264b32bb2257c50e8ae95d\n",
      "WITH suc_nodes, pred_nodes, apoc.map.fromValues(REDUCE(edge_props=[], k in keys(suc_props) | \n",
      "\tedge_props + [k, apoc.map.groupByMulti(REDUCE(props=[], el in suc_props[k] | \n",
      "\t\tprops + REDUCE(pairs=[], kk in keys(el['edge']) | \n",
      "\t\t\tpairs + REDUCE(values=[], v in el['edge'][kk] | \n",
      "\t\t\t\tvalues + {key: kk, value: v}))), 'key')])) as suc_props, \n",
      "\tapoc.map.fromValues(REDUCE(edge_props=[], k in keys(pred_props) | \n",
      "\tedge_props + [k, apoc.map.groupByMulti(REDUCE(props=[], el in pred_props[k] | \n",
      "\t\tprops + REDUCE(pairs=[], kk in keys(el['edge']) | \n",
      "\t\t\tpairs + REDUCE(values=[], v in el['edge'][kk] | \n",
      "\t\t\t\t values + {key: kk, value: v}))), 'key')])) as pred_props,  \n",
      "\tREDUCE(edge_props=[], k IN filter(k IN keys(suc_props) WHERE k IN self_loops) |\n",
      "\t\tedge_props + suc_props[k]) + \n",
      "\tREDUCE(edge_props=[], k IN filter(k IN keys(pred_props) WHERE k IN self_loops) |\n",
      "\t\tedge_props + pred_props[k]) as self_loop_props, p_EGFR_1, rhs_EGFR_1_EGFR_2, uidb4ba55420c264b32bb2257c50e8ae95d, self_loops\n",
      "WITH suc_nodes, suc_props, pred_nodes, pred_props, apoc.map.groupByMulti(REDUCE(pairs=[], el in self_loop_props |\n",
      "\tpairs + REDUCE(inner_pairs=[], k in keys(el['edge']) | \n",
      "\t\tinner_pairs + REDUCE(values=[], v in el['edge'][k] |\n",
      "\t\t\tvalues + {key: k, value: v}))), 'key') as self_loop_props, p_EGFR_1, rhs_EGFR_1_EGFR_2, uidb4ba55420c264b32bb2257c50e8ae95d, self_loops\n",
      "FOREACH(suc IN filter(suc IN suc_nodes WHERE NOT id(suc) in self_loops) |\n",
      "\tMERGE (rhs_EGFR_1_EGFR_2)-[new_rel:edge]->(suc)\n",
      "\tSET new_rel = apoc.map.fromValues(REDUCE(pairs=[], k in keys(suc_props[toString(id(suc))]) | \n",
      "\t\t pairs + [k, REDUCE(values=[], v in suc_props[toString(id(suc))][k] | \n",
      "\t\t\tvalues + CASE WHEN v.value IN values THEN [] ELSE v.value END)])))\n",
      "FOREACH(pred IN filter(pred IN pred_nodes WHERE NOT id(pred) in self_loops) |\n",
      "\tMERGE (pred)-[new_rel:edge]->(rhs_EGFR_1_EGFR_2)\n",
      "\tSET new_rel = apoc.map.fromValues(REDUCE(pairs=[], k in keys(pred_props[toString(id(pred))]) | \n",
      "\t\t pairs + [k, REDUCE(values=[], v in pred_props[toString(id(pred))][k] | \n",
      "\t\t\tvalues + CASE WHEN v.value IN values THEN [] ELSE v.value END)])))\n",
      "// add self loop \n",
      "FOREACH(dummy in CASE WHEN length(self_loops) > 0 THEN [NULL] ELSE [] END |\n",
      "\tMERGE (rhs_EGFR_1_EGFR_2)-[new_rel:edge]->(rhs_EGFR_1_EGFR_2)\n",
      "\tSET new_rel = apoc.map.fromValues(REDUCE(pairs=[], k in keys(self_loop_props) |\n",
      "\t\tpairs + [k, REDUCE(values=[], v in self_loop_props[k] |\n",
      "\t\t\tvalues + CASE WHEN v.value IN values THEN [] ELSE v.value END)])))\n",
      "// accumulate all the attrs of the edges incident to the merged nodes\n",
      "WITH [] as suc_typings, [] as pred_typings, p_EGFR_1, rhs_EGFR_1_EGFR_2, uidb4ba55420c264b32bb2257c50e8ae95d\n",
      "OPTIONAL MATCH (rhs_EGFR_1_EGFR_2)-[:typing]->(suc)\n",
      "WITH suc_typings + collect(suc) as suc_typings, pred_typings, p_EGFR_1, rhs_EGFR_1_EGFR_2, uidb4ba55420c264b32bb2257c50e8ae95d\n",
      "OPTIONAL MATCH (pred)-[:typing]->(rhs_EGFR_1_EGFR_2)\n",
      "WITH pred_typings + collect(pred) as pred_typings, suc_typings, p_EGFR_1, rhs_EGFR_1_EGFR_2, uidb4ba55420c264b32bb2257c50e8ae95d\n",
      "OPTIONAL MATCH (p_EGFR_1)-[:typing]->(suc)\n",
      "WITH suc_typings + collect(suc) as suc_typings, pred_typings, p_EGFR_1, rhs_EGFR_1_EGFR_2, uidb4ba55420c264b32bb2257c50e8ae95d\n",
      "OPTIONAL MATCH (pred)-[:typing]->(p_EGFR_1)\n",
      "WITH pred_typings + collect(pred) as pred_typings, suc_typings, p_EGFR_1, rhs_EGFR_1_EGFR_2, uidb4ba55420c264b32bb2257c50e8ae95d\n",
      "FOREACH(suc in suc_typings |\n",
      "\tMERGE (rhs_EGFR_1_EGFR_2)-[:typing]->(suc))\n",
      "FOREACH(pred in pred_typings |\n",
      "\tMERGE (pred)-[:typing]->(rhs_EGFR_1_EGFR_2))\n",
      "DETACH DELETE (p_EGFR_1)\n",
      "\n",
      "\n",
      "// Return statement \n",
      "RETURN p_EGFR_1, rhs_EGFR_1_EGFR_2, uidb4ba55420c264b32bb2257c50e8ae95d\n",
      "\n"
     ]
    }
   ],
   "source": [
    "action_graph_EGFR_1 = h.node_type(\"nugget_1\", rhs_g1[\"EGFR_1\"])[\"action_graph\"]\n",
    "action_graph_EGFR_2 = h.node_type(\"nugget_1\", rhs_g1[\"EGFR_2\"])[\"action_graph\"]\n",
    "_, rhs_g2 = h.rewrite(\n",
    "    \"action_graph\", rule2, \n",
    "    {\"EGFR_1\": str(action_graph_EGFR_1), \"EGFR_2\": str(action_graph_EGFR_2)})\n",
    "action_graph_EGFR = rhs_g2[merge_result_id]"
   ]
  },
  {
   "cell_type": "markdown",
   "metadata": {},
   "source": [
    "### 4) Generation rule for nugget 2 (some of the nodes are already in the action graph)"
   ]
  },
  {
   "cell_type": "code",
   "execution_count": 11,
   "metadata": {},
   "outputs": [
    {
     "name": "stderr",
     "output_type": "stream",
     "text": [
      "/home/eugenia/anaconda3/envs/regraph_v2/lib/python3.6/site-packages/matplotlib/cbook/deprecation.py:107: MatplotlibDeprecationWarning: Passing one of 'on', 'true', 'off', 'false' as a boolean is deprecated; use an actual boolean (True/False) instead.\n",
      "  warnings.warn(message, mplDeprecation, stacklevel=1)\n"
     ]
    },
    {
     "data": {
      "image/png": "[encoded data removed]",
      "text/plain": [
       "<Figure size 1008x216 with 3 Axes>"
      ]
     },
     "metadata": {},
     "output_type": "display_data"
    }
   ],
   "source": [
    "# Rule that merges two EGFR nodes from the action graph\n",
    "rule3 = Rule.from_transform(nx.DiGraph())\n",
    "rule3.inject_add_nodes_from([\n",
    "    (\"EGFR\", {\"uniprotid\": \"P00533\", \"hgnc_symbol\": \"EGFR\"}),\n",
    "    (\"PK\", {\"name\": \"Protein kinase\"}),\n",
    "    (\"activity\", {\"name\": \"activity\", \"test\": True}),\n",
    "    (\"mod\", {\"value\": True}),\n",
    "    (\"phosphorylation\", {\"name\": \"phosphorylation\", \"test\": False}),\n",
    "    (\"ABL1\", {\"uniprotid\": \"P00519\", \"hgnc_symbol\": \"ABL1\"})\n",
    "])\n",
    "rule3.inject_add_edges_from([\n",
    "    (\"PK\", \"EGFR\", {\"start\": 300, \"end\": 500}),\n",
    "    (\"activity\", \"PK\"),\n",
    "    (\"PK\", \"mod\"),\n",
    "    (\"mod\", \"phosphorylation\"),\n",
    "    (\"phosphorylation\", \"ABL1\")\n",
    "])\n",
    "plot_rule(rule3)"
   ]
  },
  {
   "cell_type": "code",
   "execution_count": 12,
   "metadata": {},
   "outputs": [
    {
     "name": "stdout",
     "output_type": "stream",
     "text": [
      "{'action_graph': {'EGFR': '166375', 'PK': '166366'}, 'meta_model': {'activity': 'state', 'mod': 'mod', 'phosphorylation': 'state', 'ABL1': 'gene'}}\n"
     ]
    }
   ],
   "source": [
    "action_graph_PK = h.node_type(\"nugget_1\", rhs_g1[\"PK\"])[\"action_graph\"]\n",
    "\n",
    "rhs_typing3 = {\n",
    "    \"action_graph\": {\n",
    "        \"EGFR\": action_graph_EGFR,\n",
    "        \"PK\": action_graph_PK\n",
    "    },\n",
    "    \"meta_model\": {\n",
    "        \"activity\": \"state\",\n",
    "        \"mod\": \"mod\",\n",
    "        \"phosphorylation\": \"state\",\n",
    "        \"ABL1\": \"gene\"\n",
    "    }\n",
    "}\n",
    "print(rhs_typing3)"
   ]
  },
  {
   "cell_type": "code",
   "execution_count": 13,
   "metadata": {
    "scrolled": true
   },
   "outputs": [
    {
     "name": "stdout",
     "output_type": "stream",
     "text": [
      "CREATE CONSTRAINT ON (n:nugget_2) ASSERT n.id IS UNIQUE\n",
      "// Empty instance \n",
      "\n",
      "// Adding node 'phosphorylation' from the rhs \n",
      "CREATE (rhs_phosphorylation:nugget_2) \n",
      "SET rhs_phosphorylation.id = toString(id(rhs_phosphorylation)) \n",
      "WITH toString(id(rhs_phosphorylation)) as rhs_phosphorylation_id , rhs_phosphorylation\n",
      "\n",
      "\n",
      "// Adding node 'ABL1' from the rhs \n",
      "CREATE (rhs_ABL1:nugget_2) \n",
      "SET rhs_ABL1.id = toString(id(rhs_ABL1)) \n",
      "WITH toString(id(rhs_ABL1)) as rhs_ABL1_id , rhs_phosphorylation_id, rhs_phosphorylation, rhs_ABL1\n",
      "\n",
      "\n",
      "// Adding node 'PK' from the rhs \n",
      "CREATE (rhs_PK:nugget_2) \n",
      "SET rhs_PK.id = toString(id(rhs_PK)) \n",
      "WITH toString(id(rhs_PK)) as rhs_PK_id , rhs_ABL1_id, rhs_ABL1, rhs_phosphorylation, rhs_PK, rhs_phosphorylation_id\n",
      "\n",
      "\n",
      "// Adding node 'activity' from the rhs \n",
      "CREATE (rhs_activity:nugget_2) \n",
      "SET rhs_activity.id = toString(id(rhs_activity)) \n",
      "WITH toString(id(rhs_activity)) as rhs_activity_id , rhs_PK_id, rhs_ABL1_id, rhs_ABL1, rhs_phosphorylation, rhs_PK, rhs_phosphorylation_id, rhs_activity\n",
      "\n",
      "\n",
      "// Adding node 'EGFR' from the rhs \n",
      "CREATE (rhs_EGFR:nugget_2) \n",
      "SET rhs_EGFR.id = toString(id(rhs_EGFR)) \n",
      "WITH toString(id(rhs_EGFR)) as rhs_EGFR_id , rhs_PK_id, rhs_EGFR, rhs_ABL1_id, rhs_ABL1, rhs_phosphorylation, rhs_PK, rhs_phosphorylation_id, rhs_activity_id, rhs_activity\n",
      "\n",
      "\n",
      "// Adding node 'mod' from the rhs \n",
      "CREATE (rhs_mod:nugget_2) \n",
      "SET rhs_mod.id = toString(id(rhs_mod)) \n",
      "WITH toString(id(rhs_mod)) as rhs_mod_id , rhs_EGFR_id, rhs_PK_id, rhs_EGFR, rhs_mod, rhs_ABL1_id, rhs_ABL1, rhs_phosphorylation, rhs_PK, rhs_phosphorylation_id, rhs_activity_id, rhs_activity\n",
      "\n",
      "\n",
      "// Adding properties to the node 'EGFR' from the rhs \n",
      "FOREACH (dummy IN CASE WHEN 'uniprotid' IN keys(rhs_EGFR) THEN [] ELSE [1] END |\tSET rhs_EGFR.uniprotid = ['P00533'])\n",
      "FOREACH(dummy IN CASE WHEN 'uniprotid' IN keys(rhs_EGFR) THEN [1] ELSE [] END |\n",
      "\tFOREACH(val in ['P00533'] |\n",
      "\t\tFOREACH(dummy1 IN CASE WHEN NOT val IN rhs_EGFR.uniprotid THEN [1] ELSE [] END |\n",
      "\t\t\tSET rhs_EGFR.uniprotid = rhs_EGFR.uniprotid + [val])))\n",
      "FOREACH (dummy IN CASE WHEN 'hgnc_symbol' IN keys(rhs_EGFR) THEN [] ELSE [1] END |\tSET rhs_EGFR.hgnc_symbol = ['EGFR'])\n",
      "FOREACH(dummy IN CASE WHEN 'hgnc_symbol' IN keys(rhs_EGFR) THEN [1] ELSE [] END |\n",
      "\tFOREACH(val in ['EGFR'] |\n",
      "\t\tFOREACH(dummy1 IN CASE WHEN NOT val IN rhs_EGFR.hgnc_symbol THEN [1] ELSE [] END |\n",
      "\t\t\tSET rhs_EGFR.hgnc_symbol = rhs_EGFR.hgnc_symbol + [val])))\n",
      "\n",
      "\n",
      "// Adding properties to the node 'PK' from the rhs \n",
      "FOREACH (dummy IN CASE WHEN 'name' IN keys(rhs_PK) THEN [] ELSE [1] END |\tSET rhs_PK.name = ['Protein kinase'])\n",
      "FOREACH(dummy IN CASE WHEN 'name' IN keys(rhs_PK) THEN [1] ELSE [] END |\n",
      "\tFOREACH(val in ['Protein kinase'] |\n",
      "\t\tFOREACH(dummy1 IN CASE WHEN NOT val IN rhs_PK.name THEN [1] ELSE [] END |\n",
      "\t\t\tSET rhs_PK.name = rhs_PK.name + [val])))\n",
      "\n",
      "\n",
      "// Adding properties to the node 'activity' from the rhs \n",
      "FOREACH (dummy IN CASE WHEN 'name' IN keys(rhs_activity) THEN [] ELSE [1] END |\tSET rhs_activity.name = ['activity'])\n",
      "FOREACH(dummy IN CASE WHEN 'name' IN keys(rhs_activity) THEN [1] ELSE [] END |\n",
      "\tFOREACH(val in ['activity'] |\n",
      "\t\tFOREACH(dummy1 IN CASE WHEN NOT val IN rhs_activity.name THEN [1] ELSE [] END |\n",
      "\t\t\tSET rhs_activity.name = rhs_activity.name + [val])))\n",
      "FOREACH (dummy IN CASE WHEN 'test' IN keys(rhs_activity) THEN [] ELSE [1] END |\tSET rhs_activity.test = [True])\n",
      "FOREACH(dummy IN CASE WHEN 'test' IN keys(rhs_activity) THEN [1] ELSE [] END |\n",
      "\tFOREACH(val in [True] |\n",
      "\t\tFOREACH(dummy1 IN CASE WHEN NOT val IN rhs_activity.test THEN [1] ELSE [] END |\n",
      "\t\t\tSET rhs_activity.test = rhs_activity.test + [val])))\n",
      "\n",
      "\n",
      "// Adding properties to the node 'mod' from the rhs \n",
      "FOREACH (dummy IN CASE WHEN 'value' IN keys(rhs_mod) THEN [] ELSE [1] END |\tSET rhs_mod.value = [True])\n",
      "FOREACH(dummy IN CASE WHEN 'value' IN keys(rhs_mod) THEN [1] ELSE [] END |\n",
      "\tFOREACH(val in [True] |\n",
      "\t\tFOREACH(dummy1 IN CASE WHEN NOT val IN rhs_mod.value THEN [1] ELSE [] END |\n",
      "\t\t\tSET rhs_mod.value = rhs_mod.value + [val])))\n",
      "\n",
      "\n",
      "// Adding properties to the node 'phosphorylation' from the rhs \n",
      "FOREACH (dummy IN CASE WHEN 'name' IN keys(rhs_phosphorylation) THEN [] ELSE [1] END |\tSET rhs_phosphorylation.name = ['phosphorylation'])\n",
      "FOREACH(dummy IN CASE WHEN 'name' IN keys(rhs_phosphorylation) THEN [1] ELSE [] END |\n",
      "\tFOREACH(val in ['phosphorylation'] |\n",
      "\t\tFOREACH(dummy1 IN CASE WHEN NOT val IN rhs_phosphorylation.name THEN [1] ELSE [] END |\n",
      "\t\t\tSET rhs_phosphorylation.name = rhs_phosphorylation.name + [val])))\n",
      "FOREACH (dummy IN CASE WHEN 'test' IN keys(rhs_phosphorylation) THEN [] ELSE [1] END |\tSET rhs_phosphorylation.test = [False])\n",
      "FOREACH(dummy IN CASE WHEN 'test' IN keys(rhs_phosphorylation) THEN [1] ELSE [] END |\n",
      "\tFOREACH(val in [False] |\n",
      "\t\tFOREACH(dummy1 IN CASE WHEN NOT val IN rhs_phosphorylation.test THEN [1] ELSE [] END |\n",
      "\t\t\tSET rhs_phosphorylation.test = rhs_phosphorylation.test + [val])))\n",
      "\n",
      "\n",
      "// Adding properties to the node 'ABL1' from the rhs \n",
      "FOREACH (dummy IN CASE WHEN 'uniprotid' IN keys(rhs_ABL1) THEN [] ELSE [1] END |\tSET rhs_ABL1.uniprotid = ['P00519'])\n",
      "FOREACH(dummy IN CASE WHEN 'uniprotid' IN keys(rhs_ABL1) THEN [1] ELSE [] END |\n",
      "\tFOREACH(val in ['P00519'] |\n",
      "\t\tFOREACH(dummy1 IN CASE WHEN NOT val IN rhs_ABL1.uniprotid THEN [1] ELSE [] END |\n",
      "\t\t\tSET rhs_ABL1.uniprotid = rhs_ABL1.uniprotid + [val])))\n",
      "FOREACH (dummy IN CASE WHEN 'hgnc_symbol' IN keys(rhs_ABL1) THEN [] ELSE [1] END |\tSET rhs_ABL1.hgnc_symbol = ['ABL1'])\n",
      "FOREACH(dummy IN CASE WHEN 'hgnc_symbol' IN keys(rhs_ABL1) THEN [1] ELSE [] END |\n",
      "\tFOREACH(val in ['ABL1'] |\n",
      "\t\tFOREACH(dummy1 IN CASE WHEN NOT val IN rhs_ABL1.hgnc_symbol THEN [1] ELSE [] END |\n",
      "\t\t\tSET rhs_ABL1.hgnc_symbol = rhs_ABL1.hgnc_symbol + [val])))\n",
      "\n",
      "\n",
      "// Adding edge 'phosphorylation->ABL1' from the rhs \n",
      "MERGE (rhs_phosphorylation)-[rhs_phosphorylation_rhs_ABL1:edge]->(rhs_ABL1)\n",
      "\n",
      "\n",
      "// Adding edge 'PK->EGFR' from the rhs \n",
      "MERGE (rhs_PK)-[rhs_PK_rhs_EGFR:edge]->(rhs_EGFR)\n",
      "\n",
      "\n",
      "// Adding edge 'PK->mod' from the rhs \n",
      "MERGE (rhs_PK)-[rhs_PK_rhs_mod:edge]->(rhs_mod)\n",
      "\n",
      "\n",
      "// Adding edge 'mod->phosphorylation' from the rhs \n",
      "MERGE (rhs_mod)-[rhs_mod_rhs_phosphorylation:edge]->(rhs_phosphorylation)\n",
      "\n",
      "\n",
      "// Adding edge 'activity->PK' from the rhs \n",
      "MERGE (rhs_activity)-[rhs_activity_rhs_PK:edge]->(rhs_PK)\n",
      "\n",
      "\n",
      "// Adding properties to an edge 'PK'->'EGFR' from the rhs \n",
      "WITH rhs_EGFR_id, rhs_PK_id, rhs_EGFR, rhs_PK_rhs_EGFR, rhs_mod, rhs_ABL1_id, rhs_ABL1, rhs_mod_id, rhs_phosphorylation, rhs_PK, rhs_phosphorylation_id, rhs_activity_id, rhs_activity \n",
      "FOREACH (dummy IN CASE WHEN 'start' IN keys(rhs_PK_rhs_EGFR) THEN [] ELSE [1] END |\tSET rhs_PK_rhs_EGFR.start = [300])\n",
      "FOREACH(dummy IN CASE WHEN 'start' IN keys(rhs_PK_rhs_EGFR) THEN [1] ELSE [] END |\n",
      "\tFOREACH(val in [300] |\n",
      "\t\tFOREACH(dummy1 IN CASE WHEN NOT val IN rhs_PK_rhs_EGFR.start THEN [1] ELSE [] END |\n",
      "\t\t\tSET rhs_PK_rhs_EGFR.start = rhs_PK_rhs_EGFR.start + [val])))\n",
      "FOREACH (dummy IN CASE WHEN 'end' IN keys(rhs_PK_rhs_EGFR) THEN [] ELSE [1] END |\tSET rhs_PK_rhs_EGFR.end = [500])\n",
      "FOREACH(dummy IN CASE WHEN 'end' IN keys(rhs_PK_rhs_EGFR) THEN [1] ELSE [] END |\n",
      "\tFOREACH(val in [500] |\n",
      "\t\tFOREACH(dummy1 IN CASE WHEN NOT val IN rhs_PK_rhs_EGFR.end THEN [1] ELSE [] END |\n",
      "\t\t\tSET rhs_PK_rhs_EGFR.end = rhs_PK_rhs_EGFR.end + [val])))\n",
      "WITH rhs_EGFR_id, rhs_PK_id, rhs_EGFR, rhs_PK_rhs_EGFR, rhs_mod, rhs_ABL1_id, rhs_ABL1, rhs_mod_id, rhs_phosphorylation, rhs_PK, rhs_phosphorylation_id, rhs_activity_id, rhs_activity \n",
      "\n",
      "// Return statement \n",
      "RETURN rhs_EGFR_id, rhs_PK_id, rhs_EGFR, rhs_PK_rhs_EGFR, rhs_mod, rhs_ABL1_id, rhs_ABL1, rhs_mod_id, rhs_phosphorylation, rhs_PK, rhs_phosphorylation_id, rhs_activity_id, rhs_activity\n",
      "\n"
     ]
    }
   ],
   "source": [
    "_, rhs_g3 = h.rewrite(\"nugget_2\", rule3, {}, rhs_typing=rhs_typing3)"
   ]
  },
  {
   "cell_type": "markdown",
   "metadata": {},
   "source": [
    "### 5) Merge two modification actions of a protein kinase region in the action graph"
   ]
  },
  {
   "cell_type": "code",
   "execution_count": 14,
   "metadata": {},
   "outputs": [
    {
     "name": "stderr",
     "output_type": "stream",
     "text": [
      "/home/eugenia/anaconda3/envs/regraph_v2/lib/python3.6/site-packages/matplotlib/cbook/deprecation.py:107: MatplotlibDeprecationWarning: Passing one of 'on', 'true', 'off', 'false' as a boolean is deprecated; use an actual boolean (True/False) instead.\n",
      "  warnings.warn(message, mplDeprecation, stacklevel=1)\n"
     ]
    },
    {
     "data": {
      "image/png": "[encoded data removed]",
      "text/plain": [
       "<Figure size 1008x216 with 3 Axes>"
      ]
     },
     "metadata": {},
     "output_type": "display_data"
    }
   ],
   "source": [
    "pattern = nx.DiGraph()\n",
    "pattern.add_nodes_from([\"mod_1\", \"mod_2\"])\n",
    "rule4 = Rule.from_transform(pattern)\n",
    "merged_mod = rule4.inject_merge_nodes([\"mod_1\", \"mod_2\"])\n",
    "plot_rule(rule4)"
   ]
  },
  {
   "cell_type": "code",
   "execution_count": 15,
   "metadata": {},
   "outputs": [
    {
     "name": "stdout",
     "output_type": "stream",
     "text": [
      "CREATE CONSTRAINT ON (n:action_graph) ASSERT n.id IS UNIQUE\n",
      "// Match nodes and edges of the instance \n",
      "MATCH (lhs_mod_1:action_graph { id : '166362'}) , (lhs_mod_2:action_graph { id : '166381'})  \n",
      "\n",
      "\n",
      "\n",
      "// Renaming vars to correspond to the vars of P\n",
      "WITH lhs_mod_1 as p_mod_1, lhs_mod_2 as p_mod_2 \n",
      "\n",
      "// Merging nodes '{'mod_1', 'mod_2'}' of the preserved part into 'mod_1_mod_2' \n",
      "// accumulate all the attrs of the nodes to be merged\n",
      "WITH [] as new_props, p_mod_2, p_mod_1\n",
      "WITH new_props + REDUCE(pairs = [], k in keys(p_mod_1) | \n",
      "\tpairs + REDUCE(inner_pairs = [], v in p_mod_1[k] | \n",
      "\t\tinner_pairs + {key: k, value: v})) as new_props, p_mod_2, p_mod_1\n",
      "WITH new_props + REDUCE(pairs = [], k in keys(p_mod_2) | \n",
      "\tpairs + REDUCE(inner_pairs = [], v in p_mod_2[k] | \n",
      "\t\tinner_pairs + {key: k, value: v})) as new_props, p_mod_2, p_mod_1\n",
      "WITH apoc.map.groupByMulti(new_props, 'key') as new_props, p_mod_2, p_mod_1\n",
      "WITH apoc.map.fromValues(REDUCE(pairs=[], k in keys(new_props) | \n",
      "\tpairs + [k, REDUCE(values=[], v in new_props[k] | \n",
      "\t\tvalues + CASE WHEN v.value IN values THEN [] ELSE v.value END)])) as new_props, p_mod_2, p_mod_1\n",
      "SET p_mod_1 = new_props\n",
      "WITH p_mod_1 as rhs_mod_1_mod_2, p_mod_2\n",
      "// set appropriate node id\n",
      "SET rhs_mod_1_mod_2.id = toString(id(rhs_mod_1_mod_2))\n",
      "SET rhs_mod_1_mod_2.count = NULL\n",
      "WITH toString(id(rhs_mod_1_mod_2)) as uidfee6ff28b496486c9015535e0e4c2b77, p_mod_2, rhs_mod_1_mod_2\n",
      "// accumulate all the attrs of the edges incident to the merged nodes\n",
      "WITH [] as suc_maps, [] as pred_maps, p_mod_2, rhs_mod_1_mod_2, uidfee6ff28b496486c9015535e0e4c2b77\n",
      "OPTIONAL MATCH (rhs_mod_1_mod_2)-[out_rel:edge]->(suc)\n",
      "WITH suc_maps + collect({id: id(suc), neighbor: suc, edge: out_rel}) as suc_maps, pred_maps, p_mod_2, rhs_mod_1_mod_2, uidfee6ff28b496486c9015535e0e4c2b77\n",
      "OPTIONAL MATCH (pred)-[in_rel:edge]->(rhs_mod_1_mod_2)\n",
      "WITH pred_maps + collect({id: id(pred), neighbor: pred, edge: in_rel}) as pred_maps, suc_maps, p_mod_2, rhs_mod_1_mod_2, uidfee6ff28b496486c9015535e0e4c2b77\n",
      "OPTIONAL MATCH (p_mod_2)-[out_rel:edge]->(suc)\n",
      "WITH suc_maps + collect({id: id(suc), neighbor: suc, edge: out_rel}) as suc_maps, pred_maps, p_mod_2, rhs_mod_1_mod_2, uidfee6ff28b496486c9015535e0e4c2b77\n",
      "OPTIONAL MATCH (pred)-[in_rel:edge]->(p_mod_2)\n",
      "WITH pred_maps + collect({id: id(pred), neighbor: pred, edge: in_rel}) as pred_maps, suc_maps, p_mod_2, rhs_mod_1_mod_2, uidfee6ff28b496486c9015535e0e4c2b77\n",
      "WITH apoc.map.groupByMulti(suc_maps, 'id') as suc_props, REDUCE(list=[], map in suc_maps | \n",
      "\tlist + CASE WHEN NOT map['neighbor'] IS NULL THEN [map['neighbor']] ELSE [] END) as suc_nodes, apoc.map.groupByMulti(pred_maps, 'id') as pred_props, REDUCE(list=[], map in pred_maps | \n",
      "\tlist + CASE WHEN NOT map['neighbor'] IS NULL THEN [map['neighbor']] ELSE [] END) as pred_nodes, \tREDUCE(l=[], el in suc_maps + pred_maps| \n",
      "\t\tl + CASE WHEN el['id'] IN [id(rhs_mod_1_mod_2),id(p_mod_2)] THEN [toString(el['id'])] ELSE [] END) as self_loops, p_mod_2, rhs_mod_1_mod_2, uidfee6ff28b496486c9015535e0e4c2b77\n",
      "WITH suc_nodes, pred_nodes, apoc.map.fromValues(REDUCE(edge_props=[], k in keys(suc_props) | \n",
      "\tedge_props + [k, apoc.map.groupByMulti(REDUCE(props=[], el in suc_props[k] | \n",
      "\t\tprops + REDUCE(pairs=[], kk in keys(el['edge']) | \n",
      "\t\t\tpairs + REDUCE(values=[], v in el['edge'][kk] | \n",
      "\t\t\t\tvalues + {key: kk, value: v}))), 'key')])) as suc_props, \n",
      "\tapoc.map.fromValues(REDUCE(edge_props=[], k in keys(pred_props) | \n",
      "\tedge_props + [k, apoc.map.groupByMulti(REDUCE(props=[], el in pred_props[k] | \n",
      "\t\tprops + REDUCE(pairs=[], kk in keys(el['edge']) | \n",
      "\t\t\tpairs + REDUCE(values=[], v in el['edge'][kk] | \n",
      "\t\t\t\t values + {key: kk, value: v}))), 'key')])) as pred_props,  \n",
      "\tREDUCE(edge_props=[], k IN filter(k IN keys(suc_props) WHERE k IN self_loops) |\n",
      "\t\tedge_props + suc_props[k]) + \n",
      "\tREDUCE(edge_props=[], k IN filter(k IN keys(pred_props) WHERE k IN self_loops) |\n",
      "\t\tedge_props + pred_props[k]) as self_loop_props, p_mod_2, rhs_mod_1_mod_2, uidfee6ff28b496486c9015535e0e4c2b77, self_loops\n",
      "WITH suc_nodes, suc_props, pred_nodes, pred_props, apoc.map.groupByMulti(REDUCE(pairs=[], el in self_loop_props |\n",
      "\tpairs + REDUCE(inner_pairs=[], k in keys(el['edge']) | \n",
      "\t\tinner_pairs + REDUCE(values=[], v in el['edge'][k] |\n",
      "\t\t\tvalues + {key: k, value: v}))), 'key') as self_loop_props, p_mod_2, rhs_mod_1_mod_2, uidfee6ff28b496486c9015535e0e4c2b77, self_loops\n",
      "FOREACH(suc IN filter(suc IN suc_nodes WHERE NOT id(suc) in self_loops) |\n",
      "\tMERGE (rhs_mod_1_mod_2)-[new_rel:edge]->(suc)\n",
      "\tSET new_rel = apoc.map.fromValues(REDUCE(pairs=[], k in keys(suc_props[toString(id(suc))]) | \n",
      "\t\t pairs + [k, REDUCE(values=[], v in suc_props[toString(id(suc))][k] | \n",
      "\t\t\tvalues + CASE WHEN v.value IN values THEN [] ELSE v.value END)])))\n",
      "FOREACH(pred IN filter(pred IN pred_nodes WHERE NOT id(pred) in self_loops) |\n",
      "\tMERGE (pred)-[new_rel:edge]->(rhs_mod_1_mod_2)\n",
      "\tSET new_rel = apoc.map.fromValues(REDUCE(pairs=[], k in keys(pred_props[toString(id(pred))]) | \n",
      "\t\t pairs + [k, REDUCE(values=[], v in pred_props[toString(id(pred))][k] | \n",
      "\t\t\tvalues + CASE WHEN v.value IN values THEN [] ELSE v.value END)])))\n",
      "// add self loop \n",
      "FOREACH(dummy in CASE WHEN length(self_loops) > 0 THEN [NULL] ELSE [] END |\n",
      "\tMERGE (rhs_mod_1_mod_2)-[new_rel:edge]->(rhs_mod_1_mod_2)\n",
      "\tSET new_rel = apoc.map.fromValues(REDUCE(pairs=[], k in keys(self_loop_props) |\n",
      "\t\tpairs + [k, REDUCE(values=[], v in self_loop_props[k] |\n",
      "\t\t\tvalues + CASE WHEN v.value IN values THEN [] ELSE v.value END)])))\n",
      "// accumulate all the attrs of the edges incident to the merged nodes\n",
      "WITH [] as suc_typings, [] as pred_typings, p_mod_2, rhs_mod_1_mod_2, uidfee6ff28b496486c9015535e0e4c2b77\n",
      "OPTIONAL MATCH (rhs_mod_1_mod_2)-[:typing]->(suc)\n",
      "WITH suc_typings + collect(suc) as suc_typings, pred_typings, p_mod_2, rhs_mod_1_mod_2, uidfee6ff28b496486c9015535e0e4c2b77\n",
      "OPTIONAL MATCH (pred)-[:typing]->(rhs_mod_1_mod_2)\n",
      "WITH pred_typings + collect(pred) as pred_typings, suc_typings, p_mod_2, rhs_mod_1_mod_2, uidfee6ff28b496486c9015535e0e4c2b77\n",
      "OPTIONAL MATCH (p_mod_2)-[:typing]->(suc)\n",
      "WITH suc_typings + collect(suc) as suc_typings, pred_typings, p_mod_2, rhs_mod_1_mod_2, uidfee6ff28b496486c9015535e0e4c2b77\n",
      "OPTIONAL MATCH (pred)-[:typing]->(p_mod_2)\n",
      "WITH pred_typings + collect(pred) as pred_typings, suc_typings, p_mod_2, rhs_mod_1_mod_2, uidfee6ff28b496486c9015535e0e4c2b77\n",
      "FOREACH(suc in suc_typings |\n",
      "\tMERGE (rhs_mod_1_mod_2)-[:typing]->(suc))\n",
      "FOREACH(pred in pred_typings |\n",
      "\tMERGE (pred)-[:typing]->(rhs_mod_1_mod_2))\n",
      "DETACH DELETE (p_mod_2)\n",
      "\n",
      "\n",
      "// Return statement \n",
      "RETURN p_mod_2, rhs_mod_1_mod_2, uidfee6ff28b496486c9015535e0e4c2b77\n",
      "\n"
     ]
    }
   ],
   "source": [
    "action_graph_mod_1 = h.node_type(\"nugget_1\", rhs_g1[\"mod\"])[\"action_graph\"]\n",
    "action_graph_mod_2 = h.node_type(\"nugget_2\", rhs_g3[\"mod\"])[\"action_graph\"]\n",
    "_, rhs_g4 = h.rewrite(\n",
    "    \"action_graph\", rule4, \n",
    "    {\"mod_1\": str(action_graph_mod_1), \"mod_2\": str(action_graph_mod_2)})\n"
   ]
  },
  {
   "cell_type": "markdown",
   "metadata": {},
   "source": [
    "## Instantiation use-case / up-propagation"
   ]
  },
  {
   "cell_type": "code",
   "execution_count": 16,
   "metadata": {},
   "outputs": [
    {
     "name": "stderr",
     "output_type": "stream",
     "text": [
      "/home/eugenia/anaconda3/envs/regraph_v2/lib/python3.6/site-packages/matplotlib/cbook/deprecation.py:107: MatplotlibDeprecationWarning: Passing one of 'on', 'true', 'off', 'false' as a boolean is deprecated; use an actual boolean (True/False) instead.\n",
      "  warnings.warn(message, mplDeprecation, stacklevel=1)\n"
     ]
    },
    {
     "data": {
      "image/png": "[encoded data removed]",
      "text/plain": [
       "<Figure size 1008x216 with 3 Axes>"
      ]
     },
     "metadata": {},
     "output_type": "display_data"
    }
   ],
   "source": [
    "pattern = nx.DiGraph()\n",
    "pattern.add_nodes_from([\"EGFR\", \"PK\"])\n",
    "pattern.add_edges_from([(\"PK\", \"EGFR\")])\n",
    "rule5 = Rule.from_transform(pattern)\n",
    "_, cloned_node = rule5.inject_clone_node(\"EGFR\")\n",
    "rule5.inject_remove_edge(\"PK\", cloned_node)\n",
    "\n",
    "plot_rule(rule5)"
   ]
  },
  {
   "cell_type": "code",
   "execution_count": 17,
   "metadata": {},
   "outputs": [
    {
     "name": "stdout",
     "output_type": "stream",
     "text": [
      "CREATE CONSTRAINT ON (n:action_graph) ASSERT n.id IS UNIQUE\n",
      "// Match nodes and edges of the instance \n",
      "MATCH (lhs_EGFR:action_graph { id : '166375'}) , (lhs_PK:action_graph { id : '166366'})  , (lhs_PK)-[lhs_PK_lhs_EGFR:edge]->(lhs_EGFR)\n",
      "\n",
      "// Cloning node 'EGFR' of the lhs \n",
      "// Create clone corresponding to 'EGFR1' of the preserved part\n",
      "// create a node corresponding to the clone\n",
      "CREATE (p_EGFR1:action_graph) \n",
      "WITH p_EGFR1, toString(id(p_EGFR1)) as p_EGFR1_id, lhs_EGFR.id as original_old, lhs_EGFR, lhs_PK, lhs_PK_lhs_EGFR \n",
      "// set the id property of the original node to NULL\n",
      "SET lhs_EGFR.id = NULL\n",
      "// copy all the properties of the original node to the clone\n",
      "SET p_EGFR1 = lhs_EGFR\n",
      "// set id property of the clone to neo4j-generated id\n",
      "SET p_EGFR1.id = toString(id(p_EGFR1)), p_EGFR1.count = NULL\n",
      "// set back the id property of the original node\n",
      "SET lhs_EGFR.id = original_old\n",
      "WITH p_EGFR1, toString(id(p_EGFR1)) as p_EGFR1_id, lhs_EGFR, lhs_PK, lhs_PK_lhs_EGFR \n",
      "WITH [] as sucIgnore, ['166366'] as predIgnore, p_EGFR1_id, p_EGFR1, lhs_EGFR, lhs_PK, lhs_PK_lhs_EGFR \n",
      "// match successors and out-edges of a node to be cloned\n",
      "OPTIONAL MATCH (lhs_EGFR)-[out_edge:edge]->(suc) \n",
      "WHERE NOT suc.id IS NULL AND NOT suc.id IN sucIgnore\n",
      "WITH collect({neighbor: suc, edge: out_edge}) as suc_maps, p_EGFR1_id, p_EGFR1, lhs_EGFR, sucIgnore, predIgnore, lhs_PK, lhs_PK_lhs_EGFR \n",
      "// match predecessors and in-edges of a node to be cloned\n",
      "OPTIONAL MATCH (pred)-[in_edge:edge]->(lhs_EGFR) \n",
      "WHERE NOT pred.id IS NULL AND NOT pred.id IN predIgnore\n",
      "WITH collect({neighbor: pred, edge: in_edge}) as pred_maps, p_EGFR1_id, p_EGFR1, lhs_EGFR, sucIgnore, predIgnore, suc_maps, lhs_PK, lhs_PK_lhs_EGFR \n",
      "// copy all incident edges of the original node to the clone\n",
      "FOREACH (suc_map IN suc_maps | \n",
      "\tFOREACH (suc IN CASE WHEN suc_map.neighbor IS NOT NULL THEN [suc_map.neighbor] ELSE [] END |\n",
      "\t\tCREATE (p_EGFR1)-[new_edge:edge]->(suc) \n",
      "\t\tSET new_edge = suc_map.edge))\n",
      "FOREACH (pred_map IN pred_maps | \n",
      "\tFOREACH (pred IN CASE WHEN pred_map.neighbor IS NOT NULL THEN [pred_map.neighbor] ELSE [] END |\n",
      "\t\tCREATE (pred)-[new_edge:edge]->(p_EGFR1) \n",
      "\t\tSET new_edge = pred_map.edge))\n",
      "// copy self loop\n",
      "FOREACH (suc_map IN suc_maps | \n",
      "\tFOREACH (self_loop IN CASE WHEN suc_map.neighbor = lhs_EGFR THEN [suc_map.edge] ELSE [] END |\n",
      "\t\tCREATE (p_EGFR1)-[new_edge:edge]->(p_EGFR1) \n",
      "\t\tSET new_edge = self_loop))\n",
      "WITH p_EGFR1_id, p_EGFR1, lhs_EGFR, sucIgnore, predIgnore, lhs_PK, lhs_PK_lhs_EGFR\n",
      "// match successors and out-edges of a node to be cloned\n",
      "OPTIONAL MATCH (lhs_EGFR)-[out_edge:typing]->(suc) \n",
      "WHERE NOT suc.id IS NULL AND NOT suc.id IN sucIgnore\n",
      "WITH collect({neighbor: suc, edge: out_edge}) as suc_maps, p_EGFR1_id, p_EGFR1, lhs_EGFR, sucIgnore, predIgnore, lhs_PK, lhs_PK_lhs_EGFR \n",
      "// match predecessors and in-edges of a node to be cloned\n",
      "OPTIONAL MATCH (pred)-[in_edge:typing]->(lhs_EGFR) \n",
      "WHERE NOT pred.id IS NULL AND NOT pred.id IN predIgnore\n",
      "WITH collect({neighbor: pred, edge: in_edge}) as pred_maps, p_EGFR1_id, p_EGFR1, lhs_EGFR, sucIgnore, predIgnore, suc_maps, lhs_PK, lhs_PK_lhs_EGFR \n",
      "// copy all incident edges of the original node to the clone\n",
      "FOREACH (suc_map IN suc_maps | \n",
      "\tFOREACH (suc IN CASE WHEN suc_map.neighbor IS NOT NULL THEN [suc_map.neighbor] ELSE [] END |\n",
      "\t\tCREATE (p_EGFR1)-[new_edge:typing]->(suc) \n",
      "\t\tSET new_edge = suc_map.edge))\n",
      "FOREACH (pred_map IN pred_maps | \n",
      "\tFOREACH (pred IN CASE WHEN pred_map.neighbor IS NOT NULL THEN [pred_map.neighbor] ELSE [] END |\n",
      "\t\tCREATE (pred)-[new_edge:typing]->(p_EGFR1) \n",
      "\t\tSET new_edge = pred_map.edge))\n",
      "// copy self loop\n",
      "FOREACH (suc_map IN suc_maps | \n",
      "\tFOREACH (self_loop IN CASE WHEN suc_map.neighbor = lhs_EGFR THEN [suc_map.edge] ELSE [] END |\n",
      "\t\tCREATE (p_EGFR1)-[new_edge:typing]->(p_EGFR1) \n",
      "\t\tSET new_edge = self_loop))\n",
      "WITH p_EGFR1_id, p_EGFR1, lhs_EGFR, sucIgnore, predIgnore, lhs_PK, lhs_PK_lhs_EGFR\n",
      "// match successors and out-edges of a node to be cloned\n",
      "OPTIONAL MATCH (lhs_EGFR)-[out_edge:related]->(suc) \n",
      "WHERE NOT suc.id IS NULL AND NOT suc.id IN sucIgnore\n",
      "WITH collect({neighbor: suc, edge: out_edge}) as suc_maps, p_EGFR1_id, p_EGFR1, lhs_EGFR, sucIgnore, predIgnore, lhs_PK, lhs_PK_lhs_EGFR \n",
      "// match predecessors and in-edges of a node to be cloned\n",
      "OPTIONAL MATCH (pred)-[in_edge:related]->(lhs_EGFR) \n",
      "WHERE NOT pred.id IS NULL AND NOT pred.id IN predIgnore\n",
      "WITH collect({neighbor: pred, edge: in_edge}) as pred_maps, p_EGFR1_id, p_EGFR1, lhs_EGFR, sucIgnore, predIgnore, suc_maps, lhs_PK, lhs_PK_lhs_EGFR \n",
      "// copy all incident edges of the original node to the clone\n",
      "FOREACH (suc_map IN suc_maps | \n",
      "\tFOREACH (suc IN CASE WHEN suc_map.neighbor IS NOT NULL THEN [suc_map.neighbor] ELSE [] END |\n",
      "\t\tCREATE (p_EGFR1)-[new_edge:related]->(suc) \n",
      "\t\tSET new_edge = suc_map.edge))\n",
      "FOREACH (pred_map IN pred_maps | \n",
      "\tFOREACH (pred IN CASE WHEN pred_map.neighbor IS NOT NULL THEN [pred_map.neighbor] ELSE [] END |\n",
      "\t\tCREATE (pred)-[new_edge:related]->(p_EGFR1) \n",
      "\t\tSET new_edge = pred_map.edge))\n",
      "// copy self loop\n",
      "FOREACH (suc_map IN suc_maps | \n",
      "\tFOREACH (self_loop IN CASE WHEN suc_map.neighbor = lhs_EGFR THEN [suc_map.edge] ELSE [] END |\n",
      "\t\tCREATE (p_EGFR1)-[new_edge:related]->(p_EGFR1) \n",
      "\t\tSET new_edge = self_loop))\n",
      "WITH p_EGFR1_id, p_EGFR1, lhs_EGFR, sucIgnore, predIgnore, lhs_PK, lhs_PK_lhs_EGFR\n",
      "WITH p_EGFR1_id, p_EGFR1, lhs_EGFR, lhs_PK, lhs_PK_lhs_EGFR \n",
      "\n",
      "WITH p_EGFR1_id, p_EGFR1, lhs_EGFR, lhs_PK, lhs_PK_lhs_EGFR \n",
      "// Renaming vars to correspond to the vars of P\n",
      "WITH p_EGFR1_id, p_EGFR1, lhs_PK_lhs_EGFR , lhs_EGFR as p_EGFR, lhs_PK as p_PK \n",
      "\n",
      "// Removing edges not bound to vars by matching (edges from/to clones)\n",
      "// Removing 'PK->EGFR1' in P \n",
      "OPTIONAL MATCH (p_PK)-[p_PK_p_EGFR1:edge]->(p_EGFR1)\n",
      "DELETE p_PK_p_EGFR1\n",
      "WITH p_EGFR1_id, p_EGFR1, p_PK, p_EGFR, lhs_PK_lhs_EGFR // Renaming vars to correspond to the vars of rhs\n",
      "WITH p_EGFR1_id, lhs_PK_lhs_EGFR , p_EGFR as rhs_EGFR, p_PK as rhs_PK, p_EGFR1 as rhs_EGFR1 \n",
      "\n",
      "// Return statement \n",
      "RETURN rhs_EGFR, p_EGFR1_id, rhs_PK, rhs_EGFR1, lhs_PK_lhs_EGFR\n",
      "\n"
     ]
    }
   ],
   "source": [
    "rhs_g5 = h.rewrite(\n",
    "    \"action_graph\", rule5, \n",
    "    {\"EGFR\": action_graph_EGFR, \"PK\": action_graph_PK})"
   ]
  }
 ],
 "metadata": {
  "kernelspec": {
   "display_name": "Python 3",
   "language": "python",
   "name": "python3"
  },
  "language_info": {
   "codemirror_mode": {
    "name": "ipython",
    "version": 3
   },
   "file_extension": ".py",
   "mimetype": "text/x-python",
   "name": "python",
   "nbconvert_exporter": "python",
   "pygments_lexer": "ipython3",
   "version": "3.6.6"
  }
 },
 "nbformat": 4,
 "nbformat_minor": 2
}
