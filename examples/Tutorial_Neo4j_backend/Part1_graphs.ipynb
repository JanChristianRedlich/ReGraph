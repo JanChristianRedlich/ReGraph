{
 "cells": [
  {
   "cell_type": "markdown",
   "metadata": {
    "collapsed": true
   },
   "source": [
    "# ReGraph tutorial (Neo4j backend)\n",
    "\n",
    "\n",
    "## Part 1: Rewriting simple graph with attributes"
   ]
  },
  {
   "cell_type": "markdown",
   "metadata": {},
   "source": [
    "This notebook consists of simple examples of usage of the ReGraph library"
   ]
  },
  {
   "cell_type": "code",
   "execution_count": 1,
   "metadata": {},
   "outputs": [],
   "source": [
    "from regraph import NXGraph, Neo4jGraph, Rule\n",
    "from regraph import plot_graph, plot_instance, plot_rule"
   ]
  },
  {
   "cell_type": "code",
   "execution_count": 2,
   "metadata": {},
   "outputs": [],
   "source": [
    "%matplotlib inline"
   ]
  },
  {
   "cell_type": "markdown",
   "metadata": {},
   "source": [
    "### 1. Creating and modifying a graph object"
   ]
  },
  {
   "cell_type": "markdown",
   "metadata": {},
   "source": [
    "ReGraph implements a wrapper around the Neo4j driver, the `Neo4jGraph` class, that provides an API for accessing the underlying graph database as a graph object.\n",
    "\n",
    "Before you can initialize a `Neo4jGraph` object, you need to start your Neo4j database. Then, you need to provide the credentials necessary to establish a connection to the instance of the Neo4j database to the constructor of `Neo4jGraph`, namely:\n",
    "- URI for the _bolt_ port ('bolt://localhost:7687' in the example below)\n",
    "- username ('neo4j' in the example below),\n",
    "- password ('admin' in the example below)."
   ]
  },
  {
   "cell_type": "code",
   "execution_count": 3,
   "metadata": {},
   "outputs": [],
   "source": [
    "# Create an empty graph object\n",
    "graph = Neo4jGraph(uri=\"bolt://localhost:7687\", user=\"neo4j\", password=\"admin\")\n",
    "\n",
    "# If you run this notebooks multiple times, you need to clear the graph in the db\n",
    "graph._clear()\n",
    "\n",
    "# Add a list of nodes, optionally with attributes\n",
    "graph.add_nodes_from(\n",
    "    [\n",
    "        'Alice',\n",
    "        ('Bob', {'age': 15, 'gender': 'male'}),\n",
    "        ('Jane', {'age': 40, 'gender': 'female'}),\n",
    "        ('Eric', {'age': 55, 'gender': 'male'})\n",
    "])\n",
    "\n",
    "# Add a list of edges, optionally with attributes\n",
    "graph.add_edges_from([\n",
    "    (\"Alice\", \"Bob\"),\n",
    "    (\"Jane\", \"Bob\", {\"type\": \"parent\", \"since\": 1993}),\n",
    "    (\"Eric\", \"Jane\", {\"type\": \"friend\", \"since\": 1985}),\n",
    "    (\"Eric\", \"Alice\", {\"type\": \"parent\", \"since\": 1992}),\n",
    "])"
   ]
  },
  {
   "cell_type": "code",
   "execution_count": 4,
   "metadata": {},
   "outputs": [
    {
     "name": "stdout",
     "output_type": "stream",
     "text": [
      "List of nodes: \n",
      "\t Alice {}\n",
      "\t Bob {'gender': {'male'}, 'age': {15}}\n",
      "\t Jane {'gender': {'female'}, 'age': {40}}\n",
      "\t Eric {'gender': {'male'}, 'age': {55}}\n",
      "List of edges: \n",
      "\tAlice->Bob {}\n",
      "\tJane->Bob {'type': {'parent'}, 'since': {1993}}\n",
      "\tEric->Alice {'type': {'parent'}, 'since': {1992}}\n",
      "\tEric->Jane {'type': {'friend'}, 'since': {1985}}\n"
     ]
    }
   ],
   "source": [
    "# Print a list of nodes and edges with data attached to them\n",
    "print(\"List of nodes: \")\n",
    "for n, attrs in graph.nodes(data=True):\n",
    "    print(\"\\t\", n, attrs)\n",
    "print(\"List of edges: \")\n",
    "for s, t, attrs in graph.edges(data=True):\n",
    "    print(\"\\t{}->{}\".format(s, t), attrs)"
   ]
  },
  {
   "cell_type": "code",
   "execution_count": 5,
   "metadata": {},
   "outputs": [
    {
     "data": {
      "text/plain": [
       "<neo4j.BoltStatementResult at 0x7f461c039910>"
      ]
     },
     "execution_count": 5,
     "metadata": {},
     "output_type": "execute_result"
    }
   ],
   "source": [
    "# Add individual nodes and edges\n",
    "graph.add_node('Sandra', {'age': 45, 'gender': 'female'})\n",
    "\n",
    "graph.add_edge(\"Sandra\", \"Eric\", {\"type\": \"spouse\", \"since\": 1990})\n",
    "graph.add_edge(\"Eric\", \"Sandra\", {\"type\": \"spouse\", \"since\": 1990})\n",
    "graph.add_edge(\"Sandra\", \"Alice\", {\"type\": \"parent\", \"since\": 1992})"
   ]
  },
  {
   "cell_type": "code",
   "execution_count": 6,
   "metadata": {},
   "outputs": [
    {
     "name": "stdout",
     "output_type": "stream",
     "text": [
      "New Alice attibutes:  {'gender': {'female'}, 'age': {18}}\n",
      "New Alice->Bob attributes:  {'type': {'friend'}, 'since': {2004}}\n"
     ]
    }
   ],
   "source": [
    "# Add node and edge attributes\n",
    "graph.add_node_attrs(\"Alice\", {\"age\": 18, \"gender\": \"female\"})\n",
    "graph.add_edge_attrs(\"Alice\", \"Bob\", {\"type\": \"friend\", \"since\": 2004})\n",
    "\n",
    "# Get attributes of nodes and edges \n",
    "print(\"New Alice attibutes: \", graph.get_node(\"Alice\"))\n",
    "print(\"New Alice->Bob attributes: \", graph.get_edge(\"Alice\", \"Bob\"))"
   ]
  },
  {
   "cell_type": "markdown",
   "metadata": {},
   "source": [
    "Note that the attributes of the nodes/edges are converted to `regraph.attribute_sets.FiniteSet` objects. See the tutorial on advanced attribute values (`Tutorial_advanced_attributes.ipynb`) for more details on the underlying data structures."
   ]
  },
  {
   "cell_type": "code",
   "execution_count": 7,
   "metadata": {},
   "outputs": [
    {
     "name": "stdout",
     "output_type": "stream",
     "text": [
      "gender :  {'female'} , type:  <class 'regraph.attribute_sets.FiniteSet'>\n",
      "age :  {18} , type:  <class 'regraph.attribute_sets.FiniteSet'>\n"
     ]
    }
   ],
   "source": [
    "for k, v in graph.get_node(\"Alice\").items():\n",
    "    print(k, \": \", v, \", type: \", type(v))"
   ]
  },
  {
   "cell_type": "markdown",
   "metadata": {},
   "source": [
    "Graph objects can me dumped to dictionaries following the JSON format (note how the attribute values are encoded)."
   ]
  },
  {
   "cell_type": "code",
   "execution_count": 8,
   "metadata": {},
   "outputs": [
    {
     "data": {
      "text/plain": [
       "{'edges': [{'from': 'Alice',\n",
       "   'to': 'Bob',\n",
       "   'attrs': {'type': {'type': 'FiniteSet', 'data': ['friend']},\n",
       "    'since': {'type': 'FiniteSet', 'data': [2004]}}},\n",
       "  {'from': 'Jane',\n",
       "   'to': 'Bob',\n",
       "   'attrs': {'type': {'type': 'FiniteSet', 'data': ['parent']},\n",
       "    'since': {'type': 'FiniteSet', 'data': [1993]}}},\n",
       "  {'from': 'Eric',\n",
       "   'to': 'Sandra',\n",
       "   'attrs': {'type': {'type': 'FiniteSet', 'data': ['spouse']},\n",
       "    'since': {'type': 'FiniteSet', 'data': [1990]}}},\n",
       "  {'from': 'Eric',\n",
       "   'to': 'Alice',\n",
       "   'attrs': {'type': {'type': 'FiniteSet', 'data': ['parent']},\n",
       "    'since': {'type': 'FiniteSet', 'data': [1992]}}},\n",
       "  {'from': 'Eric',\n",
       "   'to': 'Jane',\n",
       "   'attrs': {'type': {'type': 'FiniteSet', 'data': ['friend']},\n",
       "    'since': {'type': 'FiniteSet', 'data': [1985]}}},\n",
       "  {'from': 'Sandra',\n",
       "   'to': 'Alice',\n",
       "   'attrs': {'type': {'type': 'FiniteSet', 'data': ['parent']},\n",
       "    'since': {'type': 'FiniteSet', 'data': [1992]}}},\n",
       "  {'from': 'Sandra',\n",
       "   'to': 'Eric',\n",
       "   'attrs': {'type': {'type': 'FiniteSet', 'data': ['spouse']},\n",
       "    'since': {'type': 'FiniteSet', 'data': [1990]}}}],\n",
       " 'nodes': [{'id': 'Alice',\n",
       "   'attrs': {'gender': {'type': 'FiniteSet', 'data': ['female']},\n",
       "    'age': {'type': 'FiniteSet', 'data': [18]}}},\n",
       "  {'id': 'Bob',\n",
       "   'attrs': {'gender': {'type': 'FiniteSet', 'data': ['male']},\n",
       "    'age': {'type': 'FiniteSet', 'data': [15]}}},\n",
       "  {'id': 'Jane',\n",
       "   'attrs': {'gender': {'type': 'FiniteSet', 'data': ['female']},\n",
       "    'age': {'type': 'FiniteSet', 'data': [40]}}},\n",
       "  {'id': 'Eric',\n",
       "   'attrs': {'gender': {'type': 'FiniteSet', 'data': ['male']},\n",
       "    'age': {'type': 'FiniteSet', 'data': [55]}}},\n",
       "  {'id': 'Sandra',\n",
       "   'attrs': {'gender': {'type': 'FiniteSet', 'data': ['female']},\n",
       "    'age': {'type': 'FiniteSet', 'data': [45]}}}]}"
      ]
     },
     "execution_count": 8,
     "metadata": {},
     "output_type": "execute_result"
    }
   ],
   "source": [
    "graph.to_json()"
   ]
  },
  {
   "cell_type": "markdown",
   "metadata": {},
   "source": [
    "### 2. Finding graph patterns"
   ]
  },
  {
   "cell_type": "code",
   "execution_count": 9,
   "metadata": {},
   "outputs": [
    {
     "name": "stdout",
     "output_type": "stream",
     "text": [
      "[{'x': 'Jane', 'y': 'Bob', 'z': 'Alice'}, {'x': 'Alice', 'y': 'Bob', 'z': 'Jane'}, {'x': 'Sandra', 'y': 'Alice', 'z': 'Eric'}, {'x': 'Eric', 'y': 'Alice', 'z': 'Sandra'}]\n"
     ]
    }
   ],
   "source": [
    "# Initialize a pattern graph as NXGraph object\n",
    "\n",
    "pattern = NXGraph()\n",
    "pattern.add_nodes_from([\"x\", \"y\", \"z\"])\n",
    "pattern.add_edges_from([\n",
    "    (\"x\", \"y\"),\n",
    "    (\"z\", \"y\")\n",
    "])\n",
    "\n",
    "# Find matchings of the pattern in the graph\n",
    "instances = graph.find_matching(pattern)\n",
    "print(instances)"
   ]
  },
  {
   "cell_type": "markdown",
   "metadata": {},
   "source": [
    "We can equip pattern nodes and edges with attributes, then ReGraph will look for all subgraphs matching to the structure of the pattern _and_ whose elements contain respective attributes."
   ]
  },
  {
   "cell_type": "code",
   "execution_count": 10,
   "metadata": {},
   "outputs": [
    {
     "name": "stdout",
     "output_type": "stream",
     "text": [
      "[{'x': 'Sandra', 'y': 'Alice', 'z': 'Eric'}, {'x': 'Eric', 'y': 'Alice', 'z': 'Sandra'}]\n"
     ]
    }
   ],
   "source": [
    "pattern.add_edge_attrs(\"x\", \"y\", {\"type\": \"parent\"})\n",
    "pattern.add_edge_attrs(\"z\", \"y\", {\"type\": \"parent\"})\n",
    "\n",
    "instances = graph.find_matching(pattern)\n",
    "print(instances)"
   ]
  },
  {
   "cell_type": "markdown",
   "metadata": {},
   "source": [
    "### 3. Rewriting graph objects"
   ]
  },
  {
   "cell_type": "markdown",
   "metadata": {},
   "source": [
    "ReGraph implements the rewriting technique called _Sesqui-pushout rewriting_ that allows to transform graphs by applying _rules_ through their instances (matchings). It allows to express the following graph transformations:\n",
    "\n",
    "- node cloning,\n",
    "- node/edge removal,\n",
    "- node/edge attributes removal,\n",
    "- node merging,\n",
    "- node/edge addition,\n",
    "- node/edge attribute addition.\n",
    "\n",
    "A rewriting rule is a span $LHS \\leftarrow P \\rightarrow RHS$, where $LHS$ is a graph that represents a left-hand side of the rule -- a pattern that is going to be matched inside of the input graph, $P$ is a graph that represents the interfaces of the rule -- together with a homomorphism $LHS \\leftarrow P$ it specifies nodes and edges that are going to be preserved in the course of application of the rule. $RHS$ and a homomorphism $P \\rightarrow RHS$, on the other hand, specify nodes and edges that are going to be added. In addition, if two nodes $n^P_1, n^P_2$ of $P$ map to the same node $n^{LHS}$ in $LHS$, $n^{LHS}$ is going to be cloned during graph rewriting. Symmetrically, if two nodes of $n^P_1$ and $n^P_2$ in $P$ match to the same node $n^{RHS}$ in $RHS$, $n^P_1$ and $n^P_2$ are merged.\n"
   ]
  },
  {
   "cell_type": "markdown",
   "metadata": {},
   "source": [
    "To rewrite the graph, we first create a rewriting rule (see `Tutorial_rules.ipynb` on more examples of rules and means for their creation provided by ReGraph). A data structure for rewriting rules is implemeted in the class `regraph.rules.Rule`. Here, we will use the created pattern to initialize a rule. ReGraph implements the util `plot_rule` ror rule visualization."
   ]
  },
  {
   "cell_type": "code",
   "execution_count": 11,
   "metadata": {},
   "outputs": [
    {
     "name": "stderr",
     "output_type": "stream",
     "text": [
      "/home/raimon/anaconda3/lib/python3.7/site-packages/networkx/drawing/nx_pylab.py:579: MatplotlibDeprecationWarning: \n",
      "The iterable function was deprecated in Matplotlib 3.1 and will be removed in 3.3. Use np.iterable instead.\n",
      "  if not cb.iterable(width):\n",
      "/home/raimon/anaconda3/lib/python3.7/site-packages/networkx/drawing/nx_pylab.py:676: MatplotlibDeprecationWarning: \n",
      "The iterable function was deprecated in Matplotlib 3.1 and will be removed in 3.3. Use np.iterable instead.\n",
      "  if cb.iterable(node_size):  # many node sizes\n"
     ]
    },
    {
     "data": {
      "image/png": "[encoded data removed]",
      "text/plain": [
       "<Figure size 1008x216 with 3 Axes>"
      ]
     },
     "metadata": {},
     "output_type": "display_data"
    }
   ],
   "source": [
    "rule = Rule.from_transform(pattern)\n",
    "rule.inject_add_edge(\"y\", \"x\", {\"type\": \"child_of\"})\n",
    "rule.inject_add_edge(\"y\", \"z\", {\"type\": \"child_of\"})\n",
    "\n",
    "plot_rule(rule)"
   ]
  },
  {
   "cell_type": "markdown",
   "metadata": {},
   "source": [
    "Graph rewriting can be performed with the `rewrite` method of `NXGraph`. It takes as an input a rule and an instance of this rule. Rewriting is performed in-place, the provided graph object is modified and a dictionary corresponding to the $RHS$ matching in the rewritten graph ($RHS \\rightarrowtail G'$) is returned."
   ]
  },
  {
   "cell_type": "code",
   "execution_count": 12,
   "metadata": {},
   "outputs": [
    {
     "name": "stdout",
     "output_type": "stream",
     "text": [
      "{'x': 'Sandra', 'y': 'Alice', 'z': 'Eric'}\n"
     ]
    }
   ],
   "source": [
    "# Rewrite using the first instances\n",
    "rhs_graph = graph.rewrite(rule, instances[0])\n",
    "print(rhs_graph)"
   ]
  },
  {
   "cell_type": "markdown",
   "metadata": {},
   "source": [
    "Let us consider another example of a rewriting rule"
   ]
  },
  {
   "cell_type": "code",
   "execution_count": 13,
   "metadata": {},
   "outputs": [
    {
     "data": {
      "image/png": "[encoded data removed]",
      "text/plain": [
       "<Figure size 1008x216 with 3 Axes>"
      ]
     },
     "metadata": {},
     "output_type": "display_data"
    }
   ],
   "source": [
    "# Create a pattern\n",
    "pattern = NXGraph()\n",
    "pattern.add_nodes_from([\"x\", \"y\"])\n",
    "pattern.add_edge(\"x\", \"y\", {\"type\": \"parent\"})\n",
    "\n",
    "# Initialize a rule that clones `x`, note that tha variable `rhs_clone_id`\n",
    "# corresponds to the ID of the newly produced clone in the RHS of the rule\n",
    "rule = Rule.from_transform(pattern)\n",
    "_, rhs_clone_id = rule.inject_clone_node(\"x\")\n",
    "rule.inject_add_edge(\"x\", rhs_clone_id, {\"type\": \"spouse\"})\n",
    "rule.inject_add_edge(rhs_clone_id, \"x\", {\"type\": \"spouse\"})\n",
    "\n",
    "plot_rule(rule)"
   ]
  },
  {
   "cell_type": "code",
   "execution_count": 14,
   "metadata": {},
   "outputs": [
    {
     "name": "stdout",
     "output_type": "stream",
     "text": [
      "[{'x': 'Jane', 'y': 'Bob'}, {'x': 'Eric', 'y': 'Alice'}, {'x': 'Sandra', 'y': 'Alice'}]\n"
     ]
    }
   ],
   "source": [
    "# Find matching in the graph\n",
    "instances = graph.find_matching(rule.lhs)\n",
    "print(instances)"
   ]
  },
  {
   "cell_type": "code",
   "execution_count": 15,
   "metadata": {},
   "outputs": [],
   "source": [
    "# Let us fix an instace\n",
    "instance = {'x': 'Jane', 'y': 'Bob'}"
   ]
  },
  {
   "cell_type": "code",
   "execution_count": 16,
   "metadata": {},
   "outputs": [],
   "source": [
    "rhs_graph = graph.rewrite(rule, instance)"
   ]
  },
  {
   "cell_type": "code",
   "execution_count": 17,
   "metadata": {},
   "outputs": [
    {
     "name": "stdout",
     "output_type": "stream",
     "text": [
      "{'x': 'Jane', 'y': 'Bob', 'x1': 'Jane1'}\n"
     ]
    }
   ],
   "source": [
    "print(rhs_graph)"
   ]
  }
 ],
 "metadata": {
  "anaconda-cloud": {},
  "kernelspec": {
   "display_name": "Python 3",
   "language": "python",
   "name": "python3"
  },
  "language_info": {
   "codemirror_mode": {
    "name": "ipython",
    "version": 3
   },
   "file_extension": ".py",
   "mimetype": "text/x-python",
   "name": "python",
   "nbconvert_exporter": "python",
   "pygments_lexer": "ipython3",
   "version": "3.7.4"
  }
 },
 "nbformat": 4,
 "nbformat_minor": 1
}
