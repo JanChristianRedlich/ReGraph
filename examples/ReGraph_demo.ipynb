{
 "cells": [
  {
   "cell_type": "markdown",
   "metadata": {},
   "source": [
    "# ReGraph tutorial: from simple graph rewriting to a graph hierarchy"
   ]
  },
  {
   "cell_type": "markdown",
   "metadata": {},
   "source": [
    "This notebook consists of simple examples of usage of the ReGraph library"
   ]
  },
  {
   "cell_type": "code",
   "execution_count": 48,
   "metadata": {
    "collapsed": false
   },
   "outputs": [],
   "source": [
    "import copy\n",
    "\n",
    "import networkx as nx\n",
    "\n",
    "from regraph.library.hierarchy import Hierarchy\n",
    "from regraph.library.rules import Rule\n",
    "from regraph.library.plotting import plot_graph, plot_instance, plot_rule\n",
    "from regraph.library.primitives import find_matching, rewrite, print_graph\n",
    "from regraph.library.utils import keys_by_value\n",
    "\n",
    "import matplotlib.pyplot as plt"
   ]
  },
  {
   "cell_type": "code",
   "execution_count": 49,
   "metadata": {
    "collapsed": true
   },
   "outputs": [],
   "source": [
    "%matplotlib inline"
   ]
  },
  {
   "cell_type": "markdown",
   "metadata": {},
   "source": [
    "## I. Simple graph rewriting"
   ]
  },
  {
   "cell_type": "markdown",
   "metadata": {},
   "source": [
    "### 1. Initialization of a graph"
   ]
  },
  {
   "cell_type": "markdown",
   "metadata": {},
   "source": [
    "ReGraph works with NetworkX graph objects, both undirected graphs (`nx.Graph`) and directed ones (`nx.DiGraph`). The workflow of the graph initialization in NetworkX can be found [here](http://networkx.readthedocs.io/en/networkx-1.11/tutorial/tutorial.html)."
   ]
  },
  {
   "cell_type": "code",
   "execution_count": 96,
   "metadata": {
    "collapsed": true
   },
   "outputs": [],
   "source": [
    "graph = nx.DiGraph()\n",
    "graph.add_nodes_from([\n",
    "    ('1', {'name': 'EGFR', 'state': 'p'}),\n",
    "    ('2', {'name': 'BND'}),\n",
    "    ('3', {'name': 'Grb2', 'aa': 'S', 'loc': 90}),\n",
    "    ('4', {'name': 'SH2'}),\n",
    "    ('5', {'name': 'EGFR'}),\n",
    "    ('6', {'name': 'BND'}),\n",
    "    ('7', {'name': 'Grb2'}),\n",
    "    ('8', {'name': 'WAF1'}),\n",
    "    ('9', {'name': 'BND'}),\n",
    "    ('10', {'name': 'G1-S/CDK', 'state': 'p'}),\n",
    "])\n",
    "edges = [\n",
    "    ('1', '2', {'s': 'p'}),\n",
    "    ('4', '2', {'s': 'u'}),\n",
    "    ('4', '3'),\n",
    "    ('5', '6', {'s': 'p'}),\n",
    "    ('7', '6', {'s': 'u'}),\n",
    "    ('8', '9'),\n",
    "    ('9', '8'),\n",
    "    ('10', '8', {\"a\": {1}}),\n",
    "    ('10', '9', {\"a\": {2}}),\n",
    "    ('5', '2', {'s': 'u'})\n",
    "]\n",
    "\n",
    "graph.add_edges_from(edges)"
   ]
  },
  {
   "cell_type": "markdown",
   "metadata": {},
   "source": [
    "ReGraph provides some utils for graph plotting that are going to be used in the course of this tutorial."
   ]
  },
  {
   "cell_type": "code",
   "execution_count": 85,
   "metadata": {
    "collapsed": false
   },
   "outputs": [
    {
     "data": {
      "image/png": "[encoded data removed]",
      "text/plain": [
       "<matplotlib.figure.Figure at 0x7f7f60e505c0>"
      ]
     },
     "metadata": {},
     "output_type": "display_data"
    }
   ],
   "source": [
    "positioning = plot_graph(graph)"
   ]
  },
  {
   "cell_type": "markdown",
   "metadata": {},
   "source": [
    "### 2. Initialization of a rule"
   ]
  },
  {
   "cell_type": "markdown",
   "metadata": {},
   "source": [
    "- Graph rewriting is implemented as an application of a **graph rewriting rule** to a given input graph object $G$. A graph rewriting rule $R$  is a span $LHS \\leftarrow P \\rightarrow RHS$, where $LHS$ is a graph that represents a left hand side of the rule -- a pattern that is going to be matched inside of the graph, $P$ is a graph that represents a preserved part of the rule -- together with a homomorphism $LHS \\leftarrow P$ it specifies nodes and edges that are going to be preserved in the course of application of the rule. $RHS$ and a homomorphism $P \\rightarrow RHS$ on the other hand specify nodes and edges that are going to be added. In addition, if two nodes $n^P_1, n^P_2$ of $P$ map to the same node $n^{LHS}$ in $LHS$, $n^{LHS}$ is going to be cloned during graph rewriting. Symmetrically, if two nodes of $n^P_1$ and $n^P_2$ in $P$ match to the same node $n^{RHS}$ in $RHS$, $n^P_1$ and $n^P_2$ are merged.\n",
    "\n",
    "- $LHS$, $P$ and $RHS$ can be defined as NetworkX graphs"
   ]
  },
  {
   "cell_type": "code",
   "execution_count": 97,
   "metadata": {
    "collapsed": false
   },
   "outputs": [],
   "source": [
    "pattern = nx.DiGraph()\n",
    "pattern.add_nodes_from(\n",
    "    [(1, {'state': 'p'}),\n",
    "     (2, {'name': 'BND'}),\n",
    "     3,\n",
    "     4]\n",
    ")\n",
    "pattern.add_edges_from(\n",
    "    [(1, 2, {'s': 'p'}),\n",
    "     (3, 2, {'s': 'u'}),\n",
    "     (3, 4)]\n",
    ")\n",
    "\n",
    "p = nx.DiGraph()\n",
    "p.add_nodes_from([\n",
    "    (1, {'state': 'p'}),\n",
    "    '1_clone',\n",
    "    (2, {'name': 'BND'}),\n",
    "    3,\n",
    "    4\n",
    "])\n",
    "p.add_edges_from([\n",
    "    (1, 2),\n",
    "    ('1_clone', 2),\n",
    "    (3, 4)\n",
    "])\n",
    "\n",
    "rhs = nx.DiGraph()\n",
    "rhs.add_nodes_from([\n",
    "    (1, {'state': 'p'}),\n",
    "    '1_clone',\n",
    "    (2, {'name': 'BND'}),\n",
    "    3,\n",
    "    4,\n",
    "    5\n",
    "])\n",
    "\n",
    "rhs.add_edges_from([\n",
    "    (1, 2, {'s': 'u'}),\n",
    "    ('1_clone', 2),\n",
    "    (2, 4),\n",
    "    (3, 4),\n",
    "    (5, 3)\n",
    "])\n",
    "\n",
    "p_lhs = {1: 1, '1_clone': 1, 2: 2, 3: 3, 4: 4}\n",
    "p_rhs = {1: 1, '1_clone': '1_clone', 2: 2, 3: 3, 4: 4}"
   ]
  },
  {
   "cell_type": "markdown",
   "metadata": {},
   "source": [
    "- A rule of graph rewriting is implemeted in the class `regraph.library.rules.Rule`. An instance of `regraph.library.rules.Rule` is initialized with NetworkX graphs $LHS$, $P$, $RHS$, and two dictionaries specifying $LHS \\leftarrow P$ and $P \\rightarrow RHS$.\n",
    "- For visualization of a rule `regraph.library.plotting.plot_rule` util is implemented in ReGraph."
   ]
  },
  {
   "cell_type": "code",
   "execution_count": 93,
   "metadata": {
    "collapsed": false
   },
   "outputs": [
    {
     "data": {
      "image/png": "[encoded data removed]",
      "text/plain": [
       "<matplotlib.figure.Figure at 0x7f7f60fbfb70>"
      ]
     },
     "metadata": {},
     "output_type": "display_data"
    }
   ],
   "source": [
    "rule = Rule(p, pattern, rhs, p_lhs, p_rhs)\n",
    "plot_rule(rule)"
   ]
  },
  {
   "cell_type": "markdown",
   "metadata": {},
   "source": [
    "### 1. Rewriting"
   ]
  },
  {
   "cell_type": "markdown",
   "metadata": {},
   "source": [
    "#### 1.1. Matching of LHS\n",
    "\n",
    "- The matchings of $LHS$ in $G$ ($LHS \\rightarrowtail G$) can be found using `regraph.library.primitives.find_matching` function. This function returns a list of dictionaries representing the matchings. If no matchings were found the list is empty.\n",
    "- Visualization of the matching in $G$ is implemented in the `regraph.library.plotting.plot_instance` util."
   ]
  },
  {
   "cell_type": "code",
   "execution_count": 98,
   "metadata": {
    "collapsed": false
   },
   "outputs": [
    {
     "name": "stdout",
     "output_type": "stream",
     "text": [
      "Instances:\n",
      "{1: '1', 2: '2', 3: '5', 4: '6'}\n"
     ]
    },
    {
     "data": {
      "image/png": "[encoded data removed]",
      "text/plain": [
       "<matplotlib.figure.Figure at 0x7f7f60e6fc88>"
      ]
     },
     "metadata": {},
     "output_type": "display_data"
    },
    {
     "name": "stdout",
     "output_type": "stream",
     "text": [
      "{1: '1', 2: '2', 3: '4', 4: '3'}\n"
     ]
    },
    {
     "data": {
      "image/png": "[encoded data removed]",
      "text/plain": [
       "<matplotlib.figure.Figure at 0x7f7f611c8d68>"
      ]
     },
     "metadata": {},
     "output_type": "display_data"
    }
   ],
   "source": [
    "instances = find_matching(graph, rule.lhs)\n",
    "print(\"Instances:\")\n",
    "for instance in instances:\n",
    "    print(instance)\n",
    "    plot_instance(graph, rule.lhs, instance, pos=positioning)"
   ]
  },
  {
   "cell_type": "markdown",
   "metadata": {},
   "source": [
    "#### 1.2. Rewriting\n",
    "\n",
    "Graph rewriting is performed with the `regraph.library.primitives.rewrite` function. It takes as an input a graph, an instance of the matching (dictionary that specifies the mapping from the nodes of $LHS$ to the nodes of $G$) and a rewriting rule (an instance of the `regraph.library.rules.Rule` class)."
   ]
  },
  {
   "cell_type": "code",
   "execution_count": 100,
   "metadata": {
    "collapsed": false
   },
   "outputs": [
    {
     "data": {
      "text/plain": [
       "{1: '11', 2: '2', 3: '5', 4: '6', 5: 5, '1_clone': '1'}"
      ]
     },
     "execution_count": 100,
     "metadata": {},
     "output_type": "execute_result"
    }
   ],
   "source": [
    "rewrite(graph, instances[0], rule)"
   ]
  },
  {
   "cell_type": "code",
   "execution_count": 101,
   "metadata": {
    "collapsed": false,
    "scrolled": true
   },
   "outputs": [
    {
     "data": {
      "image/png": "[encoded data removed]",
      "text/plain": [
       "<matplotlib.figure.Figure at 0x7f7f60d0c0b8>"
      ]
     },
     "metadata": {},
     "output_type": "display_data"
    }
   ],
   "source": [
    "new_pos = plot_graph(graph, parent_pos=positioning)"
   ]
  },
  {
   "cell_type": "markdown",
   "metadata": {},
   "source": [
    "## II. Hierarchy of graphs & rewriting\n",
    "\n",
    "ReGraph allows to create a herarchy of graphs connected together by means of **typing homomorphisms**. In the context of hierarchy if there exists a homomorphism $G \\rightarrow T$ we say that graph $G$ is typed by a graph $T$. Graph hierarchy is a DAG, where nodes are graphs and edges are typing homomorphisms between graphs.\n",
    "\n",
    "ReGraph provides two kinds of typing for graphs: **partial typing** and **total typing**.\n",
    "- **Total typing** ($G \\rightarrow T)$ is a homomorphism which maps every node of $G$ to some node in $T$ (a type);\n",
    "- **Partial typing** ($G \\rightharpoonup T$) is a slight generalisation of total typing, which allows only a subset of nodes from $G$ to be typed by nodes in $T$ (to have types in $T$), whereas the rest of the nodes which do not have a mapping to $T$ are considered as nodes which do not have type in $T$.\n",
    "\n",
    "**Note:** Use total typing if you would like to make sure that the nodes of your graphs are always strictly typed by some metamodel.   "
   ]
  },
  {
   "cell_type": "markdown",
   "metadata": {},
   "source": [
    "### 1. Example: simple hierarchy \n",
    "\n",
    "#### 1.1. Initialization of a hierarchy\n",
    "Consider the following example of a simple graph hierarchy. The two graphs $G$ and $T$ are being created and added to the heirarchy. Afterwards a typing homomorphism (total) between $G$ and $T$ is added, so that every node of $G$ is typed by some node in $T$."
   ]
  },
  {
   "cell_type": "code",
   "execution_count": 57,
   "metadata": {
    "collapsed": false,
    "scrolled": true
   },
   "outputs": [
    {
     "data": {
      "image/png": "[encoded data removed]",
      "text/plain": [
       "<matplotlib.figure.Figure at 0x7f7f6110e438>"
      ]
     },
     "metadata": {},
     "output_type": "display_data"
    },
    {
     "data": {
      "text/plain": [
       "{'binding': array([ 0.49413614,  0.39837785]),\n",
       " 'compound': array([ 0.        ,  0.24158399]),\n",
       " 'protein': array([ 1.        ,  0.51166684]),\n",
       " 'region': array([ 0.79292536,  0.        ])}"
      ]
     },
     "execution_count": 57,
     "metadata": {},
     "output_type": "execute_result"
    }
   ],
   "source": [
    "g = nx.DiGraph()\n",
    "g.add_nodes_from([\"protein\", \"binding\", \"region\", \"compound\"])\n",
    "g.add_edges_from([(\"region\", \"protein\"), (\"protein\", \"binding\"), (\"region\", \"binding\"), (\"compound\", \"binding\")])\n",
    "plot_graph(g)"
   ]
  },
  {
   "cell_type": "code",
   "execution_count": 58,
   "metadata": {
    "collapsed": false,
    "scrolled": true
   },
   "outputs": [
    {
     "data": {
      "image/png": "[encoded data removed]",
      "text/plain": [
       "<matplotlib.figure.Figure at 0x7f7f645e2cf8>"
      ]
     },
     "metadata": {},
     "output_type": "display_data"
    },
    {
     "data": {
      "text/plain": [
       "{'action': array([ 0.,  0.]), 'agent': array([ 1.        ,  0.82285575])}"
      ]
     },
     "execution_count": 58,
     "metadata": {},
     "output_type": "execute_result"
    }
   ],
   "source": [
    "t = nx.DiGraph()\n",
    "t.add_nodes_from([\"action\", \"agent\"])\n",
    "t.add_edges_from([(\"agent\", \"agent\"), (\"agent\", \"action\")])\n",
    "plot_graph(t)"
   ]
  },
  {
   "cell_type": "code",
   "execution_count": 59,
   "metadata": {
    "collapsed": false
   },
   "outputs": [],
   "source": [
    "simple_hierarchy = Hierarchy()\n",
    "simple_hierarchy.add_graph(\"G\", g, {\"name\": \"Simple protein interaction\"})\n",
    "simple_hierarchy.add_graph(\"T\", t, {\"name\": \"Agent interaction\"})\n",
    "simple_hierarchy.add_typing(\n",
    "    \"G\", \"T\",\n",
    "    {\"protein\": \"agent\",\n",
    "     \"region\": \"agent\",\n",
    "     \"compound\": \"agent\",\n",
    "     \"binding\": \"action\",\n",
    "    },\n",
    "    total=True\n",
    ")"
   ]
  },
  {
   "cell_type": "code",
   "execution_count": 60,
   "metadata": {
    "collapsed": false,
    "scrolled": true
   },
   "outputs": [
    {
     "name": "stdout",
     "output_type": "stream",
     "text": [
      "\n",
      "Graphs (directed == True): \n",
      "\n",
      "Nodes:\n",
      "Graph: T {'name': 'Agent interaction'}\n",
      "Graph: G {'name': 'Simple protein interaction'}\n",
      "\n",
      "Typing homomorphisms: \n",
      "G -> T: total == True, ignore_attrs == False\n",
      "\n",
      "attributes : \n",
      "{}\n",
      "\n"
     ]
    }
   ],
   "source": [
    "print(simple_hierarchy)"
   ]
  },
  {
   "cell_type": "markdown",
   "metadata": {},
   "source": [
    "We can now add new level to the hierarchy and type in by $G$."
   ]
  },
  {
   "cell_type": "code",
   "execution_count": 61,
   "metadata": {
    "collapsed": false
   },
   "outputs": [
    {
     "data": {
      "image/png": "[encoded data removed]",
      "text/plain": [
       "<matplotlib.figure.Figure at 0x7f7f612baa90>"
      ]
     },
     "metadata": {},
     "output_type": "display_data"
    }
   ],
   "source": [
    "g_prime = nx.DiGraph()\n",
    "g_prime.add_nodes_from(\n",
    "    [\"EGFR\", \"BND_1\", \"SH2\", \"Grb2\"]\n",
    ")\n",
    "g_prime.add_edges_from([\n",
    "    (\"EGFR\", \"BND_1\"),\n",
    "    (\"SH2\", \"BND_1\"),\n",
    "    (\"SH2\", \"Grb2\")\n",
    "])\n",
    "simple_hierarchy.add_graph(\"G_prime\", g_prime, {\"name\": \"EGFR and Grb2 binding\"})\n",
    "simple_hierarchy.add_typing(\n",
    "    \"G_prime\", \"G\",\n",
    "    {\n",
    "        \"EGFR\": \"protein\",\n",
    "        \"BND_1\": \"binding\",\n",
    "        \"SH2\": \"region\",\n",
    "        \"Grb2\": \"protein\"\n",
    "    },\n",
    "    total=True\n",
    ")\n",
    "pos = plot_graph(g_prime)"
   ]
  },
  {
   "cell_type": "code",
   "execution_count": 62,
   "metadata": {
    "collapsed": false,
    "scrolled": true
   },
   "outputs": [
    {
     "name": "stdout",
     "output_type": "stream",
     "text": [
      "\n",
      "Graphs (directed == True): \n",
      "\n",
      "Nodes:\n",
      "Graph: T {'name': 'Agent interaction'}\n",
      "Graph: G_prime {'name': 'EGFR and Grb2 binding'}\n",
      "Graph: G {'name': 'Simple protein interaction'}\n",
      "\n",
      "Typing homomorphisms: \n",
      "G_prime -> G: total == True, ignore_attrs == False\n",
      "G -> T: total == True, ignore_attrs == False\n",
      "\n",
      "attributes : \n",
      "{}\n",
      "\n"
     ]
    }
   ],
   "source": [
    "print(simple_hierarchy)"
   ]
  },
  {
   "cell_type": "markdown",
   "metadata": {},
   "source": [
    "#### 1.2. Rewriting in the hierarchy\n",
    "\n",
    "ReGraph implements rewriting of graphs in the hierarchy, this rewriting is more restrictive as application of a rewriting rule cannot violate any typing defined in the hierarchy. The following code illustrates the application of a rewriting rule to the graph in the hierarchy. On the first step we create a `Rule` object containing a rule we would like to apply."
   ]
  },
  {
   "cell_type": "code",
   "execution_count": 63,
   "metadata": {
    "collapsed": false
   },
   "outputs": [
    {
     "data": {
      "image/png": "[encoded data removed]",
      "text/plain": [
       "<matplotlib.figure.Figure at 0x7f7f60dff240>"
      ]
     },
     "metadata": {},
     "output_type": "display_data"
    }
   ],
   "source": [
    "lhs = nx.DiGraph()\n",
    "lhs.add_nodes_from([1, 2])\n",
    "lhs.add_edges_from([(1, 2)])\n",
    "\n",
    "p = nx.DiGraph()\n",
    "p.add_nodes_from([1, 2])\n",
    "p.add_edges_from([])\n",
    "\n",
    "rhs = nx.DiGraph()\n",
    "rhs.add_nodes_from([1, 2, 3])\n",
    "rhs.add_edges_from([(3, 1), (3, 2)])\n",
    "\n",
    "# By default if `p_lhs` and `p_rhs` are not provided\n",
    "# to a rule, it tries to construct this homomorphisms\n",
    "# automatically by matching the names. In this case we\n",
    "# have defined lhs, p and rhs in such a way that that\n",
    "# the names of the matching nodes correspond\n",
    "rule = Rule(p, lhs, rhs)\n",
    "plot_rule(rule)"
   ]
  },
  {
   "cell_type": "markdown",
   "metadata": {},
   "source": [
    "Now, we would like to use the rule defined above in the following context: in the graph `G_prime` we want to find _\"protien\"_ nodes connected to _\"binding\"_ nodes and to delete the edge connecting them, after that we would like to add a new intermediary node and connect it to the previous _\"protein\"_ and _\"binding\"_.\n",
    "\n",
    "We can provide this context by specifying a typing of the $LHS$ of the rule, which would indicated that node `1` is a _\"protein\"_, and node `2` is a _\"binding\"_. Now the hierarchy will search for a matching of $LHS$ respecting the types of the nodes."
   ]
  },
  {
   "cell_type": "code",
   "execution_count": 64,
   "metadata": {
    "collapsed": true
   },
   "outputs": [],
   "source": [
    "lhs_typing = {\n",
    "    \"G\": {\n",
    "        1: \"protein\",\n",
    "        2: \"binding\"\n",
    "    }\n",
    "}"
   ]
  },
  {
   "cell_type": "markdown",
   "metadata": {},
   "source": [
    "`regraph.library.Hierarchy` provides the method `find_matching` to find matchings of a pattern in a given graph in the hierarchy. The typing of $LHS$ should be provided to the `find_matching` method."
   ]
  },
  {
   "cell_type": "code",
   "execution_count": 65,
   "metadata": {
    "collapsed": false
   },
   "outputs": [
    {
     "name": "stdout",
     "output_type": "stream",
     "text": [
      "Instances found without pattern typing:\n",
      "{1: 'EGFR', 2: 'BND_1'}\n"
     ]
    },
    {
     "data": {
      "image/png": "[encoded data removed]",
      "text/plain": [
       "<matplotlib.figure.Figure at 0x7f7f60ce8240>"
      ]
     },
     "metadata": {},
     "output_type": "display_data"
    },
    {
     "name": "stdout",
     "output_type": "stream",
     "text": [
      "{1: 'SH2', 2: 'Grb2'}\n"
     ]
    },
    {
     "data": {
      "image/png": "[encoded data removed]",
      "text/plain": [
       "<matplotlib.figure.Figure at 0x7f7f60e632b0>"
      ]
     },
     "metadata": {},
     "output_type": "display_data"
    },
    {
     "name": "stdout",
     "output_type": "stream",
     "text": [
      "{1: 'SH2', 2: 'BND_1'}\n"
     ]
    },
    {
     "data": {
      "image/png": "[encoded data removed]",
      "text/plain": [
       "<matplotlib.figure.Figure at 0x7f7f611cce48>"
      ]
     },
     "metadata": {},
     "output_type": "display_data"
    },
    {
     "name": "stdout",
     "output_type": "stream",
     "text": [
      "\n",
      "\n",
      "Instances found with pattern typing:\n",
      "{1: 'EGFR', 2: 'BND_1'}\n"
     ]
    },
    {
     "data": {
      "image/png": "[encoded data removed]",
      "text/plain": [
       "<matplotlib.figure.Figure at 0x7f7f60e46f60>"
      ]
     },
     "metadata": {},
     "output_type": "display_data"
    }
   ],
   "source": [
    "# Find matching of lhs without lhs_typing\n",
    "instances_untyped = simple_hierarchy.find_matching(\"G_prime\", lhs)\n",
    "print(\"Instances found without pattern typing:\")\n",
    "for instance in instances_untyped:\n",
    "    print(instance)\n",
    "    plot_instance(simple_hierarchy.node[\"G_prime\"].graph, lhs, instance, pos=pos)\n",
    "\n",
    "# Find matching of lhs with lhs_typing\n",
    "instances = simple_hierarchy.find_matching(\"G_prime\", lhs, lhs_typing)\n",
    "print(\"\\n\\nInstances found with pattern typing:\")\n",
    "for instance in instances:\n",
    "    print(instance)\n",
    "    plot_instance(simple_hierarchy.node[\"G_prime\"].graph, lhs, instance, pos=pos)"
   ]
  },
  {
   "cell_type": "markdown",
   "metadata": {},
   "source": [
    "As a rewriting rule can implement addition and merging of some nodes, an appropriate typing of the $RHS$ allows to specify the typing for new/merged nodes.\n",
    "\n",
    "- By default, if a typing of $RHS$ is not provided, all the nodes added and merged will be not typed. **Note:** If a graph $G$ was totally typed by some graph $T$, and a rewriting rule which transforms $G$ into $G'$ has added/merged some nodes for which there is no typing in $T$ specified, $G'$ will become only _partially_ typed by $T$ and ReGraph will raise a warning.\n",
    "\n",
    "- If a typing of a new node is specified in the $RHS$ typing, the node will have this type as long as it is consistent (homomrophism $G' \\rightarrow T$ is valid) with $T$.\n",
    "\n",
    "- If a typing of a merged node is specified in the $RHS$ typing, the node will have this type as long as (a) all the nodes that were merged had this type or were not typed, (b) new typing is a consistent homomrophism ($G' \\rightarrow T$ is valid)."
   ]
  },
  {
   "cell_type": "markdown",
   "metadata": {},
   "source": [
    "For our example, we will not specify the type of the new node `3`, so that `G_prime` after rewriting will become only parially typed by `G`."
   ]
  },
  {
   "cell_type": "code",
   "execution_count": 66,
   "metadata": {
    "collapsed": true
   },
   "outputs": [],
   "source": [
    "rhs_typing = {\n",
    "#     \"G\": {\n",
    "#         1: \"protein\",\n",
    "#         2: \"binding\",\n",
    "# #         3: \"region\"\n",
    "#     }\n",
    "}"
   ]
  },
  {
   "cell_type": "markdown",
   "metadata": {},
   "source": [
    "Now, rewriting can be performed using `regraph.library.hierarchy.Hierarchy.rewrite` method. It takes as an input id of the graph to rewrite, a rule, an instance of the LHS of a rule ($LHS \\rightarrow G$), and a typing of $LHS$ and $RHS$.\n",
    "\n",
    "**Note:** In case the graph to be rewritten is not typed by any other graph in the hierarchy, the $LHS$ and $RHS$ typings are not required."
   ]
  },
  {
   "cell_type": "code",
   "execution_count": 67,
   "metadata": {
    "collapsed": false
   },
   "outputs": [],
   "source": [
    "# try:\n",
    "#     simple_hierarchy.rewrite(\"G_prime\", instances_untyped[1], rule, lhs_typing, rhs_typing)\n",
    "# except:\n",
    "#     print(\"If typing of the instance of LHS does not coincide with typing of LHS, rewriting procedure returns and error!\")"
   ]
  },
  {
   "cell_type": "code",
   "execution_count": 68,
   "metadata": {
    "collapsed": false,
    "scrolled": true
   },
   "outputs": [
    {
     "name": "stderr",
     "output_type": "stream",
     "text": [
      "/home/johnpaul/anaconda3/lib/python3.5/site-packages/ReGraph-0.3-py3.5.egg/regraph/library/hierarchy.py:1221: UserWarning: Total typing 'G_prime->G' became partial after rewriting!\n",
      "  (s, t)\n"
     ]
    }
   ],
   "source": [
    "simple_hierarchy.rewrite(\"G_prime\", rule, instances[0], lhs_typing, rhs_typing)"
   ]
  },
  {
   "cell_type": "code",
   "execution_count": 69,
   "metadata": {
    "collapsed": false
   },
   "outputs": [
    {
     "data": {
      "image/png": "[encoded data removed]",
      "text/plain": [
       "<matplotlib.figure.Figure at 0x7f7f60cf3eb8>"
      ]
     },
     "metadata": {},
     "output_type": "display_data"
    },
    {
     "data": {
      "text/plain": [
       "{3: array([ 1.        ,  0.43182228]),\n",
       " 'EGFR': array([ 0.,  0.]),\n",
       " 'Grb2': array([ 1.        ,  0.37293656]),\n",
       " 'SH2': array([ 0.80680682,  0.8694725 ]),\n",
       " 'BND_1': array([ 0.22862549,  0.56064525])}"
      ]
     },
     "execution_count": 69,
     "metadata": {},
     "output_type": "execute_result"
    }
   ],
   "source": [
    "plot_graph(simple_hierarchy.node[\"G_prime\"].graph, parent_pos=pos)"
   ]
  },
  {
   "cell_type": "code",
   "execution_count": 70,
   "metadata": {
    "collapsed": false
   },
   "outputs": [
    {
     "name": "stdout",
     "output_type": "stream",
     "text": [
      "Node types in `G_prime` after rewriting: \n",
      "\n",
      "EGFR {'G': 'protein'}\n",
      "3 {}\n",
      "SH2 {'G': 'region'}\n",
      "BND_1 {'G': 'binding'}\n",
      "Grb2 {'G': 'protein'}\n"
     ]
    }
   ],
   "source": [
    "print(\"Node types in `G_prime` after rewriting: \\n\")\n",
    "for node in simple_hierarchy.node[\"G_prime\"].graph.nodes():\n",
    "    print(node, simple_hierarchy.node_type(\"G_prime\", node))"
   ]
  },
  {
   "cell_type": "markdown",
   "metadata": {},
   "source": [
    "Later on if a node form $G$ is not typed in $T$, we can specify a typing for this node.\n",
    "\n",
    "In the example we type the node `3` as a `region` in `G`."
   ]
  },
  {
   "cell_type": "code",
   "execution_count": 71,
   "metadata": {
    "collapsed": false
   },
   "outputs": [],
   "source": [
    "simple_hierarchy.add_node_type(\"G_prime\", 3,  \"G\", \"region\")"
   ]
  },
  {
   "cell_type": "markdown",
   "metadata": {},
   "source": [
    "It is also possible to remove a graph from the hierarchy using the `regraph.library.hierarchy.Hierarchy.remove_graph` method. It takes as an input the id of a graph to remove, and if the argument `reconnect` is set to `True`, it reconnects all the graphs typed by the graph being removed to the graphs typing it.\n",
    "\n",
    "In our example if we remove graph `G` from the hierarchy, `G_prime` is now directly typed by `T`."
   ]
  },
  {
   "cell_type": "code",
   "execution_count": 72,
   "metadata": {
    "collapsed": false
   },
   "outputs": [
    {
     "name": "stdout",
     "output_type": "stream",
     "text": [
      "\n",
      "Graphs (directed == True): \n",
      "\n",
      "Nodes:\n",
      "Graph: T {'name': 'Agent interaction'}\n",
      "Graph: G_prime {'name': 'EGFR and Grb2 binding'}\n",
      "\n",
      "Typing homomorphisms: \n",
      "G_prime -> T: total == False, ignore_attrs == False\n",
      "\n",
      "attributes : \n",
      "{}\n",
      "\n",
      "New node types in 'G_prime':\n",
      "\n",
      "EGFR :  {'T': 'agent'}\n",
      "3 :  {'T': 'agent'}\n",
      "SH2 :  {'T': 'agent'}\n",
      "BND_1 :  {'T': 'action'}\n",
      "Grb2 :  {'T': 'agent'}\n"
     ]
    }
   ],
   "source": [
    "simple_hierarchy.remove_graph(\"G\", reconnect=True)\n",
    "print(simple_hierarchy)\n",
    "print(\"New node types in 'G_prime':\\n\")\n",
    "for node in simple_hierarchy.node[\"G_prime\"].graph.nodes():\n",
    "    print(node, \": \", simple_hierarchy.node_type(\"G_prime\", node))"
   ]
  },
  {
   "cell_type": "markdown",
   "metadata": {},
   "source": [
    "### 2. Example: advanced hierarchy\n",
    "\n",
    "The following example illustrates more sophisticaled hierarchy example."
   ]
  },
  {
   "cell_type": "markdown",
   "metadata": {},
   "source": [
    "#### 2.1. DAG hierarchy"
   ]
  },
  {
   "cell_type": "code",
   "execution_count": 73,
   "metadata": {
    "collapsed": false
   },
   "outputs": [],
   "source": [
    "hierarchy = Hierarchy()\n",
    "\n",
    "colors = nx.DiGraph()\n",
    "colors.add_nodes_from([\n",
    "        \"green\", \"red\", \"blue\"\n",
    "    ])\n",
    "colors.add_edges_from([\n",
    "        (\"red\", \"green\"),\n",
    "        (\"red\", \"red\"),\n",
    "        (\"green\", \"green\"),\n",
    "        (\"blue\", \"red\")\n",
    "    ])\n",
    "hierarchy.add_graph(\"colors\", colors, {\"id\": \"https://some_url\"})\n",
    "\n",
    "shapes = nx.DiGraph()\n",
    "shapes.add_nodes_from([\"circle\", \"square\"])\n",
    "shapes.add_edges_from([\n",
    "        (\"circle\", \"square\"),\n",
    "        (\"square\", \"circle\"),\n",
    "        (\"circle\", \"circle\")\n",
    "    ])\n",
    "hierarchy.add_graph(\"shapes\", shapes)\n",
    "\n",
    "quality = nx.DiGraph()\n",
    "quality.add_nodes_from([\"good\", \"bad\"])\n",
    "quality.add_edges_from([\n",
    "        (\"bad\", \"bad\"),\n",
    "        (\"bad\", \"good\"),\n",
    "        (\"good\", \"good\")\n",
    "    ])\n",
    "hierarchy.add_graph(\"quality\", quality)\n",
    "\n",
    "g1 = nx.DiGraph()\n",
    "g1.add_nodes_from([\n",
    "    \"red_circle\",\n",
    "    \"red_square\",\n",
    "    \"green_circle\",\n",
    "    \"green_square\",\n",
    "    \"some_circle\",\n",
    "])\n",
    "g1.add_edges_from([\n",
    "    (\"red_circle\", \"green_circle\"),\n",
    "    (\"red_circle\", \"red_square\"),\n",
    "    (\"red_circle\", \"red_circle\"),\n",
    "    (\"red_square\", \"red_circle\"),\n",
    "    (\"green_circle\", \"green_square\"),\n",
    "    (\"green_square\", \"green_circle\"),\n",
    "    (\"some_circle\", \"red_circle\")\n",
    "])\n",
    "g1_colors = {\n",
    "    \"red_circle\": \"red\",\n",
    "    \"red_square\": \"red\",\n",
    "    \"green_circle\": \"green\",\n",
    "    \"green_square\": \"green\"\n",
    "}\n",
    "g1_shapes = {\n",
    "    \"red_circle\": \"circle\",\n",
    "    \"red_square\": \"square\",\n",
    "    \"green_circle\": \"circle\",\n",
    "    \"green_square\": \"square\",\n",
    "    \"some_circle\": \"circle\"\n",
    "}\n",
    "\n",
    "hierarchy.add_graph(\"g1\", g1)\n",
    "hierarchy.add_typing(\"g1\", \"colors\", g1_colors, total=False)\n",
    "hierarchy.add_typing(\"g1\", \"shapes\", g1_shapes, total=True)\n",
    "\n",
    "g2 = nx.DiGraph()\n",
    "g2.add_nodes_from([\n",
    "    \"good_circle\",\n",
    "    \"good_square\",\n",
    "    \"bad_circle\",\n",
    "    \"bad_square\",\n",
    "    \"good_guy\",\n",
    "    \"bad_guy\",\n",
    "    \"some_node\"\n",
    "])\n",
    "g2.add_edges_from([\n",
    "    (\"good_circle\", \"good_square\"),\n",
    "    (\"good_square\", \"good_circle\"),\n",
    "    (\"bad_circle\", \"good_circle\"),\n",
    "    (\"bad_square\", \"bad_circle\"),\n",
    "    (\"bad_circle\", \"good_square\"),\n",
    "    (\"bad_circle\", \"bad_circle\"),\n",
    "    (\"bad_guy\", \"good_guy\"),\n",
    "    (\"some_node\", \"good_circle\"),\n",
    "    (\"bad_guy\", \"bad_square\")\n",
    "])\n",
    "g2_shapes = {\n",
    "    \"good_circle\": \"circle\",\n",
    "    \"good_square\": \"square\",\n",
    "    \"bad_circle\": \"circle\",\n",
    "    \"bad_square\": \"square\"\n",
    "}\n",
    "g2_quality = {\n",
    "    \"good_circle\": \"good\",\n",
    "    \"good_square\": \"good\",\n",
    "    \"bad_circle\": \"bad\",\n",
    "    \"bad_square\": \"bad\",\n",
    "    \"bad_guy\": \"bad\",\n",
    "    \"good_guy\": \"good\"\n",
    "}\n",
    "\n",
    "hierarchy.add_graph(\"g2\", g2)\n",
    "hierarchy.add_typing(\"g2\", \"shapes\", g2_shapes)\n",
    "hierarchy.add_typing(\"g2\", \"quality\", g2_quality)\n",
    "\n",
    "g3 = nx.DiGraph()\n",
    "g3.add_nodes_from([\n",
    "    \"good_red_circle\",\n",
    "    \"bad_red_circle\",\n",
    "    \"good_green_square\",\n",
    "    \"bad_green_circle\",\n",
    "    \"good_red_square\",\n",
    "    \"some_circle_node\",\n",
    "    \"some_strange_node\"\n",
    "])\n",
    "g3.add_edges_from([\n",
    "    (\"bad_red_circle\", \"good_red_circle\"),\n",
    "    (\"bad_red_circle\", \"good_red_square\"),\n",
    "    (\"bad_red_circle\", \"bad_green_circle\"),\n",
    "    (\"bad_green_circle\", \"good_green_square\"),\n",
    "    (\"good_red_square\", \"good_red_circle\"),\n",
    "    (\"good_red_circle\", \"good_red_square\")\n",
    "])\n",
    "\n",
    "g3_g1 = {\n",
    "    \"good_red_circle\": \"red_circle\",\n",
    "    \"bad_red_circle\": \"red_circle\",\n",
    "    \"good_green_square\": \"green_square\",\n",
    "    \"bad_green_circle\": \"green_circle\",\n",
    "    \"good_red_square\": \"red_square\",\n",
    "    \"some_circle_node\": \"some_circle\"\n",
    "}\n",
    "\n",
    "g3_g2 = {\n",
    "    \"good_red_circle\": \"good_circle\",\n",
    "    \"bad_red_circle\": \"bad_circle\",\n",
    "    \"good_green_square\": \"good_square\",\n",
    "    \"bad_green_circle\": \"bad_circle\",\n",
    "    \"good_red_square\": \"good_square\",\n",
    "    \"some_strange_node\": \"some_node\"\n",
    "}\n",
    "\n",
    "hierarchy.add_graph(\"g3\", g3)\n",
    "hierarchy.add_typing(\"g3\", \"g1\", g3_g1)\n",
    "hierarchy.add_typing(\"g3\", \"g2\", g3_g2)"
   ]
  },
  {
   "cell_type": "markdown",
   "metadata": {},
   "source": [
    "Some of the graphs in the hierarchy are now typed by multiple graphs, which is reflected in the types of nodes, as in the example below:"
   ]
  },
  {
   "cell_type": "code",
   "execution_count": 74,
   "metadata": {
    "collapsed": false,
    "scrolled": true
   },
   "outputs": [
    {
     "name": "stdout",
     "output_type": "stream",
     "text": [
      "Node types in G3:\n",
      "\n",
      "good_red_circle {'g2': 'good_circle', 'g1': 'red_circle'}\n",
      "bad_red_circle {'g2': 'bad_circle', 'g1': 'red_circle'}\n",
      "good_green_square {'g2': 'good_square', 'g1': 'green_square'}\n",
      "some_circle_node {'g1': 'some_circle'}\n",
      "bad_green_circle {'g2': 'bad_circle', 'g1': 'green_circle'}\n",
      "good_red_square {'g2': 'good_square', 'g1': 'red_square'}\n",
      "some_strange_node {'g2': 'some_node'}\n"
     ]
    }
   ],
   "source": [
    "print(\"Node types in G3:\\n\")\n",
    "for node in hierarchy.node[\"g3\"].graph.nodes():\n",
    "    print(node, hierarchy.node_type(\"g3\", node))"
   ]
  },
  {
   "cell_type": "markdown",
   "metadata": {},
   "source": [
    "Notice that as `G3` is paritally typed by both `G1` and `G2`, not all the nodes have types in both `G1` and `G2`. For example, node `some_circle_node` is typed only by `some_circle` in `G1`, but is not typed by any node in `G2`."
   ]
  },
  {
   "cell_type": "markdown",
   "metadata": {},
   "source": [
    "#### 2.2. Rules as nodes of a hierarchy\n",
    "\n",
    "Having constructed a sophisticated rewriting rule typed by some nodes in the hierarchy one may want to store this rule and to be able to propagate any changes that happen in the hierarchy to the rule as well.  \n",
    "\n",
    "ReGraph's `regraph.library.hierarchy.Hierarchy` allows to add graph rewriting rules as nodes in the hierarchy. Rules in the hierarchy can be (partially) typed by graphs. \n",
    "\n",
    "**Note:** nothing can be typed by a rule in the hierarchy.\n",
    "\n",
    "In the example below, a rule is added to the previously constructed hierarchy and typed by graphs `g1` and `g2`:"
   ]
  },
  {
   "cell_type": "code",
   "execution_count": 75,
   "metadata": {
    "collapsed": false
   },
   "outputs": [],
   "source": [
    "lhs = nx.DiGraph()\n",
    "lhs.add_nodes_from([1, 2])\n",
    "lhs.add_edges_from([(1, 2)])\n",
    "\n",
    "p = nx.DiGraph()\n",
    "p.add_nodes_from([1, 11, 2])\n",
    "p.add_edges_from([(1, 2)])\n",
    "\n",
    "rhs = copy.deepcopy(p)\n",
    "\n",
    "p_lhs = {1: 1, 11: 1, 2: 2}\n",
    "p_rhs = {1: 1, 11: 11, 2: 2}\n",
    "\n",
    "r1 = Rule(p, lhs, rhs, p_lhs, p_rhs)\n",
    "hierarchy.add_rule(\"r1\", r1, {\"desc\": \"Rule 1: typed by two graphs\"})\n",
    "\n",
    "lhs_typing1 = {1: \"red_circle\", 2: \"red_square\"}\n",
    "rhs_typing1 = {1: \"red_circle\", 11: \"red_circle\", 2: \"red_square\"}\n",
    "\n",
    "lhs_typing2 = {1: \"good_circle\", 2: \"good_square\"}\n",
    "rhs_typing2 = {1: \"good_circle\", 11: \"good_circle\", 2: \"good_square\"}\n",
    "\n",
    "hierarchy.add_rule_typing(\"r1\", \"g1\", lhs_typing1, rhs_typing1)\n",
    "hierarchy.add_rule_typing(\"r1\", \"g2\", lhs_typing2, rhs_typing2)"
   ]
  },
  {
   "cell_type": "code",
   "execution_count": 76,
   "metadata": {
    "collapsed": false,
    "scrolled": true
   },
   "outputs": [
    {
     "name": "stdout",
     "output_type": "stream",
     "text": [
      "\n",
      "Graphs (directed == True): \n",
      "\n",
      "Nodes:\n",
      "Graph: g1 {}\n",
      "Graph: shapes {}\n",
      "Graph: colors {'id': 'https://some_url'}\n",
      "Rule: r1 {'desc': 'Rule 1: typed by two graphs'}\n",
      "Graph: g2 {}\n",
      "Graph: quality {}\n",
      "Graph: g3 {}\n",
      "\n",
      "Typing homomorphisms: \n",
      "g1 -> shapes: total == True, ignore_attrs == False\n",
      "g1 -> colors: total == False, ignore_attrs == False\n",
      "r1 -> g2: lhs_total == False, rhs_total == False, ignore_attrs == False\n",
      "r1 -> g1: lhs_total == False, rhs_total == False, ignore_attrs == False\n",
      "g2 -> quality: total == False, ignore_attrs == False\n",
      "g2 -> shapes: total == False, ignore_attrs == False\n",
      "g3 -> g2: total == False, ignore_attrs == False\n",
      "g3 -> g1: total == False, ignore_attrs == False\n",
      "\n",
      "attributes : \n",
      "{}\n",
      "\n"
     ]
    }
   ],
   "source": [
    "print(hierarchy)"
   ]
  },
  {
   "cell_type": "markdown",
   "metadata": {},
   "source": [
    "#### 2.3. Rewriting and propagation\n",
    "\n",
    "We now show how graph rewriting can be performed in such an hierarchy. In the previous example we perfromed graph rewriting on the top level of the hierarchy, meaning that the graph that was rewritten did not type any other graph.\n",
    "\n",
    "The following example illustrates what happens if we rewrite a graph typing some other graphs. The ReGraph hierarchy is able to propagate the changes made by rewriting on any level to all the graphs (as well as the rules) typed by the one subject to rewriting."
   ]
  },
  {
   "cell_type": "code",
   "execution_count": 77,
   "metadata": {
    "collapsed": false
   },
   "outputs": [],
   "source": [
    "lhs = nx.DiGraph()\n",
    "lhs.add_nodes_from([\"a\", \"b\"])\n",
    "lhs.add_edges_from([\n",
    "        (\"a\", \"b\"),\n",
    "        (\"b\", \"a\")\n",
    "    ])\n",
    "p = nx.DiGraph()\n",
    "p.add_nodes_from([\"a\", \"a1\", \"b\"])\n",
    "p.add_edges_from([\n",
    "        (\"a\", \"b\"),\n",
    "        (\"a1\", \"b\")\n",
    "    ])\n",
    "rhs = copy.deepcopy(p)\n",
    "rule = Rule(\n",
    "    p, lhs, rhs,\n",
    "    {\"a\": \"a\", \"a1\": \"a\", \"b\": \"b\"},\n",
    "    {\"a\": \"a\", \"a1\": \"a1\", \"b\": \"b\"},\n",
    ")"
   ]
  },
  {
   "cell_type": "code",
   "execution_count": 78,
   "metadata": {
    "collapsed": false
   },
   "outputs": [
    {
     "name": "stdout",
     "output_type": "stream",
     "text": [
      "Instances:\n",
      "{'a': 'circle', 'b': 'square'}\n"
     ]
    },
    {
     "data": {
      "image/png": "[encoded data removed]",
      "text/plain": [
       "<matplotlib.figure.Figure at 0x7f7f61195438>"
      ]
     },
     "metadata": {},
     "output_type": "display_data"
    },
    {
     "name": "stdout",
     "output_type": "stream",
     "text": [
      "{'a': 'square', 'b': 'circle'}\n"
     ]
    },
    {
     "data": {
      "image/png": "[encoded data removed]",
      "text/plain": [
       "<matplotlib.figure.Figure at 0x7f7f61183cc0>"
      ]
     },
     "metadata": {},
     "output_type": "display_data"
    }
   ],
   "source": [
    "instances = hierarchy.find_matching(\"shapes\", lhs)\n",
    "print(\"Instances:\")\n",
    "for instance in instances:\n",
    "    print(instance)\n",
    "    plot_instance(hierarchy.node[\"shapes\"].graph, rule.lhs, instance)"
   ]
  },
  {
   "cell_type": "code",
   "execution_count": 79,
   "metadata": {
    "collapsed": false
   },
   "outputs": [],
   "source": [
    "hierarchy.rewrite(\"shapes\", rule, {\"a\": \"circle\", \"b\": \"square\"})"
   ]
  },
  {
   "cell_type": "code",
   "execution_count": 80,
   "metadata": {
    "collapsed": false,
    "scrolled": false
   },
   "outputs": [
    {
     "name": "stdout",
     "output_type": "stream",
     "text": [
      "Graph 'shapes':\n",
      "\n",
      "===============\n",
      "\n",
      "Nodes:\n",
      "\n",
      "circle  :  {}\n",
      "circle1  :  {}\n",
      "square  :  {}\n",
      "\n",
      "Edges:\n",
      "\n",
      "circle -> circle  :  {}\n",
      "circle -> circle1  :  {}\n",
      "circle -> square  :  {}\n",
      "circle1 -> circle  :  {}\n",
      "circle1 -> circle1  :  {}\n",
      "circle1 -> square  :  {}\n",
      "========================================\n",
      "\n",
      "\n",
      "Graph 'g1':\n",
      "\n",
      "===========\n",
      "\n",
      "Nodes:\n",
      "\n",
      "green_square  :  {}\n",
      "red_circle  :  {}\n",
      "red_circle1  :  {}\n",
      "some_circle1  :  {}\n",
      "red_square  :  {}\n",
      "some_circle  :  {}\n",
      "green_circle1  :  {}\n",
      "green_circle  :  {}\n",
      "\n",
      "Edges:\n",
      "\n",
      "red_circle -> green_circle  :  {}\n",
      "red_circle -> green_circle1  :  {}\n",
      "red_circle -> red_circle  :  {}\n",
      "red_circle -> red_circle1  :  {}\n",
      "red_circle -> red_square  :  {}\n",
      "red_circle1 -> green_circle  :  {}\n",
      "red_circle1 -> green_circle1  :  {}\n",
      "red_circle1 -> red_circle  :  {}\n",
      "red_circle1 -> red_circle1  :  {}\n",
      "red_circle1 -> red_square  :  {}\n",
      "some_circle1 -> red_circle  :  {}\n",
      "some_circle1 -> red_circle1  :  {}\n",
      "some_circle -> red_circle  :  {}\n",
      "some_circle -> red_circle1  :  {}\n",
      "green_circle1 -> green_square  :  {}\n",
      "green_circle -> green_square  :  {}\n",
      "========================================\n",
      "\n",
      "\n",
      "Graph 'g2':\n",
      "\n",
      "===========\n",
      "\n",
      "Nodes:\n",
      "\n",
      "good_circle  :  {}\n",
      "good_guy  :  {}\n",
      "bad_circle  :  {}\n",
      "good_square  :  {}\n",
      "good_circle1  :  {}\n",
      "bad_square  :  {}\n",
      "some_node  :  {}\n",
      "bad_guy  :  {}\n",
      "bad_circle1  :  {}\n",
      "\n",
      "Edges:\n",
      "\n",
      "good_circle -> good_square  :  {}\n",
      "bad_circle -> good_circle  :  {}\n",
      "bad_circle -> good_circle1  :  {}\n",
      "bad_circle -> good_square  :  {}\n",
      "bad_circle -> bad_circle  :  {}\n",
      "bad_circle -> bad_circle1  :  {}\n",
      "good_circle1 -> good_square  :  {}\n",
      "some_node -> good_circle  :  {}\n",
      "some_node -> good_circle1  :  {}\n",
      "bad_guy -> good_guy  :  {}\n",
      "bad_guy -> bad_square  :  {}\n",
      "bad_circle1 -> good_circle  :  {}\n",
      "bad_circle1 -> good_circle1  :  {}\n",
      "bad_circle1 -> good_square  :  {}\n",
      "bad_circle1 -> bad_circle  :  {}\n",
      "bad_circle1 -> bad_circle1  :  {}\n",
      "========================================\n",
      "\n",
      "\n",
      "Graph 'g3':\n",
      "\n",
      "===========\n",
      "\n",
      "Nodes:\n",
      "\n",
      "bad_red_circle12  :  {}\n",
      "some_circle_node1  :  {}\n",
      "bad_green_circle1  :  {}\n",
      "good_green_square  :  {}\n",
      "bad_red_circle11  :  {}\n",
      "bad_green_circle11  :  {}\n",
      "good_red_circle12  :  {}\n",
      "some_strange_node  :  {}\n",
      "bad_green_circle12  :  {}\n",
      "good_red_circle  :  {}\n",
      "good_red_circle1  :  {}\n",
      "bad_red_circle  :  {}\n",
      "some_circle_node  :  {}\n",
      "good_red_square  :  {}\n",
      "bad_green_circle  :  {}\n",
      "good_red_circle11  :  {}\n",
      "bad_red_circle1  :  {}\n",
      "\n",
      "Edges:\n",
      "\n",
      "bad_red_circle12 -> good_red_circle  :  {}\n",
      "bad_red_circle12 -> good_red_circle1  :  {}\n",
      "bad_red_circle12 -> good_red_square  :  {}\n",
      "bad_red_circle12 -> good_red_circle12  :  {}\n",
      "bad_red_circle12 -> bad_green_circle12  :  {}\n",
      "bad_red_circle12 -> bad_green_circle  :  {}\n",
      "bad_red_circle12 -> bad_green_circle1  :  {}\n",
      "bad_red_circle12 -> bad_green_circle11  :  {}\n",
      "bad_red_circle12 -> good_red_circle11  :  {}\n",
      "bad_green_circle1 -> good_green_square  :  {}\n",
      "bad_red_circle11 -> good_red_circle  :  {}\n",
      "bad_red_circle11 -> good_red_circle1  :  {}\n",
      "bad_red_circle11 -> good_red_square  :  {}\n",
      "bad_red_circle11 -> good_red_circle12  :  {}\n",
      "bad_red_circle11 -> bad_green_circle12  :  {}\n",
      "bad_red_circle11 -> bad_green_circle  :  {}\n",
      "bad_red_circle11 -> bad_green_circle1  :  {}\n",
      "bad_red_circle11 -> bad_green_circle11  :  {}\n",
      "bad_red_circle11 -> good_red_circle11  :  {}\n",
      "bad_green_circle11 -> good_green_square  :  {}\n",
      "good_red_circle12 -> good_red_square  :  {}\n",
      "bad_green_circle12 -> good_green_square  :  {}\n",
      "good_red_circle -> good_red_square  :  {}\n",
      "good_red_circle1 -> good_red_square  :  {}\n",
      "bad_red_circle -> good_red_circle  :  {}\n",
      "bad_red_circle -> good_red_circle1  :  {}\n",
      "bad_red_circle -> good_red_square  :  {}\n",
      "bad_red_circle -> good_red_circle12  :  {}\n",
      "bad_red_circle -> bad_green_circle12  :  {}\n",
      "bad_red_circle -> bad_green_circle  :  {}\n",
      "bad_red_circle -> bad_green_circle1  :  {}\n",
      "bad_red_circle -> bad_green_circle11  :  {}\n",
      "bad_red_circle -> good_red_circle11  :  {}\n",
      "bad_green_circle -> good_green_square  :  {}\n",
      "good_red_circle11 -> good_red_square  :  {}\n",
      "bad_red_circle1 -> good_red_circle  :  {}\n",
      "bad_red_circle1 -> good_red_circle1  :  {}\n",
      "bad_red_circle1 -> good_red_square  :  {}\n",
      "bad_red_circle1 -> good_red_circle12  :  {}\n",
      "bad_red_circle1 -> bad_green_circle12  :  {}\n",
      "bad_red_circle1 -> bad_green_circle  :  {}\n",
      "bad_red_circle1 -> bad_green_circle1  :  {}\n",
      "bad_red_circle1 -> bad_green_circle11  :  {}\n",
      "bad_red_circle1 -> good_red_circle11  :  {}\n",
      "========================================\n",
      "\n",
      "\n",
      "Rule 'r1':\n",
      "\n",
      "===========\n",
      "\n",
      "LHS:\n",
      "\n",
      "Nodes:\n",
      "\n",
      "1  :  {}\n",
      "2  :  {}\n",
      "11  :  {}\n",
      "112  :  {}\n",
      "111  :  {}\n",
      "\n",
      "Edges:\n",
      "\n",
      "1 -> 2  :  {}\n",
      "11 -> 2  :  {}\n",
      "112 -> 2  :  {}\n",
      "111 -> 2  :  {}\n",
      "\n",
      "P:\n",
      "\n",
      "Nodes:\n",
      "\n",
      "1  :  {}\n",
      "2  :  {}\n",
      "11  :  {}\n",
      "1111  :  {}\n",
      "1112  :  {}\n",
      "113  :  {}\n",
      "11  :  {}\n",
      "112  :  {}\n",
      "111  :  {}\n",
      "\n",
      "Edges:\n",
      "\n",
      "1 -> 2  :  {}\n",
      "11 -> 2  :  {}\n",
      "113 -> 2  :  {}\n",
      "112 -> 2  :  {}\n",
      "\n",
      "RHS:\n",
      "\n",
      "Nodes:\n",
      "\n",
      "1  :  {}\n",
      "2  :  {}\n",
      "11  :  {}\n",
      "1111  :  {}\n",
      "1112  :  {}\n",
      "113  :  {}\n",
      "11  :  {}\n",
      "112  :  {}\n",
      "111  :  {}\n",
      "\n",
      "Edges:\n",
      "\n",
      "1 -> 2  :  {}\n",
      "11 -> 2  :  {}\n",
      "113 -> 2  :  {}\n",
      "112 -> 2  :  {}\n"
     ]
    }
   ],
   "source": [
    "sep = \"========================================\\n\\n\"\n",
    "\n",
    "print(\"Graph 'shapes':\\n\")\n",
    "print(\"===============\")\n",
    "print_graph(hierarchy.node[\"shapes\"].graph)\n",
    "print(sep)\n",
    "\n",
    "print(\"Graph 'g1':\\n\")\n",
    "print(\"===========\")\n",
    "print_graph(hierarchy.node[\"g1\"].graph)\n",
    "print(sep)\n",
    "\n",
    "print(\"Graph 'g2':\\n\")\n",
    "print(\"===========\")\n",
    "print_graph(hierarchy.node[\"g2\"].graph)\n",
    "print(sep)\n",
    "\n",
    "print(\"Graph 'g3':\\n\")\n",
    "print(\"===========\")\n",
    "print_graph(hierarchy.node[\"g3\"].graph)\n",
    "print(sep)\n",
    "\n",
    "print(\"Rule 'r1':\\n\")\n",
    "print(\"===========\")\n",
    "print(\"\\nLHS:\")\n",
    "print_graph(hierarchy.node[\"r1\"].rule.lhs)\n",
    "\n",
    "print(\"\\nP:\")\n",
    "print_graph(hierarchy.node[\"r1\"].rule.p)\n",
    "\n",
    "print(\"\\nRHS:\")\n",
    "print_graph(hierarchy.node[\"r1\"].rule.rhs)"
   ]
  },
  {
   "cell_type": "markdown",
   "metadata": {},
   "source": [
    "#### 2.4 Rewriting with the rules in the hierarchy\n",
    "\n",
    "ReGraph provides utils that allow to apply rules stored in the hierarchy to the graph nodes of the hierarchy.\n",
    "\n",
    "In the following example the rule `r1` is being applied for rewriting of the graph `g3`. "
   ]
  },
  {
   "cell_type": "code",
   "execution_count": 81,
   "metadata": {
    "collapsed": false
   },
   "outputs": [],
   "source": [
    "instances = hierarchy.find_rule_matching(\"g3\", \"r1\")\n",
    "hierarchy.apply_rule(\n",
    "    \"g3\",\n",
    "    \"r1\",\n",
    "    instances[0]\n",
    ")"
   ]
  },
  {
   "cell_type": "code",
   "execution_count": 82,
   "metadata": {
    "collapsed": false
   },
   "outputs": [
    {
     "name": "stdout",
     "output_type": "stream",
     "text": [
      "\n",
      "Nodes:\n",
      "\n",
      "bad_red_circle12  :  {}\n",
      "some_circle_node1  :  {}\n",
      "good_red_square  :  {}\n",
      "good_green_square  :  {}\n",
      "good_red_circle111  :  {}\n",
      "good_red_circle12  :  {}\n",
      "bad_green_circle1  :  {}\n",
      "bad_green_circle11  :  {}\n",
      "bad_red_circle11  :  {}\n",
      "some_strange_node  :  {}\n",
      "good_red_circle  :  {}\n",
      "good_red_circle1  :  {}\n",
      "bad_red_circle  :  {}\n",
      "good_red_circle2  :  {}\n",
      "good_red_circle112  :  {}\n",
      "some_circle_node  :  {}\n",
      "bad_green_circle12  :  {}\n",
      "bad_green_circle  :  {}\n",
      "good_red_circle11  :  {}\n",
      "good_red_circle121  :  {}\n",
      "bad_red_circle1  :  {}\n",
      "\n",
      "Edges:\n",
      "\n",
      "bad_red_circle12 -> good_red_circle11  :  {}\n",
      "bad_red_circle12 -> good_red_circle111  :  {}\n",
      "bad_red_circle12 -> good_red_circle12  :  {}\n",
      "bad_red_circle12 -> bad_green_circle11  :  {}\n",
      "bad_red_circle12 -> good_red_circle  :  {}\n",
      "bad_red_circle12 -> good_red_circle1  :  {}\n",
      "bad_red_circle12 -> good_red_circle2  :  {}\n",
      "bad_red_circle12 -> good_red_circle112  :  {}\n",
      "bad_red_circle12 -> bad_green_circle12  :  {}\n",
      "bad_red_circle12 -> bad_green_circle  :  {}\n",
      "bad_red_circle12 -> good_red_square  :  {}\n",
      "bad_red_circle12 -> good_red_circle121  :  {}\n",
      "bad_red_circle12 -> bad_green_circle1  :  {}\n",
      "good_red_circle111 -> good_red_square  :  {}\n",
      "good_red_circle12 -> good_red_square  :  {}\n",
      "bad_green_circle1 -> good_green_square  :  {}\n",
      "bad_green_circle11 -> good_green_square  :  {}\n",
      "bad_red_circle11 -> good_red_circle11  :  {}\n",
      "bad_red_circle11 -> good_red_circle111  :  {}\n",
      "bad_red_circle11 -> good_red_circle12  :  {}\n",
      "bad_red_circle11 -> bad_green_circle11  :  {}\n",
      "bad_red_circle11 -> good_red_circle  :  {}\n",
      "bad_red_circle11 -> good_red_circle1  :  {}\n",
      "bad_red_circle11 -> good_red_circle2  :  {}\n",
      "bad_red_circle11 -> good_red_circle112  :  {}\n",
      "bad_red_circle11 -> bad_green_circle12  :  {}\n",
      "bad_red_circle11 -> bad_green_circle  :  {}\n",
      "bad_red_circle11 -> good_red_square  :  {}\n",
      "bad_red_circle11 -> good_red_circle121  :  {}\n",
      "bad_red_circle11 -> bad_green_circle1  :  {}\n",
      "good_red_circle -> good_red_square  :  {}\n",
      "good_red_circle1 -> good_red_square  :  {}\n",
      "bad_red_circle -> good_red_circle11  :  {}\n",
      "bad_red_circle -> good_red_circle111  :  {}\n",
      "bad_red_circle -> good_red_circle12  :  {}\n",
      "bad_red_circle -> bad_green_circle11  :  {}\n",
      "bad_red_circle -> good_red_circle  :  {}\n",
      "bad_red_circle -> good_red_circle1  :  {}\n",
      "bad_red_circle -> good_red_circle2  :  {}\n",
      "bad_red_circle -> good_red_circle112  :  {}\n",
      "bad_red_circle -> bad_green_circle12  :  {}\n",
      "bad_red_circle -> bad_green_circle  :  {}\n",
      "bad_red_circle -> good_red_square  :  {}\n",
      "bad_red_circle -> good_red_circle121  :  {}\n",
      "bad_red_circle -> bad_green_circle1  :  {}\n",
      "bad_green_circle12 -> good_green_square  :  {}\n",
      "bad_green_circle -> good_green_square  :  {}\n",
      "bad_red_circle1 -> good_red_circle11  :  {}\n",
      "bad_red_circle1 -> good_red_circle111  :  {}\n",
      "bad_red_circle1 -> good_red_circle12  :  {}\n",
      "bad_red_circle1 -> bad_green_circle11  :  {}\n",
      "bad_red_circle1 -> good_red_circle  :  {}\n",
      "bad_red_circle1 -> good_red_circle1  :  {}\n",
      "bad_red_circle1 -> good_red_circle2  :  {}\n",
      "bad_red_circle1 -> good_red_circle112  :  {}\n",
      "bad_red_circle1 -> bad_green_circle12  :  {}\n",
      "bad_red_circle1 -> bad_green_circle  :  {}\n",
      "bad_red_circle1 -> good_red_square  :  {}\n",
      "bad_red_circle1 -> good_red_circle121  :  {}\n",
      "bad_red_circle1 -> bad_green_circle1  :  {}\n"
     ]
    }
   ],
   "source": [
    "print_graph(hierarchy.node[\"g3\"].graph)"
   ]
  }
 ],
 "metadata": {
  "anaconda-cloud": {},
  "kernelspec": {
   "display_name": "Python [conda root]",
   "language": "python",
   "name": "conda-root-py"
  },
  "language_info": {
   "codemirror_mode": {
    "name": "ipython",
    "version": 3
   },
   "file_extension": ".py",
   "mimetype": "text/x-python",
   "name": "python",
   "nbconvert_exporter": "python",
   "pygments_lexer": "ipython3",
   "version": "3.5.2"
  }
 },
 "nbformat": 4,
 "nbformat_minor": 1
}
