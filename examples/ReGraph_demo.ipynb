{
 "cells": [
  {
   "cell_type": "markdown",
   "metadata": {
    "collapsed": true
   },
   "source": [
    "# ReGraph tutorial: from simple graph rewriting to a graph hierarchy"
   ]
  },
  {
   "cell_type": "markdown",
   "metadata": {},
   "source": [
    "This notebook consists of simple examples of usage of the ReGraph library"
   ]
  },
  {
   "cell_type": "code",
   "execution_count": 3,
   "metadata": {
    "collapsed": true
   },
   "outputs": [],
   "source": [
    "import copy\n",
    "\n",
    "import networkx as nx\n",
    "\n",
    "from regraph.hierarchy import Hierarchy\n",
    "from regraph.rules import Rule\n",
    "from regraph.plotting import plot_graph, plot_instance, plot_rule\n",
    "from regraph.primitives import find_matching, rewrite, print_graph, equal, add_nodes_from,  add_edges_from\n",
    "from regraph.utils import keys_by_value\n",
    "\n",
    "import matplotlib.pyplot as plt"
   ]
  },
  {
   "cell_type": "code",
   "execution_count": 4,
   "metadata": {
    "collapsed": true
   },
   "outputs": [],
   "source": [
    "%matplotlib inline"
   ]
  },
  {
   "cell_type": "markdown",
   "metadata": {},
   "source": [
    "## I. Simple graph rewriting"
   ]
  },
  {
   "cell_type": "markdown",
   "metadata": {},
   "source": [
    "### 1. Initialization of a graph"
   ]
  },
  {
   "cell_type": "markdown",
   "metadata": {},
   "source": [
    "ReGraph works with NetworkX graph objects, both undirected graphs (`nx.Graph`) and directed ones (`nx.DiGraph`). The workflow of the graph initialization in NetworkX can be found [here](http://networkx.readthedocs.io/en/networkx-1.11/tutorial/tutorial.html)."
   ]
  },
  {
   "cell_type": "code",
   "execution_count": 5,
   "metadata": {
    "collapsed": true
   },
   "outputs": [],
   "source": [
    "graph = nx.DiGraph()\n",
    "add_nodes_from(graph,\n",
    "    [\n",
    "        ('1', {'name': 'EGFR', 'state': 'p'}),\n",
    "        ('2', {'name': 'BND'}),\n",
    "        ('3', {'name': 'Grb2', 'aa': 'S', 'loc': 90}),\n",
    "        ('4', {'name': 'SH2'}),\n",
    "        ('5', {'name': 'EGFR'}),\n",
    "        ('6', {'name': 'BND'}),\n",
    "        ('7', {'name': 'Grb2'}),\n",
    "        ('8', {'name': 'WAF1'}),\n",
    "        ('9', {'name': 'BND'}),\n",
    "        ('10', {'name': 'G1-S/CDK', 'state': 'p'}),\n",
    "])\n",
    "edges = [\n",
    "    ('1', '2', {'s': 'p'}),\n",
    "    ('4', '2', {'s': 'u'}),\n",
    "    ('4', '3'),\n",
    "    ('5', '6', {'s': 'p'}),\n",
    "    ('7', '6', {'s': 'u'}),\n",
    "    ('8', '9'),\n",
    "    ('9', '8'),\n",
    "    ('10', '8', {\"a\": {1}}),\n",
    "    ('10', '9', {\"a\": {2}}),\n",
    "    ('5', '2', {'s': 'u'})\n",
    "]\n",
    "\n",
    "add_edges_from(graph, edges)"
   ]
  },
  {
   "cell_type": "markdown",
   "metadata": {},
   "source": [
    "ReGraph provides some utils for graph plotting that are going to be used in the course of this tutorial."
   ]
  },
  {
   "cell_type": "code",
   "execution_count": 6,
   "metadata": {},
   "outputs": [
    {
     "name": "stderr",
     "output_type": "stream",
     "text": [
      "/home/eugenia/anaconda3/lib/python3.6/site-packages/networkx-1.11-py3.6.egg/networkx/drawing/nx_pylab.py:522: MatplotlibDeprecationWarning: The is_string_like function was deprecated in version 2.1.\n",
      "  if not cb.is_string_like(edge_color) \\\n",
      "/home/eugenia/anaconda3/lib/python3.6/site-packages/networkx-1.11-py3.6.egg/networkx/drawing/nx_pylab.py:543: MatplotlibDeprecationWarning: The is_string_like function was deprecated in version 2.1.\n",
      "  if cb.is_string_like(edge_color) or len(edge_color) == 1:\n",
      "/home/eugenia/anaconda3/lib/python3.6/site-packages/networkx-1.11-py3.6.egg/networkx/drawing/nx_pylab.py:724: MatplotlibDeprecationWarning: The is_string_like function was deprecated in version 2.1.\n",
      "  if not cb.is_string_like(label):\n"
     ]
    },
    {
     "data": {
      "image/png": "[encoded data removed]",
      "text/plain": [
       "<matplotlib.figure.Figure at 0x7f56fc073a90>"
      ]
     },
     "metadata": {},
     "output_type": "display_data"
    }
   ],
   "source": [
    "positioning = plot_graph(graph)"
   ]
  },
  {
   "cell_type": "markdown",
   "metadata": {},
   "source": [
    "### 2. Initialization of a rule"
   ]
  },
  {
   "cell_type": "markdown",
   "metadata": {},
   "source": [
    "- Graph rewriting is implemented as an application of a **graph rewriting rule** to a given input graph object $G$. A graph rewriting rule $R$  is a span $LHS \\leftarrow P \\rightarrow RHS$, where $LHS$ is a graph that represents a left hand side of the rule -- a pattern that is going to be matched inside of the graph, $P$ is a graph that represents a preserved part of the rule -- together with a homomorphism $LHS \\leftarrow P$ it specifies nodes and edges that are going to be preserved in the course of application of the rule. $RHS$ and a homomorphism $P \\rightarrow RHS$ on the other hand specify nodes and edges that are going to be added. In addition, if two nodes $n^P_1, n^P_2$ of $P$ map to the same node $n^{LHS}$ in $LHS$, $n^{LHS}$ is going to be cloned during graph rewriting. Symmetrically, if two nodes of $n^P_1$ and $n^P_2$ in $P$ match to the same node $n^{RHS}$ in $RHS$, $n^P_1$ and $n^P_2$ are merged.\n",
    "\n",
    "- $LHS$, $P$ and $RHS$ can be defined as NetworkX graphs"
   ]
  },
  {
   "cell_type": "code",
   "execution_count": 7,
   "metadata": {
    "collapsed": true
   },
   "outputs": [],
   "source": [
    "pattern = nx.DiGraph()\n",
    "add_nodes_from(\n",
    "    pattern,\n",
    "    [(1, {'state': 'p'}),\n",
    "     (2, {'name': 'BND'}),\n",
    "     3,\n",
    "     4]\n",
    ")\n",
    "add_edges_from(\n",
    "    pattern,\n",
    "    [(1, 2, {'s': 'p'}),\n",
    "     (3, 2, {'s': 'u'}),\n",
    "     (3, 4)]\n",
    ")\n",
    "\n",
    "p = nx.DiGraph()\n",
    "add_nodes_from(p,\n",
    "    [(1, {'state': 'p'}),\n",
    "    '1_clone',\n",
    "    (2, {'name': 'BND'}),\n",
    "    3,\n",
    "    4\n",
    "])\n",
    "add_edges_from(\n",
    "    p,\n",
    "    [(1, 2),\n",
    "    ('1_clone', 2),\n",
    "    (3, 4)\n",
    "])\n",
    "\n",
    "rhs = nx.DiGraph()\n",
    "add_nodes_from(\n",
    "    rhs,\n",
    "    [(1, {'state': 'p'}),\n",
    "    '1_clone',\n",
    "    (2, {'name': 'BND'}),\n",
    "    3,\n",
    "    4,\n",
    "    5\n",
    "])\n",
    "\n",
    "add_edges_from(\n",
    "    rhs,\n",
    "    [(1, 2, {'s': 'u'}),\n",
    "    ('1_clone', 2),\n",
    "    (2, 4),\n",
    "    (3, 4),\n",
    "    (5, 3)\n",
    "])\n",
    "\n",
    "p_lhs = {1: 1, '1_clone': 1, 2: 2, 3: 3, 4: 4}\n",
    "p_rhs = {1: 1, '1_clone': '1_clone', 2: 2, 3: 3, 4: 4}"
   ]
  },
  {
   "cell_type": "code",
   "execution_count": 19,
   "metadata": {},
   "outputs": [],
   "source": [
    "pattern = nx.DiGraph()\n",
    "add_nodes_from(\n",
    "    pattern,\n",
    "    [(1, {'state': 'p'}),\n",
    "     (2, {'name': 'BND'}),\n",
    "     3,\n",
    "     4]\n",
    ")\n",
    "add_edges_from(\n",
    "    pattern,\n",
    "    [(1, 2, {'s': 'p'}),\n",
    "     (3, 2, {'s': 'u'}),\n",
    "     (3, 4)]\n",
    ")\n",
    "commands = \"clone 1.\\n\" +\\\n",
    "    \"delete_edge 3 2.\\n\" +\\\n",
    "    \"add_node 5.\\n\" +\\\n",
    "    \"add_edge 2 4.\\n\" +\\\n",
    "    \"add_edge 5 3.\"\n",
    "\n",
    "\n",
    "r1 = Rule.from_transform(pattern, commands)"
   ]
  },
  {
   "cell_type": "code",
   "execution_count": 21,
   "metadata": {},
   "outputs": [
    {
     "name": "stderr",
     "output_type": "stream",
     "text": [
      "/home/eugenia/anaconda3/lib/python3.6/site-packages/networkx-1.11-py3.6.egg/networkx/drawing/nx_pylab.py:522: MatplotlibDeprecationWarning: The is_string_like function was deprecated in version 2.1.\n",
      "  if not cb.is_string_like(edge_color) \\\n",
      "/home/eugenia/anaconda3/lib/python3.6/site-packages/networkx-1.11-py3.6.egg/networkx/drawing/nx_pylab.py:543: MatplotlibDeprecationWarning: The is_string_like function was deprecated in version 2.1.\n",
      "  if cb.is_string_like(edge_color) or len(edge_color) == 1:\n",
      "/home/eugenia/anaconda3/lib/python3.6/site-packages/networkx-1.11-py3.6.egg/networkx/drawing/nx_pylab.py:724: MatplotlibDeprecationWarning: The is_string_like function was deprecated in version 2.1.\n",
      "  if not cb.is_string_like(label):\n"
     ]
    },
    {
     "data": {
      "image/png": "[encoded data removed]",
      "text/plain": [
       "<matplotlib.figure.Figure at 0x7f56d20cf3c8>"
      ]
     },
     "metadata": {},
     "output_type": "display_data"
    }
   ],
   "source": [
    "plot_rule(r1)"
   ]
  },
  {
   "cell_type": "markdown",
   "metadata": {},
   "source": [
    "- A rule of graph rewriting is implemeted in the class `regraph.library.rules.Rule`. An instance of `regraph.library.rules.Rule` is initialized with NetworkX graphs $LHS$, $P$, $RHS$, and two dictionaries specifying $LHS \\leftarrow P$ and $P \\rightarrow RHS$.\n",
    "- For visualization of a rule `regraph.library.plotting.plot_rule` util is implemented in ReGraph."
   ]
  },
  {
   "cell_type": "code",
   "execution_count": 13,
   "metadata": {},
   "outputs": [
    {
     "name": "stderr",
     "output_type": "stream",
     "text": [
      "/home/eugenia/anaconda3/lib/python3.6/site-packages/networkx-1.11-py3.6.egg/networkx/drawing/nx_pylab.py:522: MatplotlibDeprecationWarning: The is_string_like function was deprecated in version 2.1.\n",
      "  if not cb.is_string_like(edge_color) \\\n",
      "/home/eugenia/anaconda3/lib/python3.6/site-packages/networkx-1.11-py3.6.egg/networkx/drawing/nx_pylab.py:543: MatplotlibDeprecationWarning: The is_string_like function was deprecated in version 2.1.\n",
      "  if cb.is_string_like(edge_color) or len(edge_color) == 1:\n",
      "/home/eugenia/anaconda3/lib/python3.6/site-packages/networkx-1.11-py3.6.egg/networkx/drawing/nx_pylab.py:724: MatplotlibDeprecationWarning: The is_string_like function was deprecated in version 2.1.\n",
      "  if not cb.is_string_like(label):\n"
     ]
    },
    {
     "data": {
      "image/png": "[encoded data removed]",
      "text/plain": [
       "<matplotlib.figure.Figure at 0x7f56d22cea20>"
      ]
     },
     "metadata": {},
     "output_type": "display_data"
    }
   ],
   "source": [
    "rule = Rule(p, pattern, rhs, p_lhs, p_rhs)\n",
    "plot_rule(rule)"
   ]
  },
  {
   "cell_type": "markdown",
   "metadata": {},
   "source": [
    "\n",
    "\n",
    "\n",
    "### 1. Rewriting"
   ]
  },
  {
   "cell_type": "markdown",
   "metadata": {},
   "source": [
    "#### 1.1. Matching of LHS\n",
    "\n",
    "- The matchings of $LHS$ in $G$ ($LHS \\rightarrowtail G$) can be found using `regraph.library.primitives.find_matching` function. This function returns a list of dictionaries representing the matchings. If no matchings were found the list is empty.\n",
    "- Visualization of the matching in $G$ is implemented in the `regraph.library.plotting.plot_instance` util."
   ]
  },
  {
   "cell_type": "code",
   "execution_count": 17,
   "metadata": {},
   "outputs": [
    {
     "name": "stdout",
     "output_type": "stream",
     "text": [
      "Instances:\n",
      "{1: '1', 2: '2', 3: '4', 4: '3'}\n"
     ]
    },
    {
     "name": "stderr",
     "output_type": "stream",
     "text": [
      "/home/eugenia/anaconda3/lib/python3.6/site-packages/networkx-1.11-py3.6.egg/networkx/drawing/nx_pylab.py:522: MatplotlibDeprecationWarning: The is_string_like function was deprecated in version 2.1.\n",
      "  if not cb.is_string_like(edge_color) \\\n",
      "/home/eugenia/anaconda3/lib/python3.6/site-packages/networkx-1.11-py3.6.egg/networkx/drawing/nx_pylab.py:543: MatplotlibDeprecationWarning: The is_string_like function was deprecated in version 2.1.\n",
      "  if cb.is_string_like(edge_color) or len(edge_color) == 1:\n",
      "/home/eugenia/anaconda3/lib/python3.6/site-packages/networkx-1.11-py3.6.egg/networkx/drawing/nx_pylab.py:724: MatplotlibDeprecationWarning: The is_string_like function was deprecated in version 2.1.\n",
      "  if not cb.is_string_like(label):\n"
     ]
    },
    {
     "data": {
      "image/png": "[encoded data removed]",
      "text/plain": [
       "<matplotlib.figure.Figure at 0x7f2ccd2a6278>"
      ]
     },
     "metadata": {},
     "output_type": "display_data"
    },
    {
     "name": "stdout",
     "output_type": "stream",
     "text": [
      "{1: '1', 2: '2', 3: '5', 4: '6'}\n"
     ]
    },
    {
     "data": {
      "image/png": "[encoded data removed]",
      "text/plain": [
       "<matplotlib.figure.Figure at 0x7f2ccd5065c0>"
      ]
     },
     "metadata": {},
     "output_type": "display_data"
    }
   ],
   "source": [
    "instances = find_matching(graph, rule.lhs)\n",
    "print(\"Instances:\")\n",
    "\n",
    "for instance in instances:\n",
    "    print(instance)\n",
    "    plot_instance(graph, rule.lhs, instance, pos=positioning) #filename=(\"instance_example_%d.png\" % i))"
   ]
  },
  {
   "cell_type": "markdown",
   "metadata": {},
   "source": [
    "#### 1.2. Rewriting\n",
    "\n",
    "1. Graph rewriting can be performed with the `regraph.library.primitives.rewrite` function. It takes as an input a graph, an instance of the matching (dictionary that specifies the mapping from the nodes of $LHS$ to the nodes of $G$), a rewriting rule (an instance of the `regraph.library.rules.Rule` class), and a parameter `inplace` (by default set to `True`). If `inplace` is `True` rewriting will be performed directly in the provided graph object and the function will return a dictionary corresponding to the $RHS$ matching in the rewritten graph ($RHS \\rightarrowtail G'$), otherwise the rewriting function will return a new graph object corresponding to the result of rewriting and the $RHS$ matching.\n",
    "\n",
    "2. Another possibility to perform graph rewriting is implemented in the `apply_to` method of a `regraph.library.Rule` class. It takes as an input a graph and an instance of the matching. It applies a corresponding (to `self`) rewriting rule and returns a new graph (the result of graph rewriting)."
   ]
  },
  {
   "cell_type": "code",
   "execution_count": 18,
   "metadata": {
    "collapsed": true
   },
   "outputs": [],
   "source": [
    "# Rewriting without modification of the initial object\n",
    "new_graph_1 = rule.apply_to(graph, instances[0])\n",
    "new_graph_2, rhs_graph = rewrite(graph, instances[0], rule, inplace=False)"
   ]
  },
  {
   "cell_type": "code",
   "execution_count": 19,
   "metadata": {},
   "outputs": [
    {
     "name": "stdout",
     "output_type": "stream",
     "text": [
      "Matching of RHS: {1: '1', '1_clone': '11', 2: '2', 3: '4', 4: '3', 5: 5}\n"
     ]
    }
   ],
   "source": [
    "equal(new_graph_1, new_graph_2)\n",
    "print(\"Matching of RHS:\", rhs_graph)"
   ]
  },
  {
   "cell_type": "code",
   "execution_count": 20,
   "metadata": {},
   "outputs": [
    {
     "data": {
      "text/plain": [
       "{1: '1', '1_clone': '11', 2: '2', 3: '4', 4: '3', 5: 5}"
      ]
     },
     "execution_count": 20,
     "metadata": {},
     "output_type": "execute_result"
    }
   ],
   "source": [
    "# In-place rewriting\n",
    "rewrite(graph, instances[0], rule)"
   ]
  },
  {
   "cell_type": "code",
   "execution_count": 21,
   "metadata": {
    "scrolled": false
   },
   "outputs": [
    {
     "name": "stderr",
     "output_type": "stream",
     "text": [
      "/home/eugenia/anaconda3/lib/python3.6/site-packages/networkx-1.11-py3.6.egg/networkx/drawing/nx_pylab.py:522: MatplotlibDeprecationWarning: The is_string_like function was deprecated in version 2.1.\n",
      "  if not cb.is_string_like(edge_color) \\\n",
      "/home/eugenia/anaconda3/lib/python3.6/site-packages/networkx-1.11-py3.6.egg/networkx/drawing/nx_pylab.py:543: MatplotlibDeprecationWarning: The is_string_like function was deprecated in version 2.1.\n",
      "  if cb.is_string_like(edge_color) or len(edge_color) == 1:\n",
      "/home/eugenia/anaconda3/lib/python3.6/site-packages/networkx-1.11-py3.6.egg/networkx/drawing/nx_pylab.py:724: MatplotlibDeprecationWarning: The is_string_like function was deprecated in version 2.1.\n",
      "  if not cb.is_string_like(label):\n"
     ]
    },
    {
     "data": {
      "image/png": "[encoded data removed]",
      "text/plain": [
       "<matplotlib.figure.Figure at 0x7f2ccd480588>"
      ]
     },
     "metadata": {},
     "output_type": "display_data"
    }
   ],
   "source": [
    "new_pos = plot_graph(graph, parent_pos=positioning)"
   ]
  },
  {
   "cell_type": "markdown",
   "metadata": {},
   "source": [
    "ReGraph also provides a primitive for testing equality of two graphs in `regraph.library.primitives.equal`. In our previous example we can see that a graph obtained by application of a rule `new_graph` (through the `Rule` interface) and an initial graph object `graph` after in-place rewriting are equal. "
   ]
  },
  {
   "cell_type": "code",
   "execution_count": 22,
   "metadata": {},
   "outputs": [
    {
     "data": {
      "text/plain": [
       "True"
      ]
     },
     "execution_count": 22,
     "metadata": {},
     "output_type": "execute_result"
    }
   ],
   "source": [
    "equal(new_graph_1, graph)\n",
    "equal(new_graph_2, graph)"
   ]
  },
  {
   "cell_type": "markdown",
   "metadata": {},
   "source": [
    "## II. Hierarchy of graphs & rewriting\n",
    "\n",
    "ReGraph allows to create a hierarchy of graphs connected together by means of **typing homomorphisms**. In the context of hierarchy if there exists a homomorphism $G \\rightarrow T$ we say that graph $G$ is typed by a graph $T$. Graph hierarchy is a DAG, where nodes are graphs and edges are typing homomorphisms between graphs.\n",
    "\n",
    "ReGraph provides two kinds of typing for graphs: **partial typing** and **total typing**.\n",
    "- **Total typing** ($G \\rightarrow T)$ is a homomorphism which maps every node of $G$ to some node in $T$ (a type);\n",
    "- **Partial typing** ($G \\rightharpoonup T$) is a slight generalisation of total typing, which allows only a subset of nodes from $G$ to be typed by nodes in $T$ (to have types in $T$), whereas the rest of the nodes which do not have a mapping to $T$ are considered as nodes which do not have type in $T$.\n",
    "\n",
    "**Note:** Use total typing if you would like to make sure that the nodes of your graphs are always strictly typed by some metamodel.   "
   ]
  },
  {
   "cell_type": "markdown",
   "metadata": {},
   "source": [
    "### 1. Example: simple hierarchy \n",
    "\n",
    "#### 1.1. Initialization of a hierarchy\n",
    "Consider the following example of a simple graph hierarchy. The two graphs $G$ and $T$ are being created and added to the heirarchy. Afterwards a typing homomorphism (total) between $G$ and $T$ is added, so that every node of $G$ is typed by some node in $T$."
   ]
  },
  {
   "cell_type": "code",
   "execution_count": 13,
   "metadata": {
    "scrolled": true
   },
   "outputs": [
    {
     "data": {
      "image/png": "[encoded data removed]",
      "text/plain": [
       "<matplotlib.figure.Figure at 0x7fa33e73d5c0>"
      ]
     },
     "metadata": {},
     "output_type": "display_data"
    }
   ],
   "source": [
    "g = nx.DiGraph()\n",
    "g.add_nodes_from([\"protein\", \"binding\", \"region\", \"compound\"])\n",
    "g.add_edges_from([(\"region\", \"protein\"), (\"protein\", \"binding\"), (\"region\", \"binding\"), (\"compound\", \"binding\")])\n",
    "pos = plot_graph(g)"
   ]
  },
  {
   "cell_type": "code",
   "execution_count": 14,
   "metadata": {
    "scrolled": true
   },
   "outputs": [
    {
     "data": {
      "image/png": "[encoded data removed]",
      "text/plain": [
       "<matplotlib.figure.Figure at 0x7fa33e740128>"
      ]
     },
     "metadata": {},
     "output_type": "display_data"
    },
    {
     "data": {
      "text/plain": [
       "{'action': array([ 0.,  0.]), 'agent': array([ 0.21706433,  1.        ])}"
      ]
     },
     "execution_count": 14,
     "metadata": {},
     "output_type": "execute_result"
    }
   ],
   "source": [
    "t = nx.DiGraph()\n",
    "t.add_nodes_from([\"action\", \"agent\"])\n",
    "t.add_edges_from([(\"agent\", \"agent\"), (\"agent\", \"action\")])\n",
    "plot_graph(t)"
   ]
  },
  {
   "cell_type": "code",
   "execution_count": 15,
   "metadata": {},
   "outputs": [
    {
     "name": "stdout",
     "output_type": "stream",
     "text": [
      "{'region': 'agent', 'protein': 'agent', 'compound': 'agent', 'binding': 'action'}\n",
      "\n",
      "Graphs (directed == True): \n",
      "\n",
      "Nodes:\n",
      "Graph: G {'name': 'Simple protein interaction'}\n",
      "Graph: T {'name': 'Agent interaction'}\n",
      "\n",
      "Typing homomorphisms: \n",
      "G -> T: total == True\n",
      "Relations:\n",
      "\n",
      "attributes : \n",
      "{}\n",
      "\n"
     ]
    }
   ],
   "source": [
    "simple_hierarchy = Hierarchy()\n",
    "simple_hierarchy.add_graph(\"G\", g, {\"name\": \"Simple protein interaction\"})\n",
    "simple_hierarchy.add_graph(\"T\", t, {\"name\": \"Agent interaction\"})\n",
    "simple_hierarchy.add_typing(\n",
    "    \"G\", \"T\",\n",
    "    {\"protein\": \"agent\",\n",
    "     \"region\": \"agent\",\n",
    "     \"compound\": \"agent\",\n",
    "     \"binding\": \"action\",\n",
    "    },\n",
    "    total=True\n",
    ")\n",
    "print(simple_hierarchy)"
   ]
  },
  {
   "cell_type": "markdown",
   "metadata": {},
   "source": [
    "We can now add new level to the hierarchy and type in by $G$."
   ]
  },
  {
   "cell_type": "code",
   "execution_count": 16,
   "metadata": {
    "scrolled": true
   },
   "outputs": [
    {
     "name": "stdout",
     "output_type": "stream",
     "text": [
      "{'SH2': 'region', 'EGFR': 'protein', 'Grb2': 'protein', 'BND_1': 'binding'}\n"
     ]
    },
    {
     "data": {
      "image/png": "[encoded data removed]",
      "text/plain": [
       "<matplotlib.figure.Figure at 0x7fa33e6b6438>"
      ]
     },
     "metadata": {},
     "output_type": "display_data"
    }
   ],
   "source": [
    "g_prime = nx.DiGraph()\n",
    "g_prime.add_nodes_from(\n",
    "    [\"EGFR\", \"BND_1\", \"SH2\", \"Grb2\"]\n",
    ")\n",
    "g_prime.add_edges_from([\n",
    "    (\"EGFR\", \"BND_1\"),\n",
    "    (\"SH2\", \"BND_1\"),\n",
    "    (\"SH2\", \"Grb2\")\n",
    "])\n",
    "simple_hierarchy.add_graph(\"G_prime\", g_prime, {\"name\": \"EGFR and Grb2 binding\"})\n",
    "simple_hierarchy.add_typing(\n",
    "    \"G_prime\", \"G\",\n",
    "    {\n",
    "        \"EGFR\": \"protein\",\n",
    "        \"BND_1\": \"binding\",\n",
    "        \"SH2\": \"region\",\n",
    "        \"Grb2\": \"protein\"\n",
    "    },\n",
    "    total=True\n",
    ")\n",
    "pos = plot_graph(g_prime)"
   ]
  },
  {
   "cell_type": "code",
   "execution_count": 17,
   "metadata": {},
   "outputs": [
    {
     "data": {
      "image/png": "[encoded data removed]",
      "text/plain": [
       "<matplotlib.figure.Figure at 0x7fa33e640b70>"
      ]
     },
     "metadata": {},
     "output_type": "display_data"
    },
    {
     "data": {
      "text/plain": [
       "{'BND_1': array([ 0.57270356,  0.        ]),\n",
       " 'EGFR': array([ 0.        ,  0.10732697]),\n",
       " 'Grb2': array([ 0.59838614,  0.7652294 ]),\n",
       " 'SH2': array([ 1.        ,  0.45365127]),\n",
       " 'binding': array([ 0.46019101,  0.49795509]),\n",
       " 'compound': array([ 0.        ,  0.83718703]),\n",
       " 'protein': array([ 0.67644747,  0.        ]),\n",
       " 'region': array([ 1.        ,  0.44623894])}"
      ]
     },
     "execution_count": 17,
     "metadata": {},
     "output_type": "execute_result"
    }
   ],
   "source": [
    "plot_graph(simple_hierarchy.node[\"G\"].graph, parent_pos=pos)"
   ]
  },
  {
   "cell_type": "code",
   "execution_count": 18,
   "metadata": {},
   "outputs": [
    {
     "data": {
      "image/png": "[encoded data removed]",
      "text/plain": [
       "<matplotlib.figure.Figure at 0x7fa33e4daac8>"
      ]
     },
     "metadata": {},
     "output_type": "display_data"
    },
    {
     "data": {
      "text/plain": [
       "{'BND_1': array([ 0.57270356,  0.        ]),\n",
       " 'EGFR': array([ 0.        ,  0.10732697]),\n",
       " 'Grb2': array([ 0.59838614,  0.7652294 ]),\n",
       " 'SH2': array([ 1.        ,  0.45365127])}"
      ]
     },
     "execution_count": 18,
     "metadata": {},
     "output_type": "execute_result"
    }
   ],
   "source": [
    "plot_graph(simple_hierarchy.node[\"G_prime\"].graph, parent_pos=pos)"
   ]
  },
  {
   "cell_type": "code",
   "execution_count": 19,
   "metadata": {
    "scrolled": true
   },
   "outputs": [
    {
     "name": "stdout",
     "output_type": "stream",
     "text": [
      "\n",
      "Graphs (directed == True): \n",
      "\n",
      "Nodes:\n",
      "Graph: G_prime {'name': 'EGFR and Grb2 binding'}\n",
      "Graph: G {'name': 'Simple protein interaction'}\n",
      "Graph: T {'name': 'Agent interaction'}\n",
      "\n",
      "Typing homomorphisms: \n",
      "G_prime -> G: total == TrueG -> T: total == True\n",
      "Relations:\n",
      "\n",
      "attributes : \n",
      "{}\n",
      "\n"
     ]
    }
   ],
   "source": [
    "print(simple_hierarchy)"
   ]
  },
  {
   "cell_type": "markdown",
   "metadata": {},
   "source": [
    "#### 1.2. Rewriting in the hierarchy\n",
    "\n",
    "ReGraph implements rewriting of graphs in the hierarchy, this rewriting is more restrictive as application of a rewriting rule cannot violate any typing defined in the hierarchy. The following code illustrates the application of a rewriting rule to the graph in the hierarchy. On the first step we create a `Rule` object containing a rule we would like to apply."
   ]
  },
  {
   "cell_type": "code",
   "execution_count": 20,
   "metadata": {},
   "outputs": [
    {
     "data": {
      "image/png": "[encoded data removed]",
      "text/plain": [
       "<matplotlib.figure.Figure at 0x7fa33e780d68>"
      ]
     },
     "metadata": {},
     "output_type": "display_data"
    }
   ],
   "source": [
    "lhs = nx.DiGraph()\n",
    "add_nodes_from(lhs, [1, 2])\n",
    "add_edges_from(lhs, [(1, 2)])\n",
    "\n",
    "p = nx.DiGraph()\n",
    "add_nodes_from(p, [1, 2])\n",
    "add_edges_from(p, [])\n",
    "\n",
    "rhs = nx.DiGraph()\n",
    "add_nodes_from(rhs, [1, 2, 3])\n",
    "add_edges_from(rhs, [(3, 1), (3, 2)])\n",
    "\n",
    "# By default if `p_lhs` and `p_rhs` are not provided\n",
    "# to a rule, it tries to construct this homomorphisms\n",
    "# automatically by matching the names. In this case we\n",
    "# have defined lhs, p and rhs in such a way that that\n",
    "# the names of the matching nodes correspond\n",
    "rule = Rule(p, lhs, rhs)\n",
    "plot_rule(rule)"
   ]
  },
  {
   "cell_type": "markdown",
   "metadata": {},
   "source": [
    "Now, we would like to use the rule defined above in the following context: in the graph `G_prime` we want to find _\"protien\"_ nodes connected to _\"binding\"_ nodes and to delete the edge connecting them, after that we would like to add a new intermediary node and connect it to the previous _\"protein\"_ and _\"binding\"_.\n",
    "\n",
    "We can provide this context by specifying a typing of the $LHS$ of the rule, which would indicated that node `1` is a _\"protein\"_, and node `2` is a _\"binding\"_. Now the hierarchy will search for a matching of $LHS$ respecting the types of the nodes."
   ]
  },
  {
   "cell_type": "code",
   "execution_count": 21,
   "metadata": {
    "collapsed": true
   },
   "outputs": [],
   "source": [
    "lhs_typing = {\n",
    "    \"G\": {\n",
    "        1: \"protein\",\n",
    "        2: \"binding\"\n",
    "    }\n",
    "}"
   ]
  },
  {
   "cell_type": "markdown",
   "metadata": {},
   "source": [
    "`regraph.library.Hierarchy` provides the method `find_matching` to find matchings of a pattern in a given graph in the hierarchy. The typing of $LHS$ should be provided to the `find_matching` method."
   ]
  },
  {
   "cell_type": "code",
   "execution_count": 22,
   "metadata": {},
   "outputs": [
    {
     "name": "stdout",
     "output_type": "stream",
     "text": [
      "Instances found without pattern typing:\n",
      "{1: 'SH2', 2: 'Grb2'}\n"
     ]
    },
    {
     "data": {
      "image/png": "[encoded data removed]",
      "text/plain": [
       "<matplotlib.figure.Figure at 0x7fa33e45d828>"
      ]
     },
     "metadata": {},
     "output_type": "display_data"
    },
    {
     "name": "stdout",
     "output_type": "stream",
     "text": [
      "{1: 'SH2', 2: 'BND_1'}\n"
     ]
    },
    {
     "data": {
      "image/png": "[encoded data removed]",
      "text/plain": [
       "<matplotlib.figure.Figure at 0x7fa33e737208>"
      ]
     },
     "metadata": {},
     "output_type": "display_data"
    },
    {
     "name": "stdout",
     "output_type": "stream",
     "text": [
      "{1: 'EGFR', 2: 'BND_1'}\n"
     ]
    },
    {
     "data": {
      "image/png": "[encoded data removed]",
      "text/plain": [
       "<matplotlib.figure.Figure at 0x7fa33e64bbe0>"
      ]
     },
     "metadata": {},
     "output_type": "display_data"
    },
    {
     "name": "stdout",
     "output_type": "stream",
     "text": [
      "{1: 'protein', 2: 'binding'}\n",
      "\n",
      "\n",
      "Instances found with pattern typing:\n",
      "{1: 'EGFR', 2: 'BND_1'}\n"
     ]
    },
    {
     "data": {
      "image/png": "[encoded data removed]",
      "text/plain": [
       "<matplotlib.figure.Figure at 0x7fa33e594a90>"
      ]
     },
     "metadata": {},
     "output_type": "display_data"
    }
   ],
   "source": [
    "# Find matching of lhs without lhs_typing\n",
    "instances_untyped = simple_hierarchy.find_matching(\"G_prime\", lhs)\n",
    "print(\"Instances found without pattern typing:\")\n",
    "for instance in instances_untyped:\n",
    "    print(instance)\n",
    "    plot_instance(simple_hierarchy.node[\"G_prime\"].graph, lhs, instance, pos=pos)\n",
    "\n",
    "# Find matching of lhs with lhs_typing\n",
    "instances = simple_hierarchy.find_matching(\"G_prime\", lhs, lhs_typing)\n",
    "print(\"\\n\\nInstances found with pattern typing:\")\n",
    "for instance in instances:\n",
    "    print(instance)\n",
    "    plot_instance(simple_hierarchy.node[\"G_prime\"].graph, lhs, instance, pos=pos)"
   ]
  },
  {
   "cell_type": "markdown",
   "metadata": {},
   "source": [
    "As a rewriting rule can implement addition and merging of some nodes, an appropriate typing of the $RHS$ allows to specify the typing for new nodes.\n",
    "\n",
    "~~- By default, if a typing of $RHS$ is not provided, all the nodes added and merged will be not typed. **Note:** If a graph $G$ was totally typed by some graph $T$, and a rewriting rule which transforms $G$ into $G'$ has added/merged some nodes for which there is no typing in $T$ specified, $G'$ will become only _partially_ typed by $T$ and ReGraph will raise a warning.~~\n",
    "\n",
    "- If a typing of a new node is specified in the $RHS$ typing, the node will have this type as long as it is consistent (homomrophism $G' \\rightarrow T$ is valid) with $T$.\n",
    "\n",
    "- If a typing of a merged node is specified in the $RHS$ typing, the node will have this type as long as (a) all the nodes that were merged had this type (b) new typing is a consistent homomrophism ($G' \\rightarrow T$ is valid)."
   ]
  },
  {
   "cell_type": "markdown",
   "metadata": {},
   "source": [
    "For our example, we will not specify the type of the new node `3`, so that `G_prime` after rewriting will become only parially typed by `G`."
   ]
  },
  {
   "cell_type": "code",
   "execution_count": 23,
   "metadata": {
    "collapsed": true
   },
   "outputs": [],
   "source": [
    "rhs_typing = {\n",
    "     \"G\": {\n",
    "        3: \"region\"\n",
    "     }\n",
    "}"
   ]
  },
  {
   "cell_type": "markdown",
   "metadata": {},
   "source": [
    "Now, rewriting can be performed using `regraph.library.hierarchy.Hierarchy.rewrite` method. It takes as an input id of the graph to rewrite, a rule, an instance of the LHS of a rule ($LHS \\rightarrow G$), and a typing of $LHS$ and $RHS$.\n",
    "\n",
    "**Note:** In case the graph to be rewritten is not typed by any other graph in the hierarchy, the $LHS$ and $RHS$ typings are not required."
   ]
  },
  {
   "cell_type": "code",
   "execution_count": 24,
   "metadata": {
    "collapsed": true
   },
   "outputs": [],
   "source": [
    "# try:\n",
    "#     simple_hierarchy.rewrite(\"G_prime\", instances_untyped[1], rule, lhs_typing, rhs_typing)\n",
    "# except:\n",
    "#     print(\"If typing of the instance of LHS does not coincide with typing of LHS, rewriting procedure returns and error!\")"
   ]
  },
  {
   "cell_type": "code",
   "execution_count": 25,
   "metadata": {
    "scrolled": false
   },
   "outputs": [
    {
     "name": "stdout",
     "output_type": "stream",
     "text": [
      "{1: 'protein', 2: 'binding'}\n",
      "{1: 'protein', 2: 'binding', 3: 'region'}\n",
      "{1: 'EGFR', 2: 'BND_1'}\n",
      "{1: 1, 2: 2}\n",
      "{1: 'EGFR', 2: 'BND_1'}\n",
      "{1: 'EGFR', 2: 'BND_1'}\n",
      "{'SH2': 'SH2', 'EGFR': 'EGFR', 'Grb2': 'Grb2', 'BND_1': 'BND_1'}\n",
      "{1: 'EGFR', 2: 'BND_1'}\n",
      "{1: 1, 2: 2}\n",
      "{'SH2': 'SH2', 'EGFR': 'EGFR', 'Grb2': 'Grb2', 'BND_1': 'BND_1'}\n",
      "{1: 'EGFR', 2: 'BND_1', 3: 3}\n"
     ]
    }
   ],
   "source": [
    "res = simple_hierarchy.rewrite(\"G_prime\", rule, instances[0], lhs_typing, rhs_typing, total=True)"
   ]
  },
  {
   "cell_type": "code",
   "execution_count": 26,
   "metadata": {},
   "outputs": [
    {
     "data": {
      "image/png": "[encoded data removed]",
      "text/plain": [
       "<matplotlib.figure.Figure at 0x7fa33e5b4160>"
      ]
     },
     "metadata": {},
     "output_type": "display_data"
    },
    {
     "data": {
      "text/plain": [
       "{'SH2': array([ 1.        ,  0.45365127]),\n",
       " 'EGFR': array([ 0.        ,  0.10732697]),\n",
       " 3: array([ 0.75295474,  0.88171278]),\n",
       " 'Grb2': array([ 0.59838614,  0.7652294 ]),\n",
       " 'BND_1': array([ 0.57270356,  0.        ])}"
      ]
     },
     "execution_count": 26,
     "metadata": {},
     "output_type": "execute_result"
    }
   ],
   "source": [
    "plot_graph(simple_hierarchy.node[\"G_prime\"].graph, parent_pos=pos)"
   ]
  },
  {
   "cell_type": "code",
   "execution_count": 27,
   "metadata": {},
   "outputs": [
    {
     "name": "stdout",
     "output_type": "stream",
     "text": [
      "Node types in `G_prime` after rewriting: \n",
      "\n",
      "SH2 {'G': 'region'}\n",
      "EGFR {'G': 'protein'}\n",
      "3 {'G': 'region'}\n",
      "Grb2 {'G': 'protein'}\n",
      "BND_1 {'G': 'binding'}\n"
     ]
    }
   ],
   "source": [
    "print(\"Node types in `G_prime` after rewriting: \\n\")\n",
    "for node in simple_hierarchy.node[\"G_prime\"].graph.nodes():\n",
    "    print(node, simple_hierarchy.node_type(\"G_prime\", node))"
   ]
  },
  {
   "cell_type": "markdown",
   "metadata": {},
   "source": [
    "Later on if a node form $G$ is not typed in $T$, we can specify a typing for this node.\n",
    "\n",
    "In the example we type the node `3` as a `region` in `G`."
   ]
  },
  {
   "cell_type": "code",
   "execution_count": 28,
   "metadata": {
    "collapsed": true
   },
   "outputs": [],
   "source": [
    "simple_hierarchy.add_node_type(\"G_prime\", 3,  {\"G\": \"region\"})"
   ]
  },
  {
   "cell_type": "markdown",
   "metadata": {},
   "source": [
    "It is also possible to remove a graph from the hierarchy using the `regraph.library.hierarchy.Hierarchy.remove_graph` method. It takes as an input the id of a graph to remove, and if the argument `reconnect` is set to `True`, it reconnects all the graphs typed by the graph being removed to the graphs typing it.\n",
    "\n",
    "In our example if we remove graph `G` from the hierarchy, `G_prime` is now directly typed by `T`."
   ]
  },
  {
   "cell_type": "code",
   "execution_count": 29,
   "metadata": {},
   "outputs": [
    {
     "name": "stdout",
     "output_type": "stream",
     "text": [
      "{'SH2': 'agent', 'EGFR': 'agent', 3: 'agent', 'Grb2': 'agent', 'BND_1': 'action'}\n",
      "\n",
      "Graphs (directed == True): \n",
      "\n",
      "Nodes:\n",
      "Graph: G_prime {'name': 'EGFR and Grb2 binding'}\n",
      "Graph: T {'name': 'Agent interaction'}\n",
      "\n",
      "Typing homomorphisms: \n",
      "G_prime -> T: total == True\n",
      "Relations:\n",
      "\n",
      "attributes : \n",
      "{}\n",
      "\n",
      "New node types in 'G_prime':\n",
      "\n",
      "SH2 :  {'T': 'agent'}\n",
      "EGFR :  {'T': 'agent'}\n",
      "3 :  {'T': 'agent'}\n",
      "Grb2 :  {'T': 'agent'}\n",
      "BND_1 :  {'T': 'action'}\n"
     ]
    }
   ],
   "source": [
    "simple_hierarchy.remove_graph(\"G\", reconnect=True)\n",
    "print(simple_hierarchy)\n",
    "print(\"New node types in 'G_prime':\\n\")\n",
    "for node in simple_hierarchy.node[\"G_prime\"].graph.nodes():\n",
    "    print(node, \": \", simple_hierarchy.node_type(\"G_prime\", node))"
   ]
  },
  {
   "cell_type": "markdown",
   "metadata": {},
   "source": [
    "### 2. Example: advanced hierarchy\n",
    "\n",
    "The following example illustrates more sophisticaled hierarchy example."
   ]
  },
  {
   "cell_type": "markdown",
   "metadata": {},
   "source": [
    "#### 2.1. DAG hierarchy"
   ]
  },
  {
   "cell_type": "code",
   "execution_count": 30,
   "metadata": {},
   "outputs": [
    {
     "name": "stdout",
     "output_type": "stream",
     "text": [
      "{'red_square': 'red', 'red_circle': 'red'}\n",
      "{'red_square': 'square', 'some_circle': 'circle', 'red_circle': 'circle'}\n",
      "{'good_square': 'square', 'bad_circle': 'circle', 'good_circle': 'circle'}\n",
      "{'good_square': 'good', 'bad_circle': 'bad', 'good_guy': 'good', 'good_circle': 'good'}\n",
      "{'bad_red_circle': 'red_circle', 'good_red_square': 'red_square', 'good_red_circle': 'red_circle'}\n",
      "{'bad_red_circle': 'bad_circle', 'good_red_square': 'good_square', 'good_red_circle': 'good_circle'}\n",
      "{1: 1, 2: 2, 11: 1}\n",
      "{1: 1, 2: 2, 11: 11}\n",
      "{1: 'red_circle', 2: 'red_square'}\n",
      "{11: 'red_circle', 1: 'red_circle', 2: 'red_square', 3: 'red_circle'}\n",
      "{1: 'good_circle', 2: 'good_square'}\n",
      "{11: 'good_circle', 1: 'good_circle', 2: 'good_square', 3: 'bad_circle'}\n"
     ]
    }
   ],
   "source": [
    "hierarchy = Hierarchy()\n",
    "\n",
    "colors = nx.DiGraph()\n",
    "colors.add_nodes_from([\n",
    "        \"green\", \"red\"\n",
    "    ])\n",
    "colors.add_edges_from([\n",
    "        (\"red\", \"green\"),\n",
    "        (\"red\", \"red\"),\n",
    "        (\"green\", \"green\")\n",
    "    ])\n",
    "hierarchy.add_graph(\"colors\", colors, {\"id\": \"https://some_url\"})\n",
    "\n",
    "shapes = nx.DiGraph()\n",
    "shapes.add_nodes_from([\"circle\", \"square\"])\n",
    "shapes.add_edges_from([\n",
    "        (\"circle\", \"square\"),\n",
    "        (\"square\", \"circle\"),\n",
    "        (\"circle\", \"circle\")\n",
    "    ])\n",
    "hierarchy.add_graph(\"shapes\", shapes)\n",
    "\n",
    "quality = nx.DiGraph()\n",
    "quality.add_nodes_from([\"good\", \"bad\"])\n",
    "quality.add_edges_from([\n",
    "        (\"bad\", \"bad\"),\n",
    "        (\"bad\", \"good\"),\n",
    "        (\"good\", \"good\")\n",
    "    ])\n",
    "hierarchy.add_graph(\"quality\", quality)\n",
    "\n",
    "g1 = nx.DiGraph()\n",
    "g1.add_nodes_from([\n",
    "    \"red_circle\",\n",
    "    \"red_square\",\n",
    "    \"some_circle\",\n",
    "])\n",
    "g1.add_edges_from([\n",
    "    (\"red_circle\", \"red_square\"),\n",
    "    (\"red_circle\", \"red_circle\"),\n",
    "    (\"red_square\", \"red_circle\"),\n",
    "    (\"some_circle\", \"red_circle\")\n",
    "])\n",
    "g1_colors = {\n",
    "    \"red_circle\": \"red\",\n",
    "    \"red_square\": \"red\",\n",
    "}\n",
    "g1_shapes = {\n",
    "    \"red_circle\": \"circle\",\n",
    "    \"red_square\": \"square\",\n",
    "    \"some_circle\": \"circle\"\n",
    "}\n",
    "\n",
    "hierarchy.add_graph(\"g1\", g1)\n",
    "hierarchy.add_typing(\"g1\", \"colors\", g1_colors, total=False)\n",
    "hierarchy.add_typing(\"g1\", \"shapes\", g1_shapes, total=False)\n",
    "\n",
    "g2 = nx.DiGraph()\n",
    "g2.add_nodes_from([\n",
    "    \"good_circle\",\n",
    "    \"good_square\",\n",
    "    \"bad_circle\",\n",
    "    \"good_guy\",\n",
    "    \"some_node\"\n",
    "])\n",
    "g2.add_edges_from([\n",
    "    (\"good_circle\", \"good_square\"),\n",
    "    (\"good_square\", \"good_circle\"),\n",
    "    (\"bad_circle\", \"good_circle\"),\n",
    "    (\"bad_circle\", \"bad_circle\"),\n",
    "    (\"some_node\", \"good_circle\"),\n",
    "    (\"good_guy\", \"good_square\")\n",
    "])\n",
    "g2_shapes = {\n",
    "    \"good_circle\": \"circle\",\n",
    "    \"good_square\": \"square\",\n",
    "    \"bad_circle\": \"circle\"\n",
    "}\n",
    "g2_quality = {\n",
    "    \"good_circle\": \"good\",\n",
    "    \"good_square\": \"good\",\n",
    "    \"bad_circle\": \"bad\",\n",
    "    \"good_guy\": \"good\"\n",
    "}\n",
    "\n",
    "hierarchy.add_graph(\"g2\", g2)\n",
    "hierarchy.add_typing(\"g2\", \"shapes\", g2_shapes)\n",
    "hierarchy.add_typing(\"g2\", \"quality\", g2_quality)\n",
    "\n",
    "g3 = nx.DiGraph()\n",
    "g3.add_nodes_from([\n",
    "    \"good_red_circle\",\n",
    "    \"bad_red_circle\",\n",
    "    \"good_red_square\",\n",
    "    \"some_circle_node\",\n",
    "    \"some_strange_node\"\n",
    "])\n",
    "g3.add_edges_from([\n",
    "    (\"bad_red_circle\", \"good_red_circle\"),\n",
    "    (\"good_red_square\", \"good_red_circle\"),\n",
    "    (\"good_red_circle\", \"good_red_square\")\n",
    "])\n",
    "\n",
    "g3_g1 = {\n",
    "    \"good_red_circle\": \"red_circle\",\n",
    "    \"bad_red_circle\": \"red_circle\",\n",
    "    \"good_red_square\": \"red_square\"\n",
    "}\n",
    "\n",
    "g3_g2 = {\n",
    "    \"good_red_circle\": \"good_circle\",\n",
    "    \"bad_red_circle\": \"bad_circle\",\n",
    "    \"good_red_square\": \"good_square\",\n",
    "}\n",
    "\n",
    "hierarchy.add_graph(\"g3\", g3)\n",
    "hierarchy.add_typing(\"g3\", \"g1\", g3_g1)\n",
    "hierarchy.add_typing(\"g3\", \"g2\", g3_g2)\n",
    "\n",
    "\n",
    "lhs = nx.DiGraph()\n",
    "lhs.add_nodes_from([1, 2])\n",
    "lhs.add_edges_from([(1, 2)])\n",
    "\n",
    "p = nx.DiGraph()\n",
    "p.add_nodes_from([1, 11, 2])\n",
    "p.add_edges_from([(1, 2)])\n",
    "\n",
    "rhs = copy.deepcopy(p)\n",
    "rhs.add_nodes_from([3])\n",
    "\n",
    "p_lhs = {1: 1, 11: 1, 2: 2}\n",
    "p_rhs = {1: 1, 11: 11, 2: 2}\n",
    "\n",
    "r1 = Rule(p, lhs, rhs, p_lhs, p_rhs)\n",
    "hierarchy.add_rule(\"r1\", r1, {\"desc\": \"Rule 1: typed by two graphs\"})\n",
    "\n",
    "lhs_typing1 = {1: \"red_circle\", 2: \"red_square\"}\n",
    "rhs_typing1 = {3: \"red_circle\"}\n",
    "# rhs_typing1 = {1: \"red_circle\", 11: \"red_circle\", 2: \"red_square\"}\n",
    "\n",
    "lhs_typing2 = {1: \"good_circle\", 2: \"good_square\"}\n",
    "rhs_typing2 = {3: \"bad_circle\"}\n",
    "# rhs_typing2 = {1: \"good_circle\", 11: \"good_circle\", 2: \"good_square\"}\n",
    "\n",
    "hierarchy.add_rule_typing(\"r1\", \"g1\", lhs_typing1, rhs_typing1)\n",
    "hierarchy.add_rule_typing(\"r1\", \"g2\", lhs_typing2, rhs_typing2)"
   ]
  },
  {
   "cell_type": "markdown",
   "metadata": {},
   "source": [
    "Some of the graphs in the hierarchy are now typed by multiple graphs, which is reflected in the types of nodes, as in the example below:"
   ]
  },
  {
   "cell_type": "code",
   "execution_count": 31,
   "metadata": {
    "scrolled": true
   },
   "outputs": [
    {
     "name": "stdout",
     "output_type": "stream",
     "text": [
      "Node types in G3:\n",
      "\n",
      "some_strange_node {}\n",
      "some_circle_node {}\n",
      "bad_red_circle {'g2': 'bad_circle', 'g1': 'red_circle'}\n",
      "good_red_square {'g2': 'good_square', 'g1': 'red_square'}\n",
      "good_red_circle {'g2': 'good_circle', 'g1': 'red_circle'}\n"
     ]
    }
   ],
   "source": [
    "print(\"Node types in G3:\\n\")\n",
    "for node in hierarchy.node[\"g3\"].graph.nodes():\n",
    "    print(node, hierarchy.node_type(\"g3\", node))"
   ]
  },
  {
   "cell_type": "code",
   "execution_count": 32,
   "metadata": {},
   "outputs": [
    {
     "name": "stdout",
     "output_type": "stream",
     "text": [
      "Node types in G3:\n",
      "\n",
      "some_strange_node {'g2': 'some_node'}\n",
      "some_circle_node {'g2': 'good_circle', 'g1': 'red_circle'}\n",
      "bad_red_circle {'g2': 'bad_circle', 'g1': 'red_circle'}\n",
      "good_red_square {'g2': 'good_square', 'g1': 'red_square'}\n",
      "good_red_circle {'g2': 'good_circle', 'g1': 'red_circle'}\n"
     ]
    }
   ],
   "source": [
    "hierarchy.add_node_type(\"g3\", \"some_circle_node\", {\"g1\": \"red_circle\", \"g2\": \"good_circle\"})\n",
    "hierarchy.add_node_type(\"g3\", \"some_strange_node\", {\"g2\": \"some_node\"})\n",
    "print(\"Node types in G3:\\n\")\n",
    "for node in hierarchy.node[\"g3\"].graph.nodes():\n",
    "    print(node, hierarchy.node_type(\"g3\", node))"
   ]
  },
  {
   "cell_type": "markdown",
   "metadata": {},
   "source": [
    "Notice that as `G3` is paritally typed by both `G1` and `G2`, not all the nodes have types in both `G1` and `G2`. For example, node `some_circle_node` is typed only by `some_circle` in `G1`, but is not typed by any node in `G2`."
   ]
  },
  {
   "cell_type": "markdown",
   "metadata": {},
   "source": [
    "#### 2.2. Rules as nodes of a hierarchy\n",
    "\n",
    "Having constructed a sophisticated rewriting rule typed by some nodes in the hierarchy one may want to store this rule and to be able to propagate any changes that happen in the hierarchy to the rule as well.  \n",
    "\n",
    "ReGraph's `regraph.library.hierarchy.Hierarchy` allows to add graph rewriting rules as nodes in the hierarchy. Rules in the hierarchy can be (partially) typed by graphs. \n",
    "\n",
    "**Note:** nothing can be typed by a rule in the hierarchy.\n",
    "\n",
    "In the example below, a rule is added to the previously constructed hierarchy and typed by graphs `g1` and `g2`:"
   ]
  },
  {
   "cell_type": "code",
   "execution_count": 33,
   "metadata": {
    "scrolled": false
   },
   "outputs": [
    {
     "name": "stdout",
     "output_type": "stream",
     "text": [
      "\n",
      "Graphs (directed == True): \n",
      "\n",
      "Nodes:\n",
      "Graph: g1 {}\n",
      "Graph: g3 {}\n",
      "Graph: shapes {}\n",
      "Graph: quality {}\n",
      "Graph: g2 {}\n",
      "Rule: r1 {'desc': 'Rule 1: typed by two graphs'}\n",
      "Graph: colors {'id': 'https://some_url'}\n",
      "\n",
      "Typing homomorphisms: \n",
      "g1 -> colors: total == Falseg1 -> shapes: total == Falseg3 -> g2: total == Falseg3 -> g1: total == Falseg2 -> shapes: total == Falseg2 -> quality: total == Falser1 -> g2: lhs_total == False, rhs_total == False,r1 -> g1: lhs_total == False, rhs_total == False,\n",
      "Relations:\n",
      "\n",
      "attributes : \n",
      "{}\n",
      "\n"
     ]
    }
   ],
   "source": [
    "print(hierarchy)"
   ]
  },
  {
   "cell_type": "code",
   "execution_count": 34,
   "metadata": {},
   "outputs": [
    {
     "name": "stdout",
     "output_type": "stream",
     "text": [
      "{1: 'red_circle', 2: 'red_square'}\n",
      "{3: 'red_circle', 1: 'red_circle', 2: 'red_square', 11: 'red_circle'}\n",
      "{1: 'good_circle', 2: 'good_square'}\n",
      "{3: 'bad_circle', 1: 'good_circle', 2: 'good_square', 11: 'good_circle'}\n"
     ]
    }
   ],
   "source": [
    "print(hierarchy.edge[\"r1\"][\"g1\"].lhs_mapping)\n",
    "print(hierarchy.edge[\"r1\"][\"g1\"].rhs_mapping)\n",
    "print(hierarchy.edge[\"r1\"][\"g2\"].lhs_mapping)\n",
    "print(hierarchy.edge[\"r1\"][\"g2\"].rhs_mapping)"
   ]
  },
  {
   "cell_type": "markdown",
   "metadata": {},
   "source": [
    "#### 2.3. Rewriting and propagation\n",
    "\n",
    "We now show how graph rewriting can be performed in such an hierarchy. In the previous example we perfromed graph rewriting on the top level of the hierarchy, meaning that the graph that was rewritten did not type any other graph.\n",
    "\n",
    "The following example illustrates what happens if we rewrite a graph typing some other graphs. The ReGraph hierarchy is able to propagate the changes made by rewriting on any level to all the graphs (as well as the rules) typed by the one subject to rewriting."
   ]
  },
  {
   "cell_type": "code",
   "execution_count": 35,
   "metadata": {},
   "outputs": [
    {
     "name": "stdout",
     "output_type": "stream",
     "text": [
      "{'a': 'a', 'a1': 'a', 'b': 'b'}\n",
      "{'a': 'a', 'a1': 'a1', 'b': 'b'}\n"
     ]
    }
   ],
   "source": [
    "lhs = nx.DiGraph()\n",
    "lhs.add_nodes_from([\"a\", \"b\"])\n",
    "lhs.add_edges_from([\n",
    "        (\"a\", \"b\"),\n",
    "        (\"b\", \"a\")\n",
    "    ])\n",
    "p = nx.DiGraph()\n",
    "p.add_nodes_from([\"a\", \"a1\", \"b\"])\n",
    "p.add_edges_from([\n",
    "        (\"a\", \"b\"),\n",
    "        (\"a1\", \"b\")\n",
    "    ])\n",
    "rhs = copy.deepcopy(p)\n",
    "rule = Rule(\n",
    "    p, lhs, rhs,\n",
    "    {\"a\": \"a\", \"a1\": \"a\", \"b\": \"b\"},\n",
    "    {\"a\": \"a\", \"a1\": \"a1\", \"b\": \"b\"},\n",
    ")"
   ]
  },
  {
   "cell_type": "code",
   "execution_count": 36,
   "metadata": {},
   "outputs": [
    {
     "name": "stdout",
     "output_type": "stream",
     "text": [
      "Instances:\n",
      "{'b': 'circle', 'a': 'square'}\n"
     ]
    },
    {
     "data": {
      "image/png": "[encoded data removed]",
      "text/plain": [
       "<matplotlib.figure.Figure at 0x7fa33e68b780>"
      ]
     },
     "metadata": {},
     "output_type": "display_data"
    },
    {
     "name": "stdout",
     "output_type": "stream",
     "text": [
      "{'a': 'circle', 'b': 'square'}\n"
     ]
    },
    {
     "data": {
      "image/png": "[encoded data removed]",
      "text/plain": [
       "<matplotlib.figure.Figure at 0x7fa33e36b3c8>"
      ]
     },
     "metadata": {},
     "output_type": "display_data"
    }
   ],
   "source": [
    "instances = hierarchy.find_matching(\"shapes\", lhs)\n",
    "print(\"Instances:\")\n",
    "for instance in instances:\n",
    "    print(instance)\n",
    "    plot_instance(hierarchy.node[\"shapes\"].graph, rule.lhs, instance)"
   ]
  },
  {
   "cell_type": "code",
   "execution_count": 37,
   "metadata": {
    "scrolled": false
   },
   "outputs": [
    {
     "name": "stdout",
     "output_type": "stream",
     "text": [
      "{'a': 'circle', 'b': 'square'}\n",
      "{'a': 'a', 'a1': 'a', 'b': 'b'}\n",
      "{'a': 'circle', 'b': 'square'}\n",
      "{'a': 'circle', 'a1': 'circle1', 'b': 'square'}\n",
      "{'circle': 'circle', 'circle1': 'circle', 'square': 'square'}\n",
      "{'a': 'circle', 'a1': 'circle1', 'b': 'square'}\n",
      "{'a': 'a', 'a1': 'a1', 'b': 'b'}\n",
      "{'circle': 'circle', 'circle1': 'circle1', 'square': 'square'}\n",
      "{'a': 'circle', 'a1': 'circle1', 'b': 'square'}\n",
      "{'good_square': 'square', 'bad_circle': 'circle', 'good_circle': 'circle'}\n",
      "{'circle': 'circle', 'circle1': 'circle', 'square': 'square'}\n",
      "{'good_square': 'square', 'bad_circle': 'circle', 'good_circle': 'circle'}\n",
      "{'circle': 'circle', 'circle1': 'circle', 'square': 'square'}\n",
      "{'good_square': 'good_square', 'bad_circle': 'bad_circle', 'good_circle1': 'good_circle', 'good_circle': 'good_circle', 'bad_circle1': 'bad_circle'}\n",
      "{'good_square': 'square', 'bad_circle': 'circle', 'good_circle1': 'circle1', 'good_circle': 'circle', 'bad_circle1': 'circle1'}\n",
      "{'good_square': 'good_square', 'bad_circle': 'bad_circle', 'good_circle1': 'good_circle', 'good_circle': 'good_circle', 'bad_circle1': 'bad_circle'}\n",
      "{'good_square': 'good_square', 'bad_circle': 'bad_circle', 'good_circle': 'good_circle'}\n",
      "{'good_square': 'good_square', 'bad_circle': 'bad_circle', 'good_circle1': 'good_circle', 'good_circle': 'good_circle1', 'bad_circle1': 'bad_circle1'}\n",
      "{'good_square': 'good_square', 'good_circle1': 'good_circle', 'good_circle': 'good_circle', 'bad_circle1': 'bad_circle', 'good_guy': 'good_guy', 'bad_circle': 'bad_circle', 'some_node': 'some_node'}\n",
      "{'good_square': 'square', 'bad_circle': 'circle', 'good_circle1': 'circle1', 'good_circle': 'circle', 'bad_circle1': 'circle1'}\n",
      "{'circle': 'circle', 'circle1': 'circle1', 'square': 'square'}\n",
      "{'good_square': 'square', 'bad_circle': 'circle', 'good_circle1': 'circle1', 'good_circle': 'circle2', 'bad_circle1': 'circle11'}\n",
      "{'circle': 'circle', 'circle11': 'circle1', 'circle1': 'circle1', 'circle2': 'circle', 'square': 'square'}\n",
      "{'good_square': 'good_square', 'bad_circle': 'bad_circle', 'good_circle1': 'good_circle', 'good_circle': 'good_circle1', 'bad_circle1': 'bad_circle1'}\n",
      "{'good_square': 'square', 'bad_circle': 'circle', 'good_circle1': 'circle1', 'good_circle': 'circle2', 'bad_circle1': 'circle11'}\n",
      "{'good_square': 'good_square', 'good_circle1': 'good_circle1', 'good_circle': 'good_circle', 'bad_circle1': 'bad_circle1', 'good_guy': 'good_guy', 'bad_circle': 'bad_circle', 'some_node': 'some_node'}\n",
      "{'circle': 'bad_circle', 'circle11': 'bad_circle1', 'circle1': 'good_circle', 'circle2': 'good_circle1', 'square': 'good_square'}\n",
      "{'red_square': 'square', 'some_circle': 'circle', 'red_circle': 'circle'}\n",
      "{'circle': 'circle', 'circle1': 'circle', 'square': 'square'}\n",
      "{'some_circle1': 'some_circle', 'red_square': 'red_square', 'some_circle': 'some_circle', 'red_circle': 'red_circle', 'red_circle1': 'red_circle'}\n",
      "{'some_circle1': 'circle1', 'red_square': 'square', 'some_circle': 'circle', 'red_circle': 'circle', 'red_circle1': 'circle1'}\n",
      "{'bad_red_circle': 'circle', 'some_circle_node': 'circle', 'good_red_square': 'square', 'good_red_circle': 'circle'}\n",
      "{'circle': 'circle', 'circle1': 'circle', 'square': 'square'}\n",
      "{'bad_red_circle': 'circle', 'some_circle_node': 'circle', 'good_red_square': 'square', 'good_red_circle': 'circle'}\n",
      "{'circle': 'circle', 'circle1': 'circle', 'square': 'square'}\n",
      "{'bad_red_circle1': 'bad_red_circle', 'good_red_circle1': 'good_red_circle', 'some_circle_node1': 'some_circle_node', 'some_circle_node': 'some_circle_node', 'bad_red_circle': 'bad_red_circle', 'good_red_square': 'good_red_square', 'good_red_circle': 'good_red_circle'}\n",
      "{'bad_red_circle1': 'circle1', 'good_red_circle1': 'circle1', 'some_circle_node1': 'circle1', 'some_circle_node': 'circle', 'bad_red_circle': 'circle', 'good_red_square': 'square', 'good_red_circle': 'circle'}\n",
      "{'bad_red_circle1': 'bad_red_circle', 'good_red_circle1': 'good_red_circle', 'some_circle_node1': 'some_circle_node', 'some_circle_node': 'some_circle_node', 'bad_red_circle': 'bad_red_circle', 'good_red_square': 'good_red_square', 'good_red_circle': 'good_red_circle'}\n",
      "{'some_circle_node': 'some_circle_node', 'bad_red_circle': 'bad_red_circle', 'good_red_square': 'good_red_square', 'good_red_circle': 'good_red_circle'}\n",
      "{'bad_red_circle1': 'bad_red_circle', 'good_red_circle1': 'good_red_circle', 'some_circle_node1': 'some_circle_node', 'some_circle_node': 'some_circle_node1', 'bad_red_circle': 'bad_red_circle1', 'good_red_square': 'good_red_square', 'good_red_circle': 'good_red_circle1'}\n",
      "{'bad_red_circle1': 'bad_red_circle', 'some_strange_node': 'some_strange_node', 'good_red_circle1': 'good_red_circle', 'some_circle_node1': 'some_circle_node', 'some_circle_node': 'some_circle_node', 'bad_red_circle': 'bad_red_circle', 'good_red_square': 'good_red_square', 'good_red_circle': 'good_red_circle'}\n",
      "{'bad_red_circle1': 'circle1', 'good_red_circle1': 'circle1', 'some_circle_node1': 'circle1', 'some_circle_node': 'circle', 'bad_red_circle': 'circle', 'good_red_square': 'square', 'good_red_circle': 'circle'}\n",
      "{'circle': 'circle', 'circle1': 'circle1', 'square': 'square'}\n",
      "{'bad_red_circle1': 'circle1', 'good_red_circle1': 'circle11', 'some_circle_node1': 'circle12', 'some_circle_node': 'circle', 'bad_red_circle': 'circle2', 'good_red_square': 'square', 'good_red_circle': 'circle3'}\n",
      "{'circle': 'circle', 'circle12': 'circle1', 'circle1': 'circle1', 'square': 'square', 'circle11': 'circle1', 'circle3': 'circle', 'circle2': 'circle'}\n",
      "{'bad_red_circle1': 'bad_red_circle', 'good_red_circle1': 'good_red_circle', 'some_circle_node1': 'some_circle_node', 'some_circle_node': 'some_circle_node1', 'bad_red_circle': 'bad_red_circle1', 'good_red_square': 'good_red_square', 'good_red_circle': 'good_red_circle1'}\n",
      "{'bad_red_circle1': 'circle1', 'good_red_circle1': 'circle11', 'some_circle_node1': 'circle12', 'some_circle_node': 'circle', 'bad_red_circle': 'circle2', 'good_red_square': 'square', 'good_red_circle': 'circle3'}\n",
      "{'bad_red_circle1': 'bad_red_circle1', 'some_strange_node': 'some_strange_node', 'good_red_circle1': 'good_red_circle1', 'some_circle_node1': 'some_circle_node1', 'some_circle_node': 'some_circle_node', 'bad_red_circle': 'bad_red_circle', 'good_red_square': 'good_red_square', 'good_red_circle': 'good_red_circle'}\n",
      "{'circle': 'some_circle_node1', 'circle12': 'some_circle_node', 'circle1': 'bad_red_circle', 'square': 'good_red_square', 'circle11': 'good_red_circle', 'circle3': 'good_red_circle1', 'circle2': 'bad_red_circle1'}\n",
      "{1: 'circle', 2: 'square'}\n",
      "{'circle': 'circle', 'circle1': 'circle', 'square': 'square'}\n",
      "{'11': 1, 1: 1, 2: 2}\n",
      "{'11': 'circle1', 1: 'circle', 2: 'square'}\n",
      "{1: 'circle', 2: 'square', 11: 'circle'}\n",
      "{'circle': 'circle', 'circle1': 'circle', 'square': 'square'}\n",
      "{'11': 1, 1: 1, 2: 2, 11: 11, '111': 11}\n",
      "{'11': 'circle1', 1: 'circle', 2: 'square', 11: 'circle', '111': 'circle1'}\n",
      "{1: 'circle', 2: 'square', 3: 'circle', 11: 'circle'}\n",
      "{'circle': 'circle', 'circle1': 'circle', 'square': 'square'}\n",
      "{3: 3, 1: 1, 2: 2, '111': 11, '31': 3, '11': 1, 11: 11}\n",
      "{3: 'circle', 1: 'circle', 2: 'square', '111': 'circle1', '31': 'circle1', '11': 'circle1', 11: 'circle'}\n",
      "{'11': '11', 1: 1, 2: 2, '111': '11', 11: 1}\n",
      "{'11': '11', 1: 1, 2: 2, '111': '111', 11: 11}\n"
     ]
    }
   ],
   "source": [
    "_, m = hierarchy.rewrite(\"shapes\", rule, {\"a\": \"circle\", \"b\": \"square\"})"
   ]
  },
  {
   "cell_type": "code",
   "execution_count": 38,
   "metadata": {
    "scrolled": false
   },
   "outputs": [
    {
     "name": "stdout",
     "output_type": "stream",
     "text": [
      "Graph 'shapes':\n",
      "\n",
      "===============\n",
      "\n",
      "Nodes:\n",
      "\n",
      "circle  :  {}\n",
      "circle1  :  {}\n",
      "square  :  {}\n",
      "\n",
      "Edges:\n",
      "\n",
      "circle -> circle  :  {}\n",
      "circle -> circle1  :  {}\n",
      "circle -> square  :  {}\n",
      "circle1 -> circle  :  {}\n",
      "circle1 -> circle1  :  {}\n",
      "circle1 -> square  :  {}\n",
      "========================================\n",
      "\n",
      "\n",
      "Graph 'g1':\n",
      "\n",
      "===========\n",
      "\n",
      "Nodes:\n",
      "\n",
      "some_circle1  :  {}\n",
      "red_square  :  {}\n",
      "some_circle  :  {}\n",
      "red_circle  :  {}\n",
      "red_circle1  :  {}\n",
      "\n",
      "Edges:\n",
      "\n",
      "some_circle1 -> red_circle  :  {}\n",
      "some_circle1 -> red_circle1  :  {}\n",
      "some_circle -> red_circle  :  {}\n",
      "some_circle -> red_circle1  :  {}\n",
      "red_circle -> red_square  :  {}\n",
      "red_circle -> red_circle  :  {}\n",
      "red_circle -> red_circle1  :  {}\n",
      "red_circle1 -> red_square  :  {}\n",
      "red_circle1 -> red_circle  :  {}\n",
      "red_circle1 -> red_circle1  :  {}\n",
      "========================================\n",
      "\n",
      "\n",
      "Graph 'g2':\n",
      "\n",
      "===========\n",
      "\n",
      "Nodes:\n",
      "\n",
      "good_square  :  {}\n",
      "good_circle1  :  {}\n",
      "good_circle  :  {}\n",
      "bad_circle1  :  {}\n",
      "good_guy  :  {}\n",
      "bad_circle  :  {}\n",
      "some_node  :  {}\n",
      "\n",
      "Edges:\n",
      "\n",
      "good_circle1 -> good_square  :  {}\n",
      "good_circle -> good_square  :  {}\n",
      "bad_circle1 -> bad_circle  :  {}\n",
      "bad_circle1 -> good_circle1  :  {}\n",
      "bad_circle1 -> good_circle  :  {}\n",
      "bad_circle1 -> bad_circle1  :  {}\n",
      "good_guy -> good_square  :  {}\n",
      "bad_circle -> bad_circle  :  {}\n",
      "bad_circle -> good_circle1  :  {}\n",
      "bad_circle -> good_circle  :  {}\n",
      "bad_circle -> bad_circle1  :  {}\n",
      "some_node -> good_circle1  :  {}\n",
      "some_node -> good_circle  :  {}\n",
      "========================================\n",
      "\n",
      "\n",
      "Graph 'g3':\n",
      "\n",
      "===========\n",
      "\n",
      "Nodes:\n",
      "\n",
      "bad_red_circle1  :  {}\n",
      "some_strange_node  :  {}\n",
      "good_red_circle1  :  {}\n",
      "some_circle_node1  :  {}\n",
      "some_circle_node  :  {}\n",
      "bad_red_circle  :  {}\n",
      "good_red_square  :  {}\n",
      "good_red_circle  :  {}\n",
      "\n",
      "Edges:\n",
      "\n",
      "bad_red_circle1 -> good_red_circle1  :  {}\n",
      "bad_red_circle1 -> good_red_circle  :  {}\n",
      "good_red_circle1 -> good_red_square  :  {}\n",
      "bad_red_circle -> good_red_circle1  :  {}\n",
      "bad_red_circle -> good_red_circle  :  {}\n",
      "good_red_circle -> good_red_square  :  {}\n",
      "========================================\n",
      "\n",
      "\n",
      "Rule 'r1':\n",
      "\n",
      "===========\n",
      "\n",
      "LHS:\n",
      "\n",
      "Nodes:\n",
      "\n",
      "11  :  {}\n",
      "1  :  {}\n",
      "2  :  {}\n",
      "\n",
      "Edges:\n",
      "\n",
      "11 -> 2  :  {}\n",
      "1 -> 2  :  {}\n",
      "\n",
      "P:\n",
      "\n",
      "Nodes:\n",
      "\n",
      "11  :  {}\n",
      "1  :  {}\n",
      "2  :  {}\n",
      "11  :  {}\n",
      "111  :  {}\n",
      "\n",
      "Edges:\n",
      "\n",
      "11 -> 2  :  {}\n",
      "1 -> 2  :  {}\n",
      "\n",
      "RHS:\n",
      "\n",
      "Nodes:\n",
      "\n",
      "1  :  {}\n",
      "2  :  {}\n",
      "3  :  {}\n",
      "31  :  {}\n",
      "11  :  {}\n",
      "11  :  {}\n",
      "111  :  {}\n",
      "\n",
      "Edges:\n",
      "\n",
      "1 -> 2  :  {}\n",
      "11 -> 2  :  {}\n"
     ]
    }
   ],
   "source": [
    "sep = \"========================================\\n\\n\"\n",
    "\n",
    "print(\"Graph 'shapes':\\n\")\n",
    "print(\"===============\")\n",
    "print_graph(hierarchy.node[\"shapes\"].graph)\n",
    "print(sep)\n",
    "\n",
    "print(\"Graph 'g1':\\n\")\n",
    "print(\"===========\")\n",
    "print_graph(hierarchy.node[\"g1\"].graph)\n",
    "print(sep)\n",
    "\n",
    "print(\"Graph 'g2':\\n\")\n",
    "print(\"===========\")\n",
    "print_graph(hierarchy.node[\"g2\"].graph)\n",
    "print(sep)\n",
    "\n",
    "print(\"Graph 'g3':\\n\")\n",
    "print(\"===========\")\n",
    "print_graph(hierarchy.node[\"g3\"].graph)\n",
    "print(sep)\n",
    "\n",
    "print(\"Rule 'r1':\\n\")\n",
    "print(\"===========\")\n",
    "print(\"\\nLHS:\")\n",
    "print_graph(hierarchy.node[\"r1\"].rule.lhs)\n",
    "\n",
    "print(\"\\nP:\")\n",
    "print_graph(hierarchy.node[\"r1\"].rule.p)\n",
    "\n",
    "print(\"\\nRHS:\")\n",
    "print_graph(hierarchy.node[\"r1\"].rule.rhs)"
   ]
  },
  {
   "cell_type": "markdown",
   "metadata": {},
   "source": [
    "#### 2.4 Rewriting with the rules in the hierarchy\n",
    "\n",
    "ReGraph provides utils that allow to apply rules stored in the hierarchy to the graph nodes of the hierarchy.\n",
    "\n",
    "In the following example the rule `r1` is being applied for rewriting of the graph `g3`. "
   ]
  },
  {
   "cell_type": "code",
   "execution_count": 39,
   "metadata": {},
   "outputs": [
    {
     "name": "stdout",
     "output_type": "stream",
     "text": [
      "{'11': 'good_circle', 1: 'good_circle1', 2: 'good_square'}\n",
      "{'11': 'red_circle1', 1: 'red_circle', 2: 'red_square'}\n",
      "{'11': 'good_circle', 1: 'good_circle1', 2: 'good_square'}\n",
      "{'11': 'red_circle1', 1: 'red_circle', 2: 'red_square'}\n",
      "{1: 'good_circle1', 2: 'good_square', 3: 'bad_circle', '31': 'bad_circle1', '11': 'good_circle', 11: 'good_circle1', '111': 'good_circle'}\n",
      "{1: 'red_circle', 2: 'red_square', 3: 'red_circle', '31': 'red_circle1', '11': 'red_circle1', 11: 'red_circle', '111': 'red_circle1'}\n",
      "{'11': 'good_red_circle', 1: 'good_red_circle1', 2: 'good_red_square'}\n",
      "{'11': '11', 1: 1, 2: 2, '111': '11', 11: 1}\n",
      "{'11': 'good_red_circle', 1: 'good_red_circle1', 2: 'good_red_square'}\n",
      "{'11': 'good_red_circle', 1: 'good_red_circle1', 2: 'good_red_square', 11: 'good_red_circle11', '111': 'good_red_circle2'}\n",
      "{'bad_red_circle': 'bad_red_circle', 'bad_red_circle1': 'bad_red_circle1', 'good_red_circle1': 'good_red_circle1', 'good_red_circle11': 'good_red_circle1', 'some_strange_node': 'some_strange_node', 'some_circle_node1': 'some_circle_node1', 'some_circle_node': 'some_circle_node', 'good_red_circle2': 'good_red_circle', 'good_red_square': 'good_red_square', 'good_red_circle': 'good_red_circle'}\n",
      "{'11': 'good_red_circle', 1: 'good_red_circle1', 2: 'good_red_square', 11: 'good_red_circle11', '111': 'good_red_circle2'}\n",
      "{'11': '11', 1: 1, 2: 2, '111': '111', 11: 11}\n",
      "{'bad_red_circle': 'bad_red_circle', 'bad_red_circle1': 'bad_red_circle1', 'good_red_circle1': 'good_red_circle1', 'good_red_circle11': 'good_red_circle11', 'some_strange_node': 'some_strange_node', 'some_circle_node1': 'some_circle_node1', 'some_circle_node': 'some_circle_node', 'good_red_circle2': 'good_red_circle2', 'good_red_square': 'good_red_square', 'good_red_circle': 'good_red_circle'}\n",
      "{3: 3, 1: 'good_red_circle1', 2: 'good_red_square', '111': 'good_red_circle2', '31': '31', '11': 'good_red_circle', 11: 'good_red_circle11'}\n"
     ]
    },
    {
     "data": {
      "text/plain": [
       "(None,\n",
       " {'g3': (<networkx.classes.digraph.DiGraph at 0x7fa33e6616a0>,\n",
       "   {'bad_red_circle': 'bad_red_circle',\n",
       "    'bad_red_circle1': 'bad_red_circle1',\n",
       "    'good_red_circle': 'good_red_circle',\n",
       "    'good_red_circle1': 'good_red_circle1',\n",
       "    'good_red_circle11': 'good_red_circle1',\n",
       "    'good_red_circle2': 'good_red_circle',\n",
       "    'good_red_square': 'good_red_square',\n",
       "    'some_circle_node': 'some_circle_node',\n",
       "    'some_circle_node1': 'some_circle_node1',\n",
       "    'some_strange_node': 'some_strange_node'},\n",
       "   <networkx.classes.digraph.DiGraph at 0x7fa33e661e10>,\n",
       "   {'bad_red_circle': 'bad_red_circle',\n",
       "    'bad_red_circle1': 'bad_red_circle1',\n",
       "    'good_red_circle': 'good_red_circle',\n",
       "    'good_red_circle1': 'good_red_circle1',\n",
       "    'good_red_circle11': 'good_red_circle11',\n",
       "    'good_red_circle2': 'good_red_circle2',\n",
       "    'good_red_square': 'good_red_square',\n",
       "    'some_circle_node': 'some_circle_node',\n",
       "    'some_circle_node1': 'some_circle_node1',\n",
       "    'some_strange_node': 'some_strange_node'})})"
      ]
     },
     "execution_count": 39,
     "metadata": {},
     "output_type": "execute_result"
    }
   ],
   "source": [
    "instances = hierarchy.find_rule_matching(\"g3\", \"r1\")\n",
    "hierarchy.apply_rule(\n",
    "    \"g3\",\n",
    "    \"r1\",\n",
    "    instances[0]\n",
    ")"
   ]
  },
  {
   "cell_type": "code",
   "execution_count": 40,
   "metadata": {
    "scrolled": false
   },
   "outputs": [
    {
     "name": "stdout",
     "output_type": "stream",
     "text": [
      "\n",
      "Nodes:\n",
      "\n",
      "3  :  {}\n",
      "31  :  {}\n",
      "good_red_circle11  :  {}\n",
      "good_red_circle1  :  {}\n",
      "some_circle_node1  :  {}\n",
      "good_red_circle2  :  {}\n",
      "some_strange_node  :  {}\n",
      "bad_red_circle1  :  {}\n",
      "some_circle_node  :  {}\n",
      "bad_red_circle  :  {}\n",
      "good_red_square  :  {}\n",
      "good_red_circle  :  {}\n",
      "\n",
      "Edges:\n",
      "\n",
      "good_red_circle1 -> good_red_square  :  {}\n",
      "bad_red_circle1 -> good_red_circle1  :  {}\n",
      "bad_red_circle1 -> good_red_circle2  :  {}\n",
      "bad_red_circle1 -> good_red_circle11  :  {}\n",
      "bad_red_circle1 -> good_red_circle  :  {}\n",
      "bad_red_circle -> good_red_circle1  :  {}\n",
      "bad_red_circle -> good_red_circle2  :  {}\n",
      "bad_red_circle -> good_red_circle11  :  {}\n",
      "bad_red_circle -> good_red_circle  :  {}\n",
      "good_red_circle -> good_red_square  :  {}\n"
     ]
    }
   ],
   "source": [
    "print_graph(hierarchy.node[\"g3\"].graph)"
   ]
  },
  {
   "cell_type": "markdown",
   "metadata": {},
   "source": [
    "#### 2.5 Export/load hierarchy\n",
    "\n",
    "ReGraph provides the following methods for loading and exporting your hierarchy:\n",
    "\n",
    "- `regraph.library.hierarchy.Hierarchy.to_json` creates a json representations of the hierarchy;\n",
    "\n",
    "- `regraph.library.hierarchy.Hierarchy.from_json` loads an hierarchy from json representation (returns new `Hierarchy` object); \n",
    "- `regraph.library.hierarchy.Hierarchy.export` exports the hierarchy to a file (json format);\n",
    "- `regraph.library.hierarchy.Hierarchy.load` loads an hierarchy from a .json file (returns new object as well)."
   ]
  },
  {
   "cell_type": "code",
   "execution_count": 41,
   "metadata": {
    "collapsed": true
   },
   "outputs": [],
   "source": [
    "hierarchy_json = hierarchy.to_json()"
   ]
  },
  {
   "cell_type": "code",
   "execution_count": 42,
   "metadata": {},
   "outputs": [
    {
     "name": "stdout",
     "output_type": "stream",
     "text": [
      "[3, '31', 'good_red_circle11', 'good_red_circle1', 'some_circle_node1', 'good_red_circle2', 'some_strange_node', 'bad_red_circle1', 'some_circle_node', 'bad_red_circle', 'good_red_square', 'good_red_circle']\n"
     ]
    },
    {
     "data": {
      "text/plain": [
       "{3: 'red_circle',\n",
       " 'bad_red_circle1': 'red_circle',\n",
       " 'good_red_circle11': 'red_circle',\n",
       " 'good_red_circle1': 'red_circle',\n",
       " 'some_circle_node1': 'red_circle',\n",
       " 'some_circle_node': 'red_circle1',\n",
       " 'bad_red_circle': 'red_circle1',\n",
       " '31': 'red_circle1',\n",
       " 'good_red_square': 'red_square',\n",
       " 'good_red_circle': 'red_circle1',\n",
       " 'good_red_circle2': 'red_circle1'}"
      ]
     },
     "execution_count": 42,
     "metadata": {},
     "output_type": "execute_result"
    }
   ],
   "source": [
    "print(hierarchy.node[\"g3\"].graph.nodes())\n",
    "hierarchy.node[\"g1\"].graph\n",
    "hierarchy.edge[\"g3\"][\"g1\"].mapping"
   ]
  },
  {
   "cell_type": "code",
   "execution_count": 43,
   "metadata": {},
   "outputs": [
    {
     "name": "stdout",
     "output_type": "stream",
     "text": [
      "\n",
      "Graphs (directed == True): \n",
      "\n",
      "Nodes:\n",
      "Graph: g1 {}\n",
      "Graph: g3 {}\n",
      "Graph: shapes {}\n",
      "Graph: quality {}\n",
      "Graph: g2 {}\n",
      "Rule: r1 {'desc': 'Rule 1: typed by two graphs'}\n",
      "Graph: colors {'id': 'https://some_url'}\n",
      "\n",
      "Typing homomorphisms: \n",
      "g1 -> colors: total == Falseg1 -> shapes: total == Falseg3 -> g2: total == Falseg3 -> g1: total == Falseg2 -> shapes: total == Falseg2 -> quality: total == Falser1 -> g2: lhs_total == {}, rhs_total == False,r1 -> g1: lhs_total == {}, rhs_total == False,\n",
      "Relations:\n",
      "\n",
      "attributes : \n",
      "{}\n",
      "\n"
     ]
    }
   ],
   "source": [
    "print(hierarchy)"
   ]
  },
  {
   "cell_type": "code",
   "execution_count": 44,
   "metadata": {},
   "outputs": [
    {
     "name": "stdout",
     "output_type": "stream",
     "text": [
      "{'11': '11', 1: 1, 2: 2, '111': '11', 11: 1}\n",
      "{'11': '11', 1: 1, 2: 2, '111': '111', 11: 11}\n",
      "{'red_square': 'red', 'red_circle': 'red', 'red_circle1': 'red'}\n",
      "{'some_circle1': 'circle1', 'red_square': 'square', 'some_circle': 'circle', 'red_circle': 'circle', 'red_circle1': 'circle1'}\n",
      "{3: 'bad_circle', 'bad_red_circle1': 'bad_circle', 'good_red_circle11': 'good_circle1', 'good_red_circle1': 'good_circle1', 'some_circle_node1': 'good_circle1', 'some_circle_node': 'good_circle', 'bad_red_circle': 'bad_circle1', '31': 'bad_circle1', 'good_red_square': 'good_square', 'good_red_circle': 'good_circle', 'good_red_circle2': 'good_circle'}\n",
      "{3: 'red_circle', 'bad_red_circle1': 'red_circle', 'good_red_circle11': 'red_circle', 'good_red_circle1': 'red_circle', 'some_circle_node1': 'red_circle', 'some_circle_node': 'red_circle1', 'bad_red_circle': 'red_circle1', '31': 'red_circle1', 'good_red_square': 'red_square', 'good_red_circle': 'red_circle1', 'good_red_circle2': 'red_circle1'}\n",
      "{'good_square': 'square', 'bad_circle': 'circle', 'good_circle1': 'circle', 'good_circle': 'circle1', 'bad_circle1': 'circle1'}\n",
      "{'good_square': 'good', 'good_circle1': 'good', 'good_circle': 'good', 'bad_circle1': 'bad', 'good_guy': 'good', 'bad_circle': 'bad'}\n",
      "{'11': 'good_circle', 1: 'good_circle1', 2: 'good_square'}\n",
      "{1: 'good_circle1', 2: 'good_square', 3: 'bad_circle', '31': 'bad_circle1', '11': 'good_circle', 11: 'good_circle1', '111': 'good_circle'}\n",
      "{'11': 'red_circle1', 1: 'red_circle', 2: 'red_square'}\n",
      "{1: 'red_circle', 2: 'red_square', 3: 'red_circle', '31': 'red_circle1', '11': 'red_circle1', 11: 'red_circle', '111': 'red_circle1'}\n"
     ]
    }
   ],
   "source": [
    "new_hierarchy = Hierarchy.from_json(hierarchy_json, directed=True)"
   ]
  },
  {
   "cell_type": "code",
   "execution_count": 45,
   "metadata": {},
   "outputs": [
    {
     "data": {
      "text/plain": [
       "True"
      ]
     },
     "execution_count": 45,
     "metadata": {},
     "output_type": "execute_result"
    }
   ],
   "source": [
    "new_hierarchy == hierarchy"
   ]
  },
  {
   "cell_type": "markdown",
   "metadata": {},
   "source": [
    "### 3. Example: advanced rule and rewriting\n",
    "\n",
    "By default rewriting requires all the nodes in the result of the rewriting to be totally typed by all the graphs typing the graph subject to rewriting. If parameter `total` in the rewriting is set to `False`, rewriting is allowed to produce untyped nodes.\n",
    "\n",
    "In addition, rewriting is available in these possible configurations:\n",
    "\n",
    "1. **Strong typing of a rule** (default) autocompletes the types of the nodes in a rule with the respective types of the matching.\n",
    "\n",
    "~~2. **Weak typing of a rule:** (parameter `strong=False`) only checks the consistency of the types given explicitly by a rule, and allows to remove node types. If typing of a node in RHS does not contain explicit typing by some typing graph -- this node will be not typed by this graph in the result.~~\n",
    "\n",
    "~~**Note: ** Weak typing should be used with parameter `total` set to False, otherwise deletion of node types will be not possible.~~\n",
    "\n",
    "Examples below illustrate some interesting use-cases of rewriting with different rule examples."
   ]
  },
  {
   "cell_type": "code",
   "execution_count": 46,
   "metadata": {},
   "outputs": [
    {
     "name": "stdout",
     "output_type": "stream",
     "text": [
      "{'c2': 'circle', 's2': 'square', 'c1': 'circle', 's1': 'square'}\n"
     ]
    }
   ],
   "source": [
    "base = nx.DiGraph()\n",
    "base.add_nodes_from([\n",
    "        (\"circle\", {\"a\": {1, 2}, \"b\": {3, 4}}),\n",
    "        (\"square\", {\"a\": {3, 4}, \"b\": {1, 2}})\n",
    "    ])\n",
    "base.add_edges_from([\n",
    "        (\"circle\", \"circle\", {\"c\": {1, 2}}),\n",
    "        (\"circle\", \"square\", {\"d\": {1, 2}}),\n",
    "    ])\n",
    "\n",
    "little_hierarchy = Hierarchy()\n",
    "little_hierarchy.add_graph(\"base\", base)\n",
    "\n",
    "graph = nx.DiGraph()\n",
    "graph.add_nodes_from([\n",
    "        (\"c1\", {\"a\": {1}}),\n",
    "        (\"c2\", {\"a\": {2}}),\n",
    "        \"s1\",\n",
    "        \"s2\",\n",
    "        (\"n1\", {\"x\":{1}})\n",
    "    ])\n",
    "graph.add_edges_from([\n",
    "        (\"c1\", \"c2\", {\"c\": {1}}),\n",
    "        (\"c2\", \"s1\"),\n",
    "        (\"s2\", \"n1\", {\"y\": {1}})\n",
    "    ])\n",
    "\n",
    "little_hierarchy.add_graph(\"graph\", graph)\n",
    "little_hierarchy.add_typing(\n",
    "    \"graph\", \"base\",\n",
    "    {\n",
    "        \"c1\": \"circle\",\n",
    "        \"c2\": \"circle\",\n",
    "        \"s1\": \"square\",\n",
    "        \"s2\": \"square\"\n",
    "    }\n",
    ")"
   ]
  },
  {
   "cell_type": "markdown",
   "metadata": {},
   "source": [
    "#### 3.1. Strong typing of a rule\n",
    "\n",
    "Main idea of strong typing is that the typing of LHS and RHS can be inferred from the matching and autocompleted respectively. It does not allow deletion of types as every node preserved throughout the rewriting will keep its original type."
   ]
  },
  {
   "cell_type": "code",
   "execution_count": 47,
   "metadata": {},
   "outputs": [
    {
     "name": "stdout",
     "output_type": "stream",
     "text": [
      "{2: 'circle'}\n",
      "{2: 'circle'}\n",
      "{1: 'n1', 2: 'c2'}\n",
      "{1: 1, 2: 2}\n",
      "{1: 'n1', 2: 'c2'}\n",
      "{1: 'n1', 2: 'c2'}\n",
      "{'n1': 'n1', 'c2': 'c2', 's2': 's2', 'c1': 'c1', 's1': 's1'}\n",
      "\n",
      "Failed to rewrite an instance:  {1: 'n1', 2: 'c2'}\n",
      "Addition of an edge was not allowed, error message received:\n",
      "Exception type:  <class 'AttributeError'>\n",
      "Message:  'set' object has no attribute 'num_set'\n",
      "\n",
      "{1: 'circle'}\n",
      "{1: 'circle'}\n",
      "{1: 'c2', 2: 'n1'}\n",
      "{1: 1, 2: 2}\n",
      "{1: 'c2', 2: 'n1'}\n",
      "{1: 'c2', 2: 'n1'}\n",
      "{'n1': 'n1', 'c2': 'c2', 's2': 's2', 'c1': 'c1', 's1': 's1'}\n",
      "\n",
      "Failed to rewrite an instance:  {1: 'c2', 2: 'n1'}\n",
      "Addition of an edge was not allowed, error message received:\n",
      "Exception type:  <class 'AttributeError'>\n",
      "Message:  'set' object has no attribute 'num_set'\n",
      "\n",
      "{2: 'square'}\n",
      "{2: 'square'}\n",
      "{1: 'n1', 2: 's2'}\n",
      "{1: 1, 2: 2}\n",
      "{1: 'n1', 2: 's2'}\n",
      "{1: 'n1', 2: 's2'}\n",
      "{'n1': 'n1', 'c2': 'c2', 's2': 's2', 'c1': 'c1', 's1': 's1'}\n",
      "\n",
      "Failed to rewrite an instance:  {1: 'n1', 2: 's2'}\n",
      "Addition of an edge was not allowed, error message received:\n",
      "Exception type:  <class 'AttributeError'>\n",
      "Message:  'set' object has no attribute 'num_set'\n",
      "\n",
      "{1: 'square'}\n",
      "{1: 'square'}\n",
      "{1: 's2', 2: 'n1'}\n",
      "{1: 1, 2: 2}\n",
      "{1: 's2', 2: 'n1'}\n",
      "{1: 's2', 2: 'n1'}\n",
      "{'n1': 'n1', 'c2': 'c2', 's2': 's2', 'c1': 'c1', 's1': 's1'}\n",
      "\n",
      "Failed to rewrite an instance:  {1: 's2', 2: 'n1'}\n",
      "Addition of an edge was not allowed, error message received:\n",
      "Exception type:  <class 'AttributeError'>\n",
      "Message:  'set' object has no attribute 'num_set'\n",
      "\n",
      "{2: 'circle'}\n",
      "{2: 'circle'}\n",
      "{1: 'n1', 2: 'c1'}\n",
      "{1: 1, 2: 2}\n",
      "{1: 'n1', 2: 'c1'}\n",
      "{1: 'n1', 2: 'c1'}\n",
      "{'n1': 'n1', 'c2': 'c2', 's2': 's2', 'c1': 'c1', 's1': 's1'}\n",
      "\n",
      "Failed to rewrite an instance:  {1: 'n1', 2: 'c1'}\n",
      "Addition of an edge was not allowed, error message received:\n",
      "Exception type:  <class 'AttributeError'>\n",
      "Message:  'set' object has no attribute 'num_set'\n",
      "\n",
      "{1: 'circle'}\n",
      "{1: 'circle'}\n",
      "{1: 'c1', 2: 'n1'}\n",
      "{1: 1, 2: 2}\n",
      "{1: 'c1', 2: 'n1'}\n",
      "{1: 'c1', 2: 'n1'}\n",
      "{'n1': 'n1', 'c2': 'c2', 's2': 's2', 'c1': 'c1', 's1': 's1'}\n",
      "\n",
      "Failed to rewrite an instance:  {1: 'c1', 2: 'n1'}\n",
      "Addition of an edge was not allowed, error message received:\n",
      "Exception type:  <class 'AttributeError'>\n",
      "Message:  'set' object has no attribute 'num_set'\n",
      "\n",
      "{2: 'square'}\n",
      "{2: 'square'}\n",
      "{1: 'n1', 2: 's1'}\n",
      "{1: 1, 2: 2}\n",
      "{1: 'n1', 2: 's1'}\n",
      "{1: 'n1', 2: 's1'}\n",
      "{'n1': 'n1', 's1': 's1', 's2': 's2', 'c1': 'c1', 'c2': 'c2'}\n",
      "\n",
      "Failed to rewrite an instance:  {1: 'n1', 2: 's1'}\n",
      "Addition of an edge was not allowed, error message received:\n",
      "Exception type:  <class 'AttributeError'>\n",
      "Message:  'set' object has no attribute 'num_set'\n",
      "\n",
      "{1: 'square'}\n",
      "{1: 'square'}\n",
      "{1: 's1', 2: 'n1'}\n",
      "{1: 1, 2: 2}\n",
      "{1: 's1', 2: 'n1'}\n",
      "{1: 's1', 2: 'n1'}\n",
      "{'n1': 'n1', 's1': 's1', 's2': 's2', 'c1': 'c1', 'c2': 'c2'}\n",
      "\n",
      "Failed to rewrite an instance:  {1: 's1', 2: 'n1'}\n",
      "Addition of an edge was not allowed, error message received:\n",
      "Exception type:  <class 'AttributeError'>\n",
      "Message:  'set' object has no attribute 'num_set'\n",
      "\n",
      "{1: 'circle', 2: 'square'}\n",
      "{1: 'circle', 2: 'square'}\n",
      "{1: 'c2', 2: 's2'}\n",
      "{1: 1, 2: 2}\n",
      "{1: 'c2', 2: 's2'}\n",
      "{1: 'c2', 2: 's2'}\n",
      "{'n1': 'n1', 'c2': 'c2', 's2': 's2', 'c1': 'c1', 's1': 's1'}\n",
      "\n",
      "Failed to rewrite an instance:  {1: 'c2', 2: 's2'}\n",
      "Addition of an edge was not allowed, error message received:\n",
      "Exception type:  <class 'AttributeError'>\n",
      "Message:  'set' object has no attribute 'num_set'\n",
      "\n",
      "{1: 'square', 2: 'circle'}\n",
      "{1: 'square', 2: 'circle'}\n",
      "\n",
      "Failed to rewrite an instance:  {1: 's2', 2: 'c2'}\n",
      "Addition of an edge was not allowed, error message received:\n",
      "Exception type:  <class 'regraph.exceptions.RewritingError'>\n",
      "Message:  Invalid rhs of the rule, namely, invalid homomorphism with a typing graph 'base', error message: Connectivity is not preserved! Was expecting an edge between 'square' and 'circle'\n",
      "\n",
      "{1: 'circle', 2: 'circle'}\n",
      "{1: 'circle', 2: 'circle'}\n",
      "{1: 'c2', 2: 'c1'}\n",
      "{1: 1, 2: 2}\n",
      "{1: 'c2', 2: 'c1'}\n",
      "{1: 'c2', 2: 'c1'}\n",
      "{'n1': 'n1', 'c2': 'c2', 's2': 's2', 'c1': 'c1', 's1': 's1'}\n",
      "\n",
      "Failed to rewrite an instance:  {1: 'c2', 2: 'c1'}\n",
      "Addition of an edge was not allowed, error message received:\n",
      "Exception type:  <class 'AttributeError'>\n",
      "Message:  'set' object has no attribute 'num_set'\n",
      "\n",
      "{1: 'circle', 2: 'circle'}\n",
      "{1: 'circle', 2: 'circle'}\n",
      "{1: 'c1', 2: 'c2'}\n",
      "{1: 1, 2: 2}\n",
      "{1: 'c1', 2: 'c2'}\n",
      "{1: 'c1', 2: 'c2'}\n",
      "{'n1': 'n1', 'c2': 'c2', 's2': 's2', 'c1': 'c1', 's1': 's1'}\n",
      "\n",
      "Failed to rewrite an instance:  {1: 'c1', 2: 'c2'}\n",
      "Addition of an edge was not allowed, error message received:\n",
      "Exception type:  <class 'AttributeError'>\n",
      "Message:  'set' object has no attribute 'num_set'\n",
      "\n",
      "{1: 'circle', 2: 'square'}\n",
      "{1: 'circle', 2: 'square'}\n",
      "{1: 'c2', 2: 's1'}\n",
      "{1: 1, 2: 2}\n",
      "{1: 'c2', 2: 's1'}\n",
      "{1: 'c2', 2: 's1'}\n",
      "{'n1': 'n1', 'c2': 'c2', 's2': 's2', 'c1': 'c1', 's1': 's1'}\n",
      "\n",
      "Failed to rewrite an instance:  {1: 'c2', 2: 's1'}\n",
      "Addition of an edge was not allowed, error message received:\n",
      "Exception type:  <class 'AttributeError'>\n",
      "Message:  'set' object has no attribute 'num_set'\n",
      "\n",
      "{1: 'square', 2: 'circle'}\n",
      "{1: 'square', 2: 'circle'}\n",
      "\n",
      "Failed to rewrite an instance:  {1: 's1', 2: 'c2'}\n",
      "Addition of an edge was not allowed, error message received:\n",
      "Exception type:  <class 'regraph.exceptions.RewritingError'>\n",
      "Message:  Invalid rhs of the rule, namely, invalid homomorphism with a typing graph 'base', error message: Connectivity is not preserved! Was expecting an edge between 'square' and 'circle'\n",
      "\n",
      "{1: 'square', 2: 'circle'}\n",
      "{1: 'square', 2: 'circle'}\n",
      "\n",
      "Failed to rewrite an instance:  {1: 's2', 2: 'c1'}\n",
      "Addition of an edge was not allowed, error message received:\n",
      "Exception type:  <class 'regraph.exceptions.RewritingError'>\n",
      "Message:  Invalid rhs of the rule, namely, invalid homomorphism with a typing graph 'base', error message: Connectivity is not preserved! Was expecting an edge between 'square' and 'circle'\n",
      "\n",
      "{1: 'circle', 2: 'square'}\n",
      "{1: 'circle', 2: 'square'}\n",
      "{1: 'c1', 2: 's2'}\n",
      "{1: 1, 2: 2}\n",
      "{1: 'c1', 2: 's2'}\n",
      "{1: 'c1', 2: 's2'}\n",
      "{'n1': 'n1', 'c2': 'c2', 's2': 's2', 'c1': 'c1', 's1': 's1'}\n",
      "\n",
      "Failed to rewrite an instance:  {1: 'c1', 2: 's2'}\n",
      "Addition of an edge was not allowed, error message received:\n",
      "Exception type:  <class 'AttributeError'>\n",
      "Message:  'set' object has no attribute 'num_set'\n",
      "\n",
      "{1: 'square', 2: 'square'}\n",
      "{1: 'square', 2: 'square'}\n",
      "\n",
      "Failed to rewrite an instance:  {1: 's2', 2: 's1'}\n",
      "Addition of an edge was not allowed, error message received:\n",
      "Exception type:  <class 'regraph.exceptions.RewritingError'>\n",
      "Message:  Invalid rhs of the rule, namely, invalid homomorphism with a typing graph 'base', error message: Connectivity is not preserved! Was expecting an edge between 'square' and 'square'\n",
      "\n",
      "{1: 'square', 2: 'square'}\n",
      "{1: 'square', 2: 'square'}\n",
      "\n",
      "Failed to rewrite an instance:  {1: 's1', 2: 's2'}\n",
      "Addition of an edge was not allowed, error message received:\n",
      "Exception type:  <class 'regraph.exceptions.RewritingError'>\n",
      "Message:  Invalid rhs of the rule, namely, invalid homomorphism with a typing graph 'base', error message: Connectivity is not preserved! Was expecting an edge between 'square' and 'square'\n",
      "\n",
      "{1: 'circle', 2: 'square'}\n",
      "{1: 'circle', 2: 'square'}\n",
      "{1: 'c1', 2: 's1'}\n",
      "{1: 1, 2: 2}\n",
      "{1: 'c1', 2: 's1'}\n",
      "{1: 'c1', 2: 's1'}\n",
      "{'n1': 'n1', 's1': 's1', 's2': 's2', 'c1': 'c1', 'c2': 'c2'}\n",
      "\n",
      "Failed to rewrite an instance:  {1: 'c1', 2: 's1'}\n",
      "Addition of an edge was not allowed, error message received:\n",
      "Exception type:  <class 'AttributeError'>\n",
      "Message:  'set' object has no attribute 'num_set'\n",
      "\n",
      "{1: 'square', 2: 'circle'}\n",
      "{1: 'square', 2: 'circle'}\n",
      "\n",
      "Failed to rewrite an instance:  {1: 's1', 2: 'c1'}\n",
      "Addition of an edge was not allowed, error message received:\n",
      "Exception type:  <class 'regraph.exceptions.RewritingError'>\n",
      "Message:  Invalid rhs of the rule, namely, invalid homomorphism with a typing graph 'base', error message: Connectivity is not preserved! Was expecting an edge between 'square' and 'circle'\n",
      "\n",
      "\n",
      "Nodes:\n",
      "\n",
      "n1  :  {'x': {1}}\n",
      "c2  :  {'a': {2}}\n",
      "s2  :  {}\n",
      "c1  :  {'a': {1}}\n",
      "s1  :  {}\n",
      "\n",
      "Edges:\n",
      "\n",
      "c2 -> s1  :  {}\n",
      "s2 -> n1  :  {'y': {1}}\n",
      "c1 -> c2  :  {'c': {1}}\n",
      "\n",
      "\n",
      "Types of nodes after rewriting:\n",
      "n1 {}\n",
      "c2 {'base': 'circle'}\n",
      "s2 {'base': 'square'}\n",
      "c1 {'base': 'circle'}\n",
      "s1 {'base': 'square'}\n"
     ]
    }
   ],
   "source": [
    "# In this rule we match any pair of nodes and try to add an edge between them\n",
    "# the rewriting will fail every time the edge is not allowed between two nodes\n",
    "# by its typing graphs\n",
    "\n",
    "# define a rule\n",
    "lhs = nx.DiGraph()\n",
    "lhs.add_nodes_from([1, 2])\n",
    "\n",
    "p = copy.deepcopy(lhs)\n",
    "rhs = copy.deepcopy(lhs)\n",
    "rhs.add_edges_from([(1, 2)])\n",
    "\n",
    "rule = Rule(p, lhs, rhs)\n",
    "\n",
    "instances = little_hierarchy.find_matching(\n",
    "    \"graph\",\n",
    "    rule.lhs\n",
    ")\n",
    "\n",
    "current_hierarchy = copy.deepcopy(little_hierarchy)\n",
    "for instance in instances:\n",
    "    try:\n",
    "        current_hierarchy.rewrite(\n",
    "            \"graph\",\n",
    "            rule,\n",
    "            instance\n",
    "        )\n",
    "        print(\"Instance rewritten: \", instance)\n",
    "        print()\n",
    "    except Exception as e:\n",
    "        print(\"\\nFailed to rewrite an instance: \", instance)\n",
    "        print(\"Addition of an edge was not allowed, error message received:\")\n",
    "        print(\"Exception type: \", type(e))\n",
    "        print(\"Message: \", e)\n",
    "        print()\n",
    "\n",
    "print_graph(current_hierarchy.node[\"graph\"].graph)\n",
    "\n",
    "print(\"\\n\\nTypes of nodes after rewriting:\")\n",
    "for node in current_hierarchy.node[\"graph\"].graph.nodes():\n",
    "    print(node, current_hierarchy.node_type(\"graph\", node))"
   ]
  },
  {
   "cell_type": "code",
   "execution_count": 48,
   "metadata": {},
   "outputs": [
    {
     "name": "stdout",
     "output_type": "stream",
     "text": [
      "{1: 1, 2: 1}\n",
      "{2: 'circle'}\n",
      "{1: 'circle'}\n",
      "{1: 'n1', 2: 'c2'}\n",
      "\n",
      "Failed to rewrite an instance:  {1: 'n1', 2: 'c2'}\n",
      "Merge was not allowed, error message received:\n",
      "Exception type:  <class 'regraph.exceptions.RewritingError'>\n",
      "Message:  Merge produces forbidden edge between nodes of types `square` and `circle`!\n",
      "\n",
      "{1: 'circle'}\n",
      "{1: 'circle'}\n",
      "{1: 'c2', 2: 'n1'}\n",
      "\n",
      "Failed to rewrite an instance:  {1: 'c2', 2: 'n1'}\n",
      "Merge was not allowed, error message received:\n",
      "Exception type:  <class 'regraph.exceptions.RewritingError'>\n",
      "Message:  Merge produces forbidden edge between nodes of types `square` and `circle`!\n",
      "\n",
      "{2: 'square'}\n",
      "{1: 'square'}\n",
      "{1: 'n1', 2: 's2'}\n",
      "\n",
      "Failed to rewrite an instance:  {1: 'n1', 2: 's2'}\n",
      "Merge was not allowed, error message received:\n",
      "Exception type:  <class 'regraph.exceptions.RewritingError'>\n",
      "Message:  Merge produces forbidden edge between nodes of types `square` and `square`!\n",
      "\n",
      "{1: 'square'}\n",
      "{1: 'square'}\n",
      "{1: 's2', 2: 'n1'}\n",
      "\n",
      "Failed to rewrite an instance:  {1: 's2', 2: 'n1'}\n",
      "Merge was not allowed, error message received:\n",
      "Exception type:  <class 'regraph.exceptions.RewritingError'>\n",
      "Message:  Merge produces forbidden edge between nodes of types `square` and `square`!\n",
      "\n",
      "{2: 'circle'}\n",
      "{1: 'circle'}\n",
      "{1: 'n1', 2: 'c1'}\n",
      "\n",
      "Failed to rewrite an instance:  {1: 'n1', 2: 'c1'}\n",
      "Merge was not allowed, error message received:\n",
      "Exception type:  <class 'regraph.exceptions.RewritingError'>\n",
      "Message:  Merge produces forbidden edge between nodes of types `square` and `circle`!\n",
      "\n",
      "{1: 'circle'}\n",
      "{1: 'circle'}\n",
      "{1: 'c1', 2: 'n1'}\n",
      "\n",
      "Failed to rewrite an instance:  {1: 'c1', 2: 'n1'}\n",
      "Merge was not allowed, error message received:\n",
      "Exception type:  <class 'regraph.exceptions.RewritingError'>\n",
      "Message:  Merge produces forbidden edge between nodes of types `square` and `circle`!\n",
      "\n",
      "{2: 'square'}\n",
      "{1: 'square'}\n",
      "{1: 'n1', 2: 's1'}\n",
      "\n",
      "Failed to rewrite an instance:  {1: 'n1', 2: 's1'}\n",
      "Merge was not allowed, error message received:\n",
      "Exception type:  <class 'regraph.exceptions.RewritingError'>\n",
      "Message:  Merge produces forbidden edge between nodes of types `square` and `square`!\n",
      "\n",
      "{1: 'square'}\n",
      "{1: 'square'}\n",
      "{1: 's1', 2: 'n1'}\n",
      "\n",
      "Failed to rewrite an instance:  {1: 's1', 2: 'n1'}\n",
      "Merge was not allowed, error message received:\n",
      "Exception type:  <class 'regraph.exceptions.RewritingError'>\n",
      "Message:  Merge produces forbidden edge between nodes of types `square` and `square`!\n",
      "\n",
      "\n",
      "Failed to rewrite an instance:  {1: 'c2', 2: 's2'}\n",
      "Merge was not allowed, error message received:\n",
      "Exception type:  <class 'regraph.exceptions.RewritingError'>\n",
      "Message:  Typing of the rule is not valid: lhs node that maps to a node of type `square` in the matching, is being mapped to `circle` in rhs!\n",
      "\n",
      "\n",
      "Failed to rewrite an instance:  {1: 's2', 2: 'c2'}\n",
      "Merge was not allowed, error message received:\n",
      "Exception type:  <class 'regraph.exceptions.RewritingError'>\n",
      "Message:  Typing of the rule is not valid: lhs node that maps to a node of type `circle` in the matching, is being mapped to `square` in rhs!\n",
      "\n",
      "{1: 'circle', 2: 'circle'}\n",
      "{1: 'circle'}\n",
      "{1: 'c2', 2: 'c1'}\n",
      "{1: 1, 2: 2}\n",
      "{1: 'c2', 2: 'c1'}\n",
      "{1: 'c2', 2: 'c1'}\n",
      "{'n1': 'n1', 'c2': 'c2', 's2': 's2', 'c1': 'c1', 's1': 's1'}\n",
      "\n",
      "Failed to rewrite an instance:  {1: 'c2', 2: 'c1'}\n",
      "Merge was not allowed, error message received:\n",
      "Exception type:  <class 'AttributeError'>\n",
      "Message:  'set' object has no attribute 'num_set'\n",
      "\n",
      "{1: 'circle', 2: 'circle'}\n",
      "{1: 'circle'}\n",
      "{1: 'c1', 2: 'c2'}\n",
      "{1: 1, 2: 2}\n",
      "{1: 'c1', 2: 'c2'}\n",
      "{1: 'c1', 2: 'c2'}\n",
      "{'n1': 'n1', 'c2': 'c2', 's2': 's2', 'c1': 'c1', 's1': 's1'}\n",
      "\n",
      "Failed to rewrite an instance:  {1: 'c1', 2: 'c2'}\n",
      "Merge was not allowed, error message received:\n",
      "Exception type:  <class 'AttributeError'>\n",
      "Message:  'set' object has no attribute 'num_set'\n",
      "\n",
      "\n",
      "Failed to rewrite an instance:  {1: 'c2', 2: 's1'}\n",
      "Merge was not allowed, error message received:\n",
      "Exception type:  <class 'regraph.exceptions.RewritingError'>\n",
      "Message:  Typing of the rule is not valid: lhs node that maps to a node of type `square` in the matching, is being mapped to `circle` in rhs!\n",
      "\n",
      "\n",
      "Failed to rewrite an instance:  {1: 's1', 2: 'c2'}\n",
      "Merge was not allowed, error message received:\n",
      "Exception type:  <class 'regraph.exceptions.RewritingError'>\n",
      "Message:  Typing of the rule is not valid: lhs node that maps to a node of type `circle` in the matching, is being mapped to `square` in rhs!\n",
      "\n",
      "\n",
      "Failed to rewrite an instance:  {1: 's2', 2: 'c1'}\n",
      "Merge was not allowed, error message received:\n",
      "Exception type:  <class 'regraph.exceptions.RewritingError'>\n",
      "Message:  Typing of the rule is not valid: lhs node that maps to a node of type `circle` in the matching, is being mapped to `square` in rhs!\n",
      "\n",
      "\n",
      "Failed to rewrite an instance:  {1: 'c1', 2: 's2'}\n",
      "Merge was not allowed, error message received:\n",
      "Exception type:  <class 'regraph.exceptions.RewritingError'>\n",
      "Message:  Typing of the rule is not valid: lhs node that maps to a node of type `square` in the matching, is being mapped to `circle` in rhs!\n",
      "\n",
      "{1: 'square', 2: 'square'}\n",
      "{1: 'square'}\n",
      "{1: 's2', 2: 's1'}\n",
      "{1: 1, 2: 2}\n",
      "{1: 's2', 2: 's1'}\n",
      "{1: 's2', 2: 's1'}\n",
      "{'n1': 'n1', 's1': 's1', 's2': 's2', 'c1': 'c1', 'c2': 'c2'}\n",
      "\n",
      "Failed to rewrite an instance:  {1: 's2', 2: 's1'}\n",
      "Merge was not allowed, error message received:\n",
      "Exception type:  <class 'AttributeError'>\n",
      "Message:  'set' object has no attribute 'num_set'\n",
      "\n",
      "{1: 'square', 2: 'square'}\n",
      "{1: 'square'}\n",
      "{1: 's1', 2: 's2'}\n",
      "{1: 1, 2: 2}\n",
      "{1: 's1', 2: 's2'}\n",
      "{1: 's1', 2: 's2'}\n",
      "{'n1': 'n1', 's1': 's1', 's2': 's2', 'c1': 'c1', 'c2': 'c2'}\n",
      "\n",
      "Failed to rewrite an instance:  {1: 's1', 2: 's2'}\n",
      "Merge was not allowed, error message received:\n",
      "Exception type:  <class 'AttributeError'>\n",
      "Message:  'set' object has no attribute 'num_set'\n",
      "\n",
      "\n",
      "Failed to rewrite an instance:  {1: 'c1', 2: 's1'}\n",
      "Merge was not allowed, error message received:\n",
      "Exception type:  <class 'regraph.exceptions.RewritingError'>\n",
      "Message:  Typing of the rule is not valid: lhs node that maps to a node of type `square` in the matching, is being mapped to `circle` in rhs!\n",
      "\n",
      "\n",
      "Failed to rewrite an instance:  {1: 's1', 2: 'c1'}\n",
      "Merge was not allowed, error message received:\n",
      "Exception type:  <class 'regraph.exceptions.RewritingError'>\n",
      "Message:  Typing of the rule is not valid: lhs node that maps to a node of type `circle` in the matching, is being mapped to `square` in rhs!\n",
      "\n"
     ]
    }
   ],
   "source": [
    "lhs = nx.DiGraph()\n",
    "lhs.add_nodes_from([1, 2])\n",
    "\n",
    "p = copy.deepcopy(lhs)\n",
    "rhs = nx.DiGraph()\n",
    "rhs.add_nodes_from([1])\n",
    "\n",
    "rule = Rule(p, lhs, rhs, p_rhs={1: 1, 2: 1})\n",
    "\n",
    "instances = little_hierarchy.find_matching(\n",
    "    \"graph\",\n",
    "    rule.lhs\n",
    ")\n",
    "\n",
    "for instance in instances:\n",
    "    try:\n",
    "        current_hierarchy = little_hierarchy.rewrite(\n",
    "            \"graph\",\n",
    "            rule,\n",
    "            instance,\n",
    "            inplace=False\n",
    "        )\n",
    "        print(\"Instance rewritten: \", instance)\n",
    "        print_graph(current_hierarchy.node[\"graph\"].graph)\n",
    "        print(\"\\n\\nTypes of nodes after rewriting:\")\n",
    "        for node in current_hierarchy.node[\"graph\"].graph.nodes():\n",
    "            print(node, current_hierarchy.node_type(\"graph\", node))\n",
    "        print()\n",
    "    except Exception as e:\n",
    "        print(\"\\nFailed to rewrite an instance: \", instance)\n",
    "        print(\"Merge was not allowed, error message received:\")\n",
    "        print(\"Exception type: \", type(e))\n",
    "        print(\"Message: \", e)\n",
    "        print()"
   ]
  },
  {
   "cell_type": "markdown",
   "metadata": {},
   "source": [
    "~~#### 3.3. Weak typing of a rule~~\n",
    "\n",
    "~~If rewriting parameter `strong_typing` is set to `False`, the weak typing of a rule is applied. All the types of the nodes in the RHS of the rule which do not have explicitly specified types will be removed.~~"
   ]
  },
  {
   "cell_type": "markdown",
   "metadata": {},
   "source": [
    "### 4. Merging with a hierarchy"
   ]
  },
  {
   "cell_type": "markdown",
   "metadata": {},
   "source": [
    "#### 4.1. Example: merging disjoint hierarchies (merge by ids)"
   ]
  },
  {
   "cell_type": "code",
   "execution_count": 49,
   "metadata": {},
   "outputs": [
    {
     "name": "stdout",
     "output_type": "stream",
     "text": [
      "{1: 1}\n",
      "{1: 1}\n",
      "{1: 1}\n",
      "{1: 1}\n"
     ]
    }
   ],
   "source": [
    "g1 = nx.DiGraph()\n",
    "g1.add_node(1)\n",
    "\n",
    "g2 = copy.deepcopy(g1)\n",
    "g3 = copy.deepcopy(g1)\n",
    "g4 = copy.deepcopy(g1)\n",
    "\n",
    "hierarchy = Hierarchy()\n",
    "hierarchy.add_graph(1, g1, graph_attrs={\"name\": {\"Main hierarchy\"}})\n",
    "hierarchy.add_graph(2, g2, graph_attrs={\"name\": {\"Base hierarchy\"}})\n",
    "hierarchy.add_graph(3, g3)\n",
    "hierarchy.add_graph(4, g4)\n",
    "hierarchy.add_typing(1, 2, {1: 1})\n",
    "hierarchy.add_typing(1, 4, {1: 1})\n",
    "hierarchy.add_typing(2, 3, {1: 1})\n",
    "hierarchy.add_typing(4, 3, {1: 1})\n",
    "\n",
    "hierarchy1 = copy.deepcopy(hierarchy)\n",
    "hierarchy2 = copy.deepcopy(hierarchy)\n",
    "hierarchy3 = copy.deepcopy(hierarchy)"
   ]
  },
  {
   "cell_type": "code",
   "execution_count": 50,
   "metadata": {},
   "outputs": [
    {
     "name": "stdout",
     "output_type": "stream",
     "text": [
      "{2: 2}\n",
      "{2: 2}\n",
      "{2: 2}\n",
      "{2: 2}\n"
     ]
    }
   ],
   "source": [
    "h1 = nx.DiGraph()\n",
    "h1.add_node(2)\n",
    "\n",
    "h2 = copy.deepcopy(h1)\n",
    "h3 = copy.deepcopy(h1)\n",
    "h4 = copy.deepcopy(h1)\n",
    "\n",
    "other_hierarchy = Hierarchy()\n",
    "other_hierarchy.add_graph(1, h1, graph_attrs={\"name\": {\"Main hierarchy\"}})\n",
    "other_hierarchy.add_graph(2, h2, graph_attrs={\"name\": {\"Base hierarchy\"}})\n",
    "other_hierarchy.add_graph(3, h3)\n",
    "other_hierarchy.add_graph(4, h4)\n",
    "other_hierarchy.add_typing(1, 2, {2: 2})\n",
    "other_hierarchy.add_typing(1, 4, {2: 2})\n",
    "other_hierarchy.add_typing(2, 3, {2: 2})\n",
    "other_hierarchy.add_typing(4, 3, {2: 2})"
   ]
  },
  {
   "cell_type": "code",
   "execution_count": 51,
   "metadata": {
    "scrolled": false
   },
   "outputs": [
    {
     "name": "stdout",
     "output_type": "stream",
     "text": [
      "\n",
      "Graphs (directed == True): \n",
      "\n",
      "Nodes:\n",
      "Graph: 1 {'name': {'Main hierarchy'}}\n",
      "Graph: 2 {'name': {'Base hierarchy'}}\n",
      "Graph: 3 {}\n",
      "Graph: 4 {}\n",
      "Graph: 4_1 {}\n",
      "Graph: 2_1 {'name': {'Base hierarchy'}}\n",
      "Graph: 1_1 {'name': {'Main hierarchy'}}\n",
      "Graph: 3_1 {}\n",
      "\n",
      "Typing homomorphisms: \n",
      "1 -> 2: total == False1 -> 4: total == False2 -> 3: total == False4 -> 3: total == False4_1 -> 3_1: total == False2_1 -> 3_1: total == False1_1 -> 2_1: total == False1_1 -> 4_1: total == False\n",
      "Relations:\n",
      "\n",
      "attributes : \n",
      "{}\n",
      "\n"
     ]
    }
   ],
   "source": [
    "hierarchy1.merge_by_id(other_hierarchy)\n",
    "print(hierarchy1)"
   ]
  },
  {
   "cell_type": "markdown",
   "metadata": {},
   "source": [
    "#### 4.2. Example: merging hierarchies with common nodes"
   ]
  },
  {
   "cell_type": "code",
   "execution_count": 52,
   "metadata": {
    "scrolled": false
   },
   "outputs": [
    {
     "name": "stdout",
     "output_type": "stream",
     "text": [
      "\n",
      "Graphs (directed == True): \n",
      "\n",
      "Nodes:\n",
      "Graph: 1 {'name': {'Main hierarchy'}}\n",
      "Graph: 2 {'name': {'Base hierarchy'}}\n",
      "Graph: 3 {}\n",
      "Graph: 4 {}\n",
      "Graph: 4_1 {}\n",
      "Graph: 2_1 {'name': {'Base hierarchy'}}\n",
      "Graph: 3_1 {}\n",
      "\n",
      "Typing homomorphisms: \n",
      "1 -> 2: total == False1 -> 4: total == False1 -> 2_1: total == False1 -> 4_1: total == False2 -> 3: total == False4 -> 3: total == False4_1 -> 3_1: total == False2_1 -> 3_1: total == False\n",
      "Relations:\n",
      "\n",
      "attributes : \n",
      "{}\n",
      "\n"
     ]
    }
   ],
   "source": [
    "# Now we make node 1 in the hierarchies to be the same graph\n",
    "hierarchy2.node[1].graph.add_node(2)\n",
    "other_hierarchy.node[1].graph.add_node(1)\n",
    "\n",
    "hierarchy2.merge_by_id(other_hierarchy)\n",
    "print(hierarchy2)"
   ]
  },
  {
   "cell_type": "code",
   "execution_count": 53,
   "metadata": {
    "collapsed": true
   },
   "outputs": [],
   "source": [
    "# Now make a hierarchies to have two common nodes with an edge between them\n",
    "hierarchy3.node[1].graph.add_node(2)\n",
    "other_hierarchy.node[1].graph.add_node(1)\n",
    "hierarchy3.node[2].graph.add_node(2)\n",
    "other_hierarchy.node[2].graph.add_node(1)\n",
    "\n",
    "hierarchy4 = copy.deepcopy(hierarchy3)"
   ]
  },
  {
   "cell_type": "code",
   "execution_count": 54,
   "metadata": {},
   "outputs": [
    {
     "name": "stdout",
     "output_type": "stream",
     "text": [
      "\n",
      "Graphs (directed == True): \n",
      "\n",
      "Nodes:\n",
      "Graph: 1 {'name': {'Main hierarchy'}}\n",
      "Graph: 2 {'name': {'Base hierarchy'}}\n",
      "Graph: 3 {}\n",
      "Graph: 4 {}\n",
      "Graph: 4_1 {}\n",
      "Graph: 3_1 {}\n",
      "\n",
      "Typing homomorphisms: \n",
      "1 -> 2: total == False1 -> 4: total == False1 -> 4_1: total == False2 -> 3: total == False2 -> 3_1: total == False4 -> 3: total == False4_1 -> 3_1: total == False\n",
      "Relations:\n",
      "\n",
      "attributes : \n",
      "{}\n",
      "\n",
      "{1: 1, 2: 2}\n"
     ]
    }
   ],
   "source": [
    "hierarchy3.merge_by_id(other_hierarchy)\n",
    "print(hierarchy3)\n",
    "print(hierarchy3.edge[1][2].mapping)"
   ]
  },
  {
   "cell_type": "code",
   "execution_count": 55,
   "metadata": {},
   "outputs": [
    {
     "data": {
      "text/plain": [
       "{1: '1_1', 2: '2_2'}"
      ]
     },
     "execution_count": 55,
     "metadata": {},
     "output_type": "execute_result"
    }
   ],
   "source": [
    "hierarchy4.merge_by_attr(other_hierarchy, \"name\")"
   ]
  },
  {
   "cell_type": "code",
   "execution_count": 56,
   "metadata": {},
   "outputs": [
    {
     "name": "stdout",
     "output_type": "stream",
     "text": [
      "\n",
      "Graphs (directed == True): \n",
      "\n",
      "Nodes:\n",
      "Graph: 3 {}\n",
      "Graph: 4 {}\n",
      "Graph: 3_1 {}\n",
      "Graph: 4_1 {}\n",
      "Graph: 1_1 {'name': {'Main hierarchy'}}\n",
      "Graph: 2_2 {'name': {'Base hierarchy'}}\n",
      "\n",
      "Typing homomorphisms: \n",
      "4 -> 3: total == False4_1 -> 3_1: total == False1_1 -> 4_1: total == False1_1 -> 4: total == False1_1 -> 2_2: total == False2_2 -> 3: total == False2_2 -> 3_1: total == False\n",
      "Relations:\n",
      "\n",
      "attributes : \n",
      "{}\n",
      "\n",
      "{1: 1, 2: 2}\n"
     ]
    }
   ],
   "source": [
    "print(hierarchy4)\n",
    "print(hierarchy4.edge['1_1']['2_2'].mapping)"
   ]
  }
 ],
 "metadata": {
  "anaconda-cloud": {},
  "kernelspec": {
   "display_name": "Python 3",
   "language": "python",
   "name": "python3"
  },
  "language_info": {
   "codemirror_mode": {
    "name": "ipython",
    "version": 3
   },
   "file_extension": ".py",
   "mimetype": "text/x-python",
   "name": "python",
   "nbconvert_exporter": "python",
   "pygments_lexer": "ipython3",
   "version": "3.6.3"
  }
 },
 "nbformat": 4,
 "nbformat_minor": 1
}
