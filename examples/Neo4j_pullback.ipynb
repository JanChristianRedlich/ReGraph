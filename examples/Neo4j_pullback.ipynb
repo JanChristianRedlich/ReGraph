{
 "cells": [
  {
   "cell_type": "code",
   "execution_count": 1,
   "metadata": {},
   "outputs": [],
   "source": [
    "import networkx as nx\n",
    "\n",
    "from regraph import Rule, plot_rule\n",
    "from regraph.neo4j.hierarchy import Neo4jHierarchy\n",
    "import regraph.neo4j.cypher_utils as cypher"
   ]
  },
  {
   "cell_type": "markdown",
   "metadata": {},
   "source": [
    "## Initializing Neo4j database\n",
    "\n",
    "0. When installing neo4j you will be asked to choose login/password for you dbs (here its \"neo4j\"/\"admin\"), if you choose other -- change in the cell below.\n",
    "1. To start neo4j server run `sudo service neo4j start`\n",
    "2. Check status by running `sudo service neo4j status`. Here you can check the _bolt_ port, change the cell below if different from 7687\n",
    "3. You can query the db by using the neo4j browser, the address can be found also in the result of 'status', e.g. \"Remote interface available at http://localhost:7474/\"."
   ]
  },
  {
   "cell_type": "code",
   "execution_count": 8,
   "metadata": {},
   "outputs": [],
   "source": [
    "# initialize the neo4j driver, wrappped into Neo4jGraph object\n",
    "h = Neo4jHierarchy(uri=\"bolt://localhost:7687\", user=\"neo4j\", password=\"admin\")"
   ]
  },
  {
   "cell_type": "code",
   "execution_count": 14,
   "metadata": {},
   "outputs": [],
   "source": [
    "# here we clear the hierarchy\n",
    "h.clear()\n",
    "h.drop_all_constraints()"
   ]
  },
  {
   "cell_type": "markdown",
   "metadata": {},
   "source": [
    "## Adding a graph to the hierarchy"
   ]
  },
  {
   "cell_type": "code",
   "execution_count": 15,
   "metadata": {},
   "outputs": [
    {
     "data": {
      "text/plain": [
       "<neo4j.v1.result.BoltStatementResult at 0x7f41151d6f28>"
      ]
     },
     "execution_count": 15,
     "metadata": {},
     "output_type": "execute_result"
    }
   ],
   "source": [
    "h.add_graph('graphB')\n",
    "b = h.access_graph('graphB')\n",
    "nodes = [\n",
    "    (\"a\", {\"name\": \"white_circle\"}),\n",
    "    (\"b\", {\"name\": \"black_circle\"}),\n",
    "    (\"c\", {\"name\": \"square\"})\n",
    "]\n",
    "edges = [\n",
    "    (\"a\", \"b\"),\n",
    "    (\"b\", \"c\")\n",
    "]\n",
    "b.add_nodes_from(nodes)\n",
    "b.add_edges_from(edges)"
   ]
  },
  {
   "cell_type": "code",
   "execution_count": 16,
   "metadata": {},
   "outputs": [
    {
     "data": {
      "text/plain": [
       "<neo4j.v1.result.BoltStatementResult at 0x7f411525e278>"
      ]
     },
     "execution_count": 16,
     "metadata": {},
     "output_type": "execute_result"
    }
   ],
   "source": [
    "h.add_graph('graphC')\n",
    "c = h.access_graph('graphC')\n",
    "nodes = [\n",
    "    (\"a\", {\"name\": \"white_square\"}),\n",
    "    (\"b\", {\"name\": \"black_square\"}),\n",
    "    (\"c\", {\"name\": \"circle\"})\n",
    "]\n",
    "edges = [\n",
    "    (\"a\", \"b\"),\n",
    "    (\"c\", \"b\"),\n",
    "    (\"c\", \"c\")\n",
    "]\n",
    "c.add_nodes_from(nodes)\n",
    "c.add_edges_from(edges)"
   ]
  },
  {
   "cell_type": "code",
   "execution_count": 17,
   "metadata": {},
   "outputs": [
    {
     "data": {
      "text/plain": [
       "<neo4j.v1.result.BoltStatementResult at 0x7f41151cb208>"
      ]
     },
     "execution_count": 17,
     "metadata": {},
     "output_type": "execute_result"
    }
   ],
   "source": [
    "h.add_graph('graphD')\n",
    "d = h.access_graph('graphD')\n",
    "nodes = [\n",
    "    (\"a\", {\"name\": \"circle\"}),\n",
    "    (\"b\", {\"name\": \"square\"})\n",
    "]\n",
    "edges = [\n",
    "    (\"a\", \"b\"),\n",
    "    (\"a\", \"a\"),\n",
    "    (\"b\", \"b\")\n",
    "]\n",
    "d.add_nodes_from(nodes)\n",
    "d.add_edges_from(edges)"
   ]
  },
  {
   "cell_type": "markdown",
   "metadata": {},
   "source": [
    "## Typing"
   ]
  },
  {
   "cell_type": "code",
   "execution_count": 18,
   "metadata": {},
   "outputs": [
    {
     "data": {
      "text/plain": [
       "<neo4j.v1.result.BoltStatementResult at 0x7f41151cb5f8>"
      ]
     },
     "execution_count": 18,
     "metadata": {},
     "output_type": "execute_result"
    }
   ],
   "source": [
    "mappingBD = {\n",
    "    \"a\":\"a\",\n",
    "    \"b\":\"a\",\n",
    "    \"c\":\"b\"\n",
    "}\n",
    "h.add_typing('graphB', 'graphD', mappingBD)\n",
    "mappingCD = {\n",
    "    \"a\":\"b\",\n",
    "    \"b\":\"b\",\n",
    "    \"c\":\"a\"\n",
    "}\n",
    "h.add_typing('graphC', 'graphD', mappingCD)"
   ]
  },
  {
   "cell_type": "code",
   "execution_count": null,
   "metadata": {},
   "outputs": [],
   "source": []
  },
  {
   "cell_type": "code",
   "execution_count": null,
   "metadata": {},
   "outputs": [],
   "source": []
  },
  {
   "cell_type": "code",
   "execution_count": null,
   "metadata": {},
   "outputs": [],
   "source": []
  },
  {
   "cell_type": "code",
   "execution_count": null,
   "metadata": {},
   "outputs": [],
   "source": []
  }
 ],
 "metadata": {
  "kernelspec": {
   "display_name": "Python 3",
   "language": "python",
   "name": "python3"
  },
  "language_info": {
   "codemirror_mode": {
    "name": "ipython",
    "version": 3
   },
   "file_extension": ".py",
   "mimetype": "text/x-python",
   "name": "python",
   "nbconvert_exporter": "python",
   "pygments_lexer": "ipython3",
   "version": "3.6.5"
  }
 },
 "nbformat": 4,
 "nbformat_minor": 2
}
