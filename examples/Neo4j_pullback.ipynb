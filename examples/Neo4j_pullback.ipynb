{
 "cells": [
  {
   "cell_type": "code",
   "execution_count": 1,
   "metadata": {},
   "outputs": [],
   "source": [
    "import networkx as nx\n",
    "\n",
    "from regraph import Rule, plot_rule\n",
    "from regraph.neo4j.hierarchy import Neo4jHierarchy\n",
    "import regraph.neo4j.cypher_utils as cypher"
   ]
  },
  {
   "cell_type": "markdown",
   "metadata": {},
   "source": [
    "## Initializing Neo4j database\n",
    "\n",
    "0. When installing neo4j you will be asked to choose login/password for you dbs (here its \"neo4j\"/\"admin\"), if you choose other -- change in the cell below.\n",
    "1. To start neo4j server run `sudo service neo4j start`\n",
    "2. Check status by running `sudo service neo4j status`. Here you can check the _bolt_ port, change the cell below if different from 7687\n",
    "3. You can query the db by using the neo4j browser, the address can be found also in the result of 'status', e.g. \"Remote interface available at http://localhost:7474/\"."
   ]
  },
  {
   "cell_type": "code",
   "execution_count": 2,
   "metadata": {},
   "outputs": [],
   "source": [
    "# initialize the neo4j driver, wrappped into Neo4jGraph object\n",
    "h = Neo4jHierarchy(uri=\"bolt://localhost:7687\", user=\"neo4j\", password=\"admin\")"
   ]
  },
  {
   "cell_type": "code",
   "execution_count": 3,
   "metadata": {},
   "outputs": [],
   "source": [
    "# here we clear the hierarchy\n",
    "h.clear()\n",
    "h.drop_all_constraints()"
   ]
  },
  {
   "cell_type": "markdown",
   "metadata": {},
   "source": [
    "## Adding a graph to the hierarchy"
   ]
  },
  {
   "cell_type": "code",
   "execution_count": 4,
   "metadata": {},
   "outputs": [
    {
     "data": {
      "text/plain": [
       "<neo4j.v1.result.BoltStatementResult at 0x7f99aece0a90>"
      ]
     },
     "execution_count": 4,
     "metadata": {},
     "output_type": "execute_result"
    }
   ],
   "source": [
    "h.add_graph('graphB')\n",
    "b = h.access_graph('graphB')\n",
    "nodes = [\n",
    "    (\"a\", {\"shape\": [\"circle\"], \"color\": [\"white\"]}),\n",
    "    (\"b\", {\"shape\": [\"circle\"], \"color\": [\"black\"]}),\n",
    "    (\"c\", {\"shape\": [\"square\"], \"color\": [\"white\", \"black\"]})\n",
    "]\n",
    "edges = [\n",
    "    (\"a\", \"b\"),\n",
    "    (\"b\", \"c\")\n",
    "]\n",
    "b.add_nodes_from(nodes)\n",
    "b.add_edges_from(edges)"
   ]
  },
  {
   "cell_type": "code",
   "execution_count": 5,
   "metadata": {},
   "outputs": [
    {
     "data": {
      "text/plain": [
       "<neo4j.v1.result.BoltStatementResult at 0x7f99aece0f98>"
      ]
     },
     "execution_count": 5,
     "metadata": {},
     "output_type": "execute_result"
    }
   ],
   "source": [
    "h.add_graph('graphC')\n",
    "c = h.access_graph('graphC')\n",
    "nodes = [\n",
    "    (\"a\", {\"shape\": [\"square\"], \"color\": [\"white\"]}),\n",
    "    (\"b\", {\"shape\": [\"square\"], \"color\": [\"black\"]}),\n",
    "    (\"c\", {\"shape\": [\"circle\"], \"color\": [\"white\", \"black\"]})\n",
    "]\n",
    "edges = [\n",
    "    (\"a\", \"b\"),\n",
    "    (\"c\", \"b\"),\n",
    "    (\"c\", \"c\")\n",
    "]\n",
    "c.add_nodes_from(nodes)\n",
    "c.add_edges_from(edges)"
   ]
  },
  {
   "cell_type": "code",
   "execution_count": 6,
   "metadata": {},
   "outputs": [
    {
     "data": {
      "text/plain": [
       "<neo4j.v1.result.BoltStatementResult at 0x7f99aece0908>"
      ]
     },
     "execution_count": 6,
     "metadata": {},
     "output_type": "execute_result"
    }
   ],
   "source": [
    "h.add_graph('graphD')\n",
    "d = h.access_graph('graphD')\n",
    "nodes = [\n",
    "    (\"a\", {\"shape\": [\"circle\"], \"color\": [\"white\", \"black\"]}),\n",
    "    (\"b\", {\"shape\": [\"square\"], \"color\": [\"white\", \"black\"]})\n",
    "]\n",
    "edges = [\n",
    "    (\"a\", \"b\"),\n",
    "    (\"a\", \"a\"),\n",
    "    (\"b\", \"b\")\n",
    "]\n",
    "d.add_nodes_from(nodes)\n",
    "d.add_edges_from(edges)"
   ]
  },
  {
   "cell_type": "markdown",
   "metadata": {},
   "source": [
    "## Typing"
   ]
  },
  {
   "cell_type": "code",
   "execution_count": 7,
   "metadata": {},
   "outputs": [
    {
     "data": {
      "text/plain": [
       "<neo4j.v1.result.BoltStatementResult at 0x7f99aece0320>"
      ]
     },
     "execution_count": 7,
     "metadata": {},
     "output_type": "execute_result"
    }
   ],
   "source": [
    "mappingBD = {\n",
    "    \"a\":\"a\",\n",
    "    \"b\":\"a\",\n",
    "    \"c\":\"b\"\n",
    "}\n",
    "h.add_typing('graphB', 'graphD', mappingBD)\n",
    "mappingCD = {\n",
    "    \"a\":\"b\",\n",
    "    \"b\":\"b\",\n",
    "    \"c\":\"a\"\n",
    "}\n",
    "h.add_typing('graphC', 'graphD', mappingCD)"
   ]
  },
  {
   "cell_type": "markdown",
   "metadata": {},
   "source": [
    "## Pullback"
   ]
  },
  {
   "cell_type": "code",
   "execution_count": 8,
   "metadata": {},
   "outputs": [
    {
     "name": "stdout",
     "output_type": "stream",
     "text": [
      "OPTIONAL MATCH (n:graphB)-[:typing]->(:graphD)<-[:typing]-(m:graphC)\n",
      "\n",
      "//Perform the intersection of the properties of n, m\n",
      "WITH [] as new_props, m, n\n",
      "WITH new_props + REDUCE(pairs = [], k in keys(n) | \n",
      "\tCASE WHEN ALL(others in [m] WHERE k in keys(others))\n",
      "\tTHEN\n",
      "\t\tpairs + REDUCE(inner_pairs = [], v in n[k] | \n",
      "\t\t\tCASE WHEN ALL(others in [m] WHERE v in others[k])\n",
      "\t\t\tTHEN\n",
      "\t\t\t\tinner_pairs + {key: k, value: v}\n",
      "\t\t\tELSE\n",
      "\t\t\t\tinner_pairs\n",
      "\t\t\tEND)\n",
      "\tELSE\n",
      "\t\tpairs\n",
      "\tEND) as new_props, m, n\n",
      "WITH apoc.map.groupByMulti(new_props, 'key') as new_props, m, n\n",
      "WITH apoc.map.fromValues(REDUCE(pairs=[], k in keys(new_props) | \n",
      "\tpairs + [k, REDUCE(values=[], v in new_props[k] | \n",
      "\t\tvalues + CASE WHEN v.value IN values THEN [] ELSE v.value END)])) as new_props, m, n\n",
      "CREATE (new_node_a:graphA) \n",
      "SET new_node_a.id = toString(id(new_node_a)) \n",
      "WITH toString(id(new_node_a)) as id_var , m, new_props, new_node_a, n\n",
      "SET new_node_a += new_props\n",
      "WITH n, m, new_node_a \n",
      "MERGE (new_node_a)-[:typing {  }]->(n)\n",
      "\n",
      "MERGE (new_node_a)-[:typing {  }]->(m)\n",
      "\n",
      "\n",
      "--------------------\n",
      "MATCH (x:graphA)-[:typing]->(:graphB)-[r1:edge]->(:graphB)<-[:typing]-(y:graphA),\n",
      "(x)-[:typing]->(:graphC)-[r2:edge]->(:graphC)<-[:typing]-(y)\n",
      "\n",
      "//Perform the intersection of the properties of r1, r2\n",
      "WITH [] as new_props, y, r2, r1, x\n",
      "WITH new_props + REDUCE(pairs = [], k in keys(r1) | \n",
      "\tCASE WHEN ALL(others in [r2] WHERE k in keys(others))\n",
      "\tTHEN\n",
      "\t\tpairs + REDUCE(inner_pairs = [], v in r1[k] | \n",
      "\t\t\tCASE WHEN ALL(others in [r2] WHERE v in others[k])\n",
      "\t\t\tTHEN\n",
      "\t\t\t\tinner_pairs + {key: k, value: v}\n",
      "\t\t\tELSE\n",
      "\t\t\t\tinner_pairs\n",
      "\t\t\tEND)\n",
      "\tELSE\n",
      "\t\tpairs\n",
      "\tEND) as new_props, y, r2, r1, x\n",
      "WITH apoc.map.groupByMulti(new_props, 'key') as new_props, y, r2, r1, x\n",
      "WITH apoc.map.fromValues(REDUCE(pairs=[], k in keys(new_props) | \n",
      "\tpairs + [k, REDUCE(values=[], v in new_props[k] | \n",
      "\t\tvalues + CASE WHEN v.value IN values THEN [] ELSE v.value END)])) as new_props, y, r2, r1, x\n",
      "MERGE (x)-[r:edge]->(y)\n",
      "SET r += new_props\n"
     ]
    }
   ],
   "source": [
    "h.pullback('graphB', 'graphC', 'graphD', 'graphA')"
   ]
  },
  {
   "cell_type": "code",
   "execution_count": null,
   "metadata": {},
   "outputs": [],
   "source": []
  },
  {
   "cell_type": "code",
   "execution_count": null,
   "metadata": {},
   "outputs": [],
   "source": []
  }
 ],
 "metadata": {
  "kernelspec": {
   "display_name": "Python 3",
   "language": "python",
   "name": "python3"
  },
  "language_info": {
   "codemirror_mode": {
    "name": "ipython",
    "version": 3
   },
   "file_extension": ".py",
   "mimetype": "text/x-python",
   "name": "python",
   "nbconvert_exporter": "python",
   "pygments_lexer": "ipython3",
   "version": "3.6.5"
  }
 },
 "nbformat": 4,
 "nbformat_minor": 2
}
