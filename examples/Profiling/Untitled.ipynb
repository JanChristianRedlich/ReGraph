{
 "cells": [
  {
   "cell_type": "code",
   "execution_count": null,
   "metadata": {},
   "outputs": [],
   "source": [
    "import networkx as nx\n",
    "\n",
    "from regraph import Rule, plot_rule\n",
    "from regraph.default.utils import keys_by_value, normalize_attrs\n",
    "from regraph.neo4j.graphs import Neo4jGraph\n",
    "from regraph.neo4j.cypher_utils import *\n",
    "\n",
    "from profiling_utils import *"
   ]
  },
  {
   "cell_type": "code",
   "execution_count": null,
   "metadata": {},
   "outputs": [],
   "source": [
    "# initialize the neo4j driver, wrappped into Neo4jGraph object\n",
    "g = Neo4jGraph(uri=\"bolt://localhost:7687\", user=\"neo4j\", password=\"admin\")"
   ]
  },
  {
   "cell_type": "code",
   "execution_count": null,
   "metadata": {},
   "outputs": [],
   "source": [
    "# here we clear the db\n",
    "res = g.clear()"
   ]
  },
  {
   "cell_type": "code",
   "execution_count": null,
   "metadata": {},
   "outputs": [],
   "source": [
    "nodes = [\n",
    "    (\"a\", {\"name\": \"EGFR\", \"state\": \"p\"}),\n",
    "    (\"b\", {\"name\": \"BND\"}),\n",
    "    (\"c\", {\"name\": \"Grb2\", \"aa\": \"S\", \"loc\": 90}),\n",
    "    (\"d\", {\"name\": \"SH2\"}),\n",
    "    (\"e\", {\"name\": \"EGFR\"}),\n",
    "    (\"f\", {\"name\": \"BND\"}),\n",
    "    (\"g\", {\"name\": \"Grb2\"}),\n",
    "    (\"h\", {\"name\": \"WAF1\"}),\n",
    "    (\"i\", {\"name\": \"BND\"}),\n",
    "    (\"j\", {\"name\": \"G1-S/CDK\", \"state\": \"p\"}),\n",
    "    \"k\", \"l\", \"m\"\n",
    "    ]\n",
    "edges = [\n",
    "    (\"a\", \"b\", {\"s\": \"p\"}),\n",
    "    (\"d\", \"b\", {\"s\": \"u\"}),\n",
    "    (\"d\", \"c\"),\n",
    "    (\"e\", \"f\", {\"s\": \"p\"}),\n",
    "    (\"g\", \"f\", {\"s\": \"u\"}),\n",
    "    (\"h\", \"i\"),\n",
    "    (\"i\", \"h\"),\n",
    "    (\"j\", \"h\", {\"act\": {1}}),\n",
    "    (\"j\", \"i\", {\"act\": {2}}),\n",
    "    (\"k\", \"l\"),\n",
    "    (\"l\", \"k\"),\n",
    "    (\"l\", \"m\"),\n",
    "    (\"m\", \"l\"),\n",
    "    (\"k\", \"m\"),\n",
    "    (\"m\", \"k\"),\n",
    "    (\"e\", \"b\", {\"s\": \"u\"})\n",
    "    ]\n",
    "g.add_nodes_from(nodes)\n",
    "g.add_edges_from(edges)"
   ]
  },
  {
   "cell_type": "code",
   "execution_count": null,
   "metadata": {},
   "outputs": [],
   "source": []
  },
  {
   "cell_type": "markdown",
   "metadata": {},
   "source": [
    "### Profiling clone query"
   ]
  },
  {
   "cell_type": "code",
   "execution_count": null,
   "metadata": {},
   "outputs": [],
   "source": [
    "node = \"a\"\n",
    "query = \"PROFILE\\n\" +\\\n",
    "        match_node('x', node) +\\\n",
    "        cloning_query(\n",
    "            original_var='x',\n",
    "            clone_var='new_node',\n",
    "            clone_id=node,\n",
    "            clone_id_var='uid',\n",
    "            ignore_naming=True)[0] +\\\n",
    "        return_vars(['uid'])\n",
    "print(query)\n",
    "res = g.execute(query).summary()"
   ]
  },
  {
   "cell_type": "code",
   "execution_count": null,
   "metadata": {},
   "outputs": [],
   "source": [
    "print(type(res))"
   ]
  },
  {
   "cell_type": "code",
   "execution_count": null,
   "metadata": {},
   "outputs": [],
   "source": [
    "print(res.metadata[\"profile\"])"
   ]
  },
  {
   "cell_type": "code",
   "execution_count": null,
   "metadata": {},
   "outputs": [],
   "source": [
    "for p in res.profile:\n",
    "    print(p)"
   ]
  },
  {
   "cell_type": "code",
   "execution_count": null,
   "metadata": {},
   "outputs": [],
   "source": [
    "number_of_DbHits(res.profile)"
   ]
  },
  {
   "cell_type": "code",
   "execution_count": null,
   "metadata": {},
   "outputs": [],
   "source": [
    "print(res.result_available_after + res.result_consumed_after)"
   ]
  },
  {
   "cell_type": "markdown",
   "metadata": {},
   "source": [
    "### Profiling merge queries (APOC)"
   ]
  },
  {
   "cell_type": "code",
   "execution_count": null,
   "metadata": {},
   "outputs": [],
   "source": [
    "n1 = \"a\"\n",
    "n2 = \"b\"\n",
    "name = \"a_b\"\n",
    "node_list = [n1, n2]\n",
    "\n",
    "query =\"PROFILE\\n\" +\\\n",
    "        match_nodes({n: n for n in node_list}) + \"\\n\" +\\\n",
    "        merging_query(\n",
    "            original_vars=node_list,\n",
    "            merged_var='merged_node',\n",
    "            merged_id=name,\n",
    "            merged_id_var='new_id',\n",
    "            ignore_naming=True)[0] +\\\n",
    "        return_vars(['new_id'])\n",
    "print(query)\n",
    "res = g.execute(query).summary()"
   ]
  },
  {
   "cell_type": "code",
   "execution_count": null,
   "metadata": {},
   "outputs": [],
   "source": [
    "number_of_DbHits(res.profile)"
   ]
  },
  {
   "cell_type": "code",
   "execution_count": null,
   "metadata": {},
   "outputs": [],
   "source": [
    "print(res.result_available_after + res.result_consumed_after)"
   ]
  },
  {
   "cell_type": "markdown",
   "metadata": {},
   "source": [
    "### Profiling merge queries"
   ]
  },
  {
   "cell_type": "code",
   "execution_count": null,
   "metadata": {},
   "outputs": [],
   "source": [
    "n1 = \"c\"\n",
    "n2 = \"g\"\n",
    "name = \"c_g\"\n",
    "node_list = [n1, n2]\n",
    "\n",
    "query =\"PROFILE\\n\" +\\\n",
    "        match_nodes({n: n for n in node_list}) + \"\\n\" +\\\n",
    "        merging_query1(\n",
    "            original_vars=node_list,\n",
    "            merged_var='merged_node',\n",
    "            merged_id=name,\n",
    "            merged_id_var='new_id',\n",
    "            ignore_naming=True)[0] +\\\n",
    "        return_vars(['new_id'])\n",
    "print(query)\n",
    "res = g.execute(query).summary()"
   ]
  },
  {
   "cell_type": "code",
   "execution_count": null,
   "metadata": {},
   "outputs": [],
   "source": [
    "number_of_DbHits(res.profile)"
   ]
  },
  {
   "cell_type": "code",
   "execution_count": null,
   "metadata": {},
   "outputs": [],
   "source": [
    "print(res.result_available_after + res.result_consumed_after)"
   ]
  },
  {
   "cell_type": "code",
   "execution_count": null,
   "metadata": {},
   "outputs": [],
   "source": []
  },
  {
   "cell_type": "code",
   "execution_count": null,
   "metadata": {},
   "outputs": [],
   "source": []
  },
  {
   "cell_type": "code",
   "execution_count": null,
   "metadata": {},
   "outputs": [],
   "source": []
  },
  {
   "cell_type": "markdown",
   "metadata": {},
   "source": [
    "#### Time to match a node with its id"
   ]
  },
  {
   "cell_type": "code",
   "execution_count": null,
   "metadata": {},
   "outputs": [],
   "source": [
    "node = \"a\"\n",
    "query = match_node(node, node) + return_vars(node)\n",
    "print(g.execution_time(query))"
   ]
  },
  {
   "cell_type": "markdown",
   "metadata": {},
   "source": [
    "#### Time to add a node"
   ]
  },
  {
   "cell_type": "code",
   "execution_count": null,
   "metadata": {},
   "outputs": [],
   "source": [
    "node = \"x\"\n",
    "attrs = {\"act\": {1}}\n",
    "normalize_attrs(attrs)\n",
    "query = create_node(node, node, 'new_id', attrs)[0]\n",
    "print(g.execution_time(query))"
   ]
  },
  {
   "cell_type": "markdown",
   "metadata": {},
   "source": [
    "#### Time to remove a node"
   ]
  },
  {
   "cell_type": "code",
   "execution_count": null,
   "metadata": {},
   "outputs": [],
   "source": [
    "node = \"x\"\n",
    "query = match_node(node, node) + delete_nodes_var(node)\n",
    "print(g.execution_time(query))"
   ]
  },
  {
   "cell_type": "markdown",
   "metadata": {},
   "source": [
    "#### Time to add an edge"
   ]
  },
  {
   "cell_type": "code",
   "execution_count": null,
   "metadata": {},
   "outputs": [],
   "source": [
    "source = \"a\"\n",
    "target = \"c\"\n",
    "attrs = {\"act\": {1}}\n",
    "normalize_attrs(attrs)\n",
    "query = match_nodes({\n",
    "            source: source,\n",
    "            target: target\n",
    "        })\n",
    "query += create_edge(source, target, attrs)\n",
    "print(g.execution_time(query))"
   ]
  },
  {
   "cell_type": "markdown",
   "metadata": {},
   "source": [
    "#### Time to delete an edge"
   ]
  },
  {
   "cell_type": "code",
   "execution_count": null,
   "metadata": {},
   "outputs": [],
   "source": [
    "source = \"a\"\n",
    "target = \"c\"\n",
    "query = match_edge(source, target, source, target, 'r') \n",
    "query += delete_edge_var('r')\n",
    "print(g.execution_time(query))"
   ]
  },
  {
   "cell_type": "markdown",
   "metadata": {},
   "source": [
    "#### Time to clone a node"
   ]
  },
  {
   "cell_type": "code",
   "execution_count": null,
   "metadata": {},
   "outputs": [],
   "source": [
    "node = \"a\"\n",
    "clone = \"a_clone\"\n",
    "query =\\\n",
    "            match_node('x', node) +\\\n",
    "            cloning_query(\n",
    "                original_var='x',\n",
    "                clone_var='new_node',\n",
    "                clone_id=clone,\n",
    "                clone_id_var='uid')[0] +\\\n",
    "            return_vars(['uid'])\n",
    "print(g.execution_time(query))"
   ]
  },
  {
   "cell_type": "code",
   "execution_count": null,
   "metadata": {},
   "outputs": [],
   "source": []
  },
  {
   "cell_type": "markdown",
   "metadata": {},
   "source": [
    "#### Cypher query for cloning (IgnoreNaming=True)"
   ]
  },
  {
   "cell_type": "code",
   "execution_count": null,
   "metadata": {},
   "outputs": [],
   "source": [
    "print(\"Here we ignore pretty naming of new clones\\n\")\n",
    "clone2_res = g.clone_node('a', ignore_naming=True)\n",
    "print(\"Created clone by the name: \", clone2_res)\n",
    "print(\"Properties of the resulting node: \")\n",
    "print(g.get_node(clone2_res))\n",
    "print(\"Properties of incident edges are also cloned, e.g: \")\n",
    "print(g.get_edge(clone2_res, 'b'))"
   ]
  },
  {
   "cell_type": "markdown",
   "metadata": {},
   "source": [
    "#### Cypher query for cloning"
   ]
  },
  {
   "cell_type": "code",
   "execution_count": null,
   "metadata": {},
   "outputs": [],
   "source": [
    "clone1_res = g.clone_node('a')\n",
    "print(\"Created clone by the name: \", clone1_res)\n",
    "print(\"Properties of the resulting node: \")\n",
    "print(g.get_node(clone1_res))\n",
    "print(\"Properties of incident edges are also cloned, e.g: \")\n",
    "print(g.get_edge(clone1_res, 'b'))"
   ]
  },
  {
   "cell_type": "code",
   "execution_count": null,
   "metadata": {},
   "outputs": [],
   "source": []
  },
  {
   "cell_type": "code",
   "execution_count": null,
   "metadata": {},
   "outputs": [],
   "source": []
  },
  {
   "cell_type": "code",
   "execution_count": null,
   "metadata": {},
   "outputs": [],
   "source": []
  },
  {
   "cell_type": "code",
   "execution_count": null,
   "metadata": {},
   "outputs": [],
   "source": []
  },
  {
   "cell_type": "code",
   "execution_count": null,
   "metadata": {},
   "outputs": [],
   "source": []
  }
 ],
 "metadata": {
  "kernelspec": {
   "display_name": "Python 3",
   "language": "python",
   "name": "python3"
  },
  "language_info": {
   "codemirror_mode": {
    "name": "ipython",
    "version": 3
   },
   "file_extension": ".py",
   "mimetype": "text/x-python",
   "name": "python",
   "nbconvert_exporter": "python",
   "pygments_lexer": "ipython3",
   "version": "3.6.5"
  }
 },
 "nbformat": 4,
 "nbformat_minor": 2
}
