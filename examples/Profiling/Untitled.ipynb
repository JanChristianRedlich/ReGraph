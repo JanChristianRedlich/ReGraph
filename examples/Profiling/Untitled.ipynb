{
 "cells": [
  {
   "cell_type": "code",
   "execution_count": 1,
   "metadata": {},
   "outputs": [],
   "source": [
    "import networkx as nx\n",
    "\n",
    "from regraph import Rule, plot_rule\n",
    "from regraph.default.utils import keys_by_value, normalize_attrs\n",
    "from regraph.neo4j.graphs import Neo4jGraph\n",
    "from regraph.neo4j.cypher_utils import *\n",
    "\n",
    "from profiling_utils import *"
   ]
  },
  {
   "cell_type": "code",
   "execution_count": 2,
   "metadata": {},
   "outputs": [],
   "source": [
    "# initialize the neo4j driver, wrappped into Neo4jGraph object\n",
    "g = Neo4jGraph(uri=\"bolt://localhost:7687\", user=\"neo4j\", password=\"admin\")"
   ]
  },
  {
   "cell_type": "code",
   "execution_count": 24,
   "metadata": {},
   "outputs": [],
   "source": [
    "# here we clear the db\n",
    "res = g.clear()"
   ]
  },
  {
   "cell_type": "code",
   "execution_count": 25,
   "metadata": {},
   "outputs": [],
   "source": [
    "nodes = [\n",
    "    (\"a\", {\"name\": \"EGFR\", \"state\": \"p\"}),\n",
    "    (\"b\", {\"name\": \"BND\"}),\n",
    "    (\"c\", {\"name\": \"Grb2\", \"aa\": \"S\", \"loc\": 90}),\n",
    "    (\"d\", {\"name\": \"SH2\"}),\n",
    "    (\"e\", {\"name\": \"EGFR\"}),\n",
    "    (\"f\", {\"name\": \"BND\"}),\n",
    "    (\"g\", {\"name\": \"Grb2\"}),\n",
    "    (\"h\", {\"name\": \"WAF1\"}),\n",
    "    (\"i\", {\"name\": \"BND\"}),\n",
    "    (\"j\", {\"name\": \"G1-S/CDK\", \"state\": \"p\"}),\n",
    "    \"k\", \"l\", \"m\"\n",
    "    ]\n",
    "edges = [\n",
    "    (\"a\", \"b\", {\"s\": \"p\"}),\n",
    "    (\"d\", \"b\", {\"s\": \"u\"}),\n",
    "    (\"d\", \"c\"),\n",
    "    (\"e\", \"f\", {\"s\": \"p\"}),\n",
    "    (\"g\", \"f\", {\"s\": \"u\"}),\n",
    "    (\"h\", \"i\"),\n",
    "    (\"i\", \"h\"),\n",
    "    (\"j\", \"h\", {\"act\": {1}}),\n",
    "    (\"j\", \"i\", {\"act\": {2}}),\n",
    "    (\"k\", \"l\"),\n",
    "    (\"l\", \"k\"),\n",
    "    (\"l\", \"m\"),\n",
    "    (\"m\", \"l\"),\n",
    "    (\"k\", \"m\"),\n",
    "    (\"m\", \"k\"),\n",
    "    (\"e\", \"b\", {\"s\": \"u\"})\n",
    "    ]\n",
    "g.add_nodes_from(nodes)\n",
    "g.add_edges_from(edges)"
   ]
  },
  {
   "cell_type": "markdown",
   "metadata": {},
   "source": [
    "#### Cypher query for cloning (IgnoreNaming=True)"
   ]
  },
  {
   "cell_type": "code",
   "execution_count": null,
   "metadata": {},
   "outputs": [],
   "source": [
    "print(\"Here we ignore pretty naming of new clones\\n\")\n",
    "clone2_res = g.clone_node('a', ignore_naming=True)\n",
    "print(\"Created clone by the name: \", clone2_res)\n",
    "print(\"Properties of the resulting node: \")\n",
    "print(g.get_node(clone2_res))\n",
    "print(\"Properties of incident edges are also cloned, e.g: \")\n",
    "print(g.get_edge(clone2_res, 'b'))"
   ]
  },
  {
   "cell_type": "markdown",
   "metadata": {},
   "source": [
    "#### Cypher query for cloning"
   ]
  },
  {
   "cell_type": "code",
   "execution_count": null,
   "metadata": {},
   "outputs": [],
   "source": [
    "clone1_res = g.clone_node('a')\n",
    "print(\"Created clone by the name: \", clone1_res)\n",
    "print(\"Properties of the resulting node: \")\n",
    "print(g.get_node(clone1_res))\n",
    "print(\"Properties of incident edges are also cloned, e.g: \")\n",
    "print(g.get_edge(clone1_res, 'b'))"
   ]
  },
  {
   "cell_type": "code",
   "execution_count": null,
   "metadata": {},
   "outputs": [],
   "source": []
  },
  {
   "cell_type": "markdown",
   "metadata": {},
   "source": [
    "### Profiling clone query"
   ]
  },
  {
   "cell_type": "code",
   "execution_count": 20,
   "metadata": {},
   "outputs": [
    {
     "name": "stdout",
     "output_type": "stream",
     "text": [
      "PROFILE\n",
      "MATCH (x:node { id : 'a' })\n",
      "WITH [] as sucIgnore, [] as predIgnore, x \n",
      "// match successors and out-edges of a node to be cloned\n",
      "OPTIONAL MATCH (x)-[out_edge:edge]->(suc) \n",
      "WHERE NOT suc.id IS NULL AND NOT suc.id IN sucIgnore\n",
      "WITH collect({neighbor: suc, edge: out_edge}) as suc_maps, predIgnore, x \n",
      "// match predecessors and in-edges of a node to be cloned\n",
      "OPTIONAL MATCH (pred)-[in_edge:edge]->(x) \n",
      "WHERE NOT pred.id IS NULL AND NOT pred.id IN predIgnore\n",
      "WITH collect({neighbor: pred, edge: in_edge}) as pred_maps, x, suc_maps \n",
      "// create a node corresponding to the clone\n",
      "CREATE (new_node:node) \n",
      "WITH new_node, toString(id(new_node)) as uid, x.id as original_old, x, pred_maps, suc_maps \n",
      "// set the id property of the original node to NULL\n",
      "SET x.id = NULL\n",
      "// copy all the properties of the original node to the clone\n",
      "SET new_node = x\n",
      "// set id property of the clone to neo4j-generated id\n",
      "SET new_node.id = toString(id(new_node)), new_node.count = NULL\n",
      "// set back the id property of the original node\n",
      "SET x.id = original_old\n",
      "WITH new_node, toString(id(new_node)) as uid, x, pred_maps, suc_maps \n",
      "// copy all incident edges of the original node to the clone\n",
      "FOREACH (suc_map IN suc_maps | \n",
      "\tFOREACH (suc IN CASE WHEN suc_map.neighbor IS NOT NULL THEN [suc_map.neighbor] ELSE [] END |\n",
      "\t\tMERGE (new_node)-[new_edge:edge]->(suc) \n",
      "\t\tSET new_edge = suc_map.edge))\n",
      "FOREACH (pred_map IN pred_maps | \n",
      "\tFOREACH (pred IN CASE WHEN pred_map.neighbor IS NOT NULL THEN [pred_map.neighbor] ELSE [] END |\n",
      "\t\tMERGE (pred)-[new_edge:edge]->(new_node) \n",
      "\t\tSET new_edge = pred_map.edge))\n",
      "RETURN uid\n",
      "\n"
     ]
    }
   ],
   "source": [
    "node = \"a\"\n",
    "query = \"PROFILE\\n\" +\\\n",
    "        match_node('x', node) +\\\n",
    "        cloning_query(\n",
    "            original_var='x',\n",
    "            clone_var='new_node',\n",
    "            clone_id=node,\n",
    "            clone_id_var='uid',\n",
    "            ignore_naming=True)[0] +\\\n",
    "        return_vars(['uid'])\n",
    "print(query)\n",
    "res = g.execute(query).summary()"
   ]
  },
  {
   "cell_type": "code",
   "execution_count": 21,
   "metadata": {},
   "outputs": [
    {
     "name": "stdout",
     "output_type": "stream",
     "text": [
      "<class 'neo4j.v1.result.BoltStatementResultSummary'>\n"
     ]
    }
   ],
   "source": [
    "print(type(res))"
   ]
  },
  {
   "cell_type": "code",
   "execution_count": 22,
   "metadata": {},
   "outputs": [
    {
     "name": "stdout",
     "output_type": "stream",
     "text": [
      "{'args': {'PageCacheHitRatio': 0.0, 'planner-impl': 'IDP', 'runtime': 'INTERPRETED', 'runtime-impl': 'INTERPRETED', 'PageCacheMisses': 0, 'version': 'CYPHER 3.3', 'EstimatedRows': 1.0677899723724409, 'planner': 'COST', 'DbHits': 0, 'Rows': 1, 'PageCacheHits': 0}, 'pageCacheMisses': 0, 'children': [{'args': {'PageCacheHitRatio': 0.0, 'Expressions': '{uid :   uid@1066}', 'PageCacheMisses': 0, 'EstimatedRows': 1.0677899723724409, 'DbHits': 0, 'Rows': 1, 'PageCacheHits': 0}, 'pageCacheMisses': 0, 'children': [{'args': {'PageCacheHitRatio': 0.0, 'PageCacheMisses': 0, 'EstimatedRows': 1.0677899723724409, 'DbHits': 0, 'Rows': 1, 'PageCacheHits': 0}, 'pageCacheMisses': 0, 'children': [{'args': {'PageCacheHitRatio': 0.0, 'PageCacheMisses': 0, 'EstimatedRows': 1.0677899723724409, 'DbHits': 0, 'Rows': 1, 'PageCacheHits': 0}, 'pageCacheMisses': 0, 'children': [{'args': {'PageCacheHitRatio': 0.0, 'PageCacheMisses': 0, 'EstimatedRows': 1.0677899723724409, 'DbHits': 0, 'Rows': 1, 'PageCacheHits': 0}, 'pageCacheMisses': 0, 'children': [{'args': {'PageCacheHitRatio': 0.0, 'Expressions': '{x : x,   uid@1066 : toString(id(new_node)), suc_maps : suc_maps, pred_maps : pred_maps, new_node : new_node}', 'PageCacheMisses': 0, 'EstimatedRows': 1.0677899723724409, 'DbHits': 0, 'Rows': 1, 'PageCacheHits': 0}, 'pageCacheMisses': 0, 'children': [{'args': {'PageCacheHitRatio': 0.0, 'PageCacheMisses': 0, 'EstimatedRows': 1.0677899723724409, 'DbHits': 0, 'Rows': 1, 'PageCacheHits': 0}, 'pageCacheMisses': 0, 'children': [{'args': {'PageCacheHitRatio': 0.0, 'PageCacheMisses': 0, 'EstimatedRows': 1.0677899723724409, 'DbHits': 1, 'Rows': 1, 'PageCacheHits': 0}, 'pageCacheMisses': 0, 'children': [{'args': {'PageCacheHitRatio': 0.0, 'PageCacheMisses': 0, 'EstimatedRows': 1.0677899723724409, 'DbHits': 1, 'Rows': 1, 'PageCacheHits': 0}, 'pageCacheMisses': 0, 'children': [{'args': {'PageCacheHitRatio': 0.0, 'PageCacheMisses': 0, 'EstimatedRows': 1.0677899723724409, 'DbHits': 1, 'Rows': 1, 'PageCacheHits': 0}, 'pageCacheMisses': 0, 'children': [{'args': {'PageCacheHitRatio': 0.0, 'PageCacheMisses': 0, 'EstimatedRows': 1.0677899723724409, 'DbHits': 10, 'Rows': 1, 'PageCacheHits': 0}, 'pageCacheMisses': 0, 'children': [{'args': {'PageCacheHitRatio': 0.0, 'PageCacheMisses': 0, 'EstimatedRows': 1.0677899723724409, 'DbHits': 2, 'Rows': 1, 'PageCacheHits': 0}, 'pageCacheMisses': 0, 'children': [{'args': {'PageCacheHitRatio': 0.0, 'PageCacheMisses': 0, 'EstimatedRows': 1.0677899723724409, 'DbHits': 0, 'Rows': 1, 'PageCacheHits': 0}, 'pageCacheMisses': 0, 'children': [{'args': {'PageCacheHitRatio': 0.0, 'Expressions': '{x : x,   uid@637 : toString(id(new_node)), original_old : x.id, suc_maps : suc_maps, pred_maps : pred_maps, new_node : new_node}', 'PageCacheMisses': 0, 'EstimatedRows': 1.0677899723724409, 'DbHits': 1, 'Rows': 1, 'PageCacheHits': 0}, 'pageCacheMisses': 0, 'children': [{'args': {'PageCacheHitRatio': 0.0, 'PageCacheMisses': 0, 'EstimatedRows': 1.0677899723724409, 'DbHits': 0, 'Rows': 1, 'PageCacheHits': 0}, 'pageCacheMisses': 0, 'children': [{'args': {'PageCacheHitRatio': 0.0, 'PageCacheMisses': 0, 'EstimatedRows': 1.0677899723724409, 'DbHits': 2, 'Rows': 1, 'PageCacheHits': 0}, 'pageCacheMisses': 0, 'children': [{'args': {'PageCacheHitRatio': 0.0, 'KeyNames': 'x, suc_maps', 'PageCacheMisses': 0, 'EstimatedRows': 1.0677899723724409, 'DbHits': 0, 'Rows': 1, 'PageCacheHits': 0}, 'pageCacheMisses': 0, 'children': [{'args': {'PageCacheHitRatio': 0.0, 'PageCacheMisses': 0, 'EstimatedRows': 1.140175425099138, 'DbHits': 0, 'Rows': 1, 'PageCacheHits': 0}, 'pageCacheMisses': 0, 'children': [{'args': {'PageCacheHitRatio': 0.0, 'PageCacheMisses': 0, 'EstimatedRows': 1.140175425099138, 'DbHits': 0, 'Rows': 1, 'PageCacheHits': 0}, 'pageCacheMisses': 0, 'children': [{'args': {'PageCacheHitRatio': 0.0, 'KeyNames': 'predIgnore, x', 'PageCacheMisses': 0, 'EstimatedRows': 1.140175425099138, 'DbHits': 0, 'Rows': 1, 'PageCacheHits': 0}, 'pageCacheMisses': 0, 'children': [{'args': {'PageCacheHitRatio': 0.0, 'PageCacheMisses': 0, 'EstimatedRows': 1.3, 'DbHits': 0, 'Rows': 1, 'PageCacheHits': 0}, 'pageCacheMisses': 0, 'children': [{'args': {'PageCacheHitRatio': 0.0, 'PageCacheMisses': 0, 'EstimatedRows': 1.3, 'DbHits': 0, 'Rows': 1, 'PageCacheHits': 0}, 'pageCacheMisses': 0, 'children': [{'args': {'PageCacheHitRatio': 0.0, 'Expressions': '{sucIgnore : {  AUTOLIST1}, predIgnore : {  AUTOLIST2}, x : x}', 'PageCacheMisses': 0, 'EstimatedRows': 1.3, 'DbHits': 0, 'Rows': 1, 'PageCacheHits': 0}, 'pageCacheMisses': 0, 'children': [{'args': {'PageCacheHitRatio': 0.0, 'Expression': 'x.id = {  AUTOSTRING0}', 'PageCacheMisses': 0, 'EstimatedRows': 1.3, 'DbHits': 13, 'Rows': 1, 'PageCacheHits': 0}, 'pageCacheMisses': 0, 'children': [{'args': {'PageCacheHitRatio': 0.0, 'LabelName': ':node', 'PageCacheMisses': 0, 'EstimatedRows': 13.0, 'DbHits': 14, 'Rows': 13, 'PageCacheHits': 0}, 'pageCacheMisses': 0, 'children': [], 'dbHits': 14, 'identifiers': ['x'], 'operatorType': 'NodeByLabelScan', 'rows': 13, 'pageCacheHitRatio': 0.0, 'pageCacheHits': 0}], 'dbHits': 13, 'identifiers': ['x'], 'operatorType': 'Filter', 'rows': 1, 'pageCacheHitRatio': 0.0, 'pageCacheHits': 0}], 'dbHits': 0, 'identifiers': ['predIgnore', 'sucIgnore', 'x'], 'operatorType': 'Projection', 'rows': 1, 'pageCacheHitRatio': 0.0, 'pageCacheHits': 0}, {'args': {'PageCacheHitRatio': 0.0, 'PageCacheMisses': 0, 'EstimatedRows': 1.3, 'DbHits': 0, 'Rows': 1, 'PageCacheHits': 0}, 'pageCacheMisses': 0, 'children': [{'args': {'PageCacheHitRatio': 0.0, 'Expression': 'NOT(IS NULL(suc.id))', 'PageCacheMisses': 0, 'EstimatedRows': 0.028715919507674142, 'DbHits': 1, 'Rows': 1, 'PageCacheHits': 0}, 'pageCacheMisses': 0, 'children': [{'args': {'PageCacheHitRatio': 0.0, 'ExpandExpression': '(x)-[out_edge:edge]->(  suc@165)', 'PageCacheMisses': 0, 'EstimatedRows': 1.6, 'DbHits': 2, 'Rows': 1, 'PageCacheHits': 0}, 'pageCacheMisses': 0, 'children': [{'args': {'PageCacheHitRatio': 0.0, 'PageCacheMisses': 0, 'EstimatedRows': 1.3, 'DbHits': 0, 'Rows': 1, 'PageCacheHits': 0}, 'pageCacheMisses': 0, 'children': [], 'dbHits': 0, 'identifiers': ['sucIgnore', 'x'], 'operatorType': 'Argument', 'rows': 1, 'pageCacheHitRatio': 0.0, 'pageCacheHits': 0}], 'dbHits': 2, 'identifiers': ['  suc@165', 'out_edge', 'sucIgnore', 'x'], 'operatorType': 'Expand(All)', 'rows': 1, 'pageCacheHitRatio': 0.0, 'pageCacheHits': 0}], 'dbHits': 1, 'identifiers': ['  suc@165', 'out_edge', 'sucIgnore', 'x'], 'operatorType': 'Filter', 'rows': 1, 'pageCacheHitRatio': 0.0, 'pageCacheHits': 0}], 'dbHits': 0, 'identifiers': ['  suc@165', 'out_edge', 'sucIgnore', 'x'], 'operatorType': 'Optional', 'rows': 1, 'pageCacheHitRatio': 0.0, 'pageCacheHits': 0}], 'dbHits': 0, 'identifiers': ['x', 'sucIgnore', 'predIgnore', 'out_edge', '  suc@165'], 'operatorType': 'Apply', 'rows': 1, 'pageCacheHitRatio': 0.0, 'pageCacheHits': 0}], 'dbHits': 0, 'identifiers': ['x', 'sucIgnore', 'predIgnore', 'out_edge', '  suc@165'], 'operatorType': 'Eager', 'rows': 1, 'pageCacheHitRatio': 0.0, 'pageCacheHits': 0}], 'dbHits': 0, 'identifiers': ['predIgnore', 'suc_maps', 'x'], 'operatorType': 'EagerAggregation', 'rows': 1, 'pageCacheHitRatio': 0.0, 'pageCacheHits': 0}, {'args': {'PageCacheHitRatio': 0.0, 'PageCacheMisses': 0, 'EstimatedRows': 1.140175425099138, 'DbHits': 0, 'Rows': 1, 'PageCacheHits': 0}, 'pageCacheMisses': 0, 'children': [{'args': {'PageCacheHitRatio': 0.0, 'Expression': 'NOT(IS NULL(pred.id))', 'PageCacheMisses': 0, 'EstimatedRows': 0.025185527485980762, 'DbHits': 0, 'Rows': 0, 'PageCacheHits': 0}, 'pageCacheMisses': 0, 'children': [{'args': {'PageCacheHitRatio': 0.0, 'ExpandExpression': '(x)<-[in_edge:edge]-(  pred@372)', 'PageCacheMisses': 0, 'EstimatedRows': 1.403292830891247, 'DbHits': 1, 'Rows': 0, 'PageCacheHits': 0}, 'pageCacheMisses': 0, 'children': [{'args': {'PageCacheHitRatio': 0.0, 'PageCacheMisses': 0, 'EstimatedRows': 1.140175425099138, 'DbHits': 0, 'Rows': 1, 'PageCacheHits': 0}, 'pageCacheMisses': 0, 'children': [], 'dbHits': 0, 'identifiers': ['predIgnore', 'x'], 'operatorType': 'Argument', 'rows': 1, 'pageCacheHitRatio': 0.0, 'pageCacheHits': 0}], 'dbHits': 1, 'identifiers': ['  pred@372', 'in_edge', 'predIgnore', 'x'], 'operatorType': 'Expand(All)', 'rows': 0, 'pageCacheHitRatio': 0.0, 'pageCacheHits': 0}], 'dbHits': 0, 'identifiers': ['  pred@372', 'in_edge', 'predIgnore', 'x'], 'operatorType': 'Filter', 'rows': 0, 'pageCacheHitRatio': 0.0, 'pageCacheHits': 0}], 'dbHits': 0, 'identifiers': ['  pred@372', 'in_edge', 'predIgnore', 'x'], 'operatorType': 'Optional', 'rows': 1, 'pageCacheHitRatio': 0.0, 'pageCacheHits': 0}], 'dbHits': 0, 'identifiers': ['x', 'predIgnore', '  pred@372', 'in_edge', 'suc_maps'], 'operatorType': 'Apply', 'rows': 1, 'pageCacheHitRatio': 0.0, 'pageCacheHits': 0}], 'dbHits': 0, 'identifiers': ['x', 'predIgnore', '  pred@372', 'in_edge', 'suc_maps'], 'operatorType': 'Eager', 'rows': 1, 'pageCacheHitRatio': 0.0, 'pageCacheHits': 0}], 'dbHits': 0, 'identifiers': ['pred_maps', 'suc_maps', 'x'], 'operatorType': 'EagerAggregation', 'rows': 1, 'pageCacheHitRatio': 0.0, 'pageCacheHits': 0}], 'dbHits': 2, 'identifiers': ['new_node', 'pred_maps', 'suc_maps', 'x'], 'operatorType': 'CreateNode', 'rows': 1, 'pageCacheHitRatio': 0.0, 'pageCacheHits': 0}], 'dbHits': 0, 'identifiers': ['new_node', 'pred_maps', 'suc_maps', 'x'], 'operatorType': 'Eager', 'rows': 1, 'pageCacheHitRatio': 0.0, 'pageCacheHits': 0}], 'dbHits': 1, 'identifiers': ['x', '  uid@637', 'original_old', 'suc_maps', 'pred_maps', 'new_node'], 'operatorType': 'Projection', 'rows': 1, 'pageCacheHitRatio': 0.0, 'pageCacheHits': 0}], 'dbHits': 0, 'identifiers': ['x', '  uid@637', 'original_old', 'suc_maps', 'pred_maps', 'new_node'], 'operatorType': 'Eager', 'rows': 1, 'pageCacheHitRatio': 0.0, 'pageCacheHits': 0}], 'dbHits': 2, 'identifiers': ['x', '  uid@637', 'original_old', 'suc_maps', 'pred_maps', 'new_node'], 'operatorType': 'SetProperty', 'rows': 1, 'pageCacheHitRatio': 0.0, 'pageCacheHits': 0}], 'dbHits': 10, 'identifiers': ['x', '  uid@637', 'original_old', 'suc_maps', 'pred_maps', 'new_node'], 'operatorType': 'SetNodePropertyFromMap', 'rows': 1, 'pageCacheHitRatio': 0.0, 'pageCacheHits': 0}], 'dbHits': 1, 'identifiers': ['x', '  uid@637', 'original_old', 'suc_maps', 'pred_maps', 'new_node'], 'operatorType': 'SetProperty', 'rows': 1, 'pageCacheHitRatio': 0.0, 'pageCacheHits': 0}], 'dbHits': 1, 'identifiers': ['x', '  uid@637', 'original_old', 'suc_maps', 'pred_maps', 'new_node'], 'operatorType': 'SetProperty', 'rows': 1, 'pageCacheHitRatio': 0.0, 'pageCacheHits': 0}], 'dbHits': 1, 'identifiers': ['x', '  uid@637', 'original_old', 'suc_maps', 'pred_maps', 'new_node'], 'operatorType': 'SetProperty', 'rows': 1, 'pageCacheHitRatio': 0.0, 'pageCacheHits': 0}], 'dbHits': 0, 'identifiers': ['x', '  uid@637', 'original_old', 'suc_maps', 'pred_maps', 'new_node'], 'operatorType': 'Eager', 'rows': 1, 'pageCacheHitRatio': 0.0, 'pageCacheHits': 0}], 'dbHits': 0, 'identifiers': ['x', '  uid@637', 'original_old', '  uid@1066', 'suc_maps', 'pred_maps', 'new_node'], 'operatorType': 'Projection', 'rows': 1, 'pageCacheHitRatio': 0.0, 'pageCacheHits': 0}, {'args': {'PageCacheHitRatio': 0.0, 'PageCacheMisses': 0, 'EstimatedRows': 1.0677899723724409, 'DbHits': 0, 'Rows': 1, 'PageCacheHits': 0}, 'pageCacheMisses': 0, 'children': [{'args': {'PageCacheHitRatio': 0.0, 'PageCacheMisses': 0, 'EstimatedRows': 1.0677899723724409, 'DbHits': 0, 'Rows': 1, 'PageCacheHits': 0}, 'pageCacheMisses': 0, 'children': [], 'dbHits': 0, 'identifiers': ['x', '  uid@1066', 'suc_maps', 'pred_maps', 'new_node', 'suc_map'], 'operatorType': 'Argument', 'rows': 1, 'pageCacheHitRatio': 0.0, 'pageCacheHits': 0}, {'args': {'PageCacheHitRatio': 0.0, 'PageCacheMisses': 0, 'EstimatedRows': 1.0677899723724409, 'DbHits': 6, 'Rows': 1, 'PageCacheHits': 0}, 'pageCacheMisses': 0, 'children': [{'args': {'PageCacheHitRatio': 0.0, 'PageCacheMisses': 0, 'EstimatedRows': 1.0677899723724409, 'DbHits': 0, 'Rows': 1, 'PageCacheHits': 0}, 'pageCacheMisses': 0, 'children': [{'args': {'PageCacheHitRatio': 0.0, 'PageCacheMisses': 0, 'EstimatedRows': 1.0677899723724409, 'DbHits': 0, 'Rows': 1, 'PageCacheHits': 0}, 'pageCacheMisses': 0, 'children': [{'args': {'PageCacheHitRatio': 0.0, 'PageCacheMisses': 0, 'EstimatedRows': 1.0677899723724409, 'DbHits': 0, 'Rows': 1, 'PageCacheHits': 0}, 'pageCacheMisses': 0, 'children': [{'args': {'PageCacheHitRatio': 0.0, 'ExpandExpression': '(new_node)-[  new_edge@1302:edge]->(  suc@1198)', 'PageCacheMisses': 0, 'EstimatedRows': 0.10109254176307132, 'DbHits': 3, 'Rows': 0, 'PageCacheHits': 0}, 'pageCacheMisses': 0, 'children': [{'args': {'PageCacheHitRatio': 0.0, 'PageCacheMisses': 0, 'EstimatedRows': 1.0677899723724409, 'DbHits': 0, 'Rows': 1, 'PageCacheHits': 0}, 'pageCacheMisses': 0, 'children': [], 'dbHits': 0, 'identifiers': ['  suc@1198', 'new_node'], 'operatorType': 'Argument', 'rows': 1, 'pageCacheHitRatio': 0.0, 'pageCacheHits': 0}], 'dbHits': 3, 'identifiers': ['  new_edge@1302', '  suc@1198', 'new_node'], 'operatorType': 'Expand(Into)', 'rows': 0, 'pageCacheHitRatio': 0.0, 'pageCacheHits': 0}], 'dbHits': 0, 'identifiers': ['  new_edge@1302', '  suc@1198', 'new_node'], 'operatorType': 'Optional', 'rows': 1, 'pageCacheHitRatio': 0.0, 'pageCacheHits': 0}, {'args': {'PageCacheHitRatio': 0.0, 'PageCacheMisses': 0, 'EstimatedRows': 1.0677899723724409, 'DbHits': 0, 'Rows': 1, 'PageCacheHits': 0}, 'pageCacheMisses': 0, 'children': [{'args': {'PageCacheHitRatio': 0.0, 'ExpandExpression': '(new_node)-[  new_edge@1302:edge]->(  suc@1198)', 'PageCacheMisses': 0, 'EstimatedRows': 0.10109254176307132, 'DbHits': 3, 'Rows': 0, 'PageCacheHits': 0}, 'pageCacheMisses': 0, 'children': [{'args': {'PageCacheHitRatio': 0.0, 'KeyNames': 'new_node, suc', 'PageCacheMisses': 0, 'EstimatedRows': 1.0677899723724409, 'DbHits': 0, 'Rows': 0, 'PageCacheHits': 0}, 'pageCacheMisses': 0, 'children': [{'args': {'PageCacheHitRatio': 0.0, 'PageCacheMisses': 0, 'EstimatedRows': 1.0677899723724409, 'DbHits': 0, 'Rows': 1, 'PageCacheHits': 0}, 'pageCacheMisses': 0, 'children': [], 'dbHits': 0, 'identifiers': ['  suc@1198', 'new_node'], 'operatorType': 'Argument', 'rows': 1, 'pageCacheHitRatio': 0.0, 'pageCacheHits': 0}], 'dbHits': 0, 'identifiers': ['  suc@1198', 'new_node'], 'operatorType': 'LockNodes', 'rows': 0, 'pageCacheHitRatio': 0.0, 'pageCacheHits': 0}], 'dbHits': 3, 'identifiers': ['  new_edge@1302', '  suc@1198', 'new_node'], 'operatorType': 'Expand(Into)', 'rows': 0, 'pageCacheHitRatio': 0.0, 'pageCacheHits': 0}], 'dbHits': 0, 'identifiers': ['  new_edge@1302', '  suc@1198', 'new_node'], 'operatorType': 'Optional', 'rows': 1, 'pageCacheHitRatio': 0.0, 'pageCacheHits': 0}], 'dbHits': 0, 'identifiers': ['  new_edge@1302', '  suc@1198', 'new_node'], 'operatorType': 'AntiConditionalApply', 'rows': 1, 'pageCacheHitRatio': 0.0, 'pageCacheHits': 0}, {'args': {'PageCacheHitRatio': 0.0, 'PageCacheMisses': 0, 'EstimatedRows': 1.0677899723724409, 'DbHits': 1, 'Rows': 1, 'PageCacheHits': 0}, 'pageCacheMisses': 0, 'children': [{'args': {'PageCacheHitRatio': 0.0, 'PageCacheMisses': 0, 'EstimatedRows': 1.0677899723724409, 'DbHits': 0, 'Rows': 1, 'PageCacheHits': 0}, 'pageCacheMisses': 0, 'children': [], 'dbHits': 0, 'identifiers': ['  suc@1198', 'new_node'], 'operatorType': 'Argument', 'rows': 1, 'pageCacheHitRatio': 0.0, 'pageCacheHits': 0}], 'dbHits': 1, 'identifiers': ['  new_edge@1302', '  suc@1198', 'new_node'], 'operatorType': 'MergeCreateRelationship', 'rows': 1, 'pageCacheHitRatio': 0.0, 'pageCacheHits': 0}], 'dbHits': 0, 'identifiers': ['  new_edge@1302', '  suc@1198', 'new_node'], 'operatorType': 'AntiConditionalApply', 'rows': 1, 'pageCacheHitRatio': 0.0, 'pageCacheHits': 0}], 'dbHits': 6, 'identifiers': ['  new_edge@1302', '  suc@1198', 'new_node'], 'operatorType': 'SetRelationshipPropertyFromMap', 'rows': 1, 'pageCacheHitRatio': 0.0, 'pageCacheHits': 0}], 'dbHits': 0, 'identifiers': ['x', '  uid@1066', 'suc_maps', 'pred_maps', 'new_node', 'suc_map'], 'operatorType': 'Foreach', 'rows': 1, 'pageCacheHitRatio': 0.0, 'pageCacheHits': 0}], 'dbHits': 0, 'identifiers': ['x', '  uid@637', 'original_old', '  uid@1066', 'suc_maps', 'pred_maps', 'new_node'], 'operatorType': 'Foreach', 'rows': 1, 'pageCacheHitRatio': 0.0, 'pageCacheHits': 0}], 'dbHits': 0, 'identifiers': ['x', '  uid@637', 'original_old', '  uid@1066', 'suc_maps', 'pred_maps', 'new_node'], 'operatorType': 'Eager', 'rows': 1, 'pageCacheHitRatio': 0.0, 'pageCacheHits': 0}, {'args': {'PageCacheHitRatio': 0.0, 'PageCacheMisses': 0, 'EstimatedRows': 1.0677899723724409, 'DbHits': 0, 'Rows': 1, 'PageCacheHits': 0}, 'pageCacheMisses': 0, 'children': [{'args': {'PageCacheHitRatio': 0.0, 'PageCacheMisses': 0, 'EstimatedRows': 1.0677899723724409, 'DbHits': 0, 'Rows': 1, 'PageCacheHits': 0}, 'pageCacheMisses': 0, 'children': [], 'dbHits': 0, 'identifiers': ['x', 'pred_map', '  uid@1066', 'suc_maps', 'pred_maps', 'new_node'], 'operatorType': 'Argument', 'rows': 1, 'pageCacheHitRatio': 0.0, 'pageCacheHits': 0}, {'args': {'PageCacheHitRatio': 0.0, 'PageCacheMisses': 0, 'EstimatedRows': 1.0677899723724409, 'DbHits': 0, 'Rows': 0, 'PageCacheHits': 0}, 'pageCacheMisses': 0, 'children': [{'args': {'PageCacheHitRatio': 0.0, 'PageCacheMisses': 0, 'EstimatedRows': 1.0677899723724409, 'DbHits': 0, 'Rows': 0, 'PageCacheHits': 0}, 'pageCacheMisses': 0, 'children': [{'args': {'PageCacheHitRatio': 0.0, 'PageCacheMisses': 0, 'EstimatedRows': 1.0677899723724409, 'DbHits': 0, 'Rows': 1, 'PageCacheHits': 0}, 'pageCacheMisses': 0, 'children': [{'args': {'PageCacheHitRatio': 0.0, 'PageCacheMisses': 0, 'EstimatedRows': 1.0677899723724409, 'DbHits': 0, 'Rows': 0, 'PageCacheHits': 0}, 'pageCacheMisses': 0, 'children': [{'args': {'PageCacheHitRatio': 0.0, 'ExpandExpression': '(  pred@1401)-[  new_edge@1504:edge]->(new_node)', 'PageCacheMisses': 0, 'EstimatedRows': 0.10109254176307132, 'DbHits': 0, 'Rows': 0, 'PageCacheHits': 0}, 'pageCacheMisses': 0, 'children': [{'args': {'PageCacheHitRatio': 0.0, 'PageCacheMisses': 0, 'EstimatedRows': 1.0677899723724409, 'DbHits': 0, 'Rows': 0, 'PageCacheHits': 0}, 'pageCacheMisses': 0, 'children': [], 'dbHits': 0, 'identifiers': ['  pred@1401', 'new_node'], 'operatorType': 'Argument', 'rows': 0, 'pageCacheHitRatio': 0.0, 'pageCacheHits': 0}], 'dbHits': 0, 'identifiers': ['  new_edge@1504', '  pred@1401', 'new_node'], 'operatorType': 'Expand(Into)', 'rows': 0, 'pageCacheHitRatio': 0.0, 'pageCacheHits': 0}], 'dbHits': 0, 'identifiers': ['  new_edge@1504', '  pred@1401', 'new_node'], 'operatorType': 'Optional', 'rows': 0, 'pageCacheHitRatio': 0.0, 'pageCacheHits': 0}, {'args': {'PageCacheHitRatio': 0.0, 'PageCacheMisses': 0, 'EstimatedRows': 1.0677899723724409, 'DbHits': 0, 'Rows': 0, 'PageCacheHits': 0}, 'pageCacheMisses': 0, 'children': [{'args': {'PageCacheHitRatio': 0.0, 'ExpandExpression': '(  pred@1401)-[  new_edge@1504:edge]->(new_node)', 'PageCacheMisses': 0, 'EstimatedRows': 0.10109254176307132, 'DbHits': 0, 'Rows': 0, 'PageCacheHits': 0}, 'pageCacheMisses': 0, 'children': [{'args': {'PageCacheHitRatio': 0.0, 'KeyNames': 'pred, new_node', 'PageCacheMisses': 0, 'EstimatedRows': 1.0677899723724409, 'DbHits': 0, 'Rows': 0, 'PageCacheHits': 0}, 'pageCacheMisses': 0, 'children': [{'args': {'PageCacheHitRatio': 0.0, 'PageCacheMisses': 0, 'EstimatedRows': 1.0677899723724409, 'DbHits': 0, 'Rows': 0, 'PageCacheHits': 0}, 'pageCacheMisses': 0, 'children': [], 'dbHits': 0, 'identifiers': ['  pred@1401', 'new_node'], 'operatorType': 'Argument', 'rows': 0, 'pageCacheHitRatio': 0.0, 'pageCacheHits': 0}], 'dbHits': 0, 'identifiers': ['  pred@1401', 'new_node'], 'operatorType': 'LockNodes', 'rows': 0, 'pageCacheHitRatio': 0.0, 'pageCacheHits': 0}], 'dbHits': 0, 'identifiers': ['  new_edge@1504', '  pred@1401', 'new_node'], 'operatorType': 'Expand(Into)', 'rows': 0, 'pageCacheHitRatio': 0.0, 'pageCacheHits': 0}], 'dbHits': 0, 'identifiers': ['  new_edge@1504', '  pred@1401', 'new_node'], 'operatorType': 'Optional', 'rows': 0, 'pageCacheHitRatio': 0.0, 'pageCacheHits': 0}], 'dbHits': 0, 'identifiers': ['  new_edge@1504', '  pred@1401', 'new_node'], 'operatorType': 'AntiConditionalApply', 'rows': 1, 'pageCacheHitRatio': 0.0, 'pageCacheHits': 0}, {'args': {'PageCacheHitRatio': 0.0, 'PageCacheMisses': 0, 'EstimatedRows': 1.0677899723724409, 'DbHits': 0, 'Rows': 0, 'PageCacheHits': 0}, 'pageCacheMisses': 0, 'children': [{'args': {'PageCacheHitRatio': 0.0, 'PageCacheMisses': 0, 'EstimatedRows': 1.0677899723724409, 'DbHits': 0, 'Rows': 0, 'PageCacheHits': 0}, 'pageCacheMisses': 0, 'children': [], 'dbHits': 0, 'identifiers': ['  pred@1401', 'new_node'], 'operatorType': 'Argument', 'rows': 0, 'pageCacheHitRatio': 0.0, 'pageCacheHits': 0}], 'dbHits': 0, 'identifiers': ['  new_edge@1504', '  pred@1401', 'new_node'], 'operatorType': 'MergeCreateRelationship', 'rows': 0, 'pageCacheHitRatio': 0.0, 'pageCacheHits': 0}], 'dbHits': 0, 'identifiers': ['  new_edge@1504', '  pred@1401', 'new_node'], 'operatorType': 'AntiConditionalApply', 'rows': 0, 'pageCacheHitRatio': 0.0, 'pageCacheHits': 0}], 'dbHits': 0, 'identifiers': ['  new_edge@1504', '  pred@1401', 'new_node'], 'operatorType': 'SetRelationshipPropertyFromMap', 'rows': 0, 'pageCacheHitRatio': 0.0, 'pageCacheHits': 0}], 'dbHits': 0, 'identifiers': ['x', 'pred_map', '  uid@1066', 'suc_maps', 'pred_maps', 'new_node'], 'operatorType': 'Foreach', 'rows': 1, 'pageCacheHitRatio': 0.0, 'pageCacheHits': 0}], 'dbHits': 0, 'identifiers': ['x', '  uid@637', 'original_old', '  uid@1066', 'suc_maps', 'pred_maps', 'new_node'], 'operatorType': 'Foreach', 'rows': 1, 'pageCacheHitRatio': 0.0, 'pageCacheHits': 0}], 'dbHits': 0, 'identifiers': ['x', '  uid@637', 'original_old', '  uid@1066', 'suc_maps', 'pred_maps', 'new_node', 'uid'], 'operatorType': 'Projection', 'rows': 1, 'pageCacheHitRatio': 0.0, 'pageCacheHits': 0}], 'dbHits': 0, 'identifiers': ['x', '  uid@637', 'original_old', '  uid@1066', 'suc_maps', 'pred_maps', 'new_node', 'uid'], 'operatorType': 'ProduceResults', 'rows': 1, 'pageCacheHitRatio': 0.0, 'pageCacheHits': 0}\n"
     ]
    }
   ],
   "source": [
    "print(res.metadata[\"profile\"])"
   ]
  },
  {
   "cell_type": "code",
   "execution_count": 12,
   "metadata": {},
   "outputs": [
    {
     "name": "stdout",
     "output_type": "stream",
     "text": [
      "ProduceResults\n",
      "['x', '  uid@637', 'original_old', '  uid@1066', 'suc_maps', 'pred_maps', 'new_node', 'uid']\n",
      "{'PageCacheHitRatio': 0.0, 'planner-impl': 'IDP', 'runtime': 'INTERPRETED', 'runtime-impl': 'INTERPRETED', 'PageCacheMisses': 0, 'version': 'CYPHER 3.3', 'EstimatedRows': 1.0677899723724409, 'planner': 'COST', 'DbHits': 0, 'Rows': 1, 'PageCacheHits': 0}\n",
      "[ProfiledPlan(operator_type='Projection', identifiers=['x', '  uid@637', 'original_old', '  uid@1066', 'suc_maps', 'pred_maps', 'new_node', 'uid'], arguments={'PageCacheHitRatio': 0.0, 'Expressions': '{uid :   uid@1066}', 'PageCacheMisses': 0, 'EstimatedRows': 1.0677899723724409, 'DbHits': 0, 'Rows': 1, 'PageCacheHits': 0}, children=[ProfiledPlan(operator_type='Foreach', identifiers=['x', '  uid@637', 'original_old', '  uid@1066', 'suc_maps', 'pred_maps', 'new_node'], arguments={'PageCacheHitRatio': 0.0, 'PageCacheMisses': 0, 'EstimatedRows': 1.0677899723724409, 'DbHits': 0, 'Rows': 1, 'PageCacheHits': 0}, children=[ProfiledPlan(operator_type='Eager', identifiers=['x', '  uid@637', 'original_old', '  uid@1066', 'suc_maps', 'pred_maps', 'new_node'], arguments={'PageCacheHitRatio': 0.0, 'PageCacheMisses': 0, 'EstimatedRows': 1.0677899723724409, 'DbHits': 0, 'Rows': 1, 'PageCacheHits': 0}, children=[ProfiledPlan(operator_type='Foreach', identifiers=['x', '  uid@637', 'original_old', '  uid@1066', 'suc_maps', 'pred_maps', 'new_node'], arguments={'PageCacheHitRatio': 0.0, 'PageCacheMisses': 0, 'EstimatedRows': 1.0677899723724409, 'DbHits': 0, 'Rows': 1, 'PageCacheHits': 0}, children=[ProfiledPlan(operator_type='Projection', identifiers=['x', '  uid@637', 'original_old', '  uid@1066', 'suc_maps', 'pred_maps', 'new_node'], arguments={'PageCacheHitRatio': 0.0, 'Expressions': '{x : x,   uid@1066 : toString(id(new_node)), suc_maps : suc_maps, pred_maps : pred_maps, new_node : new_node}', 'PageCacheMisses': 0, 'EstimatedRows': 1.0677899723724409, 'DbHits': 0, 'Rows': 1, 'PageCacheHits': 0}, children=[ProfiledPlan(operator_type='Eager', identifiers=['x', '  uid@637', 'original_old', 'suc_maps', 'pred_maps', 'new_node'], arguments={'PageCacheHitRatio': 0.0, 'PageCacheMisses': 0, 'EstimatedRows': 1.0677899723724409, 'DbHits': 0, 'Rows': 1, 'PageCacheHits': 0}, children=[ProfiledPlan(operator_type='SetProperty', identifiers=['x', '  uid@637', 'original_old', 'suc_maps', 'pred_maps', 'new_node'], arguments={'PageCacheHitRatio': 0.0, 'PageCacheMisses': 0, 'EstimatedRows': 1.0677899723724409, 'DbHits': 1, 'Rows': 1, 'PageCacheHits': 0}, children=[ProfiledPlan(operator_type='SetProperty', identifiers=['x', '  uid@637', 'original_old', 'suc_maps', 'pred_maps', 'new_node'], arguments={'PageCacheHitRatio': 0.0, 'PageCacheMisses': 0, 'EstimatedRows': 1.0677899723724409, 'DbHits': 1, 'Rows': 1, 'PageCacheHits': 0}, children=[ProfiledPlan(operator_type='SetProperty', identifiers=['x', '  uid@637', 'original_old', 'suc_maps', 'pred_maps', 'new_node'], arguments={'PageCacheHitRatio': 0.0, 'PageCacheMisses': 0, 'EstimatedRows': 1.0677899723724409, 'DbHits': 1, 'Rows': 1, 'PageCacheHits': 0}, children=[ProfiledPlan(operator_type='SetNodePropertyFromMap', identifiers=['x', '  uid@637', 'original_old', 'suc_maps', 'pred_maps', 'new_node'], arguments={'PageCacheHitRatio': 0.0, 'PageCacheMisses': 0, 'EstimatedRows': 1.0677899723724409, 'DbHits': 10, 'Rows': 1, 'PageCacheHits': 0}, children=[ProfiledPlan(operator_type='SetProperty', identifiers=['x', '  uid@637', 'original_old', 'suc_maps', 'pred_maps', 'new_node'], arguments={'PageCacheHitRatio': 0.0, 'PageCacheMisses': 0, 'EstimatedRows': 1.0677899723724409, 'DbHits': 2, 'Rows': 1, 'PageCacheHits': 0}, children=[ProfiledPlan(operator_type='Eager', identifiers=['x', '  uid@637', 'original_old', 'suc_maps', 'pred_maps', 'new_node'], arguments={'PageCacheHitRatio': 0.0, 'PageCacheMisses': 0, 'EstimatedRows': 1.0677899723724409, 'DbHits': 0, 'Rows': 1, 'PageCacheHits': 0}, children=[ProfiledPlan(operator_type='Projection', identifiers=['x', '  uid@637', 'original_old', 'suc_maps', 'pred_maps', 'new_node'], arguments={'PageCacheHitRatio': 0.0, 'Expressions': '{x : x,   uid@637 : toString(id(new_node)), original_old : x.id, suc_maps : suc_maps, pred_maps : pred_maps, new_node : new_node}', 'PageCacheMisses': 0, 'EstimatedRows': 1.0677899723724409, 'DbHits': 1, 'Rows': 1, 'PageCacheHits': 0}, children=[ProfiledPlan(operator_type='Eager', identifiers=['new_node', 'pred_maps', 'suc_maps', 'x'], arguments={'PageCacheHitRatio': 0.0, 'PageCacheMisses': 0, 'EstimatedRows': 1.0677899723724409, 'DbHits': 0, 'Rows': 1, 'PageCacheHits': 0}, children=[ProfiledPlan(operator_type='CreateNode', identifiers=['new_node', 'pred_maps', 'suc_maps', 'x'], arguments={'PageCacheHitRatio': 0.0, 'PageCacheMisses': 0, 'EstimatedRows': 1.0677899723724409, 'DbHits': 2, 'Rows': 1, 'PageCacheHits': 0}, children=[ProfiledPlan(operator_type='EagerAggregation', identifiers=['pred_maps', 'suc_maps', 'x'], arguments={'PageCacheHitRatio': 0.0, 'KeyNames': 'x, suc_maps', 'PageCacheMisses': 0, 'EstimatedRows': 1.0677899723724409, 'DbHits': 0, 'Rows': 1, 'PageCacheHits': 0}, children=[ProfiledPlan(operator_type='Eager', identifiers=['x', 'predIgnore', '  pred@372', 'in_edge', 'suc_maps'], arguments={'PageCacheHitRatio': 0.0, 'PageCacheMisses': 0, 'EstimatedRows': 1.140175425099138, 'DbHits': 0, 'Rows': 1, 'PageCacheHits': 0}, children=[ProfiledPlan(operator_type='Apply', identifiers=['x', 'predIgnore', '  pred@372', 'in_edge', 'suc_maps'], arguments={'PageCacheHitRatio': 0.0, 'PageCacheMisses': 0, 'EstimatedRows': 1.140175425099138, 'DbHits': 0, 'Rows': 1, 'PageCacheHits': 0}, children=[ProfiledPlan(operator_type='EagerAggregation', identifiers=['predIgnore', 'suc_maps', 'x'], arguments={'PageCacheHitRatio': 0.0, 'KeyNames': 'predIgnore, x', 'PageCacheMisses': 0, 'EstimatedRows': 1.140175425099138, 'DbHits': 0, 'Rows': 1, 'PageCacheHits': 0}, children=[ProfiledPlan(operator_type='Eager', identifiers=['x', 'sucIgnore', 'predIgnore', 'out_edge', '  suc@165'], arguments={'PageCacheHitRatio': 0.0, 'PageCacheMisses': 0, 'EstimatedRows': 1.3, 'DbHits': 0, 'Rows': 1, 'PageCacheHits': 0}, children=[ProfiledPlan(operator_type='Apply', identifiers=['x', 'sucIgnore', 'predIgnore', 'out_edge', '  suc@165'], arguments={'PageCacheHitRatio': 0.0, 'PageCacheMisses': 0, 'EstimatedRows': 1.3, 'DbHits': 0, 'Rows': 1, 'PageCacheHits': 0}, children=[ProfiledPlan(operator_type='Projection', identifiers=['predIgnore', 'sucIgnore', 'x'], arguments={'PageCacheHitRatio': 0.0, 'Expressions': '{sucIgnore : {  AUTOLIST1}, predIgnore : {  AUTOLIST2}, x : x}', 'PageCacheMisses': 0, 'EstimatedRows': 1.3, 'DbHits': 0, 'Rows': 1, 'PageCacheHits': 0}, children=[ProfiledPlan(operator_type='Filter', identifiers=['x'], arguments={'PageCacheHitRatio': 0.0, 'Expression': 'x.id = {  AUTOSTRING0}', 'PageCacheMisses': 0, 'EstimatedRows': 1.3, 'DbHits': 14, 'Rows': 1, 'PageCacheHits': 0}, children=[ProfiledPlan(operator_type='NodeByLabelScan', identifiers=['x'], arguments={'PageCacheHitRatio': 0.0, 'LabelName': ':node', 'PageCacheMisses': 0, 'EstimatedRows': 13.0, 'DbHits': 15, 'Rows': 14, 'PageCacheHits': 0}, children=[], db_hits=15, rows=14)], db_hits=14, rows=1)], db_hits=0, rows=1), ProfiledPlan(operator_type='Optional', identifiers=['  suc@165', 'out_edge', 'sucIgnore', 'x'], arguments={'PageCacheHitRatio': 0.0, 'PageCacheMisses': 0, 'EstimatedRows': 1.3, 'DbHits': 0, 'Rows': 1, 'PageCacheHits': 0}, children=[ProfiledPlan(operator_type='Filter', identifiers=['  suc@165', 'out_edge', 'sucIgnore', 'x'], arguments={'PageCacheHitRatio': 0.0, 'Expression': 'NOT(IS NULL(suc.id))', 'PageCacheMisses': 0, 'EstimatedRows': 0.028715919507674142, 'DbHits': 1, 'Rows': 1, 'PageCacheHits': 0}, children=[ProfiledPlan(operator_type='Expand(All)', identifiers=['  suc@165', 'out_edge', 'sucIgnore', 'x'], arguments={'PageCacheHitRatio': 0.0, 'ExpandExpression': '(x)-[out_edge:edge]->(  suc@165)', 'PageCacheMisses': 0, 'EstimatedRows': 1.6, 'DbHits': 2, 'Rows': 1, 'PageCacheHits': 0}, children=[ProfiledPlan(operator_type='Argument', identifiers=['sucIgnore', 'x'], arguments={'PageCacheHitRatio': 0.0, 'PageCacheMisses': 0, 'EstimatedRows': 1.3, 'DbHits': 0, 'Rows': 1, 'PageCacheHits': 0}, children=[], db_hits=0, rows=1)], db_hits=2, rows=1)], db_hits=1, rows=1)], db_hits=0, rows=1)], db_hits=0, rows=1)], db_hits=0, rows=1)], db_hits=0, rows=1), ProfiledPlan(operator_type='Optional', identifiers=['  pred@372', 'in_edge', 'predIgnore', 'x'], arguments={'PageCacheHitRatio': 0.0, 'PageCacheMisses': 0, 'EstimatedRows': 1.140175425099138, 'DbHits': 0, 'Rows': 1, 'PageCacheHits': 0}, children=[ProfiledPlan(operator_type='Filter', identifiers=['  pred@372', 'in_edge', 'predIgnore', 'x'], arguments={'PageCacheHitRatio': 0.0, 'Expression': 'NOT(IS NULL(pred.id))', 'PageCacheMisses': 0, 'EstimatedRows': 0.025185527485980762, 'DbHits': 0, 'Rows': 0, 'PageCacheHits': 0}, children=[ProfiledPlan(operator_type='Expand(All)', identifiers=['  pred@372', 'in_edge', 'predIgnore', 'x'], arguments={'PageCacheHitRatio': 0.0, 'ExpandExpression': '(x)<-[in_edge:edge]-(  pred@372)', 'PageCacheMisses': 0, 'EstimatedRows': 1.403292830891247, 'DbHits': 1, 'Rows': 0, 'PageCacheHits': 0}, children=[ProfiledPlan(operator_type='Argument', identifiers=['predIgnore', 'x'], arguments={'PageCacheHitRatio': 0.0, 'PageCacheMisses': 0, 'EstimatedRows': 1.140175425099138, 'DbHits': 0, 'Rows': 1, 'PageCacheHits': 0}, children=[], db_hits=0, rows=1)], db_hits=1, rows=0)], db_hits=0, rows=0)], db_hits=0, rows=1)], db_hits=0, rows=1)], db_hits=0, rows=1)], db_hits=0, rows=1)], db_hits=2, rows=1)], db_hits=0, rows=1)], db_hits=1, rows=1)], db_hits=0, rows=1)], db_hits=2, rows=1)], db_hits=10, rows=1)], db_hits=1, rows=1)], db_hits=1, rows=1)], db_hits=1, rows=1)], db_hits=0, rows=1)], db_hits=0, rows=1), ProfiledPlan(operator_type='Foreach', identifiers=['x', '  uid@1066', 'suc_maps', 'pred_maps', 'new_node', 'suc_map'], arguments={'PageCacheHitRatio': 0.0, 'PageCacheMisses': 0, 'EstimatedRows': 1.0677899723724409, 'DbHits': 0, 'Rows': 1, 'PageCacheHits': 0}, children=[ProfiledPlan(operator_type='Argument', identifiers=['x', '  uid@1066', 'suc_maps', 'pred_maps', 'new_node', 'suc_map'], arguments={'PageCacheHitRatio': 0.0, 'PageCacheMisses': 0, 'EstimatedRows': 1.0677899723724409, 'DbHits': 0, 'Rows': 1, 'PageCacheHits': 0}, children=[], db_hits=0, rows=1), ProfiledPlan(operator_type='SetRelationshipPropertyFromMap', identifiers=['  new_edge@1302', '  suc@1198', 'new_node'], arguments={'PageCacheHitRatio': 0.0, 'PageCacheMisses': 0, 'EstimatedRows': 1.0677899723724409, 'DbHits': 6, 'Rows': 1, 'PageCacheHits': 0}, children=[ProfiledPlan(operator_type='AntiConditionalApply', identifiers=['  new_edge@1302', '  suc@1198', 'new_node'], arguments={'PageCacheHitRatio': 0.0, 'PageCacheMisses': 0, 'EstimatedRows': 1.0677899723724409, 'DbHits': 0, 'Rows': 1, 'PageCacheHits': 0}, children=[ProfiledPlan(operator_type='AntiConditionalApply', identifiers=['  new_edge@1302', '  suc@1198', 'new_node'], arguments={'PageCacheHitRatio': 0.0, 'PageCacheMisses': 0, 'EstimatedRows': 1.0677899723724409, 'DbHits': 0, 'Rows': 1, 'PageCacheHits': 0}, children=[ProfiledPlan(operator_type='Optional', identifiers=['  new_edge@1302', '  suc@1198', 'new_node'], arguments={'PageCacheHitRatio': 0.0, 'PageCacheMisses': 0, 'EstimatedRows': 1.0677899723724409, 'DbHits': 0, 'Rows': 1, 'PageCacheHits': 0}, children=[ProfiledPlan(operator_type='Expand(Into)', identifiers=['  new_edge@1302', '  suc@1198', 'new_node'], arguments={'PageCacheHitRatio': 0.0, 'ExpandExpression': '(new_node)-[  new_edge@1302:edge]->(  suc@1198)', 'PageCacheMisses': 0, 'EstimatedRows': 0.10109254176307132, 'DbHits': 7, 'Rows': 0, 'PageCacheHits': 0}, children=[ProfiledPlan(operator_type='Argument', identifiers=['  suc@1198', 'new_node'], arguments={'PageCacheHitRatio': 0.0, 'PageCacheMisses': 0, 'EstimatedRows': 1.0677899723724409, 'DbHits': 0, 'Rows': 1, 'PageCacheHits': 0}, children=[], db_hits=0, rows=1)], db_hits=7, rows=0)], db_hits=0, rows=1), ProfiledPlan(operator_type='Optional', identifiers=['  new_edge@1302', '  suc@1198', 'new_node'], arguments={'PageCacheHitRatio': 0.0, 'PageCacheMisses': 0, 'EstimatedRows': 1.0677899723724409, 'DbHits': 0, 'Rows': 1, 'PageCacheHits': 0}, children=[ProfiledPlan(operator_type='Expand(Into)', identifiers=['  new_edge@1302', '  suc@1198', 'new_node'], arguments={'PageCacheHitRatio': 0.0, 'ExpandExpression': '(new_node)-[  new_edge@1302:edge]->(  suc@1198)', 'PageCacheMisses': 0, 'EstimatedRows': 0.10109254176307132, 'DbHits': 7, 'Rows': 0, 'PageCacheHits': 0}, children=[ProfiledPlan(operator_type='LockNodes', identifiers=['  suc@1198', 'new_node'], arguments={'PageCacheHitRatio': 0.0, 'KeyNames': 'new_node, suc', 'PageCacheMisses': 0, 'EstimatedRows': 1.0677899723724409, 'DbHits': 0, 'Rows': 0, 'PageCacheHits': 0}, children=[ProfiledPlan(operator_type='Argument', identifiers=['  suc@1198', 'new_node'], arguments={'PageCacheHitRatio': 0.0, 'PageCacheMisses': 0, 'EstimatedRows': 1.0677899723724409, 'DbHits': 0, 'Rows': 1, 'PageCacheHits': 0}, children=[], db_hits=0, rows=1)], db_hits=0, rows=0)], db_hits=7, rows=0)], db_hits=0, rows=1)], db_hits=0, rows=1), ProfiledPlan(operator_type='MergeCreateRelationship', identifiers=['  new_edge@1302', '  suc@1198', 'new_node'], arguments={'PageCacheHitRatio': 0.0, 'PageCacheMisses': 0, 'EstimatedRows': 1.0677899723724409, 'DbHits': 1, 'Rows': 1, 'PageCacheHits': 0}, children=[ProfiledPlan(operator_type='Argument', identifiers=['  suc@1198', 'new_node'], arguments={'PageCacheHitRatio': 0.0, 'PageCacheMisses': 0, 'EstimatedRows': 1.0677899723724409, 'DbHits': 0, 'Rows': 1, 'PageCacheHits': 0}, children=[], db_hits=0, rows=1)], db_hits=1, rows=1)], db_hits=0, rows=1)], db_hits=6, rows=1)], db_hits=0, rows=1)], db_hits=0, rows=1)], db_hits=0, rows=1), ProfiledPlan(operator_type='Foreach', identifiers=['x', 'pred_map', '  uid@1066', 'suc_maps', 'pred_maps', 'new_node'], arguments={'PageCacheHitRatio': 0.0, 'PageCacheMisses': 0, 'EstimatedRows': 1.0677899723724409, 'DbHits': 0, 'Rows': 1, 'PageCacheHits': 0}, children=[ProfiledPlan(operator_type='Argument', identifiers=['x', 'pred_map', '  uid@1066', 'suc_maps', 'pred_maps', 'new_node'], arguments={'PageCacheHitRatio': 0.0, 'PageCacheMisses': 0, 'EstimatedRows': 1.0677899723724409, 'DbHits': 0, 'Rows': 1, 'PageCacheHits': 0}, children=[], db_hits=0, rows=1), ProfiledPlan(operator_type='SetRelationshipPropertyFromMap', identifiers=['  new_edge@1504', '  pred@1401', 'new_node'], arguments={'PageCacheHitRatio': 0.0, 'PageCacheMisses': 0, 'EstimatedRows': 1.0677899723724409, 'DbHits': 0, 'Rows': 0, 'PageCacheHits': 0}, children=[ProfiledPlan(operator_type='AntiConditionalApply', identifiers=['  new_edge@1504', '  pred@1401', 'new_node'], arguments={'PageCacheHitRatio': 0.0, 'PageCacheMisses': 0, 'EstimatedRows': 1.0677899723724409, 'DbHits': 0, 'Rows': 0, 'PageCacheHits': 0}, children=[ProfiledPlan(operator_type='AntiConditionalApply', identifiers=['  new_edge@1504', '  pred@1401', 'new_node'], arguments={'PageCacheHitRatio': 0.0, 'PageCacheMisses': 0, 'EstimatedRows': 1.0677899723724409, 'DbHits': 0, 'Rows': 1, 'PageCacheHits': 0}, children=[ProfiledPlan(operator_type='Optional', identifiers=['  new_edge@1504', '  pred@1401', 'new_node'], arguments={'PageCacheHitRatio': 0.0, 'PageCacheMisses': 0, 'EstimatedRows': 1.0677899723724409, 'DbHits': 0, 'Rows': 0, 'PageCacheHits': 0}, children=[ProfiledPlan(operator_type='Expand(Into)', identifiers=['  new_edge@1504', '  pred@1401', 'new_node'], arguments={'PageCacheHitRatio': 0.0, 'ExpandExpression': '(  pred@1401)-[  new_edge@1504:edge]->(new_node)', 'PageCacheMisses': 0, 'EstimatedRows': 0.10109254176307132, 'DbHits': 0, 'Rows': 0, 'PageCacheHits': 0}, children=[ProfiledPlan(operator_type='Argument', identifiers=['  pred@1401', 'new_node'], arguments={'PageCacheHitRatio': 0.0, 'PageCacheMisses': 0, 'EstimatedRows': 1.0677899723724409, 'DbHits': 0, 'Rows': 0, 'PageCacheHits': 0}, children=[], db_hits=0, rows=0)], db_hits=0, rows=0)], db_hits=0, rows=0), ProfiledPlan(operator_type='Optional', identifiers=['  new_edge@1504', '  pred@1401', 'new_node'], arguments={'PageCacheHitRatio': 0.0, 'PageCacheMisses': 0, 'EstimatedRows': 1.0677899723724409, 'DbHits': 0, 'Rows': 0, 'PageCacheHits': 0}, children=[ProfiledPlan(operator_type='Expand(Into)', identifiers=['  new_edge@1504', '  pred@1401', 'new_node'], arguments={'PageCacheHitRatio': 0.0, 'ExpandExpression': '(  pred@1401)-[  new_edge@1504:edge]->(new_node)', 'PageCacheMisses': 0, 'EstimatedRows': 0.10109254176307132, 'DbHits': 0, 'Rows': 0, 'PageCacheHits': 0}, children=[ProfiledPlan(operator_type='LockNodes', identifiers=['  pred@1401', 'new_node'], arguments={'PageCacheHitRatio': 0.0, 'KeyNames': 'pred, new_node', 'PageCacheMisses': 0, 'EstimatedRows': 1.0677899723724409, 'DbHits': 0, 'Rows': 0, 'PageCacheHits': 0}, children=[ProfiledPlan(operator_type='Argument', identifiers=['  pred@1401', 'new_node'], arguments={'PageCacheHitRatio': 0.0, 'PageCacheMisses': 0, 'EstimatedRows': 1.0677899723724409, 'DbHits': 0, 'Rows': 0, 'PageCacheHits': 0}, children=[], db_hits=0, rows=0)], db_hits=0, rows=0)], db_hits=0, rows=0)], db_hits=0, rows=0)], db_hits=0, rows=1), ProfiledPlan(operator_type='MergeCreateRelationship', identifiers=['  new_edge@1504', '  pred@1401', 'new_node'], arguments={'PageCacheHitRatio': 0.0, 'PageCacheMisses': 0, 'EstimatedRows': 1.0677899723724409, 'DbHits': 0, 'Rows': 0, 'PageCacheHits': 0}, children=[ProfiledPlan(operator_type='Argument', identifiers=['  pred@1401', 'new_node'], arguments={'PageCacheHitRatio': 0.0, 'PageCacheMisses': 0, 'EstimatedRows': 1.0677899723724409, 'DbHits': 0, 'Rows': 0, 'PageCacheHits': 0}, children=[], db_hits=0, rows=0)], db_hits=0, rows=0)], db_hits=0, rows=0)], db_hits=0, rows=0)], db_hits=0, rows=1)], db_hits=0, rows=1)], db_hits=0, rows=1)]\n",
      "0\n",
      "1\n"
     ]
    }
   ],
   "source": [
    "for p in res.profile:\n",
    "    print(p)"
   ]
  },
  {
   "cell_type": "code",
   "execution_count": 23,
   "metadata": {},
   "outputs": [
    {
     "name": "stdout",
     "output_type": "stream",
     "text": [
      "0\n",
      "0\n",
      "0\n",
      "0\n",
      "0\n",
      "0\n",
      "0\n",
      "1\n",
      "1\n",
      "1\n",
      "10\n",
      "2\n",
      "0\n",
      "1\n",
      "0\n",
      "2\n",
      "0\n",
      "0\n",
      "0\n",
      "0\n",
      "0\n",
      "0\n",
      "0\n",
      "13\n",
      "14\n"
     ]
    },
    {
     "data": {
      "text/plain": [
       "45"
      ]
     },
     "execution_count": 23,
     "metadata": {},
     "output_type": "execute_result"
    }
   ],
   "source": [
    "number_of_DbHits(res.profile)"
   ]
  },
  {
   "cell_type": "code",
   "execution_count": null,
   "metadata": {},
   "outputs": [],
   "source": []
  },
  {
   "cell_type": "markdown",
   "metadata": {},
   "source": [
    "#### Time to match a node with its id"
   ]
  },
  {
   "cell_type": "code",
   "execution_count": null,
   "metadata": {},
   "outputs": [],
   "source": [
    "node = \"a\"\n",
    "query = match_node(node, node) + return_vars(node)\n",
    "print(g.execution_time(query))"
   ]
  },
  {
   "cell_type": "markdown",
   "metadata": {},
   "source": [
    "#### Time to add a node"
   ]
  },
  {
   "cell_type": "code",
   "execution_count": null,
   "metadata": {},
   "outputs": [],
   "source": [
    "node = \"x\"\n",
    "attrs = {\"act\": {1}}\n",
    "normalize_attrs(attrs)\n",
    "query = create_node(node, node, 'new_id', attrs)[0]\n",
    "print(g.execution_time(query))"
   ]
  },
  {
   "cell_type": "markdown",
   "metadata": {},
   "source": [
    "#### Time to remove a node"
   ]
  },
  {
   "cell_type": "code",
   "execution_count": null,
   "metadata": {},
   "outputs": [],
   "source": [
    "node = \"x\"\n",
    "query = match_node(node, node) + delete_nodes_var(node)\n",
    "print(g.execution_time(query))"
   ]
  },
  {
   "cell_type": "markdown",
   "metadata": {},
   "source": [
    "#### Time to add an edge"
   ]
  },
  {
   "cell_type": "code",
   "execution_count": null,
   "metadata": {},
   "outputs": [],
   "source": [
    "source = \"a\"\n",
    "target = \"c\"\n",
    "attrs = {\"act\": {1}}\n",
    "normalize_attrs(attrs)\n",
    "query = match_nodes({\n",
    "            source: source,\n",
    "            target: target\n",
    "        })\n",
    "query += create_edge(source, target, attrs)\n",
    "print(g.execution_time(query))"
   ]
  },
  {
   "cell_type": "markdown",
   "metadata": {},
   "source": [
    "#### Time to delete an edge"
   ]
  },
  {
   "cell_type": "code",
   "execution_count": null,
   "metadata": {},
   "outputs": [],
   "source": [
    "source = \"a\"\n",
    "target = \"c\"\n",
    "query = match_edge(source, target, source, target, 'r') \n",
    "query += delete_edge_var('r')\n",
    "print(g.execution_time(query))"
   ]
  },
  {
   "cell_type": "markdown",
   "metadata": {},
   "source": [
    "#### Time to clone a node"
   ]
  },
  {
   "cell_type": "code",
   "execution_count": null,
   "metadata": {},
   "outputs": [],
   "source": [
    "node = \"a\"\n",
    "clone = \"a_clone\"\n",
    "query =\\\n",
    "            match_node('x', node) +\\\n",
    "            cloning_query(\n",
    "                original_var='x',\n",
    "                clone_var='new_node',\n",
    "                clone_id=clone,\n",
    "                clone_id_var='uid')[0] +\\\n",
    "            return_vars(['uid'])\n",
    "print(g.execution_time(query))"
   ]
  },
  {
   "cell_type": "code",
   "execution_count": null,
   "metadata": {},
   "outputs": [],
   "source": []
  },
  {
   "cell_type": "code",
   "execution_count": null,
   "metadata": {},
   "outputs": [],
   "source": []
  },
  {
   "cell_type": "code",
   "execution_count": null,
   "metadata": {},
   "outputs": [],
   "source": []
  },
  {
   "cell_type": "code",
   "execution_count": null,
   "metadata": {},
   "outputs": [],
   "source": []
  },
  {
   "cell_type": "code",
   "execution_count": null,
   "metadata": {},
   "outputs": [],
   "source": []
  },
  {
   "cell_type": "code",
   "execution_count": null,
   "metadata": {},
   "outputs": [],
   "source": []
  }
 ],
 "metadata": {
  "kernelspec": {
   "display_name": "Python 3",
   "language": "python",
   "name": "python3"
  },
  "language_info": {
   "codemirror_mode": {
    "name": "ipython",
    "version": 3
   },
   "file_extension": ".py",
   "mimetype": "text/x-python",
   "name": "python",
   "nbconvert_exporter": "python",
   "pygments_lexer": "ipython3",
   "version": "3.6.5"
  }
 },
 "nbformat": 4,
 "nbformat_minor": 2
}
