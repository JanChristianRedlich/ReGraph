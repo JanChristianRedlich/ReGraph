{
 "cells": [
  {
   "cell_type": "code",
   "execution_count": 1,
   "metadata": {},
   "outputs": [],
   "source": [
    "import networkx as nx\n",
    "\n",
    "from regraph import Rule, plot_rule\n",
    "from regraph.default.utils import keys_by_value, normalize_attrs\n",
    "from regraph.neo4j.graphs import Neo4jGraph\n",
    "from regraph.neo4j.cypher_utils import *"
   ]
  },
  {
   "cell_type": "code",
   "execution_count": 2,
   "metadata": {},
   "outputs": [],
   "source": [
    "# initialize the neo4j driver, wrappped into Neo4jGraph object\n",
    "g = Neo4jGraph(uri=\"bolt://localhost:7687\", user=\"neo4j\", password=\"admin\")"
   ]
  },
  {
   "cell_type": "code",
   "execution_count": 3,
   "metadata": {},
   "outputs": [],
   "source": [
    "# here we clear the db\n",
    "res = g.clear()"
   ]
  },
  {
   "cell_type": "code",
   "execution_count": 4,
   "metadata": {},
   "outputs": [],
   "source": [
    "nodes = [\n",
    "    (\"a\", {\"name\": \"EGFR\", \"state\": \"p\"}),\n",
    "    (\"b\", {\"name\": \"BND\"}),\n",
    "    (\"c\", {\"name\": \"Grb2\", \"aa\": \"S\", \"loc\": 90}),\n",
    "    (\"d\", {\"name\": \"SH2\"}),\n",
    "    (\"e\", {\"name\": \"EGFR\"}),\n",
    "    (\"f\", {\"name\": \"BND\"}),\n",
    "    (\"g\", {\"name\": \"Grb2\"}),\n",
    "    (\"h\", {\"name\": \"WAF1\"}),\n",
    "    (\"i\", {\"name\": \"BND\"}),\n",
    "    (\"j\", {\"name\": \"G1-S/CDK\", \"state\": \"p\"}),\n",
    "    \"k\", \"l\", \"m\"\n",
    "    ]\n",
    "edges = [\n",
    "    (\"a\", \"b\", {\"s\": \"p\"}),\n",
    "    (\"d\", \"b\", {\"s\": \"u\"}),\n",
    "    (\"d\", \"c\"),\n",
    "    (\"e\", \"f\", {\"s\": \"p\"}),\n",
    "    (\"g\", \"f\", {\"s\": \"u\"}),\n",
    "    (\"h\", \"i\"),\n",
    "    (\"i\", \"h\"),\n",
    "    (\"j\", \"h\", {\"act\": {1}}),\n",
    "    (\"j\", \"i\", {\"act\": {2}}),\n",
    "    (\"k\", \"l\"),\n",
    "    (\"l\", \"k\"),\n",
    "    (\"l\", \"m\"),\n",
    "    (\"m\", \"l\"),\n",
    "    (\"k\", \"m\"),\n",
    "    (\"m\", \"k\"),\n",
    "    (\"e\", \"b\", {\"s\": \"u\"})\n",
    "    ]\n",
    "g.add_nodes_from(nodes)\n",
    "g.add_edges_from(edges)"
   ]
  },
  {
   "cell_type": "markdown",
   "metadata": {},
   "source": [
    "#### Cypher query for cloning (IgnoreNaming=True)"
   ]
  },
  {
   "cell_type": "code",
   "execution_count": 6,
   "metadata": {},
   "outputs": [
    {
     "name": "stdout",
     "output_type": "stream",
     "text": [
      "Here we ignore pretty naming of new clones\n",
      "\n",
      "MATCH (x:node { id : 'a' })\n",
      "WITH [] as sucIgnore, [] as predIgnore, x \n",
      "// match successors and out-edges of a node to be cloned\n",
      "OPTIONAL MATCH (x)-[out_edge:edge]->(suc) \n",
      "WHERE NOT suc.id IS NULL AND NOT suc.id IN sucIgnore\n",
      "WITH collect({neighbor: suc, edge: out_edge}) as suc_maps, predIgnore, x \n",
      "// match predecessors and in-edges of a node to be cloned\n",
      "OPTIONAL MATCH (pred)-[in_edge:edge]->(x) \n",
      "WHERE NOT pred.id IS NULL AND NOT pred.id IN predIgnore\n",
      "WITH collect({neighbor: pred, edge: in_edge}) as pred_maps, x, suc_maps \n",
      "// create a node corresponding to the clone\n",
      "CREATE (new_node:node) \n",
      "WITH new_node, toString(id(new_node)) as uid, x.id as original_old, x, suc_maps, pred_maps \n",
      "// set the id property of the original node to NULL\n",
      "SET x.id = NULL\n",
      "// copy all the properties of the original node to the clone\n",
      "SET new_node = x\n",
      "// set id property of the clone to neo4j-generated id\n",
      "SET new_node.id = toString(id(new_node)), new_node.count = NULL\n",
      "// set back the id property of the original node\n",
      "SET x.id = original_old\n",
      "WITH new_node, toString(id(new_node)) as uid, x, suc_maps, pred_maps \n",
      "// copy all incident edges of the original node to the clone\n",
      "FOREACH (suc_map IN suc_maps | \n",
      "\tFOREACH (suc IN CASE WHEN suc_map.neighbor IS NOT NULL THEN [suc_map.neighbor] ELSE [] END |\n",
      "\t\tMERGE (new_node)-[new_edge:edge]->(suc) \n",
      "\t\tSET new_edge = suc_map.edge))\n",
      "FOREACH (pred_map IN pred_maps | \n",
      "\tFOREACH (pred IN CASE WHEN pred_map.neighbor IS NOT NULL THEN [pred_map.neighbor] ELSE [] END |\n",
      "\t\tMERGE (pred)-[new_edge:edge]->(new_node) \n",
      "\t\tSET new_edge = pred_map.edge))\n",
      "RETURN uid\n",
      "\n",
      "Created clone by the name:  828\n",
      "Properties of the resulting node: \n",
      "{'name': ['EGFR'], 'id': '828', 'state': ['p']}\n",
      "Properties of incident edges are also cloned, e.g: \n",
      "{'s': ['p']}\n"
     ]
    }
   ],
   "source": [
    "print(\"Here we ignore pretty naming of new clones\\n\")\n",
    "clone2_res = g.clone_node('a', ignore_naming=True)\n",
    "print(\"Created clone by the name: \", clone2_res)\n",
    "print(\"Properties of the resulting node: \")\n",
    "print(g.get_node(clone2_res))\n",
    "print(\"Properties of incident edges are also cloned, e.g: \")\n",
    "print(g.get_edge(clone2_res, 'b'))"
   ]
  },
  {
   "cell_type": "markdown",
   "metadata": {},
   "source": [
    "#### Cypher query for cloning"
   ]
  },
  {
   "cell_type": "code",
   "execution_count": 7,
   "metadata": {},
   "outputs": [
    {
     "name": "stdout",
     "output_type": "stream",
     "text": [
      "MATCH (x:node { id : 'a' })\n",
      "WITH [] as sucIgnore, [] as predIgnore, x \n",
      "// match successors and out-edges of a node to be cloned\n",
      "OPTIONAL MATCH (x)-[out_edge:edge]->(suc) \n",
      "WHERE NOT suc.id IS NULL AND NOT suc.id IN sucIgnore\n",
      "WITH collect({neighbor: suc, edge: out_edge}) as suc_maps, predIgnore, x \n",
      "// match predecessors and in-edges of a node to be cloned\n",
      "OPTIONAL MATCH (pred)-[in_edge:edge]->(x) \n",
      "WHERE NOT pred.id IS NULL AND NOT pred.id IN predIgnore\n",
      "WITH collect({neighbor: pred, edge: in_edge}) as pred_maps, x, suc_maps \n",
      "// search for a node with the same id as the clone id\n",
      "OPTIONAL MATCH (same_id_node:node { id : 'a'}) \n",
      "WITH same_id_node,  CASE WHEN same_id_node IS NOT NULL THEN (coalesce(same_id_node.count, 0) + 1) ELSE 0 END AS same_id_node_new_count, x, suc_maps, pred_maps\n",
      "// generate new id if the same id node was found\n",
      "// and filter edges which will be removed \n",
      "WITH same_id_node, same_id_node_new_count, 'a' + CASE WHEN same_id_node_new_count <> 0 THEN toString(same_id_node_new_count) ELSE '' END as uid, x, suc_maps, pred_maps\n",
      "// create a node corresponding to the clone\n",
      "CREATE (new_node:node) \n",
      "WITH same_id_node, same_id_node_new_count, new_node, uid, x.id as original_old, x, suc_maps, pred_maps\n",
      "// set the id property of the original node to NULL\n",
      "SET x.id = NULL\n",
      "// copy all the properties of the original node to the clone\n",
      "SET new_node = x\n",
      "// set id property of the clone to the generated id\n",
      "SET new_node.id = uid, new_node.count = NULL, same_id_node.count = same_id_node_new_count + 1\n",
      "// set back the id property of the original node\n",
      "SET x.id = original_old\n",
      "// copy all incident edges of the original node to the clone\n",
      "FOREACH (suc_map IN suc_maps | \n",
      "\tFOREACH (suc IN CASE WHEN suc_map.neighbor IS NOT NULL THEN [suc_map.neighbor] ELSE [] END |\n",
      "\t\tMERGE (new_node)-[new_edge:edge]->(suc) \n",
      "\t\tSET new_edge = suc_map.edge))\n",
      "FOREACH (pred_map IN pred_maps | \n",
      "\tFOREACH (pred IN CASE WHEN pred_map.neighbor IS NOT NULL THEN [pred_map.neighbor] ELSE [] END |\n",
      "\t\tMERGE (pred)-[new_edge:edge]->(new_node) \n",
      "\t\tSET new_edge = pred_map.edge))\n",
      "RETURN uid\n",
      "\n",
      "Created clone by the name:  a1\n",
      "Properties of the resulting node: \n",
      "{'name': ['EGFR'], 'id': 'a1', 'state': ['p']}\n",
      "Properties of incident edges are also cloned, e.g: \n",
      "{'s': ['p']}\n"
     ]
    }
   ],
   "source": [
    "clone1_res = g.clone_node('a')\n",
    "print(\"Created clone by the name: \", clone1_res)\n",
    "print(\"Properties of the resulting node: \")\n",
    "print(g.get_node(clone1_res))\n",
    "print(\"Properties of incident edges are also cloned, e.g: \")\n",
    "print(g.get_edge(clone1_res, 'b'))"
   ]
  },
  {
   "cell_type": "code",
   "execution_count": null,
   "metadata": {},
   "outputs": [],
   "source": []
  },
  {
   "cell_type": "markdown",
   "metadata": {},
   "source": [
    "### Profiling clone query"
   ]
  },
  {
   "cell_type": "code",
   "execution_count": 5,
   "metadata": {},
   "outputs": [
    {
     "name": "stdout",
     "output_type": "stream",
     "text": [
      "<neo4j.v1.result.BoltStatementResultSummary object at 0x000002A18191E358>\n"
     ]
    }
   ],
   "source": [
    "node = \"a\"\n",
    "query = \"PROFILE\\n\" +\\\n",
    "        match_node('x', node) +\\\n",
    "        cloning_query(\n",
    "            original_var='x',\n",
    "            clone_var='new_node',\n",
    "            clone_id=node,\n",
    "            clone_id_var='uid',\n",
    "            ignore_naming=True)[0] +\\\n",
    "        return_vars(['uid'])\n",
    "#print(query)\n",
    "res = g.execute(query).summary()\n",
    "print(res)"
   ]
  },
  {
   "cell_type": "raw",
   "metadata": {},
   "source": []
  },
  {
   "cell_type": "code",
   "execution_count": null,
   "metadata": {},
   "outputs": [],
   "source": []
  },
  {
   "cell_type": "code",
   "execution_count": null,
   "metadata": {},
   "outputs": [],
   "source": []
  },
  {
   "cell_type": "code",
   "execution_count": null,
   "metadata": {},
   "outputs": [],
   "source": []
  },
  {
   "cell_type": "code",
   "execution_count": null,
   "metadata": {},
   "outputs": [],
   "source": []
  },
  {
   "cell_type": "markdown",
   "metadata": {},
   "source": [
    "#### Time to match a node with its id"
   ]
  },
  {
   "cell_type": "code",
   "execution_count": 5,
   "metadata": {},
   "outputs": [
    {
     "name": "stdout",
     "output_type": "stream",
     "text": [
      "0\n"
     ]
    }
   ],
   "source": [
    "node = \"a\"\n",
    "query = match_node(node, node) + return_vars(node)\n",
    "print(g.execution_time(query))"
   ]
  },
  {
   "cell_type": "markdown",
   "metadata": {},
   "source": [
    "#### Time to add a node"
   ]
  },
  {
   "cell_type": "code",
   "execution_count": 10,
   "metadata": {},
   "outputs": [
    {
     "name": "stdout",
     "output_type": "stream",
     "text": [
      "1\n"
     ]
    }
   ],
   "source": [
    "node = \"x\"\n",
    "attrs = {\"act\": {1}}\n",
    "normalize_attrs(attrs)\n",
    "query = create_node(node, node, 'new_id', attrs)[0]\n",
    "print(g.execution_time(query))"
   ]
  },
  {
   "cell_type": "markdown",
   "metadata": {},
   "source": [
    "#### Time to remove a node"
   ]
  },
  {
   "cell_type": "code",
   "execution_count": 11,
   "metadata": {},
   "outputs": [
    {
     "name": "stdout",
     "output_type": "stream",
     "text": [
      "1\n"
     ]
    }
   ],
   "source": [
    "node = \"x\"\n",
    "query = match_node(node, node) + delete_nodes_var(node)\n",
    "print(g.execution_time(query))"
   ]
  },
  {
   "cell_type": "markdown",
   "metadata": {},
   "source": [
    "#### Time to add an edge"
   ]
  },
  {
   "cell_type": "code",
   "execution_count": 15,
   "metadata": {},
   "outputs": [
    {
     "name": "stdout",
     "output_type": "stream",
     "text": [
      "0\n"
     ]
    }
   ],
   "source": [
    "source = \"a\"\n",
    "target = \"c\"\n",
    "attrs = {\"act\": {1}}\n",
    "normalize_attrs(attrs)\n",
    "query = match_nodes({\n",
    "            source: source,\n",
    "            target: target\n",
    "        })\n",
    "query += create_edge(source, target, attrs)\n",
    "print(g.execution_time(query))"
   ]
  },
  {
   "cell_type": "markdown",
   "metadata": {},
   "source": [
    "#### Time to delete an edge"
   ]
  },
  {
   "cell_type": "code",
   "execution_count": 16,
   "metadata": {},
   "outputs": [
    {
     "name": "stdout",
     "output_type": "stream",
     "text": [
      "0\n"
     ]
    }
   ],
   "source": [
    "source = \"a\"\n",
    "target = \"c\"\n",
    "query = match_edge(source, target, source, target, 'r') \n",
    "query += delete_edge_var('r')\n",
    "print(g.execution_time(query))"
   ]
  },
  {
   "cell_type": "markdown",
   "metadata": {},
   "source": [
    "#### Time to clone a node"
   ]
  },
  {
   "cell_type": "code",
   "execution_count": 18,
   "metadata": {},
   "outputs": [
    {
     "name": "stdout",
     "output_type": "stream",
     "text": [
      "125\n"
     ]
    }
   ],
   "source": [
    "node = \"a\"\n",
    "clone = \"a_clone\"\n",
    "query =\\\n",
    "            match_node('x', node) +\\\n",
    "            cloning_query(\n",
    "                original_var='x',\n",
    "                clone_var='new_node',\n",
    "                clone_id=clone,\n",
    "                clone_id_var='uid')[0] +\\\n",
    "            return_vars(['uid'])\n",
    "print(g.execution_time(query))"
   ]
  },
  {
   "cell_type": "code",
   "execution_count": null,
   "metadata": {},
   "outputs": [],
   "source": []
  },
  {
   "cell_type": "code",
   "execution_count": null,
   "metadata": {},
   "outputs": [],
   "source": []
  },
  {
   "cell_type": "code",
   "execution_count": null,
   "metadata": {},
   "outputs": [],
   "source": []
  },
  {
   "cell_type": "code",
   "execution_count": null,
   "metadata": {},
   "outputs": [],
   "source": []
  },
  {
   "cell_type": "code",
   "execution_count": null,
   "metadata": {},
   "outputs": [],
   "source": []
  },
  {
   "cell_type": "code",
   "execution_count": null,
   "metadata": {},
   "outputs": [],
   "source": []
  }
 ],
 "metadata": {
  "kernelspec": {
   "display_name": "Python 3",
   "language": "python",
   "name": "python3"
  },
  "language_info": {
   "codemirror_mode": {
    "name": "ipython",
    "version": 3
   },
   "file_extension": ".py",
   "mimetype": "text/x-python",
   "name": "python",
   "nbconvert_exporter": "python",
   "pygments_lexer": "ipython3",
   "version": "3.6.5"
  }
 },
 "nbformat": 4,
 "nbformat_minor": 2
}
