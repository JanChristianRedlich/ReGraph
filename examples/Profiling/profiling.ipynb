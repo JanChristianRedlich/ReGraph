{
 "cells": [
  {
   "cell_type": "code",
   "execution_count": 307,
   "metadata": {
    "collapsed": true
   },
   "outputs": [],
   "source": [
    "import networkx as nx\n",
    "\n",
    "from regraph import Rule, plot_rule\n",
    "from regraph.default.utils import keys_by_value, normalize_attrs\n",
    "from regraph.neo4j.graphs import Neo4jGraph\n",
    "from regraph.neo4j.cypher_utils import *\n",
    "\n",
    "import profiling_utils"
   ]
  },
  {
   "cell_type": "code",
   "execution_count": 308,
   "metadata": {
    "collapsed": true
   },
   "outputs": [],
   "source": [
    "import importlib"
   ]
  },
  {
   "cell_type": "code",
   "execution_count": 309,
   "metadata": {},
   "outputs": [
    {
     "data": {
      "text/plain": [
       "<module 'profiling_utils' from '/home/eugenia/ReGraph/examples/Profiling/profiling_utils.py'>"
      ]
     },
     "execution_count": 309,
     "metadata": {},
     "output_type": "execute_result"
    }
   ],
   "source": [
    "importlib.reload(profiling_utils)"
   ]
  },
  {
   "cell_type": "code",
   "execution_count": 310,
   "metadata": {},
   "outputs": [],
   "source": [
    "# initialize the neo4j driver, wrappped into Neo4jGraph object\n",
    "g = Neo4jGraph(uri=\"bolt://localhost:7687\", user=\"neo4j\", password=\"admin\")"
   ]
  },
  {
   "cell_type": "code",
   "execution_count": 311,
   "metadata": {
    "collapsed": true
   },
   "outputs": [],
   "source": [
    "# here we clear the db\n",
    "res = g.clear()"
   ]
  },
  {
   "cell_type": "code",
   "execution_count": 312,
   "metadata": {
    "collapsed": true
   },
   "outputs": [],
   "source": [
    "nodes = [\n",
    "    (\"a\", {\"name\": \"EGFR\", \"state\": \"p\"}),\n",
    "    (\"b\", {\"name\": \"BND\"}),\n",
    "    (\"c\", {\"name\": \"Grb2\", \"aa\": \"S\", \"loc\": 90}),\n",
    "    (\"d\", {\"name\": \"SH2\"}),\n",
    "    (\"e\", {\"name\": \"EGFR\"}),\n",
    "    (\"f\", {\"name\": \"BND\"}),\n",
    "    (\"g\", {\"name\": \"Grb2\"}),\n",
    "    (\"h\", {\"name\": \"WAF1\"}),\n",
    "    (\"i\", {\"name\": \"BND\"}),\n",
    "    (\"j\", {\"name\": \"G1-S/CDK\", \"state\": \"p\"}),\n",
    "    \"k\", \"l\", \"m\"\n",
    "    ]\n",
    "edges = [\n",
    "    (\"a\", \"b\", {\"s\": \"p\"}),\n",
    "    (\"d\", \"b\", {\"s\": \"u\"}),\n",
    "    (\"d\", \"c\"),\n",
    "    (\"e\", \"f\", {\"s\": \"p\"}),\n",
    "    (\"g\", \"f\", {\"s\": \"u\"}),\n",
    "    (\"h\", \"i\"),\n",
    "    (\"i\", \"h\"),\n",
    "    (\"j\", \"h\", {\"act\": {1}}),\n",
    "    (\"j\", \"i\", {\"act\": {2}}),\n",
    "    (\"k\", \"l\"),\n",
    "    (\"l\", \"k\"),\n",
    "    (\"l\", \"m\"),\n",
    "    (\"m\", \"l\"),\n",
    "    (\"k\", \"m\"),\n",
    "    (\"m\", \"k\"),\n",
    "    (\"e\", \"b\", {\"s\": \"u\"})\n",
    "    ]\n",
    "g.add_nodes_from(nodes)\n",
    "g.add_edges_from(edges)"
   ]
  },
  {
   "cell_type": "markdown",
   "metadata": {},
   "source": [
    "### Profiling clone query"
   ]
  },
  {
   "cell_type": "code",
   "execution_count": 313,
   "metadata": {
    "collapsed": true
   },
   "outputs": [],
   "source": [
    "# "
   ]
  },
  {
   "cell_type": "code",
   "execution_count": 315,
   "metadata": {
    "scrolled": true
   },
   "outputs": [
    {
     "name": "stdout",
     "output_type": "stream",
     "text": [
      "PROFILE\n",
      "MATCH (x:node { id : 'a' })\n",
      "WITH [] as sucIgnore, [] as predIgnore, x \n",
      "// match successors and out-edges of a node to be cloned\n",
      "OPTIONAL MATCH (x)-[out_edge:edge]->(suc) \n",
      "WHERE NOT suc.id IS NULL AND NOT suc.id IN sucIgnore\n",
      "WITH collect({neighbor: suc, edge: out_edge}) as suc_maps, predIgnore, x \n",
      "// match predecessors and in-edges of a node to be cloned\n",
      "OPTIONAL MATCH (pred)-[in_edge:edge]->(x) \n",
      "WHERE NOT pred.id IS NULL AND NOT pred.id IN predIgnore\n",
      "WITH collect({neighbor: pred, edge: in_edge}) as pred_maps, suc_maps, x \n",
      "// create a node corresponding to the clone\n",
      "CREATE (new_node:node) \n",
      "WITH new_node, toString(id(new_node)) as uid, x.id as original_old, suc_maps, pred_maps, x \n",
      "// set the id property of the original node to NULL\n",
      "SET x.id = NULL\n",
      "// copy all the properties of the original node to the clone\n",
      "SET new_node = x\n",
      "// set id property of the clone to neo4j-generated id\n",
      "SET new_node.id = toString(id(new_node)), new_node.count = NULL\n",
      "// set back the id property of the original node\n",
      "SET x.id = original_old\n",
      "WITH new_node, toString(id(new_node)) as uid, suc_maps, pred_maps, x \n",
      "// copy all incident edges of the original node to the clone\n",
      "FOREACH (suc_map IN suc_maps | \n",
      "\tFOREACH (suc IN CASE WHEN suc_map.neighbor IS NOT NULL THEN [suc_map.neighbor] ELSE [] END |\n",
      "\t\tMERGE (new_node)-[new_edge:edge]->(suc) \n",
      "\t\tSET new_edge = suc_map.edge))\n",
      "FOREACH (pred_map IN pred_maps | \n",
      "\tFOREACH (pred IN CASE WHEN pred_map.neighbor IS NOT NULL THEN [pred_map.neighbor] ELSE [] END |\n",
      "\t\tMERGE (pred)-[new_edge:edge]->(new_node) \n",
      "\t\tSET new_edge = pred_map.edge))\n",
      "RETURN uid\n",
      "\n"
     ]
    }
   ],
   "source": [
    "node = \"a\"\n",
    "query = \"PROFILE\\n\" +\\\n",
    "        match_node('x', node) +\\\n",
    "        cloning_query(\n",
    "            original_var='x',\n",
    "            clone_var='new_node',\n",
    "            clone_id=node,\n",
    "            clone_id_var='uid',\n",
    "            ignore_naming=True)[0] +\\\n",
    "        return_vars(['uid'])\n",
    "print(query)\n",
    "res = g.execute(query).summary()"
   ]
  },
  {
   "cell_type": "code",
   "execution_count": 316,
   "metadata": {},
   "outputs": [
    {
     "data": {
      "text/plain": [
       "42"
      ]
     },
     "execution_count": 316,
     "metadata": {},
     "output_type": "execute_result"
    }
   ],
   "source": [
    "profiling_utils.total_db_hits(res.profile)"
   ]
  },
  {
   "cell_type": "code",
   "execution_count": null,
   "metadata": {
    "collapsed": true
   },
   "outputs": [],
   "source": []
  },
  {
   "cell_type": "code",
   "execution_count": 259,
   "metadata": {},
   "outputs": [
    {
     "data": {
      "text/plain": [
       "0"
      ]
     },
     "execution_count": 259,
     "metadata": {},
     "output_type": "execute_result"
    }
   ],
   "source": [
    "p.db_hits"
   ]
  },
  {
   "cell_type": "code",
   "execution_count": 260,
   "metadata": {
    "collapsed": true
   },
   "outputs": [],
   "source": [
    "i = p.index"
   ]
  },
  {
   "cell_type": "code",
   "execution_count": 261,
   "metadata": {},
   "outputs": [
    {
     "name": "stdout",
     "output_type": "stream",
     "text": [
      "<built-in method index of ProfiledPlan object at 0x7f8886604b40>\n"
     ]
    }
   ],
   "source": [
    "print(i)"
   ]
  },
  {
   "cell_type": "code",
   "execution_count": 262,
   "metadata": {},
   "outputs": [
    {
     "name": "stdout",
     "output_type": "stream",
     "text": [
      "16\n"
     ]
    }
   ],
   "source": [
    "print(res.result_available_after + res.result_consumed_after)"
   ]
  },
  {
   "cell_type": "markdown",
   "metadata": {},
   "source": [
    "### Profiling merge queries (APOC)"
   ]
  },
  {
   "cell_type": "code",
   "execution_count": 263,
   "metadata": {},
   "outputs": [
    {
     "name": "stdout",
     "output_type": "stream",
     "text": [
      "PROFILE\n",
      "MATCH (a:node { id : 'a'}), (b:node { id : 'b'}) \n",
      "// use the APOC procedure 'apoc.refactor.mergeNodes' to merge nodes\n",
      "CALL apoc.refactor.mergeNodes([a, b], {properties: 'combine'})\n",
      "YIELD node as merged_node\n",
      "// set appropriate node id\n",
      "SET merged_node.id = toString(id(merged_node))\n",
      "SET merged_node.count = NULL\n",
      "WITH toString(id(merged_node)) as new_id, merged_node\n",
      "// find and merge multiple relations resulting from the node merge\n",
      "OPTIONAL MATCH (merged_node)-[out_rel:edge]->(suc)\n",
      "WITH collect({neighbor: suc, edge: out_rel}) as suc_maps, merged_node, new_id\n",
      "OPTIONAL MATCH (pred)-[in_rel:edge]->(merged_node)\n",
      "WHERE pred.id <> merged_node.id\n",
      "WITH collect({neighbor: pred, edge: in_rel}) as pred_maps, suc_maps, merged_node, new_id\n",
      "WITH apoc.map.groupByMulti(suc_maps, 'neighbor') as suc_maps, apoc.map.groupByMulti(pred_maps, 'neighbor') as pred_maps, merged_node, new_id\n",
      "WITH REDUCE(edges=[],  k in filter(k in keys(suc_maps) WHERE length(suc_maps[k]) > 1 ) | \n",
      "\tedges + [suc_maps[k]]) + \n",
      "\tREDUCE(edges=[],  k in filter(k in keys(pred_maps) WHERE length(pred_maps[k]) > 1)| \n",
      "\t\tedges + [pred_maps[k]]) as all_merge_edges, merged_node, new_id\n",
      "UNWIND all_merge_edges as edge_list\n",
      "\tCALL apoc.refactor.mergeRelationships(\n",
      "\t\tREDUCE(rels=[], el in edge_list | rels + el['edge']),  {properties: 'combine'})\n",
      "\tYIELD rel\n",
      "RETURN new_id\n",
      "\n"
     ]
    }
   ],
   "source": [
    "n1 = \"a\"\n",
    "n2 = \"b\"\n",
    "name = \"a_b\"\n",
    "node_list = [n1, n2]\n",
    "\n",
    "query =\"PROFILE\\n\" +\\\n",
    "        match_nodes({n: n for n in node_list}) + \"\\n\" +\\\n",
    "        merging_query(\n",
    "            original_vars=node_list,\n",
    "            merged_var='merged_node',\n",
    "            merged_id=name,\n",
    "            merged_id_var='new_id',\n",
    "            ignore_naming=True)[0] +\\\n",
    "        return_vars(['new_id'])\n",
    "print(query)\n",
    "res = g.execute(query).summary()"
   ]
  },
  {
   "cell_type": "code",
   "execution_count": 264,
   "metadata": {},
   "outputs": [
    {
     "name": "stdout",
     "output_type": "stream",
     "text": [
      "['a']\n"
     ]
    },
    {
     "data": {
      "text/plain": [
       "8"
      ]
     },
     "execution_count": 264,
     "metadata": {},
     "output_type": "execute_result"
    }
   ],
   "source": [
    "profiling_utils.number_of_DbHits(res.profile)"
   ]
  },
  {
   "cell_type": "code",
   "execution_count": 265,
   "metadata": {},
   "outputs": [
    {
     "name": "stdout",
     "output_type": "stream",
     "text": [
      "410\n"
     ]
    }
   ],
   "source": [
    "print(res.result_available_after + res.result_consumed_after)"
   ]
  },
  {
   "cell_type": "markdown",
   "metadata": {},
   "source": [
    "### Profiling merge queries"
   ]
  },
  {
   "cell_type": "code",
   "execution_count": 266,
   "metadata": {},
   "outputs": [
    {
     "name": "stdout",
     "output_type": "stream",
     "text": [
      "PROFILE\n",
      "MATCH (c:node { id : 'c'}), (g:node { id : 'g'}) \n",
      "// accumulate all the attrs of the nodes to be merged\n",
      "WITH [] as new_props, c, g\n",
      "WITH new_props + REDUCE(pairs = [], k in keys(c) | \n",
      "\tpairs + REDUCE(inner_pairs = [], v in c[k] | \n",
      "\t\tinner_pairs + {key: k, value: v})) as new_props, c, g\n",
      "WITH new_props + REDUCE(pairs = [], k in keys(g) | \n",
      "\tpairs + REDUCE(inner_pairs = [], v in g[k] | \n",
      "\t\tinner_pairs + {key: k, value: v})) as new_props, c, g\n",
      "WITH apoc.map.groupByMulti(new_props, 'key') as new_props, c, g\n",
      "WITH apoc.map.fromValues(REDUCE(pairs=[], k in keys(new_props) | \n",
      "\tpairs + [k, REDUCE(values=[], v in new_props[k] | \n",
      "\t\tvalues + CASE WHEN v.value IN values THEN [] ELSE v.value END)])) as new_props, c, g\n",
      "SET c = new_props\n",
      "WITH c as merged_node, g\n",
      "// set appropriate node id\n",
      "SET merged_node.id = toString(id(merged_node))\n",
      "SET merged_node.count = NULL\n",
      "WITH toString(id(merged_node)) as new_id, g, merged_node\n",
      "// accumulate all the attrs of the edges incident to the merged nodes\n",
      "WITH [] as suc_maps, [] as pred_maps, \t[toString(id(g)), toString(id(merged_node))] as self_loops, g, new_id, merged_node\n",
      "OPTIONAL MATCH (merged_node)-[out_rel:edge]->(suc)\n",
      "WITH suc_maps + collect({id: id(suc), neighbor: suc, edge: out_rel}) as suc_maps, pred_maps, merged_node, new_id, self_loops, g\n",
      "OPTIONAL MATCH (pred)-[in_rel:edge]->(merged_node)\n",
      "WITH pred_maps + collect({id: id(pred), neighbor: pred, edge: in_rel}) as pred_maps, suc_maps, merged_node, new_id, self_loops, g\n",
      "OPTIONAL MATCH (g)-[out_rel:edge]->(suc)\n",
      "WITH suc_maps + collect({id: id(suc), neighbor: suc, edge: out_rel}) as suc_maps, pred_maps, merged_node, new_id, self_loops, g\n",
      "OPTIONAL MATCH (pred)-[in_rel:edge]->(g)\n",
      "WITH pred_maps + collect({id: id(pred), neighbor: pred, edge: in_rel}) as pred_maps, suc_maps, merged_node, new_id, self_loops, g\n",
      "WITH apoc.map.groupByMulti(suc_maps, 'id') as suc_props, REDUCE(list=[], map in suc_maps | \n",
      "\tlist + map['neighbor']) as suc_nodes, apoc.map.groupByMulti(pred_maps, 'id') as pred_props, REDUCE(list=[], map in pred_maps | \n",
      "\tlist + map['neighbor']) as pred_nodes, merged_node, new_id, self_loops, g\n",
      "WITH suc_nodes, pred_nodes, apoc.map.fromValues(REDUCE(edge_props=[], k in keys(suc_props) | \n",
      "\tedge_props + [k, apoc.map.groupByMulti(REDUCE(props=[], el in suc_props[k] | \n",
      "\t\tprops + REDUCE(pairs=[], kk in keys(el['edge']) | \n",
      "\t\t\tpairs + REDUCE(values=[], v in el['edge'][kk] | \n",
      "\t\t\t\tvalues + {key: kk, value: v}))), 'key')])) as suc_props, \n",
      "\tapoc.map.fromValues(REDUCE(edge_props=[], k in keys(pred_props) | \n",
      "\tedge_props + [k, apoc.map.groupByMulti(REDUCE(props=[], el in pred_props[k] | \n",
      "\t\tprops + REDUCE(pairs=[], kk in keys(el['edge']) | \n",
      "\t\t\tpairs + REDUCE(values=[], v in el['edge'][kk] | \n",
      "\t\t\t\t values + {key: kk, value: v}))), 'key')])) as pred_props,  \n",
      "\tREDUCE(edge_props=[], k IN filter(k IN keys(suc_props) WHERE k IN self_loops) |\n",
      "\t\tedge_props + suc_props[k]) + \n",
      "\tREDUCE(edge_props=[], k IN filter(k IN keys(pred_props) WHERE k IN self_loops) |\n",
      "\t\tedge_props + pred_props[k]) as self_loop_props, merged_node, new_id, self_loops, g\n",
      "WITH suc_nodes, suc_props, pred_nodes, pred_props, apoc.map.groupByMulti(REDUCE(pairs=[], el in self_loop_props |\n",
      "\tpairs + REDUCE(inner_pairs=[], k in keys(el['edge']) | \n",
      "\t\tinner_pairs + REDUCE(values=[], v in el['edge'][k] |\n",
      "\t\t\tvalues + {key: k, value: v}))), 'key') as self_loop_props, merged_node, new_id, self_loops, g\n",
      "FOREACH(suc IN filter(suc IN suc_nodes WHERE NOT id(suc) in self_loops) |\n",
      "\tMERGE (merged_node)-[new_rel:edge]->(suc)\n",
      "\tSET new_rel = apoc.map.fromValues(REDUCE(pairs=[], k in keys(suc_props[toString(id(suc))]) | \n",
      "\t\t pairs + [k, REDUCE(values=[], v in suc_props[toString(id(suc))][k] | \n",
      "\t\t\tvalues + CASE WHEN v.value IN values THEN [] ELSE v.value END)])))\n",
      "FOREACH(pred IN filter(pred IN pred_nodes WHERE NOT id(pred) in self_loops) |\n",
      "\tMERGE (pred)-[new_rel:edge]->(merged_node)\n",
      "\tSET new_rel = apoc.map.fromValues(REDUCE(pairs=[], k in keys(pred_props[toString(id(pred))]) | \n",
      "\t\t pairs + [k, REDUCE(values=[], v in pred_props[toString(id(pred))][k] | \n",
      "\t\t\tvalues + CASE WHEN v.value IN values THEN [] ELSE v.value END)])))\n",
      "// add self loop \n",
      "FOREACH(dummy in CASE WHEN length(self_loops) > 0 THEN [NULL] ELSE [] END |\n",
      "\tMERGE (merged_node)-[new_rel:edge]->(merged_node)\n",
      "\tSET new_rel = apoc.map.fromValues(REDUCE(pairs=[], k in keys(self_loop_props) |\n",
      "\t\tpairs + [k, REDUCE(values=[], v in self_loop_props[k] |\n",
      "\t\t\tvalues + CASE WHEN v.value IN values THEN [] ELSE v.value END)])))\n",
      "DETACH DELETE (g)\n",
      "RETURN new_id\n",
      "\n"
     ]
    }
   ],
   "source": [
    "n1 = \"c\"\n",
    "n2 = \"g\"\n",
    "name = \"c_g\"\n",
    "node_list = [n1, n2]\n",
    "\n",
    "query =\"PROFILE\\n\" +\\\n",
    "        match_nodes({n: n for n in node_list}) + \"\\n\" +\\\n",
    "        merging_query1(\n",
    "            original_vars=node_list,\n",
    "            merged_var='merged_node',\n",
    "            merged_id=name,\n",
    "            merged_id_var='new_id',\n",
    "            ignore_naming=True)[0] +\\\n",
    "        return_vars(['new_id'])\n",
    "print(query)\n",
    "res = g.execute(query).summary()"
   ]
  },
  {
   "cell_type": "code",
   "execution_count": 267,
   "metadata": {},
   "outputs": [
    {
     "ename": "NameError",
     "evalue": "name 'number_of_DbHits' is not defined",
     "output_type": "error",
     "traceback": [
      "\u001b[0;31m---------------------------------------------------------------------------\u001b[0m",
      "\u001b[0;31mNameError\u001b[0m                                 Traceback (most recent call last)",
      "\u001b[0;32m<ipython-input-267-7efdd339ad7c>\u001b[0m in \u001b[0;36m<module>\u001b[0;34m()\u001b[0m\n\u001b[0;32m----> 1\u001b[0;31m \u001b[0mnumber_of_DbHits\u001b[0m\u001b[0;34m(\u001b[0m\u001b[0mres\u001b[0m\u001b[0;34m.\u001b[0m\u001b[0mprofile\u001b[0m\u001b[0;34m)\u001b[0m\u001b[0;34m\u001b[0m\u001b[0m\n\u001b[0m",
      "\u001b[0;31mNameError\u001b[0m: name 'number_of_DbHits' is not defined"
     ]
    }
   ],
   "source": [
    "number_of_DbHits(res.profile)"
   ]
  },
  {
   "cell_type": "code",
   "execution_count": null,
   "metadata": {
    "collapsed": true
   },
   "outputs": [],
   "source": [
    "print(res.result_available_after + res.result_consumed_after)"
   ]
  },
  {
   "cell_type": "code",
   "execution_count": null,
   "metadata": {
    "collapsed": true
   },
   "outputs": [],
   "source": []
  },
  {
   "cell_type": "code",
   "execution_count": null,
   "metadata": {
    "collapsed": true
   },
   "outputs": [],
   "source": []
  },
  {
   "cell_type": "code",
   "execution_count": null,
   "metadata": {
    "collapsed": true
   },
   "outputs": [],
   "source": []
  },
  {
   "cell_type": "markdown",
   "metadata": {},
   "source": [
    "#### Time to match a node with its id"
   ]
  },
  {
   "cell_type": "code",
   "execution_count": null,
   "metadata": {
    "collapsed": true
   },
   "outputs": [],
   "source": [
    "node = \"a\"\n",
    "query = match_node(node, node) + return_vars(node)\n",
    "print(g.execution_time(query))"
   ]
  },
  {
   "cell_type": "markdown",
   "metadata": {},
   "source": [
    "#### Time to add a node"
   ]
  },
  {
   "cell_type": "code",
   "execution_count": null,
   "metadata": {
    "collapsed": true
   },
   "outputs": [],
   "source": [
    "node = \"x\"\n",
    "attrs = {\"act\": {1}}\n",
    "normalize_attrs(attrs)\n",
    "query = create_node(node, node, 'new_id', attrs)[0]\n",
    "print(g.execution_time(query))"
   ]
  },
  {
   "cell_type": "markdown",
   "metadata": {},
   "source": [
    "#### Time to remove a node"
   ]
  },
  {
   "cell_type": "code",
   "execution_count": null,
   "metadata": {
    "collapsed": true
   },
   "outputs": [],
   "source": [
    "node = \"x\"\n",
    "query = match_node(node, node) + delete_nodes_var(node)\n",
    "print(g.execution_time(query))"
   ]
  },
  {
   "cell_type": "markdown",
   "metadata": {},
   "source": [
    "#### Time to add an edge"
   ]
  },
  {
   "cell_type": "code",
   "execution_count": null,
   "metadata": {
    "collapsed": true
   },
   "outputs": [],
   "source": [
    "source = \"a\"\n",
    "target = \"c\"\n",
    "attrs = {\"act\": {1}}\n",
    "normalize_attrs(attrs)\n",
    "query = match_nodes({\n",
    "            source: source,\n",
    "            target: target\n",
    "        })\n",
    "query += create_edge(source, target, attrs)\n",
    "print(g.execution_time(query))"
   ]
  },
  {
   "cell_type": "markdown",
   "metadata": {},
   "source": [
    "#### Time to delete an edge"
   ]
  },
  {
   "cell_type": "code",
   "execution_count": null,
   "metadata": {
    "collapsed": true
   },
   "outputs": [],
   "source": [
    "source = \"a\"\n",
    "target = \"c\"\n",
    "query = match_edge(source, target, source, target, 'r') \n",
    "query += delete_edge_var('r')\n",
    "print(g.execution_time(query))"
   ]
  },
  {
   "cell_type": "markdown",
   "metadata": {},
   "source": [
    "#### Time to clone a node"
   ]
  },
  {
   "cell_type": "code",
   "execution_count": null,
   "metadata": {
    "collapsed": true
   },
   "outputs": [],
   "source": [
    "node = \"a\"\n",
    "clone = \"a_clone\"\n",
    "query =\\\n",
    "            match_node('x', node) +\\\n",
    "            cloning_query(\n",
    "                original_var='x',\n",
    "                clone_var='new_node',\n",
    "                clone_id=clone,\n",
    "                clone_id_var='uid')[0] +\\\n",
    "            return_vars(['uid'])\n",
    "print(g.execution_time(query))"
   ]
  },
  {
   "cell_type": "code",
   "execution_count": null,
   "metadata": {
    "collapsed": true
   },
   "outputs": [],
   "source": []
  },
  {
   "cell_type": "markdown",
   "metadata": {},
   "source": [
    "#### Cypher query for cloning (IgnoreNaming=True)"
   ]
  },
  {
   "cell_type": "code",
   "execution_count": null,
   "metadata": {
    "collapsed": true
   },
   "outputs": [],
   "source": [
    "print(\"Here we ignore pretty naming of new clones\\n\")\n",
    "clone2_res = g.clone_node('a', ignore_naming=True)\n",
    "print(\"Created clone by the name: \", clone2_res)\n",
    "print(\"Properties of the resulting node: \")\n",
    "print(g.get_node(clone2_res))\n",
    "print(\"Properties of incident edges are also cloned, e.g: \")\n",
    "print(g.get_edge(clone2_res, 'b'))"
   ]
  },
  {
   "cell_type": "markdown",
   "metadata": {},
   "source": [
    "#### Cypher query for cloning"
   ]
  },
  {
   "cell_type": "code",
   "execution_count": null,
   "metadata": {
    "collapsed": true
   },
   "outputs": [],
   "source": [
    "clone1_res = g.clone_node('a')\n",
    "print(\"Created clone by the name: \", clone1_res)\n",
    "print(\"Properties of the resulting node: \")\n",
    "print(g.get_node(clone1_res))\n",
    "print(\"Properties of incident edges are also cloned, e.g: \")\n",
    "print(g.get_edge(clone1_res, 'b'))"
   ]
  },
  {
   "cell_type": "code",
   "execution_count": null,
   "metadata": {
    "collapsed": true
   },
   "outputs": [],
   "source": []
  },
  {
   "cell_type": "code",
   "execution_count": null,
   "metadata": {
    "collapsed": true
   },
   "outputs": [],
   "source": []
  },
  {
   "cell_type": "code",
   "execution_count": null,
   "metadata": {
    "collapsed": true
   },
   "outputs": [],
   "source": []
  }
 ],
 "metadata": {
  "kernelspec": {
   "display_name": "Python 3",
   "language": "python",
   "name": "python3"
  },
  "language_info": {
   "codemirror_mode": {
    "name": "ipython",
    "version": 3
   },
   "file_extension": ".py",
   "mimetype": "text/x-python",
   "name": "python",
   "nbconvert_exporter": "python",
   "pygments_lexer": "ipython3",
   "version": "3.6.3"
  }
 },
 "nbformat": 4,
 "nbformat_minor": 2
}
